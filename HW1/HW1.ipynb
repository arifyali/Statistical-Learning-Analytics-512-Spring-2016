{
 "cells": [
  {
   "cell_type": "markdown",
   "metadata": {},
   "source": [
    "<h1><b>Analytics 512: Homework # 1</b></h1>"
   ]
  },
  {
   "cell_type": "markdown",
   "metadata": {},
   "source": [
    "<h4><p><i>Arif Ali</i></p> \n",
    "<p>January 28th, 2016</p></h4>"
   ]
  },
  {
   "cell_type": "markdown",
   "metadata": {},
   "source": [
    "<h2>Exercise 2.4 #2</h2>\n",
    "<h3>Part A</h3>\n",
    "<p>This is a regression problem because the objective is to figure out how the different explanatory variables affect CEO salary. Salary is not binned into categories, but rather is a number.</p> \n",
    "<p><i>n</i> is the 500 firms since they are the observations and <i>p</i> is profit, number of employees, and industry.</p>\n",
    "<h3>Part B</h3>\n",
    "<p>Since the response variable is binary, this is a classification problem. </p>\n",
    "<p><i>n</i> is the observation of the 20 previous products and <i>p</i> is price charged for the product, marketing budget, competition price, and ten other variables (not the success/failure variable).</p>\n",
    "<h3>Part C</h3>\n",
    "<p>This is a regression problem because the percent change is trying to determine to exact change in percentage.</p>\n",
    "<p><i>n</i> is the number of weeks during 2012 and <i>p</i> the % change in the dollar, the % change in the British market, and the % change in the German market.</p> "
   ]
  },
  {
   "cell_type": "markdown",
   "metadata": {},
   "source": [
    "<h2>Exercise 2.4 #4</h2>"
   ]
  },
  {
   "cell_type": "markdown",
   "metadata": {},
   "source": []
  },
  {
   "cell_type": "markdown",
   "metadata": {},
   "source": []
  },
  {
   "cell_type": "markdown",
   "metadata": {},
   "source": []
  },
  {
   "cell_type": "code",
   "execution_count": null,
   "metadata": {
    "collapsed": true
   },
   "outputs": [],
   "source": []
  }
 ],
 "metadata": {
  "kernelspec": {
   "display_name": "R",
   "language": "R",
   "name": "ir"
  },
  "language_info": {
   "codemirror_mode": "r",
   "file_extension": ".r",
   "mimetype": "text/x-r-source",
   "name": "R",
   "pygments_lexer": "r",
   "version": "3.2.2"
  }
 },
 "nbformat": 4,
 "nbformat_minor": 0
}
