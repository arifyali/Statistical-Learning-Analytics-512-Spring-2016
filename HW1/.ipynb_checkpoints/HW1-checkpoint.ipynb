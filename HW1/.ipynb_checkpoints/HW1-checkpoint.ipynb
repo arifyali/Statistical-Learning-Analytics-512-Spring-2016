{
 "cells": [
  {
   "cell_type": "markdown",
   "metadata": {},
   "source": [
    "<h1><b>Analytics 512: Homework # 1</b></h1>"
   ]
  },
  {
   "cell_type": "markdown",
   "metadata": {},
   "source": [
    "<h4><p><i>Arif Ali</i></p> \n",
    "<p>January 28th, 2016</p></h4>"
   ]
  },
  {
   "cell_type": "markdown",
   "metadata": {},
   "source": [
    "<h2>Exercise 2.4 #2</h2>\n",
    "<h3>Part A</h3>\n",
    "<p>This is a regression problem because the objective is to figure out how the different explanatory variables affect CEO salary. Salary is not binned into categories, but rather is a number.</p> \n",
    "<p><i>n</i> is the 500 firms since they are the observations and <i>p</i> is profit, number of employees, and industry.</p>\n",
    "<h3>Part B</h3>\n",
    "<p>Since the response variable is binary, this is a classification problem. </p>\n",
    "<p><i>n</i> is the observation of the 20 previous products and <i>p</i> is price charged for the product, marketing budget, competition price, and ten other variables (not the success/failure variable).</p>\n",
    "<h3>Part C</h3>\n",
    "<p>This is a regression problem because the percent change is trying to determine to exact change in percentage.</p>\n",
    "<p><i>n</i> is the number of weeks during 2012 and <i>p</i> the % change in the dollar, the % change in the British market, and the % change in the German market.</p> "
   ]
  },
  {
   "cell_type": "markdown",
   "metadata": {},
   "source": [
    "<h2>Exercise 2.4 #4</h2>"
   ]
  },
  {
   "cell_type": "markdown",
   "metadata": {},
   "source": [
    "<h3>Part A</h3>\n",
    "<ol>\n",
    "    <li>Determining whether a person has cancer or not. The Response would be a binary response of whether someone does or doesn't have cancer. This could be expanded to checking the specific type of cancer (ie lung, breast, skin, brain, etc). The predictors could be health measurements of an individual's vitals. An individual cancer history rating, etc. Goal is prediction; however, changes in vitals could be used as a measure of inference.</li>\n",
    "    <li>Predicting what elected official wins. The Response is a candidate. Predictors could be money raises, whether a candidate is an incumbent, and the party the candidate is affiliated. County Statistics like average income or Census Data could be used. While the goal would be to predict, inference could be used to study with counties, a party should invest in campaigning in.</li>\n",
    "    <li>Determining the reason behind whether a TV Series is cancel or renewed. This could be based on nielsen ratings, DVD sales, the cost of production. This seems more of an inference goal, trying to figure out what makes a show worth renewing.</li>\n",
    "</ol>"
   ]
  },
  {
   "cell_type": "markdown",
   "metadata": {},
   "source": [
    "<h3>Part B</h3>\n",
    "<ol>\n",
    "    <li>Determining the amount a indivdual makes. The response would be the income amount of a person. The Predictor would be credit history, payement, debt, assets. Goal would probably be more along the lines of inference because observing changes in the predictors might lead into insights as how much money an indivdual makes.</li>\n",
    "    <li>Determing the amount of rain fall in a region. The response would the amount of rain and predictors could be time, amount of overcast, precipitation. The goal is prediction; the reason inference is probably not needed is because the relationships have probably already been uncovered.</li>\n",
    "    <li>Determining the change in stock market. The Response would the amount the market increases or decreases. The Predictors could be currency rate changes, consumer sentiment, etc. This is a predicton goal.</li>\n",
    "</ol> "
   ]
  },
  {
   "cell_type": "markdown",
   "metadata": {},
   "source": [
    "<h3>Part C</h3>\n",
    "<ol>\n",
    "    <li>Using cluster analysis to looking at build of blood cells could be used to identitify blood clothes.</li>\n",
    "    <li>Cluster analysis could be used to find vehicle built-ups which could be useful in planning highways and extra roadlanes in certain areas.</li>\n",
    "    <li>In a war zone, population clusters could be used by peacekeeping forcing to set up safe zones for refugees. Using cluster analysis could effectively identitify clusters.</li>\n",
    "</ol> "
   ]
  },
  {
   "cell_type": "markdown",
   "metadata": {},
   "source": [
    "<h2>Exercise 2.4 #7</h2>"
   ]
  },
  {
   "cell_type": "markdown",
   "metadata": {},
   "source": [
    "<h3>Part A</h3>"
   ]
  },
  {
   "cell_type": "markdown",
   "metadata": {},
   "source": [
    "<table>\n",
    "    <tr>\n",
    "        <td>Observation</td>\n",
    "        <td>Euclidean Distance</td>\n",
    "    </tr>\n",
    "    <tr>\n",
    "        <td>1</td>\n",
    "        <td>$$3$$</td>\n",
    "    </tr>\n",
    "    <tr>\n",
    "        <td>2</td>\n",
    "        <td>$$2$$</td>\n",
    "    </tr>\n",
    "    <tr>\n",
    "        <td>3</td>\n",
    "        <td>$$\\sqrt{10}$$</td>\n",
    "    </tr>\n",
    "    <tr>\n",
    "        <td>4</td>\n",
    "        <td>$$\\sqrt{5}$$</td>\n",
    "    </tr>\n",
    "    <tr>\n",
    "        <td>5</td>\n",
    "        <td>$$\\sqrt{2}$$</td>\n",
    "    </tr>\n",
    "    <tr>\n",
    "        <td>6</td>\n",
    "        <td>$$\\sqrt{3}$$</td>\n",
    "    </tr>\n",
    "</table>    "
   ]
  },
  {
   "cell_type": "markdown",
   "metadata": {},
   "source": [
    "<h3>Part B</h3>\n",
    "<p>Green, because observation 5 is the the $1^{st}$ nearest neighbor and the response for 5 is green.</p> "
   ]
  },
  {
   "cell_type": "markdown",
   "metadata": {},
   "source": [
    "<h3>Part C</h3>\n",
    "<p>Red, 2 out of the 3 closest neighbors has a response of red.</p>"
   ]
  },
  {
   "cell_type": "markdown",
   "metadata": {},
   "source": [
    "<h3>Part D</h3>\n",
    "<p>Small, it would be more flexible whereas a bigger value of K would result in trying to accomodate more points.</p>"
   ]
  },
  {
   "cell_type": "markdown",
   "metadata": {},
   "source": [
    "<h2>Exercise 2.4 #9</h2>"
   ]
  },
  {
   "cell_type": "markdown",
   "metadata": {},
   "source": [
    "<h3>Part A</h3>"
   ]
  },
  {
   "cell_type": "code",
   "execution_count": 2,
   "metadata": {
    "collapsed": false
   },
   "outputs": [
    {
     "data": {
      "text/plain": [
       "      mpg          cylinders      displacement     horsepower        weight    \n",
       " Min.   : 9.00   Min.   :3.000   Min.   : 68.0   Min.   : 46.0   Min.   :1613  \n",
       " 1st Qu.:17.00   1st Qu.:4.000   1st Qu.:105.0   1st Qu.: 75.0   1st Qu.:2225  \n",
       " Median :22.75   Median :4.000   Median :151.0   Median : 93.5   Median :2804  \n",
       " Mean   :23.45   Mean   :5.472   Mean   :194.4   Mean   :104.5   Mean   :2978  \n",
       " 3rd Qu.:29.00   3rd Qu.:8.000   3rd Qu.:275.8   3rd Qu.:126.0   3rd Qu.:3615  \n",
       " Max.   :46.60   Max.   :8.000   Max.   :455.0   Max.   :230.0   Max.   :5140  \n",
       "                                                                               \n",
       "  acceleration        year           origin                      name    \n",
       " Min.   : 8.00   Min.   :70.00   Min.   :1.000   amc matador       :  5  \n",
       " 1st Qu.:13.78   1st Qu.:73.00   1st Qu.:1.000   ford pinto        :  5  \n",
       " Median :15.50   Median :76.00   Median :1.000   toyota corolla    :  5  \n",
       " Mean   :15.54   Mean   :75.98   Mean   :1.577   amc gremlin       :  4  \n",
       " 3rd Qu.:17.02   3rd Qu.:79.00   3rd Qu.:2.000   amc hornet        :  4  \n",
       " Max.   :24.80   Max.   :82.00   Max.   :3.000   chevrolet chevette:  4  \n",
       "                                                 (Other)           :365  "
      ]
     },
     "execution_count": 2,
     "metadata": {},
     "output_type": "execute_result"
    }
   ],
   "source": [
    "library(\"ISLR\")\n",
    "data(Auto)\n",
    "Auto = na.omit(Auto)\n",
    "Auto = Auto[!is.null(Auto),]\n",
    "summary(Auto)\n"
   ]
  },
  {
   "cell_type": "markdown",
   "metadata": {},
   "source": [
    "The quantitative predictors: mpg, displacement, horsepower, weight, and acceleration. \n",
    "\n",
    "The qualitative predictors: cylinders, year, origin, and name."
   ]
  },
  {
   "cell_type": "markdown",
   "metadata": {},
   "source": [
    "<h3>Part B</h3>"
   ]
  },
  {
   "cell_type": "code",
   "execution_count": 3,
   "metadata": {
    "collapsed": false
   },
   "outputs": [
    {
     "data": {
      "text/html": [
       "<table>\n",
       "<thead><tr><th></th><th scope=col>mpg</th><th scope=col>displacement</th><th scope=col>horsepower</th><th scope=col>weight</th><th scope=col>acceleration</th></tr></thead>\n",
       "<tbody>\n",
       "\t<tr><th scope=row>lower</th><td>   9</td><td>  68</td><td>  46</td><td>1613</td><td>   8</td></tr>\n",
       "\t<tr><th scope=row>upper</th><td>  46.6</td><td> 455.0</td><td> 230.0</td><td>5140.0</td><td>  24.8</td></tr>\n",
       "</tbody>\n",
       "</table>\n"
      ],
      "text/latex": [
       "\\begin{tabular}{r|lllll}\n",
       "  & mpg & displacement & horsepower & weight & acceleration\\\\\n",
       "\\hline\n",
       "\tlower &    9 &   68 &   46 & 1613 &    8\\\\\n",
       "\tupper &   46.6 &  455.0 &  230.0 & 5140.0 &   24.8\\\\\n",
       "\\end{tabular}\n"
      ],
      "text/markdown": [
       "1. 9\n",
       "2. 46.6\n",
       "3. 68\n",
       "4. 455\n",
       "5. 46\n",
       "6. 230\n",
       "7. 1613\n",
       "8. 5140\n",
       "9. 8\n",
       "10. 24.8\n",
       "\n",
       "\n"
      ],
      "text/plain": [
       "       mpg displacement horsepower weight acceleration\n",
       "lower  9.0           68         46   1613          8.0\n",
       "upper 46.6          455        230   5140         24.8"
      ]
     },
     "execution_count": 3,
     "metadata": {},
     "output_type": "execute_result"
    }
   ],
   "source": [
    "quantitative = c(\"mpg\", \"displacement\", \"horsepower\", \"weight\", \"acceleration\")\n",
    "\n",
    "partb = mapply(range, Auto[, quantitative])\n",
    "rownames(partb) = c(\"lower\", \"upper\")\n",
    "partb"
   ]
  },
  {
   "cell_type": "markdown",
   "metadata": {},
   "source": [
    "### Part C"
   ]
  },
  {
   "cell_type": "code",
   "execution_count": 4,
   "metadata": {
    "collapsed": false
   },
   "outputs": [
    {
     "data": {
      "text/html": [
       "<table>\n",
       "<thead><tr><th></th><th scope=col>mean</th><th scope=col>sd</th></tr></thead>\n",
       "<tbody>\n",
       "\t<tr><th scope=row>mpg</th><td>23.445918</td><td> 7.805007</td></tr>\n",
       "\t<tr><th scope=row>displacement</th><td>194.412</td><td>104.644</td></tr>\n",
       "\t<tr><th scope=row>horsepower</th><td>104.46939</td><td> 38.49116</td></tr>\n",
       "\t<tr><th scope=row>weight</th><td>2977.5842</td><td> 849.4026</td></tr>\n",
       "\t<tr><th scope=row>acceleration</th><td>15.541327</td><td> 2.758864</td></tr>\n",
       "</tbody>\n",
       "</table>\n"
      ],
      "text/latex": [
       "\\begin{tabular}{r|ll}\n",
       "  & mean & sd\\\\\n",
       "\\hline\n",
       "\tmpg & 23.445918 &  7.805007\\\\\n",
       "\tdisplacement & 194.412 & 104.644\\\\\n",
       "\thorsepower & 104.46939 &  38.49116\\\\\n",
       "\tweight & 2977.5842 &  849.4026\\\\\n",
       "\tacceleration & 15.541327 &  2.758864\\\\\n",
       "\\end{tabular}\n"
      ],
      "text/markdown": [
       "1. 23.4459183673469\n",
       "2. 194.411989795918\n",
       "3. 104.469387755102\n",
       "4. 2977.58418367347\n",
       "5. 15.5413265306122\n",
       "6. 7.8050074865718\n",
       "7. 104.644003908905\n",
       "8. 38.4911599328285\n",
       "9. 849.402560042949\n",
       "10. 2.75886411918808\n",
       "\n",
       "\n"
      ],
      "text/plain": [
       "                   mean         sd\n",
       "mpg            23.44592   7.805007\n",
       "displacement  194.41199 104.644004\n",
       "horsepower    104.46939  38.491160\n",
       "weight       2977.58418 849.402560\n",
       "acceleration   15.54133   2.758864"
      ]
     },
     "execution_count": 4,
     "metadata": {},
     "output_type": "execute_result"
    }
   ],
   "source": [
    "partc = cbind(mapply(mean, Auto[, quantitative]),mapply(sd, Auto[, quantitative]))\n",
    "colnames(partc) = c(\"mean\", \"sd\")\n",
    "partc"
   ]
  },
  {
   "cell_type": "markdown",
   "metadata": {},
   "source": [
    "### Part D"
   ]
  },
  {
   "cell_type": "code",
   "execution_count": 5,
   "metadata": {
    "collapsed": false
   },
   "outputs": [
    {
     "data": {
      "text/html": [
       "<table>\n",
       "<thead><tr><th></th><th scope=col>lower range</th><th scope=col>upper range</th><th scope=col>mean</th><th scope=col>sd</th></tr></thead>\n",
       "<tbody>\n",
       "\t<tr><th scope=row>mpg</th><td> 9.000000</td><td>46.600000</td><td>23.445918</td><td> 7.805007</td></tr>\n",
       "\t<tr><th scope=row>displacement</th><td> 68.000</td><td>455.000</td><td>194.412</td><td>104.644</td></tr>\n",
       "\t<tr><th scope=row>horsepower</th><td> 46.00000</td><td>230.00000</td><td>104.46939</td><td> 38.49116</td></tr>\n",
       "\t<tr><th scope=row>weight</th><td>1613.0000</td><td>5140.0000</td><td>2977.5842</td><td> 849.4026</td></tr>\n",
       "\t<tr><th scope=row>acceleration</th><td> 8.000000</td><td>24.800000</td><td>15.541327</td><td> 2.758864</td></tr>\n",
       "</tbody>\n",
       "</table>\n"
      ],
      "text/latex": [
       "\\begin{tabular}{r|llll}\n",
       "  & lower range & upper range & mean & sd\\\\\n",
       "\\hline\n",
       "\tmpg &  9.000000 & 46.600000 & 23.445918 &  7.805007\\\\\n",
       "\tdisplacement &  68.000 & 455.000 & 194.412 & 104.644\\\\\n",
       "\thorsepower &  46.00000 & 230.00000 & 104.46939 &  38.49116\\\\\n",
       "\tweight & 1613.0000 & 5140.0000 & 2977.5842 &  849.4026\\\\\n",
       "\tacceleration &  8.000000 & 24.800000 & 15.541327 &  2.758864\\\\\n",
       "\\end{tabular}\n"
      ],
      "text/markdown": [
       "1. 9\n",
       "2. 68\n",
       "3. 46\n",
       "4. 1613\n",
       "5. 8\n",
       "6. 46.6\n",
       "7. 455\n",
       "8. 230\n",
       "9. 5140\n",
       "10. 24.8\n",
       "11. 23.4459183673469\n",
       "12. 194.411989795918\n",
       "13. 104.469387755102\n",
       "14. 2977.58418367347\n",
       "15. 15.5413265306122\n",
       "16. 7.8050074865718\n",
       "17. 104.644003908905\n",
       "18. 38.4911599328285\n",
       "19. 849.402560042949\n",
       "20. 2.75886411918808\n",
       "\n",
       "\n"
      ],
      "text/plain": [
       "             lower range upper range       mean         sd\n",
       "mpg                    9        46.6   23.44592   7.805007\n",
       "displacement          68       455.0  194.41199 104.644004\n",
       "horsepower            46       230.0  104.46939  38.491160\n",
       "weight              1613      5140.0 2977.58418 849.402560\n",
       "acceleration           8        24.8   15.54133   2.758864"
      ]
     },
     "execution_count": 5,
     "metadata": {},
     "output_type": "execute_result"
    }
   ],
   "source": [
    "Auto_minus10_to_85 = Auto[,-(10:85)]\n",
    "partd = cbind(t(mapply(range, Auto_minus10_to_85[, quantitative])), \n",
    "      mapply(mean, Auto_minus10_to_85[, quantitative]),\n",
    "      mapply(sd, Auto_minus10_to_85[, quantitative]))\n",
    "colnames(partd) = c(\"lower range\",\"upper range\", \"mean\", \"sd\")\n",
    "partd"
   ]
  },
  {
   "cell_type": "markdown",
   "metadata": {},
   "source": [
    "### Part E"
   ]
  },
  {
   "cell_type": "code",
   "execution_count": 6,
   "metadata": {
    "collapsed": false
   },
   "outputs": [
    {
     "data": {
      "text/html": [
       "<strong>pdf:</strong> 2"
      ],
      "text/latex": [
       "\\textbf{pdf:} 2"
      ],
      "text/markdown": [
       "**pdf:** 2"
      ],
      "text/plain": [
       "pdf \n",
       "  2 "
      ]
     },
     "execution_count": 6,
     "metadata": {},
     "output_type": "execute_result"
    }
   ],
   "source": [
    "png(\"HW1E9e.png\")\n",
    "pairs(Auto[,quantitative])\n",
    "dev.off()"
   ]
  },
  {
   "cell_type": "markdown",
   "metadata": {},
   "source": [
    "<p>For mpg, there seems to be a negative relation between it compared to displacement, horespower, and weight. The relation betwwen acceleration and mpg is not as well defined but seemingly more positive.</p>\n",
    "<p>The is a positive relation between displacement compared to horsepower and weight. There seems to be a negative relationship between displacement and acceleration.</p>\n",
    "<p>Horsepower and weight has a postive relationship and horsepower and acceleration have a negative relationship.</p>\n",
    "<p>Relation weight and acceleration is less defined, but there seems to be a slightly negative relationship</p>"
   ]
  },
  {
   "cell_type": "markdown",
   "metadata": {},
   "source": [
    "### Part F"
   ]
  },
  {
   "cell_type": "markdown",
   "metadata": {},
   "source": [
    "The relation between mpg and horsepower seems to fit a line resembling $y=e^{-x}$. Displacement follows this line as well; however, the points in the middle are more spread out compared to mpg vs. horsepower."
   ]
  },
  {
   "cell_type": "markdown",
   "metadata": {},
   "source": [
    "## Exercise 2.4 #10"
   ]
  },
  {
   "cell_type": "markdown",
   "metadata": {},
   "source": [
    "### Part A"
   ]
  },
  {
   "cell_type": "code",
   "execution_count": 7,
   "metadata": {
    "collapsed": false
   },
   "outputs": [],
   "source": [
    "library(MASS)"
   ]
  },
  {
   "cell_type": "code",
   "execution_count": 8,
   "metadata": {
    "collapsed": false
   },
   "outputs": [
    {
     "data": {
      "text/html": [
       "<ol class=list-inline>\n",
       "\t<li>506</li>\n",
       "\t<li>14</li>\n",
       "</ol>\n"
      ],
      "text/latex": [
       "\\begin{enumerate*}\n",
       "\\item 506\n",
       "\\item 14\n",
       "\\end{enumerate*}\n"
      ],
      "text/markdown": [
       "1. 506\n",
       "2. 14\n",
       "\n",
       "\n"
      ],
      "text/plain": [
       "[1] 506  14"
      ]
     },
     "execution_count": 8,
     "metadata": {},
     "output_type": "execute_result"
    },
    {
     "data": {
      "text/html": [
       "<ol class=list-inline>\n",
       "\t<li>'crim'</li>\n",
       "\t<li>'zn'</li>\n",
       "\t<li>'indus'</li>\n",
       "\t<li>'chas'</li>\n",
       "\t<li>'nox'</li>\n",
       "\t<li>'rm'</li>\n",
       "\t<li>'age'</li>\n",
       "\t<li>'dis'</li>\n",
       "\t<li>'rad'</li>\n",
       "\t<li>'tax'</li>\n",
       "\t<li>'ptratio'</li>\n",
       "\t<li>'black'</li>\n",
       "\t<li>'lstat'</li>\n",
       "\t<li>'medv'</li>\n",
       "</ol>\n"
      ],
      "text/latex": [
       "\\begin{enumerate*}\n",
       "\\item 'crim'\n",
       "\\item 'zn'\n",
       "\\item 'indus'\n",
       "\\item 'chas'\n",
       "\\item 'nox'\n",
       "\\item 'rm'\n",
       "\\item 'age'\n",
       "\\item 'dis'\n",
       "\\item 'rad'\n",
       "\\item 'tax'\n",
       "\\item 'ptratio'\n",
       "\\item 'black'\n",
       "\\item 'lstat'\n",
       "\\item 'medv'\n",
       "\\end{enumerate*}\n"
      ],
      "text/markdown": [
       "1. 'crim'\n",
       "2. 'zn'\n",
       "3. 'indus'\n",
       "4. 'chas'\n",
       "5. 'nox'\n",
       "6. 'rm'\n",
       "7. 'age'\n",
       "8. 'dis'\n",
       "9. 'rad'\n",
       "10. 'tax'\n",
       "11. 'ptratio'\n",
       "12. 'black'\n",
       "13. 'lstat'\n",
       "14. 'medv'\n",
       "\n",
       "\n"
      ],
      "text/plain": [
       " [1] \"crim\"    \"zn\"      \"indus\"   \"chas\"    \"nox\"     \"rm\"      \"age\"    \n",
       " [8] \"dis\"     \"rad\"     \"tax\"     \"ptratio\" \"black\"   \"lstat\"   \"medv\"   "
      ]
     },
     "execution_count": 8,
     "metadata": {},
     "output_type": "execute_result"
    }
   ],
   "source": [
    "dim(Boston)\n",
    "names(Boston)"
   ]
  },
  {
   "cell_type": "markdown",
   "metadata": {},
   "source": [
    "<p>The rows represents observation in Bostonian suburbs; there are 506 observations, which seem to correspond to each Boston suburb. The columns are different attributes for the suburbs; there are 14 columns."
   ]
  },
  {
   "cell_type": "markdown",
   "metadata": {},
   "source": [
    "### Part B"
   ]
  },
  {
   "cell_type": "code",
   "execution_count": 9,
   "metadata": {
    "collapsed": false
   },
   "outputs": [
    {
     "data": {
      "text/html": [
       "<strong>pdf:</strong> 2"
      ],
      "text/latex": [
       "\\textbf{pdf:} 2"
      ],
      "text/markdown": [
       "**pdf:** 2"
      ],
      "text/plain": [
       "pdf \n",
       "  2 "
      ]
     },
     "execution_count": 9,
     "metadata": {},
     "output_type": "execute_result"
    }
   ],
   "source": [
    "png(\"HW1E10b.png\")\n",
    "pairs(Boston)\n",
    "dev.off()"
   ]
  },
  {
   "cell_type": "markdown",
   "metadata": {},
   "source": [
    "<p>Chas is obviously a binary variable based on how the scatter plots look. RM and medv seem to have a postive relationship; however, RM and lstat seems to have a negative relationship. Nox and dis have a relationship best describe by $y=e^{-x}$.</p> "
   ]
  },
  {
   "cell_type": "markdown",
   "metadata": {},
   "source": [
    "### Part C"
   ]
  },
  {
   "cell_type": "code",
   "execution_count": 10,
   "metadata": {
    "collapsed": false
   },
   "outputs": [
    {
     "data": {
      "text/html": [
       "<strong>pdf:</strong> 2"
      ],
      "text/latex": [
       "\\textbf{pdf:} 2"
      ],
      "text/markdown": [
       "**pdf:** 2"
      ],
      "text/plain": [
       "pdf \n",
       "  2 "
      ]
     },
     "execution_count": 10,
     "metadata": {},
     "output_type": "execute_result"
    }
   ],
   "source": [
    "png(\"HW1E10c.png\")\n",
    "par(mfrow = c(4,4))\n",
    "for(i in names(Boston)){\n",
    "    plot(Boston$crim, Boston[, i], xlab=\"crim\", ylab = i)\n",
    "    }\n",
    "dev.off()"
   ]
  },
  {
   "cell_type": "markdown",
   "metadata": {},
   "source": [
    "<p>It seems that the higher the age, the more crime. It could be that the older houses could be in more rundown neighborhoods; therefore, crime is more rampant. The lower the distance variable, the more crime, which is interesting because it seems counter-intuitive. In areas with higher tax rates, there is more crime. This could be because lower economic classes are taxed higher, and there is a relationship between poverty and crimes.</p>"
   ]
  },
  {
   "cell_type": "markdown",
   "metadata": {},
   "source": [
    "### Part D"
   ]
  },
  {
   "cell_type": "code",
   "execution_count": 11,
   "metadata": {
    "collapsed": false
   },
   "outputs": [
    {
     "data": {
      "text/html": [
       "<dl class=dl-horizontal>\n",
       "\t<dt>0%</dt>\n",
       "\t\t<dd>0.00632</dd>\n",
       "\t<dt>10%</dt>\n",
       "\t\t<dd>0.038195</dd>\n",
       "\t<dt>20%</dt>\n",
       "\t\t<dd>0.06417</dd>\n",
       "\t<dt>30%</dt>\n",
       "\t\t<dd>0.0992450000000001</dd>\n",
       "\t<dt>40%</dt>\n",
       "\t\t<dd>0.15038</dd>\n",
       "\t<dt>50%</dt>\n",
       "\t\t<dd>0.25651</dd>\n",
       "\t<dt>60%</dt>\n",
       "\t\t<dd>0.55007</dd>\n",
       "\t<dt>70%</dt>\n",
       "\t\t<dd>1.72844000000001</dd>\n",
       "\t<dt>80%</dt>\n",
       "\t\t<dd>5.58107</dd>\n",
       "\t<dt>90%</dt>\n",
       "\t\t<dd>10.753</dd>\n",
       "\t<dt>100%</dt>\n",
       "\t\t<dd>88.9762</dd>\n",
       "</dl>\n"
      ],
      "text/latex": [
       "\\begin{description*}\n",
       "\\item[0%] 0.00632\n",
       "\\item[10%] 0.038195\n",
       "\\item[20%] 0.06417\n",
       "\\item[30%] 0.0992450000000001\n",
       "\\item[40%] 0.15038\n",
       "\\item[50%] 0.25651\n",
       "\\item[60%] 0.55007\n",
       "\\item[70%] 1.72844000000001\n",
       "\\item[80%] 5.58107\n",
       "\\item[90%] 10.753\n",
       "\\item[100%] 88.9762\n",
       "\\end{description*}\n"
      ],
      "text/markdown": [
       "0%\n",
       ":   0.0063210%\n",
       ":   0.03819520%\n",
       ":   0.0641730%\n",
       ":   0.099245000000000140%\n",
       ":   0.1503850%\n",
       ":   0.2565160%\n",
       ":   0.5500770%\n",
       ":   1.7284400000000180%\n",
       ":   5.5810790%\n",
       ":   10.753100%\n",
       ":   88.9762\n",
       "\n"
      ],
      "text/plain": [
       "       0%       10%       20%       30%       40%       50%       60%       70% \n",
       " 0.006320  0.038195  0.064170  0.099245  0.150380  0.256510  0.550070  1.728440 \n",
       "      80%       90%      100% \n",
       " 5.581070 10.753000 88.976200 "
      ]
     },
     "execution_count": 11,
     "metadata": {},
     "output_type": "execute_result"
    },
    {
     "data": {
      "text/html": [
       "<strong>pdf:</strong> 2"
      ],
      "text/latex": [
       "\\textbf{pdf:} 2"
      ],
      "text/markdown": [
       "**pdf:** 2"
      ],
      "text/plain": [
       "pdf \n",
       "  2 "
      ]
     },
     "execution_count": 11,
     "metadata": {},
     "output_type": "execute_result"
    }
   ],
   "source": [
    "quantile(Boston$crim, seq(from = 0, to = 1, by = .1))\n",
    "png(\"HW1E10di.png\")\n",
    "hist(Boston$crim, breaks = 25)\n",
    "dev.off()"
   ]
  },
  {
   "cell_type": "markdown",
   "metadata": {},
   "source": [
    "<p>The crime rate is pretty low throughout boston, with less than 40% of the suburb having a crime rate of greater than one. Based on the quantile, there seems to be a right tail as indicated. Boston seems to be a pretty safe place. However, there appears to be one suburb that has an abnormally high crime rate.</p> "
   ]
  },
  {
   "cell_type": "code",
   "execution_count": 12,
   "metadata": {
    "collapsed": false
   },
   "outputs": [
    {
     "data": {
      "text/html": [
       "<dl class=dl-horizontal>\n",
       "\t<dt>0%</dt>\n",
       "\t\t<dd>187</dd>\n",
       "\t<dt>25%</dt>\n",
       "\t\t<dd>279</dd>\n",
       "\t<dt>50%</dt>\n",
       "\t\t<dd>330</dd>\n",
       "\t<dt>75%</dt>\n",
       "\t\t<dd>666</dd>\n",
       "\t<dt>100%</dt>\n",
       "\t\t<dd>711</dd>\n",
       "</dl>\n"
      ],
      "text/latex": [
       "\\begin{description*}\n",
       "\\item[0%] 187\n",
       "\\item[25%] 279\n",
       "\\item[50%] 330\n",
       "\\item[75%] 666\n",
       "\\item[100%] 711\n",
       "\\end{description*}\n"
      ],
      "text/markdown": [
       "0%\n",
       ":   18725%\n",
       ":   27950%\n",
       ":   33075%\n",
       ":   666100%\n",
       ":   711\n",
       "\n"
      ],
      "text/plain": [
       "  0%  25%  50%  75% 100% \n",
       " 187  279  330  666  711 "
      ]
     },
     "execution_count": 12,
     "metadata": {},
     "output_type": "execute_result"
    },
    {
     "data": {
      "text/html": [
       "<strong>pdf:</strong> 2"
      ],
      "text/latex": [
       "\\textbf{pdf:} 2"
      ],
      "text/markdown": [
       "**pdf:** 2"
      ],
      "text/plain": [
       "pdf \n",
       "  2 "
      ]
     },
     "execution_count": 12,
     "metadata": {},
     "output_type": "execute_result"
    }
   ],
   "source": [
    "quantile(Boston$tax)\n",
    "png(\"HW1E10dii.png\")\n",
    "hist(Boston$tax, breaks = 25)\n",
    "dev.off()"
   ]
  },
  {
   "cell_type": "markdown",
   "metadata": {},
   "source": [
    "<p>Two of the suburbs have very high Tax rates. There is a significant gasp, which could indicate income inequality.</p>"
   ]
  },
  {
   "cell_type": "code",
   "execution_count": 13,
   "metadata": {
    "collapsed": false
   },
   "outputs": [
    {
     "data": {
      "text/html": [
       "<dl class=dl-horizontal>\n",
       "\t<dt>0%</dt>\n",
       "\t\t<dd>12.6</dd>\n",
       "\t<dt>25%</dt>\n",
       "\t\t<dd>17.4</dd>\n",
       "\t<dt>50%</dt>\n",
       "\t\t<dd>19.05</dd>\n",
       "\t<dt>75%</dt>\n",
       "\t\t<dd>20.2</dd>\n",
       "\t<dt>100%</dt>\n",
       "\t\t<dd>22</dd>\n",
       "</dl>\n"
      ],
      "text/latex": [
       "\\begin{description*}\n",
       "\\item[0%] 12.6\n",
       "\\item[25%] 17.4\n",
       "\\item[50%] 19.05\n",
       "\\item[75%] 20.2\n",
       "\\item[100%] 22\n",
       "\\end{description*}\n"
      ],
      "text/markdown": [
       "0%\n",
       ":   12.625%\n",
       ":   17.450%\n",
       ":   19.0575%\n",
       ":   20.2100%\n",
       ":   22\n",
       "\n"
      ],
      "text/plain": [
       "   0%   25%   50%   75%  100% \n",
       "12.60 17.40 19.05 20.20 22.00 "
      ]
     },
     "execution_count": 13,
     "metadata": {},
     "output_type": "execute_result"
    },
    {
     "data": {
      "text/html": [
       "<strong>pdf:</strong> 2"
      ],
      "text/latex": [
       "\\textbf{pdf:} 2"
      ],
      "text/markdown": [
       "**pdf:** 2"
      ],
      "text/plain": [
       "pdf \n",
       "  2 "
      ]
     },
     "execution_count": 13,
     "metadata": {},
     "output_type": "execute_result"
    }
   ],
   "source": [
    "quantile(Boston$ptratio)\n",
    "png(\"HW1E10diii.png\")\n",
    "hist(Boston$ptratio, breaks = 10)\n",
    "dev.off()"
   ]
  },
  {
   "cell_type": "markdown",
   "metadata": {},
   "source": [
    "<p>There are an unusual number of suburbs with a ratio between 20 and 21. However no indication that there is any skew. Therefore none of the suburbs seem to have a particularily high pupil-teacher rate.</p>"
   ]
  },
  {
   "cell_type": "markdown",
   "metadata": {},
   "source": [
    "### Part E"
   ]
  },
  {
   "cell_type": "code",
   "execution_count": 14,
   "metadata": {
    "collapsed": false
   },
   "outputs": [
    {
     "data": {
      "text/html": [
       "35"
      ],
      "text/latex": [
       "35"
      ],
      "text/markdown": [
       "35"
      ],
      "text/plain": [
       "[1] 35"
      ]
     },
     "execution_count": 14,
     "metadata": {},
     "output_type": "execute_result"
    }
   ],
   "source": [
    "sum(Boston$chas == 1)"
   ]
  },
  {
   "cell_type": "markdown",
   "metadata": {},
   "source": [
    "### Part F"
   ]
  },
  {
   "cell_type": "code",
   "execution_count": 15,
   "metadata": {
    "collapsed": false
   },
   "outputs": [
    {
     "data": {
      "text/html": [
       "19.05"
      ],
      "text/latex": [
       "19.05"
      ],
      "text/markdown": [
       "19.05"
      ],
      "text/plain": [
       "[1] 19.05"
      ]
     },
     "execution_count": 15,
     "metadata": {},
     "output_type": "execute_result"
    }
   ],
   "source": [
    "median(Boston$ptratio)"
   ]
  },
  {
   "cell_type": "markdown",
   "metadata": {},
   "source": [
    "### Part G"
   ]
  },
  {
   "cell_type": "code",
   "execution_count": 22,
   "metadata": {
    "collapsed": false
   },
   "outputs": [
    {
     "data": {
      "text/html": [
       "<table>\n",
       "<thead><tr><th></th><th scope=col>crim</th><th scope=col>zn</th><th scope=col>indus</th><th scope=col>chas</th><th scope=col>nox</th><th scope=col>rm</th><th scope=col>age</th><th scope=col>dis</th><th scope=col>rad</th><th scope=col>tax</th><th scope=col>ptratio</th><th scope=col>black</th><th scope=col>lstat</th><th scope=col>medv</th></tr></thead>\n",
       "<tbody>\n",
       "\t<tr><th scope=row>399</th><td>38.3518</td><td>0</td><td>18.1</td><td>0</td><td>0.693</td><td>5.453</td><td>100</td><td>1.4896</td><td>24</td><td>666</td><td>20.2</td><td>396.9</td><td>30.59</td><td>5</td></tr>\n",
       "\t<tr><th scope=row>406</th><td>67.9208</td><td>0</td><td>18.1</td><td>0</td><td>0.693</td><td>5.683</td><td>100</td><td>1.4254</td><td>24</td><td>666</td><td>20.2</td><td>384.97</td><td>22.98</td><td>5</td></tr>\n",
       "</tbody>\n",
       "</table>\n"
      ],
      "text/latex": [
       "\\begin{tabular}{r|llllllllllllll}\n",
       "  & crim & zn & indus & chas & nox & rm & age & dis & rad & tax & ptratio & black & lstat & medv\\\\\n",
       "\\hline\n",
       "\t399 & 38.3518 & 0 & 18.1 & 0 & 0.693 & 5.453 & 100 & 1.4896 & 24 & 666 & 20.2 & 396.9 & 30.59 & 5\\\\\n",
       "\t406 & 67.9208 & 0 & 18.1 & 0 & 0.693 & 5.683 & 100 & 1.4254 & 24 & 666 & 20.2 & 384.97 & 22.98 & 5\\\\\n",
       "\\end{tabular}\n"
      ],
      "text/plain": [
       "       crim zn indus chas   nox    rm age    dis rad tax ptratio  black lstat\n",
       "399 38.3518  0  18.1    0 0.693 5.453 100 1.4896  24 666    20.2 396.90 30.59\n",
       "406 67.9208  0  18.1    0 0.693 5.683 100 1.4254  24 666    20.2 384.97 22.98\n",
       "    medv\n",
       "399    5\n",
       "406    5"
      ]
     },
     "execution_count": 22,
     "metadata": {},
     "output_type": "execute_result"
    },
    {
     "data": {
      "text/html": [
       "<table>\n",
       "<thead><tr><th scope=col>crim</th><th scope=col>zn</th><th scope=col>indus</th><th scope=col>chas</th><th scope=col>nox</th><th scope=col>rm</th><th scope=col>age</th><th scope=col>dis</th><th scope=col>rad</th><th scope=col>tax</th><th scope=col>ptratio</th><th scope=col>black</th><th scope=col>lstat</th><th scope=col>medv</th></tr></thead>\n",
       "<tbody>\n",
       "\t<tr><td>  3.6135</td><td> 11.3636</td><td> 11.1368</td><td>  0.0692</td><td>  0.5547</td><td>  6.2846</td><td> 68.5749</td><td>  3.7950</td><td>  9.5494</td><td>408.2372</td><td> 18.4555</td><td>356.6740</td><td> 12.6531</td><td> 22.5328</td></tr>\n",
       "</tbody>\n",
       "</table>\n"
      ],
      "text/latex": [
       "\\begin{tabular}{llllllllllllll}\n",
       " crim & zn & indus & chas & nox & rm & age & dis & rad & tax & ptratio & black & lstat & medv\\\\\n",
       "\\hline\n",
       "\t   3.6135 &  11.3636 &  11.1368 &   0.0692 &   0.5547 &   6.2846 &  68.5749 &   3.7950 &   9.5494 & 408.2372 &  18.4555 & 356.6740 &  12.6531 &  22.5328\\\\\n",
       "\\end{tabular}\n"
      ],
      "text/markdown": [
       "1. 3.6135\n",
       "2. 11.3636\n",
       "3. 11.1368\n",
       "4. 0.0692\n",
       "5. 0.5547\n",
       "6. 6.2846\n",
       "7. 68.5749\n",
       "8. 3.795\n",
       "9. 9.5494\n",
       "10. 408.2372\n",
       "11. 18.4555\n",
       "12. 356.674\n",
       "13. 12.6531\n",
       "14. 22.5328\n",
       "\n",
       "\n"
      ],
      "text/plain": [
       "       crim      zn   indus   chas    nox     rm     age   dis    rad      tax\n",
       "[1,] 3.6135 11.3636 11.1368 0.0692 0.5547 6.2846 68.5749 3.795 9.5494 408.2372\n",
       "     ptratio   black   lstat    medv\n",
       "[1,] 18.4555 356.674 12.6531 22.5328"
      ]
     },
     "execution_count": 22,
     "metadata": {},
     "output_type": "execute_result"
    }
   ],
   "source": [
    "Boston[Boston$medv == min(Boston$medv),]\n",
    "\n",
    "t(mapply(function(x) round(mean(x), digits = 4), Boston))"
   ]
  },
  {
   "cell_type": "markdown",
   "metadata": {},
   "source": [
    "There are two suburbs with the lowest median house value referred to as min suburbs. In terms of crime, the min suburbs have significiantly higher rates. There are no zoned lots. Both have the same proportion of non-retail business acres per town, which was higher than the average. Neither min suburb borders the Charles River. There less average number of rooms in the min suburbs than overall. It looks like both suburbs have 100% of owner-occupied units built prior to 1940. The tax rate is higher than the average. The min suburbs are more accessible from the radial highways than the average suburbs. There is a slightly higher proportion of blacks in the min suburbs. The pupil teacher ratio is slightly higher in the min suburbs than overall. The weighted mean of distances to five Boston employment centres is shorter for the min suburbs.   "
   ]
  },
  {
   "cell_type": "markdown",
   "metadata": {},
   "source": [
    "### Part H"
   ]
  },
  {
   "cell_type": "code",
   "execution_count": 17,
   "metadata": {
    "collapsed": false
   },
   "outputs": [
    {
     "data": {
      "text/html": [
       "64"
      ],
      "text/latex": [
       "64"
      ],
      "text/markdown": [
       "64"
      ],
      "text/plain": [
       "[1] 64"
      ]
     },
     "execution_count": 17,
     "metadata": {},
     "output_type": "execute_result"
    },
    {
     "data": {
      "text/html": [
       "13"
      ],
      "text/latex": [
       "13"
      ],
      "text/markdown": [
       "13"
      ],
      "text/plain": [
       "[1] 13"
      ]
     },
     "execution_count": 17,
     "metadata": {},
     "output_type": "execute_result"
    }
   ],
   "source": [
    "sum(Boston$rm>7)\n",
    "sum(Boston$rm>8)"
   ]
  },
  {
   "cell_type": "code",
   "execution_count": 38,
   "metadata": {
    "collapsed": false
   },
   "outputs": [
    {
     "data": {
      "text/html": [
       "<table>\n",
       "<thead><tr><th scope=col>crim</th><th scope=col>zn</th><th scope=col>indus</th><th scope=col>chas</th><th scope=col>nox</th><th scope=col>rm</th><th scope=col>age</th><th scope=col>dis</th><th scope=col>rad</th><th scope=col>tax</th><th scope=col>ptratio</th><th scope=col>black</th><th scope=col>lstat</th><th scope=col>medv</th></tr></thead>\n",
       "<tbody>\n",
       "\t<tr><td>  0.7188</td><td> 13.6154</td><td>  7.0785</td><td>  0.1538</td><td>  0.5392</td><td>  8.3485</td><td> 71.5385</td><td>  3.4302</td><td>  7.4615</td><td>325.0769</td><td> 16.3615</td><td>385.2108</td><td>  4.3100</td><td> 44.2000</td></tr>\n",
       "</tbody>\n",
       "</table>\n"
      ],
      "text/latex": [
       "\\begin{tabular}{llllllllllllll}\n",
       " crim & zn & indus & chas & nox & rm & age & dis & rad & tax & ptratio & black & lstat & medv\\\\\n",
       "\\hline\n",
       "\t   0.7188 &  13.6154 &   7.0785 &   0.1538 &   0.5392 &   8.3485 &  71.5385 &   3.4302 &   7.4615 & 325.0769 &  16.3615 & 385.2108 &   4.3100 &  44.2000\\\\\n",
       "\\end{tabular}\n"
      ],
      "text/markdown": [
       "1. 0.7188\n",
       "2. 13.6154\n",
       "3. 7.0785\n",
       "4. 0.1538\n",
       "5. 0.5392\n",
       "6. 8.3485\n",
       "7. 71.5385\n",
       "8. 3.4302\n",
       "9. 7.4615\n",
       "10. 325.0769\n",
       "11. 16.3615\n",
       "12. 385.2108\n",
       "13. 4.31\n",
       "14. 44.2\n",
       "\n",
       "\n"
      ],
      "text/plain": [
       "       crim      zn  indus   chas    nox     rm     age    dis    rad      tax\n",
       "[1,] 0.7188 13.6154 7.0785 0.1538 0.5392 8.3485 71.5385 3.4302 7.4615 325.0769\n",
       "     ptratio    black lstat medv\n",
       "[1,] 16.3615 385.2108  4.31 44.2"
      ]
     },
     "execution_count": 38,
     "metadata": {},
     "output_type": "execute_result"
    }
   ],
   "source": [
    "t(mapply(function(x) round(mean(x), digits = 4),Boston[Boston$rm>8,]))\n"
   ]
  },
  {
   "cell_type": "code",
   "execution_count": 39,
   "metadata": {
    "collapsed": false
   },
   "outputs": [
    {
     "data": {
      "text/html": [
       "<table>\n",
       "<thead><tr><th scope=col>crim</th><th scope=col>zn</th><th scope=col>indus</th><th scope=col>chas</th><th scope=col>nox</th><th scope=col>rm</th><th scope=col>age</th><th scope=col>dis</th><th scope=col>rad</th><th scope=col>tax</th><th scope=col>ptratio</th><th scope=col>black</th><th scope=col>lstat</th><th scope=col>medv</th></tr></thead>\n",
       "<tbody>\n",
       "\t<tr><td>  3.6135</td><td> 11.3636</td><td> 11.1368</td><td>  0.0692</td><td>  0.5547</td><td>  6.2846</td><td> 68.5749</td><td>  3.7950</td><td>  9.5494</td><td>408.2372</td><td> 18.4555</td><td>356.6740</td><td> 12.6531</td><td> 22.5328</td></tr>\n",
       "</tbody>\n",
       "</table>\n"
      ],
      "text/latex": [
       "\\begin{tabular}{llllllllllllll}\n",
       " crim & zn & indus & chas & nox & rm & age & dis & rad & tax & ptratio & black & lstat & medv\\\\\n",
       "\\hline\n",
       "\t   3.6135 &  11.3636 &  11.1368 &   0.0692 &   0.5547 &   6.2846 &  68.5749 &   3.7950 &   9.5494 & 408.2372 &  18.4555 & 356.6740 &  12.6531 &  22.5328\\\\\n",
       "\\end{tabular}\n"
      ],
      "text/markdown": [
       "1. 3.6135\n",
       "2. 11.3636\n",
       "3. 11.1368\n",
       "4. 0.0692\n",
       "5. 0.5547\n",
       "6. 6.2846\n",
       "7. 68.5749\n",
       "8. 3.795\n",
       "9. 9.5494\n",
       "10. 408.2372\n",
       "11. 18.4555\n",
       "12. 356.674\n",
       "13. 12.6531\n",
       "14. 22.5328\n",
       "\n",
       "\n"
      ],
      "text/plain": [
       "       crim      zn   indus   chas    nox     rm     age   dis    rad      tax\n",
       "[1,] 3.6135 11.3636 11.1368 0.0692 0.5547 6.2846 68.5749 3.795 9.5494 408.2372\n",
       "     ptratio   black   lstat    medv\n",
       "[1,] 18.4555 356.674 12.6531 22.5328"
      ]
     },
     "execution_count": 39,
     "metadata": {},
     "output_type": "execute_result"
    }
   ],
   "source": [
    "t(mapply(function(x) round(mean(x), digits = 4),Boston))"
   ]
  },
  {
   "cell_type": "markdown",
   "metadata": {},
   "source": [
    "<p></p>"
   ]
  },
  {
   "cell_type": "markdown",
   "metadata": {},
   "source": [
    "The suburbs where $rm > 8$ has a lower crime rate compared to the rest of the city. These suburbs are on average further than the average of the suburbs. Slight higher proportion are bordering the Charles River compared to the rest of the city. The Average age and median house value are higher. The tax rate is lower."
   ]
  }
 ],
 "metadata": {
  "kernelspec": {
   "display_name": "R",
   "language": "R",
   "name": "ir"
  },
  "language_info": {
   "codemirror_mode": "r",
   "file_extension": ".r",
   "mimetype": "text/x-r-source",
   "name": "R",
   "pygments_lexer": "r",
   "version": "3.2.2"
  }
 },
 "nbformat": 4,
 "nbformat_minor": 0
}
