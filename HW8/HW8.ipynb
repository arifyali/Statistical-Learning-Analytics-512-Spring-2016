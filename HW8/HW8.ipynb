{
 "cells": [
  {
   "cell_type": "markdown",
   "metadata": {},
   "source": [
    "9.7#3 (8)\n",
    "9.7#4 (0), #7abc (9)"
   ]
  },
  {
   "cell_type": "markdown",
   "metadata": {},
   "source": [
    "##Exercise 9.7 #3"
   ]
  },
  {
   "cell_type": "markdown",
   "metadata": {},
   "source": [
    "##Exercise 9.7 #4"
   ]
  },
  {
   "cell_type": "code",
   "execution_count": 26,
   "metadata": {
    "collapsed": true
   },
   "outputs": [],
   "source": [
    "x = rnorm(100)\n",
    "y = 3*x^2+rnorm(100)\n",
    "dat = data.frame(x,y)"
   ]
  },
  {
   "cell_type": "markdown",
   "metadata": {},
   "source": [
    "##Exercise 9.7 #7"
   ]
  },
  {
   "cell_type": "markdown",
   "metadata": {},
   "source": [
    "###Part A"
   ]
  },
  {
   "cell_type": "code",
   "execution_count": 2,
   "metadata": {
    "collapsed": false
   },
   "outputs": [],
   "source": [
    "library(ISLR)"
   ]
  },
  {
   "cell_type": "code",
   "execution_count": 7,
   "metadata": {
    "collapsed": true
   },
   "outputs": [],
   "source": [
    "mpg = median(Auto$mpg)\n",
    "Auto$mpg[Auto$mpg<=mpg] = 0\n",
    "Auto$mpg[Auto$mpg>mpg] = 1\n",
    "Auto$mpg = as.factor(Auto$mpg)"
   ]
  },
  {
   "cell_type": "markdown",
   "metadata": {},
   "source": [
    "###Part B"
   ]
  },
  {
   "cell_type": "code",
   "execution_count": 8,
   "metadata": {
    "collapsed": false
   },
   "outputs": [],
   "source": [
    "library(e1071)"
   ]
  },
  {
   "cell_type": "code",
   "execution_count": 13,
   "metadata": {
    "collapsed": true
   },
   "outputs": [],
   "source": [
    "tune.out=tune(svm, mpg~., data=Auto, kernel=\"radial\",\n",
    "ranges=list(cost=1*10^c(-2:10)))"
   ]
  },
  {
   "cell_type": "code",
   "execution_count": 14,
   "metadata": {
    "collapsed": false
   },
   "outputs": [
    {
     "data": {
      "text/plain": [
       "\n",
       "Parameter tuning of ‘svm’:\n",
       "\n",
       "- sampling method: 10-fold cross validation \n",
       "\n",
       "- best parameters:\n",
       " cost\n",
       "   10\n",
       "\n",
       "- best performance: 0.08660256 \n",
       "\n",
       "- Detailed performance results:\n",
       "    cost      error dispersion\n",
       "1  1e-02 0.58410256 0.06966782\n",
       "2  1e-01 0.15756410 0.09777307\n",
       "3  1e+00 0.08903846 0.05872489\n",
       "4  1e+01 0.08660256 0.05220541\n",
       "5  1e+02 0.08666667 0.06513541\n",
       "6  1e+03 0.10717949 0.05512473\n",
       "7  1e+04 0.10955128 0.04085887\n",
       "8  1e+05 0.10961538 0.04810398\n",
       "9  1e+06 0.10961538 0.04810398\n",
       "10 1e+07 0.10961538 0.04810398\n",
       "11 1e+08 0.10961538 0.04810398\n",
       "12 1e+09 0.10961538 0.04810398\n",
       "13 1e+10 0.10961538 0.04810398\n"
      ]
     },
     "execution_count": 14,
     "metadata": {},
     "output_type": "execute_result"
    }
   ],
   "source": [
    "summary(tune.out)"
   ]
  },
  {
   "cell_type": "markdown",
   "metadata": {},
   "source": [
    "From the output, the cost with the lowest cross validation error is when $cost=10$. It's interesting to see that after $cost=10$, the error increases, but levels at $CV_{1*10^{i}}=0.10961538$ where $i\\leq5$."
   ]
  },
  {
   "cell_type": "markdown",
   "metadata": {},
   "source": [
    "###Part C"
   ]
  },
  {
   "cell_type": "code",
   "execution_count": 19,
   "metadata": {
    "collapsed": true
   },
   "outputs": [],
   "source": [
    "tune.partc=tune(svm, mpg~., data=Auto, kernel=\"radial\",\n",
    "ranges=list(cost=1*10^c(-2:10),gamma=c(0.5,1,2,3,4)))"
   ]
  },
  {
   "cell_type": "code",
   "execution_count": 20,
   "metadata": {
    "collapsed": false
   },
   "outputs": [
    {
     "data": {
      "text/plain": [
       "\n",
       "Parameter tuning of ‘svm’:\n",
       "\n",
       "- sampling method: 10-fold cross validation \n",
       "\n",
       "- best parameters:\n",
       " cost gamma\n",
       "    1   0.5\n",
       "\n",
       "- best performance: 0.08153846 \n",
       "\n",
       "- Detailed performance results:\n",
       "    cost gamma      error dispersion\n",
       "1  1e-02   0.5 0.58160256 0.04703578\n",
       "2  1e-01   0.5 0.08923077 0.04376306\n",
       "3  1e+00   0.5 0.08153846 0.04290330\n",
       "4  1e+01   0.5 0.08179487 0.03168768\n",
       "5  1e+02   0.5 0.08685897 0.03010812\n",
       "6  1e+03   0.5 0.08685897 0.03010812\n",
       "7  1e+04   0.5 0.08685897 0.03010812\n",
       "8  1e+05   0.5 0.08685897 0.03010812\n",
       "9  1e+06   0.5 0.08685897 0.03010812\n",
       "10 1e+07   0.5 0.08685897 0.03010812\n",
       "11 1e+08   0.5 0.08685897 0.03010812\n",
       "12 1e+09   0.5 0.08685897 0.03010812\n",
       "13 1e+10   0.5 0.08685897 0.03010812\n",
       "14 1e-02   1.0 0.58160256 0.04703578\n",
       "15 1e-01   1.0 0.58160256 0.04703578\n",
       "16 1e+00   1.0 0.08166667 0.03969554\n",
       "17 1e+01   1.0 0.08173077 0.03581499\n",
       "18 1e+02   1.0 0.08173077 0.03581499\n",
       "19 1e+03   1.0 0.08173077 0.03581499\n",
       "20 1e+04   1.0 0.08173077 0.03581499\n",
       "21 1e+05   1.0 0.08173077 0.03581499\n",
       "22 1e+06   1.0 0.08173077 0.03581499\n",
       "23 1e+07   1.0 0.08173077 0.03581499\n",
       "24 1e+08   1.0 0.08173077 0.03581499\n",
       "25 1e+09   1.0 0.08173077 0.03581499\n",
       "26 1e+10   1.0 0.08173077 0.03581499\n",
       "27 1e-02   2.0 0.58160256 0.04703578\n",
       "28 1e-01   2.0 0.58160256 0.04703578\n",
       "29 1e+00   2.0 0.11487179 0.05151018\n",
       "30 1e+01   2.0 0.11743590 0.04404592\n",
       "31 1e+02   2.0 0.11743590 0.04404592\n",
       "32 1e+03   2.0 0.11743590 0.04404592\n",
       "33 1e+04   2.0 0.11743590 0.04404592\n",
       "34 1e+05   2.0 0.11743590 0.04404592\n",
       "35 1e+06   2.0 0.11743590 0.04404592\n",
       "36 1e+07   2.0 0.11743590 0.04404592\n",
       "37 1e+08   2.0 0.11743590 0.04404592\n",
       "38 1e+09   2.0 0.11743590 0.04404592\n",
       "39 1e+10   2.0 0.11743590 0.04404592\n",
       "40 1e-02   3.0 0.58160256 0.04703578\n",
       "41 1e-01   3.0 0.58160256 0.04703578\n",
       "42 1e+00   3.0 0.44903846 0.10173151\n",
       "43 1e+01   3.0 0.40557692 0.12854160\n",
       "44 1e+02   3.0 0.40557692 0.12854160\n",
       "45 1e+03   3.0 0.40557692 0.12854160\n",
       "46 1e+04   3.0 0.40557692 0.12854160\n",
       "47 1e+05   3.0 0.40557692 0.12854160\n",
       "48 1e+06   3.0 0.40557692 0.12854160\n",
       "49 1e+07   3.0 0.40557692 0.12854160\n",
       "50 1e+08   3.0 0.40557692 0.12854160\n",
       "51 1e+09   3.0 0.40557692 0.12854160\n",
       "52 1e+10   3.0 0.40557692 0.12854160\n",
       "53 1e-02   4.0 0.58160256 0.04703578\n",
       "54 1e-01   4.0 0.58160256 0.04703578\n",
       "55 1e+00   4.0 0.49224359 0.06271318\n",
       "56 1e+01   4.0 0.47955128 0.06943521\n",
       "57 1e+02   4.0 0.47955128 0.06943521\n",
       "58 1e+03   4.0 0.47955128 0.06943521\n",
       "59 1e+04   4.0 0.47955128 0.06943521\n",
       "60 1e+05   4.0 0.47955128 0.06943521\n",
       "61 1e+06   4.0 0.47955128 0.06943521\n",
       "62 1e+07   4.0 0.47955128 0.06943521\n",
       "63 1e+08   4.0 0.47955128 0.06943521\n",
       "64 1e+09   4.0 0.47955128 0.06943521\n",
       "65 1e+10   4.0 0.47955128 0.06943521\n"
      ]
     },
     "execution_count": 20,
     "metadata": {},
     "output_type": "execute_result"
    }
   ],
   "source": [
    "summary(tune.partc)"
   ]
  }
 ],
 "metadata": {
  "kernelspec": {
   "display_name": "R",
   "language": "R",
   "name": "ir"
  },
  "language_info": {
   "codemirror_mode": "r",
   "file_extension": ".r",
   "mimetype": "text/x-r-source",
   "name": "R",
   "pygments_lexer": "r",
   "version": "3.2.2"
  }
 },
 "nbformat": 4,
 "nbformat_minor": 0
}
