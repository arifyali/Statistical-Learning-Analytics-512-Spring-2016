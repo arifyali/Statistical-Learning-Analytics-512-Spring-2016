{
 "cells": [
  {
   "cell_type": "markdown",
   "metadata": {},
   "source": [
    "7.9 #2abc (6), #3 (3)\n",
    "7.9 #6a(5)"
   ]
  },
  {
   "cell_type": "markdown",
   "metadata": {},
   "source": [
    "##Exercise 2"
   ]
  },
  {
   "cell_type": "markdown",
   "metadata": {},
   "source": [
    "###Part A"
   ]
  },
  {
   "cell_type": "markdown",
   "metadata": {
    "collapsed": true
   },
   "source": [
    "When $\\lambda \\to \\infty$, g will be perfectly smooth. it will just be a straight line that passes as closely as possible to the training points. "
   ]
  },
  {
   "cell_type": "markdown",
   "metadata": {},
   "source": [
    "###Part B\n",
    "\n"
   ]
  },
  {
   "cell_type": "markdown",
   "metadata": {},
   "source": []
  },
  {
   "cell_type": "markdown",
   "metadata": {},
   "source": [
    "###Part C"
   ]
  },
  {
   "cell_type": "markdown",
   "metadata": {},
   "source": []
  },
  {
   "cell_type": "markdown",
   "metadata": {},
   "source": [
    "##Exercise 3"
   ]
  },
  {
   "cell_type": "markdown",
   "metadata": {},
   "source": [
    "$$Y=1+X-2(X-1)^{2}=1+X-2(X^2-2X+1)=-2X^2-X-1\\;when\\;X\\geq 1$$\n",
    "$$Y=1+X\\;when\\;o.w.$$\n",
    "\n",
    "Intercepts at (0,1) and (-1,0)"
   ]
  },
  {
   "cell_type": "markdown",
   "metadata": {},
   "source": [
    "##Exercise 6"
   ]
  },
  {
   "cell_type": "markdown",
   "metadata": {},
   "source": [
    "###Part A"
   ]
  },
  {
   "cell_type": "code",
   "execution_count": 26,
   "metadata": {
    "collapsed": false
   },
   "outputs": [
    {
     "data": {
      "text/html": [
       "<ol class=list-inline>\n",
       "\t<li>1675.90129074914</li>\n",
       "\t<li>1600.01247118291</li>\n",
       "\t<li>1595.92542501503</li>\n",
       "\t<li>1595.52569381742</li>\n",
       "\t<li>1595.60877827093</li>\n",
       "\t<li>1593.17312938865</li>\n",
       "\t<li>1595.68756392642</li>\n",
       "\t<li>1594.91294454659</li>\n",
       "\t<li>1592.41662664216</li>\n",
       "\t<li>1594.64785311822</li>\n",
       "</ol>\n"
      ],
      "text/latex": [
       "\\begin{enumerate*}\n",
       "\\item 1675.90129074914\n",
       "\\item 1600.01247118291\n",
       "\\item 1595.92542501503\n",
       "\\item 1595.52569381742\n",
       "\\item 1595.60877827093\n",
       "\\item 1593.17312938865\n",
       "\\item 1595.68756392642\n",
       "\\item 1594.91294454659\n",
       "\\item 1592.41662664216\n",
       "\\item 1594.64785311822\n",
       "\\end{enumerate*}\n"
      ],
      "text/markdown": [
       "1. 1675.90129074914\n",
       "2. 1600.01247118291\n",
       "3. 1595.92542501503\n",
       "4. 1595.52569381742\n",
       "5. 1595.60877827093\n",
       "6. 1593.17312938865\n",
       "7. 1595.68756392642\n",
       "8. 1594.91294454659\n",
       "9. 1592.41662664216\n",
       "10. 1594.64785311822\n",
       "\n",
       "\n"
      ],
      "text/plain": [
       " [1] 1675.901 1600.012 1595.925 1595.526 1595.609 1593.173 1595.688 1594.913\n",
       " [9] 1592.417 1594.648"
      ]
     },
     "execution_count": 26,
     "metadata": {},
     "output_type": "execute_result"
    },
    {
     "data": {
      "text/html": [
       "9"
      ],
      "text/latex": [
       "9"
      ],
      "text/markdown": [
       "9"
      ],
      "text/plain": [
       "[1] 9"
      ]
     },
     "execution_count": 26,
     "metadata": {},
     "output_type": "execute_result"
    }
   ],
   "source": [
    "d = 10\n",
    "library(ISLR)\n",
    "library(boot)\n",
    "poly.cv.error = c()\n",
    "different.d = as.list(1:10)\n",
    "for(i in 1:d){\n",
    "    wage.pm = glm(wage~poly(age, i), data = Wage)\n",
    "    poly.cv.error[i] = cv.glm(Wage, wage.pm, K = 10)$delta[2]\n",
    "    different.d[[i]] = lm(wage~poly(age, i), data = Wage)\n",
    "    }\n",
    "poly.cv.error\n",
    "which.min(poly.cv.error)"
   ]
  },
  {
   "cell_type": "code",
   "execution_count": 27,
   "metadata": {
    "collapsed": false
   },
   "outputs": [
    {
     "name": "stdout",
     "output_type": "stream",
     "text": [
      "Analysis of Variance Table\n",
      "\n",
      "Model  1: wage ~ poly(age, i)\n",
      "Model  2: wage ~ poly(age, i)\n",
      "Model  3: wage ~ poly(age, i)\n",
      "Model  4: wage ~ poly(age, i)\n",
      "Model  5: wage ~ poly(age, i)\n",
      "Model  6: wage ~ poly(age, i)\n",
      "Model  7: wage ~ poly(age, i)\n",
      "Model  8: wage ~ poly(age, i)\n",
      "Model  9: wage ~ poly(age, i)\n",
      "Model 10: wage ~ poly(age, i)\n",
      "   Res.Df     RSS Df Sum of Sq        F    Pr(>F)    \n",
      "1    2998 5022216                                    \n",
      "2    2997 4793430  1    228786 143.7638 < 2.2e-16 ***\n",
      "3    2996 4777674  1     15756   9.9005  0.001669 ** \n",
      "4    2995 4771604  1      6070   3.8143  0.050909 .  \n",
      "5    2994 4770322  1      1283   0.8059  0.369398    \n",
      "6    2993 4766389  1      3932   2.4709  0.116074    \n",
      "7    2992 4763834  1      2555   1.6057  0.205199    \n",
      "8    2991 4763707  1       127   0.0796  0.777865    \n",
      "9    2990 4756703  1      7004   4.4014  0.035994 *  \n",
      "10   2989 4756701  1         3   0.0017  0.967529    \n",
      "---\n",
      "Signif. codes:  0 ‘***’ 0.001 ‘**’ 0.01 ‘*’ 0.05 ‘.’ 0.1 ‘ ’ 1\n"
     ]
    }
   ],
   "source": [
    "print(anova(different.d[[1]], different.d[[2]],different.d[[3]],different.d[[4]],different.d[[5]],\n",
    "     different.d[[6]], different.d[[7]],different.d[[8]],different.d[[9]],different.d[[10]]))"
   ]
  },
  {
   "cell_type": "markdown",
   "metadata": {},
   "source": [
    "Via the cross validated method, a polynomial with the degree of 9 was chosen. Under the ANOVA test, the 9th degree polynomial model is considered significiant; however, not as significant as the second or third degree polynomial."
   ]
  },
  {
   "cell_type": "markdown",
   "metadata": {},
   "source": [
    "###Part B"
   ]
  },
  {
   "cell_type": "code",
   "execution_count": 28,
   "metadata": {
    "collapsed": false
   },
   "outputs": [
    {
     "ename": "ERROR",
     "evalue": "Error in model.frame.default(formula = wage ~ cut(Wage$age, i), data = structure(list(: variable lengths differ (found for 'cut(Wage$age, i)')\n",
     "output_type": "error",
     "traceback": [
      "Error in model.frame.default(formula = wage ~ cut(Wage$age, i), data = structure(list(: variable lengths differ (found for 'cut(Wage$age, i)')\n"
     ]
    },
    {
     "data": {
      "text/html": [
       "<ol class=list-inline>\n",
       "\t<li>1600.01247118291</li>\n",
       "\t<li>1595.92542501503</li>\n",
       "\t<li>1595.52569381742</li>\n",
       "\t<li>1595.60877827093</li>\n",
       "\t<li>1593.17312938865</li>\n",
       "\t<li>1595.68756392642</li>\n",
       "\t<li>1594.91294454659</li>\n",
       "\t<li>1592.41662664216</li>\n",
       "\t<li>1594.64785311822</li>\n",
       "</ol>\n"
      ],
      "text/latex": [
       "\\begin{enumerate*}\n",
       "\\item 1600.01247118291\n",
       "\\item 1595.92542501503\n",
       "\\item 1595.52569381742\n",
       "\\item 1595.60877827093\n",
       "\\item 1593.17312938865\n",
       "\\item 1595.68756392642\n",
       "\\item 1594.91294454659\n",
       "\\item 1592.41662664216\n",
       "\\item 1594.64785311822\n",
       "\\end{enumerate*}\n"
      ],
      "text/markdown": [
       "1. 1600.01247118291\n",
       "2. 1595.92542501503\n",
       "3. 1595.52569381742\n",
       "4. 1595.60877827093\n",
       "5. 1593.17312938865\n",
       "6. 1595.68756392642\n",
       "7. 1594.91294454659\n",
       "8. 1592.41662664216\n",
       "9. 1594.64785311822\n",
       "\n",
       "\n"
      ],
      "text/plain": [
       "[1] 1600.012 1595.925 1595.526 1595.609 1593.173 1595.688 1594.913 1592.417\n",
       "[9] 1594.648"
      ]
     },
     "execution_count": 28,
     "metadata": {},
     "output_type": "execute_result"
    },
    {
     "data": {
      "text/html": [
       "8"
      ],
      "text/latex": [
       "8"
      ],
      "text/markdown": [
       "8"
      ],
      "text/plain": [
       "[1] 8"
      ]
     },
     "execution_count": 28,
     "metadata": {},
     "output_type": "execute_result"
    }
   ],
   "source": [
    "d = 10\n",
    "for(i in 2:d){\n",
    "    #Wage$age_cuts = cut(Wage$age, i)\n",
    "    wage.pm = glm(wage~cut(Wage$age, i), data = Wage)\n",
    "    poly.cv.error[i] = cv.glm(Wage, wage.pm, K = 10)$delta[2]\n",
    "    }\n",
    "poly.cv.error[-1]\n",
    "which.min(poly.cv.error[-1])"
   ]
  },
  {
   "cell_type": "markdown",
   "metadata": {},
   "source": [
    "Eight cuts results in the lowest MSE from a cross-validated model."
   ]
  },
  {
   "cell_type": "markdown",
   "metadata": {},
   "source": [
    "##Exercise 9"
   ]
  },
  {
   "cell_type": "markdown",
   "metadata": {},
   "source": [
    "###Part A"
   ]
  },
  {
   "cell_type": "code",
   "execution_count": 4,
   "metadata": {
    "collapsed": true
   },
   "outputs": [],
   "source": [
    "library(MASS)"
   ]
  },
  {
   "cell_type": "code",
   "execution_count": 5,
   "metadata": {
    "collapsed": false
   },
   "outputs": [
    {
     "data": {
      "text/plain": [
       "\n",
       "Call:\n",
       "lm(formula = nox ~ poly(dis, 3), data = Boston)\n",
       "\n",
       "Residuals:\n",
       "      Min        1Q    Median        3Q       Max \n",
       "-0.121130 -0.040619 -0.009738  0.023385  0.194904 \n",
       "\n",
       "Coefficients:\n",
       "               Estimate Std. Error t value Pr(>|t|)    \n",
       "(Intercept)    0.554695   0.002759 201.021  < 2e-16 ***\n",
       "poly(dis, 3)1 -2.003096   0.062071 -32.271  < 2e-16 ***\n",
       "poly(dis, 3)2  0.856330   0.062071  13.796  < 2e-16 ***\n",
       "poly(dis, 3)3 -0.318049   0.062071  -5.124 4.27e-07 ***\n",
       "---\n",
       "Signif. codes:  0 ‘***’ 0.001 ‘**’ 0.01 ‘*’ 0.05 ‘.’ 0.1 ‘ ’ 1\n",
       "\n",
       "Residual standard error: 0.06207 on 502 degrees of freedom\n",
       "Multiple R-squared:  0.7148,\tAdjusted R-squared:  0.7131 \n",
       "F-statistic: 419.3 on 3 and 502 DF,  p-value: < 2.2e-16\n"
      ]
     },
     "execution_count": 5,
     "metadata": {},
     "output_type": "execute_result"
    }
   ],
   "source": [
    "nox.nlm = lm(nox~poly(dis,3),data = Boston)\n",
    "summary(nox.nlm)"
   ]
  },
  {
   "cell_type": "markdown",
   "metadata": {},
   "source": [
    "###Part B"
   ]
  },
  {
   "cell_type": "code",
   "execution_count": 6,
   "metadata": {
    "collapsed": false
   },
   "outputs": [
    {
     "name": "stdout",
     "output_type": "stream",
     "text": [
      "[1] \"For a polynomial of\" \"1\"                   \"The RSS is\"         \n",
      "[4] \"2.76856285896928\"   \n",
      "[1] \"For a polynomial of\" \"2\"                   \"The RSS is\"         \n",
      "[4] \"2.03526186893526\"   \n",
      "[1] \"For a polynomial of\" \"3\"                   \"The RSS is\"         \n",
      "[4] \"1.93410670717907\"   \n",
      "[1] \"For a polynomial of\" \"4\"                   \"The RSS is\"         \n",
      "[4] \"1.93298132729859\"   \n",
      "[1] \"For a polynomial of\" \"5\"                   \"The RSS is\"         \n",
      "[4] \"1.9152899610843\"    \n",
      "[1] \"For a polynomial of\" \"6\"                   \"The RSS is\"         \n",
      "[4] \"1.87825729850816\"   \n",
      "[1] \"For a polynomial of\" \"7\"                   \"The RSS is\"         \n",
      "[4] \"1.84948361458298\"   \n",
      "[1] \"For a polynomial of\" \"8\"                   \"The RSS is\"         \n",
      "[4] \"1.83562968906769\"   \n",
      "[1] \"For a polynomial of\" \"9\"                   \"The RSS is\"         \n",
      "[4] \"1.8333308044916\"    \n",
      "[1] \"For a polynomial of\" \"10\"                  \"The RSS is\"         \n",
      "[4] \"1.83217112393138\"   \n"
     ]
    }
   ],
   "source": [
    "for(i in 1:10){\n",
    "    nox.nlm = lm(nox~poly(dis,i),data = Boston)\n",
    "    statement = paste(c(\"For a polynomial of\", as.character(i), \"The RSS is\",as.character(sum(nox.nlm$residuals^2))))\n",
    "    print(statement)\n",
    "    }"
   ]
  },
  {
   "cell_type": "markdown",
   "metadata": {},
   "source": [
    "##Exercise 11"
   ]
  },
  {
   "cell_type": "markdown",
   "metadata": {},
   "source": [
    "###Part A"
   ]
  },
  {
   "cell_type": "code",
   "execution_count": 7,
   "metadata": {
    "collapsed": false
   },
   "outputs": [],
   "source": [
    "esp = rnorm(100)\n",
    "x1 = rnorm(100)\n",
    "x2 = rnorm(100)\n",
    "y = x1 + 2*x2 + esp"
   ]
  },
  {
   "cell_type": "markdown",
   "metadata": {},
   "source": [
    "###Part B"
   ]
  },
  {
   "cell_type": "code",
   "execution_count": 8,
   "metadata": {
    "collapsed": true
   },
   "outputs": [],
   "source": [
    "beta1 = 14"
   ]
  },
  {
   "cell_type": "markdown",
   "metadata": {},
   "source": [
    "###Part C"
   ]
  },
  {
   "cell_type": "code",
   "execution_count": 9,
   "metadata": {
    "collapsed": false
   },
   "outputs": [],
   "source": [
    "a=y-beta1*x1\n",
    "beta2=lm(a~x2)$coef[2]"
   ]
  },
  {
   "cell_type": "markdown",
   "metadata": {},
   "source": [
    "###Part D"
   ]
  },
  {
   "cell_type": "code",
   "execution_count": 10,
   "metadata": {
    "collapsed": true
   },
   "outputs": [],
   "source": [
    "a=y-beta2*x2\n",
    "beta1=lm(a~x1)$coef[2]\n",
    "beta0=lm(a~x1)$coef[1]"
   ]
  },
  {
   "cell_type": "markdown",
   "metadata": {},
   "source": [
    "###Part E"
   ]
  },
  {
   "cell_type": "code",
   "execution_count": 11,
   "metadata": {
    "collapsed": false
   },
   "outputs": [],
   "source": [
    "beta1s = rep(beta1,1000)\n",
    "beta2s = rep(beta2,1000)\n",
    "beta0s = rep(beta0,1000)\n",
    "for(i in 2:1000){\n",
    "    a=y-beta1*x1\n",
    "    beta2=lm(a~x2)$coef[2]\n",
    "    beta2s[i] = beta2\n",
    "    a=y-beta2*x2\n",
    "    beta1=lm(a~x1)$coef[2]\n",
    "    beta1s[i] = beta1\n",
    "    beta0=lm(a~x1)$coef[1]\n",
    "    beta0s[i] = beta0\n",
    "    }\n"
   ]
  },
  {
   "cell_type": "code",
   "execution_count": 12,
   "metadata": {
    "collapsed": false
   },
   "outputs": [
    {
     "data": {
      "text/plain": [
       "   Min. 1st Qu.  Median    Mean 3rd Qu.    Max. \n",
       " 0.8395  0.8395  0.8395  0.8397  0.8395  1.0850 "
      ]
     },
     "execution_count": 12,
     "metadata": {},
     "output_type": "execute_result"
    },
    {
     "data": {
      "text/html": [
       "<ol class=list-inline>\n",
       "\t<li>1.08508303690331</li>\n",
       "\t<li>0.844063253544513</li>\n",
       "\t<li>0.839565312432208</li>\n",
       "\t<li>0.839481371296887</li>\n",
       "\t<li>0.839479804777002</li>\n",
       "\t<li>0.839479775542413</li>\n",
       "\t<li>0.839479774996834</li>\n",
       "\t<li>0.839479774986652</li>\n",
       "\t<li>0.839479774986462</li>\n",
       "\t<li>0.839479774986458</li>\n",
       "</ol>\n"
      ],
      "text/latex": [
       "\\begin{enumerate*}\n",
       "\\item 1.08508303690331\n",
       "\\item 0.844063253544513\n",
       "\\item 0.839565312432208\n",
       "\\item 0.839481371296887\n",
       "\\item 0.839479804777002\n",
       "\\item 0.839479775542413\n",
       "\\item 0.839479774996834\n",
       "\\item 0.839479774986652\n",
       "\\item 0.839479774986462\n",
       "\\item 0.839479774986458\n",
       "\\end{enumerate*}\n"
      ],
      "text/markdown": [
       "1. 1.08508303690331\n",
       "2. 0.844063253544513\n",
       "3. 0.839565312432208\n",
       "4. 0.839481371296887\n",
       "5. 0.839479804777002\n",
       "6. 0.839479775542413\n",
       "7. 0.839479774996834\n",
       "8. 0.839479774986652\n",
       "9. 0.839479774986462\n",
       "10. 0.839479774986458\n",
       "\n",
       "\n"
      ],
      "text/plain": [
       " [1] 1.0850830 0.8440633 0.8395653 0.8394814 0.8394798 0.8394798 0.8394798\n",
       " [8] 0.8394798 0.8394798 0.8394798"
      ]
     },
     "execution_count": 12,
     "metadata": {},
     "output_type": "execute_result"
    }
   ],
   "source": [
    "summary(beta1s)\n",
    "unique(beta1s)"
   ]
  },
  {
   "cell_type": "code",
   "execution_count": 13,
   "metadata": {
    "collapsed": false
   },
   "outputs": [
    {
     "data": {
      "text/plain": [
       "   Min. 1st Qu.  Median    Mean 3rd Qu.    Max. \n",
       " 0.3895  2.0900  2.0900  2.0880  2.0900  2.0900 "
      ]
     },
     "execution_count": 13,
     "metadata": {},
     "output_type": "execute_result"
    },
    {
     "data": {
      "text/html": [
       "<ol class=list-inline>\n",
       "\t<li>0.389504273395872</li>\n",
       "\t<li>2.0579839800553</li>\n",
       "\t<li>2.0891213554319</li>\n",
       "\t<li>2.08970244499594</li>\n",
       "\t<li>2.08971328936151</li>\n",
       "\t<li>2.0897134917404</li>\n",
       "\t<li>2.08971349551722</li>\n",
       "\t<li>2.08971349558771</li>\n",
       "\t<li>2.08971349558902</li>\n",
       "\t<li>2.08971349558905</li>\n",
       "\t<li>2.08971349558905</li>\n",
       "</ol>\n"
      ],
      "text/latex": [
       "\\begin{enumerate*}\n",
       "\\item 0.389504273395872\n",
       "\\item 2.0579839800553\n",
       "\\item 2.0891213554319\n",
       "\\item 2.08970244499594\n",
       "\\item 2.08971328936151\n",
       "\\item 2.0897134917404\n",
       "\\item 2.08971349551722\n",
       "\\item 2.08971349558771\n",
       "\\item 2.08971349558902\n",
       "\\item 2.08971349558905\n",
       "\\item 2.08971349558905\n",
       "\\end{enumerate*}\n"
      ],
      "text/markdown": [
       "1. 0.389504273395872\n",
       "2. 2.0579839800553\n",
       "3. 2.0891213554319\n",
       "4. 2.08970244499594\n",
       "5. 2.08971328936151\n",
       "6. 2.0897134917404\n",
       "7. 2.08971349551722\n",
       "8. 2.08971349558771\n",
       "9. 2.08971349558902\n",
       "10. 2.08971349558905\n",
       "11. 2.08971349558905\n",
       "\n",
       "\n"
      ],
      "text/plain": [
       " [1] 0.3895043 2.0579840 2.0891214 2.0897024 2.0897133 2.0897135 2.0897135\n",
       " [8] 2.0897135 2.0897135 2.0897135 2.0897135"
      ]
     },
     "execution_count": 13,
     "metadata": {},
     "output_type": "execute_result"
    }
   ],
   "source": [
    "summary(beta2s)\n",
    "unique(beta2s)"
   ]
  },
  {
   "cell_type": "code",
   "execution_count": 14,
   "metadata": {
    "collapsed": false
   },
   "outputs": [
    {
     "data": {
      "text/plain": [
       "    Min.  1st Qu.   Median     Mean  3rd Qu.     Max. \n",
       "-0.02277  0.10680  0.10680  0.10670  0.10680  0.10680 "
      ]
     },
     "execution_count": 14,
     "metadata": {},
     "output_type": "execute_result"
    },
    {
     "data": {
      "text/html": [
       "<ol class=list-inline>\n",
       "\t<li>-0.0227716051922829</li>\n",
       "\t<li>0.10440601823549</li>\n",
       "\t<li>0.106779422829126</li>\n",
       "\t<li>0.106823715600238</li>\n",
       "\t<li>0.10682454219743</li>\n",
       "\t<li>0.10682455762349</li>\n",
       "\t<li>0.106824557911373</li>\n",
       "\t<li>0.106824557916745</li>\n",
       "\t<li>0.106824557916846</li>\n",
       "\t<li>0.106824557916848</li>\n",
       "\t<li>0.106824557916848</li>\n",
       "</ol>\n"
      ],
      "text/latex": [
       "\\begin{enumerate*}\n",
       "\\item -0.0227716051922829\n",
       "\\item 0.10440601823549\n",
       "\\item 0.106779422829126\n",
       "\\item 0.106823715600238\n",
       "\\item 0.10682454219743\n",
       "\\item 0.10682455762349\n",
       "\\item 0.106824557911373\n",
       "\\item 0.106824557916745\n",
       "\\item 0.106824557916846\n",
       "\\item 0.106824557916848\n",
       "\\item 0.106824557916848\n",
       "\\end{enumerate*}\n"
      ],
      "text/markdown": [
       "1. -0.0227716051922829\n",
       "2. 0.10440601823549\n",
       "3. 0.106779422829126\n",
       "4. 0.106823715600238\n",
       "5. 0.10682454219743\n",
       "6. 0.10682455762349\n",
       "7. 0.106824557911373\n",
       "8. 0.106824557916745\n",
       "9. 0.106824557916846\n",
       "10. 0.106824557916848\n",
       "11. 0.106824557916848\n",
       "\n",
       "\n"
      ],
      "text/plain": [
       " [1] -0.02277161  0.10440602  0.10677942  0.10682372  0.10682454  0.10682456\n",
       " [7]  0.10682456  0.10682456  0.10682456  0.10682456  0.10682456"
      ]
     },
     "execution_count": 14,
     "metadata": {},
     "output_type": "execute_result"
    }
   ],
   "source": [
    "summary(beta0s)\n",
    "unique(beta0s)"
   ]
  },
  {
   "cell_type": "markdown",
   "metadata": {},
   "source": [
    "###Part F"
   ]
  },
  {
   "cell_type": "code",
   "execution_count": 15,
   "metadata": {
    "collapsed": false
   },
   "outputs": [
    {
     "data": {
      "text/plain": [
       "\n",
       "Call:\n",
       "lm(formula = y ~ x1 + x2)\n",
       "\n",
       "Residuals:\n",
       "    Min      1Q  Median      3Q     Max \n",
       "-2.3946 -0.5663  0.0344  0.6700  2.6003 \n",
       "\n",
       "Coefficients:\n",
       "            Estimate Std. Error t value Pr(>|t|)    \n",
       "(Intercept)   0.1068     0.1057   1.010    0.315    \n",
       "x1            0.8395     0.1060   7.923  3.9e-12 ***\n",
       "x2            2.0897     0.1002  20.856  < 2e-16 ***\n",
       "---\n",
       "Signif. codes:  0 ‘***’ 0.001 ‘**’ 0.01 ‘*’ 0.05 ‘.’ 0.1 ‘ ’ 1\n",
       "\n",
       "Residual standard error: 1.047 on 97 degrees of freedom\n",
       "Multiple R-squared:  0.8508,\tAdjusted R-squared:  0.8477 \n",
       "F-statistic: 276.6 on 2 and 97 DF,  p-value: < 2.2e-16\n"
      ]
     },
     "execution_count": 15,
     "metadata": {},
     "output_type": "execute_result"
    }
   ],
   "source": [
    "master.nlm = lm(y~x1+x2)\n",
    "summary(master.nlm)"
   ]
  },
  {
   "cell_type": "markdown",
   "metadata": {},
   "source": [
    "The values obtained from part E, are very close to the values obtained by E which the exception of the 0 percentile values for $\\beta_{0}$ and $\\beta_{2}$ and the 100 percentile with respect to $\\beta_{1}$"
   ]
  }
 ],
 "metadata": {
  "kernelspec": {
   "display_name": "R",
   "language": "R",
   "name": "ir"
  },
  "language_info": {
   "codemirror_mode": "r",
   "file_extension": ".r",
   "mimetype": "text/x-r-source",
   "name": "R",
   "pygments_lexer": "r",
   "version": "3.2.2"
  }
 },
 "nbformat": 4,
 "nbformat_minor": 0
}
