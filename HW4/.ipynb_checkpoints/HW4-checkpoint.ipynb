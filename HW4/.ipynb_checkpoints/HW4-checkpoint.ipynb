{
 "cells": [
  {
   "cell_type": "markdown",
   "metadata": {},
   "source": [
    "# Analytics 512 Homework 4"
   ]
  },
  {
   "cell_type": "markdown",
   "metadata": {},
   "source": [
    "6.8 #1 (4), #8a-d (8) "
   ]
  },
  {
   "cell_type": "markdown",
   "metadata": {},
   "source": [
    "## Exercsise 5.4 #3"
   ]
  },
  {
   "cell_type": "markdown",
   "metadata": {},
   "source": [
    "###Part A\n",
    "<p>K fold validation is implimented by first randomly dividing the sets of observations into k groups that should be about equal sizes. The first group (or fold) is treated as the validation set and the method is fit on the remaining k-1 folds. Then the mean-squared error (MSE) is computed for the fold, this method is then repeated on the remaining k-1 folds.</p>\n",
    "<p>The CV estimate is computed by averaging the various MSEs</p>\n",
    "$$CV_k = \\frac{1}{k}\\sum_{i=1}^{k}MSE_{i}$$"
   ]
  },
  {
   "cell_type": "markdown",
   "metadata": {},
   "source": [
    "###Part B"
   ]
  },
  {
   "cell_type": "markdown",
   "metadata": {},
   "source": [
    "####i\n",
    "<p>The advantages of k fold over the validation set approach are:\n",
    "<ul>the validation estimate of the test error rate can be highly variable</ul>\n",
    "<ul>There's only one subset used to test and train</ul>\n",
    "<ul> the validation set error rate may tend to overestimate the test error rate for the model fit on the entire data set</ul></p>\n",
    "<p>The disadvantages of k fold over the validation set approach are:\n",
    "<ul>The validation method is significiantly easier to impliment since we are splitting only two data sets</ul>\n",
    "<ul>The validation method has significiantly less bias compared to the k-fold method.</ul>\n",
    "</p>"
   ]
  },
  {
   "cell_type": "markdown",
   "metadata": {},
   "source": [
    "####ii\n",
    "<p>The advantages of k fold over LOOCV approach are:\n",
    "<ul>The LOOCV is significiantly more comprehensive compared to the k-fold method</ul>\n",
    "<ul>has a low bias</ul></p>\n",
    "<p>The disadvantages of k fold over LOOCV approach are:\n",
    "<ul>While LOOCV has a low bias, the test error can be highly variable as well</ul>\n",
    "<ul>LOOCV requires going trhough every point, so it requires more time to impliment than k-fold</ul></p>"
   ]
  },
  {
   "cell_type": "markdown",
   "metadata": {},
   "source": [
    "## Exercsise 5.4 #5"
   ]
  },
  {
   "cell_type": "code",
   "execution_count": 33,
   "metadata": {
    "collapsed": false
   },
   "outputs": [
    {
     "name": "stderr",
     "output_type": "stream",
     "text": [
      "The following objects are masked from Default (pos = 3):\n",
      "\n",
      "    balance, default, income, student\n",
      "\n",
      "The following objects are masked from Default (pos = 6):\n",
      "\n",
      "    balance, default, income, student\n",
      "\n"
     ]
    }
   ],
   "source": [
    "library(ISLR)\n",
    "attach(Default)"
   ]
  },
  {
   "cell_type": "markdown",
   "metadata": {},
   "source": [
    "### Part A"
   ]
  },
  {
   "cell_type": "code",
   "execution_count": 34,
   "metadata": {
    "collapsed": false
   },
   "outputs": [],
   "source": [
    "glm.default = glm(default~balance, data = Default, family = binomial)"
   ]
  },
  {
   "cell_type": "markdown",
   "metadata": {},
   "source": [
    "### Part B"
   ]
  },
  {
   "cell_type": "markdown",
   "metadata": {},
   "source": [
    "#### i"
   ]
  },
  {
   "cell_type": "code",
   "execution_count": 35,
   "metadata": {
    "collapsed": true
   },
   "outputs": [],
   "source": [
    "train = sample(nrow(Default), .5*nrow(Default), replace = F)\n",
    "training = Default[train,]\n",
    "validation = Default[-train,]"
   ]
  },
  {
   "cell_type": "markdown",
   "metadata": {
    "collapsed": false
   },
   "source": [
    "#### ii"
   ]
  },
  {
   "cell_type": "code",
   "execution_count": 36,
   "metadata": {
    "collapsed": false
   },
   "outputs": [],
   "source": [
    "glm.default = glm(default~., data = training, family = binomial)"
   ]
  },
  {
   "cell_type": "markdown",
   "metadata": {},
   "source": [
    "#### iii"
   ]
  },
  {
   "cell_type": "code",
   "execution_count": 37,
   "metadata": {
    "collapsed": false
   },
   "outputs": [],
   "source": [
    "pred = predict(glm.default, validation, type = \"response\")\n",
    "pred.default = rep(x = \"No\", times = length(pred))\n",
    "pred.default[pred>0.5] = \"Yes\""
   ]
  },
  {
   "cell_type": "markdown",
   "metadata": {},
   "source": [
    "#### iv"
   ]
  },
  {
   "cell_type": "code",
   "execution_count": 38,
   "metadata": {
    "collapsed": false
   },
   "outputs": [
    {
     "data": {
      "text/html": [
       "0.0268"
      ],
      "text/latex": [
       "0.0268"
      ],
      "text/markdown": [
       "0.0268"
      ],
      "text/plain": [
       "[1] 0.0268"
      ]
     },
     "execution_count": 38,
     "metadata": {},
     "output_type": "execute_result"
    }
   ],
   "source": [
    "mean(pred.default != validation$default)"
   ]
  },
  {
   "cell_type": "markdown",
   "metadata": {},
   "source": [
    "### Part C"
   ]
  },
  {
   "cell_type": "code",
   "execution_count": 39,
   "metadata": {
    "collapsed": false
   },
   "outputs": [
    {
     "data": {
      "text/html": [
       "<ol class=list-inline>\n",
       "\t<li>0.0264</li>\n",
       "\t<li>0.02644</li>\n",
       "</ol>\n"
      ],
      "text/latex": [
       "\\begin{enumerate*}\n",
       "\\item 0.0264\n",
       "\\item 0.02644\n",
       "\\end{enumerate*}\n"
      ],
      "text/markdown": [
       "1. 0.0264\n",
       "2. 0.02644\n",
       "\n",
       "\n"
      ],
      "text/plain": [
       "[1] 0.02640 0.02644"
      ]
     },
     "execution_count": 39,
     "metadata": {},
     "output_type": "execute_result"
    }
   ],
   "source": [
    "glm.default = glm(default~income+balance, data = Default, family = binomial)\n",
    "cost <- function(r, pi = 0){\n",
    "    mean(abs(r-pi) > 0.5)\n",
    "    }\n",
    "library(boot)\n",
    "cv.default = cv.glm(Default, glm.default, cost, K = 10)\n",
    "cv.default$delta"
   ]
  },
  {
   "cell_type": "markdown",
   "metadata": {},
   "source": [
    "### Part D"
   ]
  },
  {
   "cell_type": "code",
   "execution_count": 40,
   "metadata": {
    "collapsed": false
   },
   "outputs": [
    {
     "data": {
      "text/html": [
       "<ol class=list-inline>\n",
       "\t<li>0.0267</li>\n",
       "\t<li>0.02678</li>\n",
       "</ol>\n"
      ],
      "text/latex": [
       "\\begin{enumerate*}\n",
       "\\item 0.0267\n",
       "\\item 0.02678\n",
       "\\end{enumerate*}\n"
      ],
      "text/markdown": [
       "1. 0.0267\n",
       "2. 0.02678\n",
       "\n",
       "\n"
      ],
      "text/plain": [
       "[1] 0.02670 0.02678"
      ]
     },
     "execution_count": 40,
     "metadata": {},
     "output_type": "execute_result"
    }
   ],
   "source": [
    "glm.default = glm(default~income+balance+student, data = Default, family = binomial)\n",
    "cost <- function(r, pi = 0){\n",
    "    mean(abs(r-pi) > 0.5)\n",
    "    }\n",
    "library(boot)\n",
    "cv.default = cv.glm(Default, glm.default, cost, K = 10)\n",
    "cv.default$delta"
   ]
  },
  {
   "cell_type": "markdown",
   "metadata": {
    "collapsed": false
   },
   "source": [
    "The difference in error seems to by minimal, but lower without the student dummy variable. However, I would argue that the differences between the CV errors are small enough that it wouldn't matter."
   ]
  },
  {
   "cell_type": "markdown",
   "metadata": {},
   "source": [
    "## Exercise 6.8 #1"
   ]
  },
  {
   "cell_type": "markdown",
   "metadata": {},
   "source": [
    "###Part A\n",
    "In the case of Best Subset selection, \"This task must be performed with care, because the RSS of these p + 1 models decreases monotonically, and the $R^{2}$ increases monotonically, as the number of features included in the models increases.\" Thus Best Subset selection\n"
   ]
  },
  {
   "cell_type": "markdown",
   "metadata": {},
   "source": [
    "###Part B\n"
   ]
  },
  {
   "cell_type": "markdown",
   "metadata": {},
   "source": [
    "###Part C\n",
    "####i\n",
    "True\n",
    "####ii\n",
    "True\n",
    "####iii\n",
    "False\n",
    "####iv\n",
    "False\n",
    "####v\n",
    "False"
   ]
  },
  {
   "cell_type": "markdown",
   "metadata": {},
   "source": [
    "## Exercise 6.8 #8"
   ]
  },
  {
   "cell_type": "markdown",
   "metadata": {},
   "source": [
    "### Part A"
   ]
  },
  {
   "cell_type": "code",
   "execution_count": 41,
   "metadata": {
    "collapsed": true
   },
   "outputs": [],
   "source": [
    "X = rnorm(100)\n",
    "e = rnorm(100)"
   ]
  },
  {
   "cell_type": "markdown",
   "metadata": {},
   "source": [
    "### Part B"
   ]
  },
  {
   "cell_type": "code",
   "execution_count": 42,
   "metadata": {
    "collapsed": true
   },
   "outputs": [],
   "source": [
    "Y = 21 +45*X+38*X^2+12*X^3+e"
   ]
  },
  {
   "cell_type": "markdown",
   "metadata": {},
   "source": [
    "### Part C"
   ]
  },
  {
   "cell_type": "code",
   "execution_count": 43,
   "metadata": {
    "collapsed": false
   },
   "outputs": [
    {
     "data": {
      "text/html": [
       "<ol class=list-inline>\n",
       "\t<li>'Y'</li>\n",
       "\t<li>'X'</li>\n",
       "</ol>\n"
      ],
      "text/latex": [
       "\\begin{enumerate*}\n",
       "\\item 'Y'\n",
       "\\item 'X'\n",
       "\\end{enumerate*}\n"
      ],
      "text/markdown": [
       "1. 'Y'\n",
       "2. 'X'\n",
       "\n",
       "\n"
      ],
      "text/plain": [
       "[1] \"Y\" \"X\""
      ]
     },
     "execution_count": 43,
     "metadata": {},
     "output_type": "execute_result"
    },
    {
     "name": "stderr",
     "output_type": "stream",
     "text": [
      "Warning message:\n",
      "In leaps.setup(x, y, wt = wt, nbest = nbest, nvmax = nvmax, force.in = force.in, : 1  linear dependencies found"
     ]
    },
    {
     "name": "stdout",
     "output_type": "stream",
     "text": [
      "Reordering variables and trying again:\n"
     ]
    }
   ],
   "source": [
    "XY = data.frame(Y,X)\n",
    "names(XY)\n",
    "library(leaps)\n",
    "best_selection = regsubsets(Y~X+poly(X, 9), data = XY)"
   ]
  },
  {
   "cell_type": "code",
   "execution_count": 44,
   "metadata": {
    "collapsed": false
   },
   "outputs": [],
   "source": [
    "best_selection_summary = summary(best_selection)"
   ]
  },
  {
   "cell_type": "code",
   "execution_count": 49,
   "metadata": {
    "collapsed": false
   },
   "outputs": [
    {
     "data": {
      "image/png": "[encoded data removed]",
      "image/svg+xml": [
       "<?xml version=\"1.0\" encoding=\"UTF-8\"?>\n",
       "<svg xmlns=\"http://www.w3.org/2000/svg\" xmlns:xlink=\"http://www.w3.org/1999/xlink\" width=\"504pt\" height=\"504pt\" viewBox=\"0 0 504 504\" version=\"1.1\">\n",
       "<defs>\n",
       "<g>\n",
       "<symbol overflow=\"visible\" id=\"glyph0-0\">\n",
       "<path style=\"stroke:none;\" d=\"M 0 -5.59375 L 4 -5.59375 L 4 0 L 0 0 Z M 3.359375 -5.203125 L 0.640625 -5.203125 L 2 -3.15625 Z M 3.59375 -0.765625 L 3.59375 -4.84375 L 2.234375 -2.796875 Z M 3.359375 -0.40625 L 2 -2.4375 L 0.640625 -0.40625 Z M 0.40625 -0.765625 L 1.765625 -2.796875 L 0.40625 -4.84375 Z \"/>\n",
       "</symbol>\n",
       "<symbol overflow=\"visible\" id=\"glyph0-1\">\n",
       "<path style=\"stroke:none;\" d=\"M 0.546875 -3.796875 C 0.546875 -4.066406 0.585938 -4.316406 0.671875 -4.546875 C 0.765625 -4.773438 0.890625 -4.96875 1.046875 -5.125 C 1.203125 -5.289062 1.394531 -5.414062 1.625 -5.5 C 1.851562 -5.59375 2.109375 -5.640625 2.390625 -5.640625 C 2.671875 -5.640625 2.914062 -5.597656 3.125 -5.515625 C 3.34375 -5.429688 3.523438 -5.316406 3.671875 -5.171875 C 3.816406 -5.035156 3.925781 -4.875 4 -4.6875 C 4.082031 -4.5 4.125 -4.296875 4.125 -4.078125 C 4.125 -3.828125 4.082031 -3.601562 4 -3.40625 C 3.914062 -3.21875 3.804688 -3.050781 3.671875 -2.90625 C 3.535156 -2.757812 3.378906 -2.625 3.203125 -2.5 C 3.023438 -2.382812 2.847656 -2.273438 2.671875 -2.171875 C 2.492188 -2.066406 2.316406 -1.96875 2.140625 -1.875 C 1.960938 -1.78125 1.800781 -1.675781 1.65625 -1.5625 C 1.570312 -1.5 1.484375 -1.425781 1.390625 -1.34375 C 1.304688 -1.269531 1.226562 -1.1875 1.15625 -1.09375 C 1.09375 -1 1.039062 -0.894531 1 -0.78125 C 0.957031 -0.675781 0.929688 -0.5625 0.921875 -0.4375 L 4.078125 -0.4375 L 4.078125 0 L 0.390625 0 C 0.390625 -0.269531 0.414062 -0.515625 0.46875 -0.734375 C 0.519531 -0.953125 0.640625 -1.164062 0.828125 -1.375 C 1.023438 -1.601562 1.226562 -1.796875 1.4375 -1.953125 C 1.644531 -2.109375 1.847656 -2.25 2.046875 -2.375 C 2.253906 -2.5 2.445312 -2.613281 2.625 -2.71875 C 2.8125 -2.820312 2.972656 -2.9375 3.109375 -3.0625 C 3.242188 -3.1875 3.351562 -3.328125 3.4375 -3.484375 C 3.519531 -3.640625 3.5625 -3.828125 3.5625 -4.046875 C 3.5625 -4.222656 3.53125 -4.382812 3.46875 -4.53125 C 3.40625 -4.675781 3.316406 -4.800781 3.203125 -4.90625 C 3.085938 -5.007812 2.953125 -5.082031 2.796875 -5.125 C 2.648438 -5.175781 2.488281 -5.203125 2.3125 -5.203125 C 2.132812 -5.203125 1.96875 -5.160156 1.8125 -5.078125 C 1.65625 -5.003906 1.519531 -4.90625 1.40625 -4.78125 C 1.300781 -4.65625 1.21875 -4.503906 1.15625 -4.328125 C 1.101562 -4.160156 1.082031 -3.984375 1.09375 -3.796875 Z \"/>\n",
       "</symbol>\n",
       "<symbol overflow=\"visible\" id=\"glyph0-2\">\n",
       "<path style=\"stroke:none;\" d=\"M 2.859375 -1.390625 L 0.28125 -1.390625 L 0.28125 -1.828125 L 2.90625 -5.578125 L 3.375 -5.578125 L 3.375 -1.828125 L 4.15625 -1.828125 L 4.15625 -1.390625 L 3.375 -1.390625 L 3.375 0 L 2.859375 0 Z M 0.796875 -1.828125 L 2.859375 -1.828125 L 2.859375 -4.8125 Z \"/>\n",
       "</symbol>\n",
       "<symbol overflow=\"visible\" id=\"glyph0-3\">\n",
       "<path style=\"stroke:none;\" d=\"M 3.5 -4.25 C 3.4375 -4.539062 3.316406 -4.769531 3.140625 -4.9375 C 2.960938 -5.113281 2.722656 -5.203125 2.421875 -5.203125 C 2.078125 -5.203125 1.800781 -5.117188 1.59375 -4.953125 C 1.394531 -4.796875 1.242188 -4.585938 1.140625 -4.328125 C 1.035156 -4.078125 0.960938 -3.800781 0.921875 -3.5 C 0.890625 -3.207031 0.863281 -2.925781 0.84375 -2.65625 C 0.914062 -2.757812 0.992188 -2.863281 1.078125 -2.96875 C 1.171875 -3.082031 1.273438 -3.179688 1.390625 -3.265625 C 1.503906 -3.347656 1.632812 -3.410156 1.78125 -3.453125 C 1.9375 -3.503906 2.113281 -3.53125 2.3125 -3.53125 C 2.882812 -3.53125 3.328125 -3.367188 3.640625 -3.046875 C 3.953125 -2.722656 4.109375 -2.28125 4.109375 -1.71875 C 4.109375 -1.144531 3.953125 -0.695312 3.640625 -0.375 C 3.328125 -0.0507812 2.878906 0.109375 2.296875 0.109375 C 2.015625 0.109375 1.753906 0.0625 1.515625 -0.03125 C 1.273438 -0.125 1.066406 -0.273438 0.890625 -0.484375 C 0.710938 -0.703125 0.570312 -0.984375 0.46875 -1.328125 C 0.375 -1.671875 0.328125 -2.085938 0.328125 -2.578125 C 0.328125 -2.921875 0.351562 -3.269531 0.40625 -3.625 C 0.46875 -3.988281 0.570312 -4.316406 0.71875 -4.609375 C 0.875 -4.910156 1.082031 -5.15625 1.34375 -5.34375 C 1.613281 -5.539062 1.957031 -5.640625 2.375 -5.640625 C 2.820312 -5.640625 3.191406 -5.519531 3.484375 -5.28125 C 3.785156 -5.050781 3.96875 -4.707031 4.03125 -4.25 Z M 2.296875 -3.109375 C 2.109375 -3.109375 1.929688 -3.066406 1.765625 -2.984375 C 1.609375 -2.910156 1.472656 -2.8125 1.359375 -2.6875 C 1.253906 -2.5625 1.171875 -2.410156 1.109375 -2.234375 C 1.054688 -2.066406 1.03125 -1.890625 1.03125 -1.703125 C 1.03125 -1.546875 1.050781 -1.382812 1.09375 -1.21875 C 1.144531 -1.050781 1.222656 -0.898438 1.328125 -0.765625 C 1.429688 -0.640625 1.5625 -0.53125 1.71875 -0.4375 C 1.875 -0.351562 2.070312 -0.3125 2.3125 -0.3125 C 2.550781 -0.3125 2.75 -0.351562 2.90625 -0.4375 C 3.070312 -0.519531 3.207031 -0.628906 3.3125 -0.765625 C 3.414062 -0.898438 3.488281 -1.050781 3.53125 -1.21875 C 3.570312 -1.394531 3.59375 -1.566406 3.59375 -1.734375 C 3.59375 -2.171875 3.488281 -2.507812 3.28125 -2.75 C 3.070312 -2.988281 2.742188 -3.109375 2.296875 -3.109375 Z \"/>\n",
       "</symbol>\n",
       "<symbol overflow=\"visible\" id=\"glyph0-4\">\n",
       "<path style=\"stroke:none;\" d=\"M 2.234375 -2.765625 C 2.035156 -2.765625 1.851562 -2.738281 1.6875 -2.6875 C 1.519531 -2.632812 1.375 -2.554688 1.25 -2.453125 C 1.132812 -2.359375 1.039062 -2.234375 0.96875 -2.078125 C 0.894531 -1.929688 0.859375 -1.753906 0.859375 -1.546875 C 0.859375 -1.367188 0.890625 -1.207031 0.953125 -1.0625 C 1.023438 -0.914062 1.117188 -0.785156 1.234375 -0.671875 C 1.359375 -0.566406 1.503906 -0.476562 1.671875 -0.40625 C 1.847656 -0.34375 2.046875 -0.3125 2.265625 -0.3125 C 2.453125 -0.3125 2.625 -0.34375 2.78125 -0.40625 C 2.945312 -0.46875 3.085938 -0.554688 3.203125 -0.671875 C 3.328125 -0.785156 3.421875 -0.914062 3.484375 -1.0625 C 3.546875 -1.21875 3.578125 -1.390625 3.578125 -1.578125 C 3.578125 -1.773438 3.539062 -1.945312 3.46875 -2.09375 C 3.40625 -2.238281 3.3125 -2.359375 3.1875 -2.453125 C 3.070312 -2.554688 2.929688 -2.632812 2.765625 -2.6875 C 2.597656 -2.738281 2.421875 -2.765625 2.234375 -2.765625 Z M 2.203125 -5.203125 C 2.046875 -5.203125 1.894531 -5.179688 1.75 -5.140625 C 1.613281 -5.097656 1.492188 -5.035156 1.390625 -4.953125 C 1.285156 -4.867188 1.203125 -4.757812 1.140625 -4.625 C 1.085938 -4.5 1.0625 -4.351562 1.0625 -4.1875 C 1.0625 -4.007812 1.09375 -3.859375 1.15625 -3.734375 C 1.226562 -3.609375 1.316406 -3.503906 1.421875 -3.421875 C 1.535156 -3.347656 1.664062 -3.289062 1.8125 -3.25 C 1.957031 -3.207031 2.109375 -3.1875 2.265625 -3.1875 C 2.421875 -3.1875 2.5625 -3.207031 2.6875 -3.25 C 2.820312 -3.289062 2.9375 -3.351562 3.03125 -3.4375 C 3.132812 -3.53125 3.210938 -3.644531 3.265625 -3.78125 C 3.328125 -3.925781 3.359375 -4.097656 3.359375 -4.296875 C 3.359375 -4.585938 3.265625 -4.8125 3.078125 -4.96875 C 2.890625 -5.125 2.597656 -5.203125 2.203125 -5.203125 Z M 1.34375 -3.03125 C 1.195312 -3.113281 1.070312 -3.191406 0.96875 -3.265625 C 0.875 -3.347656 0.796875 -3.429688 0.734375 -3.515625 C 0.671875 -3.609375 0.625 -3.710938 0.59375 -3.828125 C 0.5625 -3.953125 0.546875 -4.097656 0.546875 -4.265625 C 0.546875 -4.453125 0.585938 -4.628906 0.671875 -4.796875 C 0.765625 -4.972656 0.878906 -5.125 1.015625 -5.25 C 1.160156 -5.375 1.332031 -5.46875 1.53125 -5.53125 C 1.726562 -5.601562 1.9375 -5.640625 2.15625 -5.640625 C 2.375 -5.640625 2.582031 -5.613281 2.78125 -5.5625 C 2.988281 -5.507812 3.171875 -5.425781 3.328125 -5.3125 C 3.492188 -5.195312 3.625 -5.050781 3.71875 -4.875 C 3.8125 -4.707031 3.859375 -4.503906 3.859375 -4.265625 C 3.859375 -3.972656 3.796875 -3.722656 3.671875 -3.515625 C 3.554688 -3.304688 3.363281 -3.132812 3.09375 -3 C 3.40625 -2.882812 3.648438 -2.703125 3.828125 -2.453125 C 4.003906 -2.210938 4.09375 -1.925781 4.09375 -1.59375 C 4.09375 -1.320312 4.046875 -1.078125 3.953125 -0.859375 C 3.859375 -0.648438 3.722656 -0.472656 3.546875 -0.328125 C 3.378906 -0.179688 3.171875 -0.0703125 2.921875 0 C 2.679688 0.0703125 2.410156 0.109375 2.109375 0.109375 C 1.910156 0.109375 1.703125 0.0703125 1.484375 0 C 1.273438 -0.0625 1.085938 -0.160156 0.921875 -0.296875 C 0.753906 -0.441406 0.617188 -0.617188 0.515625 -0.828125 C 0.410156 -1.035156 0.359375 -1.273438 0.359375 -1.546875 C 0.359375 -1.890625 0.441406 -2.191406 0.609375 -2.453125 C 0.773438 -2.710938 1.019531 -2.90625 1.34375 -3.03125 Z \"/>\n",
       "</symbol>\n",
       "<symbol overflow=\"visible\" id=\"glyph0-5\">\n",
       "<path style=\"stroke:none;\" d=\"M 3.78125 -2.09375 C 3.78125 -2.320312 3.742188 -2.539062 3.671875 -2.75 C 3.609375 -2.96875 3.515625 -3.15625 3.390625 -3.3125 C 3.273438 -3.46875 3.128906 -3.59375 2.953125 -3.6875 C 2.785156 -3.78125 2.59375 -3.828125 2.375 -3.828125 C 2.125 -3.828125 1.90625 -3.773438 1.71875 -3.671875 C 1.539062 -3.578125 1.394531 -3.441406 1.28125 -3.265625 C 1.164062 -3.097656 1.078125 -2.898438 1.015625 -2.671875 C 0.960938 -2.453125 0.941406 -2.207031 0.953125 -1.9375 C 0.953125 -1.675781 0.988281 -1.445312 1.0625 -1.25 C 1.132812 -1.050781 1.234375 -0.878906 1.359375 -0.734375 C 1.492188 -0.597656 1.644531 -0.492188 1.8125 -0.421875 C 1.988281 -0.347656 2.175781 -0.3125 2.375 -0.3125 C 2.601562 -0.3125 2.800781 -0.359375 2.96875 -0.453125 C 3.144531 -0.546875 3.289062 -0.671875 3.40625 -0.828125 C 3.53125 -0.984375 3.625 -1.171875 3.6875 -1.390625 C 3.75 -1.609375 3.78125 -1.84375 3.78125 -2.09375 Z M 3.78125 -5.765625 L 4.25 -5.765625 L 4.25 0 L 3.78125 0 L 3.78125 -0.734375 L 3.765625 -0.734375 C 3.691406 -0.585938 3.597656 -0.460938 3.484375 -0.359375 C 3.378906 -0.253906 3.257812 -0.164062 3.125 -0.09375 C 3 -0.03125 2.863281 0.015625 2.71875 0.046875 C 2.582031 0.0859375 2.445312 0.109375 2.3125 0.109375 C 1.976562 0.109375 1.691406 0.0546875 1.453125 -0.046875 C 1.222656 -0.160156 1.03125 -0.316406 0.875 -0.515625 C 0.726562 -0.710938 0.617188 -0.941406 0.546875 -1.203125 C 0.484375 -1.472656 0.453125 -1.757812 0.453125 -2.0625 C 0.453125 -2.351562 0.488281 -2.628906 0.5625 -2.890625 C 0.632812 -3.160156 0.742188 -3.394531 0.890625 -3.59375 C 1.046875 -3.789062 1.238281 -3.945312 1.46875 -4.0625 C 1.707031 -4.1875 1.984375 -4.25 2.296875 -4.25 C 2.585938 -4.25 2.867188 -4.179688 3.140625 -4.046875 C 3.410156 -3.921875 3.625 -3.734375 3.78125 -3.484375 Z \"/>\n",
       "</symbol>\n",
       "<symbol overflow=\"visible\" id=\"glyph0-6\">\n",
       "<path style=\"stroke:none;\" d=\"M 3.578125 -2.359375 C 3.578125 -2.554688 3.546875 -2.742188 3.484375 -2.921875 C 3.429688 -3.109375 3.347656 -3.265625 3.234375 -3.390625 C 3.128906 -3.523438 2.992188 -3.628906 2.828125 -3.703125 C 2.660156 -3.785156 2.472656 -3.828125 2.265625 -3.828125 C 2.046875 -3.828125 1.851562 -3.785156 1.6875 -3.703125 C 1.53125 -3.617188 1.394531 -3.507812 1.28125 -3.375 C 1.164062 -3.25 1.070312 -3.097656 1 -2.921875 C 0.9375 -2.742188 0.894531 -2.554688 0.875 -2.359375 Z M 0.875 -1.953125 C 0.875 -1.734375 0.898438 -1.523438 0.953125 -1.328125 C 1.015625 -1.128906 1.101562 -0.953125 1.21875 -0.796875 C 1.332031 -0.648438 1.476562 -0.53125 1.65625 -0.4375 C 1.832031 -0.351562 2.035156 -0.3125 2.265625 -0.3125 C 2.578125 -0.3125 2.84375 -0.394531 3.0625 -0.5625 C 3.289062 -0.726562 3.441406 -0.960938 3.515625 -1.265625 L 4.0625 -1.265625 C 4 -1.066406 3.921875 -0.882812 3.828125 -0.71875 C 3.734375 -0.550781 3.613281 -0.40625 3.46875 -0.28125 C 3.320312 -0.15625 3.148438 -0.0625 2.953125 0 C 2.753906 0.0703125 2.523438 0.109375 2.265625 0.109375 C 1.929688 0.109375 1.644531 0.0546875 1.40625 -0.046875 C 1.164062 -0.160156 0.96875 -0.316406 0.8125 -0.515625 C 0.65625 -0.710938 0.539062 -0.941406 0.46875 -1.203125 C 0.394531 -1.460938 0.359375 -1.75 0.359375 -2.0625 C 0.359375 -2.363281 0.398438 -2.644531 0.484375 -2.90625 C 0.578125 -3.175781 0.703125 -3.410156 0.859375 -3.609375 C 1.023438 -3.804688 1.222656 -3.960938 1.453125 -4.078125 C 1.691406 -4.191406 1.960938 -4.25 2.265625 -4.25 C 2.835938 -4.25 3.285156 -4.050781 3.609375 -3.65625 C 3.929688 -3.269531 4.09375 -2.703125 4.09375 -1.953125 Z \"/>\n",
       "</symbol>\n",
       "<symbol overflow=\"visible\" id=\"glyph0-7\">\n",
       "<path style=\"stroke:none;\" d=\"M 3.78125 -2.0625 C 3.78125 -2.3125 3.75 -2.539062 3.6875 -2.75 C 3.625 -2.96875 3.53125 -3.15625 3.40625 -3.3125 C 3.289062 -3.46875 3.144531 -3.59375 2.96875 -3.6875 C 2.800781 -3.78125 2.601562 -3.828125 2.375 -3.828125 C 2.175781 -3.828125 1.988281 -3.789062 1.8125 -3.71875 C 1.644531 -3.644531 1.492188 -3.535156 1.359375 -3.390625 C 1.234375 -3.253906 1.132812 -3.085938 1.0625 -2.890625 C 0.988281 -2.691406 0.953125 -2.460938 0.953125 -2.203125 C 0.941406 -1.941406 0.960938 -1.695312 1.015625 -1.46875 C 1.078125 -1.238281 1.164062 -1.035156 1.28125 -0.859375 C 1.394531 -0.691406 1.539062 -0.554688 1.71875 -0.453125 C 1.90625 -0.359375 2.125 -0.3125 2.375 -0.3125 C 2.59375 -0.3125 2.785156 -0.359375 2.953125 -0.453125 C 3.128906 -0.546875 3.273438 -0.671875 3.390625 -0.828125 C 3.515625 -0.992188 3.609375 -1.179688 3.671875 -1.390625 C 3.742188 -1.597656 3.78125 -1.820312 3.78125 -2.0625 Z M 3.78125 -4.140625 L 4.25 -4.140625 L 4.25 -0.40625 C 4.25 -0.125 4.222656 0.140625 4.171875 0.390625 C 4.117188 0.648438 4.019531 0.875 3.875 1.0625 C 3.726562 1.257812 3.53125 1.414062 3.28125 1.53125 C 3.03125 1.644531 2.707031 1.703125 2.3125 1.703125 C 2.007812 1.703125 1.75 1.660156 1.53125 1.578125 C 1.3125 1.503906 1.128906 1.40625 0.984375 1.28125 C 0.847656 1.164062 0.742188 1.035156 0.671875 0.890625 C 0.597656 0.753906 0.5625 0.625 0.5625 0.5 L 1.078125 0.5 C 1.109375 0.65625 1.164062 0.78125 1.25 0.875 C 1.332031 0.976562 1.425781 1.054688 1.53125 1.109375 C 1.644531 1.171875 1.765625 1.210938 1.890625 1.234375 C 2.023438 1.253906 2.164062 1.265625 2.3125 1.265625 C 2.632812 1.265625 2.894531 1.207031 3.09375 1.09375 C 3.289062 0.976562 3.441406 0.832031 3.546875 0.65625 C 3.648438 0.476562 3.710938 0.273438 3.734375 0.046875 C 3.765625 -0.179688 3.78125 -0.414062 3.78125 -0.65625 C 3.625 -0.40625 3.410156 -0.210938 3.140625 -0.078125 C 2.867188 0.046875 2.585938 0.109375 2.296875 0.109375 C 1.984375 0.109375 1.707031 0.0507812 1.46875 -0.0625 C 1.238281 -0.1875 1.046875 -0.347656 0.890625 -0.546875 C 0.742188 -0.742188 0.632812 -0.972656 0.5625 -1.234375 C 0.488281 -1.503906 0.453125 -1.785156 0.453125 -2.078125 C 0.453125 -2.378906 0.484375 -2.664062 0.546875 -2.9375 C 0.617188 -3.207031 0.726562 -3.4375 0.875 -3.625 C 1.03125 -3.820312 1.222656 -3.972656 1.453125 -4.078125 C 1.691406 -4.191406 1.976562 -4.25 2.3125 -4.25 C 2.445312 -4.25 2.582031 -4.226562 2.71875 -4.1875 C 2.863281 -4.15625 3 -4.101562 3.125 -4.03125 C 3.257812 -3.96875 3.378906 -3.878906 3.484375 -3.765625 C 3.597656 -3.660156 3.691406 -3.546875 3.765625 -3.421875 L 3.78125 -3.421875 Z \"/>\n",
       "</symbol>\n",
       "<symbol overflow=\"visible\" id=\"glyph0-8\">\n",
       "<path style=\"stroke:none;\" d=\"M 1.078125 0 L 0.59375 0 L 0.59375 -4.140625 L 1.078125 -4.140625 L 1.078125 -3.375 L 1.09375 -3.375 C 1.226562 -3.695312 1.398438 -3.921875 1.609375 -4.046875 C 1.816406 -4.179688 2.097656 -4.25 2.453125 -4.25 L 2.453125 -3.734375 C 2.179688 -3.742188 1.957031 -3.703125 1.78125 -3.609375 C 1.601562 -3.515625 1.460938 -3.390625 1.359375 -3.234375 C 1.253906 -3.085938 1.179688 -2.90625 1.140625 -2.6875 C 1.097656 -2.476562 1.078125 -2.257812 1.078125 -2.03125 Z \"/>\n",
       "</symbol>\n",
       "<symbol overflow=\"visible\" id=\"glyph0-9\">\n",
       "<path style=\"stroke:none;\" d=\"\"/>\n",
       "</symbol>\n",
       "<symbol overflow=\"visible\" id=\"glyph0-10\">\n",
       "<path style=\"stroke:none;\" d=\"M 2.21875 0.109375 C 1.957031 0.109375 1.707031 0.0625 1.46875 -0.03125 C 1.238281 -0.125 1.035156 -0.257812 0.859375 -0.4375 C 0.691406 -0.625 0.554688 -0.851562 0.453125 -1.125 C 0.347656 -1.394531 0.296875 -1.710938 0.296875 -2.078125 C 0.296875 -2.378906 0.335938 -2.660156 0.421875 -2.921875 C 0.503906 -3.179688 0.625 -3.410156 0.78125 -3.609375 C 0.945312 -3.804688 1.148438 -3.960938 1.390625 -4.078125 C 1.628906 -4.191406 1.90625 -4.25 2.21875 -4.25 C 2.550781 -4.25 2.835938 -4.191406 3.078125 -4.078125 C 3.316406 -3.960938 3.515625 -3.804688 3.671875 -3.609375 C 3.828125 -3.421875 3.941406 -3.191406 4.015625 -2.921875 C 4.097656 -2.660156 4.140625 -2.378906 4.140625 -2.078125 C 4.140625 -1.742188 4.09375 -1.441406 4 -1.171875 C 3.914062 -0.910156 3.789062 -0.679688 3.625 -0.484375 C 3.457031 -0.296875 3.253906 -0.148438 3.015625 -0.046875 C 2.773438 0.0546875 2.507812 0.109375 2.21875 0.109375 Z M 3.625 -2.078125 C 3.625 -2.316406 3.597656 -2.539062 3.546875 -2.75 C 3.492188 -2.96875 3.410156 -3.15625 3.296875 -3.3125 C 3.191406 -3.46875 3.050781 -3.59375 2.875 -3.6875 C 2.695312 -3.78125 2.476562 -3.828125 2.21875 -3.828125 C 1.96875 -3.828125 1.753906 -3.773438 1.578125 -3.671875 C 1.398438 -3.578125 1.253906 -3.445312 1.140625 -3.28125 C 1.023438 -3.125 0.941406 -2.9375 0.890625 -2.71875 C 0.835938 -2.507812 0.8125 -2.296875 0.8125 -2.078125 C 0.8125 -1.816406 0.84375 -1.578125 0.90625 -1.359375 C 0.96875 -1.148438 1.054688 -0.96875 1.171875 -0.8125 C 1.296875 -0.65625 1.441406 -0.53125 1.609375 -0.4375 C 1.785156 -0.351562 1.988281 -0.3125 2.21875 -0.3125 C 2.46875 -0.3125 2.679688 -0.359375 2.859375 -0.453125 C 3.046875 -0.554688 3.191406 -0.691406 3.296875 -0.859375 C 3.410156 -1.023438 3.492188 -1.210938 3.546875 -1.421875 C 3.597656 -1.628906 3.625 -1.847656 3.625 -2.078125 Z \"/>\n",
       "</symbol>\n",
       "<symbol overflow=\"visible\" id=\"glyph0-11\">\n",
       "<path style=\"stroke:none;\" d=\"M 0.15625 -3.75 L 0.15625 -4.140625 L 0.78125 -4.140625 L 0.78125 -4.796875 C 0.78125 -5.128906 0.84375 -5.390625 0.96875 -5.578125 C 1.101562 -5.773438 1.332031 -5.875 1.65625 -5.875 C 1.726562 -5.875 1.796875 -5.867188 1.859375 -5.859375 C 1.921875 -5.859375 1.988281 -5.851562 2.0625 -5.84375 L 2.0625 -5.40625 C 1.945312 -5.425781 1.847656 -5.4375 1.765625 -5.4375 C 1.640625 -5.4375 1.539062 -5.410156 1.46875 -5.359375 C 1.40625 -5.316406 1.359375 -5.257812 1.328125 -5.1875 C 1.296875 -5.113281 1.273438 -5.03125 1.265625 -4.9375 C 1.253906 -4.84375 1.25 -4.75 1.25 -4.65625 L 1.25 -4.140625 L 2.0625 -4.140625 L 2.0625 -3.75 L 1.25 -3.75 L 1.25 0 L 0.78125 0 L 0.78125 -3.75 Z \"/>\n",
       "</symbol>\n",
       "<symbol overflow=\"visible\" id=\"glyph0-12\">\n",
       "<path style=\"stroke:none;\" d=\"M 1.109375 -2.0625 C 1.109375 -1.820312 1.140625 -1.597656 1.203125 -1.390625 C 1.265625 -1.179688 1.351562 -0.992188 1.46875 -0.828125 C 1.59375 -0.671875 1.742188 -0.546875 1.921875 -0.453125 C 2.097656 -0.359375 2.296875 -0.3125 2.515625 -0.3125 C 2.753906 -0.3125 2.96875 -0.359375 3.15625 -0.453125 C 3.34375 -0.554688 3.492188 -0.691406 3.609375 -0.859375 C 3.722656 -1.035156 3.804688 -1.238281 3.859375 -1.46875 C 3.910156 -1.695312 3.929688 -1.941406 3.921875 -2.203125 C 3.921875 -2.460938 3.882812 -2.691406 3.8125 -2.890625 C 3.75 -3.085938 3.648438 -3.253906 3.515625 -3.390625 C 3.390625 -3.535156 3.238281 -3.644531 3.0625 -3.71875 C 2.894531 -3.789062 2.710938 -3.828125 2.515625 -3.828125 C 2.285156 -3.828125 2.082031 -3.78125 1.90625 -3.6875 C 1.726562 -3.59375 1.582031 -3.46875 1.46875 -3.3125 C 1.351562 -3.15625 1.265625 -2.96875 1.203125 -2.75 C 1.140625 -2.539062 1.109375 -2.3125 1.109375 -2.0625 Z M 1.109375 1.625 L 0.625 1.625 L 0.625 -4.140625 L 1.109375 -4.140625 L 1.109375 -3.421875 L 1.125 -3.421875 C 1.195312 -3.546875 1.285156 -3.660156 1.390625 -3.765625 C 1.503906 -3.878906 1.625 -3.96875 1.75 -4.03125 C 1.882812 -4.101562 2.019531 -4.15625 2.15625 -4.1875 C 2.300781 -4.226562 2.4375 -4.25 2.5625 -4.25 C 2.90625 -4.25 3.191406 -4.191406 3.421875 -4.078125 C 3.660156 -3.972656 3.851562 -3.820312 4 -3.625 C 4.15625 -3.4375 4.265625 -3.207031 4.328125 -2.9375 C 4.398438 -2.664062 4.4375 -2.378906 4.4375 -2.078125 C 4.4375 -1.785156 4.398438 -1.503906 4.328125 -1.234375 C 4.253906 -0.972656 4.140625 -0.742188 3.984375 -0.546875 C 3.835938 -0.347656 3.644531 -0.1875 3.40625 -0.0625 C 3.175781 0.0507812 2.90625 0.109375 2.59375 0.109375 C 2.300781 0.109375 2.019531 0.046875 1.75 -0.078125 C 1.476562 -0.210938 1.265625 -0.40625 1.109375 -0.65625 Z \"/>\n",
       "</symbol>\n",
       "<symbol overflow=\"visible\" id=\"glyph0-13\">\n",
       "<path style=\"stroke:none;\" d=\"M 0.640625 0 L 0.640625 -5.765625 L 1.125 -5.765625 L 1.125 0 Z \"/>\n",
       "</symbol>\n",
       "<symbol overflow=\"visible\" id=\"glyph0-14\">\n",
       "<path style=\"stroke:none;\" d=\"M 0.546875 1.125 C 0.609375 1.132812 0.671875 1.144531 0.734375 1.15625 C 0.804688 1.164062 0.875 1.171875 0.9375 1.171875 C 1.070312 1.171875 1.179688 1.128906 1.265625 1.046875 C 1.359375 0.960938 1.429688 0.859375 1.484375 0.734375 C 1.535156 0.617188 1.582031 0.492188 1.625 0.359375 C 1.664062 0.234375 1.707031 0.125 1.75 0.03125 L 0.140625 -4.140625 L 0.6875 -4.140625 L 2.015625 -0.578125 L 3.34375 -4.140625 L 3.859375 -4.140625 L 2.3125 -0.0625 C 2.21875 0.207031 2.125 0.441406 2.03125 0.640625 C 1.945312 0.847656 1.851562 1.023438 1.75 1.171875 C 1.65625 1.328125 1.546875 1.441406 1.421875 1.515625 C 1.304688 1.585938 1.164062 1.625 1 1.625 C 0.914062 1.625 0.832031 1.617188 0.75 1.609375 C 0.675781 1.597656 0.609375 1.585938 0.546875 1.578125 Z \"/>\n",
       "</symbol>\n",
       "<symbol overflow=\"visible\" id=\"glyph0-15\">\n",
       "<path style=\"stroke:none;\" d=\"M 1.0625 0 L 0.578125 0 L 0.578125 -4.140625 L 1.0625 -4.140625 L 1.0625 -3.5625 C 1.25 -3.769531 1.441406 -3.9375 1.640625 -4.0625 C 1.847656 -4.1875 2.097656 -4.25 2.390625 -4.25 C 2.648438 -4.25 2.890625 -4.203125 3.109375 -4.109375 C 3.328125 -4.023438 3.507812 -3.875 3.65625 -3.65625 C 3.757812 -3.507812 3.816406 -3.359375 3.828125 -3.203125 C 3.847656 -3.046875 3.859375 -2.882812 3.859375 -2.71875 L 3.859375 0 L 3.390625 0 L 3.390625 -2.703125 C 3.390625 -3.078125 3.304688 -3.359375 3.140625 -3.546875 C 2.972656 -3.734375 2.695312 -3.828125 2.3125 -3.828125 C 2.164062 -3.828125 2.03125 -3.800781 1.90625 -3.75 C 1.78125 -3.707031 1.664062 -3.648438 1.5625 -3.578125 C 1.46875 -3.503906 1.382812 -3.414062 1.3125 -3.3125 C 1.25 -3.21875 1.195312 -3.117188 1.15625 -3.015625 C 1.113281 -2.878906 1.085938 -2.75 1.078125 -2.625 C 1.066406 -2.507812 1.0625 -2.378906 1.0625 -2.234375 Z \"/>\n",
       "</symbol>\n",
       "<symbol overflow=\"visible\" id=\"glyph0-16\">\n",
       "<path style=\"stroke:none;\" d=\"M 0.984375 0 L 0.515625 0 L 0.515625 -4.140625 L 0.984375 -4.140625 L 0.984375 -3.515625 L 1.015625 -3.515625 C 1.128906 -3.753906 1.300781 -3.9375 1.53125 -4.0625 C 1.757812 -4.1875 2.007812 -4.25 2.28125 -4.25 C 2.476562 -4.25 2.640625 -4.226562 2.765625 -4.1875 C 2.898438 -4.144531 3.015625 -4.085938 3.109375 -4.015625 C 3.203125 -3.941406 3.28125 -3.859375 3.34375 -3.765625 C 3.40625 -3.671875 3.457031 -3.566406 3.5 -3.453125 C 3.644531 -3.722656 3.832031 -3.921875 4.0625 -4.046875 C 4.289062 -4.179688 4.554688 -4.25 4.859375 -4.25 C 5.140625 -4.25 5.363281 -4.203125 5.53125 -4.109375 C 5.695312 -4.015625 5.828125 -3.890625 5.921875 -3.734375 C 6.015625 -3.585938 6.070312 -3.414062 6.09375 -3.21875 C 6.125 -3.019531 6.140625 -2.816406 6.140625 -2.609375 L 6.140625 0 L 5.65625 0 L 5.65625 -2.859375 C 5.65625 -3.160156 5.59375 -3.394531 5.46875 -3.5625 C 5.34375 -3.738281 5.113281 -3.828125 4.78125 -3.828125 C 4.601562 -3.828125 4.429688 -3.785156 4.265625 -3.703125 C 4.109375 -3.628906 3.96875 -3.515625 3.84375 -3.359375 C 3.789062 -3.285156 3.742188 -3.203125 3.703125 -3.109375 C 3.671875 -3.015625 3.644531 -2.914062 3.625 -2.8125 C 3.601562 -2.707031 3.585938 -2.601562 3.578125 -2.5 C 3.566406 -2.40625 3.5625 -2.316406 3.5625 -2.234375 L 3.5625 0 L 3.09375 0 L 3.09375 -2.859375 C 3.09375 -3.160156 3.03125 -3.394531 2.90625 -3.5625 C 2.78125 -3.738281 2.546875 -3.828125 2.203125 -3.828125 C 2.023438 -3.828125 1.851562 -3.785156 1.6875 -3.703125 C 1.53125 -3.628906 1.390625 -3.515625 1.265625 -3.359375 C 1.210938 -3.285156 1.164062 -3.203125 1.125 -3.109375 C 1.09375 -3.015625 1.066406 -2.914062 1.046875 -2.8125 C 1.023438 -2.707031 1.007812 -2.601562 1 -2.5 C 0.988281 -2.40625 0.984375 -2.316406 0.984375 -2.234375 Z \"/>\n",
       "</symbol>\n",
       "<symbol overflow=\"visible\" id=\"glyph0-17\">\n",
       "<path style=\"stroke:none;\" d=\"M 0.640625 0 L 0.640625 -4.140625 L 1.125 -4.140625 L 1.125 0 Z M 0.625 -5.046875 L 0.625 -5.765625 L 1.15625 -5.765625 L 1.15625 -5.046875 Z \"/>\n",
       "</symbol>\n",
       "<symbol overflow=\"visible\" id=\"glyph0-18\">\n",
       "<path style=\"stroke:none;\" d=\"M 3.28125 -2.171875 C 3.082031 -2.085938 2.878906 -2.03125 2.671875 -2 C 2.460938 -1.976562 2.253906 -1.957031 2.046875 -1.9375 C 1.679688 -1.914062 1.394531 -1.832031 1.1875 -1.6875 C 0.976562 -1.550781 0.875 -1.34375 0.875 -1.0625 C 0.875 -0.9375 0.898438 -0.828125 0.953125 -0.734375 C 1.003906 -0.640625 1.070312 -0.5625 1.15625 -0.5 C 1.238281 -0.4375 1.332031 -0.390625 1.4375 -0.359375 C 1.550781 -0.328125 1.664062 -0.3125 1.78125 -0.3125 C 1.96875 -0.3125 2.148438 -0.335938 2.328125 -0.390625 C 2.515625 -0.441406 2.675781 -0.515625 2.8125 -0.609375 C 2.957031 -0.710938 3.070312 -0.835938 3.15625 -0.984375 C 3.238281 -1.140625 3.28125 -1.320312 3.28125 -1.53125 Z M 2.484375 -2.421875 C 2.566406 -2.429688 2.671875 -2.445312 2.796875 -2.46875 C 2.921875 -2.488281 3.023438 -2.515625 3.109375 -2.546875 C 3.191406 -2.585938 3.238281 -2.648438 3.25 -2.734375 C 3.269531 -2.828125 3.28125 -2.910156 3.28125 -2.984375 C 3.28125 -3.234375 3.203125 -3.4375 3.046875 -3.59375 C 2.890625 -3.75 2.625 -3.828125 2.25 -3.828125 C 2.09375 -3.828125 1.941406 -3.8125 1.796875 -3.78125 C 1.660156 -3.75 1.539062 -3.695312 1.4375 -3.625 C 1.332031 -3.550781 1.242188 -3.453125 1.171875 -3.328125 C 1.109375 -3.210938 1.066406 -3.066406 1.046875 -2.890625 L 0.5625 -2.890625 C 0.570312 -3.128906 0.625 -3.335938 0.71875 -3.515625 C 0.820312 -3.691406 0.945312 -3.832031 1.09375 -3.9375 C 1.25 -4.050781 1.425781 -4.128906 1.625 -4.171875 C 1.820312 -4.222656 2.035156 -4.25 2.265625 -4.25 C 2.472656 -4.25 2.664062 -4.226562 2.84375 -4.1875 C 3.03125 -4.144531 3.191406 -4.070312 3.328125 -3.96875 C 3.460938 -3.875 3.566406 -3.742188 3.640625 -3.578125 C 3.722656 -3.410156 3.765625 -3.207031 3.765625 -2.96875 L 3.765625 -0.71875 C 3.765625 -0.53125 3.796875 -0.410156 3.859375 -0.359375 C 3.929688 -0.304688 4.066406 -0.316406 4.265625 -0.390625 L 4.265625 -0.015625 C 4.234375 -0.00390625 4.179688 0.0078125 4.109375 0.03125 C 4.035156 0.0507812 3.960938 0.0625 3.890625 0.0625 C 3.816406 0.0625 3.75 0.0546875 3.6875 0.046875 C 3.601562 0.0351562 3.535156 0.0078125 3.484375 -0.03125 C 3.441406 -0.0703125 3.40625 -0.117188 3.375 -0.171875 C 3.34375 -0.234375 3.320312 -0.296875 3.3125 -0.359375 C 3.300781 -0.429688 3.296875 -0.503906 3.296875 -0.578125 C 3.085938 -0.347656 2.851562 -0.175781 2.59375 -0.0625 C 2.332031 0.0507812 2.050781 0.109375 1.75 0.109375 C 1.570312 0.109375 1.394531 0.0820312 1.21875 0.03125 C 1.050781 -0.0078125 0.90625 -0.0820312 0.78125 -0.1875 C 0.65625 -0.289062 0.554688 -0.414062 0.484375 -0.5625 C 0.410156 -0.707031 0.375 -0.878906 0.375 -1.078125 C 0.375 -1.785156 0.851562 -2.203125 1.8125 -2.328125 Z \"/>\n",
       "</symbol>\n",
       "<symbol overflow=\"visible\" id=\"glyph1-0\">\n",
       "<path style=\"stroke:none;\" d=\"M -5.59375 0 L -5.59375 -4 L 0 -4 L 0 0 Z M -5.203125 -3.359375 L -5.203125 -0.640625 L -3.15625 -2 Z M -0.765625 -3.59375 L -4.84375 -3.59375 L -2.796875 -2.234375 Z M -0.40625 -3.359375 L -2.4375 -2 L -0.40625 -0.640625 Z M -0.765625 -0.40625 L -2.796875 -1.765625 L -4.84375 -0.40625 Z \"/>\n",
       "</symbol>\n",
       "<symbol overflow=\"visible\" id=\"glyph1-1\">\n",
       "<path style=\"stroke:none;\" d=\"M -2.78125 -3.609375 C -3.082031 -3.609375 -3.378906 -3.59375 -3.671875 -3.5625 C -3.960938 -3.53125 -4.222656 -3.460938 -4.453125 -3.359375 C -4.679688 -3.253906 -4.863281 -3.109375 -5 -2.921875 C -5.132812 -2.742188 -5.203125 -2.503906 -5.203125 -2.203125 C -5.203125 -1.921875 -5.128906 -1.691406 -4.984375 -1.515625 C -4.847656 -1.335938 -4.660156 -1.195312 -4.421875 -1.09375 C -4.191406 -0.988281 -3.925781 -0.914062 -3.625 -0.875 C -3.332031 -0.84375 -3.03125 -0.828125 -2.71875 -0.828125 C -2.351562 -0.828125 -2.019531 -0.847656 -1.71875 -0.890625 C -1.425781 -0.929688 -1.175781 -1.003906 -0.96875 -1.109375 C -0.757812 -1.222656 -0.597656 -1.367188 -0.484375 -1.546875 C -0.367188 -1.722656 -0.3125 -1.945312 -0.3125 -2.21875 C -0.3125 -2.53125 -0.382812 -2.773438 -0.53125 -2.953125 C -0.6875 -3.140625 -0.878906 -3.28125 -1.109375 -3.375 C -1.347656 -3.46875 -1.613281 -3.53125 -1.90625 -3.5625 C -2.207031 -3.59375 -2.5 -3.609375 -2.78125 -3.609375 Z M -5.640625 -2.21875 C -5.640625 -2.5 -5.597656 -2.738281 -5.515625 -2.9375 C -5.429688 -3.144531 -5.316406 -3.316406 -5.171875 -3.453125 C -5.023438 -3.597656 -4.859375 -3.710938 -4.671875 -3.796875 C -4.484375 -3.890625 -4.28125 -3.957031 -4.0625 -4 C -3.84375 -4.050781 -3.617188 -4.082031 -3.390625 -4.09375 C -3.160156 -4.113281 -2.9375 -4.125 -2.71875 -4.125 C -2.34375 -4.125 -1.984375 -4.097656 -1.640625 -4.046875 C -1.304688 -3.992188 -1.007812 -3.894531 -0.75 -3.75 C -0.488281 -3.613281 -0.28125 -3.421875 -0.125 -3.171875 C 0.03125 -2.929688 0.109375 -2.613281 0.109375 -2.21875 C 0.109375 -1.832031 0.03125 -1.515625 -0.125 -1.265625 C -0.28125 -1.015625 -0.488281 -0.816406 -0.75 -0.671875 C -1.007812 -0.535156 -1.3125 -0.441406 -1.65625 -0.390625 C -2.007812 -0.335938 -2.382812 -0.3125 -2.78125 -0.3125 C -3.132812 -0.3125 -3.484375 -0.332031 -3.828125 -0.375 C -4.171875 -0.425781 -4.472656 -0.519531 -4.734375 -0.65625 C -5.003906 -0.789062 -5.222656 -0.984375 -5.390625 -1.234375 C -5.554688 -1.484375 -5.640625 -1.8125 -5.640625 -2.21875 Z \"/>\n",
       "</symbol>\n",
       "<symbol overflow=\"visible\" id=\"glyph1-2\">\n",
       "<path style=\"stroke:none;\" d=\"M -1.46875 -0.796875 C -1.082031 -0.847656 -0.789062 -1 -0.59375 -1.25 C -0.40625 -1.5 -0.3125 -1.8125 -0.3125 -2.1875 C -0.3125 -2.394531 -0.347656 -2.582031 -0.421875 -2.75 C -0.503906 -2.914062 -0.609375 -3.054688 -0.734375 -3.171875 C -0.867188 -3.296875 -1.019531 -3.382812 -1.1875 -3.4375 C -1.363281 -3.5 -1.554688 -3.53125 -1.765625 -3.53125 C -1.972656 -3.53125 -2.160156 -3.5 -2.328125 -3.4375 C -2.503906 -3.375 -2.65625 -3.28125 -2.78125 -3.15625 C -2.914062 -3.03125 -3.015625 -2.878906 -3.078125 -2.703125 C -3.148438 -2.535156 -3.1875 -2.347656 -3.1875 -2.140625 C -3.1875 -1.878906 -3.140625 -1.644531 -3.046875 -1.4375 C -2.953125 -1.238281 -2.804688 -1.0625 -2.609375 -0.90625 L -2.65625 -0.484375 L -5.578125 -0.9375 L -5.578125 -3.75 L -5.15625 -3.75 L -5.15625 -1.375 L -3.25 -1.03125 C -3.320312 -1.132812 -3.378906 -1.234375 -3.421875 -1.328125 C -3.472656 -1.421875 -3.515625 -1.515625 -3.546875 -1.609375 C -3.578125 -1.710938 -3.597656 -1.816406 -3.609375 -1.921875 C -3.617188 -2.023438 -3.625 -2.140625 -3.625 -2.265625 C -3.625 -2.515625 -3.582031 -2.75 -3.5 -2.96875 C -3.414062 -3.1875 -3.289062 -3.375 -3.125 -3.53125 C -2.96875 -3.695312 -2.769531 -3.820312 -2.53125 -3.90625 C -2.300781 -4 -2.046875 -4.046875 -1.765625 -4.046875 C -1.460938 -4.046875 -1.191406 -3.992188 -0.953125 -3.890625 C -0.722656 -3.796875 -0.53125 -3.664062 -0.375 -3.5 C -0.21875 -3.332031 -0.0976562 -3.140625 -0.015625 -2.921875 C 0.0664062 -2.710938 0.109375 -2.492188 0.109375 -2.265625 C 0.109375 -1.992188 0.0820312 -1.742188 0.03125 -1.515625 C -0.0195312 -1.285156 -0.109375 -1.082031 -0.234375 -0.90625 C -0.359375 -0.726562 -0.519531 -0.582031 -0.71875 -0.46875 C -0.925781 -0.363281 -1.175781 -0.300781 -1.46875 -0.28125 Z \"/>\n",
       "</symbol>\n",
       "<symbol overflow=\"visible\" id=\"glyph1-3\">\n",
       "<path style=\"stroke:none;\" d=\"M -4.1875 -2.421875 L -4.1875 -0.953125 L -4.53125 -0.953125 C -4.539062 -1.171875 -4.554688 -1.363281 -4.578125 -1.53125 C -4.609375 -1.707031 -4.660156 -1.859375 -4.734375 -1.984375 C -4.816406 -2.117188 -4.925781 -2.226562 -5.0625 -2.3125 C -5.207031 -2.40625 -5.398438 -2.472656 -5.640625 -2.515625 L -5.640625 -2.921875 L 0 -2.921875 L 0 -2.421875 Z \"/>\n",
       "</symbol>\n",
       "<symbol overflow=\"visible\" id=\"glyph1-4\">\n",
       "<path style=\"stroke:none;\" d=\"M -3.796875 -0.546875 C -4.066406 -0.546875 -4.316406 -0.585938 -4.546875 -0.671875 C -4.773438 -0.765625 -4.96875 -0.890625 -5.125 -1.046875 C -5.289062 -1.203125 -5.414062 -1.394531 -5.5 -1.625 C -5.59375 -1.851562 -5.640625 -2.109375 -5.640625 -2.390625 C -5.640625 -2.671875 -5.597656 -2.914062 -5.515625 -3.125 C -5.429688 -3.34375 -5.316406 -3.523438 -5.171875 -3.671875 C -5.035156 -3.816406 -4.875 -3.925781 -4.6875 -4 C -4.5 -4.082031 -4.296875 -4.125 -4.078125 -4.125 C -3.828125 -4.125 -3.601562 -4.082031 -3.40625 -4 C -3.21875 -3.914062 -3.050781 -3.804688 -2.90625 -3.671875 C -2.757812 -3.535156 -2.625 -3.378906 -2.5 -3.203125 C -2.382812 -3.023438 -2.273438 -2.847656 -2.171875 -2.671875 C -2.066406 -2.492188 -1.96875 -2.316406 -1.875 -2.140625 C -1.78125 -1.960938 -1.675781 -1.800781 -1.5625 -1.65625 C -1.5 -1.570312 -1.425781 -1.484375 -1.34375 -1.390625 C -1.269531 -1.304688 -1.1875 -1.226562 -1.09375 -1.15625 C -1 -1.09375 -0.894531 -1.039062 -0.78125 -1 C -0.675781 -0.957031 -0.5625 -0.929688 -0.4375 -0.921875 L -0.4375 -4.078125 L 0 -4.078125 L 0 -0.390625 C -0.269531 -0.390625 -0.515625 -0.414062 -0.734375 -0.46875 C -0.953125 -0.519531 -1.164062 -0.640625 -1.375 -0.828125 C -1.601562 -1.023438 -1.796875 -1.226562 -1.953125 -1.4375 C -2.109375 -1.644531 -2.25 -1.847656 -2.375 -2.046875 C -2.5 -2.253906 -2.613281 -2.445312 -2.71875 -2.625 C -2.820312 -2.8125 -2.9375 -2.972656 -3.0625 -3.109375 C -3.1875 -3.242188 -3.328125 -3.351562 -3.484375 -3.4375 C -3.640625 -3.519531 -3.828125 -3.5625 -4.046875 -3.5625 C -4.222656 -3.5625 -4.382812 -3.53125 -4.53125 -3.46875 C -4.675781 -3.40625 -4.800781 -3.316406 -4.90625 -3.203125 C -5.007812 -3.085938 -5.082031 -2.953125 -5.125 -2.796875 C -5.175781 -2.648438 -5.203125 -2.488281 -5.203125 -2.3125 C -5.203125 -2.132812 -5.160156 -1.96875 -5.078125 -1.8125 C -5.003906 -1.65625 -4.90625 -1.519531 -4.78125 -1.40625 C -4.65625 -1.300781 -4.503906 -1.21875 -4.328125 -1.15625 C -4.160156 -1.101562 -3.984375 -1.082031 -3.796875 -1.09375 Z \"/>\n",
       "</symbol>\n",
       "<symbol overflow=\"visible\" id=\"glyph1-5\">\n",
       "<path style=\"stroke:none;\" d=\"M -3.140625 -1.765625 C -3.140625 -2.003906 -3.148438 -2.222656 -3.171875 -2.421875 C -3.203125 -2.617188 -3.257812 -2.785156 -3.34375 -2.921875 C -3.425781 -3.066406 -3.535156 -3.179688 -3.671875 -3.265625 C -3.816406 -3.347656 -4 -3.390625 -4.21875 -3.390625 C -4.394531 -3.390625 -4.546875 -3.351562 -4.671875 -3.28125 C -4.796875 -3.21875 -4.894531 -3.128906 -4.96875 -3.015625 C -5.050781 -2.910156 -5.109375 -2.785156 -5.140625 -2.640625 C -5.179688 -2.492188 -5.203125 -2.34375 -5.203125 -2.1875 C -5.203125 -2 -5.171875 -1.832031 -5.109375 -1.6875 C -5.054688 -1.539062 -4.972656 -1.414062 -4.859375 -1.3125 C -4.753906 -1.207031 -4.628906 -1.125 -4.484375 -1.0625 C -4.335938 -1 -4.175781 -0.96875 -4 -0.96875 L -4 -0.46875 C -4.257812 -0.46875 -4.488281 -0.507812 -4.6875 -0.59375 C -4.894531 -0.6875 -5.085938 -0.828125 -5.265625 -1.015625 C -5.421875 -1.179688 -5.519531 -1.375 -5.5625 -1.59375 C -5.613281 -1.820312 -5.640625 -2.050781 -5.640625 -2.28125 C -5.640625 -2.507812 -5.609375 -2.71875 -5.546875 -2.90625 C -5.492188 -3.101562 -5.410156 -3.273438 -5.296875 -3.421875 C -5.179688 -3.566406 -5.035156 -3.679688 -4.859375 -3.765625 C -4.679688 -3.847656 -4.476562 -3.890625 -4.25 -3.890625 C -3.957031 -3.890625 -3.703125 -3.820312 -3.484375 -3.6875 C -3.273438 -3.5625 -3.109375 -3.363281 -2.984375 -3.09375 C -2.921875 -3.300781 -2.835938 -3.46875 -2.734375 -3.59375 C -2.628906 -3.726562 -2.515625 -3.832031 -2.390625 -3.90625 C -2.265625 -3.976562 -2.132812 -4.023438 -2 -4.046875 C -1.863281 -4.078125 -1.726562 -4.09375 -1.59375 -4.09375 C -1.363281 -4.09375 -1.144531 -4.050781 -0.9375 -3.96875 C -0.738281 -3.894531 -0.5625 -3.78125 -0.40625 -3.625 C -0.25 -3.46875 -0.125 -3.273438 -0.03125 -3.046875 C 0.0625 -2.828125 0.109375 -2.570312 0.109375 -2.28125 C 0.109375 -1.957031 0.078125 -1.675781 0.015625 -1.4375 C -0.0351562 -1.195312 -0.128906 -0.992188 -0.265625 -0.828125 C -0.398438 -0.671875 -0.578125 -0.546875 -0.796875 -0.453125 C -1.023438 -0.359375 -1.300781 -0.296875 -1.625 -0.265625 L -1.625 -0.78125 C -1.195312 -0.78125 -0.867188 -0.910156 -0.640625 -1.171875 C -0.421875 -1.429688 -0.3125 -1.769531 -0.3125 -2.1875 C -0.3125 -2.382812 -0.347656 -2.570312 -0.421875 -2.75 C -0.492188 -2.925781 -0.585938 -3.078125 -0.703125 -3.203125 C -0.816406 -3.328125 -0.953125 -3.421875 -1.109375 -3.484375 C -1.265625 -3.554688 -1.425781 -3.585938 -1.59375 -3.578125 C -1.820312 -3.566406 -2.007812 -3.515625 -2.15625 -3.421875 C -2.3125 -3.328125 -2.429688 -3.195312 -2.515625 -3.03125 C -2.609375 -2.875 -2.671875 -2.6875 -2.703125 -2.46875 C -2.734375 -2.25 -2.738281 -2.015625 -2.71875 -1.765625 Z \"/>\n",
       "</symbol>\n",
       "<symbol overflow=\"visible\" id=\"glyph1-6\">\n",
       "<path style=\"stroke:none;\" d=\"M -4.09375 -4.734375 C -4.582031 -4.617188 -4.929688 -4.410156 -5.140625 -4.109375 C -5.347656 -3.804688 -5.453125 -3.410156 -5.453125 -2.921875 C -5.453125 -2.578125 -5.378906 -2.273438 -5.234375 -2.015625 C -5.097656 -1.765625 -4.910156 -1.554688 -4.671875 -1.390625 C -4.441406 -1.234375 -4.171875 -1.113281 -3.859375 -1.03125 C -3.554688 -0.957031 -3.234375 -0.921875 -2.890625 -0.921875 C -2.578125 -0.921875 -2.265625 -0.953125 -1.953125 -1.015625 C -1.640625 -1.085938 -1.363281 -1.203125 -1.125 -1.359375 C -0.882812 -1.515625 -0.6875 -1.722656 -0.53125 -1.984375 C -0.382812 -2.242188 -0.3125 -2.570312 -0.3125 -2.96875 C -0.3125 -3.21875 -0.347656 -3.441406 -0.421875 -3.640625 C -0.503906 -3.835938 -0.613281 -4.015625 -0.75 -4.171875 C -0.894531 -4.328125 -1.0625 -4.457031 -1.25 -4.5625 C -1.445312 -4.664062 -1.660156 -4.742188 -1.890625 -4.796875 L -1.890625 -5.359375 C -1.617188 -5.296875 -1.359375 -5.203125 -1.109375 -5.078125 C -0.859375 -4.953125 -0.640625 -4.789062 -0.453125 -4.59375 C -0.265625 -4.394531 -0.113281 -4.148438 0 -3.859375 C 0.101562 -3.578125 0.15625 -3.242188 0.15625 -2.859375 C 0.15625 -2.421875 0.0703125 -2.039062 -0.09375 -1.71875 C -0.257812 -1.40625 -0.476562 -1.148438 -0.75 -0.953125 C -1.03125 -0.753906 -1.351562 -0.609375 -1.71875 -0.515625 C -2.082031 -0.429688 -2.46875 -0.390625 -2.875 -0.390625 C -3.425781 -0.390625 -3.894531 -0.457031 -4.28125 -0.59375 C -4.664062 -0.726562 -4.976562 -0.914062 -5.21875 -1.15625 C -5.457031 -1.394531 -5.628906 -1.675781 -5.734375 -2 C -5.847656 -2.320312 -5.90625 -2.675781 -5.90625 -3.0625 C -5.90625 -3.351562 -5.867188 -3.625 -5.796875 -3.875 C -5.722656 -4.132812 -5.609375 -4.359375 -5.453125 -4.546875 C -5.296875 -4.742188 -5.101562 -4.90625 -4.875 -5.03125 C -4.644531 -5.15625 -4.382812 -5.242188 -4.09375 -5.296875 Z \"/>\n",
       "</symbol>\n",
       "<symbol overflow=\"visible\" id=\"glyph1-7\">\n",
       "<path style=\"stroke:none;\" d=\"M -2.0625 -1.109375 C -1.820312 -1.109375 -1.597656 -1.140625 -1.390625 -1.203125 C -1.179688 -1.265625 -0.992188 -1.351562 -0.828125 -1.46875 C -0.671875 -1.59375 -0.546875 -1.742188 -0.453125 -1.921875 C -0.359375 -2.097656 -0.3125 -2.296875 -0.3125 -2.515625 C -0.3125 -2.753906 -0.359375 -2.96875 -0.453125 -3.15625 C -0.554688 -3.34375 -0.691406 -3.492188 -0.859375 -3.609375 C -1.035156 -3.722656 -1.238281 -3.804688 -1.46875 -3.859375 C -1.695312 -3.910156 -1.941406 -3.929688 -2.203125 -3.921875 C -2.460938 -3.921875 -2.691406 -3.882812 -2.890625 -3.8125 C -3.085938 -3.75 -3.253906 -3.648438 -3.390625 -3.515625 C -3.535156 -3.390625 -3.644531 -3.238281 -3.71875 -3.0625 C -3.789062 -2.894531 -3.828125 -2.710938 -3.828125 -2.515625 C -3.828125 -2.285156 -3.78125 -2.082031 -3.6875 -1.90625 C -3.59375 -1.726562 -3.46875 -1.582031 -3.3125 -1.46875 C -3.15625 -1.351562 -2.96875 -1.265625 -2.75 -1.203125 C -2.539062 -1.140625 -2.3125 -1.109375 -2.0625 -1.109375 Z M 1.625 -1.109375 L 1.625 -0.625 L -4.140625 -0.625 L -4.140625 -1.109375 L -3.421875 -1.109375 L -3.421875 -1.125 C -3.546875 -1.195312 -3.660156 -1.285156 -3.765625 -1.390625 C -3.878906 -1.503906 -3.96875 -1.625 -4.03125 -1.75 C -4.101562 -1.882812 -4.15625 -2.019531 -4.1875 -2.15625 C -4.226562 -2.300781 -4.25 -2.4375 -4.25 -2.5625 C -4.25 -2.90625 -4.191406 -3.191406 -4.078125 -3.421875 C -3.972656 -3.660156 -3.820312 -3.851562 -3.625 -4 C -3.4375 -4.15625 -3.207031 -4.265625 -2.9375 -4.328125 C -2.664062 -4.398438 -2.378906 -4.4375 -2.078125 -4.4375 C -1.785156 -4.4375 -1.503906 -4.398438 -1.234375 -4.328125 C -0.972656 -4.253906 -0.742188 -4.140625 -0.546875 -3.984375 C -0.347656 -3.835938 -0.1875 -3.644531 -0.0625 -3.40625 C 0.0507812 -3.175781 0.109375 -2.90625 0.109375 -2.59375 C 0.109375 -2.300781 0.046875 -2.019531 -0.078125 -1.75 C -0.210938 -1.476562 -0.40625 -1.265625 -0.65625 -1.109375 Z \"/>\n",
       "</symbol>\n",
       "<symbol overflow=\"visible\" id=\"glyph1-8\">\n",
       "<path style=\"stroke:none;\" d=\"M -2.328125 -2.34375 L -1.828125 -2.34375 L -1.828125 -0.3125 L -2.328125 -0.3125 Z \"/>\n",
       "</symbol>\n",
       "<symbol overflow=\"visible\" id=\"glyph1-9\">\n",
       "<path style=\"stroke:none;\" d=\"M -2.765625 -2.234375 C -2.765625 -2.035156 -2.738281 -1.851562 -2.6875 -1.6875 C -2.632812 -1.519531 -2.554688 -1.375 -2.453125 -1.25 C -2.359375 -1.132812 -2.234375 -1.039062 -2.078125 -0.96875 C -1.929688 -0.894531 -1.753906 -0.859375 -1.546875 -0.859375 C -1.367188 -0.859375 -1.207031 -0.890625 -1.0625 -0.953125 C -0.914062 -1.023438 -0.785156 -1.117188 -0.671875 -1.234375 C -0.566406 -1.359375 -0.476562 -1.503906 -0.40625 -1.671875 C -0.34375 -1.847656 -0.3125 -2.046875 -0.3125 -2.265625 C -0.3125 -2.453125 -0.34375 -2.625 -0.40625 -2.78125 C -0.46875 -2.945312 -0.554688 -3.085938 -0.671875 -3.203125 C -0.785156 -3.328125 -0.914062 -3.421875 -1.0625 -3.484375 C -1.21875 -3.546875 -1.390625 -3.578125 -1.578125 -3.578125 C -1.773438 -3.578125 -1.945312 -3.539062 -2.09375 -3.46875 C -2.238281 -3.40625 -2.359375 -3.3125 -2.453125 -3.1875 C -2.554688 -3.070312 -2.632812 -2.929688 -2.6875 -2.765625 C -2.738281 -2.597656 -2.765625 -2.421875 -2.765625 -2.234375 Z M -5.203125 -2.203125 C -5.203125 -2.046875 -5.179688 -1.894531 -5.140625 -1.75 C -5.097656 -1.613281 -5.035156 -1.492188 -4.953125 -1.390625 C -4.867188 -1.285156 -4.757812 -1.203125 -4.625 -1.140625 C -4.5 -1.085938 -4.351562 -1.0625 -4.1875 -1.0625 C -4.007812 -1.0625 -3.859375 -1.09375 -3.734375 -1.15625 C -3.609375 -1.226562 -3.503906 -1.316406 -3.421875 -1.421875 C -3.347656 -1.535156 -3.289062 -1.664062 -3.25 -1.8125 C -3.207031 -1.957031 -3.1875 -2.109375 -3.1875 -2.265625 C -3.1875 -2.421875 -3.207031 -2.5625 -3.25 -2.6875 C -3.289062 -2.820312 -3.351562 -2.9375 -3.4375 -3.03125 C -3.53125 -3.132812 -3.644531 -3.210938 -3.78125 -3.265625 C -3.925781 -3.328125 -4.097656 -3.359375 -4.296875 -3.359375 C -4.585938 -3.359375 -4.8125 -3.265625 -4.96875 -3.078125 C -5.125 -2.890625 -5.203125 -2.597656 -5.203125 -2.203125 Z M -3.03125 -1.34375 C -3.113281 -1.195312 -3.191406 -1.070312 -3.265625 -0.96875 C -3.347656 -0.875 -3.429688 -0.796875 -3.515625 -0.734375 C -3.609375 -0.671875 -3.710938 -0.625 -3.828125 -0.59375 C -3.953125 -0.5625 -4.097656 -0.546875 -4.265625 -0.546875 C -4.453125 -0.546875 -4.628906 -0.585938 -4.796875 -0.671875 C -4.972656 -0.765625 -5.125 -0.878906 -5.25 -1.015625 C -5.375 -1.160156 -5.46875 -1.332031 -5.53125 -1.53125 C -5.601562 -1.726562 -5.640625 -1.9375 -5.640625 -2.15625 C -5.640625 -2.375 -5.613281 -2.582031 -5.5625 -2.78125 C -5.507812 -2.988281 -5.425781 -3.171875 -5.3125 -3.328125 C -5.195312 -3.492188 -5.050781 -3.625 -4.875 -3.71875 C -4.707031 -3.8125 -4.503906 -3.859375 -4.265625 -3.859375 C -3.972656 -3.859375 -3.722656 -3.796875 -3.515625 -3.671875 C -3.304688 -3.554688 -3.132812 -3.363281 -3 -3.09375 C -2.882812 -3.40625 -2.703125 -3.648438 -2.453125 -3.828125 C -2.210938 -4.003906 -1.925781 -4.09375 -1.59375 -4.09375 C -1.320312 -4.09375 -1.078125 -4.046875 -0.859375 -3.953125 C -0.648438 -3.859375 -0.472656 -3.722656 -0.328125 -3.546875 C -0.179688 -3.378906 -0.0703125 -3.171875 0 -2.921875 C 0.0703125 -2.679688 0.109375 -2.410156 0.109375 -2.109375 C 0.109375 -1.910156 0.0703125 -1.703125 0 -1.484375 C -0.0625 -1.273438 -0.160156 -1.085938 -0.296875 -0.921875 C -0.441406 -0.753906 -0.617188 -0.617188 -0.828125 -0.515625 C -1.035156 -0.410156 -1.273438 -0.359375 -1.546875 -0.359375 C -1.890625 -0.359375 -2.191406 -0.441406 -2.453125 -0.609375 C -2.710938 -0.773438 -2.90625 -1.019531 -3.03125 -1.34375 Z \"/>\n",
       "</symbol>\n",
       "<symbol overflow=\"visible\" id=\"glyph1-10\">\n",
       "<path style=\"stroke:none;\" d=\"M -4.25 -3.5 C -4.539062 -3.4375 -4.769531 -3.316406 -4.9375 -3.140625 C -5.113281 -2.960938 -5.203125 -2.722656 -5.203125 -2.421875 C -5.203125 -2.078125 -5.117188 -1.800781 -4.953125 -1.59375 C -4.796875 -1.394531 -4.585938 -1.242188 -4.328125 -1.140625 C -4.078125 -1.035156 -3.800781 -0.960938 -3.5 -0.921875 C -3.207031 -0.890625 -2.925781 -0.863281 -2.65625 -0.84375 C -2.757812 -0.914062 -2.863281 -0.992188 -2.96875 -1.078125 C -3.082031 -1.171875 -3.179688 -1.273438 -3.265625 -1.390625 C -3.347656 -1.503906 -3.410156 -1.632812 -3.453125 -1.78125 C -3.503906 -1.9375 -3.53125 -2.113281 -3.53125 -2.3125 C -3.53125 -2.882812 -3.367188 -3.328125 -3.046875 -3.640625 C -2.722656 -3.953125 -2.28125 -4.109375 -1.71875 -4.109375 C -1.144531 -4.109375 -0.695312 -3.953125 -0.375 -3.640625 C -0.0507812 -3.328125 0.109375 -2.878906 0.109375 -2.296875 C 0.109375 -2.015625 0.0625 -1.753906 -0.03125 -1.515625 C -0.125 -1.273438 -0.273438 -1.066406 -0.484375 -0.890625 C -0.703125 -0.710938 -0.984375 -0.570312 -1.328125 -0.46875 C -1.671875 -0.375 -2.085938 -0.328125 -2.578125 -0.328125 C -2.921875 -0.328125 -3.269531 -0.351562 -3.625 -0.40625 C -3.988281 -0.46875 -4.316406 -0.570312 -4.609375 -0.71875 C -4.910156 -0.875 -5.15625 -1.082031 -5.34375 -1.34375 C -5.539062 -1.613281 -5.640625 -1.957031 -5.640625 -2.375 C -5.640625 -2.820312 -5.519531 -3.191406 -5.28125 -3.484375 C -5.050781 -3.785156 -4.707031 -3.96875 -4.25 -4.03125 Z M -3.109375 -2.296875 C -3.109375 -2.109375 -3.066406 -1.929688 -2.984375 -1.765625 C -2.910156 -1.609375 -2.8125 -1.472656 -2.6875 -1.359375 C -2.5625 -1.253906 -2.410156 -1.171875 -2.234375 -1.109375 C -2.066406 -1.054688 -1.890625 -1.03125 -1.703125 -1.03125 C -1.546875 -1.03125 -1.382812 -1.050781 -1.21875 -1.09375 C -1.050781 -1.144531 -0.898438 -1.222656 -0.765625 -1.328125 C -0.640625 -1.429688 -0.53125 -1.5625 -0.4375 -1.71875 C -0.351562 -1.875 -0.3125 -2.070312 -0.3125 -2.3125 C -0.3125 -2.550781 -0.351562 -2.75 -0.4375 -2.90625 C -0.519531 -3.070312 -0.628906 -3.207031 -0.765625 -3.3125 C -0.898438 -3.414062 -1.050781 -3.488281 -1.21875 -3.53125 C -1.394531 -3.570312 -1.566406 -3.59375 -1.734375 -3.59375 C -2.171875 -3.59375 -2.507812 -3.488281 -2.75 -3.28125 C -2.988281 -3.070312 -3.109375 -2.742188 -3.109375 -2.296875 Z \"/>\n",
       "</symbol>\n",
       "<symbol overflow=\"visible\" id=\"glyph1-11\">\n",
       "<path style=\"stroke:none;\" d=\"M -1.390625 -2.859375 L -1.390625 -0.28125 L -1.828125 -0.28125 L -5.578125 -2.90625 L -5.578125 -3.375 L -1.828125 -3.375 L -1.828125 -4.15625 L -1.390625 -4.15625 L -1.390625 -3.375 L 0 -3.375 L 0 -2.859375 Z M -1.828125 -0.796875 L -1.828125 -2.859375 L -4.8125 -2.859375 Z \"/>\n",
       "</symbol>\n",
       "<symbol overflow=\"visible\" id=\"glyph1-12\">\n",
       "<path style=\"stroke:none;\" d=\"M -2.09375 -1.109375 C -1.84375 -1.109375 -1.609375 -1.140625 -1.390625 -1.203125 C -1.171875 -1.265625 -0.984375 -1.351562 -0.828125 -1.46875 C -0.671875 -1.582031 -0.546875 -1.726562 -0.453125 -1.90625 C -0.359375 -2.082031 -0.3125 -2.285156 -0.3125 -2.515625 C -0.3125 -2.710938 -0.347656 -2.894531 -0.421875 -3.0625 C -0.492188 -3.238281 -0.597656 -3.390625 -0.734375 -3.515625 C -0.878906 -3.648438 -1.050781 -3.75 -1.25 -3.8125 C -1.445312 -3.882812 -1.675781 -3.921875 -1.9375 -3.921875 C -2.207031 -3.929688 -2.453125 -3.910156 -2.671875 -3.859375 C -2.898438 -3.804688 -3.097656 -3.722656 -3.265625 -3.609375 C -3.441406 -3.492188 -3.578125 -3.34375 -3.671875 -3.15625 C -3.773438 -2.96875 -3.828125 -2.753906 -3.828125 -2.515625 C -3.828125 -2.296875 -3.78125 -2.097656 -3.6875 -1.921875 C -3.59375 -1.742188 -3.46875 -1.59375 -3.3125 -1.46875 C -3.15625 -1.351562 -2.96875 -1.265625 -2.75 -1.203125 C -2.539062 -1.140625 -2.320312 -1.109375 -2.09375 -1.109375 Z M 0 -1.109375 L 0 -0.625 L -5.765625 -0.625 L -5.765625 -1.109375 L -3.484375 -1.109375 C -3.734375 -1.265625 -3.921875 -1.476562 -4.046875 -1.75 C -4.179688 -2.019531 -4.25 -2.300781 -4.25 -2.59375 C -4.25 -2.90625 -4.1875 -3.175781 -4.0625 -3.40625 C -3.945312 -3.644531 -3.789062 -3.835938 -3.59375 -3.984375 C -3.394531 -4.140625 -3.160156 -4.253906 -2.890625 -4.328125 C -2.628906 -4.398438 -2.351562 -4.4375 -2.0625 -4.4375 C -1.757812 -4.4375 -1.472656 -4.398438 -1.203125 -4.328125 C -0.941406 -4.265625 -0.710938 -4.15625 -0.515625 -4 C -0.316406 -3.851562 -0.160156 -3.660156 -0.046875 -3.421875 C 0.0546875 -3.191406 0.109375 -2.90625 0.109375 -2.5625 C 0.109375 -2.4375 0.0859375 -2.300781 0.046875 -2.15625 C 0.015625 -2.019531 -0.03125 -1.882812 -0.09375 -1.75 C -0.164062 -1.625 -0.253906 -1.503906 -0.359375 -1.390625 C -0.460938 -1.285156 -0.585938 -1.195312 -0.734375 -1.125 L -0.734375 -1.109375 Z \"/>\n",
       "</symbol>\n",
       "<symbol overflow=\"visible\" id=\"glyph1-13\">\n",
       "<path style=\"stroke:none;\" d=\"M 0 -0.640625 L -4.140625 -0.640625 L -4.140625 -1.125 L 0 -1.125 Z M -5.046875 -0.625 L -5.765625 -0.625 L -5.765625 -1.15625 L -5.046875 -1.15625 Z \"/>\n",
       "</symbol>\n",
       "<symbol overflow=\"visible\" id=\"glyph1-14\">\n",
       "<path style=\"stroke:none;\" d=\"M -2.84375 -3.515625 C -3.144531 -3.429688 -3.382812 -3.285156 -3.5625 -3.078125 C -3.738281 -2.867188 -3.828125 -2.601562 -3.828125 -2.28125 C -3.828125 -2.03125 -3.773438 -1.816406 -3.671875 -1.640625 C -3.566406 -1.472656 -3.429688 -1.332031 -3.265625 -1.21875 C -3.097656 -1.101562 -2.910156 -1.019531 -2.703125 -0.96875 C -2.492188 -0.914062 -2.28125 -0.890625 -2.0625 -0.890625 C -1.84375 -0.890625 -1.628906 -0.914062 -1.421875 -0.96875 C -1.210938 -1.019531 -1.023438 -1.097656 -0.859375 -1.203125 C -0.691406 -1.316406 -0.554688 -1.460938 -0.453125 -1.640625 C -0.359375 -1.816406 -0.3125 -2.03125 -0.3125 -2.28125 C -0.3125 -2.632812 -0.410156 -2.921875 -0.609375 -3.140625 C -0.804688 -3.359375 -1.082031 -3.492188 -1.4375 -3.546875 L -1.4375 -4.0625 C -1.207031 -4.019531 -0.992188 -3.953125 -0.796875 -3.859375 C -0.609375 -3.765625 -0.445312 -3.644531 -0.3125 -3.5 C -0.175781 -3.351562 -0.0703125 -3.175781 0 -2.96875 C 0.0703125 -2.769531 0.109375 -2.539062 0.109375 -2.28125 C 0.109375 -1.945312 0.0546875 -1.660156 -0.046875 -1.421875 C -0.160156 -1.179688 -0.316406 -0.984375 -0.515625 -0.828125 C -0.710938 -0.671875 -0.941406 -0.554688 -1.203125 -0.484375 C -1.472656 -0.410156 -1.757812 -0.375 -2.0625 -0.375 C -2.351562 -0.375 -2.628906 -0.414062 -2.890625 -0.5 C -3.148438 -0.582031 -3.378906 -0.703125 -3.578125 -0.859375 C -3.785156 -1.023438 -3.945312 -1.222656 -4.0625 -1.453125 C -4.1875 -1.691406 -4.25 -1.96875 -4.25 -2.28125 C -4.25 -2.757812 -4.132812 -3.144531 -3.90625 -3.4375 C -3.675781 -3.738281 -3.320312 -3.925781 -2.84375 -4 Z \"/>\n",
       "</symbol>\n",
       "<symbol overflow=\"visible\" id=\"glyph1-15\">\n",
       "<path style=\"stroke:none;\" d=\"M 0 -0.8125 L -0.703125 -0.8125 L -0.703125 -1.40625 L 0 -1.40625 Z \"/>\n",
       "</symbol>\n",
       "<symbol overflow=\"visible\" id=\"glyph1-16\">\n",
       "<path style=\"stroke:none;\" d=\"M -5.578125 -0.46875 L -5.578125 -4.0625 L -5.109375 -4.0625 C -4.648438 -3.65625 -4.175781 -3.3125 -3.6875 -3.03125 C -3.207031 -2.75 -2.738281 -2.515625 -2.28125 -2.328125 C -1.820312 -2.148438 -1.394531 -2.015625 -1 -1.921875 C -0.613281 -1.835938 -0.28125 -1.789062 0 -1.78125 L 0 -1.21875 C -0.40625 -1.238281 -0.832031 -1.316406 -1.28125 -1.453125 C -1.738281 -1.585938 -2.191406 -1.753906 -2.640625 -1.953125 C -3.085938 -2.160156 -3.519531 -2.394531 -3.9375 -2.65625 C -4.363281 -2.914062 -4.742188 -3.179688 -5.078125 -3.453125 L -5.078125 -0.46875 Z \"/>\n",
       "</symbol>\n",
       "<symbol overflow=\"visible\" id=\"glyph1-17\">\n",
       "<path style=\"stroke:none;\" d=\"M -1.234375 -0.9375 C -0.929688 -1 -0.703125 -1.117188 -0.546875 -1.296875 C -0.390625 -1.472656 -0.3125 -1.722656 -0.3125 -2.046875 C -0.3125 -2.378906 -0.394531 -2.644531 -0.5625 -2.84375 C -0.726562 -3.039062 -0.9375 -3.191406 -1.1875 -3.296875 C -1.4375 -3.410156 -1.707031 -3.488281 -2 -3.53125 C -2.289062 -3.570312 -2.566406 -3.597656 -2.828125 -3.609375 L -2.84375 -3.59375 C -2.550781 -3.425781 -2.328125 -3.210938 -2.171875 -2.953125 C -2.023438 -2.703125 -1.953125 -2.410156 -1.953125 -2.078125 C -1.953125 -1.804688 -1.992188 -1.5625 -2.078125 -1.34375 C -2.171875 -1.132812 -2.296875 -0.953125 -2.453125 -0.796875 C -2.617188 -0.648438 -2.8125 -0.535156 -3.03125 -0.453125 C -3.257812 -0.367188 -3.507812 -0.328125 -3.78125 -0.328125 C -4.039062 -0.328125 -4.285156 -0.363281 -4.515625 -0.4375 C -4.742188 -0.507812 -4.941406 -0.617188 -5.109375 -0.765625 C -5.273438 -0.921875 -5.40625 -1.113281 -5.5 -1.34375 C -5.59375 -1.570312 -5.640625 -1.835938 -5.640625 -2.140625 C -5.640625 -2.523438 -5.5625 -2.84375 -5.40625 -3.09375 C -5.257812 -3.34375 -5.054688 -3.539062 -4.796875 -3.6875 C -4.546875 -3.84375 -4.25 -3.953125 -3.90625 -4.015625 C -3.5625 -4.085938 -3.191406 -4.125 -2.796875 -4.125 C -2.316406 -4.125 -1.894531 -4.070312 -1.53125 -3.96875 C -1.164062 -3.863281 -0.859375 -3.71875 -0.609375 -3.53125 C -0.367188 -3.351562 -0.1875 -3.140625 -0.0625 -2.890625 C 0.0507812 -2.640625 0.109375 -2.363281 0.109375 -2.0625 C 0.109375 -1.84375 0.0820312 -1.632812 0.03125 -1.4375 C -0.0195312 -1.25 -0.101562 -1.082031 -0.21875 -0.9375 C -0.332031 -0.800781 -0.472656 -0.6875 -0.640625 -0.59375 C -0.804688 -0.5 -1.003906 -0.441406 -1.234375 -0.421875 Z M -5.203125 -2.140625 C -5.191406 -1.710938 -5.054688 -1.390625 -4.796875 -1.171875 C -4.546875 -0.953125 -4.203125 -0.84375 -3.765625 -0.84375 C -3.328125 -0.84375 -2.988281 -0.953125 -2.75 -1.171875 C -2.507812 -1.398438 -2.390625 -1.722656 -2.390625 -2.140625 C -2.390625 -2.335938 -2.425781 -2.515625 -2.5 -2.671875 C -2.570312 -2.828125 -2.671875 -2.957031 -2.796875 -3.0625 C -2.929688 -3.175781 -3.082031 -3.257812 -3.25 -3.3125 C -3.414062 -3.375 -3.597656 -3.40625 -3.796875 -3.40625 C -4.210938 -3.40625 -4.546875 -3.289062 -4.796875 -3.0625 C -5.054688 -2.84375 -5.191406 -2.535156 -5.203125 -2.140625 Z \"/>\n",
       "</symbol>\n",
       "<symbol overflow=\"visible\" id=\"glyph1-18\">\n",
       "<path style=\"stroke:none;\" d=\"M 0 -1.078125 L 0 -0.59375 L -4.140625 -0.59375 L -4.140625 -1.078125 L -3.375 -1.078125 L -3.375 -1.09375 C -3.695312 -1.226562 -3.921875 -1.398438 -4.046875 -1.609375 C -4.179688 -1.816406 -4.25 -2.097656 -4.25 -2.453125 L -3.734375 -2.453125 C -3.742188 -2.179688 -3.703125 -1.957031 -3.609375 -1.78125 C -3.515625 -1.601562 -3.390625 -1.460938 -3.234375 -1.359375 C -3.085938 -1.253906 -2.90625 -1.179688 -2.6875 -1.140625 C -2.476562 -1.097656 -2.257812 -1.078125 -2.03125 -1.078125 Z \"/>\n",
       "</symbol>\n",
       "<symbol overflow=\"visible\" id=\"glyph1-19\">\n",
       "<path style=\"stroke:none;\" d=\"M -1.296875 -0.859375 C -0.941406 -0.929688 -0.6875 -1.0625 -0.53125 -1.25 C -0.382812 -1.445312 -0.3125 -1.726562 -0.3125 -2.09375 C -0.3125 -2.269531 -0.332031 -2.421875 -0.375 -2.546875 C -0.425781 -2.679688 -0.484375 -2.785156 -0.546875 -2.859375 C -0.617188 -2.941406 -0.703125 -3.003906 -0.796875 -3.046875 C -0.890625 -3.097656 -0.988281 -3.125 -1.09375 -3.125 C -1.289062 -3.125 -1.4375 -3.054688 -1.53125 -2.921875 C -1.632812 -2.796875 -1.710938 -2.632812 -1.765625 -2.4375 C -1.828125 -2.238281 -1.875 -2.023438 -1.90625 -1.796875 C -1.945312 -1.566406 -2.007812 -1.351562 -2.09375 -1.15625 C -2.175781 -0.957031 -2.289062 -0.789062 -2.4375 -0.65625 C -2.582031 -0.53125 -2.796875 -0.46875 -3.078125 -0.46875 C -3.421875 -0.46875 -3.703125 -0.59375 -3.921875 -0.84375 C -4.140625 -1.09375 -4.25 -1.453125 -4.25 -1.921875 C -4.25 -2.367188 -4.148438 -2.734375 -3.953125 -3.015625 C -3.753906 -3.296875 -3.421875 -3.460938 -2.953125 -3.515625 L -2.953125 -3.03125 C -3.273438 -2.988281 -3.5 -2.867188 -3.625 -2.671875 C -3.757812 -2.472656 -3.828125 -2.21875 -3.828125 -1.90625 C -3.828125 -1.601562 -3.757812 -1.367188 -3.625 -1.203125 C -3.5 -1.046875 -3.328125 -0.96875 -3.109375 -0.96875 C -2.921875 -0.96875 -2.773438 -1.035156 -2.671875 -1.171875 C -2.578125 -1.304688 -2.5 -1.46875 -2.4375 -1.65625 C -2.382812 -1.851562 -2.332031 -2.066406 -2.28125 -2.296875 C -2.226562 -2.523438 -2.15625 -2.738281 -2.0625 -2.9375 C -1.976562 -3.132812 -1.863281 -3.296875 -1.71875 -3.421875 C -1.570312 -3.554688 -1.363281 -3.625 -1.09375 -3.625 C -0.894531 -3.625 -0.71875 -3.582031 -0.5625 -3.5 C -0.414062 -3.414062 -0.289062 -3.296875 -0.1875 -3.140625 C -0.09375 -2.992188 -0.0195312 -2.816406 0.03125 -2.609375 C 0.0820312 -2.410156 0.109375 -2.1875 0.109375 -1.9375 C 0.109375 -1.695312 0.0703125 -1.484375 0 -1.296875 C -0.0703125 -1.109375 -0.171875 -0.945312 -0.296875 -0.8125 C -0.421875 -0.675781 -0.566406 -0.570312 -0.734375 -0.5 C -0.910156 -0.425781 -1.097656 -0.382812 -1.296875 -0.375 Z \"/>\n",
       "</symbol>\n",
       "<symbol overflow=\"visible\" id=\"glyph1-20\">\n",
       "<path style=\"stroke:none;\" d=\"M -2.09375 -3.78125 C -2.320312 -3.78125 -2.539062 -3.742188 -2.75 -3.671875 C -2.96875 -3.609375 -3.15625 -3.515625 -3.3125 -3.390625 C -3.46875 -3.273438 -3.59375 -3.128906 -3.6875 -2.953125 C -3.78125 -2.785156 -3.828125 -2.59375 -3.828125 -2.375 C -3.828125 -2.125 -3.773438 -1.90625 -3.671875 -1.71875 C -3.578125 -1.539062 -3.441406 -1.394531 -3.265625 -1.28125 C -3.097656 -1.164062 -2.898438 -1.078125 -2.671875 -1.015625 C -2.453125 -0.960938 -2.207031 -0.941406 -1.9375 -0.953125 C -1.675781 -0.953125 -1.445312 -0.988281 -1.25 -1.0625 C -1.050781 -1.132812 -0.878906 -1.234375 -0.734375 -1.359375 C -0.597656 -1.492188 -0.492188 -1.644531 -0.421875 -1.8125 C -0.347656 -1.988281 -0.3125 -2.175781 -0.3125 -2.375 C -0.3125 -2.601562 -0.359375 -2.800781 -0.453125 -2.96875 C -0.546875 -3.144531 -0.671875 -3.289062 -0.828125 -3.40625 C -0.984375 -3.53125 -1.171875 -3.625 -1.390625 -3.6875 C -1.609375 -3.75 -1.84375 -3.78125 -2.09375 -3.78125 Z M -4.140625 -3.78125 L -4.140625 -4.25 L 1.625 -4.25 L 1.625 -3.78125 L -0.65625 -3.78125 C -0.40625 -3.625 -0.210938 -3.410156 -0.078125 -3.140625 C 0.046875 -2.867188 0.109375 -2.585938 0.109375 -2.296875 C 0.109375 -1.984375 0.0507812 -1.707031 -0.0625 -1.46875 C -0.1875 -1.238281 -0.347656 -1.046875 -0.546875 -0.890625 C -0.742188 -0.742188 -0.972656 -0.632812 -1.234375 -0.5625 C -1.503906 -0.488281 -1.785156 -0.453125 -2.078125 -0.453125 C -2.378906 -0.453125 -2.664062 -0.484375 -2.9375 -0.546875 C -3.207031 -0.617188 -3.4375 -0.726562 -3.625 -0.875 C -3.820312 -1.03125 -3.972656 -1.222656 -4.078125 -1.453125 C -4.191406 -1.691406 -4.25 -1.976562 -4.25 -2.3125 C -4.25 -2.445312 -4.226562 -2.582031 -4.1875 -2.71875 C -4.15625 -2.863281 -4.101562 -3 -4.03125 -3.125 C -3.96875 -3.257812 -3.878906 -3.378906 -3.765625 -3.484375 C -3.660156 -3.597656 -3.546875 -3.691406 -3.421875 -3.765625 L -3.421875 -3.78125 Z \"/>\n",
       "</symbol>\n",
       "</g>\n",
       "</defs>\n",
       "<g id=\"surface36\">\n",
       "<rect x=\"0\" y=\"0\" width=\"504\" height=\"504\" style=\"fill:rgb(100%,100%,100%);fill-opacity:1;stroke:none;\"/>\n",
       "<path style=\"fill:none;stroke-width:0.75;stroke-linecap:round;stroke-linejoin:round;stroke:rgb(0%,0%,0%);stroke-opacity:1;stroke-miterlimit:10;\" d=\"M 44.789062 54.394531 C 44.789062 56.769531 41.222656 56.769531 41.222656 54.394531 C 41.222656 52.019531 44.789062 52.019531 44.789062 54.394531 \"/>\n",
       "<path style=\"fill:none;stroke-width:0.75;stroke-linecap:round;stroke-linejoin:round;stroke:rgb(0%,0%,0%);stroke-opacity:1;stroke-miterlimit:10;\" d=\"M 57.414062 356.328125 C 57.414062 358.707031 53.847656 358.707031 53.847656 356.328125 C 53.847656 353.953125 57.414062 353.953125 57.414062 356.328125 \"/>\n",
       "<path style=\"fill:none;stroke-width:0.75;stroke-linecap:round;stroke-linejoin:round;stroke:rgb(0%,0%,0%);stroke-opacity:1;stroke-miterlimit:10;\" d=\"M 70.039062 440.101562 C 70.039062 442.476562 66.472656 442.476562 66.472656 440.101562 C 66.472656 437.722656 70.039062 437.722656 70.039062 440.101562 \"/>\n",
       "<path style=\"fill:none;stroke-width:0.75;stroke-linecap:round;stroke-linejoin:round;stroke:rgb(0%,0%,0%);stroke-opacity:1;stroke-miterlimit:10;\" d=\"M 82.660156 440.101562 C 82.660156 442.476562 79.097656 442.476562 79.097656 440.101562 C 79.097656 437.726562 82.660156 437.726562 82.660156 440.101562 \"/>\n",
       "<path style=\"fill:none;stroke-width:0.75;stroke-linecap:round;stroke-linejoin:round;stroke:rgb(0%,0%,0%);stroke-opacity:1;stroke-miterlimit:10;\" d=\"M 95.285156 440.101562 C 95.285156 442.476562 91.722656 442.476562 91.722656 440.101562 C 91.722656 437.726562 95.285156 437.726562 95.285156 440.101562 \"/>\n",
       "<path style=\"fill:none;stroke-width:0.75;stroke-linecap:round;stroke-linejoin:round;stroke:rgb(0%,0%,0%);stroke-opacity:1;stroke-miterlimit:10;\" d=\"M 107.910156 440.097656 C 107.910156 442.476562 104.347656 442.476562 104.347656 440.097656 C 104.347656 437.722656 107.910156 437.722656 107.910156 440.097656 \"/>\n",
       "<path style=\"fill:none;stroke-width:0.75;stroke-linecap:round;stroke-linejoin:round;stroke:rgb(0%,0%,0%);stroke-opacity:1;stroke-miterlimit:10;\" d=\"M 120.535156 440.097656 C 120.535156 442.472656 116.972656 442.472656 116.972656 440.097656 C 116.972656 437.71875 120.535156 437.71875 120.535156 440.097656 \"/>\n",
       "<path style=\"fill:none;stroke-width:0.75;stroke-linecap:round;stroke-linejoin:round;stroke:rgb(0%,0%,0%);stroke-opacity:1;stroke-miterlimit:10;\" d=\"M 133.160156 440.09375 C 133.160156 442.46875 129.59375 442.46875 129.59375 440.09375 C 129.59375 437.71875 133.160156 437.71875 133.160156 440.09375 \"/>\n",
       "<path style=\"fill:none;stroke-width:0.75;stroke-linecap:round;stroke-linejoin:round;stroke:rgb(0%,0%,0%);stroke-opacity:1;stroke-miterlimit:10;\" d=\"M 145.785156 440.089844 C 145.785156 442.46875 142.21875 442.46875 142.21875 440.089844 C 142.21875 437.714844 145.785156 437.714844 145.785156 440.089844 \"/>\n",
       "<path style=\"fill:none;stroke-width:0.75;stroke-linecap:round;stroke-linejoin:round;stroke:rgb(0%,0%,0%);stroke-opacity:1;stroke-miterlimit:10;\" d=\"M 55.628906 455.53125 L 131.378906 455.53125 \"/>\n",
       "<path style=\"fill:none;stroke-width:0.75;stroke-linecap:round;stroke-linejoin:round;stroke:rgb(0%,0%,0%);stroke-opacity:1;stroke-miterlimit:10;\" d=\"M 55.628906 455.53125 L 55.628906 460.28125 \"/>\n",
       "<path style=\"fill:none;stroke-width:0.75;stroke-linecap:round;stroke-linejoin:round;stroke:rgb(0%,0%,0%);stroke-opacity:1;stroke-miterlimit:10;\" d=\"M 80.878906 455.53125 L 80.878906 460.28125 \"/>\n",
       "<path style=\"fill:none;stroke-width:0.75;stroke-linecap:round;stroke-linejoin:round;stroke:rgb(0%,0%,0%);stroke-opacity:1;stroke-miterlimit:10;\" d=\"M 106.128906 455.53125 L 106.128906 460.28125 \"/>\n",
       "<path style=\"fill:none;stroke-width:0.75;stroke-linecap:round;stroke-linejoin:round;stroke:rgb(0%,0%,0%);stroke-opacity:1;stroke-miterlimit:10;\" d=\"M 131.378906 455.53125 L 131.378906 460.28125 \"/>\n",
       "<g style=\"fill:rgb(0%,0%,0%);fill-opacity:1;\">\n",
       "  <use xlink:href=\"#glyph0-1\" x=\"53.40625\" y=\"472.636719\"/>\n",
       "</g>\n",
       "<g style=\"fill:rgb(0%,0%,0%);fill-opacity:1;\">\n",
       "  <use xlink:href=\"#glyph0-2\" x=\"78.65625\" y=\"472.636719\"/>\n",
       "</g>\n",
       "<g style=\"fill:rgb(0%,0%,0%);fill-opacity:1;\">\n",
       "  <use xlink:href=\"#glyph0-3\" x=\"103.90625\" y=\"472.636719\"/>\n",
       "</g>\n",
       "<g style=\"fill:rgb(0%,0%,0%);fill-opacity:1;\">\n",
       "  <use xlink:href=\"#glyph0-4\" x=\"129.15625\" y=\"472.636719\"/>\n",
       "</g>\n",
       "<path style=\"fill:none;stroke-width:0.75;stroke-linecap:round;stroke-linejoin:round;stroke:rgb(0%,0%,0%);stroke-opacity:1;stroke-miterlimit:10;\" d=\"M 38.964844 440.101562 L 38.964844 74.6875 \"/>\n",
       "<path style=\"fill:none;stroke-width:0.75;stroke-linecap:round;stroke-linejoin:round;stroke:rgb(0%,0%,0%);stroke-opacity:1;stroke-miterlimit:10;\" d=\"M 38.964844 440.101562 L 34.214844 440.101562 \"/>\n",
       "<path style=\"fill:none;stroke-width:0.75;stroke-linecap:round;stroke-linejoin:round;stroke:rgb(0%,0%,0%);stroke-opacity:1;stroke-miterlimit:10;\" d=\"M 38.964844 379.199219 L 34.214844 379.199219 \"/>\n",
       "<path style=\"fill:none;stroke-width:0.75;stroke-linecap:round;stroke-linejoin:round;stroke:rgb(0%,0%,0%);stroke-opacity:1;stroke-miterlimit:10;\" d=\"M 38.964844 318.296875 L 34.214844 318.296875 \"/>\n",
       "<path style=\"fill:none;stroke-width:0.75;stroke-linecap:round;stroke-linejoin:round;stroke:rgb(0%,0%,0%);stroke-opacity:1;stroke-miterlimit:10;\" d=\"M 38.964844 257.394531 L 34.214844 257.394531 \"/>\n",
       "<path style=\"fill:none;stroke-width:0.75;stroke-linecap:round;stroke-linejoin:round;stroke:rgb(0%,0%,0%);stroke-opacity:1;stroke-miterlimit:10;\" d=\"M 38.964844 196.492188 L 34.214844 196.492188 \"/>\n",
       "<path style=\"fill:none;stroke-width:0.75;stroke-linecap:round;stroke-linejoin:round;stroke:rgb(0%,0%,0%);stroke-opacity:1;stroke-miterlimit:10;\" d=\"M 38.964844 135.589844 L 34.214844 135.589844 \"/>\n",
       "<path style=\"fill:none;stroke-width:0.75;stroke-linecap:round;stroke-linejoin:round;stroke:rgb(0%,0%,0%);stroke-opacity:1;stroke-miterlimit:10;\" d=\"M 38.964844 74.6875 L 34.214844 74.6875 \"/>\n",
       "<g style=\"fill:rgb(0%,0%,0%);fill-opacity:1;\">\n",
       "  <use xlink:href=\"#glyph1-1\" x=\"27.5625\" y=\"442.324219\"/>\n",
       "</g>\n",
       "<g style=\"fill:rgb(0%,0%,0%);fill-opacity:1;\">\n",
       "  <use xlink:href=\"#glyph1-2\" x=\"27.5625\" y=\"390.320312\"/>\n",
       "  <use xlink:href=\"#glyph1-1\" x=\"27.5625\" y=\"385.872375\"/>\n",
       "  <use xlink:href=\"#glyph1-1\" x=\"27.5625\" y=\"381.424438\"/>\n",
       "  <use xlink:href=\"#glyph1-1\" x=\"27.5625\" y=\"376.976501\"/>\n",
       "  <use xlink:href=\"#glyph1-1\" x=\"27.5625\" y=\"372.528564\"/>\n",
       "</g>\n",
       "<g style=\"fill:rgb(0%,0%,0%);fill-opacity:1;\">\n",
       "  <use xlink:href=\"#glyph1-3\" x=\"27.5625\" y=\"331.640625\"/>\n",
       "  <use xlink:href=\"#glyph1-1\" x=\"27.5625\" y=\"327.192688\"/>\n",
       "  <use xlink:href=\"#glyph1-1\" x=\"27.5625\" y=\"322.744751\"/>\n",
       "  <use xlink:href=\"#glyph1-1\" x=\"27.5625\" y=\"318.296814\"/>\n",
       "  <use xlink:href=\"#glyph1-1\" x=\"27.5625\" y=\"313.848877\"/>\n",
       "  <use xlink:href=\"#glyph1-1\" x=\"27.5625\" y=\"309.40094\"/>\n",
       "</g>\n",
       "<g style=\"fill:rgb(0%,0%,0%);fill-opacity:1;\">\n",
       "  <use xlink:href=\"#glyph1-3\" x=\"27.5625\" y=\"270.738281\"/>\n",
       "  <use xlink:href=\"#glyph1-2\" x=\"27.5625\" y=\"266.290344\"/>\n",
       "  <use xlink:href=\"#glyph1-1\" x=\"27.5625\" y=\"261.842407\"/>\n",
       "  <use xlink:href=\"#glyph1-1\" x=\"27.5625\" y=\"257.39447\"/>\n",
       "  <use xlink:href=\"#glyph1-1\" x=\"27.5625\" y=\"252.946533\"/>\n",
       "  <use xlink:href=\"#glyph1-1\" x=\"27.5625\" y=\"248.498596\"/>\n",
       "</g>\n",
       "<g style=\"fill:rgb(0%,0%,0%);fill-opacity:1;\">\n",
       "  <use xlink:href=\"#glyph1-4\" x=\"27.5625\" y=\"209.835938\"/>\n",
       "  <use xlink:href=\"#glyph1-1\" x=\"27.5625\" y=\"205.388\"/>\n",
       "  <use xlink:href=\"#glyph1-1\" x=\"27.5625\" y=\"200.940063\"/>\n",
       "  <use xlink:href=\"#glyph1-1\" x=\"27.5625\" y=\"196.492126\"/>\n",
       "  <use xlink:href=\"#glyph1-1\" x=\"27.5625\" y=\"192.044189\"/>\n",
       "  <use xlink:href=\"#glyph1-1\" x=\"27.5625\" y=\"187.596252\"/>\n",
       "</g>\n",
       "<g style=\"fill:rgb(0%,0%,0%);fill-opacity:1;\">\n",
       "  <use xlink:href=\"#glyph1-4\" x=\"27.5625\" y=\"148.933594\"/>\n",
       "  <use xlink:href=\"#glyph1-2\" x=\"27.5625\" y=\"144.485657\"/>\n",
       "  <use xlink:href=\"#glyph1-1\" x=\"27.5625\" y=\"140.03772\"/>\n",
       "  <use xlink:href=\"#glyph1-1\" x=\"27.5625\" y=\"135.589783\"/>\n",
       "  <use xlink:href=\"#glyph1-1\" x=\"27.5625\" y=\"131.141846\"/>\n",
       "  <use xlink:href=\"#glyph1-1\" x=\"27.5625\" y=\"126.693909\"/>\n",
       "</g>\n",
       "<g style=\"fill:rgb(0%,0%,0%);fill-opacity:1;\">\n",
       "  <use xlink:href=\"#glyph1-5\" x=\"27.5625\" y=\"88.03125\"/>\n",
       "  <use xlink:href=\"#glyph1-1\" x=\"27.5625\" y=\"83.583313\"/>\n",
       "  <use xlink:href=\"#glyph1-1\" x=\"27.5625\" y=\"79.135376\"/>\n",
       "  <use xlink:href=\"#glyph1-1\" x=\"27.5625\" y=\"74.687439\"/>\n",
       "  <use xlink:href=\"#glyph1-1\" x=\"27.5625\" y=\"70.239502\"/>\n",
       "  <use xlink:href=\"#glyph1-1\" x=\"27.5625\" y=\"65.791565\"/>\n",
       "</g>\n",
       "<path style=\"fill:none;stroke-width:0.75;stroke-linecap:round;stroke-linejoin:round;stroke:rgb(0%,0%,0%);stroke-opacity:1;stroke-miterlimit:10;\" d=\"M 38.964844 455.53125 L 148.042969 455.53125 L 148.042969 38.964844 L 38.964844 38.964844 L 38.964844 455.53125 \"/>\n",
       "<g style=\"fill:rgb(0%,0%,0%);fill-opacity:1;\">\n",
       "  <use xlink:href=\"#glyph0-5\" x=\"55.714844\" y=\"491.644531\"/>\n",
       "  <use xlink:href=\"#glyph0-6\" x=\"60.602783\" y=\"491.644531\"/>\n",
       "  <use xlink:href=\"#glyph0-7\" x=\"65.05072\" y=\"491.644531\"/>\n",
       "  <use xlink:href=\"#glyph0-8\" x=\"69.93866\" y=\"491.644531\"/>\n",
       "  <use xlink:href=\"#glyph0-6\" x=\"72.602631\" y=\"491.644531\"/>\n",
       "  <use xlink:href=\"#glyph0-6\" x=\"77.050568\" y=\"491.644531\"/>\n",
       "  <use xlink:href=\"#glyph0-9\" x=\"81.498505\" y=\"491.644531\"/>\n",
       "  <use xlink:href=\"#glyph0-10\" x=\"83.722473\" y=\"491.644531\"/>\n",
       "  <use xlink:href=\"#glyph0-11\" x=\"88.17041\" y=\"491.644531\"/>\n",
       "  <use xlink:href=\"#glyph0-9\" x=\"90.394379\" y=\"491.644531\"/>\n",
       "  <use xlink:href=\"#glyph0-12\" x=\"92.618347\" y=\"491.644531\"/>\n",
       "  <use xlink:href=\"#glyph0-10\" x=\"97.506287\" y=\"491.644531\"/>\n",
       "  <use xlink:href=\"#glyph0-13\" x=\"101.954224\" y=\"491.644531\"/>\n",
       "  <use xlink:href=\"#glyph0-14\" x=\"103.730194\" y=\"491.644531\"/>\n",
       "  <use xlink:href=\"#glyph0-15\" x=\"107.730148\" y=\"491.644531\"/>\n",
       "  <use xlink:href=\"#glyph0-10\" x=\"112.178085\" y=\"491.644531\"/>\n",
       "  <use xlink:href=\"#glyph0-16\" x=\"116.626022\" y=\"491.644531\"/>\n",
       "  <use xlink:href=\"#glyph0-17\" x=\"123.289932\" y=\"491.644531\"/>\n",
       "  <use xlink:href=\"#glyph0-18\" x=\"125.065903\" y=\"491.644531\"/>\n",
       "  <use xlink:href=\"#glyph0-13\" x=\"129.51384\" y=\"491.644531\"/>\n",
       "</g>\n",
       "<g style=\"fill:rgb(0%,0%,0%);fill-opacity:1;\">\n",
       "  <use xlink:href=\"#glyph1-6\" x=\"8.554688\" y=\"252.578125\"/>\n",
       "  <use xlink:href=\"#glyph1-7\" x=\"8.554688\" y=\"246.8022\"/>\n",
       "</g>\n",
       "<path style=\"fill:none;stroke-width:0.75;stroke-linecap:round;stroke-linejoin:round;stroke:rgb(0%,0%,0%);stroke-opacity:1;stroke-miterlimit:10;\" d=\"M 212.789062 54.394531 C 212.789062 56.769531 209.222656 56.769531 209.222656 54.394531 C 209.222656 52.019531 212.789062 52.019531 212.789062 54.394531 \"/>\n",
       "<path style=\"fill:none;stroke-width:0.75;stroke-linecap:round;stroke-linejoin:round;stroke:rgb(0%,0%,0%);stroke-opacity:1;stroke-miterlimit:10;\" d=\"M 225.414062 125.453125 C 225.414062 127.828125 221.847656 127.828125 221.847656 125.453125 C 221.847656 123.078125 225.414062 123.078125 225.414062 125.453125 \"/>\n",
       "<path style=\"fill:none;stroke-width:0.75;stroke-linecap:round;stroke-linejoin:round;stroke:rgb(0%,0%,0%);stroke-opacity:1;stroke-miterlimit:10;\" d=\"M 238.039062 440.101562 C 238.039062 442.476562 234.472656 442.476562 234.472656 440.101562 C 234.472656 437.726562 238.039062 437.726562 238.039062 440.101562 \"/>\n",
       "<path style=\"fill:none;stroke-width:0.75;stroke-linecap:round;stroke-linejoin:round;stroke:rgb(0%,0%,0%);stroke-opacity:1;stroke-miterlimit:10;\" d=\"M 250.660156 439.394531 C 250.660156 441.769531 247.097656 441.769531 247.097656 439.394531 C 247.097656 437.019531 250.660156 437.019531 250.660156 439.394531 \"/>\n",
       "<path style=\"fill:none;stroke-width:0.75;stroke-linecap:round;stroke-linejoin:round;stroke:rgb(0%,0%,0%);stroke-opacity:1;stroke-miterlimit:10;\" d=\"M 263.285156 438.070312 C 263.285156 440.445312 259.722656 440.445312 259.722656 438.070312 C 259.722656 435.695312 263.285156 435.695312 263.285156 438.070312 \"/>\n",
       "<path style=\"fill:none;stroke-width:0.75;stroke-linecap:round;stroke-linejoin:round;stroke:rgb(0%,0%,0%);stroke-opacity:1;stroke-miterlimit:10;\" d=\"M 275.910156 435.957031 C 275.910156 438.335938 272.347656 438.335938 272.347656 435.957031 C 272.347656 433.582031 275.910156 433.582031 275.910156 435.957031 \"/>\n",
       "<path style=\"fill:none;stroke-width:0.75;stroke-linecap:round;stroke-linejoin:round;stroke:rgb(0%,0%,0%);stroke-opacity:1;stroke-miterlimit:10;\" d=\"M 288.535156 433.773438 C 288.535156 436.148438 284.972656 436.148438 284.972656 433.773438 C 284.972656 431.398438 288.535156 431.398438 288.535156 433.773438 \"/>\n",
       "<path style=\"fill:none;stroke-width:0.75;stroke-linecap:round;stroke-linejoin:round;stroke:rgb(0%,0%,0%);stroke-opacity:1;stroke-miterlimit:10;\" d=\"M 301.160156 431.566406 C 301.160156 433.945312 297.59375 433.945312 297.59375 431.566406 C 297.59375 429.191406 301.160156 429.191406 301.160156 431.566406 \"/>\n",
       "<path style=\"fill:none;stroke-width:0.75;stroke-linecap:round;stroke-linejoin:round;stroke:rgb(0%,0%,0%);stroke-opacity:1;stroke-miterlimit:10;\" d=\"M 313.785156 429.355469 C 313.785156 431.734375 310.21875 431.734375 310.21875 429.355469 C 310.21875 426.980469 313.785156 426.980469 313.785156 429.355469 \"/>\n",
       "<path style=\"fill:none;stroke-width:0.75;stroke-linecap:round;stroke-linejoin:round;stroke:rgb(0%,0%,0%);stroke-opacity:1;stroke-miterlimit:10;\" d=\"M 223.628906 455.53125 L 299.378906 455.53125 \"/>\n",
       "<path style=\"fill:none;stroke-width:0.75;stroke-linecap:round;stroke-linejoin:round;stroke:rgb(0%,0%,0%);stroke-opacity:1;stroke-miterlimit:10;\" d=\"M 223.628906 455.53125 L 223.628906 460.28125 \"/>\n",
       "<path style=\"fill:none;stroke-width:0.75;stroke-linecap:round;stroke-linejoin:round;stroke:rgb(0%,0%,0%);stroke-opacity:1;stroke-miterlimit:10;\" d=\"M 248.878906 455.53125 L 248.878906 460.28125 \"/>\n",
       "<path style=\"fill:none;stroke-width:0.75;stroke-linecap:round;stroke-linejoin:round;stroke:rgb(0%,0%,0%);stroke-opacity:1;stroke-miterlimit:10;\" d=\"M 274.128906 455.53125 L 274.128906 460.28125 \"/>\n",
       "<path style=\"fill:none;stroke-width:0.75;stroke-linecap:round;stroke-linejoin:round;stroke:rgb(0%,0%,0%);stroke-opacity:1;stroke-miterlimit:10;\" d=\"M 299.378906 455.53125 L 299.378906 460.28125 \"/>\n",
       "<g style=\"fill:rgb(0%,0%,0%);fill-opacity:1;\">\n",
       "  <use xlink:href=\"#glyph0-1\" x=\"221.40625\" y=\"472.636719\"/>\n",
       "</g>\n",
       "<g style=\"fill:rgb(0%,0%,0%);fill-opacity:1;\">\n",
       "  <use xlink:href=\"#glyph0-2\" x=\"246.65625\" y=\"472.636719\"/>\n",
       "</g>\n",
       "<g style=\"fill:rgb(0%,0%,0%);fill-opacity:1;\">\n",
       "  <use xlink:href=\"#glyph0-3\" x=\"271.90625\" y=\"472.636719\"/>\n",
       "</g>\n",
       "<g style=\"fill:rgb(0%,0%,0%);fill-opacity:1;\">\n",
       "  <use xlink:href=\"#glyph0-4\" x=\"297.15625\" y=\"472.636719\"/>\n",
       "</g>\n",
       "<path style=\"fill:none;stroke-width:0.75;stroke-linecap:round;stroke-linejoin:round;stroke:rgb(0%,0%,0%);stroke-opacity:1;stroke-miterlimit:10;\" d=\"M 206.964844 387.832031 L 206.964844 99.726562 \"/>\n",
       "<path style=\"fill:none;stroke-width:0.75;stroke-linecap:round;stroke-linejoin:round;stroke:rgb(0%,0%,0%);stroke-opacity:1;stroke-miterlimit:10;\" d=\"M 206.964844 387.832031 L 202.214844 387.832031 \"/>\n",
       "<path style=\"fill:none;stroke-width:0.75;stroke-linecap:round;stroke-linejoin:round;stroke:rgb(0%,0%,0%);stroke-opacity:1;stroke-miterlimit:10;\" d=\"M 206.964844 291.796875 L 202.214844 291.796875 \"/>\n",
       "<path style=\"fill:none;stroke-width:0.75;stroke-linecap:round;stroke-linejoin:round;stroke:rgb(0%,0%,0%);stroke-opacity:1;stroke-miterlimit:10;\" d=\"M 206.964844 195.761719 L 202.214844 195.761719 \"/>\n",
       "<path style=\"fill:none;stroke-width:0.75;stroke-linecap:round;stroke-linejoin:round;stroke:rgb(0%,0%,0%);stroke-opacity:1;stroke-miterlimit:10;\" d=\"M 206.964844 99.726562 L 202.214844 99.726562 \"/>\n",
       "<g style=\"fill:rgb(0%,0%,0%);fill-opacity:1;\">\n",
       "  <use xlink:href=\"#glyph1-8\" x=\"195.5625\" y=\"395.835938\"/>\n",
       "  <use xlink:href=\"#glyph1-9\" x=\"195.5625\" y=\"393.171967\"/>\n",
       "  <use xlink:href=\"#glyph1-1\" x=\"195.5625\" y=\"388.72403\"/>\n",
       "  <use xlink:href=\"#glyph1-1\" x=\"195.5625\" y=\"384.276093\"/>\n",
       "</g>\n",
       "<g style=\"fill:rgb(0%,0%,0%);fill-opacity:1;\">\n",
       "  <use xlink:href=\"#glyph1-8\" x=\"195.5625\" y=\"299.800781\"/>\n",
       "  <use xlink:href=\"#glyph1-10\" x=\"195.5625\" y=\"297.13681\"/>\n",
       "  <use xlink:href=\"#glyph1-1\" x=\"195.5625\" y=\"292.688873\"/>\n",
       "  <use xlink:href=\"#glyph1-1\" x=\"195.5625\" y=\"288.240936\"/>\n",
       "</g>\n",
       "<g style=\"fill:rgb(0%,0%,0%);fill-opacity:1;\">\n",
       "  <use xlink:href=\"#glyph1-8\" x=\"195.5625\" y=\"203.765625\"/>\n",
       "  <use xlink:href=\"#glyph1-11\" x=\"195.5625\" y=\"201.101654\"/>\n",
       "  <use xlink:href=\"#glyph1-1\" x=\"195.5625\" y=\"196.653717\"/>\n",
       "  <use xlink:href=\"#glyph1-1\" x=\"195.5625\" y=\"192.20578\"/>\n",
       "</g>\n",
       "<g style=\"fill:rgb(0%,0%,0%);fill-opacity:1;\">\n",
       "  <use xlink:href=\"#glyph1-8\" x=\"195.5625\" y=\"107.730469\"/>\n",
       "  <use xlink:href=\"#glyph1-4\" x=\"195.5625\" y=\"105.066498\"/>\n",
       "  <use xlink:href=\"#glyph1-1\" x=\"195.5625\" y=\"100.618561\"/>\n",
       "  <use xlink:href=\"#glyph1-1\" x=\"195.5625\" y=\"96.170624\"/>\n",
       "</g>\n",
       "<path style=\"fill:none;stroke-width:0.75;stroke-linecap:round;stroke-linejoin:round;stroke:rgb(0%,0%,0%);stroke-opacity:1;stroke-miterlimit:10;\" d=\"M 206.964844 455.53125 L 316.042969 455.53125 L 316.042969 38.964844 L 206.964844 38.964844 L 206.964844 455.53125 \"/>\n",
       "<g style=\"fill:rgb(0%,0%,0%);fill-opacity:1;\">\n",
       "  <use xlink:href=\"#glyph0-5\" x=\"223.714844\" y=\"491.644531\"/>\n",
       "  <use xlink:href=\"#glyph0-6\" x=\"228.602783\" y=\"491.644531\"/>\n",
       "  <use xlink:href=\"#glyph0-7\" x=\"233.05072\" y=\"491.644531\"/>\n",
       "  <use xlink:href=\"#glyph0-8\" x=\"237.93866\" y=\"491.644531\"/>\n",
       "  <use xlink:href=\"#glyph0-6\" x=\"240.602631\" y=\"491.644531\"/>\n",
       "  <use xlink:href=\"#glyph0-6\" x=\"245.050568\" y=\"491.644531\"/>\n",
       "  <use xlink:href=\"#glyph0-9\" x=\"249.498505\" y=\"491.644531\"/>\n",
       "  <use xlink:href=\"#glyph0-10\" x=\"251.722473\" y=\"491.644531\"/>\n",
       "  <use xlink:href=\"#glyph0-11\" x=\"256.17041\" y=\"491.644531\"/>\n",
       "  <use xlink:href=\"#glyph0-9\" x=\"258.394379\" y=\"491.644531\"/>\n",
       "  <use xlink:href=\"#glyph0-12\" x=\"260.618347\" y=\"491.644531\"/>\n",
       "  <use xlink:href=\"#glyph0-10\" x=\"265.506287\" y=\"491.644531\"/>\n",
       "  <use xlink:href=\"#glyph0-13\" x=\"269.954224\" y=\"491.644531\"/>\n",
       "  <use xlink:href=\"#glyph0-14\" x=\"271.730194\" y=\"491.644531\"/>\n",
       "  <use xlink:href=\"#glyph0-15\" x=\"275.730148\" y=\"491.644531\"/>\n",
       "  <use xlink:href=\"#glyph0-10\" x=\"280.178085\" y=\"491.644531\"/>\n",
       "  <use xlink:href=\"#glyph0-16\" x=\"284.626022\" y=\"491.644531\"/>\n",
       "  <use xlink:href=\"#glyph0-17\" x=\"291.289932\" y=\"491.644531\"/>\n",
       "  <use xlink:href=\"#glyph0-18\" x=\"293.065903\" y=\"491.644531\"/>\n",
       "  <use xlink:href=\"#glyph0-13\" x=\"297.51384\" y=\"491.644531\"/>\n",
       "</g>\n",
       "<g style=\"fill:rgb(0%,0%,0%);fill-opacity:1;\">\n",
       "  <use xlink:href=\"#glyph1-12\" x=\"176.554688\" y=\"252.800781\"/>\n",
       "  <use xlink:href=\"#glyph1-13\" x=\"176.554688\" y=\"247.912842\"/>\n",
       "  <use xlink:href=\"#glyph1-14\" x=\"176.554688\" y=\"246.136871\"/>\n",
       "</g>\n",
       "<path style=\"fill:none;stroke-width:0.75;stroke-linecap:round;stroke-linejoin:round;stroke:rgb(0%,0%,0%);stroke-opacity:1;stroke-miterlimit:10;\" d=\"M 380.789062 440.101562 C 380.789062 442.476562 377.222656 442.476562 377.222656 440.101562 C 377.222656 437.726562 380.789062 437.726562 380.789062 440.101562 \"/>\n",
       "<path style=\"fill:none;stroke-width:0.75;stroke-linecap:round;stroke-linejoin:round;stroke:rgb(0%,0%,0%);stroke-opacity:1;stroke-miterlimit:10;\" d=\"M 393.414062 138.171875 C 393.414062 140.546875 389.847656 140.546875 389.847656 138.171875 C 389.847656 135.796875 393.414062 135.796875 393.414062 138.171875 \"/>\n",
       "<path style=\"fill:none;stroke-width:0.75;stroke-linecap:round;stroke-linejoin:round;stroke:rgb(0%,0%,0%);stroke-opacity:1;stroke-miterlimit:10;\" d=\"M 406.039062 54.402344 C 406.039062 56.777344 402.472656 56.777344 402.472656 54.402344 C 402.472656 52.023438 406.039062 52.023438 406.039062 54.402344 \"/>\n",
       "<path style=\"fill:none;stroke-width:0.75;stroke-linecap:round;stroke-linejoin:round;stroke:rgb(0%,0%,0%);stroke-opacity:1;stroke-miterlimit:10;\" d=\"M 418.660156 54.398438 C 418.660156 56.773438 415.097656 56.773438 415.097656 54.398438 C 415.097656 52.019531 418.660156 52.019531 418.660156 54.398438 \"/>\n",
       "<path style=\"fill:none;stroke-width:0.75;stroke-linecap:round;stroke-linejoin:round;stroke:rgb(0%,0%,0%);stroke-opacity:1;stroke-miterlimit:10;\" d=\"M 431.285156 54.394531 C 431.285156 56.769531 427.722656 56.769531 427.722656 54.394531 C 427.722656 52.019531 431.285156 52.019531 431.285156 54.394531 \"/>\n",
       "<path style=\"fill:none;stroke-width:0.75;stroke-linecap:round;stroke-linejoin:round;stroke:rgb(0%,0%,0%);stroke-opacity:1;stroke-miterlimit:10;\" d=\"M 443.910156 54.394531 C 443.910156 56.769531 440.347656 56.769531 440.347656 54.394531 C 440.347656 52.019531 443.910156 52.019531 443.910156 54.394531 \"/>\n",
       "<path style=\"fill:none;stroke-width:0.75;stroke-linecap:round;stroke-linejoin:round;stroke:rgb(0%,0%,0%);stroke-opacity:1;stroke-miterlimit:10;\" d=\"M 456.535156 54.394531 C 456.535156 56.769531 452.972656 56.769531 452.972656 54.394531 C 452.972656 52.019531 456.535156 52.019531 456.535156 54.394531 \"/>\n",
       "<path style=\"fill:none;stroke-width:0.75;stroke-linecap:round;stroke-linejoin:round;stroke:rgb(0%,0%,0%);stroke-opacity:1;stroke-miterlimit:10;\" d=\"M 469.160156 54.394531 C 469.160156 56.769531 465.59375 56.769531 465.59375 54.394531 C 465.59375 52.019531 469.160156 52.019531 469.160156 54.394531 \"/>\n",
       "<path style=\"fill:none;stroke-width:0.75;stroke-linecap:round;stroke-linejoin:round;stroke:rgb(0%,0%,0%);stroke-opacity:1;stroke-miterlimit:10;\" d=\"M 481.785156 54.394531 C 481.785156 56.769531 478.21875 56.769531 478.21875 54.394531 C 478.21875 52.019531 481.785156 52.019531 481.785156 54.394531 \"/>\n",
       "<path style=\"fill:none;stroke-width:0.75;stroke-linecap:round;stroke-linejoin:round;stroke:rgb(0%,0%,0%);stroke-opacity:1;stroke-miterlimit:10;\" d=\"M 391.628906 455.53125 L 467.378906 455.53125 \"/>\n",
       "<path style=\"fill:none;stroke-width:0.75;stroke-linecap:round;stroke-linejoin:round;stroke:rgb(0%,0%,0%);stroke-opacity:1;stroke-miterlimit:10;\" d=\"M 391.628906 455.53125 L 391.628906 460.28125 \"/>\n",
       "<path style=\"fill:none;stroke-width:0.75;stroke-linecap:round;stroke-linejoin:round;stroke:rgb(0%,0%,0%);stroke-opacity:1;stroke-miterlimit:10;\" d=\"M 416.878906 455.53125 L 416.878906 460.28125 \"/>\n",
       "<path style=\"fill:none;stroke-width:0.75;stroke-linecap:round;stroke-linejoin:round;stroke:rgb(0%,0%,0%);stroke-opacity:1;stroke-miterlimit:10;\" d=\"M 442.128906 455.53125 L 442.128906 460.28125 \"/>\n",
       "<path style=\"fill:none;stroke-width:0.75;stroke-linecap:round;stroke-linejoin:round;stroke:rgb(0%,0%,0%);stroke-opacity:1;stroke-miterlimit:10;\" d=\"M 467.378906 455.53125 L 467.378906 460.28125 \"/>\n",
       "<g style=\"fill:rgb(0%,0%,0%);fill-opacity:1;\">\n",
       "  <use xlink:href=\"#glyph0-1\" x=\"389.40625\" y=\"472.636719\"/>\n",
       "</g>\n",
       "<g style=\"fill:rgb(0%,0%,0%);fill-opacity:1;\">\n",
       "  <use xlink:href=\"#glyph0-2\" x=\"414.65625\" y=\"472.636719\"/>\n",
       "</g>\n",
       "<g style=\"fill:rgb(0%,0%,0%);fill-opacity:1;\">\n",
       "  <use xlink:href=\"#glyph0-3\" x=\"439.90625\" y=\"472.636719\"/>\n",
       "</g>\n",
       "<g style=\"fill:rgb(0%,0%,0%);fill-opacity:1;\">\n",
       "  <use xlink:href=\"#glyph0-4\" x=\"465.15625\" y=\"472.636719\"/>\n",
       "</g>\n",
       "<path style=\"fill:none;stroke-width:0.75;stroke-linecap:round;stroke-linejoin:round;stroke:rgb(0%,0%,0%);stroke-opacity:1;stroke-miterlimit:10;\" d=\"M 374.964844 419.113281 L 374.964844 54.285156 \"/>\n",
       "<path style=\"fill:none;stroke-width:0.75;stroke-linecap:round;stroke-linejoin:round;stroke:rgb(0%,0%,0%);stroke-opacity:1;stroke-miterlimit:10;\" d=\"M 374.964844 419.113281 L 370.214844 419.113281 \"/>\n",
       "<path style=\"fill:none;stroke-width:0.75;stroke-linecap:round;stroke-linejoin:round;stroke:rgb(0%,0%,0%);stroke-opacity:1;stroke-miterlimit:10;\" d=\"M 374.964844 358.308594 L 370.214844 358.308594 \"/>\n",
       "<path style=\"fill:none;stroke-width:0.75;stroke-linecap:round;stroke-linejoin:round;stroke:rgb(0%,0%,0%);stroke-opacity:1;stroke-miterlimit:10;\" d=\"M 374.964844 297.503906 L 370.214844 297.503906 \"/>\n",
       "<path style=\"fill:none;stroke-width:0.75;stroke-linecap:round;stroke-linejoin:round;stroke:rgb(0%,0%,0%);stroke-opacity:1;stroke-miterlimit:10;\" d=\"M 374.964844 236.699219 L 370.214844 236.699219 \"/>\n",
       "<path style=\"fill:none;stroke-width:0.75;stroke-linecap:round;stroke-linejoin:round;stroke:rgb(0%,0%,0%);stroke-opacity:1;stroke-miterlimit:10;\" d=\"M 374.964844 175.894531 L 370.214844 175.894531 \"/>\n",
       "<path style=\"fill:none;stroke-width:0.75;stroke-linecap:round;stroke-linejoin:round;stroke:rgb(0%,0%,0%);stroke-opacity:1;stroke-miterlimit:10;\" d=\"M 374.964844 115.089844 L 370.214844 115.089844 \"/>\n",
       "<path style=\"fill:none;stroke-width:0.75;stroke-linecap:round;stroke-linejoin:round;stroke:rgb(0%,0%,0%);stroke-opacity:1;stroke-miterlimit:10;\" d=\"M 374.964844 54.285156 L 370.214844 54.285156 \"/>\n",
       "<g style=\"fill:rgb(0%,0%,0%);fill-opacity:1;\">\n",
       "  <use xlink:href=\"#glyph1-1\" x=\"363.5625\" y=\"426.898438\"/>\n",
       "  <use xlink:href=\"#glyph1-15\" x=\"363.5625\" y=\"422.4505\"/>\n",
       "  <use xlink:href=\"#glyph1-16\" x=\"363.5625\" y=\"420.226532\"/>\n",
       "  <use xlink:href=\"#glyph1-1\" x=\"363.5625\" y=\"415.778595\"/>\n",
       "</g>\n",
       "<g style=\"fill:rgb(0%,0%,0%);fill-opacity:1;\">\n",
       "  <use xlink:href=\"#glyph1-1\" x=\"363.5625\" y=\"366.09375\"/>\n",
       "  <use xlink:href=\"#glyph1-15\" x=\"363.5625\" y=\"361.645813\"/>\n",
       "  <use xlink:href=\"#glyph1-16\" x=\"363.5625\" y=\"359.421844\"/>\n",
       "  <use xlink:href=\"#glyph1-2\" x=\"363.5625\" y=\"354.973907\"/>\n",
       "</g>\n",
       "<g style=\"fill:rgb(0%,0%,0%);fill-opacity:1;\">\n",
       "  <use xlink:href=\"#glyph1-1\" x=\"363.5625\" y=\"305.289062\"/>\n",
       "  <use xlink:href=\"#glyph1-15\" x=\"363.5625\" y=\"300.841125\"/>\n",
       "  <use xlink:href=\"#glyph1-9\" x=\"363.5625\" y=\"298.617157\"/>\n",
       "  <use xlink:href=\"#glyph1-1\" x=\"363.5625\" y=\"294.16922\"/>\n",
       "</g>\n",
       "<g style=\"fill:rgb(0%,0%,0%);fill-opacity:1;\">\n",
       "  <use xlink:href=\"#glyph1-1\" x=\"363.5625\" y=\"244.484375\"/>\n",
       "  <use xlink:href=\"#glyph1-15\" x=\"363.5625\" y=\"240.036438\"/>\n",
       "  <use xlink:href=\"#glyph1-9\" x=\"363.5625\" y=\"237.812469\"/>\n",
       "  <use xlink:href=\"#glyph1-2\" x=\"363.5625\" y=\"233.364532\"/>\n",
       "</g>\n",
       "<g style=\"fill:rgb(0%,0%,0%);fill-opacity:1;\">\n",
       "  <use xlink:href=\"#glyph1-1\" x=\"363.5625\" y=\"183.679688\"/>\n",
       "  <use xlink:href=\"#glyph1-15\" x=\"363.5625\" y=\"179.23175\"/>\n",
       "  <use xlink:href=\"#glyph1-17\" x=\"363.5625\" y=\"177.007782\"/>\n",
       "  <use xlink:href=\"#glyph1-1\" x=\"363.5625\" y=\"172.559845\"/>\n",
       "</g>\n",
       "<g style=\"fill:rgb(0%,0%,0%);fill-opacity:1;\">\n",
       "  <use xlink:href=\"#glyph1-1\" x=\"363.5625\" y=\"122.875\"/>\n",
       "  <use xlink:href=\"#glyph1-15\" x=\"363.5625\" y=\"118.427063\"/>\n",
       "  <use xlink:href=\"#glyph1-17\" x=\"363.5625\" y=\"116.203094\"/>\n",
       "  <use xlink:href=\"#glyph1-2\" x=\"363.5625\" y=\"111.755157\"/>\n",
       "</g>\n",
       "<g style=\"fill:rgb(0%,0%,0%);fill-opacity:1;\">\n",
       "  <use xlink:href=\"#glyph1-3\" x=\"363.5625\" y=\"62.070312\"/>\n",
       "  <use xlink:href=\"#glyph1-15\" x=\"363.5625\" y=\"57.622375\"/>\n",
       "  <use xlink:href=\"#glyph1-1\" x=\"363.5625\" y=\"55.398407\"/>\n",
       "  <use xlink:href=\"#glyph1-1\" x=\"363.5625\" y=\"50.95047\"/>\n",
       "</g>\n",
       "<path style=\"fill:none;stroke-width:0.75;stroke-linecap:round;stroke-linejoin:round;stroke:rgb(0%,0%,0%);stroke-opacity:1;stroke-miterlimit:10;\" d=\"M 374.964844 455.53125 L 484.042969 455.53125 L 484.042969 38.964844 L 374.964844 38.964844 L 374.964844 455.53125 \"/>\n",
       "<g style=\"fill:rgb(0%,0%,0%);fill-opacity:1;\">\n",
       "  <use xlink:href=\"#glyph0-5\" x=\"391.714844\" y=\"491.644531\"/>\n",
       "  <use xlink:href=\"#glyph0-6\" x=\"396.602783\" y=\"491.644531\"/>\n",
       "  <use xlink:href=\"#glyph0-7\" x=\"401.05072\" y=\"491.644531\"/>\n",
       "  <use xlink:href=\"#glyph0-8\" x=\"405.93866\" y=\"491.644531\"/>\n",
       "  <use xlink:href=\"#glyph0-6\" x=\"408.602631\" y=\"491.644531\"/>\n",
       "  <use xlink:href=\"#glyph0-6\" x=\"413.050568\" y=\"491.644531\"/>\n",
       "  <use xlink:href=\"#glyph0-9\" x=\"417.498505\" y=\"491.644531\"/>\n",
       "  <use xlink:href=\"#glyph0-10\" x=\"419.722473\" y=\"491.644531\"/>\n",
       "  <use xlink:href=\"#glyph0-11\" x=\"424.17041\" y=\"491.644531\"/>\n",
       "  <use xlink:href=\"#glyph0-9\" x=\"426.394379\" y=\"491.644531\"/>\n",
       "  <use xlink:href=\"#glyph0-12\" x=\"428.618347\" y=\"491.644531\"/>\n",
       "  <use xlink:href=\"#glyph0-10\" x=\"433.506287\" y=\"491.644531\"/>\n",
       "  <use xlink:href=\"#glyph0-13\" x=\"437.954224\" y=\"491.644531\"/>\n",
       "  <use xlink:href=\"#glyph0-14\" x=\"439.730194\" y=\"491.644531\"/>\n",
       "  <use xlink:href=\"#glyph0-15\" x=\"443.730148\" y=\"491.644531\"/>\n",
       "  <use xlink:href=\"#glyph0-10\" x=\"448.178085\" y=\"491.644531\"/>\n",
       "  <use xlink:href=\"#glyph0-16\" x=\"452.626022\" y=\"491.644531\"/>\n",
       "  <use xlink:href=\"#glyph0-17\" x=\"459.289932\" y=\"491.644531\"/>\n",
       "  <use xlink:href=\"#glyph0-18\" x=\"461.065903\" y=\"491.644531\"/>\n",
       "  <use xlink:href=\"#glyph0-13\" x=\"465.51384\" y=\"491.644531\"/>\n",
       "</g>\n",
       "<g style=\"fill:rgb(0%,0%,0%);fill-opacity:1;\">\n",
       "  <use xlink:href=\"#glyph1-18\" x=\"344.554688\" y=\"253.023438\"/>\n",
       "  <use xlink:href=\"#glyph1-19\" x=\"344.554688\" y=\"250.359467\"/>\n",
       "  <use xlink:href=\"#glyph1-20\" x=\"344.554688\" y=\"246.359512\"/>\n",
       "</g>\n",
       "</g>\n",
       "</svg>\n"
      ],
      "text/plain": [
       "plot without title"
      ]
     },
     "metadata": {
      "image/svg+xml": {
       "isolated": true
      }
     },
     "output_type": "display_data"
    }
   ],
   "source": [
    "par(mfrow = c(1,3))\n",
    "plot(best_selection_summary$cp, xlab = \"degree of polynomial\" , ylab = \"Cp\")\n",
    "plot(best_selection_summary$bic, xlab = \"degree of polynomial\" , ylab = \"bic\")\n",
    "plot(best_selection_summary$rsq, xlab = \"degree of polynomial\" , ylab = \"rsq\")"
   ]
  },
  {
   "cell_type": "code",
   "execution_count": 50,
   "metadata": {
    "collapsed": false
   },
   "outputs": [
    {
     "data": {
      "text/html": [
       "4"
      ],
      "text/latex": [
       "4"
      ],
      "text/markdown": [
       "4"
      ],
      "text/plain": [
       "[1] 4"
      ]
     },
     "execution_count": 50,
     "metadata": {},
     "output_type": "execute_result"
    },
    {
     "data": {
      "text/html": [
       "3"
      ],
      "text/latex": [
       "3"
      ],
      "text/markdown": [
       "3"
      ],
      "text/plain": [
       "[1] 3"
      ]
     },
     "execution_count": 50,
     "metadata": {},
     "output_type": "execute_result"
    },
    {
     "data": {
      "text/html": [
       "9"
      ],
      "text/latex": [
       "9"
      ],
      "text/markdown": [
       "9"
      ],
      "text/plain": [
       "[1] 9"
      ]
     },
     "execution_count": 50,
     "metadata": {},
     "output_type": "execute_result"
    }
   ],
   "source": [
    "which.min(best_selection_summary$cp)\n",
    "which.min(best_selection_summary$bic)\n",
    "which.max(best_selection_summary$rsq)"
   ]
  },
  {
   "cell_type": "code",
   "execution_count": 52,
   "metadata": {
    "collapsed": false
   },
   "outputs": [
    {
     "name": "stderr",
     "output_type": "stream",
     "text": [
      "Warning message:\n",
      "In leaps.setup(x, y, wt = wt, nbest = nbest, nvmax = nvmax, force.in = force.in, : 1  linear dependencies found"
     ]
    },
    {
     "name": "stdout",
     "output_type": "stream",
     "text": [
      "Reordering variables and trying again:\n"
     ]
    },
    {
     "data": {
      "image/png": "[encoded data removed]",
      "image/svg+xml": [
       "<?xml version=\"1.0\" encoding=\"UTF-8\"?>\n",
       "<svg xmlns=\"http://www.w3.org/2000/svg\" xmlns:xlink=\"http://www.w3.org/1999/xlink\" width=\"504pt\" height=\"504pt\" viewBox=\"0 0 504 504\" version=\"1.1\">\n",
       "<defs>\n",
       "<g>\n",
       "<symbol overflow=\"visible\" id=\"glyph0-0\">\n",
       "<path style=\"stroke:none;\" d=\"M 0 -5.59375 L 4 -5.59375 L 4 0 L 0 0 Z M 3.359375 -5.203125 L 0.640625 -5.203125 L 2 -3.15625 Z M 3.59375 -0.765625 L 3.59375 -4.84375 L 2.234375 -2.796875 Z M 3.359375 -0.40625 L 2 -2.4375 L 0.640625 -0.40625 Z M 0.40625 -0.765625 L 1.765625 -2.796875 L 0.40625 -4.84375 Z \"/>\n",
       "</symbol>\n",
       "<symbol overflow=\"visible\" id=\"glyph0-1\">\n",
       "<path style=\"stroke:none;\" d=\"M 0.546875 -3.796875 C 0.546875 -4.066406 0.585938 -4.316406 0.671875 -4.546875 C 0.765625 -4.773438 0.890625 -4.96875 1.046875 -5.125 C 1.203125 -5.289062 1.394531 -5.414062 1.625 -5.5 C 1.851562 -5.59375 2.109375 -5.640625 2.390625 -5.640625 C 2.671875 -5.640625 2.914062 -5.597656 3.125 -5.515625 C 3.34375 -5.429688 3.523438 -5.316406 3.671875 -5.171875 C 3.816406 -5.035156 3.925781 -4.875 4 -4.6875 C 4.082031 -4.5 4.125 -4.296875 4.125 -4.078125 C 4.125 -3.828125 4.082031 -3.601562 4 -3.40625 C 3.914062 -3.21875 3.804688 -3.050781 3.671875 -2.90625 C 3.535156 -2.757812 3.378906 -2.625 3.203125 -2.5 C 3.023438 -2.382812 2.847656 -2.273438 2.671875 -2.171875 C 2.492188 -2.066406 2.316406 -1.96875 2.140625 -1.875 C 1.960938 -1.78125 1.800781 -1.675781 1.65625 -1.5625 C 1.570312 -1.5 1.484375 -1.425781 1.390625 -1.34375 C 1.304688 -1.269531 1.226562 -1.1875 1.15625 -1.09375 C 1.09375 -1 1.039062 -0.894531 1 -0.78125 C 0.957031 -0.675781 0.929688 -0.5625 0.921875 -0.4375 L 4.078125 -0.4375 L 4.078125 0 L 0.390625 0 C 0.390625 -0.269531 0.414062 -0.515625 0.46875 -0.734375 C 0.519531 -0.953125 0.640625 -1.164062 0.828125 -1.375 C 1.023438 -1.601562 1.226562 -1.796875 1.4375 -1.953125 C 1.644531 -2.109375 1.847656 -2.25 2.046875 -2.375 C 2.253906 -2.5 2.445312 -2.613281 2.625 -2.71875 C 2.8125 -2.820312 2.972656 -2.9375 3.109375 -3.0625 C 3.242188 -3.1875 3.351562 -3.328125 3.4375 -3.484375 C 3.519531 -3.640625 3.5625 -3.828125 3.5625 -4.046875 C 3.5625 -4.222656 3.53125 -4.382812 3.46875 -4.53125 C 3.40625 -4.675781 3.316406 -4.800781 3.203125 -4.90625 C 3.085938 -5.007812 2.953125 -5.082031 2.796875 -5.125 C 2.648438 -5.175781 2.488281 -5.203125 2.3125 -5.203125 C 2.132812 -5.203125 1.96875 -5.160156 1.8125 -5.078125 C 1.65625 -5.003906 1.519531 -4.90625 1.40625 -4.78125 C 1.300781 -4.65625 1.21875 -4.503906 1.15625 -4.328125 C 1.101562 -4.160156 1.082031 -3.984375 1.09375 -3.796875 Z \"/>\n",
       "</symbol>\n",
       "<symbol overflow=\"visible\" id=\"glyph0-2\">\n",
       "<path style=\"stroke:none;\" d=\"M 2.859375 -1.390625 L 0.28125 -1.390625 L 0.28125 -1.828125 L 2.90625 -5.578125 L 3.375 -5.578125 L 3.375 -1.828125 L 4.15625 -1.828125 L 4.15625 -1.390625 L 3.375 -1.390625 L 3.375 0 L 2.859375 0 Z M 0.796875 -1.828125 L 2.859375 -1.828125 L 2.859375 -4.8125 Z \"/>\n",
       "</symbol>\n",
       "<symbol overflow=\"visible\" id=\"glyph0-3\">\n",
       "<path style=\"stroke:none;\" d=\"M 3.5 -4.25 C 3.4375 -4.539062 3.316406 -4.769531 3.140625 -4.9375 C 2.960938 -5.113281 2.722656 -5.203125 2.421875 -5.203125 C 2.078125 -5.203125 1.800781 -5.117188 1.59375 -4.953125 C 1.394531 -4.796875 1.242188 -4.585938 1.140625 -4.328125 C 1.035156 -4.078125 0.960938 -3.800781 0.921875 -3.5 C 0.890625 -3.207031 0.863281 -2.925781 0.84375 -2.65625 C 0.914062 -2.757812 0.992188 -2.863281 1.078125 -2.96875 C 1.171875 -3.082031 1.273438 -3.179688 1.390625 -3.265625 C 1.503906 -3.347656 1.632812 -3.410156 1.78125 -3.453125 C 1.9375 -3.503906 2.113281 -3.53125 2.3125 -3.53125 C 2.882812 -3.53125 3.328125 -3.367188 3.640625 -3.046875 C 3.953125 -2.722656 4.109375 -2.28125 4.109375 -1.71875 C 4.109375 -1.144531 3.953125 -0.695312 3.640625 -0.375 C 3.328125 -0.0507812 2.878906 0.109375 2.296875 0.109375 C 2.015625 0.109375 1.753906 0.0625 1.515625 -0.03125 C 1.273438 -0.125 1.066406 -0.273438 0.890625 -0.484375 C 0.710938 -0.703125 0.570312 -0.984375 0.46875 -1.328125 C 0.375 -1.671875 0.328125 -2.085938 0.328125 -2.578125 C 0.328125 -2.921875 0.351562 -3.269531 0.40625 -3.625 C 0.46875 -3.988281 0.570312 -4.316406 0.71875 -4.609375 C 0.875 -4.910156 1.082031 -5.15625 1.34375 -5.34375 C 1.613281 -5.539062 1.957031 -5.640625 2.375 -5.640625 C 2.820312 -5.640625 3.191406 -5.519531 3.484375 -5.28125 C 3.785156 -5.050781 3.96875 -4.707031 4.03125 -4.25 Z M 2.296875 -3.109375 C 2.109375 -3.109375 1.929688 -3.066406 1.765625 -2.984375 C 1.609375 -2.910156 1.472656 -2.8125 1.359375 -2.6875 C 1.253906 -2.5625 1.171875 -2.410156 1.109375 -2.234375 C 1.054688 -2.066406 1.03125 -1.890625 1.03125 -1.703125 C 1.03125 -1.546875 1.050781 -1.382812 1.09375 -1.21875 C 1.144531 -1.050781 1.222656 -0.898438 1.328125 -0.765625 C 1.429688 -0.640625 1.5625 -0.53125 1.71875 -0.4375 C 1.875 -0.351562 2.070312 -0.3125 2.3125 -0.3125 C 2.550781 -0.3125 2.75 -0.351562 2.90625 -0.4375 C 3.070312 -0.519531 3.207031 -0.628906 3.3125 -0.765625 C 3.414062 -0.898438 3.488281 -1.050781 3.53125 -1.21875 C 3.570312 -1.394531 3.59375 -1.566406 3.59375 -1.734375 C 3.59375 -2.171875 3.488281 -2.507812 3.28125 -2.75 C 3.070312 -2.988281 2.742188 -3.109375 2.296875 -3.109375 Z \"/>\n",
       "</symbol>\n",
       "<symbol overflow=\"visible\" id=\"glyph0-4\">\n",
       "<path style=\"stroke:none;\" d=\"M 2.234375 -2.765625 C 2.035156 -2.765625 1.851562 -2.738281 1.6875 -2.6875 C 1.519531 -2.632812 1.375 -2.554688 1.25 -2.453125 C 1.132812 -2.359375 1.039062 -2.234375 0.96875 -2.078125 C 0.894531 -1.929688 0.859375 -1.753906 0.859375 -1.546875 C 0.859375 -1.367188 0.890625 -1.207031 0.953125 -1.0625 C 1.023438 -0.914062 1.117188 -0.785156 1.234375 -0.671875 C 1.359375 -0.566406 1.503906 -0.476562 1.671875 -0.40625 C 1.847656 -0.34375 2.046875 -0.3125 2.265625 -0.3125 C 2.453125 -0.3125 2.625 -0.34375 2.78125 -0.40625 C 2.945312 -0.46875 3.085938 -0.554688 3.203125 -0.671875 C 3.328125 -0.785156 3.421875 -0.914062 3.484375 -1.0625 C 3.546875 -1.21875 3.578125 -1.390625 3.578125 -1.578125 C 3.578125 -1.773438 3.539062 -1.945312 3.46875 -2.09375 C 3.40625 -2.238281 3.3125 -2.359375 3.1875 -2.453125 C 3.070312 -2.554688 2.929688 -2.632812 2.765625 -2.6875 C 2.597656 -2.738281 2.421875 -2.765625 2.234375 -2.765625 Z M 2.203125 -5.203125 C 2.046875 -5.203125 1.894531 -5.179688 1.75 -5.140625 C 1.613281 -5.097656 1.492188 -5.035156 1.390625 -4.953125 C 1.285156 -4.867188 1.203125 -4.757812 1.140625 -4.625 C 1.085938 -4.5 1.0625 -4.351562 1.0625 -4.1875 C 1.0625 -4.007812 1.09375 -3.859375 1.15625 -3.734375 C 1.226562 -3.609375 1.316406 -3.503906 1.421875 -3.421875 C 1.535156 -3.347656 1.664062 -3.289062 1.8125 -3.25 C 1.957031 -3.207031 2.109375 -3.1875 2.265625 -3.1875 C 2.421875 -3.1875 2.5625 -3.207031 2.6875 -3.25 C 2.820312 -3.289062 2.9375 -3.351562 3.03125 -3.4375 C 3.132812 -3.53125 3.210938 -3.644531 3.265625 -3.78125 C 3.328125 -3.925781 3.359375 -4.097656 3.359375 -4.296875 C 3.359375 -4.585938 3.265625 -4.8125 3.078125 -4.96875 C 2.890625 -5.125 2.597656 -5.203125 2.203125 -5.203125 Z M 1.34375 -3.03125 C 1.195312 -3.113281 1.070312 -3.191406 0.96875 -3.265625 C 0.875 -3.347656 0.796875 -3.429688 0.734375 -3.515625 C 0.671875 -3.609375 0.625 -3.710938 0.59375 -3.828125 C 0.5625 -3.953125 0.546875 -4.097656 0.546875 -4.265625 C 0.546875 -4.453125 0.585938 -4.628906 0.671875 -4.796875 C 0.765625 -4.972656 0.878906 -5.125 1.015625 -5.25 C 1.160156 -5.375 1.332031 -5.46875 1.53125 -5.53125 C 1.726562 -5.601562 1.9375 -5.640625 2.15625 -5.640625 C 2.375 -5.640625 2.582031 -5.613281 2.78125 -5.5625 C 2.988281 -5.507812 3.171875 -5.425781 3.328125 -5.3125 C 3.492188 -5.195312 3.625 -5.050781 3.71875 -4.875 C 3.8125 -4.707031 3.859375 -4.503906 3.859375 -4.265625 C 3.859375 -3.972656 3.796875 -3.722656 3.671875 -3.515625 C 3.554688 -3.304688 3.363281 -3.132812 3.09375 -3 C 3.40625 -2.882812 3.648438 -2.703125 3.828125 -2.453125 C 4.003906 -2.210938 4.09375 -1.925781 4.09375 -1.59375 C 4.09375 -1.320312 4.046875 -1.078125 3.953125 -0.859375 C 3.859375 -0.648438 3.722656 -0.472656 3.546875 -0.328125 C 3.378906 -0.179688 3.171875 -0.0703125 2.921875 0 C 2.679688 0.0703125 2.410156 0.109375 2.109375 0.109375 C 1.910156 0.109375 1.703125 0.0703125 1.484375 0 C 1.273438 -0.0625 1.085938 -0.160156 0.921875 -0.296875 C 0.753906 -0.441406 0.617188 -0.617188 0.515625 -0.828125 C 0.410156 -1.035156 0.359375 -1.273438 0.359375 -1.546875 C 0.359375 -1.890625 0.441406 -2.191406 0.609375 -2.453125 C 0.773438 -2.710938 1.019531 -2.90625 1.34375 -3.03125 Z \"/>\n",
       "</symbol>\n",
       "<symbol overflow=\"visible\" id=\"glyph0-5\">\n",
       "<path style=\"stroke:none;\" d=\"M 3.78125 -2.09375 C 3.78125 -2.320312 3.742188 -2.539062 3.671875 -2.75 C 3.609375 -2.96875 3.515625 -3.15625 3.390625 -3.3125 C 3.273438 -3.46875 3.128906 -3.59375 2.953125 -3.6875 C 2.785156 -3.78125 2.59375 -3.828125 2.375 -3.828125 C 2.125 -3.828125 1.90625 -3.773438 1.71875 -3.671875 C 1.539062 -3.578125 1.394531 -3.441406 1.28125 -3.265625 C 1.164062 -3.097656 1.078125 -2.898438 1.015625 -2.671875 C 0.960938 -2.453125 0.941406 -2.207031 0.953125 -1.9375 C 0.953125 -1.675781 0.988281 -1.445312 1.0625 -1.25 C 1.132812 -1.050781 1.234375 -0.878906 1.359375 -0.734375 C 1.492188 -0.597656 1.644531 -0.492188 1.8125 -0.421875 C 1.988281 -0.347656 2.175781 -0.3125 2.375 -0.3125 C 2.601562 -0.3125 2.800781 -0.359375 2.96875 -0.453125 C 3.144531 -0.546875 3.289062 -0.671875 3.40625 -0.828125 C 3.53125 -0.984375 3.625 -1.171875 3.6875 -1.390625 C 3.75 -1.609375 3.78125 -1.84375 3.78125 -2.09375 Z M 3.78125 -5.765625 L 4.25 -5.765625 L 4.25 0 L 3.78125 0 L 3.78125 -0.734375 L 3.765625 -0.734375 C 3.691406 -0.585938 3.597656 -0.460938 3.484375 -0.359375 C 3.378906 -0.253906 3.257812 -0.164062 3.125 -0.09375 C 3 -0.03125 2.863281 0.015625 2.71875 0.046875 C 2.582031 0.0859375 2.445312 0.109375 2.3125 0.109375 C 1.976562 0.109375 1.691406 0.0546875 1.453125 -0.046875 C 1.222656 -0.160156 1.03125 -0.316406 0.875 -0.515625 C 0.726562 -0.710938 0.617188 -0.941406 0.546875 -1.203125 C 0.484375 -1.472656 0.453125 -1.757812 0.453125 -2.0625 C 0.453125 -2.351562 0.488281 -2.628906 0.5625 -2.890625 C 0.632812 -3.160156 0.742188 -3.394531 0.890625 -3.59375 C 1.046875 -3.789062 1.238281 -3.945312 1.46875 -4.0625 C 1.707031 -4.1875 1.984375 -4.25 2.296875 -4.25 C 2.585938 -4.25 2.867188 -4.179688 3.140625 -4.046875 C 3.410156 -3.921875 3.625 -3.734375 3.78125 -3.484375 Z \"/>\n",
       "</symbol>\n",
       "<symbol overflow=\"visible\" id=\"glyph0-6\">\n",
       "<path style=\"stroke:none;\" d=\"M 3.578125 -2.359375 C 3.578125 -2.554688 3.546875 -2.742188 3.484375 -2.921875 C 3.429688 -3.109375 3.347656 -3.265625 3.234375 -3.390625 C 3.128906 -3.523438 2.992188 -3.628906 2.828125 -3.703125 C 2.660156 -3.785156 2.472656 -3.828125 2.265625 -3.828125 C 2.046875 -3.828125 1.851562 -3.785156 1.6875 -3.703125 C 1.53125 -3.617188 1.394531 -3.507812 1.28125 -3.375 C 1.164062 -3.25 1.070312 -3.097656 1 -2.921875 C 0.9375 -2.742188 0.894531 -2.554688 0.875 -2.359375 Z M 0.875 -1.953125 C 0.875 -1.734375 0.898438 -1.523438 0.953125 -1.328125 C 1.015625 -1.128906 1.101562 -0.953125 1.21875 -0.796875 C 1.332031 -0.648438 1.476562 -0.53125 1.65625 -0.4375 C 1.832031 -0.351562 2.035156 -0.3125 2.265625 -0.3125 C 2.578125 -0.3125 2.84375 -0.394531 3.0625 -0.5625 C 3.289062 -0.726562 3.441406 -0.960938 3.515625 -1.265625 L 4.0625 -1.265625 C 4 -1.066406 3.921875 -0.882812 3.828125 -0.71875 C 3.734375 -0.550781 3.613281 -0.40625 3.46875 -0.28125 C 3.320312 -0.15625 3.148438 -0.0625 2.953125 0 C 2.753906 0.0703125 2.523438 0.109375 2.265625 0.109375 C 1.929688 0.109375 1.644531 0.0546875 1.40625 -0.046875 C 1.164062 -0.160156 0.96875 -0.316406 0.8125 -0.515625 C 0.65625 -0.710938 0.539062 -0.941406 0.46875 -1.203125 C 0.394531 -1.460938 0.359375 -1.75 0.359375 -2.0625 C 0.359375 -2.363281 0.398438 -2.644531 0.484375 -2.90625 C 0.578125 -3.175781 0.703125 -3.410156 0.859375 -3.609375 C 1.023438 -3.804688 1.222656 -3.960938 1.453125 -4.078125 C 1.691406 -4.191406 1.960938 -4.25 2.265625 -4.25 C 2.835938 -4.25 3.285156 -4.050781 3.609375 -3.65625 C 3.929688 -3.269531 4.09375 -2.703125 4.09375 -1.953125 Z \"/>\n",
       "</symbol>\n",
       "<symbol overflow=\"visible\" id=\"glyph0-7\">\n",
       "<path style=\"stroke:none;\" d=\"M 3.78125 -2.0625 C 3.78125 -2.3125 3.75 -2.539062 3.6875 -2.75 C 3.625 -2.96875 3.53125 -3.15625 3.40625 -3.3125 C 3.289062 -3.46875 3.144531 -3.59375 2.96875 -3.6875 C 2.800781 -3.78125 2.601562 -3.828125 2.375 -3.828125 C 2.175781 -3.828125 1.988281 -3.789062 1.8125 -3.71875 C 1.644531 -3.644531 1.492188 -3.535156 1.359375 -3.390625 C 1.234375 -3.253906 1.132812 -3.085938 1.0625 -2.890625 C 0.988281 -2.691406 0.953125 -2.460938 0.953125 -2.203125 C 0.941406 -1.941406 0.960938 -1.695312 1.015625 -1.46875 C 1.078125 -1.238281 1.164062 -1.035156 1.28125 -0.859375 C 1.394531 -0.691406 1.539062 -0.554688 1.71875 -0.453125 C 1.90625 -0.359375 2.125 -0.3125 2.375 -0.3125 C 2.59375 -0.3125 2.785156 -0.359375 2.953125 -0.453125 C 3.128906 -0.546875 3.273438 -0.671875 3.390625 -0.828125 C 3.515625 -0.992188 3.609375 -1.179688 3.671875 -1.390625 C 3.742188 -1.597656 3.78125 -1.820312 3.78125 -2.0625 Z M 3.78125 -4.140625 L 4.25 -4.140625 L 4.25 -0.40625 C 4.25 -0.125 4.222656 0.140625 4.171875 0.390625 C 4.117188 0.648438 4.019531 0.875 3.875 1.0625 C 3.726562 1.257812 3.53125 1.414062 3.28125 1.53125 C 3.03125 1.644531 2.707031 1.703125 2.3125 1.703125 C 2.007812 1.703125 1.75 1.660156 1.53125 1.578125 C 1.3125 1.503906 1.128906 1.40625 0.984375 1.28125 C 0.847656 1.164062 0.742188 1.035156 0.671875 0.890625 C 0.597656 0.753906 0.5625 0.625 0.5625 0.5 L 1.078125 0.5 C 1.109375 0.65625 1.164062 0.78125 1.25 0.875 C 1.332031 0.976562 1.425781 1.054688 1.53125 1.109375 C 1.644531 1.171875 1.765625 1.210938 1.890625 1.234375 C 2.023438 1.253906 2.164062 1.265625 2.3125 1.265625 C 2.632812 1.265625 2.894531 1.207031 3.09375 1.09375 C 3.289062 0.976562 3.441406 0.832031 3.546875 0.65625 C 3.648438 0.476562 3.710938 0.273438 3.734375 0.046875 C 3.765625 -0.179688 3.78125 -0.414062 3.78125 -0.65625 C 3.625 -0.40625 3.410156 -0.210938 3.140625 -0.078125 C 2.867188 0.046875 2.585938 0.109375 2.296875 0.109375 C 1.984375 0.109375 1.707031 0.0507812 1.46875 -0.0625 C 1.238281 -0.1875 1.046875 -0.347656 0.890625 -0.546875 C 0.742188 -0.742188 0.632812 -0.972656 0.5625 -1.234375 C 0.488281 -1.503906 0.453125 -1.785156 0.453125 -2.078125 C 0.453125 -2.378906 0.484375 -2.664062 0.546875 -2.9375 C 0.617188 -3.207031 0.726562 -3.4375 0.875 -3.625 C 1.03125 -3.820312 1.222656 -3.972656 1.453125 -4.078125 C 1.691406 -4.191406 1.976562 -4.25 2.3125 -4.25 C 2.445312 -4.25 2.582031 -4.226562 2.71875 -4.1875 C 2.863281 -4.15625 3 -4.101562 3.125 -4.03125 C 3.257812 -3.96875 3.378906 -3.878906 3.484375 -3.765625 C 3.597656 -3.660156 3.691406 -3.546875 3.765625 -3.421875 L 3.78125 -3.421875 Z \"/>\n",
       "</symbol>\n",
       "<symbol overflow=\"visible\" id=\"glyph0-8\">\n",
       "<path style=\"stroke:none;\" d=\"M 1.078125 0 L 0.59375 0 L 0.59375 -4.140625 L 1.078125 -4.140625 L 1.078125 -3.375 L 1.09375 -3.375 C 1.226562 -3.695312 1.398438 -3.921875 1.609375 -4.046875 C 1.816406 -4.179688 2.097656 -4.25 2.453125 -4.25 L 2.453125 -3.734375 C 2.179688 -3.742188 1.957031 -3.703125 1.78125 -3.609375 C 1.601562 -3.515625 1.460938 -3.390625 1.359375 -3.234375 C 1.253906 -3.085938 1.179688 -2.90625 1.140625 -2.6875 C 1.097656 -2.476562 1.078125 -2.257812 1.078125 -2.03125 Z \"/>\n",
       "</symbol>\n",
       "<symbol overflow=\"visible\" id=\"glyph0-9\">\n",
       "<path style=\"stroke:none;\" d=\"\"/>\n",
       "</symbol>\n",
       "<symbol overflow=\"visible\" id=\"glyph0-10\">\n",
       "<path style=\"stroke:none;\" d=\"M 2.21875 0.109375 C 1.957031 0.109375 1.707031 0.0625 1.46875 -0.03125 C 1.238281 -0.125 1.035156 -0.257812 0.859375 -0.4375 C 0.691406 -0.625 0.554688 -0.851562 0.453125 -1.125 C 0.347656 -1.394531 0.296875 -1.710938 0.296875 -2.078125 C 0.296875 -2.378906 0.335938 -2.660156 0.421875 -2.921875 C 0.503906 -3.179688 0.625 -3.410156 0.78125 -3.609375 C 0.945312 -3.804688 1.148438 -3.960938 1.390625 -4.078125 C 1.628906 -4.191406 1.90625 -4.25 2.21875 -4.25 C 2.550781 -4.25 2.835938 -4.191406 3.078125 -4.078125 C 3.316406 -3.960938 3.515625 -3.804688 3.671875 -3.609375 C 3.828125 -3.421875 3.941406 -3.191406 4.015625 -2.921875 C 4.097656 -2.660156 4.140625 -2.378906 4.140625 -2.078125 C 4.140625 -1.742188 4.09375 -1.441406 4 -1.171875 C 3.914062 -0.910156 3.789062 -0.679688 3.625 -0.484375 C 3.457031 -0.296875 3.253906 -0.148438 3.015625 -0.046875 C 2.773438 0.0546875 2.507812 0.109375 2.21875 0.109375 Z M 3.625 -2.078125 C 3.625 -2.316406 3.597656 -2.539062 3.546875 -2.75 C 3.492188 -2.96875 3.410156 -3.15625 3.296875 -3.3125 C 3.191406 -3.46875 3.050781 -3.59375 2.875 -3.6875 C 2.695312 -3.78125 2.476562 -3.828125 2.21875 -3.828125 C 1.96875 -3.828125 1.753906 -3.773438 1.578125 -3.671875 C 1.398438 -3.578125 1.253906 -3.445312 1.140625 -3.28125 C 1.023438 -3.125 0.941406 -2.9375 0.890625 -2.71875 C 0.835938 -2.507812 0.8125 -2.296875 0.8125 -2.078125 C 0.8125 -1.816406 0.84375 -1.578125 0.90625 -1.359375 C 0.96875 -1.148438 1.054688 -0.96875 1.171875 -0.8125 C 1.296875 -0.65625 1.441406 -0.53125 1.609375 -0.4375 C 1.785156 -0.351562 1.988281 -0.3125 2.21875 -0.3125 C 2.46875 -0.3125 2.679688 -0.359375 2.859375 -0.453125 C 3.046875 -0.554688 3.191406 -0.691406 3.296875 -0.859375 C 3.410156 -1.023438 3.492188 -1.210938 3.546875 -1.421875 C 3.597656 -1.628906 3.625 -1.847656 3.625 -2.078125 Z \"/>\n",
       "</symbol>\n",
       "<symbol overflow=\"visible\" id=\"glyph0-11\">\n",
       "<path style=\"stroke:none;\" d=\"M 0.15625 -3.75 L 0.15625 -4.140625 L 0.78125 -4.140625 L 0.78125 -4.796875 C 0.78125 -5.128906 0.84375 -5.390625 0.96875 -5.578125 C 1.101562 -5.773438 1.332031 -5.875 1.65625 -5.875 C 1.726562 -5.875 1.796875 -5.867188 1.859375 -5.859375 C 1.921875 -5.859375 1.988281 -5.851562 2.0625 -5.84375 L 2.0625 -5.40625 C 1.945312 -5.425781 1.847656 -5.4375 1.765625 -5.4375 C 1.640625 -5.4375 1.539062 -5.410156 1.46875 -5.359375 C 1.40625 -5.316406 1.359375 -5.257812 1.328125 -5.1875 C 1.296875 -5.113281 1.273438 -5.03125 1.265625 -4.9375 C 1.253906 -4.84375 1.25 -4.75 1.25 -4.65625 L 1.25 -4.140625 L 2.0625 -4.140625 L 2.0625 -3.75 L 1.25 -3.75 L 1.25 0 L 0.78125 0 L 0.78125 -3.75 Z \"/>\n",
       "</symbol>\n",
       "<symbol overflow=\"visible\" id=\"glyph0-12\">\n",
       "<path style=\"stroke:none;\" d=\"M 1.109375 -2.0625 C 1.109375 -1.820312 1.140625 -1.597656 1.203125 -1.390625 C 1.265625 -1.179688 1.351562 -0.992188 1.46875 -0.828125 C 1.59375 -0.671875 1.742188 -0.546875 1.921875 -0.453125 C 2.097656 -0.359375 2.296875 -0.3125 2.515625 -0.3125 C 2.753906 -0.3125 2.96875 -0.359375 3.15625 -0.453125 C 3.34375 -0.554688 3.492188 -0.691406 3.609375 -0.859375 C 3.722656 -1.035156 3.804688 -1.238281 3.859375 -1.46875 C 3.910156 -1.695312 3.929688 -1.941406 3.921875 -2.203125 C 3.921875 -2.460938 3.882812 -2.691406 3.8125 -2.890625 C 3.75 -3.085938 3.648438 -3.253906 3.515625 -3.390625 C 3.390625 -3.535156 3.238281 -3.644531 3.0625 -3.71875 C 2.894531 -3.789062 2.710938 -3.828125 2.515625 -3.828125 C 2.285156 -3.828125 2.082031 -3.78125 1.90625 -3.6875 C 1.726562 -3.59375 1.582031 -3.46875 1.46875 -3.3125 C 1.351562 -3.15625 1.265625 -2.96875 1.203125 -2.75 C 1.140625 -2.539062 1.109375 -2.3125 1.109375 -2.0625 Z M 1.109375 1.625 L 0.625 1.625 L 0.625 -4.140625 L 1.109375 -4.140625 L 1.109375 -3.421875 L 1.125 -3.421875 C 1.195312 -3.546875 1.285156 -3.660156 1.390625 -3.765625 C 1.503906 -3.878906 1.625 -3.96875 1.75 -4.03125 C 1.882812 -4.101562 2.019531 -4.15625 2.15625 -4.1875 C 2.300781 -4.226562 2.4375 -4.25 2.5625 -4.25 C 2.90625 -4.25 3.191406 -4.191406 3.421875 -4.078125 C 3.660156 -3.972656 3.851562 -3.820312 4 -3.625 C 4.15625 -3.4375 4.265625 -3.207031 4.328125 -2.9375 C 4.398438 -2.664062 4.4375 -2.378906 4.4375 -2.078125 C 4.4375 -1.785156 4.398438 -1.503906 4.328125 -1.234375 C 4.253906 -0.972656 4.140625 -0.742188 3.984375 -0.546875 C 3.835938 -0.347656 3.644531 -0.1875 3.40625 -0.0625 C 3.175781 0.0507812 2.90625 0.109375 2.59375 0.109375 C 2.300781 0.109375 2.019531 0.046875 1.75 -0.078125 C 1.476562 -0.210938 1.265625 -0.40625 1.109375 -0.65625 Z \"/>\n",
       "</symbol>\n",
       "<symbol overflow=\"visible\" id=\"glyph0-13\">\n",
       "<path style=\"stroke:none;\" d=\"M 0.640625 0 L 0.640625 -5.765625 L 1.125 -5.765625 L 1.125 0 Z \"/>\n",
       "</symbol>\n",
       "<symbol overflow=\"visible\" id=\"glyph0-14\">\n",
       "<path style=\"stroke:none;\" d=\"M 0.546875 1.125 C 0.609375 1.132812 0.671875 1.144531 0.734375 1.15625 C 0.804688 1.164062 0.875 1.171875 0.9375 1.171875 C 1.070312 1.171875 1.179688 1.128906 1.265625 1.046875 C 1.359375 0.960938 1.429688 0.859375 1.484375 0.734375 C 1.535156 0.617188 1.582031 0.492188 1.625 0.359375 C 1.664062 0.234375 1.707031 0.125 1.75 0.03125 L 0.140625 -4.140625 L 0.6875 -4.140625 L 2.015625 -0.578125 L 3.34375 -4.140625 L 3.859375 -4.140625 L 2.3125 -0.0625 C 2.21875 0.207031 2.125 0.441406 2.03125 0.640625 C 1.945312 0.847656 1.851562 1.023438 1.75 1.171875 C 1.65625 1.328125 1.546875 1.441406 1.421875 1.515625 C 1.304688 1.585938 1.164062 1.625 1 1.625 C 0.914062 1.625 0.832031 1.617188 0.75 1.609375 C 0.675781 1.597656 0.609375 1.585938 0.546875 1.578125 Z \"/>\n",
       "</symbol>\n",
       "<symbol overflow=\"visible\" id=\"glyph0-15\">\n",
       "<path style=\"stroke:none;\" d=\"M 1.0625 0 L 0.578125 0 L 0.578125 -4.140625 L 1.0625 -4.140625 L 1.0625 -3.5625 C 1.25 -3.769531 1.441406 -3.9375 1.640625 -4.0625 C 1.847656 -4.1875 2.097656 -4.25 2.390625 -4.25 C 2.648438 -4.25 2.890625 -4.203125 3.109375 -4.109375 C 3.328125 -4.023438 3.507812 -3.875 3.65625 -3.65625 C 3.757812 -3.507812 3.816406 -3.359375 3.828125 -3.203125 C 3.847656 -3.046875 3.859375 -2.882812 3.859375 -2.71875 L 3.859375 0 L 3.390625 0 L 3.390625 -2.703125 C 3.390625 -3.078125 3.304688 -3.359375 3.140625 -3.546875 C 2.972656 -3.734375 2.695312 -3.828125 2.3125 -3.828125 C 2.164062 -3.828125 2.03125 -3.800781 1.90625 -3.75 C 1.78125 -3.707031 1.664062 -3.648438 1.5625 -3.578125 C 1.46875 -3.503906 1.382812 -3.414062 1.3125 -3.3125 C 1.25 -3.21875 1.195312 -3.117188 1.15625 -3.015625 C 1.113281 -2.878906 1.085938 -2.75 1.078125 -2.625 C 1.066406 -2.507812 1.0625 -2.378906 1.0625 -2.234375 Z \"/>\n",
       "</symbol>\n",
       "<symbol overflow=\"visible\" id=\"glyph0-16\">\n",
       "<path style=\"stroke:none;\" d=\"M 0.984375 0 L 0.515625 0 L 0.515625 -4.140625 L 0.984375 -4.140625 L 0.984375 -3.515625 L 1.015625 -3.515625 C 1.128906 -3.753906 1.300781 -3.9375 1.53125 -4.0625 C 1.757812 -4.1875 2.007812 -4.25 2.28125 -4.25 C 2.476562 -4.25 2.640625 -4.226562 2.765625 -4.1875 C 2.898438 -4.144531 3.015625 -4.085938 3.109375 -4.015625 C 3.203125 -3.941406 3.28125 -3.859375 3.34375 -3.765625 C 3.40625 -3.671875 3.457031 -3.566406 3.5 -3.453125 C 3.644531 -3.722656 3.832031 -3.921875 4.0625 -4.046875 C 4.289062 -4.179688 4.554688 -4.25 4.859375 -4.25 C 5.140625 -4.25 5.363281 -4.203125 5.53125 -4.109375 C 5.695312 -4.015625 5.828125 -3.890625 5.921875 -3.734375 C 6.015625 -3.585938 6.070312 -3.414062 6.09375 -3.21875 C 6.125 -3.019531 6.140625 -2.816406 6.140625 -2.609375 L 6.140625 0 L 5.65625 0 L 5.65625 -2.859375 C 5.65625 -3.160156 5.59375 -3.394531 5.46875 -3.5625 C 5.34375 -3.738281 5.113281 -3.828125 4.78125 -3.828125 C 4.601562 -3.828125 4.429688 -3.785156 4.265625 -3.703125 C 4.109375 -3.628906 3.96875 -3.515625 3.84375 -3.359375 C 3.789062 -3.285156 3.742188 -3.203125 3.703125 -3.109375 C 3.671875 -3.015625 3.644531 -2.914062 3.625 -2.8125 C 3.601562 -2.707031 3.585938 -2.601562 3.578125 -2.5 C 3.566406 -2.40625 3.5625 -2.316406 3.5625 -2.234375 L 3.5625 0 L 3.09375 0 L 3.09375 -2.859375 C 3.09375 -3.160156 3.03125 -3.394531 2.90625 -3.5625 C 2.78125 -3.738281 2.546875 -3.828125 2.203125 -3.828125 C 2.023438 -3.828125 1.851562 -3.785156 1.6875 -3.703125 C 1.53125 -3.628906 1.390625 -3.515625 1.265625 -3.359375 C 1.210938 -3.285156 1.164062 -3.203125 1.125 -3.109375 C 1.09375 -3.015625 1.066406 -2.914062 1.046875 -2.8125 C 1.023438 -2.707031 1.007812 -2.601562 1 -2.5 C 0.988281 -2.40625 0.984375 -2.316406 0.984375 -2.234375 Z \"/>\n",
       "</symbol>\n",
       "<symbol overflow=\"visible\" id=\"glyph0-17\">\n",
       "<path style=\"stroke:none;\" d=\"M 0.640625 0 L 0.640625 -4.140625 L 1.125 -4.140625 L 1.125 0 Z M 0.625 -5.046875 L 0.625 -5.765625 L 1.15625 -5.765625 L 1.15625 -5.046875 Z \"/>\n",
       "</symbol>\n",
       "<symbol overflow=\"visible\" id=\"glyph0-18\">\n",
       "<path style=\"stroke:none;\" d=\"M 3.28125 -2.171875 C 3.082031 -2.085938 2.878906 -2.03125 2.671875 -2 C 2.460938 -1.976562 2.253906 -1.957031 2.046875 -1.9375 C 1.679688 -1.914062 1.394531 -1.832031 1.1875 -1.6875 C 0.976562 -1.550781 0.875 -1.34375 0.875 -1.0625 C 0.875 -0.9375 0.898438 -0.828125 0.953125 -0.734375 C 1.003906 -0.640625 1.070312 -0.5625 1.15625 -0.5 C 1.238281 -0.4375 1.332031 -0.390625 1.4375 -0.359375 C 1.550781 -0.328125 1.664062 -0.3125 1.78125 -0.3125 C 1.96875 -0.3125 2.148438 -0.335938 2.328125 -0.390625 C 2.515625 -0.441406 2.675781 -0.515625 2.8125 -0.609375 C 2.957031 -0.710938 3.070312 -0.835938 3.15625 -0.984375 C 3.238281 -1.140625 3.28125 -1.320312 3.28125 -1.53125 Z M 2.484375 -2.421875 C 2.566406 -2.429688 2.671875 -2.445312 2.796875 -2.46875 C 2.921875 -2.488281 3.023438 -2.515625 3.109375 -2.546875 C 3.191406 -2.585938 3.238281 -2.648438 3.25 -2.734375 C 3.269531 -2.828125 3.28125 -2.910156 3.28125 -2.984375 C 3.28125 -3.234375 3.203125 -3.4375 3.046875 -3.59375 C 2.890625 -3.75 2.625 -3.828125 2.25 -3.828125 C 2.09375 -3.828125 1.941406 -3.8125 1.796875 -3.78125 C 1.660156 -3.75 1.539062 -3.695312 1.4375 -3.625 C 1.332031 -3.550781 1.242188 -3.453125 1.171875 -3.328125 C 1.109375 -3.210938 1.066406 -3.066406 1.046875 -2.890625 L 0.5625 -2.890625 C 0.570312 -3.128906 0.625 -3.335938 0.71875 -3.515625 C 0.820312 -3.691406 0.945312 -3.832031 1.09375 -3.9375 C 1.25 -4.050781 1.425781 -4.128906 1.625 -4.171875 C 1.820312 -4.222656 2.035156 -4.25 2.265625 -4.25 C 2.472656 -4.25 2.664062 -4.226562 2.84375 -4.1875 C 3.03125 -4.144531 3.191406 -4.070312 3.328125 -3.96875 C 3.460938 -3.875 3.566406 -3.742188 3.640625 -3.578125 C 3.722656 -3.410156 3.765625 -3.207031 3.765625 -2.96875 L 3.765625 -0.71875 C 3.765625 -0.53125 3.796875 -0.410156 3.859375 -0.359375 C 3.929688 -0.304688 4.066406 -0.316406 4.265625 -0.390625 L 4.265625 -0.015625 C 4.234375 -0.00390625 4.179688 0.0078125 4.109375 0.03125 C 4.035156 0.0507812 3.960938 0.0625 3.890625 0.0625 C 3.816406 0.0625 3.75 0.0546875 3.6875 0.046875 C 3.601562 0.0351562 3.535156 0.0078125 3.484375 -0.03125 C 3.441406 -0.0703125 3.40625 -0.117188 3.375 -0.171875 C 3.34375 -0.234375 3.320312 -0.296875 3.3125 -0.359375 C 3.300781 -0.429688 3.296875 -0.503906 3.296875 -0.578125 C 3.085938 -0.347656 2.851562 -0.175781 2.59375 -0.0625 C 2.332031 0.0507812 2.050781 0.109375 1.75 0.109375 C 1.570312 0.109375 1.394531 0.0820312 1.21875 0.03125 C 1.050781 -0.0078125 0.90625 -0.0820312 0.78125 -0.1875 C 0.65625 -0.289062 0.554688 -0.414062 0.484375 -0.5625 C 0.410156 -0.707031 0.375 -0.878906 0.375 -1.078125 C 0.375 -1.785156 0.851562 -2.203125 1.8125 -2.328125 Z \"/>\n",
       "</symbol>\n",
       "<symbol overflow=\"visible\" id=\"glyph1-0\">\n",
       "<path style=\"stroke:none;\" d=\"M -5.59375 0 L -5.59375 -4 L 0 -4 L 0 0 Z M -5.203125 -3.359375 L -5.203125 -0.640625 L -3.15625 -2 Z M -0.765625 -3.59375 L -4.84375 -3.59375 L -2.796875 -2.234375 Z M -0.40625 -3.359375 L -2.4375 -2 L -0.40625 -0.640625 Z M -0.765625 -0.40625 L -2.796875 -1.765625 L -4.84375 -0.40625 Z \"/>\n",
       "</symbol>\n",
       "<symbol overflow=\"visible\" id=\"glyph1-1\">\n",
       "<path style=\"stroke:none;\" d=\"M -2.78125 -3.609375 C -3.082031 -3.609375 -3.378906 -3.59375 -3.671875 -3.5625 C -3.960938 -3.53125 -4.222656 -3.460938 -4.453125 -3.359375 C -4.679688 -3.253906 -4.863281 -3.109375 -5 -2.921875 C -5.132812 -2.742188 -5.203125 -2.503906 -5.203125 -2.203125 C -5.203125 -1.921875 -5.128906 -1.691406 -4.984375 -1.515625 C -4.847656 -1.335938 -4.660156 -1.195312 -4.421875 -1.09375 C -4.191406 -0.988281 -3.925781 -0.914062 -3.625 -0.875 C -3.332031 -0.84375 -3.03125 -0.828125 -2.71875 -0.828125 C -2.351562 -0.828125 -2.019531 -0.847656 -1.71875 -0.890625 C -1.425781 -0.929688 -1.175781 -1.003906 -0.96875 -1.109375 C -0.757812 -1.222656 -0.597656 -1.367188 -0.484375 -1.546875 C -0.367188 -1.722656 -0.3125 -1.945312 -0.3125 -2.21875 C -0.3125 -2.53125 -0.382812 -2.773438 -0.53125 -2.953125 C -0.6875 -3.140625 -0.878906 -3.28125 -1.109375 -3.375 C -1.347656 -3.46875 -1.613281 -3.53125 -1.90625 -3.5625 C -2.207031 -3.59375 -2.5 -3.609375 -2.78125 -3.609375 Z M -5.640625 -2.21875 C -5.640625 -2.5 -5.597656 -2.738281 -5.515625 -2.9375 C -5.429688 -3.144531 -5.316406 -3.316406 -5.171875 -3.453125 C -5.023438 -3.597656 -4.859375 -3.710938 -4.671875 -3.796875 C -4.484375 -3.890625 -4.28125 -3.957031 -4.0625 -4 C -3.84375 -4.050781 -3.617188 -4.082031 -3.390625 -4.09375 C -3.160156 -4.113281 -2.9375 -4.125 -2.71875 -4.125 C -2.34375 -4.125 -1.984375 -4.097656 -1.640625 -4.046875 C -1.304688 -3.992188 -1.007812 -3.894531 -0.75 -3.75 C -0.488281 -3.613281 -0.28125 -3.421875 -0.125 -3.171875 C 0.03125 -2.929688 0.109375 -2.613281 0.109375 -2.21875 C 0.109375 -1.832031 0.03125 -1.515625 -0.125 -1.265625 C -0.28125 -1.015625 -0.488281 -0.816406 -0.75 -0.671875 C -1.007812 -0.535156 -1.3125 -0.441406 -1.65625 -0.390625 C -2.007812 -0.335938 -2.382812 -0.3125 -2.78125 -0.3125 C -3.132812 -0.3125 -3.484375 -0.332031 -3.828125 -0.375 C -4.171875 -0.425781 -4.472656 -0.519531 -4.734375 -0.65625 C -5.003906 -0.789062 -5.222656 -0.984375 -5.390625 -1.234375 C -5.554688 -1.484375 -5.640625 -1.8125 -5.640625 -2.21875 Z \"/>\n",
       "</symbol>\n",
       "<symbol overflow=\"visible\" id=\"glyph1-2\">\n",
       "<path style=\"stroke:none;\" d=\"M -1.46875 -0.796875 C -1.082031 -0.847656 -0.789062 -1 -0.59375 -1.25 C -0.40625 -1.5 -0.3125 -1.8125 -0.3125 -2.1875 C -0.3125 -2.394531 -0.347656 -2.582031 -0.421875 -2.75 C -0.503906 -2.914062 -0.609375 -3.054688 -0.734375 -3.171875 C -0.867188 -3.296875 -1.019531 -3.382812 -1.1875 -3.4375 C -1.363281 -3.5 -1.554688 -3.53125 -1.765625 -3.53125 C -1.972656 -3.53125 -2.160156 -3.5 -2.328125 -3.4375 C -2.503906 -3.375 -2.65625 -3.28125 -2.78125 -3.15625 C -2.914062 -3.03125 -3.015625 -2.878906 -3.078125 -2.703125 C -3.148438 -2.535156 -3.1875 -2.347656 -3.1875 -2.140625 C -3.1875 -1.878906 -3.140625 -1.644531 -3.046875 -1.4375 C -2.953125 -1.238281 -2.804688 -1.0625 -2.609375 -0.90625 L -2.65625 -0.484375 L -5.578125 -0.9375 L -5.578125 -3.75 L -5.15625 -3.75 L -5.15625 -1.375 L -3.25 -1.03125 C -3.320312 -1.132812 -3.378906 -1.234375 -3.421875 -1.328125 C -3.472656 -1.421875 -3.515625 -1.515625 -3.546875 -1.609375 C -3.578125 -1.710938 -3.597656 -1.816406 -3.609375 -1.921875 C -3.617188 -2.023438 -3.625 -2.140625 -3.625 -2.265625 C -3.625 -2.515625 -3.582031 -2.75 -3.5 -2.96875 C -3.414062 -3.1875 -3.289062 -3.375 -3.125 -3.53125 C -2.96875 -3.695312 -2.769531 -3.820312 -2.53125 -3.90625 C -2.300781 -4 -2.046875 -4.046875 -1.765625 -4.046875 C -1.460938 -4.046875 -1.191406 -3.992188 -0.953125 -3.890625 C -0.722656 -3.796875 -0.53125 -3.664062 -0.375 -3.5 C -0.21875 -3.332031 -0.0976562 -3.140625 -0.015625 -2.921875 C 0.0664062 -2.710938 0.109375 -2.492188 0.109375 -2.265625 C 0.109375 -1.992188 0.0820312 -1.742188 0.03125 -1.515625 C -0.0195312 -1.285156 -0.109375 -1.082031 -0.234375 -0.90625 C -0.359375 -0.726562 -0.519531 -0.582031 -0.71875 -0.46875 C -0.925781 -0.363281 -1.175781 -0.300781 -1.46875 -0.28125 Z \"/>\n",
       "</symbol>\n",
       "<symbol overflow=\"visible\" id=\"glyph1-3\">\n",
       "<path style=\"stroke:none;\" d=\"M -4.1875 -2.421875 L -4.1875 -0.953125 L -4.53125 -0.953125 C -4.539062 -1.171875 -4.554688 -1.363281 -4.578125 -1.53125 C -4.609375 -1.707031 -4.660156 -1.859375 -4.734375 -1.984375 C -4.816406 -2.117188 -4.925781 -2.226562 -5.0625 -2.3125 C -5.207031 -2.40625 -5.398438 -2.472656 -5.640625 -2.515625 L -5.640625 -2.921875 L 0 -2.921875 L 0 -2.421875 Z \"/>\n",
       "</symbol>\n",
       "<symbol overflow=\"visible\" id=\"glyph1-4\">\n",
       "<path style=\"stroke:none;\" d=\"M -3.796875 -0.546875 C -4.066406 -0.546875 -4.316406 -0.585938 -4.546875 -0.671875 C -4.773438 -0.765625 -4.96875 -0.890625 -5.125 -1.046875 C -5.289062 -1.203125 -5.414062 -1.394531 -5.5 -1.625 C -5.59375 -1.851562 -5.640625 -2.109375 -5.640625 -2.390625 C -5.640625 -2.671875 -5.597656 -2.914062 -5.515625 -3.125 C -5.429688 -3.34375 -5.316406 -3.523438 -5.171875 -3.671875 C -5.035156 -3.816406 -4.875 -3.925781 -4.6875 -4 C -4.5 -4.082031 -4.296875 -4.125 -4.078125 -4.125 C -3.828125 -4.125 -3.601562 -4.082031 -3.40625 -4 C -3.21875 -3.914062 -3.050781 -3.804688 -2.90625 -3.671875 C -2.757812 -3.535156 -2.625 -3.378906 -2.5 -3.203125 C -2.382812 -3.023438 -2.273438 -2.847656 -2.171875 -2.671875 C -2.066406 -2.492188 -1.96875 -2.316406 -1.875 -2.140625 C -1.78125 -1.960938 -1.675781 -1.800781 -1.5625 -1.65625 C -1.5 -1.570312 -1.425781 -1.484375 -1.34375 -1.390625 C -1.269531 -1.304688 -1.1875 -1.226562 -1.09375 -1.15625 C -1 -1.09375 -0.894531 -1.039062 -0.78125 -1 C -0.675781 -0.957031 -0.5625 -0.929688 -0.4375 -0.921875 L -0.4375 -4.078125 L 0 -4.078125 L 0 -0.390625 C -0.269531 -0.390625 -0.515625 -0.414062 -0.734375 -0.46875 C -0.953125 -0.519531 -1.164062 -0.640625 -1.375 -0.828125 C -1.601562 -1.023438 -1.796875 -1.226562 -1.953125 -1.4375 C -2.109375 -1.644531 -2.25 -1.847656 -2.375 -2.046875 C -2.5 -2.253906 -2.613281 -2.445312 -2.71875 -2.625 C -2.820312 -2.8125 -2.9375 -2.972656 -3.0625 -3.109375 C -3.1875 -3.242188 -3.328125 -3.351562 -3.484375 -3.4375 C -3.640625 -3.519531 -3.828125 -3.5625 -4.046875 -3.5625 C -4.222656 -3.5625 -4.382812 -3.53125 -4.53125 -3.46875 C -4.675781 -3.40625 -4.800781 -3.316406 -4.90625 -3.203125 C -5.007812 -3.085938 -5.082031 -2.953125 -5.125 -2.796875 C -5.175781 -2.648438 -5.203125 -2.488281 -5.203125 -2.3125 C -5.203125 -2.132812 -5.160156 -1.96875 -5.078125 -1.8125 C -5.003906 -1.65625 -4.90625 -1.519531 -4.78125 -1.40625 C -4.65625 -1.300781 -4.503906 -1.21875 -4.328125 -1.15625 C -4.160156 -1.101562 -3.984375 -1.082031 -3.796875 -1.09375 Z \"/>\n",
       "</symbol>\n",
       "<symbol overflow=\"visible\" id=\"glyph1-5\">\n",
       "<path style=\"stroke:none;\" d=\"M -3.140625 -1.765625 C -3.140625 -2.003906 -3.148438 -2.222656 -3.171875 -2.421875 C -3.203125 -2.617188 -3.257812 -2.785156 -3.34375 -2.921875 C -3.425781 -3.066406 -3.535156 -3.179688 -3.671875 -3.265625 C -3.816406 -3.347656 -4 -3.390625 -4.21875 -3.390625 C -4.394531 -3.390625 -4.546875 -3.351562 -4.671875 -3.28125 C -4.796875 -3.21875 -4.894531 -3.128906 -4.96875 -3.015625 C -5.050781 -2.910156 -5.109375 -2.785156 -5.140625 -2.640625 C -5.179688 -2.492188 -5.203125 -2.34375 -5.203125 -2.1875 C -5.203125 -2 -5.171875 -1.832031 -5.109375 -1.6875 C -5.054688 -1.539062 -4.972656 -1.414062 -4.859375 -1.3125 C -4.753906 -1.207031 -4.628906 -1.125 -4.484375 -1.0625 C -4.335938 -1 -4.175781 -0.96875 -4 -0.96875 L -4 -0.46875 C -4.257812 -0.46875 -4.488281 -0.507812 -4.6875 -0.59375 C -4.894531 -0.6875 -5.085938 -0.828125 -5.265625 -1.015625 C -5.421875 -1.179688 -5.519531 -1.375 -5.5625 -1.59375 C -5.613281 -1.820312 -5.640625 -2.050781 -5.640625 -2.28125 C -5.640625 -2.507812 -5.609375 -2.71875 -5.546875 -2.90625 C -5.492188 -3.101562 -5.410156 -3.273438 -5.296875 -3.421875 C -5.179688 -3.566406 -5.035156 -3.679688 -4.859375 -3.765625 C -4.679688 -3.847656 -4.476562 -3.890625 -4.25 -3.890625 C -3.957031 -3.890625 -3.703125 -3.820312 -3.484375 -3.6875 C -3.273438 -3.5625 -3.109375 -3.363281 -2.984375 -3.09375 C -2.921875 -3.300781 -2.835938 -3.46875 -2.734375 -3.59375 C -2.628906 -3.726562 -2.515625 -3.832031 -2.390625 -3.90625 C -2.265625 -3.976562 -2.132812 -4.023438 -2 -4.046875 C -1.863281 -4.078125 -1.726562 -4.09375 -1.59375 -4.09375 C -1.363281 -4.09375 -1.144531 -4.050781 -0.9375 -3.96875 C -0.738281 -3.894531 -0.5625 -3.78125 -0.40625 -3.625 C -0.25 -3.46875 -0.125 -3.273438 -0.03125 -3.046875 C 0.0625 -2.828125 0.109375 -2.570312 0.109375 -2.28125 C 0.109375 -1.957031 0.078125 -1.675781 0.015625 -1.4375 C -0.0351562 -1.195312 -0.128906 -0.992188 -0.265625 -0.828125 C -0.398438 -0.671875 -0.578125 -0.546875 -0.796875 -0.453125 C -1.023438 -0.359375 -1.300781 -0.296875 -1.625 -0.265625 L -1.625 -0.78125 C -1.195312 -0.78125 -0.867188 -0.910156 -0.640625 -1.171875 C -0.421875 -1.429688 -0.3125 -1.769531 -0.3125 -2.1875 C -0.3125 -2.382812 -0.347656 -2.570312 -0.421875 -2.75 C -0.492188 -2.925781 -0.585938 -3.078125 -0.703125 -3.203125 C -0.816406 -3.328125 -0.953125 -3.421875 -1.109375 -3.484375 C -1.265625 -3.554688 -1.425781 -3.585938 -1.59375 -3.578125 C -1.820312 -3.566406 -2.007812 -3.515625 -2.15625 -3.421875 C -2.3125 -3.328125 -2.429688 -3.195312 -2.515625 -3.03125 C -2.609375 -2.875 -2.671875 -2.6875 -2.703125 -2.46875 C -2.734375 -2.25 -2.738281 -2.015625 -2.71875 -1.765625 Z \"/>\n",
       "</symbol>\n",
       "<symbol overflow=\"visible\" id=\"glyph1-6\">\n",
       "<path style=\"stroke:none;\" d=\"M -4.09375 -4.734375 C -4.582031 -4.617188 -4.929688 -4.410156 -5.140625 -4.109375 C -5.347656 -3.804688 -5.453125 -3.410156 -5.453125 -2.921875 C -5.453125 -2.578125 -5.378906 -2.273438 -5.234375 -2.015625 C -5.097656 -1.765625 -4.910156 -1.554688 -4.671875 -1.390625 C -4.441406 -1.234375 -4.171875 -1.113281 -3.859375 -1.03125 C -3.554688 -0.957031 -3.234375 -0.921875 -2.890625 -0.921875 C -2.578125 -0.921875 -2.265625 -0.953125 -1.953125 -1.015625 C -1.640625 -1.085938 -1.363281 -1.203125 -1.125 -1.359375 C -0.882812 -1.515625 -0.6875 -1.722656 -0.53125 -1.984375 C -0.382812 -2.242188 -0.3125 -2.570312 -0.3125 -2.96875 C -0.3125 -3.21875 -0.347656 -3.441406 -0.421875 -3.640625 C -0.503906 -3.835938 -0.613281 -4.015625 -0.75 -4.171875 C -0.894531 -4.328125 -1.0625 -4.457031 -1.25 -4.5625 C -1.445312 -4.664062 -1.660156 -4.742188 -1.890625 -4.796875 L -1.890625 -5.359375 C -1.617188 -5.296875 -1.359375 -5.203125 -1.109375 -5.078125 C -0.859375 -4.953125 -0.640625 -4.789062 -0.453125 -4.59375 C -0.265625 -4.394531 -0.113281 -4.148438 0 -3.859375 C 0.101562 -3.578125 0.15625 -3.242188 0.15625 -2.859375 C 0.15625 -2.421875 0.0703125 -2.039062 -0.09375 -1.71875 C -0.257812 -1.40625 -0.476562 -1.148438 -0.75 -0.953125 C -1.03125 -0.753906 -1.351562 -0.609375 -1.71875 -0.515625 C -2.082031 -0.429688 -2.46875 -0.390625 -2.875 -0.390625 C -3.425781 -0.390625 -3.894531 -0.457031 -4.28125 -0.59375 C -4.664062 -0.726562 -4.976562 -0.914062 -5.21875 -1.15625 C -5.457031 -1.394531 -5.628906 -1.675781 -5.734375 -2 C -5.847656 -2.320312 -5.90625 -2.675781 -5.90625 -3.0625 C -5.90625 -3.351562 -5.867188 -3.625 -5.796875 -3.875 C -5.722656 -4.132812 -5.609375 -4.359375 -5.453125 -4.546875 C -5.296875 -4.742188 -5.101562 -4.90625 -4.875 -5.03125 C -4.644531 -5.15625 -4.382812 -5.242188 -4.09375 -5.296875 Z \"/>\n",
       "</symbol>\n",
       "<symbol overflow=\"visible\" id=\"glyph1-7\">\n",
       "<path style=\"stroke:none;\" d=\"M -2.0625 -1.109375 C -1.820312 -1.109375 -1.597656 -1.140625 -1.390625 -1.203125 C -1.179688 -1.265625 -0.992188 -1.351562 -0.828125 -1.46875 C -0.671875 -1.59375 -0.546875 -1.742188 -0.453125 -1.921875 C -0.359375 -2.097656 -0.3125 -2.296875 -0.3125 -2.515625 C -0.3125 -2.753906 -0.359375 -2.96875 -0.453125 -3.15625 C -0.554688 -3.34375 -0.691406 -3.492188 -0.859375 -3.609375 C -1.035156 -3.722656 -1.238281 -3.804688 -1.46875 -3.859375 C -1.695312 -3.910156 -1.941406 -3.929688 -2.203125 -3.921875 C -2.460938 -3.921875 -2.691406 -3.882812 -2.890625 -3.8125 C -3.085938 -3.75 -3.253906 -3.648438 -3.390625 -3.515625 C -3.535156 -3.390625 -3.644531 -3.238281 -3.71875 -3.0625 C -3.789062 -2.894531 -3.828125 -2.710938 -3.828125 -2.515625 C -3.828125 -2.285156 -3.78125 -2.082031 -3.6875 -1.90625 C -3.59375 -1.726562 -3.46875 -1.582031 -3.3125 -1.46875 C -3.15625 -1.351562 -2.96875 -1.265625 -2.75 -1.203125 C -2.539062 -1.140625 -2.3125 -1.109375 -2.0625 -1.109375 Z M 1.625 -1.109375 L 1.625 -0.625 L -4.140625 -0.625 L -4.140625 -1.109375 L -3.421875 -1.109375 L -3.421875 -1.125 C -3.546875 -1.195312 -3.660156 -1.285156 -3.765625 -1.390625 C -3.878906 -1.503906 -3.96875 -1.625 -4.03125 -1.75 C -4.101562 -1.882812 -4.15625 -2.019531 -4.1875 -2.15625 C -4.226562 -2.300781 -4.25 -2.4375 -4.25 -2.5625 C -4.25 -2.90625 -4.191406 -3.191406 -4.078125 -3.421875 C -3.972656 -3.660156 -3.820312 -3.851562 -3.625 -4 C -3.4375 -4.15625 -3.207031 -4.265625 -2.9375 -4.328125 C -2.664062 -4.398438 -2.378906 -4.4375 -2.078125 -4.4375 C -1.785156 -4.4375 -1.503906 -4.398438 -1.234375 -4.328125 C -0.972656 -4.253906 -0.742188 -4.140625 -0.546875 -3.984375 C -0.347656 -3.835938 -0.1875 -3.644531 -0.0625 -3.40625 C 0.0507812 -3.175781 0.109375 -2.90625 0.109375 -2.59375 C 0.109375 -2.300781 0.046875 -2.019531 -0.078125 -1.75 C -0.210938 -1.476562 -0.40625 -1.265625 -0.65625 -1.109375 Z \"/>\n",
       "</symbol>\n",
       "<symbol overflow=\"visible\" id=\"glyph1-8\">\n",
       "<path style=\"stroke:none;\" d=\"M -2.328125 -2.34375 L -1.828125 -2.34375 L -1.828125 -0.3125 L -2.328125 -0.3125 Z \"/>\n",
       "</symbol>\n",
       "<symbol overflow=\"visible\" id=\"glyph1-9\">\n",
       "<path style=\"stroke:none;\" d=\"M -2.765625 -2.234375 C -2.765625 -2.035156 -2.738281 -1.851562 -2.6875 -1.6875 C -2.632812 -1.519531 -2.554688 -1.375 -2.453125 -1.25 C -2.359375 -1.132812 -2.234375 -1.039062 -2.078125 -0.96875 C -1.929688 -0.894531 -1.753906 -0.859375 -1.546875 -0.859375 C -1.367188 -0.859375 -1.207031 -0.890625 -1.0625 -0.953125 C -0.914062 -1.023438 -0.785156 -1.117188 -0.671875 -1.234375 C -0.566406 -1.359375 -0.476562 -1.503906 -0.40625 -1.671875 C -0.34375 -1.847656 -0.3125 -2.046875 -0.3125 -2.265625 C -0.3125 -2.453125 -0.34375 -2.625 -0.40625 -2.78125 C -0.46875 -2.945312 -0.554688 -3.085938 -0.671875 -3.203125 C -0.785156 -3.328125 -0.914062 -3.421875 -1.0625 -3.484375 C -1.21875 -3.546875 -1.390625 -3.578125 -1.578125 -3.578125 C -1.773438 -3.578125 -1.945312 -3.539062 -2.09375 -3.46875 C -2.238281 -3.40625 -2.359375 -3.3125 -2.453125 -3.1875 C -2.554688 -3.070312 -2.632812 -2.929688 -2.6875 -2.765625 C -2.738281 -2.597656 -2.765625 -2.421875 -2.765625 -2.234375 Z M -5.203125 -2.203125 C -5.203125 -2.046875 -5.179688 -1.894531 -5.140625 -1.75 C -5.097656 -1.613281 -5.035156 -1.492188 -4.953125 -1.390625 C -4.867188 -1.285156 -4.757812 -1.203125 -4.625 -1.140625 C -4.5 -1.085938 -4.351562 -1.0625 -4.1875 -1.0625 C -4.007812 -1.0625 -3.859375 -1.09375 -3.734375 -1.15625 C -3.609375 -1.226562 -3.503906 -1.316406 -3.421875 -1.421875 C -3.347656 -1.535156 -3.289062 -1.664062 -3.25 -1.8125 C -3.207031 -1.957031 -3.1875 -2.109375 -3.1875 -2.265625 C -3.1875 -2.421875 -3.207031 -2.5625 -3.25 -2.6875 C -3.289062 -2.820312 -3.351562 -2.9375 -3.4375 -3.03125 C -3.53125 -3.132812 -3.644531 -3.210938 -3.78125 -3.265625 C -3.925781 -3.328125 -4.097656 -3.359375 -4.296875 -3.359375 C -4.585938 -3.359375 -4.8125 -3.265625 -4.96875 -3.078125 C -5.125 -2.890625 -5.203125 -2.597656 -5.203125 -2.203125 Z M -3.03125 -1.34375 C -3.113281 -1.195312 -3.191406 -1.070312 -3.265625 -0.96875 C -3.347656 -0.875 -3.429688 -0.796875 -3.515625 -0.734375 C -3.609375 -0.671875 -3.710938 -0.625 -3.828125 -0.59375 C -3.953125 -0.5625 -4.097656 -0.546875 -4.265625 -0.546875 C -4.453125 -0.546875 -4.628906 -0.585938 -4.796875 -0.671875 C -4.972656 -0.765625 -5.125 -0.878906 -5.25 -1.015625 C -5.375 -1.160156 -5.46875 -1.332031 -5.53125 -1.53125 C -5.601562 -1.726562 -5.640625 -1.9375 -5.640625 -2.15625 C -5.640625 -2.375 -5.613281 -2.582031 -5.5625 -2.78125 C -5.507812 -2.988281 -5.425781 -3.171875 -5.3125 -3.328125 C -5.195312 -3.492188 -5.050781 -3.625 -4.875 -3.71875 C -4.707031 -3.8125 -4.503906 -3.859375 -4.265625 -3.859375 C -3.972656 -3.859375 -3.722656 -3.796875 -3.515625 -3.671875 C -3.304688 -3.554688 -3.132812 -3.363281 -3 -3.09375 C -2.882812 -3.40625 -2.703125 -3.648438 -2.453125 -3.828125 C -2.210938 -4.003906 -1.925781 -4.09375 -1.59375 -4.09375 C -1.320312 -4.09375 -1.078125 -4.046875 -0.859375 -3.953125 C -0.648438 -3.859375 -0.472656 -3.722656 -0.328125 -3.546875 C -0.179688 -3.378906 -0.0703125 -3.171875 0 -2.921875 C 0.0703125 -2.679688 0.109375 -2.410156 0.109375 -2.109375 C 0.109375 -1.910156 0.0703125 -1.703125 0 -1.484375 C -0.0625 -1.273438 -0.160156 -1.085938 -0.296875 -0.921875 C -0.441406 -0.753906 -0.617188 -0.617188 -0.828125 -0.515625 C -1.035156 -0.410156 -1.273438 -0.359375 -1.546875 -0.359375 C -1.890625 -0.359375 -2.191406 -0.441406 -2.453125 -0.609375 C -2.710938 -0.773438 -2.90625 -1.019531 -3.03125 -1.34375 Z \"/>\n",
       "</symbol>\n",
       "<symbol overflow=\"visible\" id=\"glyph1-10\">\n",
       "<path style=\"stroke:none;\" d=\"M -4.25 -3.5 C -4.539062 -3.4375 -4.769531 -3.316406 -4.9375 -3.140625 C -5.113281 -2.960938 -5.203125 -2.722656 -5.203125 -2.421875 C -5.203125 -2.078125 -5.117188 -1.800781 -4.953125 -1.59375 C -4.796875 -1.394531 -4.585938 -1.242188 -4.328125 -1.140625 C -4.078125 -1.035156 -3.800781 -0.960938 -3.5 -0.921875 C -3.207031 -0.890625 -2.925781 -0.863281 -2.65625 -0.84375 C -2.757812 -0.914062 -2.863281 -0.992188 -2.96875 -1.078125 C -3.082031 -1.171875 -3.179688 -1.273438 -3.265625 -1.390625 C -3.347656 -1.503906 -3.410156 -1.632812 -3.453125 -1.78125 C -3.503906 -1.9375 -3.53125 -2.113281 -3.53125 -2.3125 C -3.53125 -2.882812 -3.367188 -3.328125 -3.046875 -3.640625 C -2.722656 -3.953125 -2.28125 -4.109375 -1.71875 -4.109375 C -1.144531 -4.109375 -0.695312 -3.953125 -0.375 -3.640625 C -0.0507812 -3.328125 0.109375 -2.878906 0.109375 -2.296875 C 0.109375 -2.015625 0.0625 -1.753906 -0.03125 -1.515625 C -0.125 -1.273438 -0.273438 -1.066406 -0.484375 -0.890625 C -0.703125 -0.710938 -0.984375 -0.570312 -1.328125 -0.46875 C -1.671875 -0.375 -2.085938 -0.328125 -2.578125 -0.328125 C -2.921875 -0.328125 -3.269531 -0.351562 -3.625 -0.40625 C -3.988281 -0.46875 -4.316406 -0.570312 -4.609375 -0.71875 C -4.910156 -0.875 -5.15625 -1.082031 -5.34375 -1.34375 C -5.539062 -1.613281 -5.640625 -1.957031 -5.640625 -2.375 C -5.640625 -2.820312 -5.519531 -3.191406 -5.28125 -3.484375 C -5.050781 -3.785156 -4.707031 -3.96875 -4.25 -4.03125 Z M -3.109375 -2.296875 C -3.109375 -2.109375 -3.066406 -1.929688 -2.984375 -1.765625 C -2.910156 -1.609375 -2.8125 -1.472656 -2.6875 -1.359375 C -2.5625 -1.253906 -2.410156 -1.171875 -2.234375 -1.109375 C -2.066406 -1.054688 -1.890625 -1.03125 -1.703125 -1.03125 C -1.546875 -1.03125 -1.382812 -1.050781 -1.21875 -1.09375 C -1.050781 -1.144531 -0.898438 -1.222656 -0.765625 -1.328125 C -0.640625 -1.429688 -0.53125 -1.5625 -0.4375 -1.71875 C -0.351562 -1.875 -0.3125 -2.070312 -0.3125 -2.3125 C -0.3125 -2.550781 -0.351562 -2.75 -0.4375 -2.90625 C -0.519531 -3.070312 -0.628906 -3.207031 -0.765625 -3.3125 C -0.898438 -3.414062 -1.050781 -3.488281 -1.21875 -3.53125 C -1.394531 -3.570312 -1.566406 -3.59375 -1.734375 -3.59375 C -2.171875 -3.59375 -2.507812 -3.488281 -2.75 -3.28125 C -2.988281 -3.070312 -3.109375 -2.742188 -3.109375 -2.296875 Z \"/>\n",
       "</symbol>\n",
       "<symbol overflow=\"visible\" id=\"glyph1-11\">\n",
       "<path style=\"stroke:none;\" d=\"M -1.390625 -2.859375 L -1.390625 -0.28125 L -1.828125 -0.28125 L -5.578125 -2.90625 L -5.578125 -3.375 L -1.828125 -3.375 L -1.828125 -4.15625 L -1.390625 -4.15625 L -1.390625 -3.375 L 0 -3.375 L 0 -2.859375 Z M -1.828125 -0.796875 L -1.828125 -2.859375 L -4.8125 -2.859375 Z \"/>\n",
       "</symbol>\n",
       "<symbol overflow=\"visible\" id=\"glyph1-12\">\n",
       "<path style=\"stroke:none;\" d=\"M -2.09375 -1.109375 C -1.84375 -1.109375 -1.609375 -1.140625 -1.390625 -1.203125 C -1.171875 -1.265625 -0.984375 -1.351562 -0.828125 -1.46875 C -0.671875 -1.582031 -0.546875 -1.726562 -0.453125 -1.90625 C -0.359375 -2.082031 -0.3125 -2.285156 -0.3125 -2.515625 C -0.3125 -2.710938 -0.347656 -2.894531 -0.421875 -3.0625 C -0.492188 -3.238281 -0.597656 -3.390625 -0.734375 -3.515625 C -0.878906 -3.648438 -1.050781 -3.75 -1.25 -3.8125 C -1.445312 -3.882812 -1.675781 -3.921875 -1.9375 -3.921875 C -2.207031 -3.929688 -2.453125 -3.910156 -2.671875 -3.859375 C -2.898438 -3.804688 -3.097656 -3.722656 -3.265625 -3.609375 C -3.441406 -3.492188 -3.578125 -3.34375 -3.671875 -3.15625 C -3.773438 -2.96875 -3.828125 -2.753906 -3.828125 -2.515625 C -3.828125 -2.296875 -3.78125 -2.097656 -3.6875 -1.921875 C -3.59375 -1.742188 -3.46875 -1.59375 -3.3125 -1.46875 C -3.15625 -1.351562 -2.96875 -1.265625 -2.75 -1.203125 C -2.539062 -1.140625 -2.320312 -1.109375 -2.09375 -1.109375 Z M 0 -1.109375 L 0 -0.625 L -5.765625 -0.625 L -5.765625 -1.109375 L -3.484375 -1.109375 C -3.734375 -1.265625 -3.921875 -1.476562 -4.046875 -1.75 C -4.179688 -2.019531 -4.25 -2.300781 -4.25 -2.59375 C -4.25 -2.90625 -4.1875 -3.175781 -4.0625 -3.40625 C -3.945312 -3.644531 -3.789062 -3.835938 -3.59375 -3.984375 C -3.394531 -4.140625 -3.160156 -4.253906 -2.890625 -4.328125 C -2.628906 -4.398438 -2.351562 -4.4375 -2.0625 -4.4375 C -1.757812 -4.4375 -1.472656 -4.398438 -1.203125 -4.328125 C -0.941406 -4.265625 -0.710938 -4.15625 -0.515625 -4 C -0.316406 -3.851562 -0.160156 -3.660156 -0.046875 -3.421875 C 0.0546875 -3.191406 0.109375 -2.90625 0.109375 -2.5625 C 0.109375 -2.4375 0.0859375 -2.300781 0.046875 -2.15625 C 0.015625 -2.019531 -0.03125 -1.882812 -0.09375 -1.75 C -0.164062 -1.625 -0.253906 -1.503906 -0.359375 -1.390625 C -0.460938 -1.285156 -0.585938 -1.195312 -0.734375 -1.125 L -0.734375 -1.109375 Z \"/>\n",
       "</symbol>\n",
       "<symbol overflow=\"visible\" id=\"glyph1-13\">\n",
       "<path style=\"stroke:none;\" d=\"M 0 -0.640625 L -4.140625 -0.640625 L -4.140625 -1.125 L 0 -1.125 Z M -5.046875 -0.625 L -5.765625 -0.625 L -5.765625 -1.15625 L -5.046875 -1.15625 Z \"/>\n",
       "</symbol>\n",
       "<symbol overflow=\"visible\" id=\"glyph1-14\">\n",
       "<path style=\"stroke:none;\" d=\"M -2.84375 -3.515625 C -3.144531 -3.429688 -3.382812 -3.285156 -3.5625 -3.078125 C -3.738281 -2.867188 -3.828125 -2.601562 -3.828125 -2.28125 C -3.828125 -2.03125 -3.773438 -1.816406 -3.671875 -1.640625 C -3.566406 -1.472656 -3.429688 -1.332031 -3.265625 -1.21875 C -3.097656 -1.101562 -2.910156 -1.019531 -2.703125 -0.96875 C -2.492188 -0.914062 -2.28125 -0.890625 -2.0625 -0.890625 C -1.84375 -0.890625 -1.628906 -0.914062 -1.421875 -0.96875 C -1.210938 -1.019531 -1.023438 -1.097656 -0.859375 -1.203125 C -0.691406 -1.316406 -0.554688 -1.460938 -0.453125 -1.640625 C -0.359375 -1.816406 -0.3125 -2.03125 -0.3125 -2.28125 C -0.3125 -2.632812 -0.410156 -2.921875 -0.609375 -3.140625 C -0.804688 -3.359375 -1.082031 -3.492188 -1.4375 -3.546875 L -1.4375 -4.0625 C -1.207031 -4.019531 -0.992188 -3.953125 -0.796875 -3.859375 C -0.609375 -3.765625 -0.445312 -3.644531 -0.3125 -3.5 C -0.175781 -3.351562 -0.0703125 -3.175781 0 -2.96875 C 0.0703125 -2.769531 0.109375 -2.539062 0.109375 -2.28125 C 0.109375 -1.945312 0.0546875 -1.660156 -0.046875 -1.421875 C -0.160156 -1.179688 -0.316406 -0.984375 -0.515625 -0.828125 C -0.710938 -0.671875 -0.941406 -0.554688 -1.203125 -0.484375 C -1.472656 -0.410156 -1.757812 -0.375 -2.0625 -0.375 C -2.351562 -0.375 -2.628906 -0.414062 -2.890625 -0.5 C -3.148438 -0.582031 -3.378906 -0.703125 -3.578125 -0.859375 C -3.785156 -1.023438 -3.945312 -1.222656 -4.0625 -1.453125 C -4.1875 -1.691406 -4.25 -1.96875 -4.25 -2.28125 C -4.25 -2.757812 -4.132812 -3.144531 -3.90625 -3.4375 C -3.675781 -3.738281 -3.320312 -3.925781 -2.84375 -4 Z \"/>\n",
       "</symbol>\n",
       "<symbol overflow=\"visible\" id=\"glyph1-15\">\n",
       "<path style=\"stroke:none;\" d=\"M 0 -0.8125 L -0.703125 -0.8125 L -0.703125 -1.40625 L 0 -1.40625 Z \"/>\n",
       "</symbol>\n",
       "<symbol overflow=\"visible\" id=\"glyph1-16\">\n",
       "<path style=\"stroke:none;\" d=\"M -5.578125 -0.46875 L -5.578125 -4.0625 L -5.109375 -4.0625 C -4.648438 -3.65625 -4.175781 -3.3125 -3.6875 -3.03125 C -3.207031 -2.75 -2.738281 -2.515625 -2.28125 -2.328125 C -1.820312 -2.148438 -1.394531 -2.015625 -1 -1.921875 C -0.613281 -1.835938 -0.28125 -1.789062 0 -1.78125 L 0 -1.21875 C -0.40625 -1.238281 -0.832031 -1.316406 -1.28125 -1.453125 C -1.738281 -1.585938 -2.191406 -1.753906 -2.640625 -1.953125 C -3.085938 -2.160156 -3.519531 -2.394531 -3.9375 -2.65625 C -4.363281 -2.914062 -4.742188 -3.179688 -5.078125 -3.453125 L -5.078125 -0.46875 Z \"/>\n",
       "</symbol>\n",
       "<symbol overflow=\"visible\" id=\"glyph1-17\">\n",
       "<path style=\"stroke:none;\" d=\"M -1.234375 -0.9375 C -0.929688 -1 -0.703125 -1.117188 -0.546875 -1.296875 C -0.390625 -1.472656 -0.3125 -1.722656 -0.3125 -2.046875 C -0.3125 -2.378906 -0.394531 -2.644531 -0.5625 -2.84375 C -0.726562 -3.039062 -0.9375 -3.191406 -1.1875 -3.296875 C -1.4375 -3.410156 -1.707031 -3.488281 -2 -3.53125 C -2.289062 -3.570312 -2.566406 -3.597656 -2.828125 -3.609375 L -2.84375 -3.59375 C -2.550781 -3.425781 -2.328125 -3.210938 -2.171875 -2.953125 C -2.023438 -2.703125 -1.953125 -2.410156 -1.953125 -2.078125 C -1.953125 -1.804688 -1.992188 -1.5625 -2.078125 -1.34375 C -2.171875 -1.132812 -2.296875 -0.953125 -2.453125 -0.796875 C -2.617188 -0.648438 -2.8125 -0.535156 -3.03125 -0.453125 C -3.257812 -0.367188 -3.507812 -0.328125 -3.78125 -0.328125 C -4.039062 -0.328125 -4.285156 -0.363281 -4.515625 -0.4375 C -4.742188 -0.507812 -4.941406 -0.617188 -5.109375 -0.765625 C -5.273438 -0.921875 -5.40625 -1.113281 -5.5 -1.34375 C -5.59375 -1.570312 -5.640625 -1.835938 -5.640625 -2.140625 C -5.640625 -2.523438 -5.5625 -2.84375 -5.40625 -3.09375 C -5.257812 -3.34375 -5.054688 -3.539062 -4.796875 -3.6875 C -4.546875 -3.84375 -4.25 -3.953125 -3.90625 -4.015625 C -3.5625 -4.085938 -3.191406 -4.125 -2.796875 -4.125 C -2.316406 -4.125 -1.894531 -4.070312 -1.53125 -3.96875 C -1.164062 -3.863281 -0.859375 -3.71875 -0.609375 -3.53125 C -0.367188 -3.351562 -0.1875 -3.140625 -0.0625 -2.890625 C 0.0507812 -2.640625 0.109375 -2.363281 0.109375 -2.0625 C 0.109375 -1.84375 0.0820312 -1.632812 0.03125 -1.4375 C -0.0195312 -1.25 -0.101562 -1.082031 -0.21875 -0.9375 C -0.332031 -0.800781 -0.472656 -0.6875 -0.640625 -0.59375 C -0.804688 -0.5 -1.003906 -0.441406 -1.234375 -0.421875 Z M -5.203125 -2.140625 C -5.191406 -1.710938 -5.054688 -1.390625 -4.796875 -1.171875 C -4.546875 -0.953125 -4.203125 -0.84375 -3.765625 -0.84375 C -3.328125 -0.84375 -2.988281 -0.953125 -2.75 -1.171875 C -2.507812 -1.398438 -2.390625 -1.722656 -2.390625 -2.140625 C -2.390625 -2.335938 -2.425781 -2.515625 -2.5 -2.671875 C -2.570312 -2.828125 -2.671875 -2.957031 -2.796875 -3.0625 C -2.929688 -3.175781 -3.082031 -3.257812 -3.25 -3.3125 C -3.414062 -3.375 -3.597656 -3.40625 -3.796875 -3.40625 C -4.210938 -3.40625 -4.546875 -3.289062 -4.796875 -3.0625 C -5.054688 -2.84375 -5.191406 -2.535156 -5.203125 -2.140625 Z \"/>\n",
       "</symbol>\n",
       "<symbol overflow=\"visible\" id=\"glyph1-18\">\n",
       "<path style=\"stroke:none;\" d=\"M 0 -1.078125 L 0 -0.59375 L -4.140625 -0.59375 L -4.140625 -1.078125 L -3.375 -1.078125 L -3.375 -1.09375 C -3.695312 -1.226562 -3.921875 -1.398438 -4.046875 -1.609375 C -4.179688 -1.816406 -4.25 -2.097656 -4.25 -2.453125 L -3.734375 -2.453125 C -3.742188 -2.179688 -3.703125 -1.957031 -3.609375 -1.78125 C -3.515625 -1.601562 -3.390625 -1.460938 -3.234375 -1.359375 C -3.085938 -1.253906 -2.90625 -1.179688 -2.6875 -1.140625 C -2.476562 -1.097656 -2.257812 -1.078125 -2.03125 -1.078125 Z \"/>\n",
       "</symbol>\n",
       "<symbol overflow=\"visible\" id=\"glyph1-19\">\n",
       "<path style=\"stroke:none;\" d=\"M -1.296875 -0.859375 C -0.941406 -0.929688 -0.6875 -1.0625 -0.53125 -1.25 C -0.382812 -1.445312 -0.3125 -1.726562 -0.3125 -2.09375 C -0.3125 -2.269531 -0.332031 -2.421875 -0.375 -2.546875 C -0.425781 -2.679688 -0.484375 -2.785156 -0.546875 -2.859375 C -0.617188 -2.941406 -0.703125 -3.003906 -0.796875 -3.046875 C -0.890625 -3.097656 -0.988281 -3.125 -1.09375 -3.125 C -1.289062 -3.125 -1.4375 -3.054688 -1.53125 -2.921875 C -1.632812 -2.796875 -1.710938 -2.632812 -1.765625 -2.4375 C -1.828125 -2.238281 -1.875 -2.023438 -1.90625 -1.796875 C -1.945312 -1.566406 -2.007812 -1.351562 -2.09375 -1.15625 C -2.175781 -0.957031 -2.289062 -0.789062 -2.4375 -0.65625 C -2.582031 -0.53125 -2.796875 -0.46875 -3.078125 -0.46875 C -3.421875 -0.46875 -3.703125 -0.59375 -3.921875 -0.84375 C -4.140625 -1.09375 -4.25 -1.453125 -4.25 -1.921875 C -4.25 -2.367188 -4.148438 -2.734375 -3.953125 -3.015625 C -3.753906 -3.296875 -3.421875 -3.460938 -2.953125 -3.515625 L -2.953125 -3.03125 C -3.273438 -2.988281 -3.5 -2.867188 -3.625 -2.671875 C -3.757812 -2.472656 -3.828125 -2.21875 -3.828125 -1.90625 C -3.828125 -1.601562 -3.757812 -1.367188 -3.625 -1.203125 C -3.5 -1.046875 -3.328125 -0.96875 -3.109375 -0.96875 C -2.921875 -0.96875 -2.773438 -1.035156 -2.671875 -1.171875 C -2.578125 -1.304688 -2.5 -1.46875 -2.4375 -1.65625 C -2.382812 -1.851562 -2.332031 -2.066406 -2.28125 -2.296875 C -2.226562 -2.523438 -2.15625 -2.738281 -2.0625 -2.9375 C -1.976562 -3.132812 -1.863281 -3.296875 -1.71875 -3.421875 C -1.570312 -3.554688 -1.363281 -3.625 -1.09375 -3.625 C -0.894531 -3.625 -0.71875 -3.582031 -0.5625 -3.5 C -0.414062 -3.414062 -0.289062 -3.296875 -0.1875 -3.140625 C -0.09375 -2.992188 -0.0195312 -2.816406 0.03125 -2.609375 C 0.0820312 -2.410156 0.109375 -2.1875 0.109375 -1.9375 C 0.109375 -1.695312 0.0703125 -1.484375 0 -1.296875 C -0.0703125 -1.109375 -0.171875 -0.945312 -0.296875 -0.8125 C -0.421875 -0.675781 -0.566406 -0.570312 -0.734375 -0.5 C -0.910156 -0.425781 -1.097656 -0.382812 -1.296875 -0.375 Z \"/>\n",
       "</symbol>\n",
       "<symbol overflow=\"visible\" id=\"glyph1-20\">\n",
       "<path style=\"stroke:none;\" d=\"M -2.09375 -3.78125 C -2.320312 -3.78125 -2.539062 -3.742188 -2.75 -3.671875 C -2.96875 -3.609375 -3.15625 -3.515625 -3.3125 -3.390625 C -3.46875 -3.273438 -3.59375 -3.128906 -3.6875 -2.953125 C -3.78125 -2.785156 -3.828125 -2.59375 -3.828125 -2.375 C -3.828125 -2.125 -3.773438 -1.90625 -3.671875 -1.71875 C -3.578125 -1.539062 -3.441406 -1.394531 -3.265625 -1.28125 C -3.097656 -1.164062 -2.898438 -1.078125 -2.671875 -1.015625 C -2.453125 -0.960938 -2.207031 -0.941406 -1.9375 -0.953125 C -1.675781 -0.953125 -1.445312 -0.988281 -1.25 -1.0625 C -1.050781 -1.132812 -0.878906 -1.234375 -0.734375 -1.359375 C -0.597656 -1.492188 -0.492188 -1.644531 -0.421875 -1.8125 C -0.347656 -1.988281 -0.3125 -2.175781 -0.3125 -2.375 C -0.3125 -2.601562 -0.359375 -2.800781 -0.453125 -2.96875 C -0.546875 -3.144531 -0.671875 -3.289062 -0.828125 -3.40625 C -0.984375 -3.53125 -1.171875 -3.625 -1.390625 -3.6875 C -1.609375 -3.75 -1.84375 -3.78125 -2.09375 -3.78125 Z M -4.140625 -3.78125 L -4.140625 -4.25 L 1.625 -4.25 L 1.625 -3.78125 L -0.65625 -3.78125 C -0.40625 -3.625 -0.210938 -3.410156 -0.078125 -3.140625 C 0.046875 -2.867188 0.109375 -2.585938 0.109375 -2.296875 C 0.109375 -1.984375 0.0507812 -1.707031 -0.0625 -1.46875 C -0.1875 -1.238281 -0.347656 -1.046875 -0.546875 -0.890625 C -0.742188 -0.742188 -0.972656 -0.632812 -1.234375 -0.5625 C -1.503906 -0.488281 -1.785156 -0.453125 -2.078125 -0.453125 C -2.378906 -0.453125 -2.664062 -0.484375 -2.9375 -0.546875 C -3.207031 -0.617188 -3.4375 -0.726562 -3.625 -0.875 C -3.820312 -1.03125 -3.972656 -1.222656 -4.078125 -1.453125 C -4.191406 -1.691406 -4.25 -1.976562 -4.25 -2.3125 C -4.25 -2.445312 -4.226562 -2.582031 -4.1875 -2.71875 C -4.15625 -2.863281 -4.101562 -3 -4.03125 -3.125 C -3.96875 -3.257812 -3.878906 -3.378906 -3.765625 -3.484375 C -3.660156 -3.597656 -3.546875 -3.691406 -3.421875 -3.765625 L -3.421875 -3.78125 Z \"/>\n",
       "</symbol>\n",
       "</g>\n",
       "</defs>\n",
       "<g id=\"surface41\">\n",
       "<rect x=\"0\" y=\"0\" width=\"504\" height=\"504\" style=\"fill:rgb(100%,100%,100%);fill-opacity:1;stroke:none;\"/>\n",
       "<path style=\"fill:none;stroke-width:0.75;stroke-linecap:round;stroke-linejoin:round;stroke:rgb(0%,0%,0%);stroke-opacity:1;stroke-miterlimit:10;\" d=\"M 44.789062 54.394531 C 44.789062 56.769531 41.222656 56.769531 41.222656 54.394531 C 41.222656 52.019531 44.789062 52.019531 44.789062 54.394531 \"/>\n",
       "<path style=\"fill:none;stroke-width:0.75;stroke-linecap:round;stroke-linejoin:round;stroke:rgb(0%,0%,0%);stroke-opacity:1;stroke-miterlimit:10;\" d=\"M 57.414062 356.328125 C 57.414062 358.707031 53.847656 358.707031 53.847656 356.328125 C 53.847656 353.953125 57.414062 353.953125 57.414062 356.328125 \"/>\n",
       "<path style=\"fill:none;stroke-width:0.75;stroke-linecap:round;stroke-linejoin:round;stroke:rgb(0%,0%,0%);stroke-opacity:1;stroke-miterlimit:10;\" d=\"M 70.039062 440.101562 C 70.039062 442.476562 66.472656 442.476562 66.472656 440.101562 C 66.472656 437.722656 70.039062 437.722656 70.039062 440.101562 \"/>\n",
       "<path style=\"fill:none;stroke-width:0.75;stroke-linecap:round;stroke-linejoin:round;stroke:rgb(0%,0%,0%);stroke-opacity:1;stroke-miterlimit:10;\" d=\"M 82.660156 440.101562 C 82.660156 442.476562 79.097656 442.476562 79.097656 440.101562 C 79.097656 437.726562 82.660156 437.726562 82.660156 440.101562 \"/>\n",
       "<path style=\"fill:none;stroke-width:0.75;stroke-linecap:round;stroke-linejoin:round;stroke:rgb(0%,0%,0%);stroke-opacity:1;stroke-miterlimit:10;\" d=\"M 95.285156 440.101562 C 95.285156 442.476562 91.722656 442.476562 91.722656 440.101562 C 91.722656 437.726562 95.285156 437.726562 95.285156 440.101562 \"/>\n",
       "<path style=\"fill:none;stroke-width:0.75;stroke-linecap:round;stroke-linejoin:round;stroke:rgb(0%,0%,0%);stroke-opacity:1;stroke-miterlimit:10;\" d=\"M 107.910156 440.097656 C 107.910156 442.476562 104.347656 442.476562 104.347656 440.097656 C 104.347656 437.722656 107.910156 437.722656 107.910156 440.097656 \"/>\n",
       "<path style=\"fill:none;stroke-width:0.75;stroke-linecap:round;stroke-linejoin:round;stroke:rgb(0%,0%,0%);stroke-opacity:1;stroke-miterlimit:10;\" d=\"M 120.535156 440.097656 C 120.535156 442.472656 116.972656 442.472656 116.972656 440.097656 C 116.972656 437.71875 120.535156 437.71875 120.535156 440.097656 \"/>\n",
       "<path style=\"fill:none;stroke-width:0.75;stroke-linecap:round;stroke-linejoin:round;stroke:rgb(0%,0%,0%);stroke-opacity:1;stroke-miterlimit:10;\" d=\"M 133.160156 440.09375 C 133.160156 442.46875 129.59375 442.46875 129.59375 440.09375 C 129.59375 437.71875 133.160156 437.71875 133.160156 440.09375 \"/>\n",
       "<path style=\"fill:none;stroke-width:0.75;stroke-linecap:round;stroke-linejoin:round;stroke:rgb(0%,0%,0%);stroke-opacity:1;stroke-miterlimit:10;\" d=\"M 145.785156 440.089844 C 145.785156 442.46875 142.21875 442.46875 142.21875 440.089844 C 142.21875 437.714844 145.785156 437.714844 145.785156 440.089844 \"/>\n",
       "<path style=\"fill:none;stroke-width:0.75;stroke-linecap:round;stroke-linejoin:round;stroke:rgb(0%,0%,0%);stroke-opacity:1;stroke-miterlimit:10;\" d=\"M 55.628906 455.53125 L 131.378906 455.53125 \"/>\n",
       "<path style=\"fill:none;stroke-width:0.75;stroke-linecap:round;stroke-linejoin:round;stroke:rgb(0%,0%,0%);stroke-opacity:1;stroke-miterlimit:10;\" d=\"M 55.628906 455.53125 L 55.628906 460.28125 \"/>\n",
       "<path style=\"fill:none;stroke-width:0.75;stroke-linecap:round;stroke-linejoin:round;stroke:rgb(0%,0%,0%);stroke-opacity:1;stroke-miterlimit:10;\" d=\"M 80.878906 455.53125 L 80.878906 460.28125 \"/>\n",
       "<path style=\"fill:none;stroke-width:0.75;stroke-linecap:round;stroke-linejoin:round;stroke:rgb(0%,0%,0%);stroke-opacity:1;stroke-miterlimit:10;\" d=\"M 106.128906 455.53125 L 106.128906 460.28125 \"/>\n",
       "<path style=\"fill:none;stroke-width:0.75;stroke-linecap:round;stroke-linejoin:round;stroke:rgb(0%,0%,0%);stroke-opacity:1;stroke-miterlimit:10;\" d=\"M 131.378906 455.53125 L 131.378906 460.28125 \"/>\n",
       "<g style=\"fill:rgb(0%,0%,0%);fill-opacity:1;\">\n",
       "  <use xlink:href=\"#glyph0-1\" x=\"53.40625\" y=\"472.636719\"/>\n",
       "</g>\n",
       "<g style=\"fill:rgb(0%,0%,0%);fill-opacity:1;\">\n",
       "  <use xlink:href=\"#glyph0-2\" x=\"78.65625\" y=\"472.636719\"/>\n",
       "</g>\n",
       "<g style=\"fill:rgb(0%,0%,0%);fill-opacity:1;\">\n",
       "  <use xlink:href=\"#glyph0-3\" x=\"103.90625\" y=\"472.636719\"/>\n",
       "</g>\n",
       "<g style=\"fill:rgb(0%,0%,0%);fill-opacity:1;\">\n",
       "  <use xlink:href=\"#glyph0-4\" x=\"129.15625\" y=\"472.636719\"/>\n",
       "</g>\n",
       "<path style=\"fill:none;stroke-width:0.75;stroke-linecap:round;stroke-linejoin:round;stroke:rgb(0%,0%,0%);stroke-opacity:1;stroke-miterlimit:10;\" d=\"M 38.964844 440.101562 L 38.964844 74.6875 \"/>\n",
       "<path style=\"fill:none;stroke-width:0.75;stroke-linecap:round;stroke-linejoin:round;stroke:rgb(0%,0%,0%);stroke-opacity:1;stroke-miterlimit:10;\" d=\"M 38.964844 440.101562 L 34.214844 440.101562 \"/>\n",
       "<path style=\"fill:none;stroke-width:0.75;stroke-linecap:round;stroke-linejoin:round;stroke:rgb(0%,0%,0%);stroke-opacity:1;stroke-miterlimit:10;\" d=\"M 38.964844 379.199219 L 34.214844 379.199219 \"/>\n",
       "<path style=\"fill:none;stroke-width:0.75;stroke-linecap:round;stroke-linejoin:round;stroke:rgb(0%,0%,0%);stroke-opacity:1;stroke-miterlimit:10;\" d=\"M 38.964844 318.296875 L 34.214844 318.296875 \"/>\n",
       "<path style=\"fill:none;stroke-width:0.75;stroke-linecap:round;stroke-linejoin:round;stroke:rgb(0%,0%,0%);stroke-opacity:1;stroke-miterlimit:10;\" d=\"M 38.964844 257.394531 L 34.214844 257.394531 \"/>\n",
       "<path style=\"fill:none;stroke-width:0.75;stroke-linecap:round;stroke-linejoin:round;stroke:rgb(0%,0%,0%);stroke-opacity:1;stroke-miterlimit:10;\" d=\"M 38.964844 196.492188 L 34.214844 196.492188 \"/>\n",
       "<path style=\"fill:none;stroke-width:0.75;stroke-linecap:round;stroke-linejoin:round;stroke:rgb(0%,0%,0%);stroke-opacity:1;stroke-miterlimit:10;\" d=\"M 38.964844 135.589844 L 34.214844 135.589844 \"/>\n",
       "<path style=\"fill:none;stroke-width:0.75;stroke-linecap:round;stroke-linejoin:round;stroke:rgb(0%,0%,0%);stroke-opacity:1;stroke-miterlimit:10;\" d=\"M 38.964844 74.6875 L 34.214844 74.6875 \"/>\n",
       "<g style=\"fill:rgb(0%,0%,0%);fill-opacity:1;\">\n",
       "  <use xlink:href=\"#glyph1-1\" x=\"27.5625\" y=\"442.324219\"/>\n",
       "</g>\n",
       "<g style=\"fill:rgb(0%,0%,0%);fill-opacity:1;\">\n",
       "  <use xlink:href=\"#glyph1-2\" x=\"27.5625\" y=\"390.320312\"/>\n",
       "  <use xlink:href=\"#glyph1-1\" x=\"27.5625\" y=\"385.872375\"/>\n",
       "  <use xlink:href=\"#glyph1-1\" x=\"27.5625\" y=\"381.424438\"/>\n",
       "  <use xlink:href=\"#glyph1-1\" x=\"27.5625\" y=\"376.976501\"/>\n",
       "  <use xlink:href=\"#glyph1-1\" x=\"27.5625\" y=\"372.528564\"/>\n",
       "</g>\n",
       "<g style=\"fill:rgb(0%,0%,0%);fill-opacity:1;\">\n",
       "  <use xlink:href=\"#glyph1-3\" x=\"27.5625\" y=\"331.640625\"/>\n",
       "  <use xlink:href=\"#glyph1-1\" x=\"27.5625\" y=\"327.192688\"/>\n",
       "  <use xlink:href=\"#glyph1-1\" x=\"27.5625\" y=\"322.744751\"/>\n",
       "  <use xlink:href=\"#glyph1-1\" x=\"27.5625\" y=\"318.296814\"/>\n",
       "  <use xlink:href=\"#glyph1-1\" x=\"27.5625\" y=\"313.848877\"/>\n",
       "  <use xlink:href=\"#glyph1-1\" x=\"27.5625\" y=\"309.40094\"/>\n",
       "</g>\n",
       "<g style=\"fill:rgb(0%,0%,0%);fill-opacity:1;\">\n",
       "  <use xlink:href=\"#glyph1-3\" x=\"27.5625\" y=\"270.738281\"/>\n",
       "  <use xlink:href=\"#glyph1-2\" x=\"27.5625\" y=\"266.290344\"/>\n",
       "  <use xlink:href=\"#glyph1-1\" x=\"27.5625\" y=\"261.842407\"/>\n",
       "  <use xlink:href=\"#glyph1-1\" x=\"27.5625\" y=\"257.39447\"/>\n",
       "  <use xlink:href=\"#glyph1-1\" x=\"27.5625\" y=\"252.946533\"/>\n",
       "  <use xlink:href=\"#glyph1-1\" x=\"27.5625\" y=\"248.498596\"/>\n",
       "</g>\n",
       "<g style=\"fill:rgb(0%,0%,0%);fill-opacity:1;\">\n",
       "  <use xlink:href=\"#glyph1-4\" x=\"27.5625\" y=\"209.835938\"/>\n",
       "  <use xlink:href=\"#glyph1-1\" x=\"27.5625\" y=\"205.388\"/>\n",
       "  <use xlink:href=\"#glyph1-1\" x=\"27.5625\" y=\"200.940063\"/>\n",
       "  <use xlink:href=\"#glyph1-1\" x=\"27.5625\" y=\"196.492126\"/>\n",
       "  <use xlink:href=\"#glyph1-1\" x=\"27.5625\" y=\"192.044189\"/>\n",
       "  <use xlink:href=\"#glyph1-1\" x=\"27.5625\" y=\"187.596252\"/>\n",
       "</g>\n",
       "<g style=\"fill:rgb(0%,0%,0%);fill-opacity:1;\">\n",
       "  <use xlink:href=\"#glyph1-4\" x=\"27.5625\" y=\"148.933594\"/>\n",
       "  <use xlink:href=\"#glyph1-2\" x=\"27.5625\" y=\"144.485657\"/>\n",
       "  <use xlink:href=\"#glyph1-1\" x=\"27.5625\" y=\"140.03772\"/>\n",
       "  <use xlink:href=\"#glyph1-1\" x=\"27.5625\" y=\"135.589783\"/>\n",
       "  <use xlink:href=\"#glyph1-1\" x=\"27.5625\" y=\"131.141846\"/>\n",
       "  <use xlink:href=\"#glyph1-1\" x=\"27.5625\" y=\"126.693909\"/>\n",
       "</g>\n",
       "<g style=\"fill:rgb(0%,0%,0%);fill-opacity:1;\">\n",
       "  <use xlink:href=\"#glyph1-5\" x=\"27.5625\" y=\"88.03125\"/>\n",
       "  <use xlink:href=\"#glyph1-1\" x=\"27.5625\" y=\"83.583313\"/>\n",
       "  <use xlink:href=\"#glyph1-1\" x=\"27.5625\" y=\"79.135376\"/>\n",
       "  <use xlink:href=\"#glyph1-1\" x=\"27.5625\" y=\"74.687439\"/>\n",
       "  <use xlink:href=\"#glyph1-1\" x=\"27.5625\" y=\"70.239502\"/>\n",
       "  <use xlink:href=\"#glyph1-1\" x=\"27.5625\" y=\"65.791565\"/>\n",
       "</g>\n",
       "<path style=\"fill:none;stroke-width:0.75;stroke-linecap:round;stroke-linejoin:round;stroke:rgb(0%,0%,0%);stroke-opacity:1;stroke-miterlimit:10;\" d=\"M 38.964844 455.53125 L 148.042969 455.53125 L 148.042969 38.964844 L 38.964844 38.964844 L 38.964844 455.53125 \"/>\n",
       "<g style=\"fill:rgb(0%,0%,0%);fill-opacity:1;\">\n",
       "  <use xlink:href=\"#glyph0-5\" x=\"55.714844\" y=\"491.644531\"/>\n",
       "  <use xlink:href=\"#glyph0-6\" x=\"60.602783\" y=\"491.644531\"/>\n",
       "  <use xlink:href=\"#glyph0-7\" x=\"65.05072\" y=\"491.644531\"/>\n",
       "  <use xlink:href=\"#glyph0-8\" x=\"69.93866\" y=\"491.644531\"/>\n",
       "  <use xlink:href=\"#glyph0-6\" x=\"72.602631\" y=\"491.644531\"/>\n",
       "  <use xlink:href=\"#glyph0-6\" x=\"77.050568\" y=\"491.644531\"/>\n",
       "  <use xlink:href=\"#glyph0-9\" x=\"81.498505\" y=\"491.644531\"/>\n",
       "  <use xlink:href=\"#glyph0-10\" x=\"83.722473\" y=\"491.644531\"/>\n",
       "  <use xlink:href=\"#glyph0-11\" x=\"88.17041\" y=\"491.644531\"/>\n",
       "  <use xlink:href=\"#glyph0-9\" x=\"90.394379\" y=\"491.644531\"/>\n",
       "  <use xlink:href=\"#glyph0-12\" x=\"92.618347\" y=\"491.644531\"/>\n",
       "  <use xlink:href=\"#glyph0-10\" x=\"97.506287\" y=\"491.644531\"/>\n",
       "  <use xlink:href=\"#glyph0-13\" x=\"101.954224\" y=\"491.644531\"/>\n",
       "  <use xlink:href=\"#glyph0-14\" x=\"103.730194\" y=\"491.644531\"/>\n",
       "  <use xlink:href=\"#glyph0-15\" x=\"107.730148\" y=\"491.644531\"/>\n",
       "  <use xlink:href=\"#glyph0-10\" x=\"112.178085\" y=\"491.644531\"/>\n",
       "  <use xlink:href=\"#glyph0-16\" x=\"116.626022\" y=\"491.644531\"/>\n",
       "  <use xlink:href=\"#glyph0-17\" x=\"123.289932\" y=\"491.644531\"/>\n",
       "  <use xlink:href=\"#glyph0-18\" x=\"125.065903\" y=\"491.644531\"/>\n",
       "  <use xlink:href=\"#glyph0-13\" x=\"129.51384\" y=\"491.644531\"/>\n",
       "</g>\n",
       "<g style=\"fill:rgb(0%,0%,0%);fill-opacity:1;\">\n",
       "  <use xlink:href=\"#glyph1-6\" x=\"8.554688\" y=\"252.578125\"/>\n",
       "  <use xlink:href=\"#glyph1-7\" x=\"8.554688\" y=\"246.8022\"/>\n",
       "</g>\n",
       "<path style=\"fill:none;stroke-width:0.75;stroke-linecap:round;stroke-linejoin:round;stroke:rgb(0%,0%,0%);stroke-opacity:1;stroke-miterlimit:10;\" d=\"M 212.789062 54.394531 C 212.789062 56.769531 209.222656 56.769531 209.222656 54.394531 C 209.222656 52.019531 212.789062 52.019531 212.789062 54.394531 \"/>\n",
       "<path style=\"fill:none;stroke-width:0.75;stroke-linecap:round;stroke-linejoin:round;stroke:rgb(0%,0%,0%);stroke-opacity:1;stroke-miterlimit:10;\" d=\"M 225.414062 125.453125 C 225.414062 127.828125 221.847656 127.828125 221.847656 125.453125 C 221.847656 123.078125 225.414062 123.078125 225.414062 125.453125 \"/>\n",
       "<path style=\"fill:none;stroke-width:0.75;stroke-linecap:round;stroke-linejoin:round;stroke:rgb(0%,0%,0%);stroke-opacity:1;stroke-miterlimit:10;\" d=\"M 238.039062 440.101562 C 238.039062 442.476562 234.472656 442.476562 234.472656 440.101562 C 234.472656 437.726562 238.039062 437.726562 238.039062 440.101562 \"/>\n",
       "<path style=\"fill:none;stroke-width:0.75;stroke-linecap:round;stroke-linejoin:round;stroke:rgb(0%,0%,0%);stroke-opacity:1;stroke-miterlimit:10;\" d=\"M 250.660156 439.394531 C 250.660156 441.769531 247.097656 441.769531 247.097656 439.394531 C 247.097656 437.019531 250.660156 437.019531 250.660156 439.394531 \"/>\n",
       "<path style=\"fill:none;stroke-width:0.75;stroke-linecap:round;stroke-linejoin:round;stroke:rgb(0%,0%,0%);stroke-opacity:1;stroke-miterlimit:10;\" d=\"M 263.285156 438.070312 C 263.285156 440.445312 259.722656 440.445312 259.722656 438.070312 C 259.722656 435.695312 263.285156 435.695312 263.285156 438.070312 \"/>\n",
       "<path style=\"fill:none;stroke-width:0.75;stroke-linecap:round;stroke-linejoin:round;stroke:rgb(0%,0%,0%);stroke-opacity:1;stroke-miterlimit:10;\" d=\"M 275.910156 435.957031 C 275.910156 438.335938 272.347656 438.335938 272.347656 435.957031 C 272.347656 433.582031 275.910156 433.582031 275.910156 435.957031 \"/>\n",
       "<path style=\"fill:none;stroke-width:0.75;stroke-linecap:round;stroke-linejoin:round;stroke:rgb(0%,0%,0%);stroke-opacity:1;stroke-miterlimit:10;\" d=\"M 288.535156 433.773438 C 288.535156 436.148438 284.972656 436.148438 284.972656 433.773438 C 284.972656 431.398438 288.535156 431.398438 288.535156 433.773438 \"/>\n",
       "<path style=\"fill:none;stroke-width:0.75;stroke-linecap:round;stroke-linejoin:round;stroke:rgb(0%,0%,0%);stroke-opacity:1;stroke-miterlimit:10;\" d=\"M 301.160156 431.566406 C 301.160156 433.945312 297.59375 433.945312 297.59375 431.566406 C 297.59375 429.191406 301.160156 429.191406 301.160156 431.566406 \"/>\n",
       "<path style=\"fill:none;stroke-width:0.75;stroke-linecap:round;stroke-linejoin:round;stroke:rgb(0%,0%,0%);stroke-opacity:1;stroke-miterlimit:10;\" d=\"M 313.785156 429.355469 C 313.785156 431.734375 310.21875 431.734375 310.21875 429.355469 C 310.21875 426.980469 313.785156 426.980469 313.785156 429.355469 \"/>\n",
       "<path style=\"fill:none;stroke-width:0.75;stroke-linecap:round;stroke-linejoin:round;stroke:rgb(0%,0%,0%);stroke-opacity:1;stroke-miterlimit:10;\" d=\"M 223.628906 455.53125 L 299.378906 455.53125 \"/>\n",
       "<path style=\"fill:none;stroke-width:0.75;stroke-linecap:round;stroke-linejoin:round;stroke:rgb(0%,0%,0%);stroke-opacity:1;stroke-miterlimit:10;\" d=\"M 223.628906 455.53125 L 223.628906 460.28125 \"/>\n",
       "<path style=\"fill:none;stroke-width:0.75;stroke-linecap:round;stroke-linejoin:round;stroke:rgb(0%,0%,0%);stroke-opacity:1;stroke-miterlimit:10;\" d=\"M 248.878906 455.53125 L 248.878906 460.28125 \"/>\n",
       "<path style=\"fill:none;stroke-width:0.75;stroke-linecap:round;stroke-linejoin:round;stroke:rgb(0%,0%,0%);stroke-opacity:1;stroke-miterlimit:10;\" d=\"M 274.128906 455.53125 L 274.128906 460.28125 \"/>\n",
       "<path style=\"fill:none;stroke-width:0.75;stroke-linecap:round;stroke-linejoin:round;stroke:rgb(0%,0%,0%);stroke-opacity:1;stroke-miterlimit:10;\" d=\"M 299.378906 455.53125 L 299.378906 460.28125 \"/>\n",
       "<g style=\"fill:rgb(0%,0%,0%);fill-opacity:1;\">\n",
       "  <use xlink:href=\"#glyph0-1\" x=\"221.40625\" y=\"472.636719\"/>\n",
       "</g>\n",
       "<g style=\"fill:rgb(0%,0%,0%);fill-opacity:1;\">\n",
       "  <use xlink:href=\"#glyph0-2\" x=\"246.65625\" y=\"472.636719\"/>\n",
       "</g>\n",
       "<g style=\"fill:rgb(0%,0%,0%);fill-opacity:1;\">\n",
       "  <use xlink:href=\"#glyph0-3\" x=\"271.90625\" y=\"472.636719\"/>\n",
       "</g>\n",
       "<g style=\"fill:rgb(0%,0%,0%);fill-opacity:1;\">\n",
       "  <use xlink:href=\"#glyph0-4\" x=\"297.15625\" y=\"472.636719\"/>\n",
       "</g>\n",
       "<path style=\"fill:none;stroke-width:0.75;stroke-linecap:round;stroke-linejoin:round;stroke:rgb(0%,0%,0%);stroke-opacity:1;stroke-miterlimit:10;\" d=\"M 206.964844 387.832031 L 206.964844 99.726562 \"/>\n",
       "<path style=\"fill:none;stroke-width:0.75;stroke-linecap:round;stroke-linejoin:round;stroke:rgb(0%,0%,0%);stroke-opacity:1;stroke-miterlimit:10;\" d=\"M 206.964844 387.832031 L 202.214844 387.832031 \"/>\n",
       "<path style=\"fill:none;stroke-width:0.75;stroke-linecap:round;stroke-linejoin:round;stroke:rgb(0%,0%,0%);stroke-opacity:1;stroke-miterlimit:10;\" d=\"M 206.964844 291.796875 L 202.214844 291.796875 \"/>\n",
       "<path style=\"fill:none;stroke-width:0.75;stroke-linecap:round;stroke-linejoin:round;stroke:rgb(0%,0%,0%);stroke-opacity:1;stroke-miterlimit:10;\" d=\"M 206.964844 195.761719 L 202.214844 195.761719 \"/>\n",
       "<path style=\"fill:none;stroke-width:0.75;stroke-linecap:round;stroke-linejoin:round;stroke:rgb(0%,0%,0%);stroke-opacity:1;stroke-miterlimit:10;\" d=\"M 206.964844 99.726562 L 202.214844 99.726562 \"/>\n",
       "<g style=\"fill:rgb(0%,0%,0%);fill-opacity:1;\">\n",
       "  <use xlink:href=\"#glyph1-8\" x=\"195.5625\" y=\"395.835938\"/>\n",
       "  <use xlink:href=\"#glyph1-9\" x=\"195.5625\" y=\"393.171967\"/>\n",
       "  <use xlink:href=\"#glyph1-1\" x=\"195.5625\" y=\"388.72403\"/>\n",
       "  <use xlink:href=\"#glyph1-1\" x=\"195.5625\" y=\"384.276093\"/>\n",
       "</g>\n",
       "<g style=\"fill:rgb(0%,0%,0%);fill-opacity:1;\">\n",
       "  <use xlink:href=\"#glyph1-8\" x=\"195.5625\" y=\"299.800781\"/>\n",
       "  <use xlink:href=\"#glyph1-10\" x=\"195.5625\" y=\"297.13681\"/>\n",
       "  <use xlink:href=\"#glyph1-1\" x=\"195.5625\" y=\"292.688873\"/>\n",
       "  <use xlink:href=\"#glyph1-1\" x=\"195.5625\" y=\"288.240936\"/>\n",
       "</g>\n",
       "<g style=\"fill:rgb(0%,0%,0%);fill-opacity:1;\">\n",
       "  <use xlink:href=\"#glyph1-8\" x=\"195.5625\" y=\"203.765625\"/>\n",
       "  <use xlink:href=\"#glyph1-11\" x=\"195.5625\" y=\"201.101654\"/>\n",
       "  <use xlink:href=\"#glyph1-1\" x=\"195.5625\" y=\"196.653717\"/>\n",
       "  <use xlink:href=\"#glyph1-1\" x=\"195.5625\" y=\"192.20578\"/>\n",
       "</g>\n",
       "<g style=\"fill:rgb(0%,0%,0%);fill-opacity:1;\">\n",
       "  <use xlink:href=\"#glyph1-8\" x=\"195.5625\" y=\"107.730469\"/>\n",
       "  <use xlink:href=\"#glyph1-4\" x=\"195.5625\" y=\"105.066498\"/>\n",
       "  <use xlink:href=\"#glyph1-1\" x=\"195.5625\" y=\"100.618561\"/>\n",
       "  <use xlink:href=\"#glyph1-1\" x=\"195.5625\" y=\"96.170624\"/>\n",
       "</g>\n",
       "<path style=\"fill:none;stroke-width:0.75;stroke-linecap:round;stroke-linejoin:round;stroke:rgb(0%,0%,0%);stroke-opacity:1;stroke-miterlimit:10;\" d=\"M 206.964844 455.53125 L 316.042969 455.53125 L 316.042969 38.964844 L 206.964844 38.964844 L 206.964844 455.53125 \"/>\n",
       "<g style=\"fill:rgb(0%,0%,0%);fill-opacity:1;\">\n",
       "  <use xlink:href=\"#glyph0-5\" x=\"223.714844\" y=\"491.644531\"/>\n",
       "  <use xlink:href=\"#glyph0-6\" x=\"228.602783\" y=\"491.644531\"/>\n",
       "  <use xlink:href=\"#glyph0-7\" x=\"233.05072\" y=\"491.644531\"/>\n",
       "  <use xlink:href=\"#glyph0-8\" x=\"237.93866\" y=\"491.644531\"/>\n",
       "  <use xlink:href=\"#glyph0-6\" x=\"240.602631\" y=\"491.644531\"/>\n",
       "  <use xlink:href=\"#glyph0-6\" x=\"245.050568\" y=\"491.644531\"/>\n",
       "  <use xlink:href=\"#glyph0-9\" x=\"249.498505\" y=\"491.644531\"/>\n",
       "  <use xlink:href=\"#glyph0-10\" x=\"251.722473\" y=\"491.644531\"/>\n",
       "  <use xlink:href=\"#glyph0-11\" x=\"256.17041\" y=\"491.644531\"/>\n",
       "  <use xlink:href=\"#glyph0-9\" x=\"258.394379\" y=\"491.644531\"/>\n",
       "  <use xlink:href=\"#glyph0-12\" x=\"260.618347\" y=\"491.644531\"/>\n",
       "  <use xlink:href=\"#glyph0-10\" x=\"265.506287\" y=\"491.644531\"/>\n",
       "  <use xlink:href=\"#glyph0-13\" x=\"269.954224\" y=\"491.644531\"/>\n",
       "  <use xlink:href=\"#glyph0-14\" x=\"271.730194\" y=\"491.644531\"/>\n",
       "  <use xlink:href=\"#glyph0-15\" x=\"275.730148\" y=\"491.644531\"/>\n",
       "  <use xlink:href=\"#glyph0-10\" x=\"280.178085\" y=\"491.644531\"/>\n",
       "  <use xlink:href=\"#glyph0-16\" x=\"284.626022\" y=\"491.644531\"/>\n",
       "  <use xlink:href=\"#glyph0-17\" x=\"291.289932\" y=\"491.644531\"/>\n",
       "  <use xlink:href=\"#glyph0-18\" x=\"293.065903\" y=\"491.644531\"/>\n",
       "  <use xlink:href=\"#glyph0-13\" x=\"297.51384\" y=\"491.644531\"/>\n",
       "</g>\n",
       "<g style=\"fill:rgb(0%,0%,0%);fill-opacity:1;\">\n",
       "  <use xlink:href=\"#glyph1-12\" x=\"176.554688\" y=\"252.800781\"/>\n",
       "  <use xlink:href=\"#glyph1-13\" x=\"176.554688\" y=\"247.912842\"/>\n",
       "  <use xlink:href=\"#glyph1-14\" x=\"176.554688\" y=\"246.136871\"/>\n",
       "</g>\n",
       "<path style=\"fill:none;stroke-width:0.75;stroke-linecap:round;stroke-linejoin:round;stroke:rgb(0%,0%,0%);stroke-opacity:1;stroke-miterlimit:10;\" d=\"M 380.789062 440.101562 C 380.789062 442.476562 377.222656 442.476562 377.222656 440.101562 C 377.222656 437.726562 380.789062 437.726562 380.789062 440.101562 \"/>\n",
       "<path style=\"fill:none;stroke-width:0.75;stroke-linecap:round;stroke-linejoin:round;stroke:rgb(0%,0%,0%);stroke-opacity:1;stroke-miterlimit:10;\" d=\"M 393.414062 138.171875 C 393.414062 140.546875 389.847656 140.546875 389.847656 138.171875 C 389.847656 135.796875 393.414062 135.796875 393.414062 138.171875 \"/>\n",
       "<path style=\"fill:none;stroke-width:0.75;stroke-linecap:round;stroke-linejoin:round;stroke:rgb(0%,0%,0%);stroke-opacity:1;stroke-miterlimit:10;\" d=\"M 406.039062 54.402344 C 406.039062 56.777344 402.472656 56.777344 402.472656 54.402344 C 402.472656 52.023438 406.039062 52.023438 406.039062 54.402344 \"/>\n",
       "<path style=\"fill:none;stroke-width:0.75;stroke-linecap:round;stroke-linejoin:round;stroke:rgb(0%,0%,0%);stroke-opacity:1;stroke-miterlimit:10;\" d=\"M 418.660156 54.398438 C 418.660156 56.773438 415.097656 56.773438 415.097656 54.398438 C 415.097656 52.019531 418.660156 52.019531 418.660156 54.398438 \"/>\n",
       "<path style=\"fill:none;stroke-width:0.75;stroke-linecap:round;stroke-linejoin:round;stroke:rgb(0%,0%,0%);stroke-opacity:1;stroke-miterlimit:10;\" d=\"M 431.285156 54.394531 C 431.285156 56.769531 427.722656 56.769531 427.722656 54.394531 C 427.722656 52.019531 431.285156 52.019531 431.285156 54.394531 \"/>\n",
       "<path style=\"fill:none;stroke-width:0.75;stroke-linecap:round;stroke-linejoin:round;stroke:rgb(0%,0%,0%);stroke-opacity:1;stroke-miterlimit:10;\" d=\"M 443.910156 54.394531 C 443.910156 56.769531 440.347656 56.769531 440.347656 54.394531 C 440.347656 52.019531 443.910156 52.019531 443.910156 54.394531 \"/>\n",
       "<path style=\"fill:none;stroke-width:0.75;stroke-linecap:round;stroke-linejoin:round;stroke:rgb(0%,0%,0%);stroke-opacity:1;stroke-miterlimit:10;\" d=\"M 456.535156 54.394531 C 456.535156 56.769531 452.972656 56.769531 452.972656 54.394531 C 452.972656 52.019531 456.535156 52.019531 456.535156 54.394531 \"/>\n",
       "<path style=\"fill:none;stroke-width:0.75;stroke-linecap:round;stroke-linejoin:round;stroke:rgb(0%,0%,0%);stroke-opacity:1;stroke-miterlimit:10;\" d=\"M 469.160156 54.394531 C 469.160156 56.769531 465.59375 56.769531 465.59375 54.394531 C 465.59375 52.019531 469.160156 52.019531 469.160156 54.394531 \"/>\n",
       "<path style=\"fill:none;stroke-width:0.75;stroke-linecap:round;stroke-linejoin:round;stroke:rgb(0%,0%,0%);stroke-opacity:1;stroke-miterlimit:10;\" d=\"M 481.785156 54.394531 C 481.785156 56.769531 478.21875 56.769531 478.21875 54.394531 C 478.21875 52.019531 481.785156 52.019531 481.785156 54.394531 \"/>\n",
       "<path style=\"fill:none;stroke-width:0.75;stroke-linecap:round;stroke-linejoin:round;stroke:rgb(0%,0%,0%);stroke-opacity:1;stroke-miterlimit:10;\" d=\"M 391.628906 455.53125 L 467.378906 455.53125 \"/>\n",
       "<path style=\"fill:none;stroke-width:0.75;stroke-linecap:round;stroke-linejoin:round;stroke:rgb(0%,0%,0%);stroke-opacity:1;stroke-miterlimit:10;\" d=\"M 391.628906 455.53125 L 391.628906 460.28125 \"/>\n",
       "<path style=\"fill:none;stroke-width:0.75;stroke-linecap:round;stroke-linejoin:round;stroke:rgb(0%,0%,0%);stroke-opacity:1;stroke-miterlimit:10;\" d=\"M 416.878906 455.53125 L 416.878906 460.28125 \"/>\n",
       "<path style=\"fill:none;stroke-width:0.75;stroke-linecap:round;stroke-linejoin:round;stroke:rgb(0%,0%,0%);stroke-opacity:1;stroke-miterlimit:10;\" d=\"M 442.128906 455.53125 L 442.128906 460.28125 \"/>\n",
       "<path style=\"fill:none;stroke-width:0.75;stroke-linecap:round;stroke-linejoin:round;stroke:rgb(0%,0%,0%);stroke-opacity:1;stroke-miterlimit:10;\" d=\"M 467.378906 455.53125 L 467.378906 460.28125 \"/>\n",
       "<g style=\"fill:rgb(0%,0%,0%);fill-opacity:1;\">\n",
       "  <use xlink:href=\"#glyph0-1\" x=\"389.40625\" y=\"472.636719\"/>\n",
       "</g>\n",
       "<g style=\"fill:rgb(0%,0%,0%);fill-opacity:1;\">\n",
       "  <use xlink:href=\"#glyph0-2\" x=\"414.65625\" y=\"472.636719\"/>\n",
       "</g>\n",
       "<g style=\"fill:rgb(0%,0%,0%);fill-opacity:1;\">\n",
       "  <use xlink:href=\"#glyph0-3\" x=\"439.90625\" y=\"472.636719\"/>\n",
       "</g>\n",
       "<g style=\"fill:rgb(0%,0%,0%);fill-opacity:1;\">\n",
       "  <use xlink:href=\"#glyph0-4\" x=\"465.15625\" y=\"472.636719\"/>\n",
       "</g>\n",
       "<path style=\"fill:none;stroke-width:0.75;stroke-linecap:round;stroke-linejoin:round;stroke:rgb(0%,0%,0%);stroke-opacity:1;stroke-miterlimit:10;\" d=\"M 374.964844 419.113281 L 374.964844 54.285156 \"/>\n",
       "<path style=\"fill:none;stroke-width:0.75;stroke-linecap:round;stroke-linejoin:round;stroke:rgb(0%,0%,0%);stroke-opacity:1;stroke-miterlimit:10;\" d=\"M 374.964844 419.113281 L 370.214844 419.113281 \"/>\n",
       "<path style=\"fill:none;stroke-width:0.75;stroke-linecap:round;stroke-linejoin:round;stroke:rgb(0%,0%,0%);stroke-opacity:1;stroke-miterlimit:10;\" d=\"M 374.964844 358.308594 L 370.214844 358.308594 \"/>\n",
       "<path style=\"fill:none;stroke-width:0.75;stroke-linecap:round;stroke-linejoin:round;stroke:rgb(0%,0%,0%);stroke-opacity:1;stroke-miterlimit:10;\" d=\"M 374.964844 297.503906 L 370.214844 297.503906 \"/>\n",
       "<path style=\"fill:none;stroke-width:0.75;stroke-linecap:round;stroke-linejoin:round;stroke:rgb(0%,0%,0%);stroke-opacity:1;stroke-miterlimit:10;\" d=\"M 374.964844 236.699219 L 370.214844 236.699219 \"/>\n",
       "<path style=\"fill:none;stroke-width:0.75;stroke-linecap:round;stroke-linejoin:round;stroke:rgb(0%,0%,0%);stroke-opacity:1;stroke-miterlimit:10;\" d=\"M 374.964844 175.894531 L 370.214844 175.894531 \"/>\n",
       "<path style=\"fill:none;stroke-width:0.75;stroke-linecap:round;stroke-linejoin:round;stroke:rgb(0%,0%,0%);stroke-opacity:1;stroke-miterlimit:10;\" d=\"M 374.964844 115.089844 L 370.214844 115.089844 \"/>\n",
       "<path style=\"fill:none;stroke-width:0.75;stroke-linecap:round;stroke-linejoin:round;stroke:rgb(0%,0%,0%);stroke-opacity:1;stroke-miterlimit:10;\" d=\"M 374.964844 54.285156 L 370.214844 54.285156 \"/>\n",
       "<g style=\"fill:rgb(0%,0%,0%);fill-opacity:1;\">\n",
       "  <use xlink:href=\"#glyph1-1\" x=\"363.5625\" y=\"426.898438\"/>\n",
       "  <use xlink:href=\"#glyph1-15\" x=\"363.5625\" y=\"422.4505\"/>\n",
       "  <use xlink:href=\"#glyph1-16\" x=\"363.5625\" y=\"420.226532\"/>\n",
       "  <use xlink:href=\"#glyph1-1\" x=\"363.5625\" y=\"415.778595\"/>\n",
       "</g>\n",
       "<g style=\"fill:rgb(0%,0%,0%);fill-opacity:1;\">\n",
       "  <use xlink:href=\"#glyph1-1\" x=\"363.5625\" y=\"366.09375\"/>\n",
       "  <use xlink:href=\"#glyph1-15\" x=\"363.5625\" y=\"361.645813\"/>\n",
       "  <use xlink:href=\"#glyph1-16\" x=\"363.5625\" y=\"359.421844\"/>\n",
       "  <use xlink:href=\"#glyph1-2\" x=\"363.5625\" y=\"354.973907\"/>\n",
       "</g>\n",
       "<g style=\"fill:rgb(0%,0%,0%);fill-opacity:1;\">\n",
       "  <use xlink:href=\"#glyph1-1\" x=\"363.5625\" y=\"305.289062\"/>\n",
       "  <use xlink:href=\"#glyph1-15\" x=\"363.5625\" y=\"300.841125\"/>\n",
       "  <use xlink:href=\"#glyph1-9\" x=\"363.5625\" y=\"298.617157\"/>\n",
       "  <use xlink:href=\"#glyph1-1\" x=\"363.5625\" y=\"294.16922\"/>\n",
       "</g>\n",
       "<g style=\"fill:rgb(0%,0%,0%);fill-opacity:1;\">\n",
       "  <use xlink:href=\"#glyph1-1\" x=\"363.5625\" y=\"244.484375\"/>\n",
       "  <use xlink:href=\"#glyph1-15\" x=\"363.5625\" y=\"240.036438\"/>\n",
       "  <use xlink:href=\"#glyph1-9\" x=\"363.5625\" y=\"237.812469\"/>\n",
       "  <use xlink:href=\"#glyph1-2\" x=\"363.5625\" y=\"233.364532\"/>\n",
       "</g>\n",
       "<g style=\"fill:rgb(0%,0%,0%);fill-opacity:1;\">\n",
       "  <use xlink:href=\"#glyph1-1\" x=\"363.5625\" y=\"183.679688\"/>\n",
       "  <use xlink:href=\"#glyph1-15\" x=\"363.5625\" y=\"179.23175\"/>\n",
       "  <use xlink:href=\"#glyph1-17\" x=\"363.5625\" y=\"177.007782\"/>\n",
       "  <use xlink:href=\"#glyph1-1\" x=\"363.5625\" y=\"172.559845\"/>\n",
       "</g>\n",
       "<g style=\"fill:rgb(0%,0%,0%);fill-opacity:1;\">\n",
       "  <use xlink:href=\"#glyph1-1\" x=\"363.5625\" y=\"122.875\"/>\n",
       "  <use xlink:href=\"#glyph1-15\" x=\"363.5625\" y=\"118.427063\"/>\n",
       "  <use xlink:href=\"#glyph1-17\" x=\"363.5625\" y=\"116.203094\"/>\n",
       "  <use xlink:href=\"#glyph1-2\" x=\"363.5625\" y=\"111.755157\"/>\n",
       "</g>\n",
       "<g style=\"fill:rgb(0%,0%,0%);fill-opacity:1;\">\n",
       "  <use xlink:href=\"#glyph1-3\" x=\"363.5625\" y=\"62.070312\"/>\n",
       "  <use xlink:href=\"#glyph1-15\" x=\"363.5625\" y=\"57.622375\"/>\n",
       "  <use xlink:href=\"#glyph1-1\" x=\"363.5625\" y=\"55.398407\"/>\n",
       "  <use xlink:href=\"#glyph1-1\" x=\"363.5625\" y=\"50.95047\"/>\n",
       "</g>\n",
       "<path style=\"fill:none;stroke-width:0.75;stroke-linecap:round;stroke-linejoin:round;stroke:rgb(0%,0%,0%);stroke-opacity:1;stroke-miterlimit:10;\" d=\"M 374.964844 455.53125 L 484.042969 455.53125 L 484.042969 38.964844 L 374.964844 38.964844 L 374.964844 455.53125 \"/>\n",
       "<g style=\"fill:rgb(0%,0%,0%);fill-opacity:1;\">\n",
       "  <use xlink:href=\"#glyph0-5\" x=\"391.714844\" y=\"491.644531\"/>\n",
       "  <use xlink:href=\"#glyph0-6\" x=\"396.602783\" y=\"491.644531\"/>\n",
       "  <use xlink:href=\"#glyph0-7\" x=\"401.05072\" y=\"491.644531\"/>\n",
       "  <use xlink:href=\"#glyph0-8\" x=\"405.93866\" y=\"491.644531\"/>\n",
       "  <use xlink:href=\"#glyph0-6\" x=\"408.602631\" y=\"491.644531\"/>\n",
       "  <use xlink:href=\"#glyph0-6\" x=\"413.050568\" y=\"491.644531\"/>\n",
       "  <use xlink:href=\"#glyph0-9\" x=\"417.498505\" y=\"491.644531\"/>\n",
       "  <use xlink:href=\"#glyph0-10\" x=\"419.722473\" y=\"491.644531\"/>\n",
       "  <use xlink:href=\"#glyph0-11\" x=\"424.17041\" y=\"491.644531\"/>\n",
       "  <use xlink:href=\"#glyph0-9\" x=\"426.394379\" y=\"491.644531\"/>\n",
       "  <use xlink:href=\"#glyph0-12\" x=\"428.618347\" y=\"491.644531\"/>\n",
       "  <use xlink:href=\"#glyph0-10\" x=\"433.506287\" y=\"491.644531\"/>\n",
       "  <use xlink:href=\"#glyph0-13\" x=\"437.954224\" y=\"491.644531\"/>\n",
       "  <use xlink:href=\"#glyph0-14\" x=\"439.730194\" y=\"491.644531\"/>\n",
       "  <use xlink:href=\"#glyph0-15\" x=\"443.730148\" y=\"491.644531\"/>\n",
       "  <use xlink:href=\"#glyph0-10\" x=\"448.178085\" y=\"491.644531\"/>\n",
       "  <use xlink:href=\"#glyph0-16\" x=\"452.626022\" y=\"491.644531\"/>\n",
       "  <use xlink:href=\"#glyph0-17\" x=\"459.289932\" y=\"491.644531\"/>\n",
       "  <use xlink:href=\"#glyph0-18\" x=\"461.065903\" y=\"491.644531\"/>\n",
       "  <use xlink:href=\"#glyph0-13\" x=\"465.51384\" y=\"491.644531\"/>\n",
       "</g>\n",
       "<g style=\"fill:rgb(0%,0%,0%);fill-opacity:1;\">\n",
       "  <use xlink:href=\"#glyph1-18\" x=\"344.554688\" y=\"253.023438\"/>\n",
       "  <use xlink:href=\"#glyph1-19\" x=\"344.554688\" y=\"250.359467\"/>\n",
       "  <use xlink:href=\"#glyph1-20\" x=\"344.554688\" y=\"246.359512\"/>\n",
       "</g>\n",
       "</g>\n",
       "</svg>\n"
      ],
      "text/plain": [
       "plot without title"
      ]
     },
     "metadata": {
      "image/svg+xml": {
       "isolated": true
      }
     },
     "output_type": "display_data"
    }
   ],
   "source": [
    "forward_selection = regsubsets(Y~X+poly(X, 9), data = XY, method =\"forward\")\n",
    "forward_selection_summary = summary(forward_selection)\n",
    "par(mfrow = c(1,3))\n",
    "plot(forward_selection_summary$cp, xlab = \"degree of polynomial\" , ylab = \"Cp\")\n",
    "plot(forward_selection_summary$bic, xlab = \"degree of polynomial\" , ylab = \"bic\")\n",
    "plot(forward_selection_summary$rsq, xlab = \"degree of polynomial\" , ylab = \"rsq\")"
   ]
  },
  {
   "cell_type": "code",
   "execution_count": 53,
   "metadata": {
    "collapsed": false
   },
   "outputs": [
    {
     "data": {
      "text/html": [
       "4"
      ],
      "text/latex": [
       "4"
      ],
      "text/markdown": [
       "4"
      ],
      "text/plain": [
       "[1] 4"
      ]
     },
     "execution_count": 53,
     "metadata": {},
     "output_type": "execute_result"
    },
    {
     "data": {
      "text/html": [
       "3"
      ],
      "text/latex": [
       "3"
      ],
      "text/markdown": [
       "3"
      ],
      "text/plain": [
       "[1] 3"
      ]
     },
     "execution_count": 53,
     "metadata": {},
     "output_type": "execute_result"
    },
    {
     "data": {
      "text/html": [
       "9"
      ],
      "text/latex": [
       "9"
      ],
      "text/markdown": [
       "9"
      ],
      "text/plain": [
       "[1] 9"
      ]
     },
     "execution_count": 53,
     "metadata": {},
     "output_type": "execute_result"
    }
   ],
   "source": [
    "which.min(forward_selection_summary$cp)\n",
    "which.min(forward_selection_summary$bic)\n",
    "which.max(forward_selection_summary$rsq)"
   ]
  }
 ],
 "metadata": {
  "kernelspec": {
   "display_name": "R",
   "language": "R",
   "name": "ir"
  },
  "language_info": {
   "codemirror_mode": "r",
   "file_extension": ".r",
   "mimetype": "text/x-r-source",
   "name": "R",
   "pygments_lexer": "r",
   "version": "3.2.2"
  }
 },
 "nbformat": 4,
 "nbformat_minor": 0
}
