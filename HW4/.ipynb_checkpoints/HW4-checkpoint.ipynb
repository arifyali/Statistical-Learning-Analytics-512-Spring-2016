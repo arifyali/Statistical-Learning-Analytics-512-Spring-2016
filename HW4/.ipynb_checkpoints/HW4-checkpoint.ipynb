{
 "cells": [
  {
   "cell_type": "markdown",
   "metadata": {},
   "source": [
    "# Analytics 512 Homework 4"
   ]
  },
  {
   "cell_type": "markdown",
   "metadata": {},
   "source": [
    "5.4 #3 (4), #5 using K = 10 CV instead of validation (9)\n",
    "6.8 #1 (4), #8a-d (8) "
   ]
  },
  {
   "cell_type": "markdown",
   "metadata": {},
   "source": [
    "## Exercsise 5.4 #3"
   ]
  },
  {
   "cell_type": "markdown",
   "metadata": {},
   "source": [
    "###Part A\n"
   ]
  },
  {
   "cell_type": "markdown",
   "metadata": {},
   "source": []
  },
  {
   "cell_type": "markdown",
   "metadata": {},
   "source": [
    "## Exercsise 5.4 #5"
   ]
  },
  {
   "cell_type": "code",
   "execution_count": 16,
   "metadata": {
    "collapsed": false
   },
   "outputs": [
    {
     "name": "stderr",
     "output_type": "stream",
     "text": [
      "The following objects are masked from Default (pos = 3):\n",
      "\n",
      "    balance, default, income, student\n",
      "\n"
     ]
    }
   ],
   "source": [
    "library(ISLR)\n",
    "attach(Default)"
   ]
  },
  {
   "cell_type": "markdown",
   "metadata": {},
   "source": [
    "### Part A"
   ]
  },
  {
   "cell_type": "code",
   "execution_count": 17,
   "metadata": {
    "collapsed": false
   },
   "outputs": [],
   "source": [
    "glm.default = glm(default~balance, data = Default, family = binomial)"
   ]
  },
  {
   "cell_type": "markdown",
   "metadata": {},
   "source": [
    "### Part B"
   ]
  },
  {
   "cell_type": "markdown",
   "metadata": {},
   "source": [
    "#### i"
   ]
  },
  {
   "cell_type": "code",
   "execution_count": 18,
   "metadata": {
    "collapsed": true
   },
   "outputs": [],
   "source": [
    "train = sample(nrow(Default), .5*nrow(Default), replace = F)\n",
    "training = Default[train,]\n",
    "validation = Default[-train,]"
   ]
  },
  {
   "cell_type": "markdown",
   "metadata": {
    "collapsed": false
   },
   "source": [
    "#### ii"
   ]
  },
  {
   "cell_type": "code",
   "execution_count": 19,
   "metadata": {
    "collapsed": false
   },
   "outputs": [],
   "source": [
    "glm.default = glm(default~., data = training, family = binomial)"
   ]
  },
  {
   "cell_type": "markdown",
   "metadata": {},
   "source": [
    "#### iii"
   ]
  },
  {
   "cell_type": "code",
   "execution_count": 20,
   "metadata": {
    "collapsed": false
   },
   "outputs": [],
   "source": [
    "pred = predict(glm.default, validation, type = \"response\")\n",
    "pred.default = rep(x = \"No\", times = length(pred))\n",
    "pred.default[pred>0.5] = \"Yes\""
   ]
  },
  {
   "cell_type": "markdown",
   "metadata": {},
   "source": [
    "#### iv"
   ]
  },
  {
   "cell_type": "code",
   "execution_count": 21,
   "metadata": {
    "collapsed": false
   },
   "outputs": [
    {
     "data": {
      "text/html": [
       "0.028"
      ],
      "text/latex": [
       "0.028"
      ],
      "text/markdown": [
       "0.028"
      ],
      "text/plain": [
       "[1] 0.028"
      ]
     },
     "execution_count": 21,
     "metadata": {},
     "output_type": "execute_result"
    }
   ],
   "source": [
    "mean(pred.default != validation$default)"
   ]
  },
  {
   "cell_type": "markdown",
   "metadata": {},
   "source": [
    "### Part C"
   ]
  },
  {
   "cell_type": "code",
   "execution_count": 22,
   "metadata": {
    "collapsed": false
   },
   "outputs": [
    {
     "data": {
      "text/html": [
       "<ol class=list-inline>\n",
       "\t<li>0.0264</li>\n",
       "\t<li>0.02625</li>\n",
       "</ol>\n"
      ],
      "text/latex": [
       "\\begin{enumerate*}\n",
       "\\item 0.0264\n",
       "\\item 0.02625\n",
       "\\end{enumerate*}\n"
      ],
      "text/markdown": [
       "1. 0.0264\n",
       "2. 0.02625\n",
       "\n",
       "\n"
      ],
      "text/plain": [
       "[1] 0.02640 0.02625"
      ]
     },
     "execution_count": 22,
     "metadata": {},
     "output_type": "execute_result"
    }
   ],
   "source": [
    "glm.default = glm(default~income+balance, data = Default, family = binomial)\n",
    "cost <- function(r, pi = 0){\n",
    "    mean(abs(r-pi) > 0.5)\n",
    "    }\n",
    "library(boot)\n",
    "cv.default = cv.glm(Default, glm.default, cost, K = 3)\n",
    "cv.default$delta"
   ]
  },
  {
   "cell_type": "markdown",
   "metadata": {},
   "source": [
    "### Part D"
   ]
  },
  {
   "cell_type": "code",
   "execution_count": 25,
   "metadata": {
    "collapsed": false
   },
   "outputs": [
    {
     "ename": "ERROR",
     "evalue": "Error in cost(glm.y, fitted(glmfit)): unused argument (fitted(glmfit))\n",
     "output_type": "error",
     "traceback": [
      "Error in cost(glm.y, fitted(glmfit)): unused argument (fitted(glmfit))\n"
     ]
    },
    {
     "data": {
      "text/html": [
       "<ol class=list-inline>\n",
       "\t<li>0.0268</li>\n",
       "\t<li>0.027</li>\n",
       "</ol>\n"
      ],
      "text/latex": [
       "\\begin{enumerate*}\n",
       "\\item 0.0268\n",
       "\\item 0.027\n",
       "\\end{enumerate*}\n"
      ],
      "text/markdown": [
       "1. 0.0268\n",
       "2. 0.027\n",
       "\n",
       "\n"
      ],
      "text/plain": [
       "[1] 0.0268 0.0270"
      ]
     },
     "execution_count": 25,
     "metadata": {},
     "output_type": "execute_result"
    }
   ],
   "source": [
    "glm.default = glm(default~income+balance+student, data = Default, family = binomial)\n",
    "cost <- function(r, pi = 0){\n",
    "    mean(abs(r-pi) > 0.5)\n",
    "    }\n",
    "library(boot)\n",
    "cv.default = cv.glm(Default, glm.default, cost, K = 3)\n",
    "cv.default$delta"
   ]
  },
  {
   "cell_type": "markdown",
   "metadata": {
    "collapsed": false
   },
   "source": [
    "The difference in error seems to by minimal, but lower without the student dummy variable."
   ]
  },
  {
   "cell_type": "markdown",
   "metadata": {},
   "source": [
    "## Exercise 6.8 #8"
   ]
  },
  {
   "cell_type": "markdown",
   "metadata": {},
   "source": [
    "### Part A"
   ]
  },
  {
   "cell_type": "code",
   "execution_count": 26,
   "metadata": {
    "collapsed": true
   },
   "outputs": [],
   "source": [
    "X = rnorm(100)\n",
    "e = rnorm(100)"
   ]
  },
  {
   "cell_type": "markdown",
   "metadata": {},
   "source": [
    "### Part B"
   ]
  },
  {
   "cell_type": "code",
   "execution_count": 27,
   "metadata": {
    "collapsed": true
   },
   "outputs": [],
   "source": [
    "Y = 21 +45*X+38*X^2+12*X^3+e"
   ]
  },
  {
   "cell_type": "markdown",
   "metadata": {},
   "source": [
    "### Part C"
   ]
  },
  {
   "cell_type": "code",
   "execution_count": 39,
   "metadata": {
    "collapsed": false
   },
   "outputs": [
    {
     "data": {
      "text/html": [
       "<ol class=list-inline>\n",
       "\t<li>'Y'</li>\n",
       "\t<li>'X'</li>\n",
       "</ol>\n"
      ],
      "text/latex": [
       "\\begin{enumerate*}\n",
       "\\item 'Y'\n",
       "\\item 'X'\n",
       "\\end{enumerate*}\n"
      ],
      "text/markdown": [
       "1. 'Y'\n",
       "2. 'X'\n",
       "\n",
       "\n"
      ],
      "text/plain": [
       "[1] \"Y\" \"X\""
      ]
     },
     "execution_count": 39,
     "metadata": {},
     "output_type": "execute_result"
    },
    {
     "name": "stderr",
     "output_type": "stream",
     "text": [
      "Warning message:\n",
      "In leaps.setup(x, y, wt = wt, nbest = nbest, nvmax = nvmax, force.in = force.in, : 1  linear dependencies found"
     ]
    },
    {
     "name": "stdout",
     "output_type": "stream",
     "text": [
      "Reordering variables and trying again:\n"
     ]
    }
   ],
   "source": [
    "XY = data.frame(Y,X)\n",
    "names(XY)\n",
    "library(leaps)\n",
    "partc = regsubsets(Y~X+poly(X, 9), data = XY)"
   ]
  },
  {
   "cell_type": "code",
   "execution_count": null,
   "metadata": {
    "collapsed": false
   },
   "outputs": [],
   "source": []
  }
 ],
 "metadata": {
  "kernelspec": {
   "display_name": "R",
   "language": "R",
   "name": "ir"
  },
  "language_info": {
   "codemirror_mode": "r",
   "file_extension": ".r",
   "mimetype": "text/x-r-source",
   "name": "R",
   "pygments_lexer": "r",
   "version": "3.2.2"
  }
 },
 "nbformat": 4,
 "nbformat_minor": 0
}
