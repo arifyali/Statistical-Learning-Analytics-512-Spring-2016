{
 "cells": [
  {
   "cell_type": "markdown",
   "metadata": {},
   "source": [
    "# Analytics 512 Homework 4"
   ]
  },
  {
   "cell_type": "markdown",
   "metadata": {},
   "source": [
    "<p>Arif Ali</p>\n",
    "03/10/2015"
   ]
  },
  {
   "cell_type": "markdown",
   "metadata": {},
   "source": [
    "## Exercise 5.4 #3"
   ]
  },
  {
   "cell_type": "markdown",
   "metadata": {},
   "source": [
    "###Part A\n",
    "<p>K fold validation is implimented by first randomly dividing the sets of observations into k groups that should be about equal sizes. The first group (or fold) is treated as the validation set and the method is fit on the remaining k-1 folds. Then the mean-squared error (MSE) is computed for the fold, this method is then repeated on the remaining k-1 folds.</p>\n",
    "<p>The CV estimate is computed by averaging the various MSEs</p>\n",
    "$$CV_k = \\frac{1}{k}\\sum_{i=1}^{k}MSE_{i}$$"
   ]
  },
  {
   "cell_type": "markdown",
   "metadata": {},
   "source": [
    "###Part B"
   ]
  },
  {
   "cell_type": "markdown",
   "metadata": {},
   "source": [
    "####i\n",
    "<p>The advantages of k fold over the validation set approach are:\n",
    "<ul>the validation estimate of the test error rate can be highly variable</ul>\n",
    "<ul>There's only one subset used to test and train, which makes it easy to implement</ul>\n",
    "</p>\n",
    "<p>The disadvantages of k fold over the validation set approach are:\n",
    "<ul>The validation method is significiantly easier to impliment since we are splitting only two data sets</ul>\n",
    "<ul>The validation method has significiantly less bias compared to the k-fold method.</ul>\n",
    "</p>"
   ]
  },
  {
   "cell_type": "markdown",
   "metadata": {},
   "source": [
    "####ii\n",
    "<p>The disadvantages of k fold over LOOCV approach are:\n",
    "<ul>The LOOCV is significantly more comprehensive compared to the k-fold method</ul>\n",
    "<ul>has a low bias</ul></p>\n",
    "<p>The advantages of k fold over LOOCV approach are:\n",
    "<ul>While LOOCV has a low bias, the test error can be highly variable as well</ul>\n",
    "<ul>LOOCV requires going trhough every point, so it requires more time to implement than k-fold</ul></p>"
   ]
  },
  {
   "cell_type": "markdown",
   "metadata": {},
   "source": [
    "## Exercsise 5.4 #5"
   ]
  },
  {
   "cell_type": "code",
   "execution_count": 35,
   "metadata": {
    "collapsed": false
   },
   "outputs": [
    {
     "name": "stderr",
     "output_type": "stream",
     "text": [
      "The following objects are masked from Default (pos = 3):\n",
      "\n",
      "    balance, default, income, student\n",
      "\n",
      "The following objects are masked from Default (pos = 6):\n",
      "\n",
      "    balance, default, income, student\n",
      "\n"
     ]
    }
   ],
   "source": [
    "library(ISLR)\n",
    "attach(Default)"
   ]
  },
  {
   "cell_type": "markdown",
   "metadata": {},
   "source": [
    "### Part A"
   ]
  },
  {
   "cell_type": "code",
   "execution_count": 36,
   "metadata": {
    "collapsed": false
   },
   "outputs": [],
   "source": [
    "glm.default = glm(default~balance+income, data = Default, family = binomial)"
   ]
  },
  {
   "cell_type": "markdown",
   "metadata": {},
   "source": [
    "### Part B"
   ]
  },
  {
   "cell_type": "markdown",
   "metadata": {},
   "source": [
    "#### i"
   ]
  },
  {
   "cell_type": "code",
   "execution_count": 37,
   "metadata": {
    "collapsed": true
   },
   "outputs": [],
   "source": [
    "train = sample(nrow(Default), .5*nrow(Default), replace = F)\n",
    "training = Default[train,]\n",
    "validation = Default[-train,]"
   ]
  },
  {
   "cell_type": "markdown",
   "metadata": {
    "collapsed": false
   },
   "source": [
    "#### ii"
   ]
  },
  {
   "cell_type": "code",
   "execution_count": 38,
   "metadata": {
    "collapsed": false
   },
   "outputs": [],
   "source": [
    "glm.default = glm(default~., data = training, family = binomial)"
   ]
  },
  {
   "cell_type": "markdown",
   "metadata": {},
   "source": [
    "#### iii"
   ]
  },
  {
   "cell_type": "code",
   "execution_count": 39,
   "metadata": {
    "collapsed": false
   },
   "outputs": [],
   "source": [
    "pred = predict(glm.default, validation, type = \"response\")\n",
    "pred.default = rep(x = \"No\", times = length(pred))\n",
    "pred.default[pred>0.5] = \"Yes\""
   ]
  },
  {
   "cell_type": "markdown",
   "metadata": {},
   "source": [
    "#### iv"
   ]
  },
  {
   "cell_type": "code",
   "execution_count": 40,
   "metadata": {
    "collapsed": false
   },
   "outputs": [
    {
     "data": {
      "text/html": [
       "0.0292"
      ],
      "text/latex": [
       "0.0292"
      ],
      "text/markdown": [
       "0.0292"
      ],
      "text/plain": [
       "[1] 0.0292"
      ]
     },
     "execution_count": 40,
     "metadata": {},
     "output_type": "execute_result"
    }
   ],
   "source": [
    "mean(pred.default != validation$default)"
   ]
  },
  {
   "cell_type": "markdown",
   "metadata": {},
   "source": [
    "I attempted CV by applying K = 10 instead of the validation method as specified by the homework."
   ]
  },
  {
   "cell_type": "code",
   "execution_count": 41,
   "metadata": {
    "collapsed": false
   },
   "outputs": [
    {
     "data": {
      "text/html": [
       "<ol class=list-inline>\n",
       "\t<li>0.0214718792280596</li>\n",
       "\t<li>0.0214682053025623</li>\n",
       "</ol>\n"
      ],
      "text/latex": [
       "\\begin{enumerate*}\n",
       "\\item 0.0214718792280596\n",
       "\\item 0.0214682053025623\n",
       "\\end{enumerate*}\n"
      ],
      "text/markdown": [
       "1. 0.0214718792280596\n",
       "2. 0.0214682053025623\n",
       "\n",
       "\n"
      ],
      "text/plain": [
       "[1] 0.02147188 0.02146821"
      ]
     },
     "execution_count": 41,
     "metadata": {},
     "output_type": "execute_result"
    }
   ],
   "source": [
    "glm.default = glm(default~income+balance, data = Default, family = binomial)\n",
    "cost <- function(r, pi = 0){\n",
    "    mean(abs(r-pi) > 0.5)\n",
    "    }\n",
    "library(boot)\n",
    "cv.default = cv.glm(Default, glm.default, K = 10)\n",
    "cv.default$delta"
   ]
  },
  {
   "cell_type": "markdown",
   "metadata": {},
   "source": [
    "### Part C"
   ]
  },
  {
   "cell_type": "code",
   "execution_count": 42,
   "metadata": {
    "collapsed": false
   },
   "outputs": [
    {
     "data": {
      "text/html": [
       "<ol class=list-inline>\n",
       "\t<li>0.0263</li>\n",
       "\t<li>0.02634</li>\n",
       "</ol>\n"
      ],
      "text/latex": [
       "\\begin{enumerate*}\n",
       "\\item 0.0263\n",
       "\\item 0.02634\n",
       "\\end{enumerate*}\n"
      ],
      "text/markdown": [
       "1. 0.0263\n",
       "2. 0.02634\n",
       "\n",
       "\n"
      ],
      "text/plain": [
       "[1] 0.02630 0.02634"
      ]
     },
     "execution_count": 42,
     "metadata": {},
     "output_type": "execute_result"
    },
    {
     "data": {
      "text/html": [
       "<ol class=list-inline>\n",
       "\t<li>0.0264</li>\n",
       "\t<li>0.02642</li>\n",
       "</ol>\n"
      ],
      "text/latex": [
       "\\begin{enumerate*}\n",
       "\\item 0.0264\n",
       "\\item 0.02642\n",
       "\\end{enumerate*}\n"
      ],
      "text/markdown": [
       "1. 0.0264\n",
       "2. 0.02642\n",
       "\n",
       "\n"
      ],
      "text/plain": [
       "[1] 0.02640 0.02642"
      ]
     },
     "execution_count": 42,
     "metadata": {},
     "output_type": "execute_result"
    },
    {
     "data": {
      "text/html": [
       "<ol class=list-inline>\n",
       "\t<li>0.0265</li>\n",
       "\t<li>0.02645</li>\n",
       "</ol>\n"
      ],
      "text/latex": [
       "\\begin{enumerate*}\n",
       "\\item 0.0265\n",
       "\\item 0.02645\n",
       "\\end{enumerate*}\n"
      ],
      "text/markdown": [
       "1. 0.0265\n",
       "2. 0.02645\n",
       "\n",
       "\n"
      ],
      "text/plain": [
       "[1] 0.02650 0.02645"
      ]
     },
     "execution_count": 42,
     "metadata": {},
     "output_type": "execute_result"
    }
   ],
   "source": [
    "glm.default = glm(default~income+balance, data = Default, family = binomial)\n",
    "cost <- function(r, pi = 0){\n",
    "    mean(abs(r-pi) > 0.5)\n",
    "    }\n",
    "library(boot)\n",
    "cv.default = cv.glm(Default, glm.default, cost, K = 10)\n",
    "cv.default$delta\n",
    "\n",
    "glm.default = glm(default~income+balance, data = Default, family = binomial)\n",
    "cost <- function(r, pi = 0){\n",
    "    mean(abs(r-pi) > 0.5)\n",
    "    }\n",
    "library(boot)\n",
    "cv.default = cv.glm(Default, glm.default, cost, K = 10)\n",
    "cv.default$delta\n",
    "\n",
    "glm.default = glm(default~income+balance, data = Default, family = binomial)\n",
    "cost <- function(r, pi = 0){\n",
    "    mean(abs(r-pi) > 0.5)\n",
    "    }\n",
    "library(boot)\n",
    "cv.default = cv.glm(Default, glm.default, cost, K = 10)\n",
    "cv.default$delta"
   ]
  },
  {
   "cell_type": "markdown",
   "metadata": {},
   "source": [
    "Based on the three runs of the, it seems that the CV error holds between 0.026 to 0.0265. "
   ]
  },
  {
   "cell_type": "markdown",
   "metadata": {},
   "source": [
    "### Part D"
   ]
  },
  {
   "cell_type": "code",
   "execution_count": 43,
   "metadata": {
    "collapsed": false
   },
   "outputs": [
    {
     "data": {
      "text/html": [
       "<ol class=list-inline>\n",
       "\t<li>0.0268</li>\n",
       "\t<li>0.02694</li>\n",
       "</ol>\n"
      ],
      "text/latex": [
       "\\begin{enumerate*}\n",
       "\\item 0.0268\n",
       "\\item 0.02694\n",
       "\\end{enumerate*}\n"
      ],
      "text/markdown": [
       "1. 0.0268\n",
       "2. 0.02694\n",
       "\n",
       "\n"
      ],
      "text/plain": [
       "[1] 0.02680 0.02694"
      ]
     },
     "execution_count": 43,
     "metadata": {},
     "output_type": "execute_result"
    }
   ],
   "source": [
    "glm.default = glm(default~income+balance+student, data = Default, family = binomial)\n",
    "cost <- function(r, pi = 0){\n",
    "    mean(abs(r-pi) > 0.5)\n",
    "    }\n",
    "library(boot)\n",
    "cv.default = cv.glm(Default, glm.default, cost, K = 10)\n",
    "cv.default$delta"
   ]
  },
  {
   "cell_type": "markdown",
   "metadata": {
    "collapsed": false
   },
   "source": [
    "The difference in error seems to by minimal, but lower without the student dummy variable. However, I would argue that the differences between the CV errors are small enough that it wouldn't matter. As to the specific question, adding the student dummy variable does not lead to a reduction in the test errors."
   ]
  },
  {
   "cell_type": "markdown",
   "metadata": {},
   "source": [
    "## Exercise 6.8 #1"
   ]
  },
  {
   "cell_type": "markdown",
   "metadata": {},
   "source": [
    "###Part A\n",
    "In the case of Best Subset selection, \"This task must be performed with care, because the RSS of these p + 1 models decreases monotonically, and the $R^{2}$ increases monotonically, as the number of features included in the models increases.\" Thus Best Subset selection has the smallest training RSS.\n"
   ]
  },
  {
   "cell_type": "markdown",
   "metadata": {},
   "source": [
    "###Part B\n",
    "Best Subset Selection would most likely have the smallest test RSS, but it's possible for forward stepwise or backwards stepwise to have a smaller test RSS, so the model with the smallest test RSS cannot be determined."
   ]
  },
  {
   "cell_type": "markdown",
   "metadata": {},
   "source": [
    "###Part C\n",
    "####i\n",
    "True, forward selection adds predictors to a model until it goes through each predictor, adding them if they meet the specified criteria.\n",
    "####ii\n",
    "True, Backward selection starts by looking at all $k+1$ predictors, removing ones that don't fit a criteria.\n",
    "####iii\n",
    "False, the methods could lead to different models thus one cannot be a subset of the other.\n",
    "####iv\n",
    "False,the methods could lead to different models thus one cannot be a subset of the other.\n",
    "####v\n",
    "False, since best subset selection looks at all possible combinationa, there are multiple models with k+1 predictors, so it doesn't the same values as the lower subsets."
   ]
  },
  {
   "cell_type": "markdown",
   "metadata": {},
   "source": [
    "## Exercise 6.8 #8"
   ]
  },
  {
   "cell_type": "markdown",
   "metadata": {},
   "source": [
    "### Part A"
   ]
  },
  {
   "cell_type": "code",
   "execution_count": 44,
   "metadata": {
    "collapsed": true
   },
   "outputs": [],
   "source": [
    "X = rnorm(100)\n",
    "e = rnorm(100)"
   ]
  },
  {
   "cell_type": "markdown",
   "metadata": {},
   "source": [
    "### Part B"
   ]
  },
  {
   "cell_type": "code",
   "execution_count": 45,
   "metadata": {
    "collapsed": true
   },
   "outputs": [],
   "source": [
    "Y = 1 +2*X+3*X^2+4*X^3+e"
   ]
  },
  {
   "cell_type": "markdown",
   "metadata": {},
   "source": [
    "### Part C"
   ]
  },
  {
   "cell_type": "code",
   "execution_count": 46,
   "metadata": {
    "collapsed": false
   },
   "outputs": [
    {
     "data": {
      "text/html": [
       "<ol class=list-inline>\n",
       "\t<li>'Y'</li>\n",
       "\t<li>'X'</li>\n",
       "</ol>\n"
      ],
      "text/latex": [
       "\\begin{enumerate*}\n",
       "\\item 'Y'\n",
       "\\item 'X'\n",
       "\\end{enumerate*}\n"
      ],
      "text/markdown": [
       "1. 'Y'\n",
       "2. 'X'\n",
       "\n",
       "\n"
      ],
      "text/plain": [
       "[1] \"Y\" \"X\""
      ]
     },
     "execution_count": 46,
     "metadata": {},
     "output_type": "execute_result"
    }
   ],
   "source": [
    "XY = data.frame(Y,X)\n",
    "names(XY)\n",
    "library(leaps)\n",
    "best_selection = regsubsets(Y~poly(X, 10), data = XY,nvmax=10)"
   ]
  },
  {
   "cell_type": "code",
   "execution_count": 47,
   "metadata": {
    "collapsed": false
   },
   "outputs": [],
   "source": [
    "best_selection_summary = summary(best_selection)"
   ]
  },
  {
   "cell_type": "code",
   "execution_count": 48,
   "metadata": {
    "collapsed": false
   },
   "outputs": [
    {
     "data": {
      "image/png": "[encoded data removed]",
      "image/svg+xml": [
       "<?xml version=\"1.0\" encoding=\"UTF-8\"?>\n",
       "<svg xmlns=\"http://www.w3.org/2000/svg\" xmlns:xlink=\"http://www.w3.org/1999/xlink\" width=\"504pt\" height=\"504pt\" viewBox=\"0 0 504 504\" version=\"1.1\">\n",
       "<defs>\n",
       "<g>\n",
       "<symbol overflow=\"visible\" id=\"glyph0-0\">\n",
       "<path style=\"stroke:none;\" d=\"M 0 -5.59375 L 4 -5.59375 L 4 0 L 0 0 Z M 3.359375 -5.203125 L 0.640625 -5.203125 L 2 -3.15625 Z M 3.59375 -0.765625 L 3.59375 -4.84375 L 2.234375 -2.796875 Z M 3.359375 -0.40625 L 2 -2.4375 L 0.640625 -0.40625 Z M 0.40625 -0.765625 L 1.765625 -2.796875 L 0.40625 -4.84375 Z \"/>\n",
       "</symbol>\n",
       "<symbol overflow=\"visible\" id=\"glyph0-1\">\n",
       "<path style=\"stroke:none;\" d=\"M 0.546875 -3.796875 C 0.546875 -4.066406 0.585938 -4.316406 0.671875 -4.546875 C 0.765625 -4.773438 0.890625 -4.96875 1.046875 -5.125 C 1.203125 -5.289062 1.394531 -5.414062 1.625 -5.5 C 1.851562 -5.59375 2.109375 -5.640625 2.390625 -5.640625 C 2.671875 -5.640625 2.914062 -5.597656 3.125 -5.515625 C 3.34375 -5.429688 3.523438 -5.316406 3.671875 -5.171875 C 3.816406 -5.035156 3.925781 -4.875 4 -4.6875 C 4.082031 -4.5 4.125 -4.296875 4.125 -4.078125 C 4.125 -3.828125 4.082031 -3.601562 4 -3.40625 C 3.914062 -3.21875 3.804688 -3.050781 3.671875 -2.90625 C 3.535156 -2.757812 3.378906 -2.625 3.203125 -2.5 C 3.023438 -2.382812 2.847656 -2.273438 2.671875 -2.171875 C 2.492188 -2.066406 2.316406 -1.96875 2.140625 -1.875 C 1.960938 -1.78125 1.800781 -1.675781 1.65625 -1.5625 C 1.570312 -1.5 1.484375 -1.425781 1.390625 -1.34375 C 1.304688 -1.269531 1.226562 -1.1875 1.15625 -1.09375 C 1.09375 -1 1.039062 -0.894531 1 -0.78125 C 0.957031 -0.675781 0.929688 -0.5625 0.921875 -0.4375 L 4.078125 -0.4375 L 4.078125 0 L 0.390625 0 C 0.390625 -0.269531 0.414062 -0.515625 0.46875 -0.734375 C 0.519531 -0.953125 0.640625 -1.164062 0.828125 -1.375 C 1.023438 -1.601562 1.226562 -1.796875 1.4375 -1.953125 C 1.644531 -2.109375 1.847656 -2.25 2.046875 -2.375 C 2.253906 -2.5 2.445312 -2.613281 2.625 -2.71875 C 2.8125 -2.820312 2.972656 -2.9375 3.109375 -3.0625 C 3.242188 -3.1875 3.351562 -3.328125 3.4375 -3.484375 C 3.519531 -3.640625 3.5625 -3.828125 3.5625 -4.046875 C 3.5625 -4.222656 3.53125 -4.382812 3.46875 -4.53125 C 3.40625 -4.675781 3.316406 -4.800781 3.203125 -4.90625 C 3.085938 -5.007812 2.953125 -5.082031 2.796875 -5.125 C 2.648438 -5.175781 2.488281 -5.203125 2.3125 -5.203125 C 2.132812 -5.203125 1.96875 -5.160156 1.8125 -5.078125 C 1.65625 -5.003906 1.519531 -4.90625 1.40625 -4.78125 C 1.300781 -4.65625 1.21875 -4.503906 1.15625 -4.328125 C 1.101562 -4.160156 1.082031 -3.984375 1.09375 -3.796875 Z \"/>\n",
       "</symbol>\n",
       "<symbol overflow=\"visible\" id=\"glyph0-2\">\n",
       "<path style=\"stroke:none;\" d=\"M 2.859375 -1.390625 L 0.28125 -1.390625 L 0.28125 -1.828125 L 2.90625 -5.578125 L 3.375 -5.578125 L 3.375 -1.828125 L 4.15625 -1.828125 L 4.15625 -1.390625 L 3.375 -1.390625 L 3.375 0 L 2.859375 0 Z M 0.796875 -1.828125 L 2.859375 -1.828125 L 2.859375 -4.8125 Z \"/>\n",
       "</symbol>\n",
       "<symbol overflow=\"visible\" id=\"glyph0-3\">\n",
       "<path style=\"stroke:none;\" d=\"M 3.5 -4.25 C 3.4375 -4.539062 3.316406 -4.769531 3.140625 -4.9375 C 2.960938 -5.113281 2.722656 -5.203125 2.421875 -5.203125 C 2.078125 -5.203125 1.800781 -5.117188 1.59375 -4.953125 C 1.394531 -4.796875 1.242188 -4.585938 1.140625 -4.328125 C 1.035156 -4.078125 0.960938 -3.800781 0.921875 -3.5 C 0.890625 -3.207031 0.863281 -2.925781 0.84375 -2.65625 C 0.914062 -2.757812 0.992188 -2.863281 1.078125 -2.96875 C 1.171875 -3.082031 1.273438 -3.179688 1.390625 -3.265625 C 1.503906 -3.347656 1.632812 -3.410156 1.78125 -3.453125 C 1.9375 -3.503906 2.113281 -3.53125 2.3125 -3.53125 C 2.882812 -3.53125 3.328125 -3.367188 3.640625 -3.046875 C 3.953125 -2.722656 4.109375 -2.28125 4.109375 -1.71875 C 4.109375 -1.144531 3.953125 -0.695312 3.640625 -0.375 C 3.328125 -0.0507812 2.878906 0.109375 2.296875 0.109375 C 2.015625 0.109375 1.753906 0.0625 1.515625 -0.03125 C 1.273438 -0.125 1.066406 -0.273438 0.890625 -0.484375 C 0.710938 -0.703125 0.570312 -0.984375 0.46875 -1.328125 C 0.375 -1.671875 0.328125 -2.085938 0.328125 -2.578125 C 0.328125 -2.921875 0.351562 -3.269531 0.40625 -3.625 C 0.46875 -3.988281 0.570312 -4.316406 0.71875 -4.609375 C 0.875 -4.910156 1.082031 -5.15625 1.34375 -5.34375 C 1.613281 -5.539062 1.957031 -5.640625 2.375 -5.640625 C 2.820312 -5.640625 3.191406 -5.519531 3.484375 -5.28125 C 3.785156 -5.050781 3.96875 -4.707031 4.03125 -4.25 Z M 2.296875 -3.109375 C 2.109375 -3.109375 1.929688 -3.066406 1.765625 -2.984375 C 1.609375 -2.910156 1.472656 -2.8125 1.359375 -2.6875 C 1.253906 -2.5625 1.171875 -2.410156 1.109375 -2.234375 C 1.054688 -2.066406 1.03125 -1.890625 1.03125 -1.703125 C 1.03125 -1.546875 1.050781 -1.382812 1.09375 -1.21875 C 1.144531 -1.050781 1.222656 -0.898438 1.328125 -0.765625 C 1.429688 -0.640625 1.5625 -0.53125 1.71875 -0.4375 C 1.875 -0.351562 2.070312 -0.3125 2.3125 -0.3125 C 2.550781 -0.3125 2.75 -0.351562 2.90625 -0.4375 C 3.070312 -0.519531 3.207031 -0.628906 3.3125 -0.765625 C 3.414062 -0.898438 3.488281 -1.050781 3.53125 -1.21875 C 3.570312 -1.394531 3.59375 -1.566406 3.59375 -1.734375 C 3.59375 -2.171875 3.488281 -2.507812 3.28125 -2.75 C 3.070312 -2.988281 2.742188 -3.109375 2.296875 -3.109375 Z \"/>\n",
       "</symbol>\n",
       "<symbol overflow=\"visible\" id=\"glyph0-4\">\n",
       "<path style=\"stroke:none;\" d=\"M 2.234375 -2.765625 C 2.035156 -2.765625 1.851562 -2.738281 1.6875 -2.6875 C 1.519531 -2.632812 1.375 -2.554688 1.25 -2.453125 C 1.132812 -2.359375 1.039062 -2.234375 0.96875 -2.078125 C 0.894531 -1.929688 0.859375 -1.753906 0.859375 -1.546875 C 0.859375 -1.367188 0.890625 -1.207031 0.953125 -1.0625 C 1.023438 -0.914062 1.117188 -0.785156 1.234375 -0.671875 C 1.359375 -0.566406 1.503906 -0.476562 1.671875 -0.40625 C 1.847656 -0.34375 2.046875 -0.3125 2.265625 -0.3125 C 2.453125 -0.3125 2.625 -0.34375 2.78125 -0.40625 C 2.945312 -0.46875 3.085938 -0.554688 3.203125 -0.671875 C 3.328125 -0.785156 3.421875 -0.914062 3.484375 -1.0625 C 3.546875 -1.21875 3.578125 -1.390625 3.578125 -1.578125 C 3.578125 -1.773438 3.539062 -1.945312 3.46875 -2.09375 C 3.40625 -2.238281 3.3125 -2.359375 3.1875 -2.453125 C 3.070312 -2.554688 2.929688 -2.632812 2.765625 -2.6875 C 2.597656 -2.738281 2.421875 -2.765625 2.234375 -2.765625 Z M 2.203125 -5.203125 C 2.046875 -5.203125 1.894531 -5.179688 1.75 -5.140625 C 1.613281 -5.097656 1.492188 -5.035156 1.390625 -4.953125 C 1.285156 -4.867188 1.203125 -4.757812 1.140625 -4.625 C 1.085938 -4.5 1.0625 -4.351562 1.0625 -4.1875 C 1.0625 -4.007812 1.09375 -3.859375 1.15625 -3.734375 C 1.226562 -3.609375 1.316406 -3.503906 1.421875 -3.421875 C 1.535156 -3.347656 1.664062 -3.289062 1.8125 -3.25 C 1.957031 -3.207031 2.109375 -3.1875 2.265625 -3.1875 C 2.421875 -3.1875 2.5625 -3.207031 2.6875 -3.25 C 2.820312 -3.289062 2.9375 -3.351562 3.03125 -3.4375 C 3.132812 -3.53125 3.210938 -3.644531 3.265625 -3.78125 C 3.328125 -3.925781 3.359375 -4.097656 3.359375 -4.296875 C 3.359375 -4.585938 3.265625 -4.8125 3.078125 -4.96875 C 2.890625 -5.125 2.597656 -5.203125 2.203125 -5.203125 Z M 1.34375 -3.03125 C 1.195312 -3.113281 1.070312 -3.191406 0.96875 -3.265625 C 0.875 -3.347656 0.796875 -3.429688 0.734375 -3.515625 C 0.671875 -3.609375 0.625 -3.710938 0.59375 -3.828125 C 0.5625 -3.953125 0.546875 -4.097656 0.546875 -4.265625 C 0.546875 -4.453125 0.585938 -4.628906 0.671875 -4.796875 C 0.765625 -4.972656 0.878906 -5.125 1.015625 -5.25 C 1.160156 -5.375 1.332031 -5.46875 1.53125 -5.53125 C 1.726562 -5.601562 1.9375 -5.640625 2.15625 -5.640625 C 2.375 -5.640625 2.582031 -5.613281 2.78125 -5.5625 C 2.988281 -5.507812 3.171875 -5.425781 3.328125 -5.3125 C 3.492188 -5.195312 3.625 -5.050781 3.71875 -4.875 C 3.8125 -4.707031 3.859375 -4.503906 3.859375 -4.265625 C 3.859375 -3.972656 3.796875 -3.722656 3.671875 -3.515625 C 3.554688 -3.304688 3.363281 -3.132812 3.09375 -3 C 3.40625 -2.882812 3.648438 -2.703125 3.828125 -2.453125 C 4.003906 -2.210938 4.09375 -1.925781 4.09375 -1.59375 C 4.09375 -1.320312 4.046875 -1.078125 3.953125 -0.859375 C 3.859375 -0.648438 3.722656 -0.472656 3.546875 -0.328125 C 3.378906 -0.179688 3.171875 -0.0703125 2.921875 0 C 2.679688 0.0703125 2.410156 0.109375 2.109375 0.109375 C 1.910156 0.109375 1.703125 0.0703125 1.484375 0 C 1.273438 -0.0625 1.085938 -0.160156 0.921875 -0.296875 C 0.753906 -0.441406 0.617188 -0.617188 0.515625 -0.828125 C 0.410156 -1.035156 0.359375 -1.273438 0.359375 -1.546875 C 0.359375 -1.890625 0.441406 -2.191406 0.609375 -2.453125 C 0.773438 -2.710938 1.019531 -2.90625 1.34375 -3.03125 Z \"/>\n",
       "</symbol>\n",
       "<symbol overflow=\"visible\" id=\"glyph0-5\">\n",
       "<path style=\"stroke:none;\" d=\"M 2.421875 -4.1875 L 0.953125 -4.1875 L 0.953125 -4.53125 C 1.171875 -4.539062 1.363281 -4.554688 1.53125 -4.578125 C 1.707031 -4.609375 1.859375 -4.660156 1.984375 -4.734375 C 2.117188 -4.816406 2.226562 -4.925781 2.3125 -5.0625 C 2.40625 -5.207031 2.472656 -5.398438 2.515625 -5.640625 L 2.921875 -5.640625 L 2.921875 0 L 2.421875 0 Z \"/>\n",
       "</symbol>\n",
       "<symbol overflow=\"visible\" id=\"glyph0-6\">\n",
       "<path style=\"stroke:none;\" d=\"M 3.609375 -2.78125 C 3.609375 -3.082031 3.59375 -3.378906 3.5625 -3.671875 C 3.53125 -3.960938 3.460938 -4.222656 3.359375 -4.453125 C 3.253906 -4.679688 3.109375 -4.863281 2.921875 -5 C 2.742188 -5.132812 2.503906 -5.203125 2.203125 -5.203125 C 1.921875 -5.203125 1.691406 -5.128906 1.515625 -4.984375 C 1.335938 -4.847656 1.195312 -4.660156 1.09375 -4.421875 C 0.988281 -4.191406 0.914062 -3.925781 0.875 -3.625 C 0.84375 -3.332031 0.828125 -3.03125 0.828125 -2.71875 C 0.828125 -2.351562 0.847656 -2.019531 0.890625 -1.71875 C 0.929688 -1.425781 1.003906 -1.175781 1.109375 -0.96875 C 1.222656 -0.757812 1.367188 -0.597656 1.546875 -0.484375 C 1.722656 -0.367188 1.945312 -0.3125 2.21875 -0.3125 C 2.53125 -0.3125 2.773438 -0.382812 2.953125 -0.53125 C 3.140625 -0.6875 3.28125 -0.878906 3.375 -1.109375 C 3.46875 -1.347656 3.53125 -1.613281 3.5625 -1.90625 C 3.59375 -2.207031 3.609375 -2.5 3.609375 -2.78125 Z M 2.21875 -5.640625 C 2.5 -5.640625 2.738281 -5.597656 2.9375 -5.515625 C 3.144531 -5.429688 3.316406 -5.316406 3.453125 -5.171875 C 3.597656 -5.023438 3.710938 -4.859375 3.796875 -4.671875 C 3.890625 -4.484375 3.957031 -4.28125 4 -4.0625 C 4.050781 -3.84375 4.082031 -3.617188 4.09375 -3.390625 C 4.113281 -3.160156 4.125 -2.9375 4.125 -2.71875 C 4.125 -2.34375 4.097656 -1.984375 4.046875 -1.640625 C 3.992188 -1.304688 3.894531 -1.007812 3.75 -0.75 C 3.613281 -0.488281 3.421875 -0.28125 3.171875 -0.125 C 2.929688 0.03125 2.613281 0.109375 2.21875 0.109375 C 1.832031 0.109375 1.515625 0.03125 1.265625 -0.125 C 1.015625 -0.28125 0.816406 -0.488281 0.671875 -0.75 C 0.535156 -1.007812 0.441406 -1.3125 0.390625 -1.65625 C 0.335938 -2.007812 0.3125 -2.382812 0.3125 -2.78125 C 0.3125 -3.132812 0.332031 -3.484375 0.375 -3.828125 C 0.425781 -4.171875 0.519531 -4.472656 0.65625 -4.734375 C 0.789062 -5.003906 0.984375 -5.222656 1.234375 -5.390625 C 1.484375 -5.554688 1.8125 -5.640625 2.21875 -5.640625 Z \"/>\n",
       "</symbol>\n",
       "<symbol overflow=\"visible\" id=\"glyph0-7\">\n",
       "<path style=\"stroke:none;\" d=\"M 3.78125 -2.09375 C 3.78125 -2.320312 3.742188 -2.539062 3.671875 -2.75 C 3.609375 -2.96875 3.515625 -3.15625 3.390625 -3.3125 C 3.273438 -3.46875 3.128906 -3.59375 2.953125 -3.6875 C 2.785156 -3.78125 2.59375 -3.828125 2.375 -3.828125 C 2.125 -3.828125 1.90625 -3.773438 1.71875 -3.671875 C 1.539062 -3.578125 1.394531 -3.441406 1.28125 -3.265625 C 1.164062 -3.097656 1.078125 -2.898438 1.015625 -2.671875 C 0.960938 -2.453125 0.941406 -2.207031 0.953125 -1.9375 C 0.953125 -1.675781 0.988281 -1.445312 1.0625 -1.25 C 1.132812 -1.050781 1.234375 -0.878906 1.359375 -0.734375 C 1.492188 -0.597656 1.644531 -0.492188 1.8125 -0.421875 C 1.988281 -0.347656 2.175781 -0.3125 2.375 -0.3125 C 2.601562 -0.3125 2.800781 -0.359375 2.96875 -0.453125 C 3.144531 -0.546875 3.289062 -0.671875 3.40625 -0.828125 C 3.53125 -0.984375 3.625 -1.171875 3.6875 -1.390625 C 3.75 -1.609375 3.78125 -1.84375 3.78125 -2.09375 Z M 3.78125 -5.765625 L 4.25 -5.765625 L 4.25 0 L 3.78125 0 L 3.78125 -0.734375 L 3.765625 -0.734375 C 3.691406 -0.585938 3.597656 -0.460938 3.484375 -0.359375 C 3.378906 -0.253906 3.257812 -0.164062 3.125 -0.09375 C 3 -0.03125 2.863281 0.015625 2.71875 0.046875 C 2.582031 0.0859375 2.445312 0.109375 2.3125 0.109375 C 1.976562 0.109375 1.691406 0.0546875 1.453125 -0.046875 C 1.222656 -0.160156 1.03125 -0.316406 0.875 -0.515625 C 0.726562 -0.710938 0.617188 -0.941406 0.546875 -1.203125 C 0.484375 -1.472656 0.453125 -1.757812 0.453125 -2.0625 C 0.453125 -2.351562 0.488281 -2.628906 0.5625 -2.890625 C 0.632812 -3.160156 0.742188 -3.394531 0.890625 -3.59375 C 1.046875 -3.789062 1.238281 -3.945312 1.46875 -4.0625 C 1.707031 -4.1875 1.984375 -4.25 2.296875 -4.25 C 2.585938 -4.25 2.867188 -4.179688 3.140625 -4.046875 C 3.410156 -3.921875 3.625 -3.734375 3.78125 -3.484375 Z \"/>\n",
       "</symbol>\n",
       "<symbol overflow=\"visible\" id=\"glyph0-8\">\n",
       "<path style=\"stroke:none;\" d=\"M 3.578125 -2.359375 C 3.578125 -2.554688 3.546875 -2.742188 3.484375 -2.921875 C 3.429688 -3.109375 3.347656 -3.265625 3.234375 -3.390625 C 3.128906 -3.523438 2.992188 -3.628906 2.828125 -3.703125 C 2.660156 -3.785156 2.472656 -3.828125 2.265625 -3.828125 C 2.046875 -3.828125 1.851562 -3.785156 1.6875 -3.703125 C 1.53125 -3.617188 1.394531 -3.507812 1.28125 -3.375 C 1.164062 -3.25 1.070312 -3.097656 1 -2.921875 C 0.9375 -2.742188 0.894531 -2.554688 0.875 -2.359375 Z M 0.875 -1.953125 C 0.875 -1.734375 0.898438 -1.523438 0.953125 -1.328125 C 1.015625 -1.128906 1.101562 -0.953125 1.21875 -0.796875 C 1.332031 -0.648438 1.476562 -0.53125 1.65625 -0.4375 C 1.832031 -0.351562 2.035156 -0.3125 2.265625 -0.3125 C 2.578125 -0.3125 2.84375 -0.394531 3.0625 -0.5625 C 3.289062 -0.726562 3.441406 -0.960938 3.515625 -1.265625 L 4.0625 -1.265625 C 4 -1.066406 3.921875 -0.882812 3.828125 -0.71875 C 3.734375 -0.550781 3.613281 -0.40625 3.46875 -0.28125 C 3.320312 -0.15625 3.148438 -0.0625 2.953125 0 C 2.753906 0.0703125 2.523438 0.109375 2.265625 0.109375 C 1.929688 0.109375 1.644531 0.0546875 1.40625 -0.046875 C 1.164062 -0.160156 0.96875 -0.316406 0.8125 -0.515625 C 0.65625 -0.710938 0.539062 -0.941406 0.46875 -1.203125 C 0.394531 -1.460938 0.359375 -1.75 0.359375 -2.0625 C 0.359375 -2.363281 0.398438 -2.644531 0.484375 -2.90625 C 0.578125 -3.175781 0.703125 -3.410156 0.859375 -3.609375 C 1.023438 -3.804688 1.222656 -3.960938 1.453125 -4.078125 C 1.691406 -4.191406 1.960938 -4.25 2.265625 -4.25 C 2.835938 -4.25 3.285156 -4.050781 3.609375 -3.65625 C 3.929688 -3.269531 4.09375 -2.703125 4.09375 -1.953125 Z \"/>\n",
       "</symbol>\n",
       "<symbol overflow=\"visible\" id=\"glyph0-9\">\n",
       "<path style=\"stroke:none;\" d=\"M 3.78125 -2.0625 C 3.78125 -2.3125 3.75 -2.539062 3.6875 -2.75 C 3.625 -2.96875 3.53125 -3.15625 3.40625 -3.3125 C 3.289062 -3.46875 3.144531 -3.59375 2.96875 -3.6875 C 2.800781 -3.78125 2.601562 -3.828125 2.375 -3.828125 C 2.175781 -3.828125 1.988281 -3.789062 1.8125 -3.71875 C 1.644531 -3.644531 1.492188 -3.535156 1.359375 -3.390625 C 1.234375 -3.253906 1.132812 -3.085938 1.0625 -2.890625 C 0.988281 -2.691406 0.953125 -2.460938 0.953125 -2.203125 C 0.941406 -1.941406 0.960938 -1.695312 1.015625 -1.46875 C 1.078125 -1.238281 1.164062 -1.035156 1.28125 -0.859375 C 1.394531 -0.691406 1.539062 -0.554688 1.71875 -0.453125 C 1.90625 -0.359375 2.125 -0.3125 2.375 -0.3125 C 2.59375 -0.3125 2.785156 -0.359375 2.953125 -0.453125 C 3.128906 -0.546875 3.273438 -0.671875 3.390625 -0.828125 C 3.515625 -0.992188 3.609375 -1.179688 3.671875 -1.390625 C 3.742188 -1.597656 3.78125 -1.820312 3.78125 -2.0625 Z M 3.78125 -4.140625 L 4.25 -4.140625 L 4.25 -0.40625 C 4.25 -0.125 4.222656 0.140625 4.171875 0.390625 C 4.117188 0.648438 4.019531 0.875 3.875 1.0625 C 3.726562 1.257812 3.53125 1.414062 3.28125 1.53125 C 3.03125 1.644531 2.707031 1.703125 2.3125 1.703125 C 2.007812 1.703125 1.75 1.660156 1.53125 1.578125 C 1.3125 1.503906 1.128906 1.40625 0.984375 1.28125 C 0.847656 1.164062 0.742188 1.035156 0.671875 0.890625 C 0.597656 0.753906 0.5625 0.625 0.5625 0.5 L 1.078125 0.5 C 1.109375 0.65625 1.164062 0.78125 1.25 0.875 C 1.332031 0.976562 1.425781 1.054688 1.53125 1.109375 C 1.644531 1.171875 1.765625 1.210938 1.890625 1.234375 C 2.023438 1.253906 2.164062 1.265625 2.3125 1.265625 C 2.632812 1.265625 2.894531 1.207031 3.09375 1.09375 C 3.289062 0.976562 3.441406 0.832031 3.546875 0.65625 C 3.648438 0.476562 3.710938 0.273438 3.734375 0.046875 C 3.765625 -0.179688 3.78125 -0.414062 3.78125 -0.65625 C 3.625 -0.40625 3.410156 -0.210938 3.140625 -0.078125 C 2.867188 0.046875 2.585938 0.109375 2.296875 0.109375 C 1.984375 0.109375 1.707031 0.0507812 1.46875 -0.0625 C 1.238281 -0.1875 1.046875 -0.347656 0.890625 -0.546875 C 0.742188 -0.742188 0.632812 -0.972656 0.5625 -1.234375 C 0.488281 -1.503906 0.453125 -1.785156 0.453125 -2.078125 C 0.453125 -2.378906 0.484375 -2.664062 0.546875 -2.9375 C 0.617188 -3.207031 0.726562 -3.4375 0.875 -3.625 C 1.03125 -3.820312 1.222656 -3.972656 1.453125 -4.078125 C 1.691406 -4.191406 1.976562 -4.25 2.3125 -4.25 C 2.445312 -4.25 2.582031 -4.226562 2.71875 -4.1875 C 2.863281 -4.15625 3 -4.101562 3.125 -4.03125 C 3.257812 -3.96875 3.378906 -3.878906 3.484375 -3.765625 C 3.597656 -3.660156 3.691406 -3.546875 3.765625 -3.421875 L 3.78125 -3.421875 Z \"/>\n",
       "</symbol>\n",
       "<symbol overflow=\"visible\" id=\"glyph0-10\">\n",
       "<path style=\"stroke:none;\" d=\"M 1.078125 0 L 0.59375 0 L 0.59375 -4.140625 L 1.078125 -4.140625 L 1.078125 -3.375 L 1.09375 -3.375 C 1.226562 -3.695312 1.398438 -3.921875 1.609375 -4.046875 C 1.816406 -4.179688 2.097656 -4.25 2.453125 -4.25 L 2.453125 -3.734375 C 2.179688 -3.742188 1.957031 -3.703125 1.78125 -3.609375 C 1.601562 -3.515625 1.460938 -3.390625 1.359375 -3.234375 C 1.253906 -3.085938 1.179688 -2.90625 1.140625 -2.6875 C 1.097656 -2.476562 1.078125 -2.257812 1.078125 -2.03125 Z \"/>\n",
       "</symbol>\n",
       "<symbol overflow=\"visible\" id=\"glyph0-11\">\n",
       "<path style=\"stroke:none;\" d=\"\"/>\n",
       "</symbol>\n",
       "<symbol overflow=\"visible\" id=\"glyph0-12\">\n",
       "<path style=\"stroke:none;\" d=\"M 2.21875 0.109375 C 1.957031 0.109375 1.707031 0.0625 1.46875 -0.03125 C 1.238281 -0.125 1.035156 -0.257812 0.859375 -0.4375 C 0.691406 -0.625 0.554688 -0.851562 0.453125 -1.125 C 0.347656 -1.394531 0.296875 -1.710938 0.296875 -2.078125 C 0.296875 -2.378906 0.335938 -2.660156 0.421875 -2.921875 C 0.503906 -3.179688 0.625 -3.410156 0.78125 -3.609375 C 0.945312 -3.804688 1.148438 -3.960938 1.390625 -4.078125 C 1.628906 -4.191406 1.90625 -4.25 2.21875 -4.25 C 2.550781 -4.25 2.835938 -4.191406 3.078125 -4.078125 C 3.316406 -3.960938 3.515625 -3.804688 3.671875 -3.609375 C 3.828125 -3.421875 3.941406 -3.191406 4.015625 -2.921875 C 4.097656 -2.660156 4.140625 -2.378906 4.140625 -2.078125 C 4.140625 -1.742188 4.09375 -1.441406 4 -1.171875 C 3.914062 -0.910156 3.789062 -0.679688 3.625 -0.484375 C 3.457031 -0.296875 3.253906 -0.148438 3.015625 -0.046875 C 2.773438 0.0546875 2.507812 0.109375 2.21875 0.109375 Z M 3.625 -2.078125 C 3.625 -2.316406 3.597656 -2.539062 3.546875 -2.75 C 3.492188 -2.96875 3.410156 -3.15625 3.296875 -3.3125 C 3.191406 -3.46875 3.050781 -3.59375 2.875 -3.6875 C 2.695312 -3.78125 2.476562 -3.828125 2.21875 -3.828125 C 1.96875 -3.828125 1.753906 -3.773438 1.578125 -3.671875 C 1.398438 -3.578125 1.253906 -3.445312 1.140625 -3.28125 C 1.023438 -3.125 0.941406 -2.9375 0.890625 -2.71875 C 0.835938 -2.507812 0.8125 -2.296875 0.8125 -2.078125 C 0.8125 -1.816406 0.84375 -1.578125 0.90625 -1.359375 C 0.96875 -1.148438 1.054688 -0.96875 1.171875 -0.8125 C 1.296875 -0.65625 1.441406 -0.53125 1.609375 -0.4375 C 1.785156 -0.351562 1.988281 -0.3125 2.21875 -0.3125 C 2.46875 -0.3125 2.679688 -0.359375 2.859375 -0.453125 C 3.046875 -0.554688 3.191406 -0.691406 3.296875 -0.859375 C 3.410156 -1.023438 3.492188 -1.210938 3.546875 -1.421875 C 3.597656 -1.628906 3.625 -1.847656 3.625 -2.078125 Z \"/>\n",
       "</symbol>\n",
       "<symbol overflow=\"visible\" id=\"glyph0-13\">\n",
       "<path style=\"stroke:none;\" d=\"M 0.15625 -3.75 L 0.15625 -4.140625 L 0.78125 -4.140625 L 0.78125 -4.796875 C 0.78125 -5.128906 0.84375 -5.390625 0.96875 -5.578125 C 1.101562 -5.773438 1.332031 -5.875 1.65625 -5.875 C 1.726562 -5.875 1.796875 -5.867188 1.859375 -5.859375 C 1.921875 -5.859375 1.988281 -5.851562 2.0625 -5.84375 L 2.0625 -5.40625 C 1.945312 -5.425781 1.847656 -5.4375 1.765625 -5.4375 C 1.640625 -5.4375 1.539062 -5.410156 1.46875 -5.359375 C 1.40625 -5.316406 1.359375 -5.257812 1.328125 -5.1875 C 1.296875 -5.113281 1.273438 -5.03125 1.265625 -4.9375 C 1.253906 -4.84375 1.25 -4.75 1.25 -4.65625 L 1.25 -4.140625 L 2.0625 -4.140625 L 2.0625 -3.75 L 1.25 -3.75 L 1.25 0 L 0.78125 0 L 0.78125 -3.75 Z \"/>\n",
       "</symbol>\n",
       "<symbol overflow=\"visible\" id=\"glyph0-14\">\n",
       "<path style=\"stroke:none;\" d=\"M 1.109375 -2.0625 C 1.109375 -1.820312 1.140625 -1.597656 1.203125 -1.390625 C 1.265625 -1.179688 1.351562 -0.992188 1.46875 -0.828125 C 1.59375 -0.671875 1.742188 -0.546875 1.921875 -0.453125 C 2.097656 -0.359375 2.296875 -0.3125 2.515625 -0.3125 C 2.753906 -0.3125 2.96875 -0.359375 3.15625 -0.453125 C 3.34375 -0.554688 3.492188 -0.691406 3.609375 -0.859375 C 3.722656 -1.035156 3.804688 -1.238281 3.859375 -1.46875 C 3.910156 -1.695312 3.929688 -1.941406 3.921875 -2.203125 C 3.921875 -2.460938 3.882812 -2.691406 3.8125 -2.890625 C 3.75 -3.085938 3.648438 -3.253906 3.515625 -3.390625 C 3.390625 -3.535156 3.238281 -3.644531 3.0625 -3.71875 C 2.894531 -3.789062 2.710938 -3.828125 2.515625 -3.828125 C 2.285156 -3.828125 2.082031 -3.78125 1.90625 -3.6875 C 1.726562 -3.59375 1.582031 -3.46875 1.46875 -3.3125 C 1.351562 -3.15625 1.265625 -2.96875 1.203125 -2.75 C 1.140625 -2.539062 1.109375 -2.3125 1.109375 -2.0625 Z M 1.109375 1.625 L 0.625 1.625 L 0.625 -4.140625 L 1.109375 -4.140625 L 1.109375 -3.421875 L 1.125 -3.421875 C 1.195312 -3.546875 1.285156 -3.660156 1.390625 -3.765625 C 1.503906 -3.878906 1.625 -3.96875 1.75 -4.03125 C 1.882812 -4.101562 2.019531 -4.15625 2.15625 -4.1875 C 2.300781 -4.226562 2.4375 -4.25 2.5625 -4.25 C 2.90625 -4.25 3.191406 -4.191406 3.421875 -4.078125 C 3.660156 -3.972656 3.851562 -3.820312 4 -3.625 C 4.15625 -3.4375 4.265625 -3.207031 4.328125 -2.9375 C 4.398438 -2.664062 4.4375 -2.378906 4.4375 -2.078125 C 4.4375 -1.785156 4.398438 -1.503906 4.328125 -1.234375 C 4.253906 -0.972656 4.140625 -0.742188 3.984375 -0.546875 C 3.835938 -0.347656 3.644531 -0.1875 3.40625 -0.0625 C 3.175781 0.0507812 2.90625 0.109375 2.59375 0.109375 C 2.300781 0.109375 2.019531 0.046875 1.75 -0.078125 C 1.476562 -0.210938 1.265625 -0.40625 1.109375 -0.65625 Z \"/>\n",
       "</symbol>\n",
       "<symbol overflow=\"visible\" id=\"glyph0-15\">\n",
       "<path style=\"stroke:none;\" d=\"M 0.640625 0 L 0.640625 -5.765625 L 1.125 -5.765625 L 1.125 0 Z \"/>\n",
       "</symbol>\n",
       "<symbol overflow=\"visible\" id=\"glyph0-16\">\n",
       "<path style=\"stroke:none;\" d=\"M 0.546875 1.125 C 0.609375 1.132812 0.671875 1.144531 0.734375 1.15625 C 0.804688 1.164062 0.875 1.171875 0.9375 1.171875 C 1.070312 1.171875 1.179688 1.128906 1.265625 1.046875 C 1.359375 0.960938 1.429688 0.859375 1.484375 0.734375 C 1.535156 0.617188 1.582031 0.492188 1.625 0.359375 C 1.664062 0.234375 1.707031 0.125 1.75 0.03125 L 0.140625 -4.140625 L 0.6875 -4.140625 L 2.015625 -0.578125 L 3.34375 -4.140625 L 3.859375 -4.140625 L 2.3125 -0.0625 C 2.21875 0.207031 2.125 0.441406 2.03125 0.640625 C 1.945312 0.847656 1.851562 1.023438 1.75 1.171875 C 1.65625 1.328125 1.546875 1.441406 1.421875 1.515625 C 1.304688 1.585938 1.164062 1.625 1 1.625 C 0.914062 1.625 0.832031 1.617188 0.75 1.609375 C 0.675781 1.597656 0.609375 1.585938 0.546875 1.578125 Z \"/>\n",
       "</symbol>\n",
       "<symbol overflow=\"visible\" id=\"glyph0-17\">\n",
       "<path style=\"stroke:none;\" d=\"M 1.0625 0 L 0.578125 0 L 0.578125 -4.140625 L 1.0625 -4.140625 L 1.0625 -3.5625 C 1.25 -3.769531 1.441406 -3.9375 1.640625 -4.0625 C 1.847656 -4.1875 2.097656 -4.25 2.390625 -4.25 C 2.648438 -4.25 2.890625 -4.203125 3.109375 -4.109375 C 3.328125 -4.023438 3.507812 -3.875 3.65625 -3.65625 C 3.757812 -3.507812 3.816406 -3.359375 3.828125 -3.203125 C 3.847656 -3.046875 3.859375 -2.882812 3.859375 -2.71875 L 3.859375 0 L 3.390625 0 L 3.390625 -2.703125 C 3.390625 -3.078125 3.304688 -3.359375 3.140625 -3.546875 C 2.972656 -3.734375 2.695312 -3.828125 2.3125 -3.828125 C 2.164062 -3.828125 2.03125 -3.800781 1.90625 -3.75 C 1.78125 -3.707031 1.664062 -3.648438 1.5625 -3.578125 C 1.46875 -3.503906 1.382812 -3.414062 1.3125 -3.3125 C 1.25 -3.21875 1.195312 -3.117188 1.15625 -3.015625 C 1.113281 -2.878906 1.085938 -2.75 1.078125 -2.625 C 1.066406 -2.507812 1.0625 -2.378906 1.0625 -2.234375 Z \"/>\n",
       "</symbol>\n",
       "<symbol overflow=\"visible\" id=\"glyph0-18\">\n",
       "<path style=\"stroke:none;\" d=\"M 0.984375 0 L 0.515625 0 L 0.515625 -4.140625 L 0.984375 -4.140625 L 0.984375 -3.515625 L 1.015625 -3.515625 C 1.128906 -3.753906 1.300781 -3.9375 1.53125 -4.0625 C 1.757812 -4.1875 2.007812 -4.25 2.28125 -4.25 C 2.476562 -4.25 2.640625 -4.226562 2.765625 -4.1875 C 2.898438 -4.144531 3.015625 -4.085938 3.109375 -4.015625 C 3.203125 -3.941406 3.28125 -3.859375 3.34375 -3.765625 C 3.40625 -3.671875 3.457031 -3.566406 3.5 -3.453125 C 3.644531 -3.722656 3.832031 -3.921875 4.0625 -4.046875 C 4.289062 -4.179688 4.554688 -4.25 4.859375 -4.25 C 5.140625 -4.25 5.363281 -4.203125 5.53125 -4.109375 C 5.695312 -4.015625 5.828125 -3.890625 5.921875 -3.734375 C 6.015625 -3.585938 6.070312 -3.414062 6.09375 -3.21875 C 6.125 -3.019531 6.140625 -2.816406 6.140625 -2.609375 L 6.140625 0 L 5.65625 0 L 5.65625 -2.859375 C 5.65625 -3.160156 5.59375 -3.394531 5.46875 -3.5625 C 5.34375 -3.738281 5.113281 -3.828125 4.78125 -3.828125 C 4.601562 -3.828125 4.429688 -3.785156 4.265625 -3.703125 C 4.109375 -3.628906 3.96875 -3.515625 3.84375 -3.359375 C 3.789062 -3.285156 3.742188 -3.203125 3.703125 -3.109375 C 3.671875 -3.015625 3.644531 -2.914062 3.625 -2.8125 C 3.601562 -2.707031 3.585938 -2.601562 3.578125 -2.5 C 3.566406 -2.40625 3.5625 -2.316406 3.5625 -2.234375 L 3.5625 0 L 3.09375 0 L 3.09375 -2.859375 C 3.09375 -3.160156 3.03125 -3.394531 2.90625 -3.5625 C 2.78125 -3.738281 2.546875 -3.828125 2.203125 -3.828125 C 2.023438 -3.828125 1.851562 -3.785156 1.6875 -3.703125 C 1.53125 -3.628906 1.390625 -3.515625 1.265625 -3.359375 C 1.210938 -3.285156 1.164062 -3.203125 1.125 -3.109375 C 1.09375 -3.015625 1.066406 -2.914062 1.046875 -2.8125 C 1.023438 -2.707031 1.007812 -2.601562 1 -2.5 C 0.988281 -2.40625 0.984375 -2.316406 0.984375 -2.234375 Z \"/>\n",
       "</symbol>\n",
       "<symbol overflow=\"visible\" id=\"glyph0-19\">\n",
       "<path style=\"stroke:none;\" d=\"M 0.640625 0 L 0.640625 -4.140625 L 1.125 -4.140625 L 1.125 0 Z M 0.625 -5.046875 L 0.625 -5.765625 L 1.15625 -5.765625 L 1.15625 -5.046875 Z \"/>\n",
       "</symbol>\n",
       "<symbol overflow=\"visible\" id=\"glyph0-20\">\n",
       "<path style=\"stroke:none;\" d=\"M 3.28125 -2.171875 C 3.082031 -2.085938 2.878906 -2.03125 2.671875 -2 C 2.460938 -1.976562 2.253906 -1.957031 2.046875 -1.9375 C 1.679688 -1.914062 1.394531 -1.832031 1.1875 -1.6875 C 0.976562 -1.550781 0.875 -1.34375 0.875 -1.0625 C 0.875 -0.9375 0.898438 -0.828125 0.953125 -0.734375 C 1.003906 -0.640625 1.070312 -0.5625 1.15625 -0.5 C 1.238281 -0.4375 1.332031 -0.390625 1.4375 -0.359375 C 1.550781 -0.328125 1.664062 -0.3125 1.78125 -0.3125 C 1.96875 -0.3125 2.148438 -0.335938 2.328125 -0.390625 C 2.515625 -0.441406 2.675781 -0.515625 2.8125 -0.609375 C 2.957031 -0.710938 3.070312 -0.835938 3.15625 -0.984375 C 3.238281 -1.140625 3.28125 -1.320312 3.28125 -1.53125 Z M 2.484375 -2.421875 C 2.566406 -2.429688 2.671875 -2.445312 2.796875 -2.46875 C 2.921875 -2.488281 3.023438 -2.515625 3.109375 -2.546875 C 3.191406 -2.585938 3.238281 -2.648438 3.25 -2.734375 C 3.269531 -2.828125 3.28125 -2.910156 3.28125 -2.984375 C 3.28125 -3.234375 3.203125 -3.4375 3.046875 -3.59375 C 2.890625 -3.75 2.625 -3.828125 2.25 -3.828125 C 2.09375 -3.828125 1.941406 -3.8125 1.796875 -3.78125 C 1.660156 -3.75 1.539062 -3.695312 1.4375 -3.625 C 1.332031 -3.550781 1.242188 -3.453125 1.171875 -3.328125 C 1.109375 -3.210938 1.066406 -3.066406 1.046875 -2.890625 L 0.5625 -2.890625 C 0.570312 -3.128906 0.625 -3.335938 0.71875 -3.515625 C 0.820312 -3.691406 0.945312 -3.832031 1.09375 -3.9375 C 1.25 -4.050781 1.425781 -4.128906 1.625 -4.171875 C 1.820312 -4.222656 2.035156 -4.25 2.265625 -4.25 C 2.472656 -4.25 2.664062 -4.226562 2.84375 -4.1875 C 3.03125 -4.144531 3.191406 -4.070312 3.328125 -3.96875 C 3.460938 -3.875 3.566406 -3.742188 3.640625 -3.578125 C 3.722656 -3.410156 3.765625 -3.207031 3.765625 -2.96875 L 3.765625 -0.71875 C 3.765625 -0.53125 3.796875 -0.410156 3.859375 -0.359375 C 3.929688 -0.304688 4.066406 -0.316406 4.265625 -0.390625 L 4.265625 -0.015625 C 4.234375 -0.00390625 4.179688 0.0078125 4.109375 0.03125 C 4.035156 0.0507812 3.960938 0.0625 3.890625 0.0625 C 3.816406 0.0625 3.75 0.0546875 3.6875 0.046875 C 3.601562 0.0351562 3.535156 0.0078125 3.484375 -0.03125 C 3.441406 -0.0703125 3.40625 -0.117188 3.375 -0.171875 C 3.34375 -0.234375 3.320312 -0.296875 3.3125 -0.359375 C 3.300781 -0.429688 3.296875 -0.503906 3.296875 -0.578125 C 3.085938 -0.347656 2.851562 -0.175781 2.59375 -0.0625 C 2.332031 0.0507812 2.050781 0.109375 1.75 0.109375 C 1.570312 0.109375 1.394531 0.0820312 1.21875 0.03125 C 1.050781 -0.0078125 0.90625 -0.0820312 0.78125 -0.1875 C 0.65625 -0.289062 0.554688 -0.414062 0.484375 -0.5625 C 0.410156 -0.707031 0.375 -0.878906 0.375 -1.078125 C 0.375 -1.785156 0.851562 -2.203125 1.8125 -2.328125 Z \"/>\n",
       "</symbol>\n",
       "<symbol overflow=\"visible\" id=\"glyph1-0\">\n",
       "<path style=\"stroke:none;\" d=\"M -5.59375 0 L -5.59375 -4 L 0 -4 L 0 0 Z M -5.203125 -3.359375 L -5.203125 -0.640625 L -3.15625 -2 Z M -0.765625 -3.59375 L -4.84375 -3.59375 L -2.796875 -2.234375 Z M -0.40625 -3.359375 L -2.4375 -2 L -0.40625 -0.640625 Z M -0.765625 -0.40625 L -2.796875 -1.765625 L -4.84375 -0.40625 Z \"/>\n",
       "</symbol>\n",
       "<symbol overflow=\"visible\" id=\"glyph1-1\">\n",
       "<path style=\"stroke:none;\" d=\"M -2.78125 -3.609375 C -3.082031 -3.609375 -3.378906 -3.59375 -3.671875 -3.5625 C -3.960938 -3.53125 -4.222656 -3.460938 -4.453125 -3.359375 C -4.679688 -3.253906 -4.863281 -3.109375 -5 -2.921875 C -5.132812 -2.742188 -5.203125 -2.503906 -5.203125 -2.203125 C -5.203125 -1.921875 -5.128906 -1.691406 -4.984375 -1.515625 C -4.847656 -1.335938 -4.660156 -1.195312 -4.421875 -1.09375 C -4.191406 -0.988281 -3.925781 -0.914062 -3.625 -0.875 C -3.332031 -0.84375 -3.03125 -0.828125 -2.71875 -0.828125 C -2.351562 -0.828125 -2.019531 -0.847656 -1.71875 -0.890625 C -1.425781 -0.929688 -1.175781 -1.003906 -0.96875 -1.109375 C -0.757812 -1.222656 -0.597656 -1.367188 -0.484375 -1.546875 C -0.367188 -1.722656 -0.3125 -1.945312 -0.3125 -2.21875 C -0.3125 -2.53125 -0.382812 -2.773438 -0.53125 -2.953125 C -0.6875 -3.140625 -0.878906 -3.28125 -1.109375 -3.375 C -1.347656 -3.46875 -1.613281 -3.53125 -1.90625 -3.5625 C -2.207031 -3.59375 -2.5 -3.609375 -2.78125 -3.609375 Z M -5.640625 -2.21875 C -5.640625 -2.5 -5.597656 -2.738281 -5.515625 -2.9375 C -5.429688 -3.144531 -5.316406 -3.316406 -5.171875 -3.453125 C -5.023438 -3.597656 -4.859375 -3.710938 -4.671875 -3.796875 C -4.484375 -3.890625 -4.28125 -3.957031 -4.0625 -4 C -3.84375 -4.050781 -3.617188 -4.082031 -3.390625 -4.09375 C -3.160156 -4.113281 -2.9375 -4.125 -2.71875 -4.125 C -2.34375 -4.125 -1.984375 -4.097656 -1.640625 -4.046875 C -1.304688 -3.992188 -1.007812 -3.894531 -0.75 -3.75 C -0.488281 -3.613281 -0.28125 -3.421875 -0.125 -3.171875 C 0.03125 -2.929688 0.109375 -2.613281 0.109375 -2.21875 C 0.109375 -1.832031 0.03125 -1.515625 -0.125 -1.265625 C -0.28125 -1.015625 -0.488281 -0.816406 -0.75 -0.671875 C -1.007812 -0.535156 -1.3125 -0.441406 -1.65625 -0.390625 C -2.007812 -0.335938 -2.382812 -0.3125 -2.78125 -0.3125 C -3.132812 -0.3125 -3.484375 -0.332031 -3.828125 -0.375 C -4.171875 -0.425781 -4.472656 -0.519531 -4.734375 -0.65625 C -5.003906 -0.789062 -5.222656 -0.984375 -5.390625 -1.234375 C -5.554688 -1.484375 -5.640625 -1.8125 -5.640625 -2.21875 Z \"/>\n",
       "</symbol>\n",
       "<symbol overflow=\"visible\" id=\"glyph1-2\">\n",
       "<path style=\"stroke:none;\" d=\"M -1.390625 -2.859375 L -1.390625 -0.28125 L -1.828125 -0.28125 L -5.578125 -2.90625 L -5.578125 -3.375 L -1.828125 -3.375 L -1.828125 -4.15625 L -1.390625 -4.15625 L -1.390625 -3.375 L 0 -3.375 L 0 -2.859375 Z M -1.828125 -0.796875 L -1.828125 -2.859375 L -4.8125 -2.859375 Z \"/>\n",
       "</symbol>\n",
       "<symbol overflow=\"visible\" id=\"glyph1-3\">\n",
       "<path style=\"stroke:none;\" d=\"M -2.765625 -2.234375 C -2.765625 -2.035156 -2.738281 -1.851562 -2.6875 -1.6875 C -2.632812 -1.519531 -2.554688 -1.375 -2.453125 -1.25 C -2.359375 -1.132812 -2.234375 -1.039062 -2.078125 -0.96875 C -1.929688 -0.894531 -1.753906 -0.859375 -1.546875 -0.859375 C -1.367188 -0.859375 -1.207031 -0.890625 -1.0625 -0.953125 C -0.914062 -1.023438 -0.785156 -1.117188 -0.671875 -1.234375 C -0.566406 -1.359375 -0.476562 -1.503906 -0.40625 -1.671875 C -0.34375 -1.847656 -0.3125 -2.046875 -0.3125 -2.265625 C -0.3125 -2.453125 -0.34375 -2.625 -0.40625 -2.78125 C -0.46875 -2.945312 -0.554688 -3.085938 -0.671875 -3.203125 C -0.785156 -3.328125 -0.914062 -3.421875 -1.0625 -3.484375 C -1.21875 -3.546875 -1.390625 -3.578125 -1.578125 -3.578125 C -1.773438 -3.578125 -1.945312 -3.539062 -2.09375 -3.46875 C -2.238281 -3.40625 -2.359375 -3.3125 -2.453125 -3.1875 C -2.554688 -3.070312 -2.632812 -2.929688 -2.6875 -2.765625 C -2.738281 -2.597656 -2.765625 -2.421875 -2.765625 -2.234375 Z M -5.203125 -2.203125 C -5.203125 -2.046875 -5.179688 -1.894531 -5.140625 -1.75 C -5.097656 -1.613281 -5.035156 -1.492188 -4.953125 -1.390625 C -4.867188 -1.285156 -4.757812 -1.203125 -4.625 -1.140625 C -4.5 -1.085938 -4.351562 -1.0625 -4.1875 -1.0625 C -4.007812 -1.0625 -3.859375 -1.09375 -3.734375 -1.15625 C -3.609375 -1.226562 -3.503906 -1.316406 -3.421875 -1.421875 C -3.347656 -1.535156 -3.289062 -1.664062 -3.25 -1.8125 C -3.207031 -1.957031 -3.1875 -2.109375 -3.1875 -2.265625 C -3.1875 -2.421875 -3.207031 -2.5625 -3.25 -2.6875 C -3.289062 -2.820312 -3.351562 -2.9375 -3.4375 -3.03125 C -3.53125 -3.132812 -3.644531 -3.210938 -3.78125 -3.265625 C -3.925781 -3.328125 -4.097656 -3.359375 -4.296875 -3.359375 C -4.585938 -3.359375 -4.8125 -3.265625 -4.96875 -3.078125 C -5.125 -2.890625 -5.203125 -2.597656 -5.203125 -2.203125 Z M -3.03125 -1.34375 C -3.113281 -1.195312 -3.191406 -1.070312 -3.265625 -0.96875 C -3.347656 -0.875 -3.429688 -0.796875 -3.515625 -0.734375 C -3.609375 -0.671875 -3.710938 -0.625 -3.828125 -0.59375 C -3.953125 -0.5625 -4.097656 -0.546875 -4.265625 -0.546875 C -4.453125 -0.546875 -4.628906 -0.585938 -4.796875 -0.671875 C -4.972656 -0.765625 -5.125 -0.878906 -5.25 -1.015625 C -5.375 -1.160156 -5.46875 -1.332031 -5.53125 -1.53125 C -5.601562 -1.726562 -5.640625 -1.9375 -5.640625 -2.15625 C -5.640625 -2.375 -5.613281 -2.582031 -5.5625 -2.78125 C -5.507812 -2.988281 -5.425781 -3.171875 -5.3125 -3.328125 C -5.195312 -3.492188 -5.050781 -3.625 -4.875 -3.71875 C -4.707031 -3.8125 -4.503906 -3.859375 -4.265625 -3.859375 C -3.972656 -3.859375 -3.722656 -3.796875 -3.515625 -3.671875 C -3.304688 -3.554688 -3.132812 -3.363281 -3 -3.09375 C -2.882812 -3.40625 -2.703125 -3.648438 -2.453125 -3.828125 C -2.210938 -4.003906 -1.925781 -4.09375 -1.59375 -4.09375 C -1.320312 -4.09375 -1.078125 -4.046875 -0.859375 -3.953125 C -0.648438 -3.859375 -0.472656 -3.722656 -0.328125 -3.546875 C -0.179688 -3.378906 -0.0703125 -3.171875 0 -2.921875 C 0.0703125 -2.679688 0.109375 -2.410156 0.109375 -2.109375 C 0.109375 -1.910156 0.0703125 -1.703125 0 -1.484375 C -0.0625 -1.273438 -0.160156 -1.085938 -0.296875 -0.921875 C -0.441406 -0.753906 -0.617188 -0.617188 -0.828125 -0.515625 C -1.035156 -0.410156 -1.273438 -0.359375 -1.546875 -0.359375 C -1.890625 -0.359375 -2.191406 -0.441406 -2.453125 -0.609375 C -2.710938 -0.773438 -2.90625 -1.019531 -3.03125 -1.34375 Z \"/>\n",
       "</symbol>\n",
       "<symbol overflow=\"visible\" id=\"glyph1-4\">\n",
       "<path style=\"stroke:none;\" d=\"M -4.09375 -4.734375 C -4.582031 -4.617188 -4.929688 -4.410156 -5.140625 -4.109375 C -5.347656 -3.804688 -5.453125 -3.410156 -5.453125 -2.921875 C -5.453125 -2.578125 -5.378906 -2.273438 -5.234375 -2.015625 C -5.097656 -1.765625 -4.910156 -1.554688 -4.671875 -1.390625 C -4.441406 -1.234375 -4.171875 -1.113281 -3.859375 -1.03125 C -3.554688 -0.957031 -3.234375 -0.921875 -2.890625 -0.921875 C -2.578125 -0.921875 -2.265625 -0.953125 -1.953125 -1.015625 C -1.640625 -1.085938 -1.363281 -1.203125 -1.125 -1.359375 C -0.882812 -1.515625 -0.6875 -1.722656 -0.53125 -1.984375 C -0.382812 -2.242188 -0.3125 -2.570312 -0.3125 -2.96875 C -0.3125 -3.21875 -0.347656 -3.441406 -0.421875 -3.640625 C -0.503906 -3.835938 -0.613281 -4.015625 -0.75 -4.171875 C -0.894531 -4.328125 -1.0625 -4.457031 -1.25 -4.5625 C -1.445312 -4.664062 -1.660156 -4.742188 -1.890625 -4.796875 L -1.890625 -5.359375 C -1.617188 -5.296875 -1.359375 -5.203125 -1.109375 -5.078125 C -0.859375 -4.953125 -0.640625 -4.789062 -0.453125 -4.59375 C -0.265625 -4.394531 -0.113281 -4.148438 0 -3.859375 C 0.101562 -3.578125 0.15625 -3.242188 0.15625 -2.859375 C 0.15625 -2.421875 0.0703125 -2.039062 -0.09375 -1.71875 C -0.257812 -1.40625 -0.476562 -1.148438 -0.75 -0.953125 C -1.03125 -0.753906 -1.351562 -0.609375 -1.71875 -0.515625 C -2.082031 -0.429688 -2.46875 -0.390625 -2.875 -0.390625 C -3.425781 -0.390625 -3.894531 -0.457031 -4.28125 -0.59375 C -4.664062 -0.726562 -4.976562 -0.914062 -5.21875 -1.15625 C -5.457031 -1.394531 -5.628906 -1.675781 -5.734375 -2 C -5.847656 -2.320312 -5.90625 -2.675781 -5.90625 -3.0625 C -5.90625 -3.351562 -5.867188 -3.625 -5.796875 -3.875 C -5.722656 -4.132812 -5.609375 -4.359375 -5.453125 -4.546875 C -5.296875 -4.742188 -5.101562 -4.90625 -4.875 -5.03125 C -4.644531 -5.15625 -4.382812 -5.242188 -4.09375 -5.296875 Z \"/>\n",
       "</symbol>\n",
       "<symbol overflow=\"visible\" id=\"glyph1-5\">\n",
       "<path style=\"stroke:none;\" d=\"M -2.0625 -1.109375 C -1.820312 -1.109375 -1.597656 -1.140625 -1.390625 -1.203125 C -1.179688 -1.265625 -0.992188 -1.351562 -0.828125 -1.46875 C -0.671875 -1.59375 -0.546875 -1.742188 -0.453125 -1.921875 C -0.359375 -2.097656 -0.3125 -2.296875 -0.3125 -2.515625 C -0.3125 -2.753906 -0.359375 -2.96875 -0.453125 -3.15625 C -0.554688 -3.34375 -0.691406 -3.492188 -0.859375 -3.609375 C -1.035156 -3.722656 -1.238281 -3.804688 -1.46875 -3.859375 C -1.695312 -3.910156 -1.941406 -3.929688 -2.203125 -3.921875 C -2.460938 -3.921875 -2.691406 -3.882812 -2.890625 -3.8125 C -3.085938 -3.75 -3.253906 -3.648438 -3.390625 -3.515625 C -3.535156 -3.390625 -3.644531 -3.238281 -3.71875 -3.0625 C -3.789062 -2.894531 -3.828125 -2.710938 -3.828125 -2.515625 C -3.828125 -2.285156 -3.78125 -2.082031 -3.6875 -1.90625 C -3.59375 -1.726562 -3.46875 -1.582031 -3.3125 -1.46875 C -3.15625 -1.351562 -2.96875 -1.265625 -2.75 -1.203125 C -2.539062 -1.140625 -2.3125 -1.109375 -2.0625 -1.109375 Z M 1.625 -1.109375 L 1.625 -0.625 L -4.140625 -0.625 L -4.140625 -1.109375 L -3.421875 -1.109375 L -3.421875 -1.125 C -3.546875 -1.195312 -3.660156 -1.285156 -3.765625 -1.390625 C -3.878906 -1.503906 -3.96875 -1.625 -4.03125 -1.75 C -4.101562 -1.882812 -4.15625 -2.019531 -4.1875 -2.15625 C -4.226562 -2.300781 -4.25 -2.4375 -4.25 -2.5625 C -4.25 -2.90625 -4.191406 -3.191406 -4.078125 -3.421875 C -3.972656 -3.660156 -3.820312 -3.851562 -3.625 -4 C -3.4375 -4.15625 -3.207031 -4.265625 -2.9375 -4.328125 C -2.664062 -4.398438 -2.378906 -4.4375 -2.078125 -4.4375 C -1.785156 -4.4375 -1.503906 -4.398438 -1.234375 -4.328125 C -0.972656 -4.253906 -0.742188 -4.140625 -0.546875 -3.984375 C -0.347656 -3.835938 -0.1875 -3.644531 -0.0625 -3.40625 C 0.0507812 -3.175781 0.109375 -2.90625 0.109375 -2.59375 C 0.109375 -2.300781 0.046875 -2.019531 -0.078125 -1.75 C -0.210938 -1.476562 -0.40625 -1.265625 -0.65625 -1.109375 Z \"/>\n",
       "</symbol>\n",
       "<symbol overflow=\"visible\" id=\"glyph1-6\">\n",
       "<path style=\"stroke:none;\" d=\"M -2.328125 -2.34375 L -1.828125 -2.34375 L -1.828125 -0.3125 L -2.328125 -0.3125 Z \"/>\n",
       "</symbol>\n",
       "<symbol overflow=\"visible\" id=\"glyph1-7\">\n",
       "<path style=\"stroke:none;\" d=\"M -1.46875 -0.796875 C -1.082031 -0.847656 -0.789062 -1 -0.59375 -1.25 C -0.40625 -1.5 -0.3125 -1.8125 -0.3125 -2.1875 C -0.3125 -2.394531 -0.347656 -2.582031 -0.421875 -2.75 C -0.503906 -2.914062 -0.609375 -3.054688 -0.734375 -3.171875 C -0.867188 -3.296875 -1.019531 -3.382812 -1.1875 -3.4375 C -1.363281 -3.5 -1.554688 -3.53125 -1.765625 -3.53125 C -1.972656 -3.53125 -2.160156 -3.5 -2.328125 -3.4375 C -2.503906 -3.375 -2.65625 -3.28125 -2.78125 -3.15625 C -2.914062 -3.03125 -3.015625 -2.878906 -3.078125 -2.703125 C -3.148438 -2.535156 -3.1875 -2.347656 -3.1875 -2.140625 C -3.1875 -1.878906 -3.140625 -1.644531 -3.046875 -1.4375 C -2.953125 -1.238281 -2.804688 -1.0625 -2.609375 -0.90625 L -2.65625 -0.484375 L -5.578125 -0.9375 L -5.578125 -3.75 L -5.15625 -3.75 L -5.15625 -1.375 L -3.25 -1.03125 C -3.320312 -1.132812 -3.378906 -1.234375 -3.421875 -1.328125 C -3.472656 -1.421875 -3.515625 -1.515625 -3.546875 -1.609375 C -3.578125 -1.710938 -3.597656 -1.816406 -3.609375 -1.921875 C -3.617188 -2.023438 -3.625 -2.140625 -3.625 -2.265625 C -3.625 -2.515625 -3.582031 -2.75 -3.5 -2.96875 C -3.414062 -3.1875 -3.289062 -3.375 -3.125 -3.53125 C -2.96875 -3.695312 -2.769531 -3.820312 -2.53125 -3.90625 C -2.300781 -4 -2.046875 -4.046875 -1.765625 -4.046875 C -1.460938 -4.046875 -1.191406 -3.992188 -0.953125 -3.890625 C -0.722656 -3.796875 -0.53125 -3.664062 -0.375 -3.5 C -0.21875 -3.332031 -0.0976562 -3.140625 -0.015625 -2.921875 C 0.0664062 -2.710938 0.109375 -2.492188 0.109375 -2.265625 C 0.109375 -1.992188 0.0820312 -1.742188 0.03125 -1.515625 C -0.0195312 -1.285156 -0.109375 -1.082031 -0.234375 -0.90625 C -0.359375 -0.726562 -0.519531 -0.582031 -0.71875 -0.46875 C -0.925781 -0.363281 -1.175781 -0.300781 -1.46875 -0.28125 Z \"/>\n",
       "</symbol>\n",
       "<symbol overflow=\"visible\" id=\"glyph1-8\">\n",
       "<path style=\"stroke:none;\" d=\"M -3.140625 -1.765625 C -3.140625 -2.003906 -3.148438 -2.222656 -3.171875 -2.421875 C -3.203125 -2.617188 -3.257812 -2.785156 -3.34375 -2.921875 C -3.425781 -3.066406 -3.535156 -3.179688 -3.671875 -3.265625 C -3.816406 -3.347656 -4 -3.390625 -4.21875 -3.390625 C -4.394531 -3.390625 -4.546875 -3.351562 -4.671875 -3.28125 C -4.796875 -3.21875 -4.894531 -3.128906 -4.96875 -3.015625 C -5.050781 -2.910156 -5.109375 -2.785156 -5.140625 -2.640625 C -5.179688 -2.492188 -5.203125 -2.34375 -5.203125 -2.1875 C -5.203125 -2 -5.171875 -1.832031 -5.109375 -1.6875 C -5.054688 -1.539062 -4.972656 -1.414062 -4.859375 -1.3125 C -4.753906 -1.207031 -4.628906 -1.125 -4.484375 -1.0625 C -4.335938 -1 -4.175781 -0.96875 -4 -0.96875 L -4 -0.46875 C -4.257812 -0.46875 -4.488281 -0.507812 -4.6875 -0.59375 C -4.894531 -0.6875 -5.085938 -0.828125 -5.265625 -1.015625 C -5.421875 -1.179688 -5.519531 -1.375 -5.5625 -1.59375 C -5.613281 -1.820312 -5.640625 -2.050781 -5.640625 -2.28125 C -5.640625 -2.507812 -5.609375 -2.71875 -5.546875 -2.90625 C -5.492188 -3.101562 -5.410156 -3.273438 -5.296875 -3.421875 C -5.179688 -3.566406 -5.035156 -3.679688 -4.859375 -3.765625 C -4.679688 -3.847656 -4.476562 -3.890625 -4.25 -3.890625 C -3.957031 -3.890625 -3.703125 -3.820312 -3.484375 -3.6875 C -3.273438 -3.5625 -3.109375 -3.363281 -2.984375 -3.09375 C -2.921875 -3.300781 -2.835938 -3.46875 -2.734375 -3.59375 C -2.628906 -3.726562 -2.515625 -3.832031 -2.390625 -3.90625 C -2.265625 -3.976562 -2.132812 -4.023438 -2 -4.046875 C -1.863281 -4.078125 -1.726562 -4.09375 -1.59375 -4.09375 C -1.363281 -4.09375 -1.144531 -4.050781 -0.9375 -3.96875 C -0.738281 -3.894531 -0.5625 -3.78125 -0.40625 -3.625 C -0.25 -3.46875 -0.125 -3.273438 -0.03125 -3.046875 C 0.0625 -2.828125 0.109375 -2.570312 0.109375 -2.28125 C 0.109375 -1.957031 0.078125 -1.675781 0.015625 -1.4375 C -0.0351562 -1.195312 -0.128906 -0.992188 -0.265625 -0.828125 C -0.398438 -0.671875 -0.578125 -0.546875 -0.796875 -0.453125 C -1.023438 -0.359375 -1.300781 -0.296875 -1.625 -0.265625 L -1.625 -0.78125 C -1.195312 -0.78125 -0.867188 -0.910156 -0.640625 -1.171875 C -0.421875 -1.429688 -0.3125 -1.769531 -0.3125 -2.1875 C -0.3125 -2.382812 -0.347656 -2.570312 -0.421875 -2.75 C -0.492188 -2.925781 -0.585938 -3.078125 -0.703125 -3.203125 C -0.816406 -3.328125 -0.953125 -3.421875 -1.109375 -3.484375 C -1.265625 -3.554688 -1.425781 -3.585938 -1.59375 -3.578125 C -1.820312 -3.566406 -2.007812 -3.515625 -2.15625 -3.421875 C -2.3125 -3.328125 -2.429688 -3.195312 -2.515625 -3.03125 C -2.609375 -2.875 -2.671875 -2.6875 -2.703125 -2.46875 C -2.734375 -2.25 -2.738281 -2.015625 -2.71875 -1.765625 Z \"/>\n",
       "</symbol>\n",
       "<symbol overflow=\"visible\" id=\"glyph1-9\">\n",
       "<path style=\"stroke:none;\" d=\"M -4.1875 -2.421875 L -4.1875 -0.953125 L -4.53125 -0.953125 C -4.539062 -1.171875 -4.554688 -1.363281 -4.578125 -1.53125 C -4.609375 -1.707031 -4.660156 -1.859375 -4.734375 -1.984375 C -4.816406 -2.117188 -4.925781 -2.226562 -5.0625 -2.3125 C -5.207031 -2.40625 -5.398438 -2.472656 -5.640625 -2.515625 L -5.640625 -2.921875 L 0 -2.921875 L 0 -2.421875 Z \"/>\n",
       "</symbol>\n",
       "<symbol overflow=\"visible\" id=\"glyph1-10\">\n",
       "<path style=\"stroke:none;\" d=\"M -2.09375 -1.109375 C -1.84375 -1.109375 -1.609375 -1.140625 -1.390625 -1.203125 C -1.171875 -1.265625 -0.984375 -1.351562 -0.828125 -1.46875 C -0.671875 -1.582031 -0.546875 -1.726562 -0.453125 -1.90625 C -0.359375 -2.082031 -0.3125 -2.285156 -0.3125 -2.515625 C -0.3125 -2.710938 -0.347656 -2.894531 -0.421875 -3.0625 C -0.492188 -3.238281 -0.597656 -3.390625 -0.734375 -3.515625 C -0.878906 -3.648438 -1.050781 -3.75 -1.25 -3.8125 C -1.445312 -3.882812 -1.675781 -3.921875 -1.9375 -3.921875 C -2.207031 -3.929688 -2.453125 -3.910156 -2.671875 -3.859375 C -2.898438 -3.804688 -3.097656 -3.722656 -3.265625 -3.609375 C -3.441406 -3.492188 -3.578125 -3.34375 -3.671875 -3.15625 C -3.773438 -2.96875 -3.828125 -2.753906 -3.828125 -2.515625 C -3.828125 -2.296875 -3.78125 -2.097656 -3.6875 -1.921875 C -3.59375 -1.742188 -3.46875 -1.59375 -3.3125 -1.46875 C -3.15625 -1.351562 -2.96875 -1.265625 -2.75 -1.203125 C -2.539062 -1.140625 -2.320312 -1.109375 -2.09375 -1.109375 Z M 0 -1.109375 L 0 -0.625 L -5.765625 -0.625 L -5.765625 -1.109375 L -3.484375 -1.109375 C -3.734375 -1.265625 -3.921875 -1.476562 -4.046875 -1.75 C -4.179688 -2.019531 -4.25 -2.300781 -4.25 -2.59375 C -4.25 -2.90625 -4.1875 -3.175781 -4.0625 -3.40625 C -3.945312 -3.644531 -3.789062 -3.835938 -3.59375 -3.984375 C -3.394531 -4.140625 -3.160156 -4.253906 -2.890625 -4.328125 C -2.628906 -4.398438 -2.351562 -4.4375 -2.0625 -4.4375 C -1.757812 -4.4375 -1.472656 -4.398438 -1.203125 -4.328125 C -0.941406 -4.265625 -0.710938 -4.15625 -0.515625 -4 C -0.316406 -3.851562 -0.160156 -3.660156 -0.046875 -3.421875 C 0.0546875 -3.191406 0.109375 -2.90625 0.109375 -2.5625 C 0.109375 -2.4375 0.0859375 -2.300781 0.046875 -2.15625 C 0.015625 -2.019531 -0.03125 -1.882812 -0.09375 -1.75 C -0.164062 -1.625 -0.253906 -1.503906 -0.359375 -1.390625 C -0.460938 -1.285156 -0.585938 -1.195312 -0.734375 -1.125 L -0.734375 -1.109375 Z \"/>\n",
       "</symbol>\n",
       "<symbol overflow=\"visible\" id=\"glyph1-11\">\n",
       "<path style=\"stroke:none;\" d=\"M 0 -0.640625 L -4.140625 -0.640625 L -4.140625 -1.125 L 0 -1.125 Z M -5.046875 -0.625 L -5.765625 -0.625 L -5.765625 -1.15625 L -5.046875 -1.15625 Z \"/>\n",
       "</symbol>\n",
       "<symbol overflow=\"visible\" id=\"glyph1-12\">\n",
       "<path style=\"stroke:none;\" d=\"M -2.84375 -3.515625 C -3.144531 -3.429688 -3.382812 -3.285156 -3.5625 -3.078125 C -3.738281 -2.867188 -3.828125 -2.601562 -3.828125 -2.28125 C -3.828125 -2.03125 -3.773438 -1.816406 -3.671875 -1.640625 C -3.566406 -1.472656 -3.429688 -1.332031 -3.265625 -1.21875 C -3.097656 -1.101562 -2.910156 -1.019531 -2.703125 -0.96875 C -2.492188 -0.914062 -2.28125 -0.890625 -2.0625 -0.890625 C -1.84375 -0.890625 -1.628906 -0.914062 -1.421875 -0.96875 C -1.210938 -1.019531 -1.023438 -1.097656 -0.859375 -1.203125 C -0.691406 -1.316406 -0.554688 -1.460938 -0.453125 -1.640625 C -0.359375 -1.816406 -0.3125 -2.03125 -0.3125 -2.28125 C -0.3125 -2.632812 -0.410156 -2.921875 -0.609375 -3.140625 C -0.804688 -3.359375 -1.082031 -3.492188 -1.4375 -3.546875 L -1.4375 -4.0625 C -1.207031 -4.019531 -0.992188 -3.953125 -0.796875 -3.859375 C -0.609375 -3.765625 -0.445312 -3.644531 -0.3125 -3.5 C -0.175781 -3.351562 -0.0703125 -3.175781 0 -2.96875 C 0.0703125 -2.769531 0.109375 -2.539062 0.109375 -2.28125 C 0.109375 -1.945312 0.0546875 -1.660156 -0.046875 -1.421875 C -0.160156 -1.179688 -0.316406 -0.984375 -0.515625 -0.828125 C -0.710938 -0.671875 -0.941406 -0.554688 -1.203125 -0.484375 C -1.472656 -0.410156 -1.757812 -0.375 -2.0625 -0.375 C -2.351562 -0.375 -2.628906 -0.414062 -2.890625 -0.5 C -3.148438 -0.582031 -3.378906 -0.703125 -3.578125 -0.859375 C -3.785156 -1.023438 -3.945312 -1.222656 -4.0625 -1.453125 C -4.1875 -1.691406 -4.25 -1.96875 -4.25 -2.28125 C -4.25 -2.757812 -4.132812 -3.144531 -3.90625 -3.4375 C -3.675781 -3.738281 -3.320312 -3.925781 -2.84375 -4 Z \"/>\n",
       "</symbol>\n",
       "<symbol overflow=\"visible\" id=\"glyph1-13\">\n",
       "<path style=\"stroke:none;\" d=\"M 0 -0.8125 L -0.703125 -0.8125 L -0.703125 -1.40625 L 0 -1.40625 Z \"/>\n",
       "</symbol>\n",
       "<symbol overflow=\"visible\" id=\"glyph1-14\">\n",
       "<path style=\"stroke:none;\" d=\"M -5.578125 -0.46875 L -5.578125 -4.0625 L -5.109375 -4.0625 C -4.648438 -3.65625 -4.175781 -3.3125 -3.6875 -3.03125 C -3.207031 -2.75 -2.738281 -2.515625 -2.28125 -2.328125 C -1.820312 -2.148438 -1.394531 -2.015625 -1 -1.921875 C -0.613281 -1.835938 -0.28125 -1.789062 0 -1.78125 L 0 -1.21875 C -0.40625 -1.238281 -0.832031 -1.316406 -1.28125 -1.453125 C -1.738281 -1.585938 -2.191406 -1.753906 -2.640625 -1.953125 C -3.085938 -2.160156 -3.519531 -2.394531 -3.9375 -2.65625 C -4.363281 -2.914062 -4.742188 -3.179688 -5.078125 -3.453125 L -5.078125 -0.46875 Z \"/>\n",
       "</symbol>\n",
       "<symbol overflow=\"visible\" id=\"glyph1-15\">\n",
       "<path style=\"stroke:none;\" d=\"M -1.234375 -0.9375 C -0.929688 -1 -0.703125 -1.117188 -0.546875 -1.296875 C -0.390625 -1.472656 -0.3125 -1.722656 -0.3125 -2.046875 C -0.3125 -2.378906 -0.394531 -2.644531 -0.5625 -2.84375 C -0.726562 -3.039062 -0.9375 -3.191406 -1.1875 -3.296875 C -1.4375 -3.410156 -1.707031 -3.488281 -2 -3.53125 C -2.289062 -3.570312 -2.566406 -3.597656 -2.828125 -3.609375 L -2.84375 -3.59375 C -2.550781 -3.425781 -2.328125 -3.210938 -2.171875 -2.953125 C -2.023438 -2.703125 -1.953125 -2.410156 -1.953125 -2.078125 C -1.953125 -1.804688 -1.992188 -1.5625 -2.078125 -1.34375 C -2.171875 -1.132812 -2.296875 -0.953125 -2.453125 -0.796875 C -2.617188 -0.648438 -2.8125 -0.535156 -3.03125 -0.453125 C -3.257812 -0.367188 -3.507812 -0.328125 -3.78125 -0.328125 C -4.039062 -0.328125 -4.285156 -0.363281 -4.515625 -0.4375 C -4.742188 -0.507812 -4.941406 -0.617188 -5.109375 -0.765625 C -5.273438 -0.921875 -5.40625 -1.113281 -5.5 -1.34375 C -5.59375 -1.570312 -5.640625 -1.835938 -5.640625 -2.140625 C -5.640625 -2.523438 -5.5625 -2.84375 -5.40625 -3.09375 C -5.257812 -3.34375 -5.054688 -3.539062 -4.796875 -3.6875 C -4.546875 -3.84375 -4.25 -3.953125 -3.90625 -4.015625 C -3.5625 -4.085938 -3.191406 -4.125 -2.796875 -4.125 C -2.316406 -4.125 -1.894531 -4.070312 -1.53125 -3.96875 C -1.164062 -3.863281 -0.859375 -3.71875 -0.609375 -3.53125 C -0.367188 -3.351562 -0.1875 -3.140625 -0.0625 -2.890625 C 0.0507812 -2.640625 0.109375 -2.363281 0.109375 -2.0625 C 0.109375 -1.84375 0.0820312 -1.632812 0.03125 -1.4375 C -0.0195312 -1.25 -0.101562 -1.082031 -0.21875 -0.9375 C -0.332031 -0.800781 -0.472656 -0.6875 -0.640625 -0.59375 C -0.804688 -0.5 -1.003906 -0.441406 -1.234375 -0.421875 Z M -5.203125 -2.140625 C -5.191406 -1.710938 -5.054688 -1.390625 -4.796875 -1.171875 C -4.546875 -0.953125 -4.203125 -0.84375 -3.765625 -0.84375 C -3.328125 -0.84375 -2.988281 -0.953125 -2.75 -1.171875 C -2.507812 -1.398438 -2.390625 -1.722656 -2.390625 -2.140625 C -2.390625 -2.335938 -2.425781 -2.515625 -2.5 -2.671875 C -2.570312 -2.828125 -2.671875 -2.957031 -2.796875 -3.0625 C -2.929688 -3.175781 -3.082031 -3.257812 -3.25 -3.3125 C -3.414062 -3.375 -3.597656 -3.40625 -3.796875 -3.40625 C -4.210938 -3.40625 -4.546875 -3.289062 -4.796875 -3.0625 C -5.054688 -2.84375 -5.191406 -2.535156 -5.203125 -2.140625 Z \"/>\n",
       "</symbol>\n",
       "<symbol overflow=\"visible\" id=\"glyph1-16\">\n",
       "<path style=\"stroke:none;\" d=\"M 0 -1.078125 L 0 -0.59375 L -4.140625 -0.59375 L -4.140625 -1.078125 L -3.375 -1.078125 L -3.375 -1.09375 C -3.695312 -1.226562 -3.921875 -1.398438 -4.046875 -1.609375 C -4.179688 -1.816406 -4.25 -2.097656 -4.25 -2.453125 L -3.734375 -2.453125 C -3.742188 -2.179688 -3.703125 -1.957031 -3.609375 -1.78125 C -3.515625 -1.601562 -3.390625 -1.460938 -3.234375 -1.359375 C -3.085938 -1.253906 -2.90625 -1.179688 -2.6875 -1.140625 C -2.476562 -1.097656 -2.257812 -1.078125 -2.03125 -1.078125 Z \"/>\n",
       "</symbol>\n",
       "<symbol overflow=\"visible\" id=\"glyph1-17\">\n",
       "<path style=\"stroke:none;\" d=\"M -1.296875 -0.859375 C -0.941406 -0.929688 -0.6875 -1.0625 -0.53125 -1.25 C -0.382812 -1.445312 -0.3125 -1.726562 -0.3125 -2.09375 C -0.3125 -2.269531 -0.332031 -2.421875 -0.375 -2.546875 C -0.425781 -2.679688 -0.484375 -2.785156 -0.546875 -2.859375 C -0.617188 -2.941406 -0.703125 -3.003906 -0.796875 -3.046875 C -0.890625 -3.097656 -0.988281 -3.125 -1.09375 -3.125 C -1.289062 -3.125 -1.4375 -3.054688 -1.53125 -2.921875 C -1.632812 -2.796875 -1.710938 -2.632812 -1.765625 -2.4375 C -1.828125 -2.238281 -1.875 -2.023438 -1.90625 -1.796875 C -1.945312 -1.566406 -2.007812 -1.351562 -2.09375 -1.15625 C -2.175781 -0.957031 -2.289062 -0.789062 -2.4375 -0.65625 C -2.582031 -0.53125 -2.796875 -0.46875 -3.078125 -0.46875 C -3.421875 -0.46875 -3.703125 -0.59375 -3.921875 -0.84375 C -4.140625 -1.09375 -4.25 -1.453125 -4.25 -1.921875 C -4.25 -2.367188 -4.148438 -2.734375 -3.953125 -3.015625 C -3.753906 -3.296875 -3.421875 -3.460938 -2.953125 -3.515625 L -2.953125 -3.03125 C -3.273438 -2.988281 -3.5 -2.867188 -3.625 -2.671875 C -3.757812 -2.472656 -3.828125 -2.21875 -3.828125 -1.90625 C -3.828125 -1.601562 -3.757812 -1.367188 -3.625 -1.203125 C -3.5 -1.046875 -3.328125 -0.96875 -3.109375 -0.96875 C -2.921875 -0.96875 -2.773438 -1.035156 -2.671875 -1.171875 C -2.578125 -1.304688 -2.5 -1.46875 -2.4375 -1.65625 C -2.382812 -1.851562 -2.332031 -2.066406 -2.28125 -2.296875 C -2.226562 -2.523438 -2.15625 -2.738281 -2.0625 -2.9375 C -1.976562 -3.132812 -1.863281 -3.296875 -1.71875 -3.421875 C -1.570312 -3.554688 -1.363281 -3.625 -1.09375 -3.625 C -0.894531 -3.625 -0.71875 -3.582031 -0.5625 -3.5 C -0.414062 -3.414062 -0.289062 -3.296875 -0.1875 -3.140625 C -0.09375 -2.992188 -0.0195312 -2.816406 0.03125 -2.609375 C 0.0820312 -2.410156 0.109375 -2.1875 0.109375 -1.9375 C 0.109375 -1.695312 0.0703125 -1.484375 0 -1.296875 C -0.0703125 -1.109375 -0.171875 -0.945312 -0.296875 -0.8125 C -0.421875 -0.675781 -0.566406 -0.570312 -0.734375 -0.5 C -0.910156 -0.425781 -1.097656 -0.382812 -1.296875 -0.375 Z \"/>\n",
       "</symbol>\n",
       "<symbol overflow=\"visible\" id=\"glyph1-18\">\n",
       "<path style=\"stroke:none;\" d=\"M -2.09375 -3.78125 C -2.320312 -3.78125 -2.539062 -3.742188 -2.75 -3.671875 C -2.96875 -3.609375 -3.15625 -3.515625 -3.3125 -3.390625 C -3.46875 -3.273438 -3.59375 -3.128906 -3.6875 -2.953125 C -3.78125 -2.785156 -3.828125 -2.59375 -3.828125 -2.375 C -3.828125 -2.125 -3.773438 -1.90625 -3.671875 -1.71875 C -3.578125 -1.539062 -3.441406 -1.394531 -3.265625 -1.28125 C -3.097656 -1.164062 -2.898438 -1.078125 -2.671875 -1.015625 C -2.453125 -0.960938 -2.207031 -0.941406 -1.9375 -0.953125 C -1.675781 -0.953125 -1.445312 -0.988281 -1.25 -1.0625 C -1.050781 -1.132812 -0.878906 -1.234375 -0.734375 -1.359375 C -0.597656 -1.492188 -0.492188 -1.644531 -0.421875 -1.8125 C -0.347656 -1.988281 -0.3125 -2.175781 -0.3125 -2.375 C -0.3125 -2.601562 -0.359375 -2.800781 -0.453125 -2.96875 C -0.546875 -3.144531 -0.671875 -3.289062 -0.828125 -3.40625 C -0.984375 -3.53125 -1.171875 -3.625 -1.390625 -3.6875 C -1.609375 -3.75 -1.84375 -3.78125 -2.09375 -3.78125 Z M -4.140625 -3.78125 L -4.140625 -4.25 L 1.625 -4.25 L 1.625 -3.78125 L -0.65625 -3.78125 C -0.40625 -3.625 -0.210938 -3.410156 -0.078125 -3.140625 C 0.046875 -2.867188 0.109375 -2.585938 0.109375 -2.296875 C 0.109375 -1.984375 0.0507812 -1.707031 -0.0625 -1.46875 C -0.1875 -1.238281 -0.347656 -1.046875 -0.546875 -0.890625 C -0.742188 -0.742188 -0.972656 -0.632812 -1.234375 -0.5625 C -1.503906 -0.488281 -1.785156 -0.453125 -2.078125 -0.453125 C -2.378906 -0.453125 -2.664062 -0.484375 -2.9375 -0.546875 C -3.207031 -0.617188 -3.4375 -0.726562 -3.625 -0.875 C -3.820312 -1.03125 -3.972656 -1.222656 -4.078125 -1.453125 C -4.191406 -1.691406 -4.25 -1.976562 -4.25 -2.3125 C -4.25 -2.445312 -4.226562 -2.582031 -4.1875 -2.71875 C -4.15625 -2.863281 -4.101562 -3 -4.03125 -3.125 C -3.96875 -3.257812 -3.878906 -3.378906 -3.765625 -3.484375 C -3.660156 -3.597656 -3.546875 -3.691406 -3.421875 -3.765625 L -3.421875 -3.78125 Z \"/>\n",
       "</symbol>\n",
       "</g>\n",
       "</defs>\n",
       "<g id=\"surface26\">\n",
       "<rect x=\"0\" y=\"0\" width=\"504\" height=\"504\" style=\"fill:rgb(100%,100%,100%);fill-opacity:1;stroke:none;\"/>\n",
       "<path style=\"fill:none;stroke-width:0.75;stroke-linecap:round;stroke-linejoin:round;stroke:rgb(0%,0%,0%);stroke-opacity:1;stroke-miterlimit:10;\" d=\"M 58.28125 45.765625 L 98.40625 99.828125 \"/>\n",
       "<path style=\"fill:none;stroke-width:0.75;stroke-linecap:round;stroke-linejoin:round;stroke:rgb(0%,0%,0%);stroke-opacity:1;stroke-miterlimit:10;\" d=\"M 105.816406 104.929688 L 142.457031 115.230469 \"/>\n",
       "<path style=\"fill:none;stroke-width:0.75;stroke-linecap:round;stroke-linejoin:round;stroke:rgb(0%,0%,0%);stroke-opacity:1;stroke-miterlimit:10;\" d=\"M 151.78125 116.519531 L 188.066406 116.542969 \"/>\n",
       "<path style=\"fill:none;stroke-width:0.75;stroke-linecap:round;stroke-linejoin:round;stroke:rgb(0%,0%,0%);stroke-opacity:1;stroke-miterlimit:10;\" d=\"M 197.570312 116.546875 L 233.855469 116.542969 \"/>\n",
       "<path style=\"fill:none;stroke-width:0.75;stroke-linecap:round;stroke-linejoin:round;stroke:rgb(0%,0%,0%);stroke-opacity:1;stroke-miterlimit:10;\" d=\"M 243.359375 116.542969 L 279.648438 116.535156 \"/>\n",
       "<path style=\"fill:none;stroke-width:0.75;stroke-linecap:round;stroke-linejoin:round;stroke:rgb(0%,0%,0%);stroke-opacity:1;stroke-miterlimit:10;\" d=\"M 289.152344 116.535156 L 325.4375 116.523438 \"/>\n",
       "<path style=\"fill:none;stroke-width:0.75;stroke-linecap:round;stroke-linejoin:round;stroke:rgb(0%,0%,0%);stroke-opacity:1;stroke-miterlimit:10;\" d=\"M 334.941406 116.519531 L 371.226562 116.507812 \"/>\n",
       "<path style=\"fill:none;stroke-width:0.75;stroke-linecap:round;stroke-linejoin:round;stroke:rgb(0%,0%,0%);stroke-opacity:1;stroke-miterlimit:10;\" d=\"M 380.730469 116.503906 L 417.015625 116.492188 \"/>\n",
       "<path style=\"fill:none;stroke-width:0.75;stroke-linecap:round;stroke-linejoin:round;stroke:rgb(0%,0%,0%);stroke-opacity:1;stroke-miterlimit:10;\" d=\"M 426.519531 116.488281 L 462.804688 116.476562 \"/>\n",
       "<path style=\"fill:none;stroke-width:0.75;stroke-linecap:round;stroke-linejoin:round;stroke:rgb(0%,0%,0%);stroke-opacity:1;stroke-miterlimit:10;\" d=\"M 57.234375 41.949219 C 57.234375 44.328125 53.667969 44.328125 53.667969 41.949219 C 53.667969 39.574219 57.234375 39.574219 57.234375 41.949219 \"/>\n",
       "<path style=\"fill:none;stroke-width:0.75;stroke-linecap:round;stroke-linejoin:round;stroke:rgb(0%,0%,0%);stroke-opacity:1;stroke-miterlimit:10;\" d=\"M 103.023438 103.644531 C 103.023438 106.019531 99.457031 106.019531 99.457031 103.644531 C 99.457031 101.269531 103.023438 101.269531 103.023438 103.644531 \"/>\n",
       "<path style=\"fill:none;stroke-width:0.75;stroke-linecap:round;stroke-linejoin:round;stroke:rgb(0%,0%,0%);stroke-opacity:1;stroke-miterlimit:10;\" d=\"M 148.8125 116.515625 C 148.8125 118.894531 145.246094 118.894531 145.246094 116.515625 C 145.246094 114.140625 148.8125 114.140625 148.8125 116.515625 \"/>\n",
       "<path style=\"fill:none;stroke-width:0.75;stroke-linecap:round;stroke-linejoin:round;stroke:rgb(0%,0%,0%);stroke-opacity:1;stroke-miterlimit:10;\" d=\"M 194.601562 116.546875 C 194.601562 118.921875 191.039062 118.921875 191.039062 116.546875 C 191.039062 114.167969 194.601562 114.167969 194.601562 116.546875 \"/>\n",
       "<path style=\"fill:none;stroke-width:0.75;stroke-linecap:round;stroke-linejoin:round;stroke:rgb(0%,0%,0%);stroke-opacity:1;stroke-miterlimit:10;\" d=\"M 240.390625 116.542969 C 240.390625 118.921875 236.828125 118.921875 236.828125 116.542969 C 236.828125 114.167969 240.390625 114.167969 240.390625 116.542969 \"/>\n",
       "<path style=\"fill:none;stroke-width:0.75;stroke-linecap:round;stroke-linejoin:round;stroke:rgb(0%,0%,0%);stroke-opacity:1;stroke-miterlimit:10;\" d=\"M 286.179688 116.535156 C 286.179688 118.910156 282.617188 118.910156 282.617188 116.535156 C 282.617188 114.160156 286.179688 114.160156 286.179688 116.535156 \"/>\n",
       "<path style=\"fill:none;stroke-width:0.75;stroke-linecap:round;stroke-linejoin:round;stroke:rgb(0%,0%,0%);stroke-opacity:1;stroke-miterlimit:10;\" d=\"M 331.96875 116.523438 C 331.96875 118.898438 328.40625 118.898438 328.40625 116.523438 C 328.40625 114.144531 331.96875 114.144531 331.96875 116.523438 \"/>\n",
       "<path style=\"fill:none;stroke-width:0.75;stroke-linecap:round;stroke-linejoin:round;stroke:rgb(0%,0%,0%);stroke-opacity:1;stroke-miterlimit:10;\" d=\"M 377.761719 116.507812 C 377.761719 118.882812 374.195312 118.882812 374.195312 116.507812 C 374.195312 114.128906 377.761719 114.128906 377.761719 116.507812 \"/>\n",
       "<path style=\"fill:none;stroke-width:0.75;stroke-linecap:round;stroke-linejoin:round;stroke:rgb(0%,0%,0%);stroke-opacity:1;stroke-miterlimit:10;\" d=\"M 423.550781 116.492188 C 423.550781 118.867188 419.984375 118.867188 419.984375 116.492188 C 419.984375 114.113281 423.550781 114.113281 423.550781 116.492188 \"/>\n",
       "<path style=\"fill:none;stroke-width:0.75;stroke-linecap:round;stroke-linejoin:round;stroke:rgb(0%,0%,0%);stroke-opacity:1;stroke-miterlimit:10;\" d=\"M 469.339844 116.476562 C 469.339844 118.851562 465.773438 118.851562 465.773438 116.476562 C 465.773438 114.097656 469.339844 114.097656 469.339844 116.476562 \"/>\n",
       "<path style=\"fill:none;stroke-width:0.75;stroke-linecap:round;stroke-linejoin:round;stroke:rgb(0%,0%,0%);stroke-opacity:1;stroke-miterlimit:10;\" d=\"M 101.242188 119.53125 L 467.558594 119.53125 \"/>\n",
       "<path style=\"fill:none;stroke-width:0.75;stroke-linecap:round;stroke-linejoin:round;stroke:rgb(0%,0%,0%);stroke-opacity:1;stroke-miterlimit:10;\" d=\"M 101.242188 119.53125 L 101.242188 124.28125 \"/>\n",
       "<path style=\"fill:none;stroke-width:0.75;stroke-linecap:round;stroke-linejoin:round;stroke:rgb(0%,0%,0%);stroke-opacity:1;stroke-miterlimit:10;\" d=\"M 192.820312 119.53125 L 192.820312 124.28125 \"/>\n",
       "<path style=\"fill:none;stroke-width:0.75;stroke-linecap:round;stroke-linejoin:round;stroke:rgb(0%,0%,0%);stroke-opacity:1;stroke-miterlimit:10;\" d=\"M 284.398438 119.53125 L 284.398438 124.28125 \"/>\n",
       "<path style=\"fill:none;stroke-width:0.75;stroke-linecap:round;stroke-linejoin:round;stroke:rgb(0%,0%,0%);stroke-opacity:1;stroke-miterlimit:10;\" d=\"M 375.976562 119.53125 L 375.976562 124.28125 \"/>\n",
       "<path style=\"fill:none;stroke-width:0.75;stroke-linecap:round;stroke-linejoin:round;stroke:rgb(0%,0%,0%);stroke-opacity:1;stroke-miterlimit:10;\" d=\"M 467.558594 119.53125 L 467.558594 124.28125 \"/>\n",
       "<g style=\"fill:rgb(0%,0%,0%);fill-opacity:1;\">\n",
       "  <use xlink:href=\"#glyph0-1\" x=\"99.019531\" y=\"136.636719\"/>\n",
       "</g>\n",
       "<g style=\"fill:rgb(0%,0%,0%);fill-opacity:1;\">\n",
       "  <use xlink:href=\"#glyph0-2\" x=\"190.597656\" y=\"136.636719\"/>\n",
       "</g>\n",
       "<g style=\"fill:rgb(0%,0%,0%);fill-opacity:1;\">\n",
       "  <use xlink:href=\"#glyph0-3\" x=\"282.175781\" y=\"136.636719\"/>\n",
       "</g>\n",
       "<g style=\"fill:rgb(0%,0%,0%);fill-opacity:1;\">\n",
       "  <use xlink:href=\"#glyph0-4\" x=\"373.753906\" y=\"136.636719\"/>\n",
       "</g>\n",
       "<g style=\"fill:rgb(0%,0%,0%);fill-opacity:1;\">\n",
       "  <use xlink:href=\"#glyph0-5\" x=\"463.109375\" y=\"136.636719\"/>\n",
       "  <use xlink:href=\"#glyph0-6\" x=\"467.557312\" y=\"136.636719\"/>\n",
       "</g>\n",
       "<path style=\"fill:none;stroke-width:0.75;stroke-linecap:round;stroke-linejoin:round;stroke:rgb(0%,0%,0%);stroke-opacity:1;stroke-miterlimit:10;\" d=\"M 38.964844 116.5625 L 38.964844 54.433594 \"/>\n",
       "<path style=\"fill:none;stroke-width:0.75;stroke-linecap:round;stroke-linejoin:round;stroke:rgb(0%,0%,0%);stroke-opacity:1;stroke-miterlimit:10;\" d=\"M 38.964844 116.5625 L 34.214844 116.5625 \"/>\n",
       "<path style=\"fill:none;stroke-width:0.75;stroke-linecap:round;stroke-linejoin:round;stroke:rgb(0%,0%,0%);stroke-opacity:1;stroke-miterlimit:10;\" d=\"M 38.964844 101.027344 L 34.214844 101.027344 \"/>\n",
       "<path style=\"fill:none;stroke-width:0.75;stroke-linecap:round;stroke-linejoin:round;stroke:rgb(0%,0%,0%);stroke-opacity:1;stroke-miterlimit:10;\" d=\"M 38.964844 85.496094 L 34.214844 85.496094 \"/>\n",
       "<path style=\"fill:none;stroke-width:0.75;stroke-linecap:round;stroke-linejoin:round;stroke:rgb(0%,0%,0%);stroke-opacity:1;stroke-miterlimit:10;\" d=\"M 38.964844 69.964844 L 34.214844 69.964844 \"/>\n",
       "<path style=\"fill:none;stroke-width:0.75;stroke-linecap:round;stroke-linejoin:round;stroke:rgb(0%,0%,0%);stroke-opacity:1;stroke-miterlimit:10;\" d=\"M 38.964844 54.433594 L 34.214844 54.433594 \"/>\n",
       "<g style=\"fill:rgb(0%,0%,0%);fill-opacity:1;\">\n",
       "  <use xlink:href=\"#glyph1-1\" x=\"27.5625\" y=\"118.785156\"/>\n",
       "</g>\n",
       "<g style=\"fill:rgb(0%,0%,0%);fill-opacity:1;\">\n",
       "  <use xlink:href=\"#glyph1-2\" x=\"27.5625\" y=\"94.390625\"/>\n",
       "  <use xlink:href=\"#glyph1-1\" x=\"27.5625\" y=\"89.942688\"/>\n",
       "  <use xlink:href=\"#glyph1-1\" x=\"27.5625\" y=\"85.494751\"/>\n",
       "  <use xlink:href=\"#glyph1-1\" x=\"27.5625\" y=\"81.046814\"/>\n",
       "</g>\n",
       "<g style=\"fill:rgb(0%,0%,0%);fill-opacity:1;\">\n",
       "  <use xlink:href=\"#glyph1-3\" x=\"27.5625\" y=\"63.328125\"/>\n",
       "  <use xlink:href=\"#glyph1-1\" x=\"27.5625\" y=\"58.880188\"/>\n",
       "  <use xlink:href=\"#glyph1-1\" x=\"27.5625\" y=\"54.432251\"/>\n",
       "  <use xlink:href=\"#glyph1-1\" x=\"27.5625\" y=\"49.984314\"/>\n",
       "</g>\n",
       "<path style=\"fill:none;stroke-width:0.75;stroke-linecap:round;stroke-linejoin:round;stroke:rgb(0%,0%,0%);stroke-opacity:1;stroke-miterlimit:10;\" d=\"M 38.964844 119.53125 L 484.042969 119.53125 L 484.042969 38.964844 L 38.964844 38.964844 L 38.964844 119.53125 \"/>\n",
       "<g style=\"fill:rgb(0%,0%,0%);fill-opacity:1;\">\n",
       "  <use xlink:href=\"#glyph0-7\" x=\"223.714844\" y=\"155.644531\"/>\n",
       "  <use xlink:href=\"#glyph0-8\" x=\"228.602783\" y=\"155.644531\"/>\n",
       "  <use xlink:href=\"#glyph0-9\" x=\"233.05072\" y=\"155.644531\"/>\n",
       "  <use xlink:href=\"#glyph0-10\" x=\"237.93866\" y=\"155.644531\"/>\n",
       "  <use xlink:href=\"#glyph0-8\" x=\"240.602631\" y=\"155.644531\"/>\n",
       "  <use xlink:href=\"#glyph0-8\" x=\"245.050568\" y=\"155.644531\"/>\n",
       "  <use xlink:href=\"#glyph0-11\" x=\"249.498505\" y=\"155.644531\"/>\n",
       "  <use xlink:href=\"#glyph0-12\" x=\"251.722473\" y=\"155.644531\"/>\n",
       "  <use xlink:href=\"#glyph0-13\" x=\"256.17041\" y=\"155.644531\"/>\n",
       "  <use xlink:href=\"#glyph0-11\" x=\"258.394379\" y=\"155.644531\"/>\n",
       "  <use xlink:href=\"#glyph0-14\" x=\"260.618347\" y=\"155.644531\"/>\n",
       "  <use xlink:href=\"#glyph0-12\" x=\"265.506287\" y=\"155.644531\"/>\n",
       "  <use xlink:href=\"#glyph0-15\" x=\"269.954224\" y=\"155.644531\"/>\n",
       "  <use xlink:href=\"#glyph0-16\" x=\"271.730194\" y=\"155.644531\"/>\n",
       "  <use xlink:href=\"#glyph0-17\" x=\"275.730148\" y=\"155.644531\"/>\n",
       "  <use xlink:href=\"#glyph0-12\" x=\"280.178085\" y=\"155.644531\"/>\n",
       "  <use xlink:href=\"#glyph0-18\" x=\"284.626022\" y=\"155.644531\"/>\n",
       "  <use xlink:href=\"#glyph0-19\" x=\"291.289932\" y=\"155.644531\"/>\n",
       "  <use xlink:href=\"#glyph0-20\" x=\"293.065903\" y=\"155.644531\"/>\n",
       "  <use xlink:href=\"#glyph0-15\" x=\"297.51384\" y=\"155.644531\"/>\n",
       "</g>\n",
       "<g style=\"fill:rgb(0%,0%,0%);fill-opacity:1;\">\n",
       "  <use xlink:href=\"#glyph1-4\" x=\"8.554688\" y=\"84.578125\"/>\n",
       "  <use xlink:href=\"#glyph1-5\" x=\"8.554688\" y=\"78.8022\"/>\n",
       "</g>\n",
       "<path style=\"fill:none;stroke-width:0.75;stroke-linecap:round;stroke-linejoin:round;stroke:rgb(0%,0%,0%);stroke-opacity:1;stroke-miterlimit:10;\" d=\"M 59.527344 212.390625 L 97.164062 234.941406 \"/>\n",
       "<path style=\"fill:none;stroke-width:0.75;stroke-linecap:round;stroke-linejoin:round;stroke:rgb(0%,0%,0%);stroke-opacity:1;stroke-miterlimit:10;\" d=\"M 104.558594 240.785156 L 143.710938 280.90625 \"/>\n",
       "<path style=\"fill:none;stroke-width:0.75;stroke-linecap:round;stroke-linejoin:round;stroke:rgb(0%,0%,0%);stroke-opacity:1;stroke-miterlimit:10;\" d=\"M 151.78125 284.332031 L 188.066406 284.519531 \"/>\n",
       "<path style=\"fill:none;stroke-width:0.75;stroke-linecap:round;stroke-linejoin:round;stroke:rgb(0%,0%,0%);stroke-opacity:1;stroke-miterlimit:10;\" d=\"M 197.570312 284.5 L 233.855469 284.160156 \"/>\n",
       "<path style=\"fill:none;stroke-width:0.75;stroke-linecap:round;stroke-linejoin:round;stroke:rgb(0%,0%,0%);stroke-opacity:1;stroke-miterlimit:10;\" d=\"M 243.359375 284.054688 L 279.648438 283.570312 \"/>\n",
       "<path style=\"fill:none;stroke-width:0.75;stroke-linecap:round;stroke-linejoin:round;stroke:rgb(0%,0%,0%);stroke-opacity:1;stroke-miterlimit:10;\" d=\"M 289.148438 283.433594 L 325.4375 282.863281 \"/>\n",
       "<path style=\"fill:none;stroke-width:0.75;stroke-linecap:round;stroke-linejoin:round;stroke:rgb(0%,0%,0%);stroke-opacity:1;stroke-miterlimit:10;\" d=\"M 334.941406 282.710938 L 371.226562 282.113281 \"/>\n",
       "<path style=\"fill:none;stroke-width:0.75;stroke-linecap:round;stroke-linejoin:round;stroke:rgb(0%,0%,0%);stroke-opacity:1;stroke-miterlimit:10;\" d=\"M 380.730469 281.957031 L 417.015625 281.355469 \"/>\n",
       "<path style=\"fill:none;stroke-width:0.75;stroke-linecap:round;stroke-linejoin:round;stroke:rgb(0%,0%,0%);stroke-opacity:1;stroke-miterlimit:10;\" d=\"M 426.519531 281.199219 L 462.804688 280.597656 \"/>\n",
       "<path style=\"fill:none;stroke-width:0.75;stroke-linecap:round;stroke-linejoin:round;stroke:rgb(0%,0%,0%);stroke-opacity:1;stroke-miterlimit:10;\" d=\"M 57.234375 209.949219 C 57.234375 212.328125 53.667969 212.328125 53.667969 209.949219 C 53.667969 207.574219 57.234375 207.574219 57.234375 209.949219 \"/>\n",
       "<path style=\"fill:none;stroke-width:0.75;stroke-linecap:round;stroke-linejoin:round;stroke:rgb(0%,0%,0%);stroke-opacity:1;stroke-miterlimit:10;\" d=\"M 103.023438 237.382812 C 103.023438 239.761719 99.457031 239.761719 99.457031 237.382812 C 99.457031 235.007812 103.023438 235.007812 103.023438 237.382812 \"/>\n",
       "<path style=\"fill:none;stroke-width:0.75;stroke-linecap:round;stroke-linejoin:round;stroke:rgb(0%,0%,0%);stroke-opacity:1;stroke-miterlimit:10;\" d=\"M 148.8125 284.304688 C 148.8125 286.683594 145.246094 286.683594 145.246094 284.304688 C 145.246094 281.929688 148.8125 281.929688 148.8125 284.304688 \"/>\n",
       "<path style=\"fill:none;stroke-width:0.75;stroke-linecap:round;stroke-linejoin:round;stroke:rgb(0%,0%,0%);stroke-opacity:1;stroke-miterlimit:10;\" d=\"M 194.601562 284.546875 C 194.601562 286.921875 191.039062 286.921875 191.039062 284.546875 C 191.039062 282.167969 194.601562 282.167969 194.601562 284.546875 \"/>\n",
       "<path style=\"fill:none;stroke-width:0.75;stroke-linecap:round;stroke-linejoin:round;stroke:rgb(0%,0%,0%);stroke-opacity:1;stroke-miterlimit:10;\" d=\"M 240.390625 284.117188 C 240.390625 286.492188 236.828125 286.492188 236.828125 284.117188 C 236.828125 281.738281 240.390625 281.738281 240.390625 284.117188 \"/>\n",
       "<path style=\"fill:none;stroke-width:0.75;stroke-linecap:round;stroke-linejoin:round;stroke:rgb(0%,0%,0%);stroke-opacity:1;stroke-miterlimit:10;\" d=\"M 286.179688 283.507812 C 286.179688 285.882812 282.617188 285.882812 282.617188 283.507812 C 282.617188 281.132812 286.179688 281.132812 286.179688 283.507812 \"/>\n",
       "<path style=\"fill:none;stroke-width:0.75;stroke-linecap:round;stroke-linejoin:round;stroke:rgb(0%,0%,0%);stroke-opacity:1;stroke-miterlimit:10;\" d=\"M 331.96875 282.789062 C 331.96875 285.167969 328.40625 285.167969 328.40625 282.789062 C 328.40625 280.414062 331.96875 280.414062 331.96875 282.789062 \"/>\n",
       "<path style=\"fill:none;stroke-width:0.75;stroke-linecap:round;stroke-linejoin:round;stroke:rgb(0%,0%,0%);stroke-opacity:1;stroke-miterlimit:10;\" d=\"M 377.761719 282.035156 C 377.761719 284.410156 374.195312 284.410156 374.195312 282.035156 C 374.195312 279.660156 377.761719 279.660156 377.761719 282.035156 \"/>\n",
       "<path style=\"fill:none;stroke-width:0.75;stroke-linecap:round;stroke-linejoin:round;stroke:rgb(0%,0%,0%);stroke-opacity:1;stroke-miterlimit:10;\" d=\"M 423.550781 281.277344 C 423.550781 283.652344 419.984375 283.652344 419.984375 281.277344 C 419.984375 278.902344 423.550781 278.902344 423.550781 281.277344 \"/>\n",
       "<path style=\"fill:none;stroke-width:0.75;stroke-linecap:round;stroke-linejoin:round;stroke:rgb(0%,0%,0%);stroke-opacity:1;stroke-miterlimit:10;\" d=\"M 469.339844 280.519531 C 469.339844 282.894531 465.773438 282.894531 465.773438 280.519531 C 465.773438 278.144531 469.339844 278.144531 469.339844 280.519531 \"/>\n",
       "<path style=\"fill:none;stroke-width:0.75;stroke-linecap:round;stroke-linejoin:round;stroke:rgb(0%,0%,0%);stroke-opacity:1;stroke-miterlimit:10;\" d=\"M 101.242188 287.53125 L 467.558594 287.53125 \"/>\n",
       "<path style=\"fill:none;stroke-width:0.75;stroke-linecap:round;stroke-linejoin:round;stroke:rgb(0%,0%,0%);stroke-opacity:1;stroke-miterlimit:10;\" d=\"M 101.242188 287.53125 L 101.242188 292.28125 \"/>\n",
       "<path style=\"fill:none;stroke-width:0.75;stroke-linecap:round;stroke-linejoin:round;stroke:rgb(0%,0%,0%);stroke-opacity:1;stroke-miterlimit:10;\" d=\"M 192.820312 287.53125 L 192.820312 292.28125 \"/>\n",
       "<path style=\"fill:none;stroke-width:0.75;stroke-linecap:round;stroke-linejoin:round;stroke:rgb(0%,0%,0%);stroke-opacity:1;stroke-miterlimit:10;\" d=\"M 284.398438 287.53125 L 284.398438 292.28125 \"/>\n",
       "<path style=\"fill:none;stroke-width:0.75;stroke-linecap:round;stroke-linejoin:round;stroke:rgb(0%,0%,0%);stroke-opacity:1;stroke-miterlimit:10;\" d=\"M 375.976562 287.53125 L 375.976562 292.28125 \"/>\n",
       "<path style=\"fill:none;stroke-width:0.75;stroke-linecap:round;stroke-linejoin:round;stroke:rgb(0%,0%,0%);stroke-opacity:1;stroke-miterlimit:10;\" d=\"M 467.558594 287.53125 L 467.558594 292.28125 \"/>\n",
       "<g style=\"fill:rgb(0%,0%,0%);fill-opacity:1;\">\n",
       "  <use xlink:href=\"#glyph0-1\" x=\"99.019531\" y=\"304.636719\"/>\n",
       "</g>\n",
       "<g style=\"fill:rgb(0%,0%,0%);fill-opacity:1;\">\n",
       "  <use xlink:href=\"#glyph0-2\" x=\"190.597656\" y=\"304.636719\"/>\n",
       "</g>\n",
       "<g style=\"fill:rgb(0%,0%,0%);fill-opacity:1;\">\n",
       "  <use xlink:href=\"#glyph0-3\" x=\"282.175781\" y=\"304.636719\"/>\n",
       "</g>\n",
       "<g style=\"fill:rgb(0%,0%,0%);fill-opacity:1;\">\n",
       "  <use xlink:href=\"#glyph0-4\" x=\"373.753906\" y=\"304.636719\"/>\n",
       "</g>\n",
       "<g style=\"fill:rgb(0%,0%,0%);fill-opacity:1;\">\n",
       "  <use xlink:href=\"#glyph0-5\" x=\"463.109375\" y=\"304.636719\"/>\n",
       "  <use xlink:href=\"#glyph0-6\" x=\"467.557312\" y=\"304.636719\"/>\n",
       "</g>\n",
       "<path style=\"fill:none;stroke-width:0.75;stroke-linecap:round;stroke-linejoin:round;stroke:rgb(0%,0%,0%);stroke-opacity:1;stroke-miterlimit:10;\" d=\"M 38.964844 273.148438 L 38.964844 207.152344 \"/>\n",
       "<path style=\"fill:none;stroke-width:0.75;stroke-linecap:round;stroke-linejoin:round;stroke:rgb(0%,0%,0%);stroke-opacity:1;stroke-miterlimit:10;\" d=\"M 38.964844 273.148438 L 34.214844 273.148438 \"/>\n",
       "<path style=\"fill:none;stroke-width:0.75;stroke-linecap:round;stroke-linejoin:round;stroke:rgb(0%,0%,0%);stroke-opacity:1;stroke-miterlimit:10;\" d=\"M 38.964844 256.648438 L 34.214844 256.648438 \"/>\n",
       "<path style=\"fill:none;stroke-width:0.75;stroke-linecap:round;stroke-linejoin:round;stroke:rgb(0%,0%,0%);stroke-opacity:1;stroke-miterlimit:10;\" d=\"M 38.964844 240.152344 L 34.214844 240.152344 \"/>\n",
       "<path style=\"fill:none;stroke-width:0.75;stroke-linecap:round;stroke-linejoin:round;stroke:rgb(0%,0%,0%);stroke-opacity:1;stroke-miterlimit:10;\" d=\"M 38.964844 223.652344 L 34.214844 223.652344 \"/>\n",
       "<path style=\"fill:none;stroke-width:0.75;stroke-linecap:round;stroke-linejoin:round;stroke:rgb(0%,0%,0%);stroke-opacity:1;stroke-miterlimit:10;\" d=\"M 38.964844 207.152344 L 34.214844 207.152344 \"/>\n",
       "<g style=\"fill:rgb(0%,0%,0%);fill-opacity:1;\">\n",
       "  <use xlink:href=\"#glyph1-6\" x=\"27.5625\" y=\"281.152344\"/>\n",
       "  <use xlink:href=\"#glyph1-7\" x=\"27.5625\" y=\"278.488373\"/>\n",
       "  <use xlink:href=\"#glyph1-1\" x=\"27.5625\" y=\"274.040436\"/>\n",
       "  <use xlink:href=\"#glyph1-1\" x=\"27.5625\" y=\"269.592499\"/>\n",
       "</g>\n",
       "<g style=\"fill:rgb(0%,0%,0%);fill-opacity:1;\">\n",
       "  <use xlink:href=\"#glyph1-6\" x=\"27.5625\" y=\"248.15625\"/>\n",
       "  <use xlink:href=\"#glyph1-8\" x=\"27.5625\" y=\"245.492279\"/>\n",
       "  <use xlink:href=\"#glyph1-1\" x=\"27.5625\" y=\"241.044342\"/>\n",
       "  <use xlink:href=\"#glyph1-1\" x=\"27.5625\" y=\"236.596405\"/>\n",
       "</g>\n",
       "<g style=\"fill:rgb(0%,0%,0%);fill-opacity:1;\">\n",
       "  <use xlink:href=\"#glyph1-6\" x=\"27.5625\" y=\"215.15625\"/>\n",
       "  <use xlink:href=\"#glyph1-9\" x=\"27.5625\" y=\"212.492279\"/>\n",
       "  <use xlink:href=\"#glyph1-1\" x=\"27.5625\" y=\"208.044342\"/>\n",
       "  <use xlink:href=\"#glyph1-1\" x=\"27.5625\" y=\"203.596405\"/>\n",
       "</g>\n",
       "<path style=\"fill:none;stroke-width:0.75;stroke-linecap:round;stroke-linejoin:round;stroke:rgb(0%,0%,0%);stroke-opacity:1;stroke-miterlimit:10;\" d=\"M 38.964844 287.53125 L 484.042969 287.53125 L 484.042969 206.964844 L 38.964844 206.964844 L 38.964844 287.53125 \"/>\n",
       "<g style=\"fill:rgb(0%,0%,0%);fill-opacity:1;\">\n",
       "  <use xlink:href=\"#glyph0-7\" x=\"223.714844\" y=\"323.644531\"/>\n",
       "  <use xlink:href=\"#glyph0-8\" x=\"228.602783\" y=\"323.644531\"/>\n",
       "  <use xlink:href=\"#glyph0-9\" x=\"233.05072\" y=\"323.644531\"/>\n",
       "  <use xlink:href=\"#glyph0-10\" x=\"237.93866\" y=\"323.644531\"/>\n",
       "  <use xlink:href=\"#glyph0-8\" x=\"240.602631\" y=\"323.644531\"/>\n",
       "  <use xlink:href=\"#glyph0-8\" x=\"245.050568\" y=\"323.644531\"/>\n",
       "  <use xlink:href=\"#glyph0-11\" x=\"249.498505\" y=\"323.644531\"/>\n",
       "  <use xlink:href=\"#glyph0-12\" x=\"251.722473\" y=\"323.644531\"/>\n",
       "  <use xlink:href=\"#glyph0-13\" x=\"256.17041\" y=\"323.644531\"/>\n",
       "  <use xlink:href=\"#glyph0-11\" x=\"258.394379\" y=\"323.644531\"/>\n",
       "  <use xlink:href=\"#glyph0-14\" x=\"260.618347\" y=\"323.644531\"/>\n",
       "  <use xlink:href=\"#glyph0-12\" x=\"265.506287\" y=\"323.644531\"/>\n",
       "  <use xlink:href=\"#glyph0-15\" x=\"269.954224\" y=\"323.644531\"/>\n",
       "  <use xlink:href=\"#glyph0-16\" x=\"271.730194\" y=\"323.644531\"/>\n",
       "  <use xlink:href=\"#glyph0-17\" x=\"275.730148\" y=\"323.644531\"/>\n",
       "  <use xlink:href=\"#glyph0-12\" x=\"280.178085\" y=\"323.644531\"/>\n",
       "  <use xlink:href=\"#glyph0-18\" x=\"284.626022\" y=\"323.644531\"/>\n",
       "  <use xlink:href=\"#glyph0-19\" x=\"291.289932\" y=\"323.644531\"/>\n",
       "  <use xlink:href=\"#glyph0-20\" x=\"293.065903\" y=\"323.644531\"/>\n",
       "  <use xlink:href=\"#glyph0-15\" x=\"297.51384\" y=\"323.644531\"/>\n",
       "</g>\n",
       "<g style=\"fill:rgb(0%,0%,0%);fill-opacity:1;\">\n",
       "  <use xlink:href=\"#glyph1-10\" x=\"8.554688\" y=\"252.800781\"/>\n",
       "  <use xlink:href=\"#glyph1-11\" x=\"8.554688\" y=\"247.912842\"/>\n",
       "  <use xlink:href=\"#glyph1-12\" x=\"8.554688\" y=\"246.136871\"/>\n",
       "</g>\n",
       "<path style=\"fill:none;stroke-width:0.75;stroke-linecap:round;stroke-linejoin:round;stroke:rgb(0%,0%,0%);stroke-opacity:1;stroke-miterlimit:10;\" d=\"M 58.285156 448.730469 L 98.40625 394.707031 \"/>\n",
       "<path style=\"fill:none;stroke-width:0.75;stroke-linecap:round;stroke-linejoin:round;stroke:rgb(0%,0%,0%);stroke-opacity:1;stroke-miterlimit:10;\" d=\"M 105.816406 389.605469 L 142.457031 379.304688 \"/>\n",
       "<path style=\"fill:none;stroke-width:0.75;stroke-linecap:round;stroke-linejoin:round;stroke:rgb(0%,0%,0%);stroke-opacity:1;stroke-miterlimit:10;\" d=\"M 151.78125 378.011719 L 188.066406 377.976562 \"/>\n",
       "<path style=\"fill:none;stroke-width:0.75;stroke-linecap:round;stroke-linejoin:round;stroke:rgb(0%,0%,0%);stroke-opacity:1;stroke-miterlimit:10;\" d=\"M 197.570312 377.972656 L 233.855469 377.960938 \"/>\n",
       "<path style=\"fill:none;stroke-width:0.75;stroke-linecap:round;stroke-linejoin:round;stroke:rgb(0%,0%,0%);stroke-opacity:1;stroke-miterlimit:10;\" d=\"M 243.359375 377.957031 L 279.648438 377.953125 \"/>\n",
       "<path style=\"fill:none;stroke-width:0.75;stroke-linecap:round;stroke-linejoin:round;stroke:rgb(0%,0%,0%);stroke-opacity:1;stroke-miterlimit:10;\" d=\"M 289.152344 377.953125 L 325.4375 377.949219 \"/>\n",
       "<path style=\"fill:none;stroke-width:0.75;stroke-linecap:round;stroke-linejoin:round;stroke:rgb(0%,0%,0%);stroke-opacity:1;stroke-miterlimit:10;\" d=\"M 334.941406 377.949219 L 371.226562 377.949219 \"/>\n",
       "<path style=\"fill:none;stroke-width:0.75;stroke-linecap:round;stroke-linejoin:round;stroke:rgb(0%,0%,0%);stroke-opacity:1;stroke-miterlimit:10;\" d=\"M 380.730469 377.949219 L 417.015625 377.949219 \"/>\n",
       "<path style=\"fill:none;stroke-width:0.75;stroke-linecap:round;stroke-linejoin:round;stroke:rgb(0%,0%,0%);stroke-opacity:1;stroke-miterlimit:10;\" d=\"M 426.519531 377.949219 L 462.804688 377.949219 \"/>\n",
       "<path style=\"fill:none;stroke-width:0.75;stroke-linecap:round;stroke-linejoin:round;stroke:rgb(0%,0%,0%);stroke-opacity:1;stroke-miterlimit:10;\" d=\"M 57.234375 452.546875 C 57.234375 454.921875 53.667969 454.921875 53.667969 452.546875 C 53.667969 450.167969 57.234375 450.167969 57.234375 452.546875 \"/>\n",
       "<path style=\"fill:none;stroke-width:0.75;stroke-linecap:round;stroke-linejoin:round;stroke:rgb(0%,0%,0%);stroke-opacity:1;stroke-miterlimit:10;\" d=\"M 103.023438 390.894531 C 103.023438 393.269531 99.457031 393.269531 99.457031 390.894531 C 99.457031 388.515625 103.023438 388.515625 103.023438 390.894531 \"/>\n",
       "<path style=\"fill:none;stroke-width:0.75;stroke-linecap:round;stroke-linejoin:round;stroke:rgb(0%,0%,0%);stroke-opacity:1;stroke-miterlimit:10;\" d=\"M 148.8125 378.015625 C 148.8125 380.394531 145.246094 380.394531 145.246094 378.015625 C 145.246094 375.640625 148.8125 375.640625 148.8125 378.015625 \"/>\n",
       "<path style=\"fill:none;stroke-width:0.75;stroke-linecap:round;stroke-linejoin:round;stroke:rgb(0%,0%,0%);stroke-opacity:1;stroke-miterlimit:10;\" d=\"M 194.601562 377.972656 C 194.601562 380.347656 191.039062 380.347656 191.039062 377.972656 C 191.039062 375.597656 194.601562 375.597656 194.601562 377.972656 \"/>\n",
       "<path style=\"fill:none;stroke-width:0.75;stroke-linecap:round;stroke-linejoin:round;stroke:rgb(0%,0%,0%);stroke-opacity:1;stroke-miterlimit:10;\" d=\"M 240.390625 377.957031 C 240.390625 380.335938 236.828125 380.335938 236.828125 377.957031 C 236.828125 375.582031 240.390625 375.582031 240.390625 377.957031 \"/>\n",
       "<path style=\"fill:none;stroke-width:0.75;stroke-linecap:round;stroke-linejoin:round;stroke:rgb(0%,0%,0%);stroke-opacity:1;stroke-miterlimit:10;\" d=\"M 286.179688 377.953125 C 286.179688 380.328125 282.617188 380.328125 282.617188 377.953125 C 282.617188 375.578125 286.179688 375.578125 286.179688 377.953125 \"/>\n",
       "<path style=\"fill:none;stroke-width:0.75;stroke-linecap:round;stroke-linejoin:round;stroke:rgb(0%,0%,0%);stroke-opacity:1;stroke-miterlimit:10;\" d=\"M 331.96875 377.949219 C 331.96875 380.328125 328.40625 380.328125 328.40625 377.949219 C 328.40625 375.574219 331.96875 375.574219 331.96875 377.949219 \"/>\n",
       "<path style=\"fill:none;stroke-width:0.75;stroke-linecap:round;stroke-linejoin:round;stroke:rgb(0%,0%,0%);stroke-opacity:1;stroke-miterlimit:10;\" d=\"M 377.761719 377.949219 C 377.761719 380.328125 374.195312 380.328125 374.195312 377.949219 C 374.195312 375.574219 377.761719 375.574219 377.761719 377.949219 \"/>\n",
       "<path style=\"fill:none;stroke-width:0.75;stroke-linecap:round;stroke-linejoin:round;stroke:rgb(0%,0%,0%);stroke-opacity:1;stroke-miterlimit:10;\" d=\"M 423.550781 377.949219 C 423.550781 380.328125 419.984375 380.328125 419.984375 377.949219 C 419.984375 375.574219 423.550781 375.574219 423.550781 377.949219 \"/>\n",
       "<path style=\"fill:none;stroke-width:0.75;stroke-linecap:round;stroke-linejoin:round;stroke:rgb(0%,0%,0%);stroke-opacity:1;stroke-miterlimit:10;\" d=\"M 469.339844 377.949219 C 469.339844 380.328125 465.773438 380.328125 465.773438 377.949219 C 465.773438 375.574219 469.339844 375.574219 469.339844 377.949219 \"/>\n",
       "<path style=\"fill:none;stroke-width:0.75;stroke-linecap:round;stroke-linejoin:round;stroke:rgb(0%,0%,0%);stroke-opacity:1;stroke-miterlimit:10;\" d=\"M 101.242188 455.53125 L 467.558594 455.53125 \"/>\n",
       "<path style=\"fill:none;stroke-width:0.75;stroke-linecap:round;stroke-linejoin:round;stroke:rgb(0%,0%,0%);stroke-opacity:1;stroke-miterlimit:10;\" d=\"M 101.242188 455.53125 L 101.242188 460.28125 \"/>\n",
       "<path style=\"fill:none;stroke-width:0.75;stroke-linecap:round;stroke-linejoin:round;stroke:rgb(0%,0%,0%);stroke-opacity:1;stroke-miterlimit:10;\" d=\"M 192.820312 455.53125 L 192.820312 460.28125 \"/>\n",
       "<path style=\"fill:none;stroke-width:0.75;stroke-linecap:round;stroke-linejoin:round;stroke:rgb(0%,0%,0%);stroke-opacity:1;stroke-miterlimit:10;\" d=\"M 284.398438 455.53125 L 284.398438 460.28125 \"/>\n",
       "<path style=\"fill:none;stroke-width:0.75;stroke-linecap:round;stroke-linejoin:round;stroke:rgb(0%,0%,0%);stroke-opacity:1;stroke-miterlimit:10;\" d=\"M 375.976562 455.53125 L 375.976562 460.28125 \"/>\n",
       "<path style=\"fill:none;stroke-width:0.75;stroke-linecap:round;stroke-linejoin:round;stroke:rgb(0%,0%,0%);stroke-opacity:1;stroke-miterlimit:10;\" d=\"M 467.558594 455.53125 L 467.558594 460.28125 \"/>\n",
       "<g style=\"fill:rgb(0%,0%,0%);fill-opacity:1;\">\n",
       "  <use xlink:href=\"#glyph0-1\" x=\"99.019531\" y=\"472.636719\"/>\n",
       "</g>\n",
       "<g style=\"fill:rgb(0%,0%,0%);fill-opacity:1;\">\n",
       "  <use xlink:href=\"#glyph0-2\" x=\"190.597656\" y=\"472.636719\"/>\n",
       "</g>\n",
       "<g style=\"fill:rgb(0%,0%,0%);fill-opacity:1;\">\n",
       "  <use xlink:href=\"#glyph0-3\" x=\"282.175781\" y=\"472.636719\"/>\n",
       "</g>\n",
       "<g style=\"fill:rgb(0%,0%,0%);fill-opacity:1;\">\n",
       "  <use xlink:href=\"#glyph0-4\" x=\"373.753906\" y=\"472.636719\"/>\n",
       "</g>\n",
       "<g style=\"fill:rgb(0%,0%,0%);fill-opacity:1;\">\n",
       "  <use xlink:href=\"#glyph0-5\" x=\"463.109375\" y=\"472.636719\"/>\n",
       "  <use xlink:href=\"#glyph0-6\" x=\"467.557312\" y=\"472.636719\"/>\n",
       "</g>\n",
       "<path style=\"fill:none;stroke-width:0.75;stroke-linecap:round;stroke-linejoin:round;stroke:rgb(0%,0%,0%);stroke-opacity:1;stroke-miterlimit:10;\" d=\"M 38.964844 443.726562 L 38.964844 377.257812 \"/>\n",
       "<path style=\"fill:none;stroke-width:0.75;stroke-linecap:round;stroke-linejoin:round;stroke:rgb(0%,0%,0%);stroke-opacity:1;stroke-miterlimit:10;\" d=\"M 38.964844 443.726562 L 34.214844 443.726562 \"/>\n",
       "<path style=\"fill:none;stroke-width:0.75;stroke-linecap:round;stroke-linejoin:round;stroke:rgb(0%,0%,0%);stroke-opacity:1;stroke-miterlimit:10;\" d=\"M 38.964844 430.433594 L 34.214844 430.433594 \"/>\n",
       "<path style=\"fill:none;stroke-width:0.75;stroke-linecap:round;stroke-linejoin:round;stroke:rgb(0%,0%,0%);stroke-opacity:1;stroke-miterlimit:10;\" d=\"M 38.964844 417.140625 L 34.214844 417.140625 \"/>\n",
       "<path style=\"fill:none;stroke-width:0.75;stroke-linecap:round;stroke-linejoin:round;stroke:rgb(0%,0%,0%);stroke-opacity:1;stroke-miterlimit:10;\" d=\"M 38.964844 403.847656 L 34.214844 403.847656 \"/>\n",
       "<path style=\"fill:none;stroke-width:0.75;stroke-linecap:round;stroke-linejoin:round;stroke:rgb(0%,0%,0%);stroke-opacity:1;stroke-miterlimit:10;\" d=\"M 38.964844 390.554688 L 34.214844 390.554688 \"/>\n",
       "<path style=\"fill:none;stroke-width:0.75;stroke-linecap:round;stroke-linejoin:round;stroke:rgb(0%,0%,0%);stroke-opacity:1;stroke-miterlimit:10;\" d=\"M 38.964844 377.257812 L 34.214844 377.257812 \"/>\n",
       "<g style=\"fill:rgb(0%,0%,0%);fill-opacity:1;\">\n",
       "  <use xlink:href=\"#glyph1-1\" x=\"27.5625\" y=\"451.511719\"/>\n",
       "  <use xlink:href=\"#glyph1-13\" x=\"27.5625\" y=\"447.063782\"/>\n",
       "  <use xlink:href=\"#glyph1-14\" x=\"27.5625\" y=\"444.839813\"/>\n",
       "  <use xlink:href=\"#glyph1-7\" x=\"27.5625\" y=\"440.391876\"/>\n",
       "</g>\n",
       "<g style=\"fill:rgb(0%,0%,0%);fill-opacity:1;\">\n",
       "  <use xlink:href=\"#glyph1-1\" x=\"27.5625\" y=\"424.925781\"/>\n",
       "  <use xlink:href=\"#glyph1-13\" x=\"27.5625\" y=\"420.477844\"/>\n",
       "  <use xlink:href=\"#glyph1-3\" x=\"27.5625\" y=\"418.253876\"/>\n",
       "  <use xlink:href=\"#glyph1-7\" x=\"27.5625\" y=\"413.805939\"/>\n",
       "</g>\n",
       "<g style=\"fill:rgb(0%,0%,0%);fill-opacity:1;\">\n",
       "  <use xlink:href=\"#glyph1-1\" x=\"27.5625\" y=\"398.339844\"/>\n",
       "  <use xlink:href=\"#glyph1-13\" x=\"27.5625\" y=\"393.891907\"/>\n",
       "  <use xlink:href=\"#glyph1-15\" x=\"27.5625\" y=\"391.667938\"/>\n",
       "  <use xlink:href=\"#glyph1-7\" x=\"27.5625\" y=\"387.220001\"/>\n",
       "</g>\n",
       "<path style=\"fill:none;stroke-width:0.75;stroke-linecap:round;stroke-linejoin:round;stroke:rgb(0%,0%,0%);stroke-opacity:1;stroke-miterlimit:10;\" d=\"M 38.964844 455.53125 L 484.042969 455.53125 L 484.042969 374.964844 L 38.964844 374.964844 L 38.964844 455.53125 \"/>\n",
       "<g style=\"fill:rgb(0%,0%,0%);fill-opacity:1;\">\n",
       "  <use xlink:href=\"#glyph0-7\" x=\"223.714844\" y=\"491.644531\"/>\n",
       "  <use xlink:href=\"#glyph0-8\" x=\"228.602783\" y=\"491.644531\"/>\n",
       "  <use xlink:href=\"#glyph0-9\" x=\"233.05072\" y=\"491.644531\"/>\n",
       "  <use xlink:href=\"#glyph0-10\" x=\"237.93866\" y=\"491.644531\"/>\n",
       "  <use xlink:href=\"#glyph0-8\" x=\"240.602631\" y=\"491.644531\"/>\n",
       "  <use xlink:href=\"#glyph0-8\" x=\"245.050568\" y=\"491.644531\"/>\n",
       "  <use xlink:href=\"#glyph0-11\" x=\"249.498505\" y=\"491.644531\"/>\n",
       "  <use xlink:href=\"#glyph0-12\" x=\"251.722473\" y=\"491.644531\"/>\n",
       "  <use xlink:href=\"#glyph0-13\" x=\"256.17041\" y=\"491.644531\"/>\n",
       "  <use xlink:href=\"#glyph0-11\" x=\"258.394379\" y=\"491.644531\"/>\n",
       "  <use xlink:href=\"#glyph0-14\" x=\"260.618347\" y=\"491.644531\"/>\n",
       "  <use xlink:href=\"#glyph0-12\" x=\"265.506287\" y=\"491.644531\"/>\n",
       "  <use xlink:href=\"#glyph0-15\" x=\"269.954224\" y=\"491.644531\"/>\n",
       "  <use xlink:href=\"#glyph0-16\" x=\"271.730194\" y=\"491.644531\"/>\n",
       "  <use xlink:href=\"#glyph0-17\" x=\"275.730148\" y=\"491.644531\"/>\n",
       "  <use xlink:href=\"#glyph0-12\" x=\"280.178085\" y=\"491.644531\"/>\n",
       "  <use xlink:href=\"#glyph0-18\" x=\"284.626022\" y=\"491.644531\"/>\n",
       "  <use xlink:href=\"#glyph0-19\" x=\"291.289932\" y=\"491.644531\"/>\n",
       "  <use xlink:href=\"#glyph0-20\" x=\"293.065903\" y=\"491.644531\"/>\n",
       "  <use xlink:href=\"#glyph0-15\" x=\"297.51384\" y=\"491.644531\"/>\n",
       "</g>\n",
       "<g style=\"fill:rgb(0%,0%,0%);fill-opacity:1;\">\n",
       "  <use xlink:href=\"#glyph1-16\" x=\"8.554688\" y=\"421.023438\"/>\n",
       "  <use xlink:href=\"#glyph1-17\" x=\"8.554688\" y=\"418.359467\"/>\n",
       "  <use xlink:href=\"#glyph1-18\" x=\"8.554688\" y=\"414.359512\"/>\n",
       "</g>\n",
       "</g>\n",
       "</svg>\n"
      ],
      "text/plain": [
       "plot without title"
      ]
     },
     "metadata": {
      "image/svg+xml": {
       "isolated": true
      }
     },
     "output_type": "display_data"
    }
   ],
   "source": [
    "par(mfrow = c(3,1))\n",
    "plot(best_selection_summary$cp, type = \"b\", xlab = \"degree of polynomial\" , ylab = \"Cp\")\n",
    "plot(best_selection_summary$bic,type = \"b\", xlab = \"degree of polynomial\" , ylab = \"bic\")\n",
    "plot(best_selection_summary$rsq, type = \"b\", xlab = \"degree of polynomial\" , ylab = \"rsq\")"
   ]
  },
  {
   "cell_type": "code",
   "execution_count": 49,
   "metadata": {
    "collapsed": false
   },
   "outputs": [
    {
     "name": "stdout",
     "output_type": "stream",
     "text": [
      "[1] \"Based on Cp, the best model is:\"\n"
     ]
    },
    {
     "data": {
      "text/html": [
       "<dl class=dl-horizontal>\n",
       "\t<dt>(Intercept)</dt>\n",
       "\t\t<dd>4.56470622794346</dd>\n",
       "\t<dt>poly(X, 10)1</dt>\n",
       "\t\t<dd>149.309802114251</dd>\n",
       "\t<dt>poly(X, 10)2</dt>\n",
       "\t\t<dd>38.8087847420602</dd>\n",
       "\t<dt>poly(X, 10)3</dt>\n",
       "\t\t<dd>84.9219405421287</dd>\n",
       "\t<dt>poly(X, 10)4</dt>\n",
       "\t\t<dd>-2.28234848572183</dd>\n",
       "</dl>\n"
      ],
      "text/latex": [
       "\\begin{description*}\n",
       "\\item[(Intercept)] 4.56470622794346\n",
       "\\item[poly(X, 10)1] 149.309802114251\n",
       "\\item[poly(X, 10)2] 38.8087847420602\n",
       "\\item[poly(X, 10)3] 84.9219405421287\n",
       "\\item[poly(X, 10)4] -2.28234848572183\n",
       "\\end{description*}\n"
      ],
      "text/markdown": [
       "(Intercept)\n",
       ":   4.56470622794346poly(X, 10)1\n",
       ":   149.309802114251poly(X, 10)2\n",
       ":   38.8087847420602poly(X, 10)3\n",
       ":   84.9219405421287poly(X, 10)4\n",
       ":   -2.28234848572183\n",
       "\n"
      ],
      "text/plain": [
       " (Intercept) poly(X, 10)1 poly(X, 10)2 poly(X, 10)3 poly(X, 10)4 \n",
       "    4.564706   149.309802    38.808785    84.921941    -2.282348 "
      ]
     },
     "execution_count": 49,
     "metadata": {},
     "output_type": "execute_result"
    },
    {
     "name": "stdout",
     "output_type": "stream",
     "text": [
      "[1] \"Based on BIC, the best model is:\"\n"
     ]
    },
    {
     "data": {
      "text/html": [
       "<dl class=dl-horizontal>\n",
       "\t<dt>(Intercept)</dt>\n",
       "\t\t<dd>4.56470622794346</dd>\n",
       "\t<dt>poly(X, 10)1</dt>\n",
       "\t\t<dd>149.309802114251</dd>\n",
       "\t<dt>poly(X, 10)2</dt>\n",
       "\t\t<dd>38.8087847420602</dd>\n",
       "\t<dt>poly(X, 10)3</dt>\n",
       "\t\t<dd>84.9219405421287</dd>\n",
       "\t<dt>poly(X, 10)4</dt>\n",
       "\t\t<dd>-2.28234848572183</dd>\n",
       "</dl>\n"
      ],
      "text/latex": [
       "\\begin{description*}\n",
       "\\item[(Intercept)] 4.56470622794346\n",
       "\\item[poly(X, 10)1] 149.309802114251\n",
       "\\item[poly(X, 10)2] 38.8087847420602\n",
       "\\item[poly(X, 10)3] 84.9219405421287\n",
       "\\item[poly(X, 10)4] -2.28234848572183\n",
       "\\end{description*}\n"
      ],
      "text/markdown": [
       "(Intercept)\n",
       ":   4.56470622794346poly(X, 10)1\n",
       ":   149.309802114251poly(X, 10)2\n",
       ":   38.8087847420602poly(X, 10)3\n",
       ":   84.9219405421287poly(X, 10)4\n",
       ":   -2.28234848572183\n",
       "\n"
      ],
      "text/plain": [
       " (Intercept) poly(X, 10)1 poly(X, 10)2 poly(X, 10)3 poly(X, 10)4 \n",
       "    4.564706   149.309802    38.808785    84.921941    -2.282348 "
      ]
     },
     "execution_count": 49,
     "metadata": {},
     "output_type": "execute_result"
    },
    {
     "name": "stdout",
     "output_type": "stream",
     "text": [
      "[1] \"Based on R squared, the best model is:\"\n"
     ]
    },
    {
     "data": {
      "text/html": [
       "<dl class=dl-horizontal>\n",
       "\t<dt>(Intercept)</dt>\n",
       "\t\t<dd>4.56470622794346</dd>\n",
       "\t<dt>poly(X, 10)1</dt>\n",
       "\t\t<dd>149.309802114251</dd>\n",
       "\t<dt>poly(X, 10)2</dt>\n",
       "\t\t<dd>38.8087847420602</dd>\n",
       "\t<dt>poly(X, 10)3</dt>\n",
       "\t\t<dd>84.9219405421287</dd>\n",
       "\t<dt>poly(X, 10)4</dt>\n",
       "\t\t<dd>-2.28234848572183</dd>\n",
       "\t<dt>poly(X, 10)5</dt>\n",
       "\t\t<dd>0.457699187806449</dd>\n",
       "\t<dt>poly(X, 10)6</dt>\n",
       "\t\t<dd>1.28566571981932</dd>\n",
       "\t<dt>poly(X, 10)7</dt>\n",
       "\t\t<dd>-0.107867813523064</dd>\n",
       "\t<dt>poly(X, 10)8</dt>\n",
       "\t\t<dd>0.863027733541585</dd>\n",
       "\t<dt>poly(X, 10)9</dt>\n",
       "\t\t<dd>0.113331849816744</dd>\n",
       "\t<dt>poly(X, 10)10</dt>\n",
       "\t\t<dd>0.149897834460875</dd>\n",
       "</dl>\n"
      ],
      "text/latex": [
       "\\begin{description*}\n",
       "\\item[(Intercept)] 4.56470622794346\n",
       "\\item[poly(X, 10)1] 149.309802114251\n",
       "\\item[poly(X, 10)2] 38.8087847420602\n",
       "\\item[poly(X, 10)3] 84.9219405421287\n",
       "\\item[poly(X, 10)4] -2.28234848572183\n",
       "\\item[poly(X, 10)5] 0.457699187806449\n",
       "\\item[poly(X, 10)6] 1.28566571981932\n",
       "\\item[poly(X, 10)7] -0.107867813523064\n",
       "\\item[poly(X, 10)8] 0.863027733541585\n",
       "\\item[poly(X, 10)9] 0.113331849816744\n",
       "\\item[poly(X, 10)10] 0.149897834460875\n",
       "\\end{description*}\n"
      ],
      "text/markdown": [
       "(Intercept)\n",
       ":   4.56470622794346poly(X, 10)1\n",
       ":   149.309802114251poly(X, 10)2\n",
       ":   38.8087847420602poly(X, 10)3\n",
       ":   84.9219405421287poly(X, 10)4\n",
       ":   -2.28234848572183poly(X, 10)5\n",
       ":   0.457699187806449poly(X, 10)6\n",
       ":   1.28566571981932poly(X, 10)7\n",
       ":   -0.107867813523064poly(X, 10)8\n",
       ":   0.863027733541585poly(X, 10)9\n",
       ":   0.113331849816744poly(X, 10)10\n",
       ":   0.149897834460875\n",
       "\n"
      ],
      "text/plain": [
       "  (Intercept)  poly(X, 10)1  poly(X, 10)2  poly(X, 10)3  poly(X, 10)4 \n",
       "    4.5647062   149.3098021    38.8087847    84.9219405    -2.2823485 \n",
       " poly(X, 10)5  poly(X, 10)6  poly(X, 10)7  poly(X, 10)8  poly(X, 10)9 \n",
       "    0.4576992     1.2856657    -0.1078678     0.8630277     0.1133318 \n",
       "poly(X, 10)10 \n",
       "    0.1498978 "
      ]
     },
     "execution_count": 49,
     "metadata": {},
     "output_type": "execute_result"
    }
   ],
   "source": [
    "print(\"Based on Cp, the best model is:\")\n",
    "coef(best_selection,which.min(best_selection_summary$cp))\n",
    "print(\"Based on BIC, the best model is:\")\n",
    "coef(best_selection,which.min(best_selection_summary$bic))\n",
    "print(\"Based on R squared, the best model is:\")\n",
    "coef(best_selection,which.max(best_selection_summary$rsq))"
   ]
  },
  {
   "cell_type": "markdown",
   "metadata": {},
   "source": [
    "###Part D"
   ]
  },
  {
   "cell_type": "code",
   "execution_count": 50,
   "metadata": {
    "collapsed": false
   },
   "outputs": [
    {
     "data": {
      "image/png": "[encoded data removed]",
      "image/svg+xml": [
       "<?xml version=\"1.0\" encoding=\"UTF-8\"?>\n",
       "<svg xmlns=\"http://www.w3.org/2000/svg\" xmlns:xlink=\"http://www.w3.org/1999/xlink\" width=\"504pt\" height=\"504pt\" viewBox=\"0 0 504 504\" version=\"1.1\">\n",
       "<defs>\n",
       "<g>\n",
       "<symbol overflow=\"visible\" id=\"glyph0-0\">\n",
       "<path style=\"stroke:none;\" d=\"M 0 -5.59375 L 4 -5.59375 L 4 0 L 0 0 Z M 3.359375 -5.203125 L 0.640625 -5.203125 L 2 -3.15625 Z M 3.59375 -0.765625 L 3.59375 -4.84375 L 2.234375 -2.796875 Z M 3.359375 -0.40625 L 2 -2.4375 L 0.640625 -0.40625 Z M 0.40625 -0.765625 L 1.765625 -2.796875 L 0.40625 -4.84375 Z \"/>\n",
       "</symbol>\n",
       "<symbol overflow=\"visible\" id=\"glyph0-1\">\n",
       "<path style=\"stroke:none;\" d=\"M 2.421875 -4.1875 L 0.953125 -4.1875 L 0.953125 -4.53125 C 1.171875 -4.539062 1.363281 -4.554688 1.53125 -4.578125 C 1.707031 -4.609375 1.859375 -4.660156 1.984375 -4.734375 C 2.117188 -4.816406 2.226562 -4.925781 2.3125 -5.0625 C 2.40625 -5.207031 2.472656 -5.398438 2.515625 -5.640625 L 2.921875 -5.640625 L 2.921875 0 L 2.421875 0 Z \"/>\n",
       "</symbol>\n",
       "<symbol overflow=\"visible\" id=\"glyph0-2\">\n",
       "<path style=\"stroke:none;\" d=\"M 0.546875 -3.796875 C 0.546875 -4.066406 0.585938 -4.316406 0.671875 -4.546875 C 0.765625 -4.773438 0.890625 -4.96875 1.046875 -5.125 C 1.203125 -5.289062 1.394531 -5.414062 1.625 -5.5 C 1.851562 -5.59375 2.109375 -5.640625 2.390625 -5.640625 C 2.671875 -5.640625 2.914062 -5.597656 3.125 -5.515625 C 3.34375 -5.429688 3.523438 -5.316406 3.671875 -5.171875 C 3.816406 -5.035156 3.925781 -4.875 4 -4.6875 C 4.082031 -4.5 4.125 -4.296875 4.125 -4.078125 C 4.125 -3.828125 4.082031 -3.601562 4 -3.40625 C 3.914062 -3.21875 3.804688 -3.050781 3.671875 -2.90625 C 3.535156 -2.757812 3.378906 -2.625 3.203125 -2.5 C 3.023438 -2.382812 2.847656 -2.273438 2.671875 -2.171875 C 2.492188 -2.066406 2.316406 -1.96875 2.140625 -1.875 C 1.960938 -1.78125 1.800781 -1.675781 1.65625 -1.5625 C 1.570312 -1.5 1.484375 -1.425781 1.390625 -1.34375 C 1.304688 -1.269531 1.226562 -1.1875 1.15625 -1.09375 C 1.09375 -1 1.039062 -0.894531 1 -0.78125 C 0.957031 -0.675781 0.929688 -0.5625 0.921875 -0.4375 L 4.078125 -0.4375 L 4.078125 0 L 0.390625 0 C 0.390625 -0.269531 0.414062 -0.515625 0.46875 -0.734375 C 0.519531 -0.953125 0.640625 -1.164062 0.828125 -1.375 C 1.023438 -1.601562 1.226562 -1.796875 1.4375 -1.953125 C 1.644531 -2.109375 1.847656 -2.25 2.046875 -2.375 C 2.253906 -2.5 2.445312 -2.613281 2.625 -2.71875 C 2.8125 -2.820312 2.972656 -2.9375 3.109375 -3.0625 C 3.242188 -3.1875 3.351562 -3.328125 3.4375 -3.484375 C 3.519531 -3.640625 3.5625 -3.828125 3.5625 -4.046875 C 3.5625 -4.222656 3.53125 -4.382812 3.46875 -4.53125 C 3.40625 -4.675781 3.316406 -4.800781 3.203125 -4.90625 C 3.085938 -5.007812 2.953125 -5.082031 2.796875 -5.125 C 2.648438 -5.175781 2.488281 -5.203125 2.3125 -5.203125 C 2.132812 -5.203125 1.96875 -5.160156 1.8125 -5.078125 C 1.65625 -5.003906 1.519531 -4.90625 1.40625 -4.78125 C 1.300781 -4.65625 1.21875 -4.503906 1.15625 -4.328125 C 1.101562 -4.160156 1.082031 -3.984375 1.09375 -3.796875 Z \"/>\n",
       "</symbol>\n",
       "<symbol overflow=\"visible\" id=\"glyph0-3\">\n",
       "<path style=\"stroke:none;\" d=\"M 1.765625 -3.140625 C 2.003906 -3.140625 2.222656 -3.148438 2.421875 -3.171875 C 2.617188 -3.203125 2.785156 -3.257812 2.921875 -3.34375 C 3.066406 -3.425781 3.179688 -3.535156 3.265625 -3.671875 C 3.347656 -3.816406 3.390625 -4 3.390625 -4.21875 C 3.390625 -4.394531 3.351562 -4.546875 3.28125 -4.671875 C 3.21875 -4.796875 3.128906 -4.894531 3.015625 -4.96875 C 2.910156 -5.050781 2.785156 -5.109375 2.640625 -5.140625 C 2.492188 -5.179688 2.34375 -5.203125 2.1875 -5.203125 C 2 -5.203125 1.832031 -5.171875 1.6875 -5.109375 C 1.539062 -5.054688 1.414062 -4.972656 1.3125 -4.859375 C 1.207031 -4.753906 1.125 -4.628906 1.0625 -4.484375 C 1 -4.335938 0.96875 -4.175781 0.96875 -4 L 0.46875 -4 C 0.46875 -4.257812 0.507812 -4.488281 0.59375 -4.6875 C 0.6875 -4.894531 0.828125 -5.085938 1.015625 -5.265625 C 1.179688 -5.421875 1.375 -5.519531 1.59375 -5.5625 C 1.820312 -5.613281 2.050781 -5.640625 2.28125 -5.640625 C 2.507812 -5.640625 2.71875 -5.609375 2.90625 -5.546875 C 3.101562 -5.492188 3.273438 -5.410156 3.421875 -5.296875 C 3.566406 -5.179688 3.679688 -5.035156 3.765625 -4.859375 C 3.847656 -4.679688 3.890625 -4.476562 3.890625 -4.25 C 3.890625 -3.957031 3.820312 -3.703125 3.6875 -3.484375 C 3.5625 -3.273438 3.363281 -3.109375 3.09375 -2.984375 C 3.300781 -2.921875 3.46875 -2.835938 3.59375 -2.734375 C 3.726562 -2.628906 3.832031 -2.515625 3.90625 -2.390625 C 3.976562 -2.265625 4.023438 -2.132812 4.046875 -2 C 4.078125 -1.863281 4.09375 -1.726562 4.09375 -1.59375 C 4.09375 -1.363281 4.050781 -1.144531 3.96875 -0.9375 C 3.894531 -0.738281 3.78125 -0.5625 3.625 -0.40625 C 3.46875 -0.25 3.273438 -0.125 3.046875 -0.03125 C 2.828125 0.0625 2.570312 0.109375 2.28125 0.109375 C 1.957031 0.109375 1.675781 0.078125 1.4375 0.015625 C 1.195312 -0.0351562 0.992188 -0.128906 0.828125 -0.265625 C 0.671875 -0.398438 0.546875 -0.578125 0.453125 -0.796875 C 0.359375 -1.023438 0.296875 -1.300781 0.265625 -1.625 L 0.78125 -1.625 C 0.78125 -1.195312 0.910156 -0.867188 1.171875 -0.640625 C 1.429688 -0.421875 1.769531 -0.3125 2.1875 -0.3125 C 2.382812 -0.3125 2.570312 -0.347656 2.75 -0.421875 C 2.925781 -0.492188 3.078125 -0.585938 3.203125 -0.703125 C 3.328125 -0.816406 3.421875 -0.953125 3.484375 -1.109375 C 3.554688 -1.265625 3.585938 -1.425781 3.578125 -1.59375 C 3.566406 -1.820312 3.515625 -2.007812 3.421875 -2.15625 C 3.328125 -2.3125 3.195312 -2.429688 3.03125 -2.515625 C 2.875 -2.609375 2.6875 -2.671875 2.46875 -2.703125 C 2.25 -2.734375 2.015625 -2.738281 1.765625 -2.71875 Z \"/>\n",
       "</symbol>\n",
       "<symbol overflow=\"visible\" id=\"glyph0-4\">\n",
       "<path style=\"stroke:none;\" d=\"M 2.859375 -1.390625 L 0.28125 -1.390625 L 0.28125 -1.828125 L 2.90625 -5.578125 L 3.375 -5.578125 L 3.375 -1.828125 L 4.15625 -1.828125 L 4.15625 -1.390625 L 3.375 -1.390625 L 3.375 0 L 2.859375 0 Z M 0.796875 -1.828125 L 2.859375 -1.828125 L 2.859375 -4.8125 Z \"/>\n",
       "</symbol>\n",
       "<symbol overflow=\"visible\" id=\"glyph0-5\">\n",
       "<path style=\"stroke:none;\" d=\"M 0.796875 -1.46875 C 0.847656 -1.082031 1 -0.789062 1.25 -0.59375 C 1.5 -0.40625 1.8125 -0.3125 2.1875 -0.3125 C 2.394531 -0.3125 2.582031 -0.347656 2.75 -0.421875 C 2.914062 -0.503906 3.054688 -0.609375 3.171875 -0.734375 C 3.296875 -0.867188 3.382812 -1.019531 3.4375 -1.1875 C 3.5 -1.363281 3.53125 -1.554688 3.53125 -1.765625 C 3.53125 -1.972656 3.5 -2.160156 3.4375 -2.328125 C 3.375 -2.503906 3.28125 -2.65625 3.15625 -2.78125 C 3.03125 -2.914062 2.878906 -3.015625 2.703125 -3.078125 C 2.535156 -3.148438 2.347656 -3.1875 2.140625 -3.1875 C 1.878906 -3.1875 1.644531 -3.140625 1.4375 -3.046875 C 1.238281 -2.953125 1.0625 -2.804688 0.90625 -2.609375 L 0.484375 -2.65625 L 0.9375 -5.578125 L 3.75 -5.578125 L 3.75 -5.15625 L 1.375 -5.15625 L 1.03125 -3.25 C 1.132812 -3.320312 1.234375 -3.378906 1.328125 -3.421875 C 1.421875 -3.472656 1.515625 -3.515625 1.609375 -3.546875 C 1.710938 -3.578125 1.816406 -3.597656 1.921875 -3.609375 C 2.023438 -3.617188 2.140625 -3.625 2.265625 -3.625 C 2.515625 -3.625 2.75 -3.582031 2.96875 -3.5 C 3.1875 -3.414062 3.375 -3.289062 3.53125 -3.125 C 3.695312 -2.96875 3.820312 -2.769531 3.90625 -2.53125 C 4 -2.300781 4.046875 -2.046875 4.046875 -1.765625 C 4.046875 -1.460938 3.992188 -1.191406 3.890625 -0.953125 C 3.796875 -0.722656 3.664062 -0.53125 3.5 -0.375 C 3.332031 -0.21875 3.140625 -0.0976562 2.921875 -0.015625 C 2.710938 0.0664062 2.492188 0.109375 2.265625 0.109375 C 1.992188 0.109375 1.742188 0.0820312 1.515625 0.03125 C 1.285156 -0.0195312 1.082031 -0.109375 0.90625 -0.234375 C 0.726562 -0.359375 0.582031 -0.519531 0.46875 -0.71875 C 0.363281 -0.925781 0.300781 -1.175781 0.28125 -1.46875 Z \"/>\n",
       "</symbol>\n",
       "<symbol overflow=\"visible\" id=\"glyph0-6\">\n",
       "<path style=\"stroke:none;\" d=\"M 3.5 -4.25 C 3.4375 -4.539062 3.316406 -4.769531 3.140625 -4.9375 C 2.960938 -5.113281 2.722656 -5.203125 2.421875 -5.203125 C 2.078125 -5.203125 1.800781 -5.117188 1.59375 -4.953125 C 1.394531 -4.796875 1.242188 -4.585938 1.140625 -4.328125 C 1.035156 -4.078125 0.960938 -3.800781 0.921875 -3.5 C 0.890625 -3.207031 0.863281 -2.925781 0.84375 -2.65625 C 0.914062 -2.757812 0.992188 -2.863281 1.078125 -2.96875 C 1.171875 -3.082031 1.273438 -3.179688 1.390625 -3.265625 C 1.503906 -3.347656 1.632812 -3.410156 1.78125 -3.453125 C 1.9375 -3.503906 2.113281 -3.53125 2.3125 -3.53125 C 2.882812 -3.53125 3.328125 -3.367188 3.640625 -3.046875 C 3.953125 -2.722656 4.109375 -2.28125 4.109375 -1.71875 C 4.109375 -1.144531 3.953125 -0.695312 3.640625 -0.375 C 3.328125 -0.0507812 2.878906 0.109375 2.296875 0.109375 C 2.015625 0.109375 1.753906 0.0625 1.515625 -0.03125 C 1.273438 -0.125 1.066406 -0.273438 0.890625 -0.484375 C 0.710938 -0.703125 0.570312 -0.984375 0.46875 -1.328125 C 0.375 -1.671875 0.328125 -2.085938 0.328125 -2.578125 C 0.328125 -2.921875 0.351562 -3.269531 0.40625 -3.625 C 0.46875 -3.988281 0.570312 -4.316406 0.71875 -4.609375 C 0.875 -4.910156 1.082031 -5.15625 1.34375 -5.34375 C 1.613281 -5.539062 1.957031 -5.640625 2.375 -5.640625 C 2.820312 -5.640625 3.191406 -5.519531 3.484375 -5.28125 C 3.785156 -5.050781 3.96875 -4.707031 4.03125 -4.25 Z M 2.296875 -3.109375 C 2.109375 -3.109375 1.929688 -3.066406 1.765625 -2.984375 C 1.609375 -2.910156 1.472656 -2.8125 1.359375 -2.6875 C 1.253906 -2.5625 1.171875 -2.410156 1.109375 -2.234375 C 1.054688 -2.066406 1.03125 -1.890625 1.03125 -1.703125 C 1.03125 -1.546875 1.050781 -1.382812 1.09375 -1.21875 C 1.144531 -1.050781 1.222656 -0.898438 1.328125 -0.765625 C 1.429688 -0.640625 1.5625 -0.53125 1.71875 -0.4375 C 1.875 -0.351562 2.070312 -0.3125 2.3125 -0.3125 C 2.550781 -0.3125 2.75 -0.351562 2.90625 -0.4375 C 3.070312 -0.519531 3.207031 -0.628906 3.3125 -0.765625 C 3.414062 -0.898438 3.488281 -1.050781 3.53125 -1.21875 C 3.570312 -1.394531 3.59375 -1.566406 3.59375 -1.734375 C 3.59375 -2.171875 3.488281 -2.507812 3.28125 -2.75 C 3.070312 -2.988281 2.742188 -3.109375 2.296875 -3.109375 Z \"/>\n",
       "</symbol>\n",
       "<symbol overflow=\"visible\" id=\"glyph0-7\">\n",
       "<path style=\"stroke:none;\" d=\"M 0.46875 -5.578125 L 4.0625 -5.578125 L 4.0625 -5.109375 C 3.65625 -4.648438 3.3125 -4.175781 3.03125 -3.6875 C 2.75 -3.207031 2.515625 -2.738281 2.328125 -2.28125 C 2.148438 -1.820312 2.015625 -1.394531 1.921875 -1 C 1.835938 -0.613281 1.789062 -0.28125 1.78125 0 L 1.21875 0 C 1.238281 -0.40625 1.316406 -0.832031 1.453125 -1.28125 C 1.585938 -1.738281 1.753906 -2.191406 1.953125 -2.640625 C 2.160156 -3.085938 2.394531 -3.519531 2.65625 -3.9375 C 2.914062 -4.363281 3.179688 -4.742188 3.453125 -5.078125 L 0.46875 -5.078125 Z \"/>\n",
       "</symbol>\n",
       "<symbol overflow=\"visible\" id=\"glyph0-8\">\n",
       "<path style=\"stroke:none;\" d=\"M 2.234375 -2.765625 C 2.035156 -2.765625 1.851562 -2.738281 1.6875 -2.6875 C 1.519531 -2.632812 1.375 -2.554688 1.25 -2.453125 C 1.132812 -2.359375 1.039062 -2.234375 0.96875 -2.078125 C 0.894531 -1.929688 0.859375 -1.753906 0.859375 -1.546875 C 0.859375 -1.367188 0.890625 -1.207031 0.953125 -1.0625 C 1.023438 -0.914062 1.117188 -0.785156 1.234375 -0.671875 C 1.359375 -0.566406 1.503906 -0.476562 1.671875 -0.40625 C 1.847656 -0.34375 2.046875 -0.3125 2.265625 -0.3125 C 2.453125 -0.3125 2.625 -0.34375 2.78125 -0.40625 C 2.945312 -0.46875 3.085938 -0.554688 3.203125 -0.671875 C 3.328125 -0.785156 3.421875 -0.914062 3.484375 -1.0625 C 3.546875 -1.21875 3.578125 -1.390625 3.578125 -1.578125 C 3.578125 -1.773438 3.539062 -1.945312 3.46875 -2.09375 C 3.40625 -2.238281 3.3125 -2.359375 3.1875 -2.453125 C 3.070312 -2.554688 2.929688 -2.632812 2.765625 -2.6875 C 2.597656 -2.738281 2.421875 -2.765625 2.234375 -2.765625 Z M 2.203125 -5.203125 C 2.046875 -5.203125 1.894531 -5.179688 1.75 -5.140625 C 1.613281 -5.097656 1.492188 -5.035156 1.390625 -4.953125 C 1.285156 -4.867188 1.203125 -4.757812 1.140625 -4.625 C 1.085938 -4.5 1.0625 -4.351562 1.0625 -4.1875 C 1.0625 -4.007812 1.09375 -3.859375 1.15625 -3.734375 C 1.226562 -3.609375 1.316406 -3.503906 1.421875 -3.421875 C 1.535156 -3.347656 1.664062 -3.289062 1.8125 -3.25 C 1.957031 -3.207031 2.109375 -3.1875 2.265625 -3.1875 C 2.421875 -3.1875 2.5625 -3.207031 2.6875 -3.25 C 2.820312 -3.289062 2.9375 -3.351562 3.03125 -3.4375 C 3.132812 -3.53125 3.210938 -3.644531 3.265625 -3.78125 C 3.328125 -3.925781 3.359375 -4.097656 3.359375 -4.296875 C 3.359375 -4.585938 3.265625 -4.8125 3.078125 -4.96875 C 2.890625 -5.125 2.597656 -5.203125 2.203125 -5.203125 Z M 1.34375 -3.03125 C 1.195312 -3.113281 1.070312 -3.191406 0.96875 -3.265625 C 0.875 -3.347656 0.796875 -3.429688 0.734375 -3.515625 C 0.671875 -3.609375 0.625 -3.710938 0.59375 -3.828125 C 0.5625 -3.953125 0.546875 -4.097656 0.546875 -4.265625 C 0.546875 -4.453125 0.585938 -4.628906 0.671875 -4.796875 C 0.765625 -4.972656 0.878906 -5.125 1.015625 -5.25 C 1.160156 -5.375 1.332031 -5.46875 1.53125 -5.53125 C 1.726562 -5.601562 1.9375 -5.640625 2.15625 -5.640625 C 2.375 -5.640625 2.582031 -5.613281 2.78125 -5.5625 C 2.988281 -5.507812 3.171875 -5.425781 3.328125 -5.3125 C 3.492188 -5.195312 3.625 -5.050781 3.71875 -4.875 C 3.8125 -4.707031 3.859375 -4.503906 3.859375 -4.265625 C 3.859375 -3.972656 3.796875 -3.722656 3.671875 -3.515625 C 3.554688 -3.304688 3.363281 -3.132812 3.09375 -3 C 3.40625 -2.882812 3.648438 -2.703125 3.828125 -2.453125 C 4.003906 -2.210938 4.09375 -1.925781 4.09375 -1.59375 C 4.09375 -1.320312 4.046875 -1.078125 3.953125 -0.859375 C 3.859375 -0.648438 3.722656 -0.472656 3.546875 -0.328125 C 3.378906 -0.179688 3.171875 -0.0703125 2.921875 0 C 2.679688 0.0703125 2.410156 0.109375 2.109375 0.109375 C 1.910156 0.109375 1.703125 0.0703125 1.484375 0 C 1.273438 -0.0625 1.085938 -0.160156 0.921875 -0.296875 C 0.753906 -0.441406 0.617188 -0.617188 0.515625 -0.828125 C 0.410156 -1.035156 0.359375 -1.273438 0.359375 -1.546875 C 0.359375 -1.890625 0.441406 -2.191406 0.609375 -2.453125 C 0.773438 -2.710938 1.019531 -2.90625 1.34375 -3.03125 Z \"/>\n",
       "</symbol>\n",
       "<symbol overflow=\"visible\" id=\"glyph0-9\">\n",
       "<path style=\"stroke:none;\" d=\"M 3.78125 -2.09375 C 3.78125 -2.320312 3.742188 -2.539062 3.671875 -2.75 C 3.609375 -2.96875 3.515625 -3.15625 3.390625 -3.3125 C 3.273438 -3.46875 3.128906 -3.59375 2.953125 -3.6875 C 2.785156 -3.78125 2.59375 -3.828125 2.375 -3.828125 C 2.125 -3.828125 1.90625 -3.773438 1.71875 -3.671875 C 1.539062 -3.578125 1.394531 -3.441406 1.28125 -3.265625 C 1.164062 -3.097656 1.078125 -2.898438 1.015625 -2.671875 C 0.960938 -2.453125 0.941406 -2.207031 0.953125 -1.9375 C 0.953125 -1.675781 0.988281 -1.445312 1.0625 -1.25 C 1.132812 -1.050781 1.234375 -0.878906 1.359375 -0.734375 C 1.492188 -0.597656 1.644531 -0.492188 1.8125 -0.421875 C 1.988281 -0.347656 2.175781 -0.3125 2.375 -0.3125 C 2.601562 -0.3125 2.800781 -0.359375 2.96875 -0.453125 C 3.144531 -0.546875 3.289062 -0.671875 3.40625 -0.828125 C 3.53125 -0.984375 3.625 -1.171875 3.6875 -1.390625 C 3.75 -1.609375 3.78125 -1.84375 3.78125 -2.09375 Z M 3.78125 -5.765625 L 4.25 -5.765625 L 4.25 0 L 3.78125 0 L 3.78125 -0.734375 L 3.765625 -0.734375 C 3.691406 -0.585938 3.597656 -0.460938 3.484375 -0.359375 C 3.378906 -0.253906 3.257812 -0.164062 3.125 -0.09375 C 3 -0.03125 2.863281 0.015625 2.71875 0.046875 C 2.582031 0.0859375 2.445312 0.109375 2.3125 0.109375 C 1.976562 0.109375 1.691406 0.0546875 1.453125 -0.046875 C 1.222656 -0.160156 1.03125 -0.316406 0.875 -0.515625 C 0.726562 -0.710938 0.617188 -0.941406 0.546875 -1.203125 C 0.484375 -1.472656 0.453125 -1.757812 0.453125 -2.0625 C 0.453125 -2.351562 0.488281 -2.628906 0.5625 -2.890625 C 0.632812 -3.160156 0.742188 -3.394531 0.890625 -3.59375 C 1.046875 -3.789062 1.238281 -3.945312 1.46875 -4.0625 C 1.707031 -4.1875 1.984375 -4.25 2.296875 -4.25 C 2.585938 -4.25 2.867188 -4.179688 3.140625 -4.046875 C 3.410156 -3.921875 3.625 -3.734375 3.78125 -3.484375 Z \"/>\n",
       "</symbol>\n",
       "<symbol overflow=\"visible\" id=\"glyph0-10\">\n",
       "<path style=\"stroke:none;\" d=\"M 3.578125 -2.359375 C 3.578125 -2.554688 3.546875 -2.742188 3.484375 -2.921875 C 3.429688 -3.109375 3.347656 -3.265625 3.234375 -3.390625 C 3.128906 -3.523438 2.992188 -3.628906 2.828125 -3.703125 C 2.660156 -3.785156 2.472656 -3.828125 2.265625 -3.828125 C 2.046875 -3.828125 1.851562 -3.785156 1.6875 -3.703125 C 1.53125 -3.617188 1.394531 -3.507812 1.28125 -3.375 C 1.164062 -3.25 1.070312 -3.097656 1 -2.921875 C 0.9375 -2.742188 0.894531 -2.554688 0.875 -2.359375 Z M 0.875 -1.953125 C 0.875 -1.734375 0.898438 -1.523438 0.953125 -1.328125 C 1.015625 -1.128906 1.101562 -0.953125 1.21875 -0.796875 C 1.332031 -0.648438 1.476562 -0.53125 1.65625 -0.4375 C 1.832031 -0.351562 2.035156 -0.3125 2.265625 -0.3125 C 2.578125 -0.3125 2.84375 -0.394531 3.0625 -0.5625 C 3.289062 -0.726562 3.441406 -0.960938 3.515625 -1.265625 L 4.0625 -1.265625 C 4 -1.066406 3.921875 -0.882812 3.828125 -0.71875 C 3.734375 -0.550781 3.613281 -0.40625 3.46875 -0.28125 C 3.320312 -0.15625 3.148438 -0.0625 2.953125 0 C 2.753906 0.0703125 2.523438 0.109375 2.265625 0.109375 C 1.929688 0.109375 1.644531 0.0546875 1.40625 -0.046875 C 1.164062 -0.160156 0.96875 -0.316406 0.8125 -0.515625 C 0.65625 -0.710938 0.539062 -0.941406 0.46875 -1.203125 C 0.394531 -1.460938 0.359375 -1.75 0.359375 -2.0625 C 0.359375 -2.363281 0.398438 -2.644531 0.484375 -2.90625 C 0.578125 -3.175781 0.703125 -3.410156 0.859375 -3.609375 C 1.023438 -3.804688 1.222656 -3.960938 1.453125 -4.078125 C 1.691406 -4.191406 1.960938 -4.25 2.265625 -4.25 C 2.835938 -4.25 3.285156 -4.050781 3.609375 -3.65625 C 3.929688 -3.269531 4.09375 -2.703125 4.09375 -1.953125 Z \"/>\n",
       "</symbol>\n",
       "<symbol overflow=\"visible\" id=\"glyph0-11\">\n",
       "<path style=\"stroke:none;\" d=\"M 3.78125 -2.0625 C 3.78125 -2.3125 3.75 -2.539062 3.6875 -2.75 C 3.625 -2.96875 3.53125 -3.15625 3.40625 -3.3125 C 3.289062 -3.46875 3.144531 -3.59375 2.96875 -3.6875 C 2.800781 -3.78125 2.601562 -3.828125 2.375 -3.828125 C 2.175781 -3.828125 1.988281 -3.789062 1.8125 -3.71875 C 1.644531 -3.644531 1.492188 -3.535156 1.359375 -3.390625 C 1.234375 -3.253906 1.132812 -3.085938 1.0625 -2.890625 C 0.988281 -2.691406 0.953125 -2.460938 0.953125 -2.203125 C 0.941406 -1.941406 0.960938 -1.695312 1.015625 -1.46875 C 1.078125 -1.238281 1.164062 -1.035156 1.28125 -0.859375 C 1.394531 -0.691406 1.539062 -0.554688 1.71875 -0.453125 C 1.90625 -0.359375 2.125 -0.3125 2.375 -0.3125 C 2.59375 -0.3125 2.785156 -0.359375 2.953125 -0.453125 C 3.128906 -0.546875 3.273438 -0.671875 3.390625 -0.828125 C 3.515625 -0.992188 3.609375 -1.179688 3.671875 -1.390625 C 3.742188 -1.597656 3.78125 -1.820312 3.78125 -2.0625 Z M 3.78125 -4.140625 L 4.25 -4.140625 L 4.25 -0.40625 C 4.25 -0.125 4.222656 0.140625 4.171875 0.390625 C 4.117188 0.648438 4.019531 0.875 3.875 1.0625 C 3.726562 1.257812 3.53125 1.414062 3.28125 1.53125 C 3.03125 1.644531 2.707031 1.703125 2.3125 1.703125 C 2.007812 1.703125 1.75 1.660156 1.53125 1.578125 C 1.3125 1.503906 1.128906 1.40625 0.984375 1.28125 C 0.847656 1.164062 0.742188 1.035156 0.671875 0.890625 C 0.597656 0.753906 0.5625 0.625 0.5625 0.5 L 1.078125 0.5 C 1.109375 0.65625 1.164062 0.78125 1.25 0.875 C 1.332031 0.976562 1.425781 1.054688 1.53125 1.109375 C 1.644531 1.171875 1.765625 1.210938 1.890625 1.234375 C 2.023438 1.253906 2.164062 1.265625 2.3125 1.265625 C 2.632812 1.265625 2.894531 1.207031 3.09375 1.09375 C 3.289062 0.976562 3.441406 0.832031 3.546875 0.65625 C 3.648438 0.476562 3.710938 0.273438 3.734375 0.046875 C 3.765625 -0.179688 3.78125 -0.414062 3.78125 -0.65625 C 3.625 -0.40625 3.410156 -0.210938 3.140625 -0.078125 C 2.867188 0.046875 2.585938 0.109375 2.296875 0.109375 C 1.984375 0.109375 1.707031 0.0507812 1.46875 -0.0625 C 1.238281 -0.1875 1.046875 -0.347656 0.890625 -0.546875 C 0.742188 -0.742188 0.632812 -0.972656 0.5625 -1.234375 C 0.488281 -1.503906 0.453125 -1.785156 0.453125 -2.078125 C 0.453125 -2.378906 0.484375 -2.664062 0.546875 -2.9375 C 0.617188 -3.207031 0.726562 -3.4375 0.875 -3.625 C 1.03125 -3.820312 1.222656 -3.972656 1.453125 -4.078125 C 1.691406 -4.191406 1.976562 -4.25 2.3125 -4.25 C 2.445312 -4.25 2.582031 -4.226562 2.71875 -4.1875 C 2.863281 -4.15625 3 -4.101562 3.125 -4.03125 C 3.257812 -3.96875 3.378906 -3.878906 3.484375 -3.765625 C 3.597656 -3.660156 3.691406 -3.546875 3.765625 -3.421875 L 3.78125 -3.421875 Z \"/>\n",
       "</symbol>\n",
       "<symbol overflow=\"visible\" id=\"glyph0-12\">\n",
       "<path style=\"stroke:none;\" d=\"M 1.078125 0 L 0.59375 0 L 0.59375 -4.140625 L 1.078125 -4.140625 L 1.078125 -3.375 L 1.09375 -3.375 C 1.226562 -3.695312 1.398438 -3.921875 1.609375 -4.046875 C 1.816406 -4.179688 2.097656 -4.25 2.453125 -4.25 L 2.453125 -3.734375 C 2.179688 -3.742188 1.957031 -3.703125 1.78125 -3.609375 C 1.601562 -3.515625 1.460938 -3.390625 1.359375 -3.234375 C 1.253906 -3.085938 1.179688 -2.90625 1.140625 -2.6875 C 1.097656 -2.476562 1.078125 -2.257812 1.078125 -2.03125 Z \"/>\n",
       "</symbol>\n",
       "<symbol overflow=\"visible\" id=\"glyph0-13\">\n",
       "<path style=\"stroke:none;\" d=\"\"/>\n",
       "</symbol>\n",
       "<symbol overflow=\"visible\" id=\"glyph0-14\">\n",
       "<path style=\"stroke:none;\" d=\"M 2.21875 0.109375 C 1.957031 0.109375 1.707031 0.0625 1.46875 -0.03125 C 1.238281 -0.125 1.035156 -0.257812 0.859375 -0.4375 C 0.691406 -0.625 0.554688 -0.851562 0.453125 -1.125 C 0.347656 -1.394531 0.296875 -1.710938 0.296875 -2.078125 C 0.296875 -2.378906 0.335938 -2.660156 0.421875 -2.921875 C 0.503906 -3.179688 0.625 -3.410156 0.78125 -3.609375 C 0.945312 -3.804688 1.148438 -3.960938 1.390625 -4.078125 C 1.628906 -4.191406 1.90625 -4.25 2.21875 -4.25 C 2.550781 -4.25 2.835938 -4.191406 3.078125 -4.078125 C 3.316406 -3.960938 3.515625 -3.804688 3.671875 -3.609375 C 3.828125 -3.421875 3.941406 -3.191406 4.015625 -2.921875 C 4.097656 -2.660156 4.140625 -2.378906 4.140625 -2.078125 C 4.140625 -1.742188 4.09375 -1.441406 4 -1.171875 C 3.914062 -0.910156 3.789062 -0.679688 3.625 -0.484375 C 3.457031 -0.296875 3.253906 -0.148438 3.015625 -0.046875 C 2.773438 0.0546875 2.507812 0.109375 2.21875 0.109375 Z M 3.625 -2.078125 C 3.625 -2.316406 3.597656 -2.539062 3.546875 -2.75 C 3.492188 -2.96875 3.410156 -3.15625 3.296875 -3.3125 C 3.191406 -3.46875 3.050781 -3.59375 2.875 -3.6875 C 2.695312 -3.78125 2.476562 -3.828125 2.21875 -3.828125 C 1.96875 -3.828125 1.753906 -3.773438 1.578125 -3.671875 C 1.398438 -3.578125 1.253906 -3.445312 1.140625 -3.28125 C 1.023438 -3.125 0.941406 -2.9375 0.890625 -2.71875 C 0.835938 -2.507812 0.8125 -2.296875 0.8125 -2.078125 C 0.8125 -1.816406 0.84375 -1.578125 0.90625 -1.359375 C 0.96875 -1.148438 1.054688 -0.96875 1.171875 -0.8125 C 1.296875 -0.65625 1.441406 -0.53125 1.609375 -0.4375 C 1.785156 -0.351562 1.988281 -0.3125 2.21875 -0.3125 C 2.46875 -0.3125 2.679688 -0.359375 2.859375 -0.453125 C 3.046875 -0.554688 3.191406 -0.691406 3.296875 -0.859375 C 3.410156 -1.023438 3.492188 -1.210938 3.546875 -1.421875 C 3.597656 -1.628906 3.625 -1.847656 3.625 -2.078125 Z \"/>\n",
       "</symbol>\n",
       "<symbol overflow=\"visible\" id=\"glyph0-15\">\n",
       "<path style=\"stroke:none;\" d=\"M 0.15625 -3.75 L 0.15625 -4.140625 L 0.78125 -4.140625 L 0.78125 -4.796875 C 0.78125 -5.128906 0.84375 -5.390625 0.96875 -5.578125 C 1.101562 -5.773438 1.332031 -5.875 1.65625 -5.875 C 1.726562 -5.875 1.796875 -5.867188 1.859375 -5.859375 C 1.921875 -5.859375 1.988281 -5.851562 2.0625 -5.84375 L 2.0625 -5.40625 C 1.945312 -5.425781 1.847656 -5.4375 1.765625 -5.4375 C 1.640625 -5.4375 1.539062 -5.410156 1.46875 -5.359375 C 1.40625 -5.316406 1.359375 -5.257812 1.328125 -5.1875 C 1.296875 -5.113281 1.273438 -5.03125 1.265625 -4.9375 C 1.253906 -4.84375 1.25 -4.75 1.25 -4.65625 L 1.25 -4.140625 L 2.0625 -4.140625 L 2.0625 -3.75 L 1.25 -3.75 L 1.25 0 L 0.78125 0 L 0.78125 -3.75 Z \"/>\n",
       "</symbol>\n",
       "<symbol overflow=\"visible\" id=\"glyph0-16\">\n",
       "<path style=\"stroke:none;\" d=\"M 1.109375 -2.0625 C 1.109375 -1.820312 1.140625 -1.597656 1.203125 -1.390625 C 1.265625 -1.179688 1.351562 -0.992188 1.46875 -0.828125 C 1.59375 -0.671875 1.742188 -0.546875 1.921875 -0.453125 C 2.097656 -0.359375 2.296875 -0.3125 2.515625 -0.3125 C 2.753906 -0.3125 2.96875 -0.359375 3.15625 -0.453125 C 3.34375 -0.554688 3.492188 -0.691406 3.609375 -0.859375 C 3.722656 -1.035156 3.804688 -1.238281 3.859375 -1.46875 C 3.910156 -1.695312 3.929688 -1.941406 3.921875 -2.203125 C 3.921875 -2.460938 3.882812 -2.691406 3.8125 -2.890625 C 3.75 -3.085938 3.648438 -3.253906 3.515625 -3.390625 C 3.390625 -3.535156 3.238281 -3.644531 3.0625 -3.71875 C 2.894531 -3.789062 2.710938 -3.828125 2.515625 -3.828125 C 2.285156 -3.828125 2.082031 -3.78125 1.90625 -3.6875 C 1.726562 -3.59375 1.582031 -3.46875 1.46875 -3.3125 C 1.351562 -3.15625 1.265625 -2.96875 1.203125 -2.75 C 1.140625 -2.539062 1.109375 -2.3125 1.109375 -2.0625 Z M 1.109375 1.625 L 0.625 1.625 L 0.625 -4.140625 L 1.109375 -4.140625 L 1.109375 -3.421875 L 1.125 -3.421875 C 1.195312 -3.546875 1.285156 -3.660156 1.390625 -3.765625 C 1.503906 -3.878906 1.625 -3.96875 1.75 -4.03125 C 1.882812 -4.101562 2.019531 -4.15625 2.15625 -4.1875 C 2.300781 -4.226562 2.4375 -4.25 2.5625 -4.25 C 2.90625 -4.25 3.191406 -4.191406 3.421875 -4.078125 C 3.660156 -3.972656 3.851562 -3.820312 4 -3.625 C 4.15625 -3.4375 4.265625 -3.207031 4.328125 -2.9375 C 4.398438 -2.664062 4.4375 -2.378906 4.4375 -2.078125 C 4.4375 -1.785156 4.398438 -1.503906 4.328125 -1.234375 C 4.253906 -0.972656 4.140625 -0.742188 3.984375 -0.546875 C 3.835938 -0.347656 3.644531 -0.1875 3.40625 -0.0625 C 3.175781 0.0507812 2.90625 0.109375 2.59375 0.109375 C 2.300781 0.109375 2.019531 0.046875 1.75 -0.078125 C 1.476562 -0.210938 1.265625 -0.40625 1.109375 -0.65625 Z \"/>\n",
       "</symbol>\n",
       "<symbol overflow=\"visible\" id=\"glyph0-17\">\n",
       "<path style=\"stroke:none;\" d=\"M 0.640625 0 L 0.640625 -5.765625 L 1.125 -5.765625 L 1.125 0 Z \"/>\n",
       "</symbol>\n",
       "<symbol overflow=\"visible\" id=\"glyph0-18\">\n",
       "<path style=\"stroke:none;\" d=\"M 0.546875 1.125 C 0.609375 1.132812 0.671875 1.144531 0.734375 1.15625 C 0.804688 1.164062 0.875 1.171875 0.9375 1.171875 C 1.070312 1.171875 1.179688 1.128906 1.265625 1.046875 C 1.359375 0.960938 1.429688 0.859375 1.484375 0.734375 C 1.535156 0.617188 1.582031 0.492188 1.625 0.359375 C 1.664062 0.234375 1.707031 0.125 1.75 0.03125 L 0.140625 -4.140625 L 0.6875 -4.140625 L 2.015625 -0.578125 L 3.34375 -4.140625 L 3.859375 -4.140625 L 2.3125 -0.0625 C 2.21875 0.207031 2.125 0.441406 2.03125 0.640625 C 1.945312 0.847656 1.851562 1.023438 1.75 1.171875 C 1.65625 1.328125 1.546875 1.441406 1.421875 1.515625 C 1.304688 1.585938 1.164062 1.625 1 1.625 C 0.914062 1.625 0.832031 1.617188 0.75 1.609375 C 0.675781 1.597656 0.609375 1.585938 0.546875 1.578125 Z \"/>\n",
       "</symbol>\n",
       "<symbol overflow=\"visible\" id=\"glyph0-19\">\n",
       "<path style=\"stroke:none;\" d=\"M 1.0625 0 L 0.578125 0 L 0.578125 -4.140625 L 1.0625 -4.140625 L 1.0625 -3.5625 C 1.25 -3.769531 1.441406 -3.9375 1.640625 -4.0625 C 1.847656 -4.1875 2.097656 -4.25 2.390625 -4.25 C 2.648438 -4.25 2.890625 -4.203125 3.109375 -4.109375 C 3.328125 -4.023438 3.507812 -3.875 3.65625 -3.65625 C 3.757812 -3.507812 3.816406 -3.359375 3.828125 -3.203125 C 3.847656 -3.046875 3.859375 -2.882812 3.859375 -2.71875 L 3.859375 0 L 3.390625 0 L 3.390625 -2.703125 C 3.390625 -3.078125 3.304688 -3.359375 3.140625 -3.546875 C 2.972656 -3.734375 2.695312 -3.828125 2.3125 -3.828125 C 2.164062 -3.828125 2.03125 -3.800781 1.90625 -3.75 C 1.78125 -3.707031 1.664062 -3.648438 1.5625 -3.578125 C 1.46875 -3.503906 1.382812 -3.414062 1.3125 -3.3125 C 1.25 -3.21875 1.195312 -3.117188 1.15625 -3.015625 C 1.113281 -2.878906 1.085938 -2.75 1.078125 -2.625 C 1.066406 -2.507812 1.0625 -2.378906 1.0625 -2.234375 Z \"/>\n",
       "</symbol>\n",
       "<symbol overflow=\"visible\" id=\"glyph0-20\">\n",
       "<path style=\"stroke:none;\" d=\"M 0.984375 0 L 0.515625 0 L 0.515625 -4.140625 L 0.984375 -4.140625 L 0.984375 -3.515625 L 1.015625 -3.515625 C 1.128906 -3.753906 1.300781 -3.9375 1.53125 -4.0625 C 1.757812 -4.1875 2.007812 -4.25 2.28125 -4.25 C 2.476562 -4.25 2.640625 -4.226562 2.765625 -4.1875 C 2.898438 -4.144531 3.015625 -4.085938 3.109375 -4.015625 C 3.203125 -3.941406 3.28125 -3.859375 3.34375 -3.765625 C 3.40625 -3.671875 3.457031 -3.566406 3.5 -3.453125 C 3.644531 -3.722656 3.832031 -3.921875 4.0625 -4.046875 C 4.289062 -4.179688 4.554688 -4.25 4.859375 -4.25 C 5.140625 -4.25 5.363281 -4.203125 5.53125 -4.109375 C 5.695312 -4.015625 5.828125 -3.890625 5.921875 -3.734375 C 6.015625 -3.585938 6.070312 -3.414062 6.09375 -3.21875 C 6.125 -3.019531 6.140625 -2.816406 6.140625 -2.609375 L 6.140625 0 L 5.65625 0 L 5.65625 -2.859375 C 5.65625 -3.160156 5.59375 -3.394531 5.46875 -3.5625 C 5.34375 -3.738281 5.113281 -3.828125 4.78125 -3.828125 C 4.601562 -3.828125 4.429688 -3.785156 4.265625 -3.703125 C 4.109375 -3.628906 3.96875 -3.515625 3.84375 -3.359375 C 3.789062 -3.285156 3.742188 -3.203125 3.703125 -3.109375 C 3.671875 -3.015625 3.644531 -2.914062 3.625 -2.8125 C 3.601562 -2.707031 3.585938 -2.601562 3.578125 -2.5 C 3.566406 -2.40625 3.5625 -2.316406 3.5625 -2.234375 L 3.5625 0 L 3.09375 0 L 3.09375 -2.859375 C 3.09375 -3.160156 3.03125 -3.394531 2.90625 -3.5625 C 2.78125 -3.738281 2.546875 -3.828125 2.203125 -3.828125 C 2.023438 -3.828125 1.851562 -3.785156 1.6875 -3.703125 C 1.53125 -3.628906 1.390625 -3.515625 1.265625 -3.359375 C 1.210938 -3.285156 1.164062 -3.203125 1.125 -3.109375 C 1.09375 -3.015625 1.066406 -2.914062 1.046875 -2.8125 C 1.023438 -2.707031 1.007812 -2.601562 1 -2.5 C 0.988281 -2.40625 0.984375 -2.316406 0.984375 -2.234375 Z \"/>\n",
       "</symbol>\n",
       "<symbol overflow=\"visible\" id=\"glyph0-21\">\n",
       "<path style=\"stroke:none;\" d=\"M 0.640625 0 L 0.640625 -4.140625 L 1.125 -4.140625 L 1.125 0 Z M 0.625 -5.046875 L 0.625 -5.765625 L 1.15625 -5.765625 L 1.15625 -5.046875 Z \"/>\n",
       "</symbol>\n",
       "<symbol overflow=\"visible\" id=\"glyph0-22\">\n",
       "<path style=\"stroke:none;\" d=\"M 3.28125 -2.171875 C 3.082031 -2.085938 2.878906 -2.03125 2.671875 -2 C 2.460938 -1.976562 2.253906 -1.957031 2.046875 -1.9375 C 1.679688 -1.914062 1.394531 -1.832031 1.1875 -1.6875 C 0.976562 -1.550781 0.875 -1.34375 0.875 -1.0625 C 0.875 -0.9375 0.898438 -0.828125 0.953125 -0.734375 C 1.003906 -0.640625 1.070312 -0.5625 1.15625 -0.5 C 1.238281 -0.4375 1.332031 -0.390625 1.4375 -0.359375 C 1.550781 -0.328125 1.664062 -0.3125 1.78125 -0.3125 C 1.96875 -0.3125 2.148438 -0.335938 2.328125 -0.390625 C 2.515625 -0.441406 2.675781 -0.515625 2.8125 -0.609375 C 2.957031 -0.710938 3.070312 -0.835938 3.15625 -0.984375 C 3.238281 -1.140625 3.28125 -1.320312 3.28125 -1.53125 Z M 2.484375 -2.421875 C 2.566406 -2.429688 2.671875 -2.445312 2.796875 -2.46875 C 2.921875 -2.488281 3.023438 -2.515625 3.109375 -2.546875 C 3.191406 -2.585938 3.238281 -2.648438 3.25 -2.734375 C 3.269531 -2.828125 3.28125 -2.910156 3.28125 -2.984375 C 3.28125 -3.234375 3.203125 -3.4375 3.046875 -3.59375 C 2.890625 -3.75 2.625 -3.828125 2.25 -3.828125 C 2.09375 -3.828125 1.941406 -3.8125 1.796875 -3.78125 C 1.660156 -3.75 1.539062 -3.695312 1.4375 -3.625 C 1.332031 -3.550781 1.242188 -3.453125 1.171875 -3.328125 C 1.109375 -3.210938 1.066406 -3.066406 1.046875 -2.890625 L 0.5625 -2.890625 C 0.570312 -3.128906 0.625 -3.335938 0.71875 -3.515625 C 0.820312 -3.691406 0.945312 -3.832031 1.09375 -3.9375 C 1.25 -4.050781 1.425781 -4.128906 1.625 -4.171875 C 1.820312 -4.222656 2.035156 -4.25 2.265625 -4.25 C 2.472656 -4.25 2.664062 -4.226562 2.84375 -4.1875 C 3.03125 -4.144531 3.191406 -4.070312 3.328125 -3.96875 C 3.460938 -3.875 3.566406 -3.742188 3.640625 -3.578125 C 3.722656 -3.410156 3.765625 -3.207031 3.765625 -2.96875 L 3.765625 -0.71875 C 3.765625 -0.53125 3.796875 -0.410156 3.859375 -0.359375 C 3.929688 -0.304688 4.066406 -0.316406 4.265625 -0.390625 L 4.265625 -0.015625 C 4.234375 -0.00390625 4.179688 0.0078125 4.109375 0.03125 C 4.035156 0.0507812 3.960938 0.0625 3.890625 0.0625 C 3.816406 0.0625 3.75 0.0546875 3.6875 0.046875 C 3.601562 0.0351562 3.535156 0.0078125 3.484375 -0.03125 C 3.441406 -0.0703125 3.40625 -0.117188 3.375 -0.171875 C 3.34375 -0.234375 3.320312 -0.296875 3.3125 -0.359375 C 3.300781 -0.429688 3.296875 -0.503906 3.296875 -0.578125 C 3.085938 -0.347656 2.851562 -0.175781 2.59375 -0.0625 C 2.332031 0.0507812 2.050781 0.109375 1.75 0.109375 C 1.570312 0.109375 1.394531 0.0820312 1.21875 0.03125 C 1.050781 -0.0078125 0.90625 -0.0820312 0.78125 -0.1875 C 0.65625 -0.289062 0.554688 -0.414062 0.484375 -0.5625 C 0.410156 -0.707031 0.375 -0.878906 0.375 -1.078125 C 0.375 -1.785156 0.851562 -2.203125 1.8125 -2.328125 Z \"/>\n",
       "</symbol>\n",
       "<symbol overflow=\"visible\" id=\"glyph1-0\">\n",
       "<path style=\"stroke:none;\" d=\"M -5.59375 0 L -5.59375 -4 L 0 -4 L 0 0 Z M -5.203125 -3.359375 L -5.203125 -0.640625 L -3.15625 -2 Z M -0.765625 -3.59375 L -4.84375 -3.59375 L -2.796875 -2.234375 Z M -0.40625 -3.359375 L -2.4375 -2 L -0.40625 -0.640625 Z M -0.765625 -0.40625 L -2.796875 -1.765625 L -4.84375 -0.40625 Z \"/>\n",
       "</symbol>\n",
       "<symbol overflow=\"visible\" id=\"glyph1-1\">\n",
       "<path style=\"stroke:none;\" d=\"M -2.78125 -3.609375 C -3.082031 -3.609375 -3.378906 -3.59375 -3.671875 -3.5625 C -3.960938 -3.53125 -4.222656 -3.460938 -4.453125 -3.359375 C -4.679688 -3.253906 -4.863281 -3.109375 -5 -2.921875 C -5.132812 -2.742188 -5.203125 -2.503906 -5.203125 -2.203125 C -5.203125 -1.921875 -5.128906 -1.691406 -4.984375 -1.515625 C -4.847656 -1.335938 -4.660156 -1.195312 -4.421875 -1.09375 C -4.191406 -0.988281 -3.925781 -0.914062 -3.625 -0.875 C -3.332031 -0.84375 -3.03125 -0.828125 -2.71875 -0.828125 C -2.351562 -0.828125 -2.019531 -0.847656 -1.71875 -0.890625 C -1.425781 -0.929688 -1.175781 -1.003906 -0.96875 -1.109375 C -0.757812 -1.222656 -0.597656 -1.367188 -0.484375 -1.546875 C -0.367188 -1.722656 -0.3125 -1.945312 -0.3125 -2.21875 C -0.3125 -2.53125 -0.382812 -2.773438 -0.53125 -2.953125 C -0.6875 -3.140625 -0.878906 -3.28125 -1.109375 -3.375 C -1.347656 -3.46875 -1.613281 -3.53125 -1.90625 -3.5625 C -2.207031 -3.59375 -2.5 -3.609375 -2.78125 -3.609375 Z M -5.640625 -2.21875 C -5.640625 -2.5 -5.597656 -2.738281 -5.515625 -2.9375 C -5.429688 -3.144531 -5.316406 -3.316406 -5.171875 -3.453125 C -5.023438 -3.597656 -4.859375 -3.710938 -4.671875 -3.796875 C -4.484375 -3.890625 -4.28125 -3.957031 -4.0625 -4 C -3.84375 -4.050781 -3.617188 -4.082031 -3.390625 -4.09375 C -3.160156 -4.113281 -2.9375 -4.125 -2.71875 -4.125 C -2.34375 -4.125 -1.984375 -4.097656 -1.640625 -4.046875 C -1.304688 -3.992188 -1.007812 -3.894531 -0.75 -3.75 C -0.488281 -3.613281 -0.28125 -3.421875 -0.125 -3.171875 C 0.03125 -2.929688 0.109375 -2.613281 0.109375 -2.21875 C 0.109375 -1.832031 0.03125 -1.515625 -0.125 -1.265625 C -0.28125 -1.015625 -0.488281 -0.816406 -0.75 -0.671875 C -1.007812 -0.535156 -1.3125 -0.441406 -1.65625 -0.390625 C -2.007812 -0.335938 -2.382812 -0.3125 -2.78125 -0.3125 C -3.132812 -0.3125 -3.484375 -0.332031 -3.828125 -0.375 C -4.171875 -0.425781 -4.472656 -0.519531 -4.734375 -0.65625 C -5.003906 -0.789062 -5.222656 -0.984375 -5.390625 -1.234375 C -5.554688 -1.484375 -5.640625 -1.8125 -5.640625 -2.21875 Z \"/>\n",
       "</symbol>\n",
       "<symbol overflow=\"visible\" id=\"glyph1-2\">\n",
       "<path style=\"stroke:none;\" d=\"M -1.390625 -2.859375 L -1.390625 -0.28125 L -1.828125 -0.28125 L -5.578125 -2.90625 L -5.578125 -3.375 L -1.828125 -3.375 L -1.828125 -4.15625 L -1.390625 -4.15625 L -1.390625 -3.375 L 0 -3.375 L 0 -2.859375 Z M -1.828125 -0.796875 L -1.828125 -2.859375 L -4.8125 -2.859375 Z \"/>\n",
       "</symbol>\n",
       "<symbol overflow=\"visible\" id=\"glyph1-3\">\n",
       "<path style=\"stroke:none;\" d=\"M -2.765625 -2.234375 C -2.765625 -2.035156 -2.738281 -1.851562 -2.6875 -1.6875 C -2.632812 -1.519531 -2.554688 -1.375 -2.453125 -1.25 C -2.359375 -1.132812 -2.234375 -1.039062 -2.078125 -0.96875 C -1.929688 -0.894531 -1.753906 -0.859375 -1.546875 -0.859375 C -1.367188 -0.859375 -1.207031 -0.890625 -1.0625 -0.953125 C -0.914062 -1.023438 -0.785156 -1.117188 -0.671875 -1.234375 C -0.566406 -1.359375 -0.476562 -1.503906 -0.40625 -1.671875 C -0.34375 -1.847656 -0.3125 -2.046875 -0.3125 -2.265625 C -0.3125 -2.453125 -0.34375 -2.625 -0.40625 -2.78125 C -0.46875 -2.945312 -0.554688 -3.085938 -0.671875 -3.203125 C -0.785156 -3.328125 -0.914062 -3.421875 -1.0625 -3.484375 C -1.21875 -3.546875 -1.390625 -3.578125 -1.578125 -3.578125 C -1.773438 -3.578125 -1.945312 -3.539062 -2.09375 -3.46875 C -2.238281 -3.40625 -2.359375 -3.3125 -2.453125 -3.1875 C -2.554688 -3.070312 -2.632812 -2.929688 -2.6875 -2.765625 C -2.738281 -2.597656 -2.765625 -2.421875 -2.765625 -2.234375 Z M -5.203125 -2.203125 C -5.203125 -2.046875 -5.179688 -1.894531 -5.140625 -1.75 C -5.097656 -1.613281 -5.035156 -1.492188 -4.953125 -1.390625 C -4.867188 -1.285156 -4.757812 -1.203125 -4.625 -1.140625 C -4.5 -1.085938 -4.351562 -1.0625 -4.1875 -1.0625 C -4.007812 -1.0625 -3.859375 -1.09375 -3.734375 -1.15625 C -3.609375 -1.226562 -3.503906 -1.316406 -3.421875 -1.421875 C -3.347656 -1.535156 -3.289062 -1.664062 -3.25 -1.8125 C -3.207031 -1.957031 -3.1875 -2.109375 -3.1875 -2.265625 C -3.1875 -2.421875 -3.207031 -2.5625 -3.25 -2.6875 C -3.289062 -2.820312 -3.351562 -2.9375 -3.4375 -3.03125 C -3.53125 -3.132812 -3.644531 -3.210938 -3.78125 -3.265625 C -3.925781 -3.328125 -4.097656 -3.359375 -4.296875 -3.359375 C -4.585938 -3.359375 -4.8125 -3.265625 -4.96875 -3.078125 C -5.125 -2.890625 -5.203125 -2.597656 -5.203125 -2.203125 Z M -3.03125 -1.34375 C -3.113281 -1.195312 -3.191406 -1.070312 -3.265625 -0.96875 C -3.347656 -0.875 -3.429688 -0.796875 -3.515625 -0.734375 C -3.609375 -0.671875 -3.710938 -0.625 -3.828125 -0.59375 C -3.953125 -0.5625 -4.097656 -0.546875 -4.265625 -0.546875 C -4.453125 -0.546875 -4.628906 -0.585938 -4.796875 -0.671875 C -4.972656 -0.765625 -5.125 -0.878906 -5.25 -1.015625 C -5.375 -1.160156 -5.46875 -1.332031 -5.53125 -1.53125 C -5.601562 -1.726562 -5.640625 -1.9375 -5.640625 -2.15625 C -5.640625 -2.375 -5.613281 -2.582031 -5.5625 -2.78125 C -5.507812 -2.988281 -5.425781 -3.171875 -5.3125 -3.328125 C -5.195312 -3.492188 -5.050781 -3.625 -4.875 -3.71875 C -4.707031 -3.8125 -4.503906 -3.859375 -4.265625 -3.859375 C -3.972656 -3.859375 -3.722656 -3.796875 -3.515625 -3.671875 C -3.304688 -3.554688 -3.132812 -3.363281 -3 -3.09375 C -2.882812 -3.40625 -2.703125 -3.648438 -2.453125 -3.828125 C -2.210938 -4.003906 -1.925781 -4.09375 -1.59375 -4.09375 C -1.320312 -4.09375 -1.078125 -4.046875 -0.859375 -3.953125 C -0.648438 -3.859375 -0.472656 -3.722656 -0.328125 -3.546875 C -0.179688 -3.378906 -0.0703125 -3.171875 0 -2.921875 C 0.0703125 -2.679688 0.109375 -2.410156 0.109375 -2.109375 C 0.109375 -1.910156 0.0703125 -1.703125 0 -1.484375 C -0.0625 -1.273438 -0.160156 -1.085938 -0.296875 -0.921875 C -0.441406 -0.753906 -0.617188 -0.617188 -0.828125 -0.515625 C -1.035156 -0.410156 -1.273438 -0.359375 -1.546875 -0.359375 C -1.890625 -0.359375 -2.191406 -0.441406 -2.453125 -0.609375 C -2.710938 -0.773438 -2.90625 -1.019531 -3.03125 -1.34375 Z \"/>\n",
       "</symbol>\n",
       "<symbol overflow=\"visible\" id=\"glyph1-4\">\n",
       "<path style=\"stroke:none;\" d=\"M -4.09375 -4.734375 C -4.582031 -4.617188 -4.929688 -4.410156 -5.140625 -4.109375 C -5.347656 -3.804688 -5.453125 -3.410156 -5.453125 -2.921875 C -5.453125 -2.578125 -5.378906 -2.273438 -5.234375 -2.015625 C -5.097656 -1.765625 -4.910156 -1.554688 -4.671875 -1.390625 C -4.441406 -1.234375 -4.171875 -1.113281 -3.859375 -1.03125 C -3.554688 -0.957031 -3.234375 -0.921875 -2.890625 -0.921875 C -2.578125 -0.921875 -2.265625 -0.953125 -1.953125 -1.015625 C -1.640625 -1.085938 -1.363281 -1.203125 -1.125 -1.359375 C -0.882812 -1.515625 -0.6875 -1.722656 -0.53125 -1.984375 C -0.382812 -2.242188 -0.3125 -2.570312 -0.3125 -2.96875 C -0.3125 -3.21875 -0.347656 -3.441406 -0.421875 -3.640625 C -0.503906 -3.835938 -0.613281 -4.015625 -0.75 -4.171875 C -0.894531 -4.328125 -1.0625 -4.457031 -1.25 -4.5625 C -1.445312 -4.664062 -1.660156 -4.742188 -1.890625 -4.796875 L -1.890625 -5.359375 C -1.617188 -5.296875 -1.359375 -5.203125 -1.109375 -5.078125 C -0.859375 -4.953125 -0.640625 -4.789062 -0.453125 -4.59375 C -0.265625 -4.394531 -0.113281 -4.148438 0 -3.859375 C 0.101562 -3.578125 0.15625 -3.242188 0.15625 -2.859375 C 0.15625 -2.421875 0.0703125 -2.039062 -0.09375 -1.71875 C -0.257812 -1.40625 -0.476562 -1.148438 -0.75 -0.953125 C -1.03125 -0.753906 -1.351562 -0.609375 -1.71875 -0.515625 C -2.082031 -0.429688 -2.46875 -0.390625 -2.875 -0.390625 C -3.425781 -0.390625 -3.894531 -0.457031 -4.28125 -0.59375 C -4.664062 -0.726562 -4.976562 -0.914062 -5.21875 -1.15625 C -5.457031 -1.394531 -5.628906 -1.675781 -5.734375 -2 C -5.847656 -2.320312 -5.90625 -2.675781 -5.90625 -3.0625 C -5.90625 -3.351562 -5.867188 -3.625 -5.796875 -3.875 C -5.722656 -4.132812 -5.609375 -4.359375 -5.453125 -4.546875 C -5.296875 -4.742188 -5.101562 -4.90625 -4.875 -5.03125 C -4.644531 -5.15625 -4.382812 -5.242188 -4.09375 -5.296875 Z \"/>\n",
       "</symbol>\n",
       "<symbol overflow=\"visible\" id=\"glyph1-5\">\n",
       "<path style=\"stroke:none;\" d=\"M -2.0625 -1.109375 C -1.820312 -1.109375 -1.597656 -1.140625 -1.390625 -1.203125 C -1.179688 -1.265625 -0.992188 -1.351562 -0.828125 -1.46875 C -0.671875 -1.59375 -0.546875 -1.742188 -0.453125 -1.921875 C -0.359375 -2.097656 -0.3125 -2.296875 -0.3125 -2.515625 C -0.3125 -2.753906 -0.359375 -2.96875 -0.453125 -3.15625 C -0.554688 -3.34375 -0.691406 -3.492188 -0.859375 -3.609375 C -1.035156 -3.722656 -1.238281 -3.804688 -1.46875 -3.859375 C -1.695312 -3.910156 -1.941406 -3.929688 -2.203125 -3.921875 C -2.460938 -3.921875 -2.691406 -3.882812 -2.890625 -3.8125 C -3.085938 -3.75 -3.253906 -3.648438 -3.390625 -3.515625 C -3.535156 -3.390625 -3.644531 -3.238281 -3.71875 -3.0625 C -3.789062 -2.894531 -3.828125 -2.710938 -3.828125 -2.515625 C -3.828125 -2.285156 -3.78125 -2.082031 -3.6875 -1.90625 C -3.59375 -1.726562 -3.46875 -1.582031 -3.3125 -1.46875 C -3.15625 -1.351562 -2.96875 -1.265625 -2.75 -1.203125 C -2.539062 -1.140625 -2.3125 -1.109375 -2.0625 -1.109375 Z M 1.625 -1.109375 L 1.625 -0.625 L -4.140625 -0.625 L -4.140625 -1.109375 L -3.421875 -1.109375 L -3.421875 -1.125 C -3.546875 -1.195312 -3.660156 -1.285156 -3.765625 -1.390625 C -3.878906 -1.503906 -3.96875 -1.625 -4.03125 -1.75 C -4.101562 -1.882812 -4.15625 -2.019531 -4.1875 -2.15625 C -4.226562 -2.300781 -4.25 -2.4375 -4.25 -2.5625 C -4.25 -2.90625 -4.191406 -3.191406 -4.078125 -3.421875 C -3.972656 -3.660156 -3.820312 -3.851562 -3.625 -4 C -3.4375 -4.15625 -3.207031 -4.265625 -2.9375 -4.328125 C -2.664062 -4.398438 -2.378906 -4.4375 -2.078125 -4.4375 C -1.785156 -4.4375 -1.503906 -4.398438 -1.234375 -4.328125 C -0.972656 -4.253906 -0.742188 -4.140625 -0.546875 -3.984375 C -0.347656 -3.835938 -0.1875 -3.644531 -0.0625 -3.40625 C 0.0507812 -3.175781 0.109375 -2.90625 0.109375 -2.59375 C 0.109375 -2.300781 0.046875 -2.019531 -0.078125 -1.75 C -0.210938 -1.476562 -0.40625 -1.265625 -0.65625 -1.109375 Z \"/>\n",
       "</symbol>\n",
       "<symbol overflow=\"visible\" id=\"glyph1-6\">\n",
       "<path style=\"stroke:none;\" d=\"M -2.328125 -2.34375 L -1.828125 -2.34375 L -1.828125 -0.3125 L -2.328125 -0.3125 Z \"/>\n",
       "</symbol>\n",
       "<symbol overflow=\"visible\" id=\"glyph1-7\">\n",
       "<path style=\"stroke:none;\" d=\"M -1.46875 -0.796875 C -1.082031 -0.847656 -0.789062 -1 -0.59375 -1.25 C -0.40625 -1.5 -0.3125 -1.8125 -0.3125 -2.1875 C -0.3125 -2.394531 -0.347656 -2.582031 -0.421875 -2.75 C -0.503906 -2.914062 -0.609375 -3.054688 -0.734375 -3.171875 C -0.867188 -3.296875 -1.019531 -3.382812 -1.1875 -3.4375 C -1.363281 -3.5 -1.554688 -3.53125 -1.765625 -3.53125 C -1.972656 -3.53125 -2.160156 -3.5 -2.328125 -3.4375 C -2.503906 -3.375 -2.65625 -3.28125 -2.78125 -3.15625 C -2.914062 -3.03125 -3.015625 -2.878906 -3.078125 -2.703125 C -3.148438 -2.535156 -3.1875 -2.347656 -3.1875 -2.140625 C -3.1875 -1.878906 -3.140625 -1.644531 -3.046875 -1.4375 C -2.953125 -1.238281 -2.804688 -1.0625 -2.609375 -0.90625 L -2.65625 -0.484375 L -5.578125 -0.9375 L -5.578125 -3.75 L -5.15625 -3.75 L -5.15625 -1.375 L -3.25 -1.03125 C -3.320312 -1.132812 -3.378906 -1.234375 -3.421875 -1.328125 C -3.472656 -1.421875 -3.515625 -1.515625 -3.546875 -1.609375 C -3.578125 -1.710938 -3.597656 -1.816406 -3.609375 -1.921875 C -3.617188 -2.023438 -3.625 -2.140625 -3.625 -2.265625 C -3.625 -2.515625 -3.582031 -2.75 -3.5 -2.96875 C -3.414062 -3.1875 -3.289062 -3.375 -3.125 -3.53125 C -2.96875 -3.695312 -2.769531 -3.820312 -2.53125 -3.90625 C -2.300781 -4 -2.046875 -4.046875 -1.765625 -4.046875 C -1.460938 -4.046875 -1.191406 -3.992188 -0.953125 -3.890625 C -0.722656 -3.796875 -0.53125 -3.664062 -0.375 -3.5 C -0.21875 -3.332031 -0.0976562 -3.140625 -0.015625 -2.921875 C 0.0664062 -2.710938 0.109375 -2.492188 0.109375 -2.265625 C 0.109375 -1.992188 0.0820312 -1.742188 0.03125 -1.515625 C -0.0195312 -1.285156 -0.109375 -1.082031 -0.234375 -0.90625 C -0.359375 -0.726562 -0.519531 -0.582031 -0.71875 -0.46875 C -0.925781 -0.363281 -1.175781 -0.300781 -1.46875 -0.28125 Z \"/>\n",
       "</symbol>\n",
       "<symbol overflow=\"visible\" id=\"glyph1-8\">\n",
       "<path style=\"stroke:none;\" d=\"M -3.140625 -1.765625 C -3.140625 -2.003906 -3.148438 -2.222656 -3.171875 -2.421875 C -3.203125 -2.617188 -3.257812 -2.785156 -3.34375 -2.921875 C -3.425781 -3.066406 -3.535156 -3.179688 -3.671875 -3.265625 C -3.816406 -3.347656 -4 -3.390625 -4.21875 -3.390625 C -4.394531 -3.390625 -4.546875 -3.351562 -4.671875 -3.28125 C -4.796875 -3.21875 -4.894531 -3.128906 -4.96875 -3.015625 C -5.050781 -2.910156 -5.109375 -2.785156 -5.140625 -2.640625 C -5.179688 -2.492188 -5.203125 -2.34375 -5.203125 -2.1875 C -5.203125 -2 -5.171875 -1.832031 -5.109375 -1.6875 C -5.054688 -1.539062 -4.972656 -1.414062 -4.859375 -1.3125 C -4.753906 -1.207031 -4.628906 -1.125 -4.484375 -1.0625 C -4.335938 -1 -4.175781 -0.96875 -4 -0.96875 L -4 -0.46875 C -4.257812 -0.46875 -4.488281 -0.507812 -4.6875 -0.59375 C -4.894531 -0.6875 -5.085938 -0.828125 -5.265625 -1.015625 C -5.421875 -1.179688 -5.519531 -1.375 -5.5625 -1.59375 C -5.613281 -1.820312 -5.640625 -2.050781 -5.640625 -2.28125 C -5.640625 -2.507812 -5.609375 -2.71875 -5.546875 -2.90625 C -5.492188 -3.101562 -5.410156 -3.273438 -5.296875 -3.421875 C -5.179688 -3.566406 -5.035156 -3.679688 -4.859375 -3.765625 C -4.679688 -3.847656 -4.476562 -3.890625 -4.25 -3.890625 C -3.957031 -3.890625 -3.703125 -3.820312 -3.484375 -3.6875 C -3.273438 -3.5625 -3.109375 -3.363281 -2.984375 -3.09375 C -2.921875 -3.300781 -2.835938 -3.46875 -2.734375 -3.59375 C -2.628906 -3.726562 -2.515625 -3.832031 -2.390625 -3.90625 C -2.265625 -3.976562 -2.132812 -4.023438 -2 -4.046875 C -1.863281 -4.078125 -1.726562 -4.09375 -1.59375 -4.09375 C -1.363281 -4.09375 -1.144531 -4.050781 -0.9375 -3.96875 C -0.738281 -3.894531 -0.5625 -3.78125 -0.40625 -3.625 C -0.25 -3.46875 -0.125 -3.273438 -0.03125 -3.046875 C 0.0625 -2.828125 0.109375 -2.570312 0.109375 -2.28125 C 0.109375 -1.957031 0.078125 -1.675781 0.015625 -1.4375 C -0.0351562 -1.195312 -0.128906 -0.992188 -0.265625 -0.828125 C -0.398438 -0.671875 -0.578125 -0.546875 -0.796875 -0.453125 C -1.023438 -0.359375 -1.300781 -0.296875 -1.625 -0.265625 L -1.625 -0.78125 C -1.195312 -0.78125 -0.867188 -0.910156 -0.640625 -1.171875 C -0.421875 -1.429688 -0.3125 -1.769531 -0.3125 -2.1875 C -0.3125 -2.382812 -0.347656 -2.570312 -0.421875 -2.75 C -0.492188 -2.925781 -0.585938 -3.078125 -0.703125 -3.203125 C -0.816406 -3.328125 -0.953125 -3.421875 -1.109375 -3.484375 C -1.265625 -3.554688 -1.425781 -3.585938 -1.59375 -3.578125 C -1.820312 -3.566406 -2.007812 -3.515625 -2.15625 -3.421875 C -2.3125 -3.328125 -2.429688 -3.195312 -2.515625 -3.03125 C -2.609375 -2.875 -2.671875 -2.6875 -2.703125 -2.46875 C -2.734375 -2.25 -2.738281 -2.015625 -2.71875 -1.765625 Z \"/>\n",
       "</symbol>\n",
       "<symbol overflow=\"visible\" id=\"glyph1-9\">\n",
       "<path style=\"stroke:none;\" d=\"M -4.1875 -2.421875 L -4.1875 -0.953125 L -4.53125 -0.953125 C -4.539062 -1.171875 -4.554688 -1.363281 -4.578125 -1.53125 C -4.609375 -1.707031 -4.660156 -1.859375 -4.734375 -1.984375 C -4.816406 -2.117188 -4.925781 -2.226562 -5.0625 -2.3125 C -5.207031 -2.40625 -5.398438 -2.472656 -5.640625 -2.515625 L -5.640625 -2.921875 L 0 -2.921875 L 0 -2.421875 Z \"/>\n",
       "</symbol>\n",
       "<symbol overflow=\"visible\" id=\"glyph1-10\">\n",
       "<path style=\"stroke:none;\" d=\"M -2.09375 -1.109375 C -1.84375 -1.109375 -1.609375 -1.140625 -1.390625 -1.203125 C -1.171875 -1.265625 -0.984375 -1.351562 -0.828125 -1.46875 C -0.671875 -1.582031 -0.546875 -1.726562 -0.453125 -1.90625 C -0.359375 -2.082031 -0.3125 -2.285156 -0.3125 -2.515625 C -0.3125 -2.710938 -0.347656 -2.894531 -0.421875 -3.0625 C -0.492188 -3.238281 -0.597656 -3.390625 -0.734375 -3.515625 C -0.878906 -3.648438 -1.050781 -3.75 -1.25 -3.8125 C -1.445312 -3.882812 -1.675781 -3.921875 -1.9375 -3.921875 C -2.207031 -3.929688 -2.453125 -3.910156 -2.671875 -3.859375 C -2.898438 -3.804688 -3.097656 -3.722656 -3.265625 -3.609375 C -3.441406 -3.492188 -3.578125 -3.34375 -3.671875 -3.15625 C -3.773438 -2.96875 -3.828125 -2.753906 -3.828125 -2.515625 C -3.828125 -2.296875 -3.78125 -2.097656 -3.6875 -1.921875 C -3.59375 -1.742188 -3.46875 -1.59375 -3.3125 -1.46875 C -3.15625 -1.351562 -2.96875 -1.265625 -2.75 -1.203125 C -2.539062 -1.140625 -2.320312 -1.109375 -2.09375 -1.109375 Z M 0 -1.109375 L 0 -0.625 L -5.765625 -0.625 L -5.765625 -1.109375 L -3.484375 -1.109375 C -3.734375 -1.265625 -3.921875 -1.476562 -4.046875 -1.75 C -4.179688 -2.019531 -4.25 -2.300781 -4.25 -2.59375 C -4.25 -2.90625 -4.1875 -3.175781 -4.0625 -3.40625 C -3.945312 -3.644531 -3.789062 -3.835938 -3.59375 -3.984375 C -3.394531 -4.140625 -3.160156 -4.253906 -2.890625 -4.328125 C -2.628906 -4.398438 -2.351562 -4.4375 -2.0625 -4.4375 C -1.757812 -4.4375 -1.472656 -4.398438 -1.203125 -4.328125 C -0.941406 -4.265625 -0.710938 -4.15625 -0.515625 -4 C -0.316406 -3.851562 -0.160156 -3.660156 -0.046875 -3.421875 C 0.0546875 -3.191406 0.109375 -2.90625 0.109375 -2.5625 C 0.109375 -2.4375 0.0859375 -2.300781 0.046875 -2.15625 C 0.015625 -2.019531 -0.03125 -1.882812 -0.09375 -1.75 C -0.164062 -1.625 -0.253906 -1.503906 -0.359375 -1.390625 C -0.460938 -1.285156 -0.585938 -1.195312 -0.734375 -1.125 L -0.734375 -1.109375 Z \"/>\n",
       "</symbol>\n",
       "<symbol overflow=\"visible\" id=\"glyph1-11\">\n",
       "<path style=\"stroke:none;\" d=\"M 0 -0.640625 L -4.140625 -0.640625 L -4.140625 -1.125 L 0 -1.125 Z M -5.046875 -0.625 L -5.765625 -0.625 L -5.765625 -1.15625 L -5.046875 -1.15625 Z \"/>\n",
       "</symbol>\n",
       "<symbol overflow=\"visible\" id=\"glyph1-12\">\n",
       "<path style=\"stroke:none;\" d=\"M -2.84375 -3.515625 C -3.144531 -3.429688 -3.382812 -3.285156 -3.5625 -3.078125 C -3.738281 -2.867188 -3.828125 -2.601562 -3.828125 -2.28125 C -3.828125 -2.03125 -3.773438 -1.816406 -3.671875 -1.640625 C -3.566406 -1.472656 -3.429688 -1.332031 -3.265625 -1.21875 C -3.097656 -1.101562 -2.910156 -1.019531 -2.703125 -0.96875 C -2.492188 -0.914062 -2.28125 -0.890625 -2.0625 -0.890625 C -1.84375 -0.890625 -1.628906 -0.914062 -1.421875 -0.96875 C -1.210938 -1.019531 -1.023438 -1.097656 -0.859375 -1.203125 C -0.691406 -1.316406 -0.554688 -1.460938 -0.453125 -1.640625 C -0.359375 -1.816406 -0.3125 -2.03125 -0.3125 -2.28125 C -0.3125 -2.632812 -0.410156 -2.921875 -0.609375 -3.140625 C -0.804688 -3.359375 -1.082031 -3.492188 -1.4375 -3.546875 L -1.4375 -4.0625 C -1.207031 -4.019531 -0.992188 -3.953125 -0.796875 -3.859375 C -0.609375 -3.765625 -0.445312 -3.644531 -0.3125 -3.5 C -0.175781 -3.351562 -0.0703125 -3.175781 0 -2.96875 C 0.0703125 -2.769531 0.109375 -2.539062 0.109375 -2.28125 C 0.109375 -1.945312 0.0546875 -1.660156 -0.046875 -1.421875 C -0.160156 -1.179688 -0.316406 -0.984375 -0.515625 -0.828125 C -0.710938 -0.671875 -0.941406 -0.554688 -1.203125 -0.484375 C -1.472656 -0.410156 -1.757812 -0.375 -2.0625 -0.375 C -2.351562 -0.375 -2.628906 -0.414062 -2.890625 -0.5 C -3.148438 -0.582031 -3.378906 -0.703125 -3.578125 -0.859375 C -3.785156 -1.023438 -3.945312 -1.222656 -4.0625 -1.453125 C -4.1875 -1.691406 -4.25 -1.96875 -4.25 -2.28125 C -4.25 -2.757812 -4.132812 -3.144531 -3.90625 -3.4375 C -3.675781 -3.738281 -3.320312 -3.925781 -2.84375 -4 Z \"/>\n",
       "</symbol>\n",
       "<symbol overflow=\"visible\" id=\"glyph1-13\">\n",
       "<path style=\"stroke:none;\" d=\"M 0 -0.8125 L -0.703125 -0.8125 L -0.703125 -1.40625 L 0 -1.40625 Z \"/>\n",
       "</symbol>\n",
       "<symbol overflow=\"visible\" id=\"glyph1-14\">\n",
       "<path style=\"stroke:none;\" d=\"M -5.578125 -0.46875 L -5.578125 -4.0625 L -5.109375 -4.0625 C -4.648438 -3.65625 -4.175781 -3.3125 -3.6875 -3.03125 C -3.207031 -2.75 -2.738281 -2.515625 -2.28125 -2.328125 C -1.820312 -2.148438 -1.394531 -2.015625 -1 -1.921875 C -0.613281 -1.835938 -0.28125 -1.789062 0 -1.78125 L 0 -1.21875 C -0.40625 -1.238281 -0.832031 -1.316406 -1.28125 -1.453125 C -1.738281 -1.585938 -2.191406 -1.753906 -2.640625 -1.953125 C -3.085938 -2.160156 -3.519531 -2.394531 -3.9375 -2.65625 C -4.363281 -2.914062 -4.742188 -3.179688 -5.078125 -3.453125 L -5.078125 -0.46875 Z \"/>\n",
       "</symbol>\n",
       "<symbol overflow=\"visible\" id=\"glyph1-15\">\n",
       "<path style=\"stroke:none;\" d=\"M -1.234375 -0.9375 C -0.929688 -1 -0.703125 -1.117188 -0.546875 -1.296875 C -0.390625 -1.472656 -0.3125 -1.722656 -0.3125 -2.046875 C -0.3125 -2.378906 -0.394531 -2.644531 -0.5625 -2.84375 C -0.726562 -3.039062 -0.9375 -3.191406 -1.1875 -3.296875 C -1.4375 -3.410156 -1.707031 -3.488281 -2 -3.53125 C -2.289062 -3.570312 -2.566406 -3.597656 -2.828125 -3.609375 L -2.84375 -3.59375 C -2.550781 -3.425781 -2.328125 -3.210938 -2.171875 -2.953125 C -2.023438 -2.703125 -1.953125 -2.410156 -1.953125 -2.078125 C -1.953125 -1.804688 -1.992188 -1.5625 -2.078125 -1.34375 C -2.171875 -1.132812 -2.296875 -0.953125 -2.453125 -0.796875 C -2.617188 -0.648438 -2.8125 -0.535156 -3.03125 -0.453125 C -3.257812 -0.367188 -3.507812 -0.328125 -3.78125 -0.328125 C -4.039062 -0.328125 -4.285156 -0.363281 -4.515625 -0.4375 C -4.742188 -0.507812 -4.941406 -0.617188 -5.109375 -0.765625 C -5.273438 -0.921875 -5.40625 -1.113281 -5.5 -1.34375 C -5.59375 -1.570312 -5.640625 -1.835938 -5.640625 -2.140625 C -5.640625 -2.523438 -5.5625 -2.84375 -5.40625 -3.09375 C -5.257812 -3.34375 -5.054688 -3.539062 -4.796875 -3.6875 C -4.546875 -3.84375 -4.25 -3.953125 -3.90625 -4.015625 C -3.5625 -4.085938 -3.191406 -4.125 -2.796875 -4.125 C -2.316406 -4.125 -1.894531 -4.070312 -1.53125 -3.96875 C -1.164062 -3.863281 -0.859375 -3.71875 -0.609375 -3.53125 C -0.367188 -3.351562 -0.1875 -3.140625 -0.0625 -2.890625 C 0.0507812 -2.640625 0.109375 -2.363281 0.109375 -2.0625 C 0.109375 -1.84375 0.0820312 -1.632812 0.03125 -1.4375 C -0.0195312 -1.25 -0.101562 -1.082031 -0.21875 -0.9375 C -0.332031 -0.800781 -0.472656 -0.6875 -0.640625 -0.59375 C -0.804688 -0.5 -1.003906 -0.441406 -1.234375 -0.421875 Z M -5.203125 -2.140625 C -5.191406 -1.710938 -5.054688 -1.390625 -4.796875 -1.171875 C -4.546875 -0.953125 -4.203125 -0.84375 -3.765625 -0.84375 C -3.328125 -0.84375 -2.988281 -0.953125 -2.75 -1.171875 C -2.507812 -1.398438 -2.390625 -1.722656 -2.390625 -2.140625 C -2.390625 -2.335938 -2.425781 -2.515625 -2.5 -2.671875 C -2.570312 -2.828125 -2.671875 -2.957031 -2.796875 -3.0625 C -2.929688 -3.175781 -3.082031 -3.257812 -3.25 -3.3125 C -3.414062 -3.375 -3.597656 -3.40625 -3.796875 -3.40625 C -4.210938 -3.40625 -4.546875 -3.289062 -4.796875 -3.0625 C -5.054688 -2.84375 -5.191406 -2.535156 -5.203125 -2.140625 Z \"/>\n",
       "</symbol>\n",
       "<symbol overflow=\"visible\" id=\"glyph1-16\">\n",
       "<path style=\"stroke:none;\" d=\"M 0 -1.078125 L 0 -0.59375 L -4.140625 -0.59375 L -4.140625 -1.078125 L -3.375 -1.078125 L -3.375 -1.09375 C -3.695312 -1.226562 -3.921875 -1.398438 -4.046875 -1.609375 C -4.179688 -1.816406 -4.25 -2.097656 -4.25 -2.453125 L -3.734375 -2.453125 C -3.742188 -2.179688 -3.703125 -1.957031 -3.609375 -1.78125 C -3.515625 -1.601562 -3.390625 -1.460938 -3.234375 -1.359375 C -3.085938 -1.253906 -2.90625 -1.179688 -2.6875 -1.140625 C -2.476562 -1.097656 -2.257812 -1.078125 -2.03125 -1.078125 Z \"/>\n",
       "</symbol>\n",
       "<symbol overflow=\"visible\" id=\"glyph1-17\">\n",
       "<path style=\"stroke:none;\" d=\"M -1.296875 -0.859375 C -0.941406 -0.929688 -0.6875 -1.0625 -0.53125 -1.25 C -0.382812 -1.445312 -0.3125 -1.726562 -0.3125 -2.09375 C -0.3125 -2.269531 -0.332031 -2.421875 -0.375 -2.546875 C -0.425781 -2.679688 -0.484375 -2.785156 -0.546875 -2.859375 C -0.617188 -2.941406 -0.703125 -3.003906 -0.796875 -3.046875 C -0.890625 -3.097656 -0.988281 -3.125 -1.09375 -3.125 C -1.289062 -3.125 -1.4375 -3.054688 -1.53125 -2.921875 C -1.632812 -2.796875 -1.710938 -2.632812 -1.765625 -2.4375 C -1.828125 -2.238281 -1.875 -2.023438 -1.90625 -1.796875 C -1.945312 -1.566406 -2.007812 -1.351562 -2.09375 -1.15625 C -2.175781 -0.957031 -2.289062 -0.789062 -2.4375 -0.65625 C -2.582031 -0.53125 -2.796875 -0.46875 -3.078125 -0.46875 C -3.421875 -0.46875 -3.703125 -0.59375 -3.921875 -0.84375 C -4.140625 -1.09375 -4.25 -1.453125 -4.25 -1.921875 C -4.25 -2.367188 -4.148438 -2.734375 -3.953125 -3.015625 C -3.753906 -3.296875 -3.421875 -3.460938 -2.953125 -3.515625 L -2.953125 -3.03125 C -3.273438 -2.988281 -3.5 -2.867188 -3.625 -2.671875 C -3.757812 -2.472656 -3.828125 -2.21875 -3.828125 -1.90625 C -3.828125 -1.601562 -3.757812 -1.367188 -3.625 -1.203125 C -3.5 -1.046875 -3.328125 -0.96875 -3.109375 -0.96875 C -2.921875 -0.96875 -2.773438 -1.035156 -2.671875 -1.171875 C -2.578125 -1.304688 -2.5 -1.46875 -2.4375 -1.65625 C -2.382812 -1.851562 -2.332031 -2.066406 -2.28125 -2.296875 C -2.226562 -2.523438 -2.15625 -2.738281 -2.0625 -2.9375 C -1.976562 -3.132812 -1.863281 -3.296875 -1.71875 -3.421875 C -1.570312 -3.554688 -1.363281 -3.625 -1.09375 -3.625 C -0.894531 -3.625 -0.71875 -3.582031 -0.5625 -3.5 C -0.414062 -3.414062 -0.289062 -3.296875 -0.1875 -3.140625 C -0.09375 -2.992188 -0.0195312 -2.816406 0.03125 -2.609375 C 0.0820312 -2.410156 0.109375 -2.1875 0.109375 -1.9375 C 0.109375 -1.695312 0.0703125 -1.484375 0 -1.296875 C -0.0703125 -1.109375 -0.171875 -0.945312 -0.296875 -0.8125 C -0.421875 -0.675781 -0.566406 -0.570312 -0.734375 -0.5 C -0.910156 -0.425781 -1.097656 -0.382812 -1.296875 -0.375 Z \"/>\n",
       "</symbol>\n",
       "<symbol overflow=\"visible\" id=\"glyph1-18\">\n",
       "<path style=\"stroke:none;\" d=\"M -2.09375 -3.78125 C -2.320312 -3.78125 -2.539062 -3.742188 -2.75 -3.671875 C -2.96875 -3.609375 -3.15625 -3.515625 -3.3125 -3.390625 C -3.46875 -3.273438 -3.59375 -3.128906 -3.6875 -2.953125 C -3.78125 -2.785156 -3.828125 -2.59375 -3.828125 -2.375 C -3.828125 -2.125 -3.773438 -1.90625 -3.671875 -1.71875 C -3.578125 -1.539062 -3.441406 -1.394531 -3.265625 -1.28125 C -3.097656 -1.164062 -2.898438 -1.078125 -2.671875 -1.015625 C -2.453125 -0.960938 -2.207031 -0.941406 -1.9375 -0.953125 C -1.675781 -0.953125 -1.445312 -0.988281 -1.25 -1.0625 C -1.050781 -1.132812 -0.878906 -1.234375 -0.734375 -1.359375 C -0.597656 -1.492188 -0.492188 -1.644531 -0.421875 -1.8125 C -0.347656 -1.988281 -0.3125 -2.175781 -0.3125 -2.375 C -0.3125 -2.601562 -0.359375 -2.800781 -0.453125 -2.96875 C -0.546875 -3.144531 -0.671875 -3.289062 -0.828125 -3.40625 C -0.984375 -3.53125 -1.171875 -3.625 -1.390625 -3.6875 C -1.609375 -3.75 -1.84375 -3.78125 -2.09375 -3.78125 Z M -4.140625 -3.78125 L -4.140625 -4.25 L 1.625 -4.25 L 1.625 -3.78125 L -0.65625 -3.78125 C -0.40625 -3.625 -0.210938 -3.410156 -0.078125 -3.140625 C 0.046875 -2.867188 0.109375 -2.585938 0.109375 -2.296875 C 0.109375 -1.984375 0.0507812 -1.707031 -0.0625 -1.46875 C -0.1875 -1.238281 -0.347656 -1.046875 -0.546875 -0.890625 C -0.742188 -0.742188 -0.972656 -0.632812 -1.234375 -0.5625 C -1.503906 -0.488281 -1.785156 -0.453125 -2.078125 -0.453125 C -2.378906 -0.453125 -2.664062 -0.484375 -2.9375 -0.546875 C -3.207031 -0.617188 -3.4375 -0.726562 -3.625 -0.875 C -3.820312 -1.03125 -3.972656 -1.222656 -4.078125 -1.453125 C -4.191406 -1.691406 -4.25 -1.976562 -4.25 -2.3125 C -4.25 -2.445312 -4.226562 -2.582031 -4.1875 -2.71875 C -4.15625 -2.863281 -4.101562 -3 -4.03125 -3.125 C -3.96875 -3.257812 -3.878906 -3.378906 -3.765625 -3.484375 C -3.660156 -3.597656 -3.546875 -3.691406 -3.421875 -3.765625 L -3.421875 -3.78125 Z \"/>\n",
       "</symbol>\n",
       "</g>\n",
       "</defs>\n",
       "<g id=\"surface31\">\n",
       "<rect x=\"0\" y=\"0\" width=\"504\" height=\"504\" style=\"fill:rgb(100%,100%,100%);fill-opacity:1;stroke:none;\"/>\n",
       "<path style=\"fill:none;stroke-width:0.75;stroke-linecap:round;stroke-linejoin:round;stroke:rgb(0%,0%,0%);stroke-opacity:1;stroke-miterlimit:10;\" d=\"M 58.730469 45.386719 L 111.042969 100.207031 \"/>\n",
       "<path style=\"fill:none;stroke-width:0.75;stroke-linecap:round;stroke-linejoin:round;stroke:rgb(0%,0%,0%);stroke-opacity:1;stroke-miterlimit:10;\" d=\"M 118.964844 104.660156 L 168.554688 115.5 \"/>\n",
       "<path style=\"fill:none;stroke-width:0.75;stroke-linecap:round;stroke-linejoin:round;stroke:rgb(0%,0%,0%);stroke-opacity:1;stroke-miterlimit:10;\" d=\"M 177.949219 116.519531 L 227.316406 116.542969 \"/>\n",
       "<path style=\"fill:none;stroke-width:0.75;stroke-linecap:round;stroke-linejoin:round;stroke:rgb(0%,0%,0%);stroke-opacity:1;stroke-miterlimit:10;\" d=\"M 236.820312 116.546875 L 286.1875 116.542969 \"/>\n",
       "<path style=\"fill:none;stroke-width:0.75;stroke-linecap:round;stroke-linejoin:round;stroke:rgb(0%,0%,0%);stroke-opacity:1;stroke-miterlimit:10;\" d=\"M 295.691406 116.542969 L 345.0625 116.535156 \"/>\n",
       "<path style=\"fill:none;stroke-width:0.75;stroke-linecap:round;stroke-linejoin:round;stroke:rgb(0%,0%,0%);stroke-opacity:1;stroke-miterlimit:10;\" d=\"M 354.566406 116.535156 L 403.933594 116.523438 \"/>\n",
       "<path style=\"fill:none;stroke-width:0.75;stroke-linecap:round;stroke-linejoin:round;stroke:rgb(0%,0%,0%);stroke-opacity:1;stroke-miterlimit:10;\" d=\"M 413.4375 116.519531 L 462.804688 116.507812 \"/>\n",
       "<path style=\"fill:none;stroke-width:0.75;stroke-linecap:round;stroke-linejoin:round;stroke:rgb(0%,0%,0%);stroke-opacity:1;stroke-miterlimit:10;\" d=\"M 57.234375 41.949219 C 57.234375 44.328125 53.667969 44.328125 53.667969 41.949219 C 53.667969 39.574219 57.234375 39.574219 57.234375 41.949219 \"/>\n",
       "<path style=\"fill:none;stroke-width:0.75;stroke-linecap:round;stroke-linejoin:round;stroke:rgb(0%,0%,0%);stroke-opacity:1;stroke-miterlimit:10;\" d=\"M 116.105469 103.644531 C 116.105469 106.019531 112.542969 106.019531 112.542969 103.644531 C 112.542969 101.269531 116.105469 101.269531 116.105469 103.644531 \"/>\n",
       "<path style=\"fill:none;stroke-width:0.75;stroke-linecap:round;stroke-linejoin:round;stroke:rgb(0%,0%,0%);stroke-opacity:1;stroke-miterlimit:10;\" d=\"M 174.976562 116.515625 C 174.976562 118.894531 171.414062 118.894531 171.414062 116.515625 C 171.414062 114.140625 174.976562 114.140625 174.976562 116.515625 \"/>\n",
       "<path style=\"fill:none;stroke-width:0.75;stroke-linecap:round;stroke-linejoin:round;stroke:rgb(0%,0%,0%);stroke-opacity:1;stroke-miterlimit:10;\" d=\"M 233.851562 116.546875 C 233.851562 118.921875 230.285156 118.921875 230.285156 116.546875 C 230.285156 114.167969 233.851562 114.167969 233.851562 116.546875 \"/>\n",
       "<path style=\"fill:none;stroke-width:0.75;stroke-linecap:round;stroke-linejoin:round;stroke:rgb(0%,0%,0%);stroke-opacity:1;stroke-miterlimit:10;\" d=\"M 292.722656 116.542969 C 292.722656 118.921875 289.15625 118.921875 289.15625 116.542969 C 289.15625 114.167969 292.722656 114.167969 292.722656 116.542969 \"/>\n",
       "<path style=\"fill:none;stroke-width:0.75;stroke-linecap:round;stroke-linejoin:round;stroke:rgb(0%,0%,0%);stroke-opacity:1;stroke-miterlimit:10;\" d=\"M 351.59375 116.535156 C 351.59375 118.910156 348.03125 118.910156 348.03125 116.535156 C 348.03125 114.160156 351.59375 114.160156 351.59375 116.535156 \"/>\n",
       "<path style=\"fill:none;stroke-width:0.75;stroke-linecap:round;stroke-linejoin:round;stroke:rgb(0%,0%,0%);stroke-opacity:1;stroke-miterlimit:10;\" d=\"M 410.46875 116.523438 C 410.46875 118.898438 406.902344 118.898438 406.902344 116.523438 C 406.902344 114.144531 410.46875 114.144531 410.46875 116.523438 \"/>\n",
       "<path style=\"fill:none;stroke-width:0.75;stroke-linecap:round;stroke-linejoin:round;stroke:rgb(0%,0%,0%);stroke-opacity:1;stroke-miterlimit:10;\" d=\"M 469.339844 116.507812 C 469.339844 118.882812 465.773438 118.882812 465.773438 116.507812 C 465.773438 114.128906 469.339844 114.128906 469.339844 116.507812 \"/>\n",
       "<path style=\"fill:none;stroke-width:0.75;stroke-linecap:round;stroke-linejoin:round;stroke:rgb(0%,0%,0%);stroke-opacity:1;stroke-miterlimit:10;\" d=\"M 55.449219 119.53125 L 467.558594 119.53125 \"/>\n",
       "<path style=\"fill:none;stroke-width:0.75;stroke-linecap:round;stroke-linejoin:round;stroke:rgb(0%,0%,0%);stroke-opacity:1;stroke-miterlimit:10;\" d=\"M 55.449219 119.53125 L 55.449219 124.28125 \"/>\n",
       "<path style=\"fill:none;stroke-width:0.75;stroke-linecap:round;stroke-linejoin:round;stroke:rgb(0%,0%,0%);stroke-opacity:1;stroke-miterlimit:10;\" d=\"M 114.324219 119.53125 L 114.324219 124.28125 \"/>\n",
       "<path style=\"fill:none;stroke-width:0.75;stroke-linecap:round;stroke-linejoin:round;stroke:rgb(0%,0%,0%);stroke-opacity:1;stroke-miterlimit:10;\" d=\"M 173.195312 119.53125 L 173.195312 124.28125 \"/>\n",
       "<path style=\"fill:none;stroke-width:0.75;stroke-linecap:round;stroke-linejoin:round;stroke:rgb(0%,0%,0%);stroke-opacity:1;stroke-miterlimit:10;\" d=\"M 232.066406 119.53125 L 232.066406 124.28125 \"/>\n",
       "<path style=\"fill:none;stroke-width:0.75;stroke-linecap:round;stroke-linejoin:round;stroke:rgb(0%,0%,0%);stroke-opacity:1;stroke-miterlimit:10;\" d=\"M 290.941406 119.53125 L 290.941406 124.28125 \"/>\n",
       "<path style=\"fill:none;stroke-width:0.75;stroke-linecap:round;stroke-linejoin:round;stroke:rgb(0%,0%,0%);stroke-opacity:1;stroke-miterlimit:10;\" d=\"M 349.8125 119.53125 L 349.8125 124.28125 \"/>\n",
       "<path style=\"fill:none;stroke-width:0.75;stroke-linecap:round;stroke-linejoin:round;stroke:rgb(0%,0%,0%);stroke-opacity:1;stroke-miterlimit:10;\" d=\"M 408.683594 119.53125 L 408.683594 124.28125 \"/>\n",
       "<path style=\"fill:none;stroke-width:0.75;stroke-linecap:round;stroke-linejoin:round;stroke:rgb(0%,0%,0%);stroke-opacity:1;stroke-miterlimit:10;\" d=\"M 467.558594 119.53125 L 467.558594 124.28125 \"/>\n",
       "<g style=\"fill:rgb(0%,0%,0%);fill-opacity:1;\">\n",
       "  <use xlink:href=\"#glyph0-1\" x=\"53.226562\" y=\"136.636719\"/>\n",
       "</g>\n",
       "<g style=\"fill:rgb(0%,0%,0%);fill-opacity:1;\">\n",
       "  <use xlink:href=\"#glyph0-2\" x=\"112.101562\" y=\"136.636719\"/>\n",
       "</g>\n",
       "<g style=\"fill:rgb(0%,0%,0%);fill-opacity:1;\">\n",
       "  <use xlink:href=\"#glyph0-3\" x=\"170.972656\" y=\"136.636719\"/>\n",
       "</g>\n",
       "<g style=\"fill:rgb(0%,0%,0%);fill-opacity:1;\">\n",
       "  <use xlink:href=\"#glyph0-4\" x=\"229.84375\" y=\"136.636719\"/>\n",
       "</g>\n",
       "<g style=\"fill:rgb(0%,0%,0%);fill-opacity:1;\">\n",
       "  <use xlink:href=\"#glyph0-5\" x=\"288.71875\" y=\"136.636719\"/>\n",
       "</g>\n",
       "<g style=\"fill:rgb(0%,0%,0%);fill-opacity:1;\">\n",
       "  <use xlink:href=\"#glyph0-6\" x=\"347.589844\" y=\"136.636719\"/>\n",
       "</g>\n",
       "<g style=\"fill:rgb(0%,0%,0%);fill-opacity:1;\">\n",
       "  <use xlink:href=\"#glyph0-7\" x=\"406.460938\" y=\"136.636719\"/>\n",
       "</g>\n",
       "<g style=\"fill:rgb(0%,0%,0%);fill-opacity:1;\">\n",
       "  <use xlink:href=\"#glyph0-8\" x=\"465.335938\" y=\"136.636719\"/>\n",
       "</g>\n",
       "<path style=\"fill:none;stroke-width:0.75;stroke-linecap:round;stroke-linejoin:round;stroke:rgb(0%,0%,0%);stroke-opacity:1;stroke-miterlimit:10;\" d=\"M 38.964844 116.5625 L 38.964844 54.433594 \"/>\n",
       "<path style=\"fill:none;stroke-width:0.75;stroke-linecap:round;stroke-linejoin:round;stroke:rgb(0%,0%,0%);stroke-opacity:1;stroke-miterlimit:10;\" d=\"M 38.964844 116.5625 L 34.214844 116.5625 \"/>\n",
       "<path style=\"fill:none;stroke-width:0.75;stroke-linecap:round;stroke-linejoin:round;stroke:rgb(0%,0%,0%);stroke-opacity:1;stroke-miterlimit:10;\" d=\"M 38.964844 101.027344 L 34.214844 101.027344 \"/>\n",
       "<path style=\"fill:none;stroke-width:0.75;stroke-linecap:round;stroke-linejoin:round;stroke:rgb(0%,0%,0%);stroke-opacity:1;stroke-miterlimit:10;\" d=\"M 38.964844 85.496094 L 34.214844 85.496094 \"/>\n",
       "<path style=\"fill:none;stroke-width:0.75;stroke-linecap:round;stroke-linejoin:round;stroke:rgb(0%,0%,0%);stroke-opacity:1;stroke-miterlimit:10;\" d=\"M 38.964844 69.964844 L 34.214844 69.964844 \"/>\n",
       "<path style=\"fill:none;stroke-width:0.75;stroke-linecap:round;stroke-linejoin:round;stroke:rgb(0%,0%,0%);stroke-opacity:1;stroke-miterlimit:10;\" d=\"M 38.964844 54.433594 L 34.214844 54.433594 \"/>\n",
       "<g style=\"fill:rgb(0%,0%,0%);fill-opacity:1;\">\n",
       "  <use xlink:href=\"#glyph1-1\" x=\"27.5625\" y=\"118.785156\"/>\n",
       "</g>\n",
       "<g style=\"fill:rgb(0%,0%,0%);fill-opacity:1;\">\n",
       "  <use xlink:href=\"#glyph1-2\" x=\"27.5625\" y=\"94.390625\"/>\n",
       "  <use xlink:href=\"#glyph1-1\" x=\"27.5625\" y=\"89.942688\"/>\n",
       "  <use xlink:href=\"#glyph1-1\" x=\"27.5625\" y=\"85.494751\"/>\n",
       "  <use xlink:href=\"#glyph1-1\" x=\"27.5625\" y=\"81.046814\"/>\n",
       "</g>\n",
       "<g style=\"fill:rgb(0%,0%,0%);fill-opacity:1;\">\n",
       "  <use xlink:href=\"#glyph1-3\" x=\"27.5625\" y=\"63.328125\"/>\n",
       "  <use xlink:href=\"#glyph1-1\" x=\"27.5625\" y=\"58.880188\"/>\n",
       "  <use xlink:href=\"#glyph1-1\" x=\"27.5625\" y=\"54.432251\"/>\n",
       "  <use xlink:href=\"#glyph1-1\" x=\"27.5625\" y=\"49.984314\"/>\n",
       "</g>\n",
       "<path style=\"fill:none;stroke-width:0.75;stroke-linecap:round;stroke-linejoin:round;stroke:rgb(0%,0%,0%);stroke-opacity:1;stroke-miterlimit:10;\" d=\"M 38.964844 119.53125 L 484.042969 119.53125 L 484.042969 38.964844 L 38.964844 38.964844 L 38.964844 119.53125 \"/>\n",
       "<g style=\"fill:rgb(0%,0%,0%);fill-opacity:1;\">\n",
       "  <use xlink:href=\"#glyph0-9\" x=\"223.714844\" y=\"155.644531\"/>\n",
       "  <use xlink:href=\"#glyph0-10\" x=\"228.602783\" y=\"155.644531\"/>\n",
       "  <use xlink:href=\"#glyph0-11\" x=\"233.05072\" y=\"155.644531\"/>\n",
       "  <use xlink:href=\"#glyph0-12\" x=\"237.93866\" y=\"155.644531\"/>\n",
       "  <use xlink:href=\"#glyph0-10\" x=\"240.602631\" y=\"155.644531\"/>\n",
       "  <use xlink:href=\"#glyph0-10\" x=\"245.050568\" y=\"155.644531\"/>\n",
       "  <use xlink:href=\"#glyph0-13\" x=\"249.498505\" y=\"155.644531\"/>\n",
       "  <use xlink:href=\"#glyph0-14\" x=\"251.722473\" y=\"155.644531\"/>\n",
       "  <use xlink:href=\"#glyph0-15\" x=\"256.17041\" y=\"155.644531\"/>\n",
       "  <use xlink:href=\"#glyph0-13\" x=\"258.394379\" y=\"155.644531\"/>\n",
       "  <use xlink:href=\"#glyph0-16\" x=\"260.618347\" y=\"155.644531\"/>\n",
       "  <use xlink:href=\"#glyph0-14\" x=\"265.506287\" y=\"155.644531\"/>\n",
       "  <use xlink:href=\"#glyph0-17\" x=\"269.954224\" y=\"155.644531\"/>\n",
       "  <use xlink:href=\"#glyph0-18\" x=\"271.730194\" y=\"155.644531\"/>\n",
       "  <use xlink:href=\"#glyph0-19\" x=\"275.730148\" y=\"155.644531\"/>\n",
       "  <use xlink:href=\"#glyph0-14\" x=\"280.178085\" y=\"155.644531\"/>\n",
       "  <use xlink:href=\"#glyph0-20\" x=\"284.626022\" y=\"155.644531\"/>\n",
       "  <use xlink:href=\"#glyph0-21\" x=\"291.289932\" y=\"155.644531\"/>\n",
       "  <use xlink:href=\"#glyph0-22\" x=\"293.065903\" y=\"155.644531\"/>\n",
       "  <use xlink:href=\"#glyph0-17\" x=\"297.51384\" y=\"155.644531\"/>\n",
       "</g>\n",
       "<g style=\"fill:rgb(0%,0%,0%);fill-opacity:1;\">\n",
       "  <use xlink:href=\"#glyph1-4\" x=\"8.554688\" y=\"84.578125\"/>\n",
       "  <use xlink:href=\"#glyph1-5\" x=\"8.554688\" y=\"78.8022\"/>\n",
       "</g>\n",
       "<path style=\"fill:none;stroke-width:0.75;stroke-linecap:round;stroke-linejoin:round;stroke:rgb(0%,0%,0%);stroke-opacity:1;stroke-miterlimit:10;\" d=\"M 59.757812 211.957031 L 110.015625 235.375 \"/>\n",
       "<path style=\"fill:none;stroke-width:0.75;stroke-linecap:round;stroke-linejoin:round;stroke:rgb(0%,0%,0%);stroke-opacity:1;stroke-miterlimit:10;\" d=\"M 118.039062 240.347656 L 169.480469 281.34375 \"/>\n",
       "<path style=\"fill:none;stroke-width:0.75;stroke-linecap:round;stroke-linejoin:round;stroke:rgb(0%,0%,0%);stroke-opacity:1;stroke-miterlimit:10;\" d=\"M 177.949219 284.324219 L 227.316406 284.527344 \"/>\n",
       "<path style=\"fill:none;stroke-width:0.75;stroke-linecap:round;stroke-linejoin:round;stroke:rgb(0%,0%,0%);stroke-opacity:1;stroke-miterlimit:10;\" d=\"M 236.820312 284.511719 L 286.1875 284.152344 \"/>\n",
       "<path style=\"fill:none;stroke-width:0.75;stroke-linecap:round;stroke-linejoin:round;stroke:rgb(0%,0%,0%);stroke-opacity:1;stroke-miterlimit:10;\" d=\"M 295.691406 284.066406 L 345.0625 283.554688 \"/>\n",
       "<path style=\"fill:none;stroke-width:0.75;stroke-linecap:round;stroke-linejoin:round;stroke:rgb(0%,0%,0%);stroke-opacity:1;stroke-miterlimit:10;\" d=\"M 354.5625 283.449219 L 403.933594 282.847656 \"/>\n",
       "<path style=\"fill:none;stroke-width:0.75;stroke-linecap:round;stroke-linejoin:round;stroke:rgb(0%,0%,0%);stroke-opacity:1;stroke-miterlimit:10;\" d=\"M 413.4375 282.730469 L 462.804688 282.097656 \"/>\n",
       "<path style=\"fill:none;stroke-width:0.75;stroke-linecap:round;stroke-linejoin:round;stroke:rgb(0%,0%,0%);stroke-opacity:1;stroke-miterlimit:10;\" d=\"M 57.234375 209.949219 C 57.234375 212.328125 53.667969 212.328125 53.667969 209.949219 C 53.667969 207.574219 57.234375 207.574219 57.234375 209.949219 \"/>\n",
       "<path style=\"fill:none;stroke-width:0.75;stroke-linecap:round;stroke-linejoin:round;stroke:rgb(0%,0%,0%);stroke-opacity:1;stroke-miterlimit:10;\" d=\"M 116.105469 237.382812 C 116.105469 239.761719 112.542969 239.761719 112.542969 237.382812 C 112.542969 235.007812 116.105469 235.007812 116.105469 237.382812 \"/>\n",
       "<path style=\"fill:none;stroke-width:0.75;stroke-linecap:round;stroke-linejoin:round;stroke:rgb(0%,0%,0%);stroke-opacity:1;stroke-miterlimit:10;\" d=\"M 174.976562 284.304688 C 174.976562 286.683594 171.414062 286.683594 171.414062 284.304688 C 171.414062 281.929688 174.976562 281.929688 174.976562 284.304688 \"/>\n",
       "<path style=\"fill:none;stroke-width:0.75;stroke-linecap:round;stroke-linejoin:round;stroke:rgb(0%,0%,0%);stroke-opacity:1;stroke-miterlimit:10;\" d=\"M 233.851562 284.546875 C 233.851562 286.921875 230.285156 286.921875 230.285156 284.546875 C 230.285156 282.167969 233.851562 282.167969 233.851562 284.546875 \"/>\n",
       "<path style=\"fill:none;stroke-width:0.75;stroke-linecap:round;stroke-linejoin:round;stroke:rgb(0%,0%,0%);stroke-opacity:1;stroke-miterlimit:10;\" d=\"M 292.722656 284.117188 C 292.722656 286.492188 289.15625 286.492188 289.15625 284.117188 C 289.15625 281.738281 292.722656 281.738281 292.722656 284.117188 \"/>\n",
       "<path style=\"fill:none;stroke-width:0.75;stroke-linecap:round;stroke-linejoin:round;stroke:rgb(0%,0%,0%);stroke-opacity:1;stroke-miterlimit:10;\" d=\"M 351.59375 283.507812 C 351.59375 285.882812 348.03125 285.882812 348.03125 283.507812 C 348.03125 281.132812 351.59375 281.132812 351.59375 283.507812 \"/>\n",
       "<path style=\"fill:none;stroke-width:0.75;stroke-linecap:round;stroke-linejoin:round;stroke:rgb(0%,0%,0%);stroke-opacity:1;stroke-miterlimit:10;\" d=\"M 410.46875 282.789062 C 410.46875 285.167969 406.902344 285.167969 406.902344 282.789062 C 406.902344 280.414062 410.46875 280.414062 410.46875 282.789062 \"/>\n",
       "<path style=\"fill:none;stroke-width:0.75;stroke-linecap:round;stroke-linejoin:round;stroke:rgb(0%,0%,0%);stroke-opacity:1;stroke-miterlimit:10;\" d=\"M 469.339844 282.035156 C 469.339844 284.410156 465.773438 284.410156 465.773438 282.035156 C 465.773438 279.660156 469.339844 279.660156 469.339844 282.035156 \"/>\n",
       "<path style=\"fill:none;stroke-width:0.75;stroke-linecap:round;stroke-linejoin:round;stroke:rgb(0%,0%,0%);stroke-opacity:1;stroke-miterlimit:10;\" d=\"M 55.449219 287.53125 L 467.558594 287.53125 \"/>\n",
       "<path style=\"fill:none;stroke-width:0.75;stroke-linecap:round;stroke-linejoin:round;stroke:rgb(0%,0%,0%);stroke-opacity:1;stroke-miterlimit:10;\" d=\"M 55.449219 287.53125 L 55.449219 292.28125 \"/>\n",
       "<path style=\"fill:none;stroke-width:0.75;stroke-linecap:round;stroke-linejoin:round;stroke:rgb(0%,0%,0%);stroke-opacity:1;stroke-miterlimit:10;\" d=\"M 114.324219 287.53125 L 114.324219 292.28125 \"/>\n",
       "<path style=\"fill:none;stroke-width:0.75;stroke-linecap:round;stroke-linejoin:round;stroke:rgb(0%,0%,0%);stroke-opacity:1;stroke-miterlimit:10;\" d=\"M 173.195312 287.53125 L 173.195312 292.28125 \"/>\n",
       "<path style=\"fill:none;stroke-width:0.75;stroke-linecap:round;stroke-linejoin:round;stroke:rgb(0%,0%,0%);stroke-opacity:1;stroke-miterlimit:10;\" d=\"M 232.066406 287.53125 L 232.066406 292.28125 \"/>\n",
       "<path style=\"fill:none;stroke-width:0.75;stroke-linecap:round;stroke-linejoin:round;stroke:rgb(0%,0%,0%);stroke-opacity:1;stroke-miterlimit:10;\" d=\"M 290.941406 287.53125 L 290.941406 292.28125 \"/>\n",
       "<path style=\"fill:none;stroke-width:0.75;stroke-linecap:round;stroke-linejoin:round;stroke:rgb(0%,0%,0%);stroke-opacity:1;stroke-miterlimit:10;\" d=\"M 349.8125 287.53125 L 349.8125 292.28125 \"/>\n",
       "<path style=\"fill:none;stroke-width:0.75;stroke-linecap:round;stroke-linejoin:round;stroke:rgb(0%,0%,0%);stroke-opacity:1;stroke-miterlimit:10;\" d=\"M 408.683594 287.53125 L 408.683594 292.28125 \"/>\n",
       "<path style=\"fill:none;stroke-width:0.75;stroke-linecap:round;stroke-linejoin:round;stroke:rgb(0%,0%,0%);stroke-opacity:1;stroke-miterlimit:10;\" d=\"M 467.558594 287.53125 L 467.558594 292.28125 \"/>\n",
       "<g style=\"fill:rgb(0%,0%,0%);fill-opacity:1;\">\n",
       "  <use xlink:href=\"#glyph0-1\" x=\"53.226562\" y=\"304.636719\"/>\n",
       "</g>\n",
       "<g style=\"fill:rgb(0%,0%,0%);fill-opacity:1;\">\n",
       "  <use xlink:href=\"#glyph0-2\" x=\"112.101562\" y=\"304.636719\"/>\n",
       "</g>\n",
       "<g style=\"fill:rgb(0%,0%,0%);fill-opacity:1;\">\n",
       "  <use xlink:href=\"#glyph0-3\" x=\"170.972656\" y=\"304.636719\"/>\n",
       "</g>\n",
       "<g style=\"fill:rgb(0%,0%,0%);fill-opacity:1;\">\n",
       "  <use xlink:href=\"#glyph0-4\" x=\"229.84375\" y=\"304.636719\"/>\n",
       "</g>\n",
       "<g style=\"fill:rgb(0%,0%,0%);fill-opacity:1;\">\n",
       "  <use xlink:href=\"#glyph0-5\" x=\"288.71875\" y=\"304.636719\"/>\n",
       "</g>\n",
       "<g style=\"fill:rgb(0%,0%,0%);fill-opacity:1;\">\n",
       "  <use xlink:href=\"#glyph0-6\" x=\"347.589844\" y=\"304.636719\"/>\n",
       "</g>\n",
       "<g style=\"fill:rgb(0%,0%,0%);fill-opacity:1;\">\n",
       "  <use xlink:href=\"#glyph0-7\" x=\"406.460938\" y=\"304.636719\"/>\n",
       "</g>\n",
       "<g style=\"fill:rgb(0%,0%,0%);fill-opacity:1;\">\n",
       "  <use xlink:href=\"#glyph0-8\" x=\"465.335938\" y=\"304.636719\"/>\n",
       "</g>\n",
       "<path style=\"fill:none;stroke-width:0.75;stroke-linecap:round;stroke-linejoin:round;stroke:rgb(0%,0%,0%);stroke-opacity:1;stroke-miterlimit:10;\" d=\"M 38.964844 273.148438 L 38.964844 207.152344 \"/>\n",
       "<path style=\"fill:none;stroke-width:0.75;stroke-linecap:round;stroke-linejoin:round;stroke:rgb(0%,0%,0%);stroke-opacity:1;stroke-miterlimit:10;\" d=\"M 38.964844 273.148438 L 34.214844 273.148438 \"/>\n",
       "<path style=\"fill:none;stroke-width:0.75;stroke-linecap:round;stroke-linejoin:round;stroke:rgb(0%,0%,0%);stroke-opacity:1;stroke-miterlimit:10;\" d=\"M 38.964844 256.648438 L 34.214844 256.648438 \"/>\n",
       "<path style=\"fill:none;stroke-width:0.75;stroke-linecap:round;stroke-linejoin:round;stroke:rgb(0%,0%,0%);stroke-opacity:1;stroke-miterlimit:10;\" d=\"M 38.964844 240.152344 L 34.214844 240.152344 \"/>\n",
       "<path style=\"fill:none;stroke-width:0.75;stroke-linecap:round;stroke-linejoin:round;stroke:rgb(0%,0%,0%);stroke-opacity:1;stroke-miterlimit:10;\" d=\"M 38.964844 223.652344 L 34.214844 223.652344 \"/>\n",
       "<path style=\"fill:none;stroke-width:0.75;stroke-linecap:round;stroke-linejoin:round;stroke:rgb(0%,0%,0%);stroke-opacity:1;stroke-miterlimit:10;\" d=\"M 38.964844 207.152344 L 34.214844 207.152344 \"/>\n",
       "<g style=\"fill:rgb(0%,0%,0%);fill-opacity:1;\">\n",
       "  <use xlink:href=\"#glyph1-6\" x=\"27.5625\" y=\"281.152344\"/>\n",
       "  <use xlink:href=\"#glyph1-7\" x=\"27.5625\" y=\"278.488373\"/>\n",
       "  <use xlink:href=\"#glyph1-1\" x=\"27.5625\" y=\"274.040436\"/>\n",
       "  <use xlink:href=\"#glyph1-1\" x=\"27.5625\" y=\"269.592499\"/>\n",
       "</g>\n",
       "<g style=\"fill:rgb(0%,0%,0%);fill-opacity:1;\">\n",
       "  <use xlink:href=\"#glyph1-6\" x=\"27.5625\" y=\"248.15625\"/>\n",
       "  <use xlink:href=\"#glyph1-8\" x=\"27.5625\" y=\"245.492279\"/>\n",
       "  <use xlink:href=\"#glyph1-1\" x=\"27.5625\" y=\"241.044342\"/>\n",
       "  <use xlink:href=\"#glyph1-1\" x=\"27.5625\" y=\"236.596405\"/>\n",
       "</g>\n",
       "<g style=\"fill:rgb(0%,0%,0%);fill-opacity:1;\">\n",
       "  <use xlink:href=\"#glyph1-6\" x=\"27.5625\" y=\"215.15625\"/>\n",
       "  <use xlink:href=\"#glyph1-9\" x=\"27.5625\" y=\"212.492279\"/>\n",
       "  <use xlink:href=\"#glyph1-1\" x=\"27.5625\" y=\"208.044342\"/>\n",
       "  <use xlink:href=\"#glyph1-1\" x=\"27.5625\" y=\"203.596405\"/>\n",
       "</g>\n",
       "<path style=\"fill:none;stroke-width:0.75;stroke-linecap:round;stroke-linejoin:round;stroke:rgb(0%,0%,0%);stroke-opacity:1;stroke-miterlimit:10;\" d=\"M 38.964844 287.53125 L 484.042969 287.53125 L 484.042969 206.964844 L 38.964844 206.964844 L 38.964844 287.53125 \"/>\n",
       "<g style=\"fill:rgb(0%,0%,0%);fill-opacity:1;\">\n",
       "  <use xlink:href=\"#glyph0-9\" x=\"223.714844\" y=\"323.644531\"/>\n",
       "  <use xlink:href=\"#glyph0-10\" x=\"228.602783\" y=\"323.644531\"/>\n",
       "  <use xlink:href=\"#glyph0-11\" x=\"233.05072\" y=\"323.644531\"/>\n",
       "  <use xlink:href=\"#glyph0-12\" x=\"237.93866\" y=\"323.644531\"/>\n",
       "  <use xlink:href=\"#glyph0-10\" x=\"240.602631\" y=\"323.644531\"/>\n",
       "  <use xlink:href=\"#glyph0-10\" x=\"245.050568\" y=\"323.644531\"/>\n",
       "  <use xlink:href=\"#glyph0-13\" x=\"249.498505\" y=\"323.644531\"/>\n",
       "  <use xlink:href=\"#glyph0-14\" x=\"251.722473\" y=\"323.644531\"/>\n",
       "  <use xlink:href=\"#glyph0-15\" x=\"256.17041\" y=\"323.644531\"/>\n",
       "  <use xlink:href=\"#glyph0-13\" x=\"258.394379\" y=\"323.644531\"/>\n",
       "  <use xlink:href=\"#glyph0-16\" x=\"260.618347\" y=\"323.644531\"/>\n",
       "  <use xlink:href=\"#glyph0-14\" x=\"265.506287\" y=\"323.644531\"/>\n",
       "  <use xlink:href=\"#glyph0-17\" x=\"269.954224\" y=\"323.644531\"/>\n",
       "  <use xlink:href=\"#glyph0-18\" x=\"271.730194\" y=\"323.644531\"/>\n",
       "  <use xlink:href=\"#glyph0-19\" x=\"275.730148\" y=\"323.644531\"/>\n",
       "  <use xlink:href=\"#glyph0-14\" x=\"280.178085\" y=\"323.644531\"/>\n",
       "  <use xlink:href=\"#glyph0-20\" x=\"284.626022\" y=\"323.644531\"/>\n",
       "  <use xlink:href=\"#glyph0-21\" x=\"291.289932\" y=\"323.644531\"/>\n",
       "  <use xlink:href=\"#glyph0-22\" x=\"293.065903\" y=\"323.644531\"/>\n",
       "  <use xlink:href=\"#glyph0-17\" x=\"297.51384\" y=\"323.644531\"/>\n",
       "</g>\n",
       "<g style=\"fill:rgb(0%,0%,0%);fill-opacity:1;\">\n",
       "  <use xlink:href=\"#glyph1-10\" x=\"8.554688\" y=\"252.800781\"/>\n",
       "  <use xlink:href=\"#glyph1-11\" x=\"8.554688\" y=\"247.912842\"/>\n",
       "  <use xlink:href=\"#glyph1-12\" x=\"8.554688\" y=\"246.136871\"/>\n",
       "</g>\n",
       "<path style=\"fill:none;stroke-width:0.75;stroke-linecap:round;stroke-linejoin:round;stroke:rgb(0%,0%,0%);stroke-opacity:1;stroke-miterlimit:10;\" d=\"M 58.734375 449.109375 L 111.042969 394.328125 \"/>\n",
       "<path style=\"fill:none;stroke-width:0.75;stroke-linecap:round;stroke-linejoin:round;stroke:rgb(0%,0%,0%);stroke-opacity:1;stroke-miterlimit:10;\" d=\"M 118.964844 389.878906 L 168.554688 379.03125 \"/>\n",
       "<path style=\"fill:none;stroke-width:0.75;stroke-linecap:round;stroke-linejoin:round;stroke:rgb(0%,0%,0%);stroke-opacity:1;stroke-miterlimit:10;\" d=\"M 177.949219 378.011719 L 227.316406 377.976562 \"/>\n",
       "<path style=\"fill:none;stroke-width:0.75;stroke-linecap:round;stroke-linejoin:round;stroke:rgb(0%,0%,0%);stroke-opacity:1;stroke-miterlimit:10;\" d=\"M 236.820312 377.972656 L 286.1875 377.960938 \"/>\n",
       "<path style=\"fill:none;stroke-width:0.75;stroke-linecap:round;stroke-linejoin:round;stroke:rgb(0%,0%,0%);stroke-opacity:1;stroke-miterlimit:10;\" d=\"M 295.691406 377.957031 L 345.0625 377.953125 \"/>\n",
       "<path style=\"fill:none;stroke-width:0.75;stroke-linecap:round;stroke-linejoin:round;stroke:rgb(0%,0%,0%);stroke-opacity:1;stroke-miterlimit:10;\" d=\"M 354.566406 377.953125 L 403.933594 377.949219 \"/>\n",
       "<path style=\"fill:none;stroke-width:0.75;stroke-linecap:round;stroke-linejoin:round;stroke:rgb(0%,0%,0%);stroke-opacity:1;stroke-miterlimit:10;\" d=\"M 413.4375 377.949219 L 462.804688 377.949219 \"/>\n",
       "<path style=\"fill:none;stroke-width:0.75;stroke-linecap:round;stroke-linejoin:round;stroke:rgb(0%,0%,0%);stroke-opacity:1;stroke-miterlimit:10;\" d=\"M 57.234375 452.546875 C 57.234375 454.921875 53.667969 454.921875 53.667969 452.546875 C 53.667969 450.167969 57.234375 450.167969 57.234375 452.546875 \"/>\n",
       "<path style=\"fill:none;stroke-width:0.75;stroke-linecap:round;stroke-linejoin:round;stroke:rgb(0%,0%,0%);stroke-opacity:1;stroke-miterlimit:10;\" d=\"M 116.105469 390.894531 C 116.105469 393.269531 112.542969 393.269531 112.542969 390.894531 C 112.542969 388.515625 116.105469 388.515625 116.105469 390.894531 \"/>\n",
       "<path style=\"fill:none;stroke-width:0.75;stroke-linecap:round;stroke-linejoin:round;stroke:rgb(0%,0%,0%);stroke-opacity:1;stroke-miterlimit:10;\" d=\"M 174.976562 378.015625 C 174.976562 380.394531 171.414062 380.394531 171.414062 378.015625 C 171.414062 375.640625 174.976562 375.640625 174.976562 378.015625 \"/>\n",
       "<path style=\"fill:none;stroke-width:0.75;stroke-linecap:round;stroke-linejoin:round;stroke:rgb(0%,0%,0%);stroke-opacity:1;stroke-miterlimit:10;\" d=\"M 233.851562 377.972656 C 233.851562 380.347656 230.285156 380.347656 230.285156 377.972656 C 230.285156 375.597656 233.851562 375.597656 233.851562 377.972656 \"/>\n",
       "<path style=\"fill:none;stroke-width:0.75;stroke-linecap:round;stroke-linejoin:round;stroke:rgb(0%,0%,0%);stroke-opacity:1;stroke-miterlimit:10;\" d=\"M 292.722656 377.957031 C 292.722656 380.335938 289.15625 380.335938 289.15625 377.957031 C 289.15625 375.582031 292.722656 375.582031 292.722656 377.957031 \"/>\n",
       "<path style=\"fill:none;stroke-width:0.75;stroke-linecap:round;stroke-linejoin:round;stroke:rgb(0%,0%,0%);stroke-opacity:1;stroke-miterlimit:10;\" d=\"M 351.59375 377.953125 C 351.59375 380.328125 348.03125 380.328125 348.03125 377.953125 C 348.03125 375.578125 351.59375 375.578125 351.59375 377.953125 \"/>\n",
       "<path style=\"fill:none;stroke-width:0.75;stroke-linecap:round;stroke-linejoin:round;stroke:rgb(0%,0%,0%);stroke-opacity:1;stroke-miterlimit:10;\" d=\"M 410.46875 377.949219 C 410.46875 380.328125 406.902344 380.328125 406.902344 377.949219 C 406.902344 375.574219 410.46875 375.574219 410.46875 377.949219 \"/>\n",
       "<path style=\"fill:none;stroke-width:0.75;stroke-linecap:round;stroke-linejoin:round;stroke:rgb(0%,0%,0%);stroke-opacity:1;stroke-miterlimit:10;\" d=\"M 469.339844 377.949219 C 469.339844 380.328125 465.773438 380.328125 465.773438 377.949219 C 465.773438 375.574219 469.339844 375.574219 469.339844 377.949219 \"/>\n",
       "<path style=\"fill:none;stroke-width:0.75;stroke-linecap:round;stroke-linejoin:round;stroke:rgb(0%,0%,0%);stroke-opacity:1;stroke-miterlimit:10;\" d=\"M 55.449219 455.53125 L 467.558594 455.53125 \"/>\n",
       "<path style=\"fill:none;stroke-width:0.75;stroke-linecap:round;stroke-linejoin:round;stroke:rgb(0%,0%,0%);stroke-opacity:1;stroke-miterlimit:10;\" d=\"M 55.449219 455.53125 L 55.449219 460.28125 \"/>\n",
       "<path style=\"fill:none;stroke-width:0.75;stroke-linecap:round;stroke-linejoin:round;stroke:rgb(0%,0%,0%);stroke-opacity:1;stroke-miterlimit:10;\" d=\"M 114.324219 455.53125 L 114.324219 460.28125 \"/>\n",
       "<path style=\"fill:none;stroke-width:0.75;stroke-linecap:round;stroke-linejoin:round;stroke:rgb(0%,0%,0%);stroke-opacity:1;stroke-miterlimit:10;\" d=\"M 173.195312 455.53125 L 173.195312 460.28125 \"/>\n",
       "<path style=\"fill:none;stroke-width:0.75;stroke-linecap:round;stroke-linejoin:round;stroke:rgb(0%,0%,0%);stroke-opacity:1;stroke-miterlimit:10;\" d=\"M 232.066406 455.53125 L 232.066406 460.28125 \"/>\n",
       "<path style=\"fill:none;stroke-width:0.75;stroke-linecap:round;stroke-linejoin:round;stroke:rgb(0%,0%,0%);stroke-opacity:1;stroke-miterlimit:10;\" d=\"M 290.941406 455.53125 L 290.941406 460.28125 \"/>\n",
       "<path style=\"fill:none;stroke-width:0.75;stroke-linecap:round;stroke-linejoin:round;stroke:rgb(0%,0%,0%);stroke-opacity:1;stroke-miterlimit:10;\" d=\"M 349.8125 455.53125 L 349.8125 460.28125 \"/>\n",
       "<path style=\"fill:none;stroke-width:0.75;stroke-linecap:round;stroke-linejoin:round;stroke:rgb(0%,0%,0%);stroke-opacity:1;stroke-miterlimit:10;\" d=\"M 408.683594 455.53125 L 408.683594 460.28125 \"/>\n",
       "<path style=\"fill:none;stroke-width:0.75;stroke-linecap:round;stroke-linejoin:round;stroke:rgb(0%,0%,0%);stroke-opacity:1;stroke-miterlimit:10;\" d=\"M 467.558594 455.53125 L 467.558594 460.28125 \"/>\n",
       "<g style=\"fill:rgb(0%,0%,0%);fill-opacity:1;\">\n",
       "  <use xlink:href=\"#glyph0-1\" x=\"53.226562\" y=\"472.636719\"/>\n",
       "</g>\n",
       "<g style=\"fill:rgb(0%,0%,0%);fill-opacity:1;\">\n",
       "  <use xlink:href=\"#glyph0-2\" x=\"112.101562\" y=\"472.636719\"/>\n",
       "</g>\n",
       "<g style=\"fill:rgb(0%,0%,0%);fill-opacity:1;\">\n",
       "  <use xlink:href=\"#glyph0-3\" x=\"170.972656\" y=\"472.636719\"/>\n",
       "</g>\n",
       "<g style=\"fill:rgb(0%,0%,0%);fill-opacity:1;\">\n",
       "  <use xlink:href=\"#glyph0-4\" x=\"229.84375\" y=\"472.636719\"/>\n",
       "</g>\n",
       "<g style=\"fill:rgb(0%,0%,0%);fill-opacity:1;\">\n",
       "  <use xlink:href=\"#glyph0-5\" x=\"288.71875\" y=\"472.636719\"/>\n",
       "</g>\n",
       "<g style=\"fill:rgb(0%,0%,0%);fill-opacity:1;\">\n",
       "  <use xlink:href=\"#glyph0-6\" x=\"347.589844\" y=\"472.636719\"/>\n",
       "</g>\n",
       "<g style=\"fill:rgb(0%,0%,0%);fill-opacity:1;\">\n",
       "  <use xlink:href=\"#glyph0-7\" x=\"406.460938\" y=\"472.636719\"/>\n",
       "</g>\n",
       "<g style=\"fill:rgb(0%,0%,0%);fill-opacity:1;\">\n",
       "  <use xlink:href=\"#glyph0-8\" x=\"465.335938\" y=\"472.636719\"/>\n",
       "</g>\n",
       "<path style=\"fill:none;stroke-width:0.75;stroke-linecap:round;stroke-linejoin:round;stroke:rgb(0%,0%,0%);stroke-opacity:1;stroke-miterlimit:10;\" d=\"M 38.964844 443.726562 L 38.964844 377.257812 \"/>\n",
       "<path style=\"fill:none;stroke-width:0.75;stroke-linecap:round;stroke-linejoin:round;stroke:rgb(0%,0%,0%);stroke-opacity:1;stroke-miterlimit:10;\" d=\"M 38.964844 443.726562 L 34.214844 443.726562 \"/>\n",
       "<path style=\"fill:none;stroke-width:0.75;stroke-linecap:round;stroke-linejoin:round;stroke:rgb(0%,0%,0%);stroke-opacity:1;stroke-miterlimit:10;\" d=\"M 38.964844 430.433594 L 34.214844 430.433594 \"/>\n",
       "<path style=\"fill:none;stroke-width:0.75;stroke-linecap:round;stroke-linejoin:round;stroke:rgb(0%,0%,0%);stroke-opacity:1;stroke-miterlimit:10;\" d=\"M 38.964844 417.140625 L 34.214844 417.140625 \"/>\n",
       "<path style=\"fill:none;stroke-width:0.75;stroke-linecap:round;stroke-linejoin:round;stroke:rgb(0%,0%,0%);stroke-opacity:1;stroke-miterlimit:10;\" d=\"M 38.964844 403.847656 L 34.214844 403.847656 \"/>\n",
       "<path style=\"fill:none;stroke-width:0.75;stroke-linecap:round;stroke-linejoin:round;stroke:rgb(0%,0%,0%);stroke-opacity:1;stroke-miterlimit:10;\" d=\"M 38.964844 390.554688 L 34.214844 390.554688 \"/>\n",
       "<path style=\"fill:none;stroke-width:0.75;stroke-linecap:round;stroke-linejoin:round;stroke:rgb(0%,0%,0%);stroke-opacity:1;stroke-miterlimit:10;\" d=\"M 38.964844 377.257812 L 34.214844 377.257812 \"/>\n",
       "<g style=\"fill:rgb(0%,0%,0%);fill-opacity:1;\">\n",
       "  <use xlink:href=\"#glyph1-1\" x=\"27.5625\" y=\"451.511719\"/>\n",
       "  <use xlink:href=\"#glyph1-13\" x=\"27.5625\" y=\"447.063782\"/>\n",
       "  <use xlink:href=\"#glyph1-14\" x=\"27.5625\" y=\"444.839813\"/>\n",
       "  <use xlink:href=\"#glyph1-7\" x=\"27.5625\" y=\"440.391876\"/>\n",
       "</g>\n",
       "<g style=\"fill:rgb(0%,0%,0%);fill-opacity:1;\">\n",
       "  <use xlink:href=\"#glyph1-1\" x=\"27.5625\" y=\"424.925781\"/>\n",
       "  <use xlink:href=\"#glyph1-13\" x=\"27.5625\" y=\"420.477844\"/>\n",
       "  <use xlink:href=\"#glyph1-3\" x=\"27.5625\" y=\"418.253876\"/>\n",
       "  <use xlink:href=\"#glyph1-7\" x=\"27.5625\" y=\"413.805939\"/>\n",
       "</g>\n",
       "<g style=\"fill:rgb(0%,0%,0%);fill-opacity:1;\">\n",
       "  <use xlink:href=\"#glyph1-1\" x=\"27.5625\" y=\"398.339844\"/>\n",
       "  <use xlink:href=\"#glyph1-13\" x=\"27.5625\" y=\"393.891907\"/>\n",
       "  <use xlink:href=\"#glyph1-15\" x=\"27.5625\" y=\"391.667938\"/>\n",
       "  <use xlink:href=\"#glyph1-7\" x=\"27.5625\" y=\"387.220001\"/>\n",
       "</g>\n",
       "<path style=\"fill:none;stroke-width:0.75;stroke-linecap:round;stroke-linejoin:round;stroke:rgb(0%,0%,0%);stroke-opacity:1;stroke-miterlimit:10;\" d=\"M 38.964844 455.53125 L 484.042969 455.53125 L 484.042969 374.964844 L 38.964844 374.964844 L 38.964844 455.53125 \"/>\n",
       "<g style=\"fill:rgb(0%,0%,0%);fill-opacity:1;\">\n",
       "  <use xlink:href=\"#glyph0-9\" x=\"223.714844\" y=\"491.644531\"/>\n",
       "  <use xlink:href=\"#glyph0-10\" x=\"228.602783\" y=\"491.644531\"/>\n",
       "  <use xlink:href=\"#glyph0-11\" x=\"233.05072\" y=\"491.644531\"/>\n",
       "  <use xlink:href=\"#glyph0-12\" x=\"237.93866\" y=\"491.644531\"/>\n",
       "  <use xlink:href=\"#glyph0-10\" x=\"240.602631\" y=\"491.644531\"/>\n",
       "  <use xlink:href=\"#glyph0-10\" x=\"245.050568\" y=\"491.644531\"/>\n",
       "  <use xlink:href=\"#glyph0-13\" x=\"249.498505\" y=\"491.644531\"/>\n",
       "  <use xlink:href=\"#glyph0-14\" x=\"251.722473\" y=\"491.644531\"/>\n",
       "  <use xlink:href=\"#glyph0-15\" x=\"256.17041\" y=\"491.644531\"/>\n",
       "  <use xlink:href=\"#glyph0-13\" x=\"258.394379\" y=\"491.644531\"/>\n",
       "  <use xlink:href=\"#glyph0-16\" x=\"260.618347\" y=\"491.644531\"/>\n",
       "  <use xlink:href=\"#glyph0-14\" x=\"265.506287\" y=\"491.644531\"/>\n",
       "  <use xlink:href=\"#glyph0-17\" x=\"269.954224\" y=\"491.644531\"/>\n",
       "  <use xlink:href=\"#glyph0-18\" x=\"271.730194\" y=\"491.644531\"/>\n",
       "  <use xlink:href=\"#glyph0-19\" x=\"275.730148\" y=\"491.644531\"/>\n",
       "  <use xlink:href=\"#glyph0-14\" x=\"280.178085\" y=\"491.644531\"/>\n",
       "  <use xlink:href=\"#glyph0-20\" x=\"284.626022\" y=\"491.644531\"/>\n",
       "  <use xlink:href=\"#glyph0-21\" x=\"291.289932\" y=\"491.644531\"/>\n",
       "  <use xlink:href=\"#glyph0-22\" x=\"293.065903\" y=\"491.644531\"/>\n",
       "  <use xlink:href=\"#glyph0-17\" x=\"297.51384\" y=\"491.644531\"/>\n",
       "</g>\n",
       "<g style=\"fill:rgb(0%,0%,0%);fill-opacity:1;\">\n",
       "  <use xlink:href=\"#glyph1-16\" x=\"8.554688\" y=\"421.023438\"/>\n",
       "  <use xlink:href=\"#glyph1-17\" x=\"8.554688\" y=\"418.359467\"/>\n",
       "  <use xlink:href=\"#glyph1-18\" x=\"8.554688\" y=\"414.359512\"/>\n",
       "</g>\n",
       "</g>\n",
       "</svg>\n"
      ],
      "text/plain": [
       "plot without title"
      ]
     },
     "metadata": {
      "image/svg+xml": {
       "isolated": true
      }
     },
     "output_type": "display_data"
    }
   ],
   "source": [
    "forward_selection = regsubsets(Y~poly(X, 10), data = XY, method =\"forward\")\n",
    "forward_selection_summary = summary(forward_selection)\n",
    "par(mfrow = c(3,1))\n",
    "plot(forward_selection_summary$cp,type = \"b\", xlab = \"degree of polynomial\" , ylab = \"Cp\")\n",
    "plot(forward_selection_summary$bic,type = \"b\", xlab = \"degree of polynomial\" , ylab = \"bic\")\n",
    "plot(forward_selection_summary$rsq,type = \"b\", xlab = \"degree of polynomial\" , ylab = \"rsq\")"
   ]
  },
  {
   "cell_type": "code",
   "execution_count": 51,
   "metadata": {
    "collapsed": false
   },
   "outputs": [
    {
     "name": "stdout",
     "output_type": "stream",
     "text": [
      "[1] \"Based on Cp, the best model is:\"\n"
     ]
    },
    {
     "data": {
      "text/html": [
       "<dl class=dl-horizontal>\n",
       "\t<dt>(Intercept)</dt>\n",
       "\t\t<dd>4.56470622794346</dd>\n",
       "\t<dt>poly(X, 10)1</dt>\n",
       "\t\t<dd>149.309802114251</dd>\n",
       "\t<dt>poly(X, 10)2</dt>\n",
       "\t\t<dd>38.8087847420602</dd>\n",
       "\t<dt>poly(X, 10)3</dt>\n",
       "\t\t<dd>84.9219405421287</dd>\n",
       "\t<dt>poly(X, 10)4</dt>\n",
       "\t\t<dd>-2.28234848572183</dd>\n",
       "</dl>\n"
      ],
      "text/latex": [
       "\\begin{description*}\n",
       "\\item[(Intercept)] 4.56470622794346\n",
       "\\item[poly(X, 10)1] 149.309802114251\n",
       "\\item[poly(X, 10)2] 38.8087847420602\n",
       "\\item[poly(X, 10)3] 84.9219405421287\n",
       "\\item[poly(X, 10)4] -2.28234848572183\n",
       "\\end{description*}\n"
      ],
      "text/markdown": [
       "(Intercept)\n",
       ":   4.56470622794346poly(X, 10)1\n",
       ":   149.309802114251poly(X, 10)2\n",
       ":   38.8087847420602poly(X, 10)3\n",
       ":   84.9219405421287poly(X, 10)4\n",
       ":   -2.28234848572183\n",
       "\n"
      ],
      "text/plain": [
       " (Intercept) poly(X, 10)1 poly(X, 10)2 poly(X, 10)3 poly(X, 10)4 \n",
       "    4.564706   149.309802    38.808785    84.921941    -2.282348 "
      ]
     },
     "execution_count": 51,
     "metadata": {},
     "output_type": "execute_result"
    },
    {
     "name": "stdout",
     "output_type": "stream",
     "text": [
      "[1] \"Based on BIC, the best model is:\"\n"
     ]
    },
    {
     "data": {
      "text/html": [
       "<dl class=dl-horizontal>\n",
       "\t<dt>(Intercept)</dt>\n",
       "\t\t<dd>4.56470622794346</dd>\n",
       "\t<dt>poly(X, 10)1</dt>\n",
       "\t\t<dd>149.309802114251</dd>\n",
       "\t<dt>poly(X, 10)2</dt>\n",
       "\t\t<dd>38.8087847420602</dd>\n",
       "\t<dt>poly(X, 10)3</dt>\n",
       "\t\t<dd>84.9219405421287</dd>\n",
       "\t<dt>poly(X, 10)4</dt>\n",
       "\t\t<dd>-2.28234848572183</dd>\n",
       "</dl>\n"
      ],
      "text/latex": [
       "\\begin{description*}\n",
       "\\item[(Intercept)] 4.56470622794346\n",
       "\\item[poly(X, 10)1] 149.309802114251\n",
       "\\item[poly(X, 10)2] 38.8087847420602\n",
       "\\item[poly(X, 10)3] 84.9219405421287\n",
       "\\item[poly(X, 10)4] -2.28234848572183\n",
       "\\end{description*}\n"
      ],
      "text/markdown": [
       "(Intercept)\n",
       ":   4.56470622794346poly(X, 10)1\n",
       ":   149.309802114251poly(X, 10)2\n",
       ":   38.8087847420602poly(X, 10)3\n",
       ":   84.9219405421287poly(X, 10)4\n",
       ":   -2.28234848572183\n",
       "\n"
      ],
      "text/plain": [
       " (Intercept) poly(X, 10)1 poly(X, 10)2 poly(X, 10)3 poly(X, 10)4 \n",
       "    4.564706   149.309802    38.808785    84.921941    -2.282348 "
      ]
     },
     "execution_count": 51,
     "metadata": {},
     "output_type": "execute_result"
    },
    {
     "name": "stdout",
     "output_type": "stream",
     "text": [
      "[1] \"Based on R squared, the best model is:\"\n"
     ]
    },
    {
     "data": {
      "text/html": [
       "<dl class=dl-horizontal>\n",
       "\t<dt>(Intercept)</dt>\n",
       "\t\t<dd>4.56470622794346</dd>\n",
       "\t<dt>poly(X, 10)1</dt>\n",
       "\t\t<dd>149.309802114251</dd>\n",
       "\t<dt>poly(X, 10)2</dt>\n",
       "\t\t<dd>38.8087847420602</dd>\n",
       "\t<dt>poly(X, 10)3</dt>\n",
       "\t\t<dd>84.9219405421287</dd>\n",
       "\t<dt>poly(X, 10)4</dt>\n",
       "\t\t<dd>-2.28234848572183</dd>\n",
       "\t<dt>poly(X, 10)5</dt>\n",
       "\t\t<dd>0.457699187806449</dd>\n",
       "\t<dt>poly(X, 10)6</dt>\n",
       "\t\t<dd>1.28566571981932</dd>\n",
       "\t<dt>poly(X, 10)8</dt>\n",
       "\t\t<dd>0.863027733541585</dd>\n",
       "\t<dt>poly(X, 10)10</dt>\n",
       "\t\t<dd>0.149897834460875</dd>\n",
       "</dl>\n"
      ],
      "text/latex": [
       "\\begin{description*}\n",
       "\\item[(Intercept)] 4.56470622794346\n",
       "\\item[poly(X, 10)1] 149.309802114251\n",
       "\\item[poly(X, 10)2] 38.8087847420602\n",
       "\\item[poly(X, 10)3] 84.9219405421287\n",
       "\\item[poly(X, 10)4] -2.28234848572183\n",
       "\\item[poly(X, 10)5] 0.457699187806449\n",
       "\\item[poly(X, 10)6] 1.28566571981932\n",
       "\\item[poly(X, 10)8] 0.863027733541585\n",
       "\\item[poly(X, 10)10] 0.149897834460875\n",
       "\\end{description*}\n"
      ],
      "text/markdown": [
       "(Intercept)\n",
       ":   4.56470622794346poly(X, 10)1\n",
       ":   149.309802114251poly(X, 10)2\n",
       ":   38.8087847420602poly(X, 10)3\n",
       ":   84.9219405421287poly(X, 10)4\n",
       ":   -2.28234848572183poly(X, 10)5\n",
       ":   0.457699187806449poly(X, 10)6\n",
       ":   1.28566571981932poly(X, 10)8\n",
       ":   0.863027733541585poly(X, 10)10\n",
       ":   0.149897834460875\n",
       "\n"
      ],
      "text/plain": [
       "  (Intercept)  poly(X, 10)1  poly(X, 10)2  poly(X, 10)3  poly(X, 10)4 \n",
       "    4.5647062   149.3098021    38.8087847    84.9219405    -2.2823485 \n",
       " poly(X, 10)5  poly(X, 10)6  poly(X, 10)8 poly(X, 10)10 \n",
       "    0.4576992     1.2856657     0.8630277     0.1498978 "
      ]
     },
     "execution_count": 51,
     "metadata": {},
     "output_type": "execute_result"
    }
   ],
   "source": [
    "print(\"Based on Cp, the best model is:\")\n",
    "coef(forward_selection,which.min(forward_selection_summary$cp))\n",
    "print(\"Based on BIC, the best model is:\")\n",
    "coef(forward_selection,which.min(forward_selection_summary$bic))\n",
    "print(\"Based on R squared, the best model is:\")\n",
    "coef(forward_selection,which.max(forward_selection_summary$rsq))"
   ]
  },
  {
   "cell_type": "code",
   "execution_count": 52,
   "metadata": {
    "collapsed": false
   },
   "outputs": [
    {
     "data": {
      "image/png": "[encoded data removed]",
      "image/svg+xml": [
       "<?xml version=\"1.0\" encoding=\"UTF-8\"?>\n",
       "<svg xmlns=\"http://www.w3.org/2000/svg\" xmlns:xlink=\"http://www.w3.org/1999/xlink\" width=\"504pt\" height=\"504pt\" viewBox=\"0 0 504 504\" version=\"1.1\">\n",
       "<defs>\n",
       "<g>\n",
       "<symbol overflow=\"visible\" id=\"glyph0-0\">\n",
       "<path style=\"stroke:none;\" d=\"M 0 -5.59375 L 4 -5.59375 L 4 0 L 0 0 Z M 3.359375 -5.203125 L 0.640625 -5.203125 L 2 -3.15625 Z M 3.59375 -0.765625 L 3.59375 -4.84375 L 2.234375 -2.796875 Z M 3.359375 -0.40625 L 2 -2.4375 L 0.640625 -0.40625 Z M 0.40625 -0.765625 L 1.765625 -2.796875 L 0.40625 -4.84375 Z \"/>\n",
       "</symbol>\n",
       "<symbol overflow=\"visible\" id=\"glyph0-1\">\n",
       "<path style=\"stroke:none;\" d=\"M 2.421875 -4.1875 L 0.953125 -4.1875 L 0.953125 -4.53125 C 1.171875 -4.539062 1.363281 -4.554688 1.53125 -4.578125 C 1.707031 -4.609375 1.859375 -4.660156 1.984375 -4.734375 C 2.117188 -4.816406 2.226562 -4.925781 2.3125 -5.0625 C 2.40625 -5.207031 2.472656 -5.398438 2.515625 -5.640625 L 2.921875 -5.640625 L 2.921875 0 L 2.421875 0 Z \"/>\n",
       "</symbol>\n",
       "<symbol overflow=\"visible\" id=\"glyph0-2\">\n",
       "<path style=\"stroke:none;\" d=\"M 0.546875 -3.796875 C 0.546875 -4.066406 0.585938 -4.316406 0.671875 -4.546875 C 0.765625 -4.773438 0.890625 -4.96875 1.046875 -5.125 C 1.203125 -5.289062 1.394531 -5.414062 1.625 -5.5 C 1.851562 -5.59375 2.109375 -5.640625 2.390625 -5.640625 C 2.671875 -5.640625 2.914062 -5.597656 3.125 -5.515625 C 3.34375 -5.429688 3.523438 -5.316406 3.671875 -5.171875 C 3.816406 -5.035156 3.925781 -4.875 4 -4.6875 C 4.082031 -4.5 4.125 -4.296875 4.125 -4.078125 C 4.125 -3.828125 4.082031 -3.601562 4 -3.40625 C 3.914062 -3.21875 3.804688 -3.050781 3.671875 -2.90625 C 3.535156 -2.757812 3.378906 -2.625 3.203125 -2.5 C 3.023438 -2.382812 2.847656 -2.273438 2.671875 -2.171875 C 2.492188 -2.066406 2.316406 -1.96875 2.140625 -1.875 C 1.960938 -1.78125 1.800781 -1.675781 1.65625 -1.5625 C 1.570312 -1.5 1.484375 -1.425781 1.390625 -1.34375 C 1.304688 -1.269531 1.226562 -1.1875 1.15625 -1.09375 C 1.09375 -1 1.039062 -0.894531 1 -0.78125 C 0.957031 -0.675781 0.929688 -0.5625 0.921875 -0.4375 L 4.078125 -0.4375 L 4.078125 0 L 0.390625 0 C 0.390625 -0.269531 0.414062 -0.515625 0.46875 -0.734375 C 0.519531 -0.953125 0.640625 -1.164062 0.828125 -1.375 C 1.023438 -1.601562 1.226562 -1.796875 1.4375 -1.953125 C 1.644531 -2.109375 1.847656 -2.25 2.046875 -2.375 C 2.253906 -2.5 2.445312 -2.613281 2.625 -2.71875 C 2.8125 -2.820312 2.972656 -2.9375 3.109375 -3.0625 C 3.242188 -3.1875 3.351562 -3.328125 3.4375 -3.484375 C 3.519531 -3.640625 3.5625 -3.828125 3.5625 -4.046875 C 3.5625 -4.222656 3.53125 -4.382812 3.46875 -4.53125 C 3.40625 -4.675781 3.316406 -4.800781 3.203125 -4.90625 C 3.085938 -5.007812 2.953125 -5.082031 2.796875 -5.125 C 2.648438 -5.175781 2.488281 -5.203125 2.3125 -5.203125 C 2.132812 -5.203125 1.96875 -5.160156 1.8125 -5.078125 C 1.65625 -5.003906 1.519531 -4.90625 1.40625 -4.78125 C 1.300781 -4.65625 1.21875 -4.503906 1.15625 -4.328125 C 1.101562 -4.160156 1.082031 -3.984375 1.09375 -3.796875 Z \"/>\n",
       "</symbol>\n",
       "<symbol overflow=\"visible\" id=\"glyph0-3\">\n",
       "<path style=\"stroke:none;\" d=\"M 1.765625 -3.140625 C 2.003906 -3.140625 2.222656 -3.148438 2.421875 -3.171875 C 2.617188 -3.203125 2.785156 -3.257812 2.921875 -3.34375 C 3.066406 -3.425781 3.179688 -3.535156 3.265625 -3.671875 C 3.347656 -3.816406 3.390625 -4 3.390625 -4.21875 C 3.390625 -4.394531 3.351562 -4.546875 3.28125 -4.671875 C 3.21875 -4.796875 3.128906 -4.894531 3.015625 -4.96875 C 2.910156 -5.050781 2.785156 -5.109375 2.640625 -5.140625 C 2.492188 -5.179688 2.34375 -5.203125 2.1875 -5.203125 C 2 -5.203125 1.832031 -5.171875 1.6875 -5.109375 C 1.539062 -5.054688 1.414062 -4.972656 1.3125 -4.859375 C 1.207031 -4.753906 1.125 -4.628906 1.0625 -4.484375 C 1 -4.335938 0.96875 -4.175781 0.96875 -4 L 0.46875 -4 C 0.46875 -4.257812 0.507812 -4.488281 0.59375 -4.6875 C 0.6875 -4.894531 0.828125 -5.085938 1.015625 -5.265625 C 1.179688 -5.421875 1.375 -5.519531 1.59375 -5.5625 C 1.820312 -5.613281 2.050781 -5.640625 2.28125 -5.640625 C 2.507812 -5.640625 2.71875 -5.609375 2.90625 -5.546875 C 3.101562 -5.492188 3.273438 -5.410156 3.421875 -5.296875 C 3.566406 -5.179688 3.679688 -5.035156 3.765625 -4.859375 C 3.847656 -4.679688 3.890625 -4.476562 3.890625 -4.25 C 3.890625 -3.957031 3.820312 -3.703125 3.6875 -3.484375 C 3.5625 -3.273438 3.363281 -3.109375 3.09375 -2.984375 C 3.300781 -2.921875 3.46875 -2.835938 3.59375 -2.734375 C 3.726562 -2.628906 3.832031 -2.515625 3.90625 -2.390625 C 3.976562 -2.265625 4.023438 -2.132812 4.046875 -2 C 4.078125 -1.863281 4.09375 -1.726562 4.09375 -1.59375 C 4.09375 -1.363281 4.050781 -1.144531 3.96875 -0.9375 C 3.894531 -0.738281 3.78125 -0.5625 3.625 -0.40625 C 3.46875 -0.25 3.273438 -0.125 3.046875 -0.03125 C 2.828125 0.0625 2.570312 0.109375 2.28125 0.109375 C 1.957031 0.109375 1.675781 0.078125 1.4375 0.015625 C 1.195312 -0.0351562 0.992188 -0.128906 0.828125 -0.265625 C 0.671875 -0.398438 0.546875 -0.578125 0.453125 -0.796875 C 0.359375 -1.023438 0.296875 -1.300781 0.265625 -1.625 L 0.78125 -1.625 C 0.78125 -1.195312 0.910156 -0.867188 1.171875 -0.640625 C 1.429688 -0.421875 1.769531 -0.3125 2.1875 -0.3125 C 2.382812 -0.3125 2.570312 -0.347656 2.75 -0.421875 C 2.925781 -0.492188 3.078125 -0.585938 3.203125 -0.703125 C 3.328125 -0.816406 3.421875 -0.953125 3.484375 -1.109375 C 3.554688 -1.265625 3.585938 -1.425781 3.578125 -1.59375 C 3.566406 -1.820312 3.515625 -2.007812 3.421875 -2.15625 C 3.328125 -2.3125 3.195312 -2.429688 3.03125 -2.515625 C 2.875 -2.609375 2.6875 -2.671875 2.46875 -2.703125 C 2.25 -2.734375 2.015625 -2.738281 1.765625 -2.71875 Z \"/>\n",
       "</symbol>\n",
       "<symbol overflow=\"visible\" id=\"glyph0-4\">\n",
       "<path style=\"stroke:none;\" d=\"M 2.859375 -1.390625 L 0.28125 -1.390625 L 0.28125 -1.828125 L 2.90625 -5.578125 L 3.375 -5.578125 L 3.375 -1.828125 L 4.15625 -1.828125 L 4.15625 -1.390625 L 3.375 -1.390625 L 3.375 0 L 2.859375 0 Z M 0.796875 -1.828125 L 2.859375 -1.828125 L 2.859375 -4.8125 Z \"/>\n",
       "</symbol>\n",
       "<symbol overflow=\"visible\" id=\"glyph0-5\">\n",
       "<path style=\"stroke:none;\" d=\"M 0.796875 -1.46875 C 0.847656 -1.082031 1 -0.789062 1.25 -0.59375 C 1.5 -0.40625 1.8125 -0.3125 2.1875 -0.3125 C 2.394531 -0.3125 2.582031 -0.347656 2.75 -0.421875 C 2.914062 -0.503906 3.054688 -0.609375 3.171875 -0.734375 C 3.296875 -0.867188 3.382812 -1.019531 3.4375 -1.1875 C 3.5 -1.363281 3.53125 -1.554688 3.53125 -1.765625 C 3.53125 -1.972656 3.5 -2.160156 3.4375 -2.328125 C 3.375 -2.503906 3.28125 -2.65625 3.15625 -2.78125 C 3.03125 -2.914062 2.878906 -3.015625 2.703125 -3.078125 C 2.535156 -3.148438 2.347656 -3.1875 2.140625 -3.1875 C 1.878906 -3.1875 1.644531 -3.140625 1.4375 -3.046875 C 1.238281 -2.953125 1.0625 -2.804688 0.90625 -2.609375 L 0.484375 -2.65625 L 0.9375 -5.578125 L 3.75 -5.578125 L 3.75 -5.15625 L 1.375 -5.15625 L 1.03125 -3.25 C 1.132812 -3.320312 1.234375 -3.378906 1.328125 -3.421875 C 1.421875 -3.472656 1.515625 -3.515625 1.609375 -3.546875 C 1.710938 -3.578125 1.816406 -3.597656 1.921875 -3.609375 C 2.023438 -3.617188 2.140625 -3.625 2.265625 -3.625 C 2.515625 -3.625 2.75 -3.582031 2.96875 -3.5 C 3.1875 -3.414062 3.375 -3.289062 3.53125 -3.125 C 3.695312 -2.96875 3.820312 -2.769531 3.90625 -2.53125 C 4 -2.300781 4.046875 -2.046875 4.046875 -1.765625 C 4.046875 -1.460938 3.992188 -1.191406 3.890625 -0.953125 C 3.796875 -0.722656 3.664062 -0.53125 3.5 -0.375 C 3.332031 -0.21875 3.140625 -0.0976562 2.921875 -0.015625 C 2.710938 0.0664062 2.492188 0.109375 2.265625 0.109375 C 1.992188 0.109375 1.742188 0.0820312 1.515625 0.03125 C 1.285156 -0.0195312 1.082031 -0.109375 0.90625 -0.234375 C 0.726562 -0.359375 0.582031 -0.519531 0.46875 -0.71875 C 0.363281 -0.925781 0.300781 -1.175781 0.28125 -1.46875 Z \"/>\n",
       "</symbol>\n",
       "<symbol overflow=\"visible\" id=\"glyph0-6\">\n",
       "<path style=\"stroke:none;\" d=\"M 3.5 -4.25 C 3.4375 -4.539062 3.316406 -4.769531 3.140625 -4.9375 C 2.960938 -5.113281 2.722656 -5.203125 2.421875 -5.203125 C 2.078125 -5.203125 1.800781 -5.117188 1.59375 -4.953125 C 1.394531 -4.796875 1.242188 -4.585938 1.140625 -4.328125 C 1.035156 -4.078125 0.960938 -3.800781 0.921875 -3.5 C 0.890625 -3.207031 0.863281 -2.925781 0.84375 -2.65625 C 0.914062 -2.757812 0.992188 -2.863281 1.078125 -2.96875 C 1.171875 -3.082031 1.273438 -3.179688 1.390625 -3.265625 C 1.503906 -3.347656 1.632812 -3.410156 1.78125 -3.453125 C 1.9375 -3.503906 2.113281 -3.53125 2.3125 -3.53125 C 2.882812 -3.53125 3.328125 -3.367188 3.640625 -3.046875 C 3.953125 -2.722656 4.109375 -2.28125 4.109375 -1.71875 C 4.109375 -1.144531 3.953125 -0.695312 3.640625 -0.375 C 3.328125 -0.0507812 2.878906 0.109375 2.296875 0.109375 C 2.015625 0.109375 1.753906 0.0625 1.515625 -0.03125 C 1.273438 -0.125 1.066406 -0.273438 0.890625 -0.484375 C 0.710938 -0.703125 0.570312 -0.984375 0.46875 -1.328125 C 0.375 -1.671875 0.328125 -2.085938 0.328125 -2.578125 C 0.328125 -2.921875 0.351562 -3.269531 0.40625 -3.625 C 0.46875 -3.988281 0.570312 -4.316406 0.71875 -4.609375 C 0.875 -4.910156 1.082031 -5.15625 1.34375 -5.34375 C 1.613281 -5.539062 1.957031 -5.640625 2.375 -5.640625 C 2.820312 -5.640625 3.191406 -5.519531 3.484375 -5.28125 C 3.785156 -5.050781 3.96875 -4.707031 4.03125 -4.25 Z M 2.296875 -3.109375 C 2.109375 -3.109375 1.929688 -3.066406 1.765625 -2.984375 C 1.609375 -2.910156 1.472656 -2.8125 1.359375 -2.6875 C 1.253906 -2.5625 1.171875 -2.410156 1.109375 -2.234375 C 1.054688 -2.066406 1.03125 -1.890625 1.03125 -1.703125 C 1.03125 -1.546875 1.050781 -1.382812 1.09375 -1.21875 C 1.144531 -1.050781 1.222656 -0.898438 1.328125 -0.765625 C 1.429688 -0.640625 1.5625 -0.53125 1.71875 -0.4375 C 1.875 -0.351562 2.070312 -0.3125 2.3125 -0.3125 C 2.550781 -0.3125 2.75 -0.351562 2.90625 -0.4375 C 3.070312 -0.519531 3.207031 -0.628906 3.3125 -0.765625 C 3.414062 -0.898438 3.488281 -1.050781 3.53125 -1.21875 C 3.570312 -1.394531 3.59375 -1.566406 3.59375 -1.734375 C 3.59375 -2.171875 3.488281 -2.507812 3.28125 -2.75 C 3.070312 -2.988281 2.742188 -3.109375 2.296875 -3.109375 Z \"/>\n",
       "</symbol>\n",
       "<symbol overflow=\"visible\" id=\"glyph0-7\">\n",
       "<path style=\"stroke:none;\" d=\"M 0.46875 -5.578125 L 4.0625 -5.578125 L 4.0625 -5.109375 C 3.65625 -4.648438 3.3125 -4.175781 3.03125 -3.6875 C 2.75 -3.207031 2.515625 -2.738281 2.328125 -2.28125 C 2.148438 -1.820312 2.015625 -1.394531 1.921875 -1 C 1.835938 -0.613281 1.789062 -0.28125 1.78125 0 L 1.21875 0 C 1.238281 -0.40625 1.316406 -0.832031 1.453125 -1.28125 C 1.585938 -1.738281 1.753906 -2.191406 1.953125 -2.640625 C 2.160156 -3.085938 2.394531 -3.519531 2.65625 -3.9375 C 2.914062 -4.363281 3.179688 -4.742188 3.453125 -5.078125 L 0.46875 -5.078125 Z \"/>\n",
       "</symbol>\n",
       "<symbol overflow=\"visible\" id=\"glyph0-8\">\n",
       "<path style=\"stroke:none;\" d=\"M 2.234375 -2.765625 C 2.035156 -2.765625 1.851562 -2.738281 1.6875 -2.6875 C 1.519531 -2.632812 1.375 -2.554688 1.25 -2.453125 C 1.132812 -2.359375 1.039062 -2.234375 0.96875 -2.078125 C 0.894531 -1.929688 0.859375 -1.753906 0.859375 -1.546875 C 0.859375 -1.367188 0.890625 -1.207031 0.953125 -1.0625 C 1.023438 -0.914062 1.117188 -0.785156 1.234375 -0.671875 C 1.359375 -0.566406 1.503906 -0.476562 1.671875 -0.40625 C 1.847656 -0.34375 2.046875 -0.3125 2.265625 -0.3125 C 2.453125 -0.3125 2.625 -0.34375 2.78125 -0.40625 C 2.945312 -0.46875 3.085938 -0.554688 3.203125 -0.671875 C 3.328125 -0.785156 3.421875 -0.914062 3.484375 -1.0625 C 3.546875 -1.21875 3.578125 -1.390625 3.578125 -1.578125 C 3.578125 -1.773438 3.539062 -1.945312 3.46875 -2.09375 C 3.40625 -2.238281 3.3125 -2.359375 3.1875 -2.453125 C 3.070312 -2.554688 2.929688 -2.632812 2.765625 -2.6875 C 2.597656 -2.738281 2.421875 -2.765625 2.234375 -2.765625 Z M 2.203125 -5.203125 C 2.046875 -5.203125 1.894531 -5.179688 1.75 -5.140625 C 1.613281 -5.097656 1.492188 -5.035156 1.390625 -4.953125 C 1.285156 -4.867188 1.203125 -4.757812 1.140625 -4.625 C 1.085938 -4.5 1.0625 -4.351562 1.0625 -4.1875 C 1.0625 -4.007812 1.09375 -3.859375 1.15625 -3.734375 C 1.226562 -3.609375 1.316406 -3.503906 1.421875 -3.421875 C 1.535156 -3.347656 1.664062 -3.289062 1.8125 -3.25 C 1.957031 -3.207031 2.109375 -3.1875 2.265625 -3.1875 C 2.421875 -3.1875 2.5625 -3.207031 2.6875 -3.25 C 2.820312 -3.289062 2.9375 -3.351562 3.03125 -3.4375 C 3.132812 -3.53125 3.210938 -3.644531 3.265625 -3.78125 C 3.328125 -3.925781 3.359375 -4.097656 3.359375 -4.296875 C 3.359375 -4.585938 3.265625 -4.8125 3.078125 -4.96875 C 2.890625 -5.125 2.597656 -5.203125 2.203125 -5.203125 Z M 1.34375 -3.03125 C 1.195312 -3.113281 1.070312 -3.191406 0.96875 -3.265625 C 0.875 -3.347656 0.796875 -3.429688 0.734375 -3.515625 C 0.671875 -3.609375 0.625 -3.710938 0.59375 -3.828125 C 0.5625 -3.953125 0.546875 -4.097656 0.546875 -4.265625 C 0.546875 -4.453125 0.585938 -4.628906 0.671875 -4.796875 C 0.765625 -4.972656 0.878906 -5.125 1.015625 -5.25 C 1.160156 -5.375 1.332031 -5.46875 1.53125 -5.53125 C 1.726562 -5.601562 1.9375 -5.640625 2.15625 -5.640625 C 2.375 -5.640625 2.582031 -5.613281 2.78125 -5.5625 C 2.988281 -5.507812 3.171875 -5.425781 3.328125 -5.3125 C 3.492188 -5.195312 3.625 -5.050781 3.71875 -4.875 C 3.8125 -4.707031 3.859375 -4.503906 3.859375 -4.265625 C 3.859375 -3.972656 3.796875 -3.722656 3.671875 -3.515625 C 3.554688 -3.304688 3.363281 -3.132812 3.09375 -3 C 3.40625 -2.882812 3.648438 -2.703125 3.828125 -2.453125 C 4.003906 -2.210938 4.09375 -1.925781 4.09375 -1.59375 C 4.09375 -1.320312 4.046875 -1.078125 3.953125 -0.859375 C 3.859375 -0.648438 3.722656 -0.472656 3.546875 -0.328125 C 3.378906 -0.179688 3.171875 -0.0703125 2.921875 0 C 2.679688 0.0703125 2.410156 0.109375 2.109375 0.109375 C 1.910156 0.109375 1.703125 0.0703125 1.484375 0 C 1.273438 -0.0625 1.085938 -0.160156 0.921875 -0.296875 C 0.753906 -0.441406 0.617188 -0.617188 0.515625 -0.828125 C 0.410156 -1.035156 0.359375 -1.273438 0.359375 -1.546875 C 0.359375 -1.890625 0.441406 -2.191406 0.609375 -2.453125 C 0.773438 -2.710938 1.019531 -2.90625 1.34375 -3.03125 Z \"/>\n",
       "</symbol>\n",
       "<symbol overflow=\"visible\" id=\"glyph0-9\">\n",
       "<path style=\"stroke:none;\" d=\"M 3.78125 -2.09375 C 3.78125 -2.320312 3.742188 -2.539062 3.671875 -2.75 C 3.609375 -2.96875 3.515625 -3.15625 3.390625 -3.3125 C 3.273438 -3.46875 3.128906 -3.59375 2.953125 -3.6875 C 2.785156 -3.78125 2.59375 -3.828125 2.375 -3.828125 C 2.125 -3.828125 1.90625 -3.773438 1.71875 -3.671875 C 1.539062 -3.578125 1.394531 -3.441406 1.28125 -3.265625 C 1.164062 -3.097656 1.078125 -2.898438 1.015625 -2.671875 C 0.960938 -2.453125 0.941406 -2.207031 0.953125 -1.9375 C 0.953125 -1.675781 0.988281 -1.445312 1.0625 -1.25 C 1.132812 -1.050781 1.234375 -0.878906 1.359375 -0.734375 C 1.492188 -0.597656 1.644531 -0.492188 1.8125 -0.421875 C 1.988281 -0.347656 2.175781 -0.3125 2.375 -0.3125 C 2.601562 -0.3125 2.800781 -0.359375 2.96875 -0.453125 C 3.144531 -0.546875 3.289062 -0.671875 3.40625 -0.828125 C 3.53125 -0.984375 3.625 -1.171875 3.6875 -1.390625 C 3.75 -1.609375 3.78125 -1.84375 3.78125 -2.09375 Z M 3.78125 -5.765625 L 4.25 -5.765625 L 4.25 0 L 3.78125 0 L 3.78125 -0.734375 L 3.765625 -0.734375 C 3.691406 -0.585938 3.597656 -0.460938 3.484375 -0.359375 C 3.378906 -0.253906 3.257812 -0.164062 3.125 -0.09375 C 3 -0.03125 2.863281 0.015625 2.71875 0.046875 C 2.582031 0.0859375 2.445312 0.109375 2.3125 0.109375 C 1.976562 0.109375 1.691406 0.0546875 1.453125 -0.046875 C 1.222656 -0.160156 1.03125 -0.316406 0.875 -0.515625 C 0.726562 -0.710938 0.617188 -0.941406 0.546875 -1.203125 C 0.484375 -1.472656 0.453125 -1.757812 0.453125 -2.0625 C 0.453125 -2.351562 0.488281 -2.628906 0.5625 -2.890625 C 0.632812 -3.160156 0.742188 -3.394531 0.890625 -3.59375 C 1.046875 -3.789062 1.238281 -3.945312 1.46875 -4.0625 C 1.707031 -4.1875 1.984375 -4.25 2.296875 -4.25 C 2.585938 -4.25 2.867188 -4.179688 3.140625 -4.046875 C 3.410156 -3.921875 3.625 -3.734375 3.78125 -3.484375 Z \"/>\n",
       "</symbol>\n",
       "<symbol overflow=\"visible\" id=\"glyph0-10\">\n",
       "<path style=\"stroke:none;\" d=\"M 3.578125 -2.359375 C 3.578125 -2.554688 3.546875 -2.742188 3.484375 -2.921875 C 3.429688 -3.109375 3.347656 -3.265625 3.234375 -3.390625 C 3.128906 -3.523438 2.992188 -3.628906 2.828125 -3.703125 C 2.660156 -3.785156 2.472656 -3.828125 2.265625 -3.828125 C 2.046875 -3.828125 1.851562 -3.785156 1.6875 -3.703125 C 1.53125 -3.617188 1.394531 -3.507812 1.28125 -3.375 C 1.164062 -3.25 1.070312 -3.097656 1 -2.921875 C 0.9375 -2.742188 0.894531 -2.554688 0.875 -2.359375 Z M 0.875 -1.953125 C 0.875 -1.734375 0.898438 -1.523438 0.953125 -1.328125 C 1.015625 -1.128906 1.101562 -0.953125 1.21875 -0.796875 C 1.332031 -0.648438 1.476562 -0.53125 1.65625 -0.4375 C 1.832031 -0.351562 2.035156 -0.3125 2.265625 -0.3125 C 2.578125 -0.3125 2.84375 -0.394531 3.0625 -0.5625 C 3.289062 -0.726562 3.441406 -0.960938 3.515625 -1.265625 L 4.0625 -1.265625 C 4 -1.066406 3.921875 -0.882812 3.828125 -0.71875 C 3.734375 -0.550781 3.613281 -0.40625 3.46875 -0.28125 C 3.320312 -0.15625 3.148438 -0.0625 2.953125 0 C 2.753906 0.0703125 2.523438 0.109375 2.265625 0.109375 C 1.929688 0.109375 1.644531 0.0546875 1.40625 -0.046875 C 1.164062 -0.160156 0.96875 -0.316406 0.8125 -0.515625 C 0.65625 -0.710938 0.539062 -0.941406 0.46875 -1.203125 C 0.394531 -1.460938 0.359375 -1.75 0.359375 -2.0625 C 0.359375 -2.363281 0.398438 -2.644531 0.484375 -2.90625 C 0.578125 -3.175781 0.703125 -3.410156 0.859375 -3.609375 C 1.023438 -3.804688 1.222656 -3.960938 1.453125 -4.078125 C 1.691406 -4.191406 1.960938 -4.25 2.265625 -4.25 C 2.835938 -4.25 3.285156 -4.050781 3.609375 -3.65625 C 3.929688 -3.269531 4.09375 -2.703125 4.09375 -1.953125 Z \"/>\n",
       "</symbol>\n",
       "<symbol overflow=\"visible\" id=\"glyph0-11\">\n",
       "<path style=\"stroke:none;\" d=\"M 3.78125 -2.0625 C 3.78125 -2.3125 3.75 -2.539062 3.6875 -2.75 C 3.625 -2.96875 3.53125 -3.15625 3.40625 -3.3125 C 3.289062 -3.46875 3.144531 -3.59375 2.96875 -3.6875 C 2.800781 -3.78125 2.601562 -3.828125 2.375 -3.828125 C 2.175781 -3.828125 1.988281 -3.789062 1.8125 -3.71875 C 1.644531 -3.644531 1.492188 -3.535156 1.359375 -3.390625 C 1.234375 -3.253906 1.132812 -3.085938 1.0625 -2.890625 C 0.988281 -2.691406 0.953125 -2.460938 0.953125 -2.203125 C 0.941406 -1.941406 0.960938 -1.695312 1.015625 -1.46875 C 1.078125 -1.238281 1.164062 -1.035156 1.28125 -0.859375 C 1.394531 -0.691406 1.539062 -0.554688 1.71875 -0.453125 C 1.90625 -0.359375 2.125 -0.3125 2.375 -0.3125 C 2.59375 -0.3125 2.785156 -0.359375 2.953125 -0.453125 C 3.128906 -0.546875 3.273438 -0.671875 3.390625 -0.828125 C 3.515625 -0.992188 3.609375 -1.179688 3.671875 -1.390625 C 3.742188 -1.597656 3.78125 -1.820312 3.78125 -2.0625 Z M 3.78125 -4.140625 L 4.25 -4.140625 L 4.25 -0.40625 C 4.25 -0.125 4.222656 0.140625 4.171875 0.390625 C 4.117188 0.648438 4.019531 0.875 3.875 1.0625 C 3.726562 1.257812 3.53125 1.414062 3.28125 1.53125 C 3.03125 1.644531 2.707031 1.703125 2.3125 1.703125 C 2.007812 1.703125 1.75 1.660156 1.53125 1.578125 C 1.3125 1.503906 1.128906 1.40625 0.984375 1.28125 C 0.847656 1.164062 0.742188 1.035156 0.671875 0.890625 C 0.597656 0.753906 0.5625 0.625 0.5625 0.5 L 1.078125 0.5 C 1.109375 0.65625 1.164062 0.78125 1.25 0.875 C 1.332031 0.976562 1.425781 1.054688 1.53125 1.109375 C 1.644531 1.171875 1.765625 1.210938 1.890625 1.234375 C 2.023438 1.253906 2.164062 1.265625 2.3125 1.265625 C 2.632812 1.265625 2.894531 1.207031 3.09375 1.09375 C 3.289062 0.976562 3.441406 0.832031 3.546875 0.65625 C 3.648438 0.476562 3.710938 0.273438 3.734375 0.046875 C 3.765625 -0.179688 3.78125 -0.414062 3.78125 -0.65625 C 3.625 -0.40625 3.410156 -0.210938 3.140625 -0.078125 C 2.867188 0.046875 2.585938 0.109375 2.296875 0.109375 C 1.984375 0.109375 1.707031 0.0507812 1.46875 -0.0625 C 1.238281 -0.1875 1.046875 -0.347656 0.890625 -0.546875 C 0.742188 -0.742188 0.632812 -0.972656 0.5625 -1.234375 C 0.488281 -1.503906 0.453125 -1.785156 0.453125 -2.078125 C 0.453125 -2.378906 0.484375 -2.664062 0.546875 -2.9375 C 0.617188 -3.207031 0.726562 -3.4375 0.875 -3.625 C 1.03125 -3.820312 1.222656 -3.972656 1.453125 -4.078125 C 1.691406 -4.191406 1.976562 -4.25 2.3125 -4.25 C 2.445312 -4.25 2.582031 -4.226562 2.71875 -4.1875 C 2.863281 -4.15625 3 -4.101562 3.125 -4.03125 C 3.257812 -3.96875 3.378906 -3.878906 3.484375 -3.765625 C 3.597656 -3.660156 3.691406 -3.546875 3.765625 -3.421875 L 3.78125 -3.421875 Z \"/>\n",
       "</symbol>\n",
       "<symbol overflow=\"visible\" id=\"glyph0-12\">\n",
       "<path style=\"stroke:none;\" d=\"M 1.078125 0 L 0.59375 0 L 0.59375 -4.140625 L 1.078125 -4.140625 L 1.078125 -3.375 L 1.09375 -3.375 C 1.226562 -3.695312 1.398438 -3.921875 1.609375 -4.046875 C 1.816406 -4.179688 2.097656 -4.25 2.453125 -4.25 L 2.453125 -3.734375 C 2.179688 -3.742188 1.957031 -3.703125 1.78125 -3.609375 C 1.601562 -3.515625 1.460938 -3.390625 1.359375 -3.234375 C 1.253906 -3.085938 1.179688 -2.90625 1.140625 -2.6875 C 1.097656 -2.476562 1.078125 -2.257812 1.078125 -2.03125 Z \"/>\n",
       "</symbol>\n",
       "<symbol overflow=\"visible\" id=\"glyph0-13\">\n",
       "<path style=\"stroke:none;\" d=\"\"/>\n",
       "</symbol>\n",
       "<symbol overflow=\"visible\" id=\"glyph0-14\">\n",
       "<path style=\"stroke:none;\" d=\"M 2.21875 0.109375 C 1.957031 0.109375 1.707031 0.0625 1.46875 -0.03125 C 1.238281 -0.125 1.035156 -0.257812 0.859375 -0.4375 C 0.691406 -0.625 0.554688 -0.851562 0.453125 -1.125 C 0.347656 -1.394531 0.296875 -1.710938 0.296875 -2.078125 C 0.296875 -2.378906 0.335938 -2.660156 0.421875 -2.921875 C 0.503906 -3.179688 0.625 -3.410156 0.78125 -3.609375 C 0.945312 -3.804688 1.148438 -3.960938 1.390625 -4.078125 C 1.628906 -4.191406 1.90625 -4.25 2.21875 -4.25 C 2.550781 -4.25 2.835938 -4.191406 3.078125 -4.078125 C 3.316406 -3.960938 3.515625 -3.804688 3.671875 -3.609375 C 3.828125 -3.421875 3.941406 -3.191406 4.015625 -2.921875 C 4.097656 -2.660156 4.140625 -2.378906 4.140625 -2.078125 C 4.140625 -1.742188 4.09375 -1.441406 4 -1.171875 C 3.914062 -0.910156 3.789062 -0.679688 3.625 -0.484375 C 3.457031 -0.296875 3.253906 -0.148438 3.015625 -0.046875 C 2.773438 0.0546875 2.507812 0.109375 2.21875 0.109375 Z M 3.625 -2.078125 C 3.625 -2.316406 3.597656 -2.539062 3.546875 -2.75 C 3.492188 -2.96875 3.410156 -3.15625 3.296875 -3.3125 C 3.191406 -3.46875 3.050781 -3.59375 2.875 -3.6875 C 2.695312 -3.78125 2.476562 -3.828125 2.21875 -3.828125 C 1.96875 -3.828125 1.753906 -3.773438 1.578125 -3.671875 C 1.398438 -3.578125 1.253906 -3.445312 1.140625 -3.28125 C 1.023438 -3.125 0.941406 -2.9375 0.890625 -2.71875 C 0.835938 -2.507812 0.8125 -2.296875 0.8125 -2.078125 C 0.8125 -1.816406 0.84375 -1.578125 0.90625 -1.359375 C 0.96875 -1.148438 1.054688 -0.96875 1.171875 -0.8125 C 1.296875 -0.65625 1.441406 -0.53125 1.609375 -0.4375 C 1.785156 -0.351562 1.988281 -0.3125 2.21875 -0.3125 C 2.46875 -0.3125 2.679688 -0.359375 2.859375 -0.453125 C 3.046875 -0.554688 3.191406 -0.691406 3.296875 -0.859375 C 3.410156 -1.023438 3.492188 -1.210938 3.546875 -1.421875 C 3.597656 -1.628906 3.625 -1.847656 3.625 -2.078125 Z \"/>\n",
       "</symbol>\n",
       "<symbol overflow=\"visible\" id=\"glyph0-15\">\n",
       "<path style=\"stroke:none;\" d=\"M 0.15625 -3.75 L 0.15625 -4.140625 L 0.78125 -4.140625 L 0.78125 -4.796875 C 0.78125 -5.128906 0.84375 -5.390625 0.96875 -5.578125 C 1.101562 -5.773438 1.332031 -5.875 1.65625 -5.875 C 1.726562 -5.875 1.796875 -5.867188 1.859375 -5.859375 C 1.921875 -5.859375 1.988281 -5.851562 2.0625 -5.84375 L 2.0625 -5.40625 C 1.945312 -5.425781 1.847656 -5.4375 1.765625 -5.4375 C 1.640625 -5.4375 1.539062 -5.410156 1.46875 -5.359375 C 1.40625 -5.316406 1.359375 -5.257812 1.328125 -5.1875 C 1.296875 -5.113281 1.273438 -5.03125 1.265625 -4.9375 C 1.253906 -4.84375 1.25 -4.75 1.25 -4.65625 L 1.25 -4.140625 L 2.0625 -4.140625 L 2.0625 -3.75 L 1.25 -3.75 L 1.25 0 L 0.78125 0 L 0.78125 -3.75 Z \"/>\n",
       "</symbol>\n",
       "<symbol overflow=\"visible\" id=\"glyph0-16\">\n",
       "<path style=\"stroke:none;\" d=\"M 1.109375 -2.0625 C 1.109375 -1.820312 1.140625 -1.597656 1.203125 -1.390625 C 1.265625 -1.179688 1.351562 -0.992188 1.46875 -0.828125 C 1.59375 -0.671875 1.742188 -0.546875 1.921875 -0.453125 C 2.097656 -0.359375 2.296875 -0.3125 2.515625 -0.3125 C 2.753906 -0.3125 2.96875 -0.359375 3.15625 -0.453125 C 3.34375 -0.554688 3.492188 -0.691406 3.609375 -0.859375 C 3.722656 -1.035156 3.804688 -1.238281 3.859375 -1.46875 C 3.910156 -1.695312 3.929688 -1.941406 3.921875 -2.203125 C 3.921875 -2.460938 3.882812 -2.691406 3.8125 -2.890625 C 3.75 -3.085938 3.648438 -3.253906 3.515625 -3.390625 C 3.390625 -3.535156 3.238281 -3.644531 3.0625 -3.71875 C 2.894531 -3.789062 2.710938 -3.828125 2.515625 -3.828125 C 2.285156 -3.828125 2.082031 -3.78125 1.90625 -3.6875 C 1.726562 -3.59375 1.582031 -3.46875 1.46875 -3.3125 C 1.351562 -3.15625 1.265625 -2.96875 1.203125 -2.75 C 1.140625 -2.539062 1.109375 -2.3125 1.109375 -2.0625 Z M 1.109375 1.625 L 0.625 1.625 L 0.625 -4.140625 L 1.109375 -4.140625 L 1.109375 -3.421875 L 1.125 -3.421875 C 1.195312 -3.546875 1.285156 -3.660156 1.390625 -3.765625 C 1.503906 -3.878906 1.625 -3.96875 1.75 -4.03125 C 1.882812 -4.101562 2.019531 -4.15625 2.15625 -4.1875 C 2.300781 -4.226562 2.4375 -4.25 2.5625 -4.25 C 2.90625 -4.25 3.191406 -4.191406 3.421875 -4.078125 C 3.660156 -3.972656 3.851562 -3.820312 4 -3.625 C 4.15625 -3.4375 4.265625 -3.207031 4.328125 -2.9375 C 4.398438 -2.664062 4.4375 -2.378906 4.4375 -2.078125 C 4.4375 -1.785156 4.398438 -1.503906 4.328125 -1.234375 C 4.253906 -0.972656 4.140625 -0.742188 3.984375 -0.546875 C 3.835938 -0.347656 3.644531 -0.1875 3.40625 -0.0625 C 3.175781 0.0507812 2.90625 0.109375 2.59375 0.109375 C 2.300781 0.109375 2.019531 0.046875 1.75 -0.078125 C 1.476562 -0.210938 1.265625 -0.40625 1.109375 -0.65625 Z \"/>\n",
       "</symbol>\n",
       "<symbol overflow=\"visible\" id=\"glyph0-17\">\n",
       "<path style=\"stroke:none;\" d=\"M 0.640625 0 L 0.640625 -5.765625 L 1.125 -5.765625 L 1.125 0 Z \"/>\n",
       "</symbol>\n",
       "<symbol overflow=\"visible\" id=\"glyph0-18\">\n",
       "<path style=\"stroke:none;\" d=\"M 0.546875 1.125 C 0.609375 1.132812 0.671875 1.144531 0.734375 1.15625 C 0.804688 1.164062 0.875 1.171875 0.9375 1.171875 C 1.070312 1.171875 1.179688 1.128906 1.265625 1.046875 C 1.359375 0.960938 1.429688 0.859375 1.484375 0.734375 C 1.535156 0.617188 1.582031 0.492188 1.625 0.359375 C 1.664062 0.234375 1.707031 0.125 1.75 0.03125 L 0.140625 -4.140625 L 0.6875 -4.140625 L 2.015625 -0.578125 L 3.34375 -4.140625 L 3.859375 -4.140625 L 2.3125 -0.0625 C 2.21875 0.207031 2.125 0.441406 2.03125 0.640625 C 1.945312 0.847656 1.851562 1.023438 1.75 1.171875 C 1.65625 1.328125 1.546875 1.441406 1.421875 1.515625 C 1.304688 1.585938 1.164062 1.625 1 1.625 C 0.914062 1.625 0.832031 1.617188 0.75 1.609375 C 0.675781 1.597656 0.609375 1.585938 0.546875 1.578125 Z \"/>\n",
       "</symbol>\n",
       "<symbol overflow=\"visible\" id=\"glyph0-19\">\n",
       "<path style=\"stroke:none;\" d=\"M 1.0625 0 L 0.578125 0 L 0.578125 -4.140625 L 1.0625 -4.140625 L 1.0625 -3.5625 C 1.25 -3.769531 1.441406 -3.9375 1.640625 -4.0625 C 1.847656 -4.1875 2.097656 -4.25 2.390625 -4.25 C 2.648438 -4.25 2.890625 -4.203125 3.109375 -4.109375 C 3.328125 -4.023438 3.507812 -3.875 3.65625 -3.65625 C 3.757812 -3.507812 3.816406 -3.359375 3.828125 -3.203125 C 3.847656 -3.046875 3.859375 -2.882812 3.859375 -2.71875 L 3.859375 0 L 3.390625 0 L 3.390625 -2.703125 C 3.390625 -3.078125 3.304688 -3.359375 3.140625 -3.546875 C 2.972656 -3.734375 2.695312 -3.828125 2.3125 -3.828125 C 2.164062 -3.828125 2.03125 -3.800781 1.90625 -3.75 C 1.78125 -3.707031 1.664062 -3.648438 1.5625 -3.578125 C 1.46875 -3.503906 1.382812 -3.414062 1.3125 -3.3125 C 1.25 -3.21875 1.195312 -3.117188 1.15625 -3.015625 C 1.113281 -2.878906 1.085938 -2.75 1.078125 -2.625 C 1.066406 -2.507812 1.0625 -2.378906 1.0625 -2.234375 Z \"/>\n",
       "</symbol>\n",
       "<symbol overflow=\"visible\" id=\"glyph0-20\">\n",
       "<path style=\"stroke:none;\" d=\"M 0.984375 0 L 0.515625 0 L 0.515625 -4.140625 L 0.984375 -4.140625 L 0.984375 -3.515625 L 1.015625 -3.515625 C 1.128906 -3.753906 1.300781 -3.9375 1.53125 -4.0625 C 1.757812 -4.1875 2.007812 -4.25 2.28125 -4.25 C 2.476562 -4.25 2.640625 -4.226562 2.765625 -4.1875 C 2.898438 -4.144531 3.015625 -4.085938 3.109375 -4.015625 C 3.203125 -3.941406 3.28125 -3.859375 3.34375 -3.765625 C 3.40625 -3.671875 3.457031 -3.566406 3.5 -3.453125 C 3.644531 -3.722656 3.832031 -3.921875 4.0625 -4.046875 C 4.289062 -4.179688 4.554688 -4.25 4.859375 -4.25 C 5.140625 -4.25 5.363281 -4.203125 5.53125 -4.109375 C 5.695312 -4.015625 5.828125 -3.890625 5.921875 -3.734375 C 6.015625 -3.585938 6.070312 -3.414062 6.09375 -3.21875 C 6.125 -3.019531 6.140625 -2.816406 6.140625 -2.609375 L 6.140625 0 L 5.65625 0 L 5.65625 -2.859375 C 5.65625 -3.160156 5.59375 -3.394531 5.46875 -3.5625 C 5.34375 -3.738281 5.113281 -3.828125 4.78125 -3.828125 C 4.601562 -3.828125 4.429688 -3.785156 4.265625 -3.703125 C 4.109375 -3.628906 3.96875 -3.515625 3.84375 -3.359375 C 3.789062 -3.285156 3.742188 -3.203125 3.703125 -3.109375 C 3.671875 -3.015625 3.644531 -2.914062 3.625 -2.8125 C 3.601562 -2.707031 3.585938 -2.601562 3.578125 -2.5 C 3.566406 -2.40625 3.5625 -2.316406 3.5625 -2.234375 L 3.5625 0 L 3.09375 0 L 3.09375 -2.859375 C 3.09375 -3.160156 3.03125 -3.394531 2.90625 -3.5625 C 2.78125 -3.738281 2.546875 -3.828125 2.203125 -3.828125 C 2.023438 -3.828125 1.851562 -3.785156 1.6875 -3.703125 C 1.53125 -3.628906 1.390625 -3.515625 1.265625 -3.359375 C 1.210938 -3.285156 1.164062 -3.203125 1.125 -3.109375 C 1.09375 -3.015625 1.066406 -2.914062 1.046875 -2.8125 C 1.023438 -2.707031 1.007812 -2.601562 1 -2.5 C 0.988281 -2.40625 0.984375 -2.316406 0.984375 -2.234375 Z \"/>\n",
       "</symbol>\n",
       "<symbol overflow=\"visible\" id=\"glyph0-21\">\n",
       "<path style=\"stroke:none;\" d=\"M 0.640625 0 L 0.640625 -4.140625 L 1.125 -4.140625 L 1.125 0 Z M 0.625 -5.046875 L 0.625 -5.765625 L 1.15625 -5.765625 L 1.15625 -5.046875 Z \"/>\n",
       "</symbol>\n",
       "<symbol overflow=\"visible\" id=\"glyph0-22\">\n",
       "<path style=\"stroke:none;\" d=\"M 3.28125 -2.171875 C 3.082031 -2.085938 2.878906 -2.03125 2.671875 -2 C 2.460938 -1.976562 2.253906 -1.957031 2.046875 -1.9375 C 1.679688 -1.914062 1.394531 -1.832031 1.1875 -1.6875 C 0.976562 -1.550781 0.875 -1.34375 0.875 -1.0625 C 0.875 -0.9375 0.898438 -0.828125 0.953125 -0.734375 C 1.003906 -0.640625 1.070312 -0.5625 1.15625 -0.5 C 1.238281 -0.4375 1.332031 -0.390625 1.4375 -0.359375 C 1.550781 -0.328125 1.664062 -0.3125 1.78125 -0.3125 C 1.96875 -0.3125 2.148438 -0.335938 2.328125 -0.390625 C 2.515625 -0.441406 2.675781 -0.515625 2.8125 -0.609375 C 2.957031 -0.710938 3.070312 -0.835938 3.15625 -0.984375 C 3.238281 -1.140625 3.28125 -1.320312 3.28125 -1.53125 Z M 2.484375 -2.421875 C 2.566406 -2.429688 2.671875 -2.445312 2.796875 -2.46875 C 2.921875 -2.488281 3.023438 -2.515625 3.109375 -2.546875 C 3.191406 -2.585938 3.238281 -2.648438 3.25 -2.734375 C 3.269531 -2.828125 3.28125 -2.910156 3.28125 -2.984375 C 3.28125 -3.234375 3.203125 -3.4375 3.046875 -3.59375 C 2.890625 -3.75 2.625 -3.828125 2.25 -3.828125 C 2.09375 -3.828125 1.941406 -3.8125 1.796875 -3.78125 C 1.660156 -3.75 1.539062 -3.695312 1.4375 -3.625 C 1.332031 -3.550781 1.242188 -3.453125 1.171875 -3.328125 C 1.109375 -3.210938 1.066406 -3.066406 1.046875 -2.890625 L 0.5625 -2.890625 C 0.570312 -3.128906 0.625 -3.335938 0.71875 -3.515625 C 0.820312 -3.691406 0.945312 -3.832031 1.09375 -3.9375 C 1.25 -4.050781 1.425781 -4.128906 1.625 -4.171875 C 1.820312 -4.222656 2.035156 -4.25 2.265625 -4.25 C 2.472656 -4.25 2.664062 -4.226562 2.84375 -4.1875 C 3.03125 -4.144531 3.191406 -4.070312 3.328125 -3.96875 C 3.460938 -3.875 3.566406 -3.742188 3.640625 -3.578125 C 3.722656 -3.410156 3.765625 -3.207031 3.765625 -2.96875 L 3.765625 -0.71875 C 3.765625 -0.53125 3.796875 -0.410156 3.859375 -0.359375 C 3.929688 -0.304688 4.066406 -0.316406 4.265625 -0.390625 L 4.265625 -0.015625 C 4.234375 -0.00390625 4.179688 0.0078125 4.109375 0.03125 C 4.035156 0.0507812 3.960938 0.0625 3.890625 0.0625 C 3.816406 0.0625 3.75 0.0546875 3.6875 0.046875 C 3.601562 0.0351562 3.535156 0.0078125 3.484375 -0.03125 C 3.441406 -0.0703125 3.40625 -0.117188 3.375 -0.171875 C 3.34375 -0.234375 3.320312 -0.296875 3.3125 -0.359375 C 3.300781 -0.429688 3.296875 -0.503906 3.296875 -0.578125 C 3.085938 -0.347656 2.851562 -0.175781 2.59375 -0.0625 C 2.332031 0.0507812 2.050781 0.109375 1.75 0.109375 C 1.570312 0.109375 1.394531 0.0820312 1.21875 0.03125 C 1.050781 -0.0078125 0.90625 -0.0820312 0.78125 -0.1875 C 0.65625 -0.289062 0.554688 -0.414062 0.484375 -0.5625 C 0.410156 -0.707031 0.375 -0.878906 0.375 -1.078125 C 0.375 -1.785156 0.851562 -2.203125 1.8125 -2.328125 Z \"/>\n",
       "</symbol>\n",
       "<symbol overflow=\"visible\" id=\"glyph1-0\">\n",
       "<path style=\"stroke:none;\" d=\"M -5.59375 0 L -5.59375 -4 L 0 -4 L 0 0 Z M -5.203125 -3.359375 L -5.203125 -0.640625 L -3.15625 -2 Z M -0.765625 -3.59375 L -4.84375 -3.59375 L -2.796875 -2.234375 Z M -0.40625 -3.359375 L -2.4375 -2 L -0.40625 -0.640625 Z M -0.765625 -0.40625 L -2.796875 -1.765625 L -4.84375 -0.40625 Z \"/>\n",
       "</symbol>\n",
       "<symbol overflow=\"visible\" id=\"glyph1-1\">\n",
       "<path style=\"stroke:none;\" d=\"M -2.78125 -3.609375 C -3.082031 -3.609375 -3.378906 -3.59375 -3.671875 -3.5625 C -3.960938 -3.53125 -4.222656 -3.460938 -4.453125 -3.359375 C -4.679688 -3.253906 -4.863281 -3.109375 -5 -2.921875 C -5.132812 -2.742188 -5.203125 -2.503906 -5.203125 -2.203125 C -5.203125 -1.921875 -5.128906 -1.691406 -4.984375 -1.515625 C -4.847656 -1.335938 -4.660156 -1.195312 -4.421875 -1.09375 C -4.191406 -0.988281 -3.925781 -0.914062 -3.625 -0.875 C -3.332031 -0.84375 -3.03125 -0.828125 -2.71875 -0.828125 C -2.351562 -0.828125 -2.019531 -0.847656 -1.71875 -0.890625 C -1.425781 -0.929688 -1.175781 -1.003906 -0.96875 -1.109375 C -0.757812 -1.222656 -0.597656 -1.367188 -0.484375 -1.546875 C -0.367188 -1.722656 -0.3125 -1.945312 -0.3125 -2.21875 C -0.3125 -2.53125 -0.382812 -2.773438 -0.53125 -2.953125 C -0.6875 -3.140625 -0.878906 -3.28125 -1.109375 -3.375 C -1.347656 -3.46875 -1.613281 -3.53125 -1.90625 -3.5625 C -2.207031 -3.59375 -2.5 -3.609375 -2.78125 -3.609375 Z M -5.640625 -2.21875 C -5.640625 -2.5 -5.597656 -2.738281 -5.515625 -2.9375 C -5.429688 -3.144531 -5.316406 -3.316406 -5.171875 -3.453125 C -5.023438 -3.597656 -4.859375 -3.710938 -4.671875 -3.796875 C -4.484375 -3.890625 -4.28125 -3.957031 -4.0625 -4 C -3.84375 -4.050781 -3.617188 -4.082031 -3.390625 -4.09375 C -3.160156 -4.113281 -2.9375 -4.125 -2.71875 -4.125 C -2.34375 -4.125 -1.984375 -4.097656 -1.640625 -4.046875 C -1.304688 -3.992188 -1.007812 -3.894531 -0.75 -3.75 C -0.488281 -3.613281 -0.28125 -3.421875 -0.125 -3.171875 C 0.03125 -2.929688 0.109375 -2.613281 0.109375 -2.21875 C 0.109375 -1.832031 0.03125 -1.515625 -0.125 -1.265625 C -0.28125 -1.015625 -0.488281 -0.816406 -0.75 -0.671875 C -1.007812 -0.535156 -1.3125 -0.441406 -1.65625 -0.390625 C -2.007812 -0.335938 -2.382812 -0.3125 -2.78125 -0.3125 C -3.132812 -0.3125 -3.484375 -0.332031 -3.828125 -0.375 C -4.171875 -0.425781 -4.472656 -0.519531 -4.734375 -0.65625 C -5.003906 -0.789062 -5.222656 -0.984375 -5.390625 -1.234375 C -5.554688 -1.484375 -5.640625 -1.8125 -5.640625 -2.21875 Z \"/>\n",
       "</symbol>\n",
       "<symbol overflow=\"visible\" id=\"glyph1-2\">\n",
       "<path style=\"stroke:none;\" d=\"M -1.390625 -2.859375 L -1.390625 -0.28125 L -1.828125 -0.28125 L -5.578125 -2.90625 L -5.578125 -3.375 L -1.828125 -3.375 L -1.828125 -4.15625 L -1.390625 -4.15625 L -1.390625 -3.375 L 0 -3.375 L 0 -2.859375 Z M -1.828125 -0.796875 L -1.828125 -2.859375 L -4.8125 -2.859375 Z \"/>\n",
       "</symbol>\n",
       "<symbol overflow=\"visible\" id=\"glyph1-3\">\n",
       "<path style=\"stroke:none;\" d=\"M -2.765625 -2.234375 C -2.765625 -2.035156 -2.738281 -1.851562 -2.6875 -1.6875 C -2.632812 -1.519531 -2.554688 -1.375 -2.453125 -1.25 C -2.359375 -1.132812 -2.234375 -1.039062 -2.078125 -0.96875 C -1.929688 -0.894531 -1.753906 -0.859375 -1.546875 -0.859375 C -1.367188 -0.859375 -1.207031 -0.890625 -1.0625 -0.953125 C -0.914062 -1.023438 -0.785156 -1.117188 -0.671875 -1.234375 C -0.566406 -1.359375 -0.476562 -1.503906 -0.40625 -1.671875 C -0.34375 -1.847656 -0.3125 -2.046875 -0.3125 -2.265625 C -0.3125 -2.453125 -0.34375 -2.625 -0.40625 -2.78125 C -0.46875 -2.945312 -0.554688 -3.085938 -0.671875 -3.203125 C -0.785156 -3.328125 -0.914062 -3.421875 -1.0625 -3.484375 C -1.21875 -3.546875 -1.390625 -3.578125 -1.578125 -3.578125 C -1.773438 -3.578125 -1.945312 -3.539062 -2.09375 -3.46875 C -2.238281 -3.40625 -2.359375 -3.3125 -2.453125 -3.1875 C -2.554688 -3.070312 -2.632812 -2.929688 -2.6875 -2.765625 C -2.738281 -2.597656 -2.765625 -2.421875 -2.765625 -2.234375 Z M -5.203125 -2.203125 C -5.203125 -2.046875 -5.179688 -1.894531 -5.140625 -1.75 C -5.097656 -1.613281 -5.035156 -1.492188 -4.953125 -1.390625 C -4.867188 -1.285156 -4.757812 -1.203125 -4.625 -1.140625 C -4.5 -1.085938 -4.351562 -1.0625 -4.1875 -1.0625 C -4.007812 -1.0625 -3.859375 -1.09375 -3.734375 -1.15625 C -3.609375 -1.226562 -3.503906 -1.316406 -3.421875 -1.421875 C -3.347656 -1.535156 -3.289062 -1.664062 -3.25 -1.8125 C -3.207031 -1.957031 -3.1875 -2.109375 -3.1875 -2.265625 C -3.1875 -2.421875 -3.207031 -2.5625 -3.25 -2.6875 C -3.289062 -2.820312 -3.351562 -2.9375 -3.4375 -3.03125 C -3.53125 -3.132812 -3.644531 -3.210938 -3.78125 -3.265625 C -3.925781 -3.328125 -4.097656 -3.359375 -4.296875 -3.359375 C -4.585938 -3.359375 -4.8125 -3.265625 -4.96875 -3.078125 C -5.125 -2.890625 -5.203125 -2.597656 -5.203125 -2.203125 Z M -3.03125 -1.34375 C -3.113281 -1.195312 -3.191406 -1.070312 -3.265625 -0.96875 C -3.347656 -0.875 -3.429688 -0.796875 -3.515625 -0.734375 C -3.609375 -0.671875 -3.710938 -0.625 -3.828125 -0.59375 C -3.953125 -0.5625 -4.097656 -0.546875 -4.265625 -0.546875 C -4.453125 -0.546875 -4.628906 -0.585938 -4.796875 -0.671875 C -4.972656 -0.765625 -5.125 -0.878906 -5.25 -1.015625 C -5.375 -1.160156 -5.46875 -1.332031 -5.53125 -1.53125 C -5.601562 -1.726562 -5.640625 -1.9375 -5.640625 -2.15625 C -5.640625 -2.375 -5.613281 -2.582031 -5.5625 -2.78125 C -5.507812 -2.988281 -5.425781 -3.171875 -5.3125 -3.328125 C -5.195312 -3.492188 -5.050781 -3.625 -4.875 -3.71875 C -4.707031 -3.8125 -4.503906 -3.859375 -4.265625 -3.859375 C -3.972656 -3.859375 -3.722656 -3.796875 -3.515625 -3.671875 C -3.304688 -3.554688 -3.132812 -3.363281 -3 -3.09375 C -2.882812 -3.40625 -2.703125 -3.648438 -2.453125 -3.828125 C -2.210938 -4.003906 -1.925781 -4.09375 -1.59375 -4.09375 C -1.320312 -4.09375 -1.078125 -4.046875 -0.859375 -3.953125 C -0.648438 -3.859375 -0.472656 -3.722656 -0.328125 -3.546875 C -0.179688 -3.378906 -0.0703125 -3.171875 0 -2.921875 C 0.0703125 -2.679688 0.109375 -2.410156 0.109375 -2.109375 C 0.109375 -1.910156 0.0703125 -1.703125 0 -1.484375 C -0.0625 -1.273438 -0.160156 -1.085938 -0.296875 -0.921875 C -0.441406 -0.753906 -0.617188 -0.617188 -0.828125 -0.515625 C -1.035156 -0.410156 -1.273438 -0.359375 -1.546875 -0.359375 C -1.890625 -0.359375 -2.191406 -0.441406 -2.453125 -0.609375 C -2.710938 -0.773438 -2.90625 -1.019531 -3.03125 -1.34375 Z \"/>\n",
       "</symbol>\n",
       "<symbol overflow=\"visible\" id=\"glyph1-4\">\n",
       "<path style=\"stroke:none;\" d=\"M -4.09375 -4.734375 C -4.582031 -4.617188 -4.929688 -4.410156 -5.140625 -4.109375 C -5.347656 -3.804688 -5.453125 -3.410156 -5.453125 -2.921875 C -5.453125 -2.578125 -5.378906 -2.273438 -5.234375 -2.015625 C -5.097656 -1.765625 -4.910156 -1.554688 -4.671875 -1.390625 C -4.441406 -1.234375 -4.171875 -1.113281 -3.859375 -1.03125 C -3.554688 -0.957031 -3.234375 -0.921875 -2.890625 -0.921875 C -2.578125 -0.921875 -2.265625 -0.953125 -1.953125 -1.015625 C -1.640625 -1.085938 -1.363281 -1.203125 -1.125 -1.359375 C -0.882812 -1.515625 -0.6875 -1.722656 -0.53125 -1.984375 C -0.382812 -2.242188 -0.3125 -2.570312 -0.3125 -2.96875 C -0.3125 -3.21875 -0.347656 -3.441406 -0.421875 -3.640625 C -0.503906 -3.835938 -0.613281 -4.015625 -0.75 -4.171875 C -0.894531 -4.328125 -1.0625 -4.457031 -1.25 -4.5625 C -1.445312 -4.664062 -1.660156 -4.742188 -1.890625 -4.796875 L -1.890625 -5.359375 C -1.617188 -5.296875 -1.359375 -5.203125 -1.109375 -5.078125 C -0.859375 -4.953125 -0.640625 -4.789062 -0.453125 -4.59375 C -0.265625 -4.394531 -0.113281 -4.148438 0 -3.859375 C 0.101562 -3.578125 0.15625 -3.242188 0.15625 -2.859375 C 0.15625 -2.421875 0.0703125 -2.039062 -0.09375 -1.71875 C -0.257812 -1.40625 -0.476562 -1.148438 -0.75 -0.953125 C -1.03125 -0.753906 -1.351562 -0.609375 -1.71875 -0.515625 C -2.082031 -0.429688 -2.46875 -0.390625 -2.875 -0.390625 C -3.425781 -0.390625 -3.894531 -0.457031 -4.28125 -0.59375 C -4.664062 -0.726562 -4.976562 -0.914062 -5.21875 -1.15625 C -5.457031 -1.394531 -5.628906 -1.675781 -5.734375 -2 C -5.847656 -2.320312 -5.90625 -2.675781 -5.90625 -3.0625 C -5.90625 -3.351562 -5.867188 -3.625 -5.796875 -3.875 C -5.722656 -4.132812 -5.609375 -4.359375 -5.453125 -4.546875 C -5.296875 -4.742188 -5.101562 -4.90625 -4.875 -5.03125 C -4.644531 -5.15625 -4.382812 -5.242188 -4.09375 -5.296875 Z \"/>\n",
       "</symbol>\n",
       "<symbol overflow=\"visible\" id=\"glyph1-5\">\n",
       "<path style=\"stroke:none;\" d=\"M -2.0625 -1.109375 C -1.820312 -1.109375 -1.597656 -1.140625 -1.390625 -1.203125 C -1.179688 -1.265625 -0.992188 -1.351562 -0.828125 -1.46875 C -0.671875 -1.59375 -0.546875 -1.742188 -0.453125 -1.921875 C -0.359375 -2.097656 -0.3125 -2.296875 -0.3125 -2.515625 C -0.3125 -2.753906 -0.359375 -2.96875 -0.453125 -3.15625 C -0.554688 -3.34375 -0.691406 -3.492188 -0.859375 -3.609375 C -1.035156 -3.722656 -1.238281 -3.804688 -1.46875 -3.859375 C -1.695312 -3.910156 -1.941406 -3.929688 -2.203125 -3.921875 C -2.460938 -3.921875 -2.691406 -3.882812 -2.890625 -3.8125 C -3.085938 -3.75 -3.253906 -3.648438 -3.390625 -3.515625 C -3.535156 -3.390625 -3.644531 -3.238281 -3.71875 -3.0625 C -3.789062 -2.894531 -3.828125 -2.710938 -3.828125 -2.515625 C -3.828125 -2.285156 -3.78125 -2.082031 -3.6875 -1.90625 C -3.59375 -1.726562 -3.46875 -1.582031 -3.3125 -1.46875 C -3.15625 -1.351562 -2.96875 -1.265625 -2.75 -1.203125 C -2.539062 -1.140625 -2.3125 -1.109375 -2.0625 -1.109375 Z M 1.625 -1.109375 L 1.625 -0.625 L -4.140625 -0.625 L -4.140625 -1.109375 L -3.421875 -1.109375 L -3.421875 -1.125 C -3.546875 -1.195312 -3.660156 -1.285156 -3.765625 -1.390625 C -3.878906 -1.503906 -3.96875 -1.625 -4.03125 -1.75 C -4.101562 -1.882812 -4.15625 -2.019531 -4.1875 -2.15625 C -4.226562 -2.300781 -4.25 -2.4375 -4.25 -2.5625 C -4.25 -2.90625 -4.191406 -3.191406 -4.078125 -3.421875 C -3.972656 -3.660156 -3.820312 -3.851562 -3.625 -4 C -3.4375 -4.15625 -3.207031 -4.265625 -2.9375 -4.328125 C -2.664062 -4.398438 -2.378906 -4.4375 -2.078125 -4.4375 C -1.785156 -4.4375 -1.503906 -4.398438 -1.234375 -4.328125 C -0.972656 -4.253906 -0.742188 -4.140625 -0.546875 -3.984375 C -0.347656 -3.835938 -0.1875 -3.644531 -0.0625 -3.40625 C 0.0507812 -3.175781 0.109375 -2.90625 0.109375 -2.59375 C 0.109375 -2.300781 0.046875 -2.019531 -0.078125 -1.75 C -0.210938 -1.476562 -0.40625 -1.265625 -0.65625 -1.109375 Z \"/>\n",
       "</symbol>\n",
       "<symbol overflow=\"visible\" id=\"glyph1-6\">\n",
       "<path style=\"stroke:none;\" d=\"M -2.328125 -2.34375 L -1.828125 -2.34375 L -1.828125 -0.3125 L -2.328125 -0.3125 Z \"/>\n",
       "</symbol>\n",
       "<symbol overflow=\"visible\" id=\"glyph1-7\">\n",
       "<path style=\"stroke:none;\" d=\"M -1.46875 -0.796875 C -1.082031 -0.847656 -0.789062 -1 -0.59375 -1.25 C -0.40625 -1.5 -0.3125 -1.8125 -0.3125 -2.1875 C -0.3125 -2.394531 -0.347656 -2.582031 -0.421875 -2.75 C -0.503906 -2.914062 -0.609375 -3.054688 -0.734375 -3.171875 C -0.867188 -3.296875 -1.019531 -3.382812 -1.1875 -3.4375 C -1.363281 -3.5 -1.554688 -3.53125 -1.765625 -3.53125 C -1.972656 -3.53125 -2.160156 -3.5 -2.328125 -3.4375 C -2.503906 -3.375 -2.65625 -3.28125 -2.78125 -3.15625 C -2.914062 -3.03125 -3.015625 -2.878906 -3.078125 -2.703125 C -3.148438 -2.535156 -3.1875 -2.347656 -3.1875 -2.140625 C -3.1875 -1.878906 -3.140625 -1.644531 -3.046875 -1.4375 C -2.953125 -1.238281 -2.804688 -1.0625 -2.609375 -0.90625 L -2.65625 -0.484375 L -5.578125 -0.9375 L -5.578125 -3.75 L -5.15625 -3.75 L -5.15625 -1.375 L -3.25 -1.03125 C -3.320312 -1.132812 -3.378906 -1.234375 -3.421875 -1.328125 C -3.472656 -1.421875 -3.515625 -1.515625 -3.546875 -1.609375 C -3.578125 -1.710938 -3.597656 -1.816406 -3.609375 -1.921875 C -3.617188 -2.023438 -3.625 -2.140625 -3.625 -2.265625 C -3.625 -2.515625 -3.582031 -2.75 -3.5 -2.96875 C -3.414062 -3.1875 -3.289062 -3.375 -3.125 -3.53125 C -2.96875 -3.695312 -2.769531 -3.820312 -2.53125 -3.90625 C -2.300781 -4 -2.046875 -4.046875 -1.765625 -4.046875 C -1.460938 -4.046875 -1.191406 -3.992188 -0.953125 -3.890625 C -0.722656 -3.796875 -0.53125 -3.664062 -0.375 -3.5 C -0.21875 -3.332031 -0.0976562 -3.140625 -0.015625 -2.921875 C 0.0664062 -2.710938 0.109375 -2.492188 0.109375 -2.265625 C 0.109375 -1.992188 0.0820312 -1.742188 0.03125 -1.515625 C -0.0195312 -1.285156 -0.109375 -1.082031 -0.234375 -0.90625 C -0.359375 -0.726562 -0.519531 -0.582031 -0.71875 -0.46875 C -0.925781 -0.363281 -1.175781 -0.300781 -1.46875 -0.28125 Z \"/>\n",
       "</symbol>\n",
       "<symbol overflow=\"visible\" id=\"glyph1-8\">\n",
       "<path style=\"stroke:none;\" d=\"M -3.140625 -1.765625 C -3.140625 -2.003906 -3.148438 -2.222656 -3.171875 -2.421875 C -3.203125 -2.617188 -3.257812 -2.785156 -3.34375 -2.921875 C -3.425781 -3.066406 -3.535156 -3.179688 -3.671875 -3.265625 C -3.816406 -3.347656 -4 -3.390625 -4.21875 -3.390625 C -4.394531 -3.390625 -4.546875 -3.351562 -4.671875 -3.28125 C -4.796875 -3.21875 -4.894531 -3.128906 -4.96875 -3.015625 C -5.050781 -2.910156 -5.109375 -2.785156 -5.140625 -2.640625 C -5.179688 -2.492188 -5.203125 -2.34375 -5.203125 -2.1875 C -5.203125 -2 -5.171875 -1.832031 -5.109375 -1.6875 C -5.054688 -1.539062 -4.972656 -1.414062 -4.859375 -1.3125 C -4.753906 -1.207031 -4.628906 -1.125 -4.484375 -1.0625 C -4.335938 -1 -4.175781 -0.96875 -4 -0.96875 L -4 -0.46875 C -4.257812 -0.46875 -4.488281 -0.507812 -4.6875 -0.59375 C -4.894531 -0.6875 -5.085938 -0.828125 -5.265625 -1.015625 C -5.421875 -1.179688 -5.519531 -1.375 -5.5625 -1.59375 C -5.613281 -1.820312 -5.640625 -2.050781 -5.640625 -2.28125 C -5.640625 -2.507812 -5.609375 -2.71875 -5.546875 -2.90625 C -5.492188 -3.101562 -5.410156 -3.273438 -5.296875 -3.421875 C -5.179688 -3.566406 -5.035156 -3.679688 -4.859375 -3.765625 C -4.679688 -3.847656 -4.476562 -3.890625 -4.25 -3.890625 C -3.957031 -3.890625 -3.703125 -3.820312 -3.484375 -3.6875 C -3.273438 -3.5625 -3.109375 -3.363281 -2.984375 -3.09375 C -2.921875 -3.300781 -2.835938 -3.46875 -2.734375 -3.59375 C -2.628906 -3.726562 -2.515625 -3.832031 -2.390625 -3.90625 C -2.265625 -3.976562 -2.132812 -4.023438 -2 -4.046875 C -1.863281 -4.078125 -1.726562 -4.09375 -1.59375 -4.09375 C -1.363281 -4.09375 -1.144531 -4.050781 -0.9375 -3.96875 C -0.738281 -3.894531 -0.5625 -3.78125 -0.40625 -3.625 C -0.25 -3.46875 -0.125 -3.273438 -0.03125 -3.046875 C 0.0625 -2.828125 0.109375 -2.570312 0.109375 -2.28125 C 0.109375 -1.957031 0.078125 -1.675781 0.015625 -1.4375 C -0.0351562 -1.195312 -0.128906 -0.992188 -0.265625 -0.828125 C -0.398438 -0.671875 -0.578125 -0.546875 -0.796875 -0.453125 C -1.023438 -0.359375 -1.300781 -0.296875 -1.625 -0.265625 L -1.625 -0.78125 C -1.195312 -0.78125 -0.867188 -0.910156 -0.640625 -1.171875 C -0.421875 -1.429688 -0.3125 -1.769531 -0.3125 -2.1875 C -0.3125 -2.382812 -0.347656 -2.570312 -0.421875 -2.75 C -0.492188 -2.925781 -0.585938 -3.078125 -0.703125 -3.203125 C -0.816406 -3.328125 -0.953125 -3.421875 -1.109375 -3.484375 C -1.265625 -3.554688 -1.425781 -3.585938 -1.59375 -3.578125 C -1.820312 -3.566406 -2.007812 -3.515625 -2.15625 -3.421875 C -2.3125 -3.328125 -2.429688 -3.195312 -2.515625 -3.03125 C -2.609375 -2.875 -2.671875 -2.6875 -2.703125 -2.46875 C -2.734375 -2.25 -2.738281 -2.015625 -2.71875 -1.765625 Z \"/>\n",
       "</symbol>\n",
       "<symbol overflow=\"visible\" id=\"glyph1-9\">\n",
       "<path style=\"stroke:none;\" d=\"M -4.1875 -2.421875 L -4.1875 -0.953125 L -4.53125 -0.953125 C -4.539062 -1.171875 -4.554688 -1.363281 -4.578125 -1.53125 C -4.609375 -1.707031 -4.660156 -1.859375 -4.734375 -1.984375 C -4.816406 -2.117188 -4.925781 -2.226562 -5.0625 -2.3125 C -5.207031 -2.40625 -5.398438 -2.472656 -5.640625 -2.515625 L -5.640625 -2.921875 L 0 -2.921875 L 0 -2.421875 Z \"/>\n",
       "</symbol>\n",
       "<symbol overflow=\"visible\" id=\"glyph1-10\">\n",
       "<path style=\"stroke:none;\" d=\"M -2.09375 -1.109375 C -1.84375 -1.109375 -1.609375 -1.140625 -1.390625 -1.203125 C -1.171875 -1.265625 -0.984375 -1.351562 -0.828125 -1.46875 C -0.671875 -1.582031 -0.546875 -1.726562 -0.453125 -1.90625 C -0.359375 -2.082031 -0.3125 -2.285156 -0.3125 -2.515625 C -0.3125 -2.710938 -0.347656 -2.894531 -0.421875 -3.0625 C -0.492188 -3.238281 -0.597656 -3.390625 -0.734375 -3.515625 C -0.878906 -3.648438 -1.050781 -3.75 -1.25 -3.8125 C -1.445312 -3.882812 -1.675781 -3.921875 -1.9375 -3.921875 C -2.207031 -3.929688 -2.453125 -3.910156 -2.671875 -3.859375 C -2.898438 -3.804688 -3.097656 -3.722656 -3.265625 -3.609375 C -3.441406 -3.492188 -3.578125 -3.34375 -3.671875 -3.15625 C -3.773438 -2.96875 -3.828125 -2.753906 -3.828125 -2.515625 C -3.828125 -2.296875 -3.78125 -2.097656 -3.6875 -1.921875 C -3.59375 -1.742188 -3.46875 -1.59375 -3.3125 -1.46875 C -3.15625 -1.351562 -2.96875 -1.265625 -2.75 -1.203125 C -2.539062 -1.140625 -2.320312 -1.109375 -2.09375 -1.109375 Z M 0 -1.109375 L 0 -0.625 L -5.765625 -0.625 L -5.765625 -1.109375 L -3.484375 -1.109375 C -3.734375 -1.265625 -3.921875 -1.476562 -4.046875 -1.75 C -4.179688 -2.019531 -4.25 -2.300781 -4.25 -2.59375 C -4.25 -2.90625 -4.1875 -3.175781 -4.0625 -3.40625 C -3.945312 -3.644531 -3.789062 -3.835938 -3.59375 -3.984375 C -3.394531 -4.140625 -3.160156 -4.253906 -2.890625 -4.328125 C -2.628906 -4.398438 -2.351562 -4.4375 -2.0625 -4.4375 C -1.757812 -4.4375 -1.472656 -4.398438 -1.203125 -4.328125 C -0.941406 -4.265625 -0.710938 -4.15625 -0.515625 -4 C -0.316406 -3.851562 -0.160156 -3.660156 -0.046875 -3.421875 C 0.0546875 -3.191406 0.109375 -2.90625 0.109375 -2.5625 C 0.109375 -2.4375 0.0859375 -2.300781 0.046875 -2.15625 C 0.015625 -2.019531 -0.03125 -1.882812 -0.09375 -1.75 C -0.164062 -1.625 -0.253906 -1.503906 -0.359375 -1.390625 C -0.460938 -1.285156 -0.585938 -1.195312 -0.734375 -1.125 L -0.734375 -1.109375 Z \"/>\n",
       "</symbol>\n",
       "<symbol overflow=\"visible\" id=\"glyph1-11\">\n",
       "<path style=\"stroke:none;\" d=\"M 0 -0.640625 L -4.140625 -0.640625 L -4.140625 -1.125 L 0 -1.125 Z M -5.046875 -0.625 L -5.765625 -0.625 L -5.765625 -1.15625 L -5.046875 -1.15625 Z \"/>\n",
       "</symbol>\n",
       "<symbol overflow=\"visible\" id=\"glyph1-12\">\n",
       "<path style=\"stroke:none;\" d=\"M -2.84375 -3.515625 C -3.144531 -3.429688 -3.382812 -3.285156 -3.5625 -3.078125 C -3.738281 -2.867188 -3.828125 -2.601562 -3.828125 -2.28125 C -3.828125 -2.03125 -3.773438 -1.816406 -3.671875 -1.640625 C -3.566406 -1.472656 -3.429688 -1.332031 -3.265625 -1.21875 C -3.097656 -1.101562 -2.910156 -1.019531 -2.703125 -0.96875 C -2.492188 -0.914062 -2.28125 -0.890625 -2.0625 -0.890625 C -1.84375 -0.890625 -1.628906 -0.914062 -1.421875 -0.96875 C -1.210938 -1.019531 -1.023438 -1.097656 -0.859375 -1.203125 C -0.691406 -1.316406 -0.554688 -1.460938 -0.453125 -1.640625 C -0.359375 -1.816406 -0.3125 -2.03125 -0.3125 -2.28125 C -0.3125 -2.632812 -0.410156 -2.921875 -0.609375 -3.140625 C -0.804688 -3.359375 -1.082031 -3.492188 -1.4375 -3.546875 L -1.4375 -4.0625 C -1.207031 -4.019531 -0.992188 -3.953125 -0.796875 -3.859375 C -0.609375 -3.765625 -0.445312 -3.644531 -0.3125 -3.5 C -0.175781 -3.351562 -0.0703125 -3.175781 0 -2.96875 C 0.0703125 -2.769531 0.109375 -2.539062 0.109375 -2.28125 C 0.109375 -1.945312 0.0546875 -1.660156 -0.046875 -1.421875 C -0.160156 -1.179688 -0.316406 -0.984375 -0.515625 -0.828125 C -0.710938 -0.671875 -0.941406 -0.554688 -1.203125 -0.484375 C -1.472656 -0.410156 -1.757812 -0.375 -2.0625 -0.375 C -2.351562 -0.375 -2.628906 -0.414062 -2.890625 -0.5 C -3.148438 -0.582031 -3.378906 -0.703125 -3.578125 -0.859375 C -3.785156 -1.023438 -3.945312 -1.222656 -4.0625 -1.453125 C -4.1875 -1.691406 -4.25 -1.96875 -4.25 -2.28125 C -4.25 -2.757812 -4.132812 -3.144531 -3.90625 -3.4375 C -3.675781 -3.738281 -3.320312 -3.925781 -2.84375 -4 Z \"/>\n",
       "</symbol>\n",
       "<symbol overflow=\"visible\" id=\"glyph1-13\">\n",
       "<path style=\"stroke:none;\" d=\"M 0 -0.8125 L -0.703125 -0.8125 L -0.703125 -1.40625 L 0 -1.40625 Z \"/>\n",
       "</symbol>\n",
       "<symbol overflow=\"visible\" id=\"glyph1-14\">\n",
       "<path style=\"stroke:none;\" d=\"M -5.578125 -0.46875 L -5.578125 -4.0625 L -5.109375 -4.0625 C -4.648438 -3.65625 -4.175781 -3.3125 -3.6875 -3.03125 C -3.207031 -2.75 -2.738281 -2.515625 -2.28125 -2.328125 C -1.820312 -2.148438 -1.394531 -2.015625 -1 -1.921875 C -0.613281 -1.835938 -0.28125 -1.789062 0 -1.78125 L 0 -1.21875 C -0.40625 -1.238281 -0.832031 -1.316406 -1.28125 -1.453125 C -1.738281 -1.585938 -2.191406 -1.753906 -2.640625 -1.953125 C -3.085938 -2.160156 -3.519531 -2.394531 -3.9375 -2.65625 C -4.363281 -2.914062 -4.742188 -3.179688 -5.078125 -3.453125 L -5.078125 -0.46875 Z \"/>\n",
       "</symbol>\n",
       "<symbol overflow=\"visible\" id=\"glyph1-15\">\n",
       "<path style=\"stroke:none;\" d=\"M -1.234375 -0.9375 C -0.929688 -1 -0.703125 -1.117188 -0.546875 -1.296875 C -0.390625 -1.472656 -0.3125 -1.722656 -0.3125 -2.046875 C -0.3125 -2.378906 -0.394531 -2.644531 -0.5625 -2.84375 C -0.726562 -3.039062 -0.9375 -3.191406 -1.1875 -3.296875 C -1.4375 -3.410156 -1.707031 -3.488281 -2 -3.53125 C -2.289062 -3.570312 -2.566406 -3.597656 -2.828125 -3.609375 L -2.84375 -3.59375 C -2.550781 -3.425781 -2.328125 -3.210938 -2.171875 -2.953125 C -2.023438 -2.703125 -1.953125 -2.410156 -1.953125 -2.078125 C -1.953125 -1.804688 -1.992188 -1.5625 -2.078125 -1.34375 C -2.171875 -1.132812 -2.296875 -0.953125 -2.453125 -0.796875 C -2.617188 -0.648438 -2.8125 -0.535156 -3.03125 -0.453125 C -3.257812 -0.367188 -3.507812 -0.328125 -3.78125 -0.328125 C -4.039062 -0.328125 -4.285156 -0.363281 -4.515625 -0.4375 C -4.742188 -0.507812 -4.941406 -0.617188 -5.109375 -0.765625 C -5.273438 -0.921875 -5.40625 -1.113281 -5.5 -1.34375 C -5.59375 -1.570312 -5.640625 -1.835938 -5.640625 -2.140625 C -5.640625 -2.523438 -5.5625 -2.84375 -5.40625 -3.09375 C -5.257812 -3.34375 -5.054688 -3.539062 -4.796875 -3.6875 C -4.546875 -3.84375 -4.25 -3.953125 -3.90625 -4.015625 C -3.5625 -4.085938 -3.191406 -4.125 -2.796875 -4.125 C -2.316406 -4.125 -1.894531 -4.070312 -1.53125 -3.96875 C -1.164062 -3.863281 -0.859375 -3.71875 -0.609375 -3.53125 C -0.367188 -3.351562 -0.1875 -3.140625 -0.0625 -2.890625 C 0.0507812 -2.640625 0.109375 -2.363281 0.109375 -2.0625 C 0.109375 -1.84375 0.0820312 -1.632812 0.03125 -1.4375 C -0.0195312 -1.25 -0.101562 -1.082031 -0.21875 -0.9375 C -0.332031 -0.800781 -0.472656 -0.6875 -0.640625 -0.59375 C -0.804688 -0.5 -1.003906 -0.441406 -1.234375 -0.421875 Z M -5.203125 -2.140625 C -5.191406 -1.710938 -5.054688 -1.390625 -4.796875 -1.171875 C -4.546875 -0.953125 -4.203125 -0.84375 -3.765625 -0.84375 C -3.328125 -0.84375 -2.988281 -0.953125 -2.75 -1.171875 C -2.507812 -1.398438 -2.390625 -1.722656 -2.390625 -2.140625 C -2.390625 -2.335938 -2.425781 -2.515625 -2.5 -2.671875 C -2.570312 -2.828125 -2.671875 -2.957031 -2.796875 -3.0625 C -2.929688 -3.175781 -3.082031 -3.257812 -3.25 -3.3125 C -3.414062 -3.375 -3.597656 -3.40625 -3.796875 -3.40625 C -4.210938 -3.40625 -4.546875 -3.289062 -4.796875 -3.0625 C -5.054688 -2.84375 -5.191406 -2.535156 -5.203125 -2.140625 Z \"/>\n",
       "</symbol>\n",
       "<symbol overflow=\"visible\" id=\"glyph1-16\">\n",
       "<path style=\"stroke:none;\" d=\"M 0 -1.078125 L 0 -0.59375 L -4.140625 -0.59375 L -4.140625 -1.078125 L -3.375 -1.078125 L -3.375 -1.09375 C -3.695312 -1.226562 -3.921875 -1.398438 -4.046875 -1.609375 C -4.179688 -1.816406 -4.25 -2.097656 -4.25 -2.453125 L -3.734375 -2.453125 C -3.742188 -2.179688 -3.703125 -1.957031 -3.609375 -1.78125 C -3.515625 -1.601562 -3.390625 -1.460938 -3.234375 -1.359375 C -3.085938 -1.253906 -2.90625 -1.179688 -2.6875 -1.140625 C -2.476562 -1.097656 -2.257812 -1.078125 -2.03125 -1.078125 Z \"/>\n",
       "</symbol>\n",
       "<symbol overflow=\"visible\" id=\"glyph1-17\">\n",
       "<path style=\"stroke:none;\" d=\"M -1.296875 -0.859375 C -0.941406 -0.929688 -0.6875 -1.0625 -0.53125 -1.25 C -0.382812 -1.445312 -0.3125 -1.726562 -0.3125 -2.09375 C -0.3125 -2.269531 -0.332031 -2.421875 -0.375 -2.546875 C -0.425781 -2.679688 -0.484375 -2.785156 -0.546875 -2.859375 C -0.617188 -2.941406 -0.703125 -3.003906 -0.796875 -3.046875 C -0.890625 -3.097656 -0.988281 -3.125 -1.09375 -3.125 C -1.289062 -3.125 -1.4375 -3.054688 -1.53125 -2.921875 C -1.632812 -2.796875 -1.710938 -2.632812 -1.765625 -2.4375 C -1.828125 -2.238281 -1.875 -2.023438 -1.90625 -1.796875 C -1.945312 -1.566406 -2.007812 -1.351562 -2.09375 -1.15625 C -2.175781 -0.957031 -2.289062 -0.789062 -2.4375 -0.65625 C -2.582031 -0.53125 -2.796875 -0.46875 -3.078125 -0.46875 C -3.421875 -0.46875 -3.703125 -0.59375 -3.921875 -0.84375 C -4.140625 -1.09375 -4.25 -1.453125 -4.25 -1.921875 C -4.25 -2.367188 -4.148438 -2.734375 -3.953125 -3.015625 C -3.753906 -3.296875 -3.421875 -3.460938 -2.953125 -3.515625 L -2.953125 -3.03125 C -3.273438 -2.988281 -3.5 -2.867188 -3.625 -2.671875 C -3.757812 -2.472656 -3.828125 -2.21875 -3.828125 -1.90625 C -3.828125 -1.601562 -3.757812 -1.367188 -3.625 -1.203125 C -3.5 -1.046875 -3.328125 -0.96875 -3.109375 -0.96875 C -2.921875 -0.96875 -2.773438 -1.035156 -2.671875 -1.171875 C -2.578125 -1.304688 -2.5 -1.46875 -2.4375 -1.65625 C -2.382812 -1.851562 -2.332031 -2.066406 -2.28125 -2.296875 C -2.226562 -2.523438 -2.15625 -2.738281 -2.0625 -2.9375 C -1.976562 -3.132812 -1.863281 -3.296875 -1.71875 -3.421875 C -1.570312 -3.554688 -1.363281 -3.625 -1.09375 -3.625 C -0.894531 -3.625 -0.71875 -3.582031 -0.5625 -3.5 C -0.414062 -3.414062 -0.289062 -3.296875 -0.1875 -3.140625 C -0.09375 -2.992188 -0.0195312 -2.816406 0.03125 -2.609375 C 0.0820312 -2.410156 0.109375 -2.1875 0.109375 -1.9375 C 0.109375 -1.695312 0.0703125 -1.484375 0 -1.296875 C -0.0703125 -1.109375 -0.171875 -0.945312 -0.296875 -0.8125 C -0.421875 -0.675781 -0.566406 -0.570312 -0.734375 -0.5 C -0.910156 -0.425781 -1.097656 -0.382812 -1.296875 -0.375 Z \"/>\n",
       "</symbol>\n",
       "<symbol overflow=\"visible\" id=\"glyph1-18\">\n",
       "<path style=\"stroke:none;\" d=\"M -2.09375 -3.78125 C -2.320312 -3.78125 -2.539062 -3.742188 -2.75 -3.671875 C -2.96875 -3.609375 -3.15625 -3.515625 -3.3125 -3.390625 C -3.46875 -3.273438 -3.59375 -3.128906 -3.6875 -2.953125 C -3.78125 -2.785156 -3.828125 -2.59375 -3.828125 -2.375 C -3.828125 -2.125 -3.773438 -1.90625 -3.671875 -1.71875 C -3.578125 -1.539062 -3.441406 -1.394531 -3.265625 -1.28125 C -3.097656 -1.164062 -2.898438 -1.078125 -2.671875 -1.015625 C -2.453125 -0.960938 -2.207031 -0.941406 -1.9375 -0.953125 C -1.675781 -0.953125 -1.445312 -0.988281 -1.25 -1.0625 C -1.050781 -1.132812 -0.878906 -1.234375 -0.734375 -1.359375 C -0.597656 -1.492188 -0.492188 -1.644531 -0.421875 -1.8125 C -0.347656 -1.988281 -0.3125 -2.175781 -0.3125 -2.375 C -0.3125 -2.601562 -0.359375 -2.800781 -0.453125 -2.96875 C -0.546875 -3.144531 -0.671875 -3.289062 -0.828125 -3.40625 C -0.984375 -3.53125 -1.171875 -3.625 -1.390625 -3.6875 C -1.609375 -3.75 -1.84375 -3.78125 -2.09375 -3.78125 Z M -4.140625 -3.78125 L -4.140625 -4.25 L 1.625 -4.25 L 1.625 -3.78125 L -0.65625 -3.78125 C -0.40625 -3.625 -0.210938 -3.410156 -0.078125 -3.140625 C 0.046875 -2.867188 0.109375 -2.585938 0.109375 -2.296875 C 0.109375 -1.984375 0.0507812 -1.707031 -0.0625 -1.46875 C -0.1875 -1.238281 -0.347656 -1.046875 -0.546875 -0.890625 C -0.742188 -0.742188 -0.972656 -0.632812 -1.234375 -0.5625 C -1.503906 -0.488281 -1.785156 -0.453125 -2.078125 -0.453125 C -2.378906 -0.453125 -2.664062 -0.484375 -2.9375 -0.546875 C -3.207031 -0.617188 -3.4375 -0.726562 -3.625 -0.875 C -3.820312 -1.03125 -3.972656 -1.222656 -4.078125 -1.453125 C -4.191406 -1.691406 -4.25 -1.976562 -4.25 -2.3125 C -4.25 -2.445312 -4.226562 -2.582031 -4.1875 -2.71875 C -4.15625 -2.863281 -4.101562 -3 -4.03125 -3.125 C -3.96875 -3.257812 -3.878906 -3.378906 -3.765625 -3.484375 C -3.660156 -3.597656 -3.546875 -3.691406 -3.421875 -3.765625 L -3.421875 -3.78125 Z \"/>\n",
       "</symbol>\n",
       "</g>\n",
       "</defs>\n",
       "<g id=\"surface36\">\n",
       "<rect x=\"0\" y=\"0\" width=\"504\" height=\"504\" style=\"fill:rgb(100%,100%,100%);fill-opacity:1;stroke:none;\"/>\n",
       "<path style=\"fill:none;stroke-width:0.75;stroke-linecap:round;stroke-linejoin:round;stroke:rgb(0%,0%,0%);stroke-opacity:1;stroke-miterlimit:10;\" d=\"M 58.730469 45.386719 L 111.042969 100.207031 \"/>\n",
       "<path style=\"fill:none;stroke-width:0.75;stroke-linecap:round;stroke-linejoin:round;stroke:rgb(0%,0%,0%);stroke-opacity:1;stroke-miterlimit:10;\" d=\"M 118.964844 104.660156 L 168.554688 115.5 \"/>\n",
       "<path style=\"fill:none;stroke-width:0.75;stroke-linecap:round;stroke-linejoin:round;stroke:rgb(0%,0%,0%);stroke-opacity:1;stroke-miterlimit:10;\" d=\"M 177.949219 116.519531 L 227.316406 116.542969 \"/>\n",
       "<path style=\"fill:none;stroke-width:0.75;stroke-linecap:round;stroke-linejoin:round;stroke:rgb(0%,0%,0%);stroke-opacity:1;stroke-miterlimit:10;\" d=\"M 236.820312 116.546875 L 286.1875 116.542969 \"/>\n",
       "<path style=\"fill:none;stroke-width:0.75;stroke-linecap:round;stroke-linejoin:round;stroke:rgb(0%,0%,0%);stroke-opacity:1;stroke-miterlimit:10;\" d=\"M 295.691406 116.542969 L 345.0625 116.535156 \"/>\n",
       "<path style=\"fill:none;stroke-width:0.75;stroke-linecap:round;stroke-linejoin:round;stroke:rgb(0%,0%,0%);stroke-opacity:1;stroke-miterlimit:10;\" d=\"M 354.566406 116.535156 L 403.933594 116.523438 \"/>\n",
       "<path style=\"fill:none;stroke-width:0.75;stroke-linecap:round;stroke-linejoin:round;stroke:rgb(0%,0%,0%);stroke-opacity:1;stroke-miterlimit:10;\" d=\"M 413.4375 116.519531 L 462.804688 116.507812 \"/>\n",
       "<path style=\"fill:none;stroke-width:0.75;stroke-linecap:round;stroke-linejoin:round;stroke:rgb(0%,0%,0%);stroke-opacity:1;stroke-miterlimit:10;\" d=\"M 57.234375 41.949219 C 57.234375 44.328125 53.667969 44.328125 53.667969 41.949219 C 53.667969 39.574219 57.234375 39.574219 57.234375 41.949219 \"/>\n",
       "<path style=\"fill:none;stroke-width:0.75;stroke-linecap:round;stroke-linejoin:round;stroke:rgb(0%,0%,0%);stroke-opacity:1;stroke-miterlimit:10;\" d=\"M 116.105469 103.644531 C 116.105469 106.019531 112.542969 106.019531 112.542969 103.644531 C 112.542969 101.269531 116.105469 101.269531 116.105469 103.644531 \"/>\n",
       "<path style=\"fill:none;stroke-width:0.75;stroke-linecap:round;stroke-linejoin:round;stroke:rgb(0%,0%,0%);stroke-opacity:1;stroke-miterlimit:10;\" d=\"M 174.976562 116.515625 C 174.976562 118.894531 171.414062 118.894531 171.414062 116.515625 C 171.414062 114.140625 174.976562 114.140625 174.976562 116.515625 \"/>\n",
       "<path style=\"fill:none;stroke-width:0.75;stroke-linecap:round;stroke-linejoin:round;stroke:rgb(0%,0%,0%);stroke-opacity:1;stroke-miterlimit:10;\" d=\"M 233.851562 116.546875 C 233.851562 118.921875 230.285156 118.921875 230.285156 116.546875 C 230.285156 114.167969 233.851562 114.167969 233.851562 116.546875 \"/>\n",
       "<path style=\"fill:none;stroke-width:0.75;stroke-linecap:round;stroke-linejoin:round;stroke:rgb(0%,0%,0%);stroke-opacity:1;stroke-miterlimit:10;\" d=\"M 292.722656 116.542969 C 292.722656 118.921875 289.15625 118.921875 289.15625 116.542969 C 289.15625 114.167969 292.722656 114.167969 292.722656 116.542969 \"/>\n",
       "<path style=\"fill:none;stroke-width:0.75;stroke-linecap:round;stroke-linejoin:round;stroke:rgb(0%,0%,0%);stroke-opacity:1;stroke-miterlimit:10;\" d=\"M 351.59375 116.535156 C 351.59375 118.910156 348.03125 118.910156 348.03125 116.535156 C 348.03125 114.160156 351.59375 114.160156 351.59375 116.535156 \"/>\n",
       "<path style=\"fill:none;stroke-width:0.75;stroke-linecap:round;stroke-linejoin:round;stroke:rgb(0%,0%,0%);stroke-opacity:1;stroke-miterlimit:10;\" d=\"M 410.46875 116.523438 C 410.46875 118.898438 406.902344 118.898438 406.902344 116.523438 C 406.902344 114.144531 410.46875 114.144531 410.46875 116.523438 \"/>\n",
       "<path style=\"fill:none;stroke-width:0.75;stroke-linecap:round;stroke-linejoin:round;stroke:rgb(0%,0%,0%);stroke-opacity:1;stroke-miterlimit:10;\" d=\"M 469.339844 116.507812 C 469.339844 118.882812 465.773438 118.882812 465.773438 116.507812 C 465.773438 114.128906 469.339844 114.128906 469.339844 116.507812 \"/>\n",
       "<path style=\"fill:none;stroke-width:0.75;stroke-linecap:round;stroke-linejoin:round;stroke:rgb(0%,0%,0%);stroke-opacity:1;stroke-miterlimit:10;\" d=\"M 55.449219 119.53125 L 467.558594 119.53125 \"/>\n",
       "<path style=\"fill:none;stroke-width:0.75;stroke-linecap:round;stroke-linejoin:round;stroke:rgb(0%,0%,0%);stroke-opacity:1;stroke-miterlimit:10;\" d=\"M 55.449219 119.53125 L 55.449219 124.28125 \"/>\n",
       "<path style=\"fill:none;stroke-width:0.75;stroke-linecap:round;stroke-linejoin:round;stroke:rgb(0%,0%,0%);stroke-opacity:1;stroke-miterlimit:10;\" d=\"M 114.324219 119.53125 L 114.324219 124.28125 \"/>\n",
       "<path style=\"fill:none;stroke-width:0.75;stroke-linecap:round;stroke-linejoin:round;stroke:rgb(0%,0%,0%);stroke-opacity:1;stroke-miterlimit:10;\" d=\"M 173.195312 119.53125 L 173.195312 124.28125 \"/>\n",
       "<path style=\"fill:none;stroke-width:0.75;stroke-linecap:round;stroke-linejoin:round;stroke:rgb(0%,0%,0%);stroke-opacity:1;stroke-miterlimit:10;\" d=\"M 232.066406 119.53125 L 232.066406 124.28125 \"/>\n",
       "<path style=\"fill:none;stroke-width:0.75;stroke-linecap:round;stroke-linejoin:round;stroke:rgb(0%,0%,0%);stroke-opacity:1;stroke-miterlimit:10;\" d=\"M 290.941406 119.53125 L 290.941406 124.28125 \"/>\n",
       "<path style=\"fill:none;stroke-width:0.75;stroke-linecap:round;stroke-linejoin:round;stroke:rgb(0%,0%,0%);stroke-opacity:1;stroke-miterlimit:10;\" d=\"M 349.8125 119.53125 L 349.8125 124.28125 \"/>\n",
       "<path style=\"fill:none;stroke-width:0.75;stroke-linecap:round;stroke-linejoin:round;stroke:rgb(0%,0%,0%);stroke-opacity:1;stroke-miterlimit:10;\" d=\"M 408.683594 119.53125 L 408.683594 124.28125 \"/>\n",
       "<path style=\"fill:none;stroke-width:0.75;stroke-linecap:round;stroke-linejoin:round;stroke:rgb(0%,0%,0%);stroke-opacity:1;stroke-miterlimit:10;\" d=\"M 467.558594 119.53125 L 467.558594 124.28125 \"/>\n",
       "<g style=\"fill:rgb(0%,0%,0%);fill-opacity:1;\">\n",
       "  <use xlink:href=\"#glyph0-1\" x=\"53.226562\" y=\"136.636719\"/>\n",
       "</g>\n",
       "<g style=\"fill:rgb(0%,0%,0%);fill-opacity:1;\">\n",
       "  <use xlink:href=\"#glyph0-2\" x=\"112.101562\" y=\"136.636719\"/>\n",
       "</g>\n",
       "<g style=\"fill:rgb(0%,0%,0%);fill-opacity:1;\">\n",
       "  <use xlink:href=\"#glyph0-3\" x=\"170.972656\" y=\"136.636719\"/>\n",
       "</g>\n",
       "<g style=\"fill:rgb(0%,0%,0%);fill-opacity:1;\">\n",
       "  <use xlink:href=\"#glyph0-4\" x=\"229.84375\" y=\"136.636719\"/>\n",
       "</g>\n",
       "<g style=\"fill:rgb(0%,0%,0%);fill-opacity:1;\">\n",
       "  <use xlink:href=\"#glyph0-5\" x=\"288.71875\" y=\"136.636719\"/>\n",
       "</g>\n",
       "<g style=\"fill:rgb(0%,0%,0%);fill-opacity:1;\">\n",
       "  <use xlink:href=\"#glyph0-6\" x=\"347.589844\" y=\"136.636719\"/>\n",
       "</g>\n",
       "<g style=\"fill:rgb(0%,0%,0%);fill-opacity:1;\">\n",
       "  <use xlink:href=\"#glyph0-7\" x=\"406.460938\" y=\"136.636719\"/>\n",
       "</g>\n",
       "<g style=\"fill:rgb(0%,0%,0%);fill-opacity:1;\">\n",
       "  <use xlink:href=\"#glyph0-8\" x=\"465.335938\" y=\"136.636719\"/>\n",
       "</g>\n",
       "<path style=\"fill:none;stroke-width:0.75;stroke-linecap:round;stroke-linejoin:round;stroke:rgb(0%,0%,0%);stroke-opacity:1;stroke-miterlimit:10;\" d=\"M 38.964844 116.5625 L 38.964844 54.433594 \"/>\n",
       "<path style=\"fill:none;stroke-width:0.75;stroke-linecap:round;stroke-linejoin:round;stroke:rgb(0%,0%,0%);stroke-opacity:1;stroke-miterlimit:10;\" d=\"M 38.964844 116.5625 L 34.214844 116.5625 \"/>\n",
       "<path style=\"fill:none;stroke-width:0.75;stroke-linecap:round;stroke-linejoin:round;stroke:rgb(0%,0%,0%);stroke-opacity:1;stroke-miterlimit:10;\" d=\"M 38.964844 101.027344 L 34.214844 101.027344 \"/>\n",
       "<path style=\"fill:none;stroke-width:0.75;stroke-linecap:round;stroke-linejoin:round;stroke:rgb(0%,0%,0%);stroke-opacity:1;stroke-miterlimit:10;\" d=\"M 38.964844 85.496094 L 34.214844 85.496094 \"/>\n",
       "<path style=\"fill:none;stroke-width:0.75;stroke-linecap:round;stroke-linejoin:round;stroke:rgb(0%,0%,0%);stroke-opacity:1;stroke-miterlimit:10;\" d=\"M 38.964844 69.964844 L 34.214844 69.964844 \"/>\n",
       "<path style=\"fill:none;stroke-width:0.75;stroke-linecap:round;stroke-linejoin:round;stroke:rgb(0%,0%,0%);stroke-opacity:1;stroke-miterlimit:10;\" d=\"M 38.964844 54.433594 L 34.214844 54.433594 \"/>\n",
       "<g style=\"fill:rgb(0%,0%,0%);fill-opacity:1;\">\n",
       "  <use xlink:href=\"#glyph1-1\" x=\"27.5625\" y=\"118.785156\"/>\n",
       "</g>\n",
       "<g style=\"fill:rgb(0%,0%,0%);fill-opacity:1;\">\n",
       "  <use xlink:href=\"#glyph1-2\" x=\"27.5625\" y=\"94.390625\"/>\n",
       "  <use xlink:href=\"#glyph1-1\" x=\"27.5625\" y=\"89.942688\"/>\n",
       "  <use xlink:href=\"#glyph1-1\" x=\"27.5625\" y=\"85.494751\"/>\n",
       "  <use xlink:href=\"#glyph1-1\" x=\"27.5625\" y=\"81.046814\"/>\n",
       "</g>\n",
       "<g style=\"fill:rgb(0%,0%,0%);fill-opacity:1;\">\n",
       "  <use xlink:href=\"#glyph1-3\" x=\"27.5625\" y=\"63.328125\"/>\n",
       "  <use xlink:href=\"#glyph1-1\" x=\"27.5625\" y=\"58.880188\"/>\n",
       "  <use xlink:href=\"#glyph1-1\" x=\"27.5625\" y=\"54.432251\"/>\n",
       "  <use xlink:href=\"#glyph1-1\" x=\"27.5625\" y=\"49.984314\"/>\n",
       "</g>\n",
       "<path style=\"fill:none;stroke-width:0.75;stroke-linecap:round;stroke-linejoin:round;stroke:rgb(0%,0%,0%);stroke-opacity:1;stroke-miterlimit:10;\" d=\"M 38.964844 119.53125 L 484.042969 119.53125 L 484.042969 38.964844 L 38.964844 38.964844 L 38.964844 119.53125 \"/>\n",
       "<g style=\"fill:rgb(0%,0%,0%);fill-opacity:1;\">\n",
       "  <use xlink:href=\"#glyph0-9\" x=\"223.714844\" y=\"155.644531\"/>\n",
       "  <use xlink:href=\"#glyph0-10\" x=\"228.602783\" y=\"155.644531\"/>\n",
       "  <use xlink:href=\"#glyph0-11\" x=\"233.05072\" y=\"155.644531\"/>\n",
       "  <use xlink:href=\"#glyph0-12\" x=\"237.93866\" y=\"155.644531\"/>\n",
       "  <use xlink:href=\"#glyph0-10\" x=\"240.602631\" y=\"155.644531\"/>\n",
       "  <use xlink:href=\"#glyph0-10\" x=\"245.050568\" y=\"155.644531\"/>\n",
       "  <use xlink:href=\"#glyph0-13\" x=\"249.498505\" y=\"155.644531\"/>\n",
       "  <use xlink:href=\"#glyph0-14\" x=\"251.722473\" y=\"155.644531\"/>\n",
       "  <use xlink:href=\"#glyph0-15\" x=\"256.17041\" y=\"155.644531\"/>\n",
       "  <use xlink:href=\"#glyph0-13\" x=\"258.394379\" y=\"155.644531\"/>\n",
       "  <use xlink:href=\"#glyph0-16\" x=\"260.618347\" y=\"155.644531\"/>\n",
       "  <use xlink:href=\"#glyph0-14\" x=\"265.506287\" y=\"155.644531\"/>\n",
       "  <use xlink:href=\"#glyph0-17\" x=\"269.954224\" y=\"155.644531\"/>\n",
       "  <use xlink:href=\"#glyph0-18\" x=\"271.730194\" y=\"155.644531\"/>\n",
       "  <use xlink:href=\"#glyph0-19\" x=\"275.730148\" y=\"155.644531\"/>\n",
       "  <use xlink:href=\"#glyph0-14\" x=\"280.178085\" y=\"155.644531\"/>\n",
       "  <use xlink:href=\"#glyph0-20\" x=\"284.626022\" y=\"155.644531\"/>\n",
       "  <use xlink:href=\"#glyph0-21\" x=\"291.289932\" y=\"155.644531\"/>\n",
       "  <use xlink:href=\"#glyph0-22\" x=\"293.065903\" y=\"155.644531\"/>\n",
       "  <use xlink:href=\"#glyph0-17\" x=\"297.51384\" y=\"155.644531\"/>\n",
       "</g>\n",
       "<g style=\"fill:rgb(0%,0%,0%);fill-opacity:1;\">\n",
       "  <use xlink:href=\"#glyph1-4\" x=\"8.554688\" y=\"84.578125\"/>\n",
       "  <use xlink:href=\"#glyph1-5\" x=\"8.554688\" y=\"78.8022\"/>\n",
       "</g>\n",
       "<path style=\"fill:none;stroke-width:0.75;stroke-linecap:round;stroke-linejoin:round;stroke:rgb(0%,0%,0%);stroke-opacity:1;stroke-miterlimit:10;\" d=\"M 59.757812 211.957031 L 110.015625 235.375 \"/>\n",
       "<path style=\"fill:none;stroke-width:0.75;stroke-linecap:round;stroke-linejoin:round;stroke:rgb(0%,0%,0%);stroke-opacity:1;stroke-miterlimit:10;\" d=\"M 118.039062 240.347656 L 169.480469 281.34375 \"/>\n",
       "<path style=\"fill:none;stroke-width:0.75;stroke-linecap:round;stroke-linejoin:round;stroke:rgb(0%,0%,0%);stroke-opacity:1;stroke-miterlimit:10;\" d=\"M 177.949219 284.324219 L 227.316406 284.527344 \"/>\n",
       "<path style=\"fill:none;stroke-width:0.75;stroke-linecap:round;stroke-linejoin:round;stroke:rgb(0%,0%,0%);stroke-opacity:1;stroke-miterlimit:10;\" d=\"M 236.820312 284.511719 L 286.1875 284.152344 \"/>\n",
       "<path style=\"fill:none;stroke-width:0.75;stroke-linecap:round;stroke-linejoin:round;stroke:rgb(0%,0%,0%);stroke-opacity:1;stroke-miterlimit:10;\" d=\"M 295.691406 284.066406 L 345.0625 283.554688 \"/>\n",
       "<path style=\"fill:none;stroke-width:0.75;stroke-linecap:round;stroke-linejoin:round;stroke:rgb(0%,0%,0%);stroke-opacity:1;stroke-miterlimit:10;\" d=\"M 354.5625 283.449219 L 403.933594 282.847656 \"/>\n",
       "<path style=\"fill:none;stroke-width:0.75;stroke-linecap:round;stroke-linejoin:round;stroke:rgb(0%,0%,0%);stroke-opacity:1;stroke-miterlimit:10;\" d=\"M 413.4375 282.730469 L 462.804688 282.097656 \"/>\n",
       "<path style=\"fill:none;stroke-width:0.75;stroke-linecap:round;stroke-linejoin:round;stroke:rgb(0%,0%,0%);stroke-opacity:1;stroke-miterlimit:10;\" d=\"M 57.234375 209.949219 C 57.234375 212.328125 53.667969 212.328125 53.667969 209.949219 C 53.667969 207.574219 57.234375 207.574219 57.234375 209.949219 \"/>\n",
       "<path style=\"fill:none;stroke-width:0.75;stroke-linecap:round;stroke-linejoin:round;stroke:rgb(0%,0%,0%);stroke-opacity:1;stroke-miterlimit:10;\" d=\"M 116.105469 237.382812 C 116.105469 239.761719 112.542969 239.761719 112.542969 237.382812 C 112.542969 235.007812 116.105469 235.007812 116.105469 237.382812 \"/>\n",
       "<path style=\"fill:none;stroke-width:0.75;stroke-linecap:round;stroke-linejoin:round;stroke:rgb(0%,0%,0%);stroke-opacity:1;stroke-miterlimit:10;\" d=\"M 174.976562 284.304688 C 174.976562 286.683594 171.414062 286.683594 171.414062 284.304688 C 171.414062 281.929688 174.976562 281.929688 174.976562 284.304688 \"/>\n",
       "<path style=\"fill:none;stroke-width:0.75;stroke-linecap:round;stroke-linejoin:round;stroke:rgb(0%,0%,0%);stroke-opacity:1;stroke-miterlimit:10;\" d=\"M 233.851562 284.546875 C 233.851562 286.921875 230.285156 286.921875 230.285156 284.546875 C 230.285156 282.167969 233.851562 282.167969 233.851562 284.546875 \"/>\n",
       "<path style=\"fill:none;stroke-width:0.75;stroke-linecap:round;stroke-linejoin:round;stroke:rgb(0%,0%,0%);stroke-opacity:1;stroke-miterlimit:10;\" d=\"M 292.722656 284.117188 C 292.722656 286.492188 289.15625 286.492188 289.15625 284.117188 C 289.15625 281.738281 292.722656 281.738281 292.722656 284.117188 \"/>\n",
       "<path style=\"fill:none;stroke-width:0.75;stroke-linecap:round;stroke-linejoin:round;stroke:rgb(0%,0%,0%);stroke-opacity:1;stroke-miterlimit:10;\" d=\"M 351.59375 283.507812 C 351.59375 285.882812 348.03125 285.882812 348.03125 283.507812 C 348.03125 281.132812 351.59375 281.132812 351.59375 283.507812 \"/>\n",
       "<path style=\"fill:none;stroke-width:0.75;stroke-linecap:round;stroke-linejoin:round;stroke:rgb(0%,0%,0%);stroke-opacity:1;stroke-miterlimit:10;\" d=\"M 410.46875 282.789062 C 410.46875 285.167969 406.902344 285.167969 406.902344 282.789062 C 406.902344 280.414062 410.46875 280.414062 410.46875 282.789062 \"/>\n",
       "<path style=\"fill:none;stroke-width:0.75;stroke-linecap:round;stroke-linejoin:round;stroke:rgb(0%,0%,0%);stroke-opacity:1;stroke-miterlimit:10;\" d=\"M 469.339844 282.035156 C 469.339844 284.410156 465.773438 284.410156 465.773438 282.035156 C 465.773438 279.660156 469.339844 279.660156 469.339844 282.035156 \"/>\n",
       "<path style=\"fill:none;stroke-width:0.75;stroke-linecap:round;stroke-linejoin:round;stroke:rgb(0%,0%,0%);stroke-opacity:1;stroke-miterlimit:10;\" d=\"M 55.449219 287.53125 L 467.558594 287.53125 \"/>\n",
       "<path style=\"fill:none;stroke-width:0.75;stroke-linecap:round;stroke-linejoin:round;stroke:rgb(0%,0%,0%);stroke-opacity:1;stroke-miterlimit:10;\" d=\"M 55.449219 287.53125 L 55.449219 292.28125 \"/>\n",
       "<path style=\"fill:none;stroke-width:0.75;stroke-linecap:round;stroke-linejoin:round;stroke:rgb(0%,0%,0%);stroke-opacity:1;stroke-miterlimit:10;\" d=\"M 114.324219 287.53125 L 114.324219 292.28125 \"/>\n",
       "<path style=\"fill:none;stroke-width:0.75;stroke-linecap:round;stroke-linejoin:round;stroke:rgb(0%,0%,0%);stroke-opacity:1;stroke-miterlimit:10;\" d=\"M 173.195312 287.53125 L 173.195312 292.28125 \"/>\n",
       "<path style=\"fill:none;stroke-width:0.75;stroke-linecap:round;stroke-linejoin:round;stroke:rgb(0%,0%,0%);stroke-opacity:1;stroke-miterlimit:10;\" d=\"M 232.066406 287.53125 L 232.066406 292.28125 \"/>\n",
       "<path style=\"fill:none;stroke-width:0.75;stroke-linecap:round;stroke-linejoin:round;stroke:rgb(0%,0%,0%);stroke-opacity:1;stroke-miterlimit:10;\" d=\"M 290.941406 287.53125 L 290.941406 292.28125 \"/>\n",
       "<path style=\"fill:none;stroke-width:0.75;stroke-linecap:round;stroke-linejoin:round;stroke:rgb(0%,0%,0%);stroke-opacity:1;stroke-miterlimit:10;\" d=\"M 349.8125 287.53125 L 349.8125 292.28125 \"/>\n",
       "<path style=\"fill:none;stroke-width:0.75;stroke-linecap:round;stroke-linejoin:round;stroke:rgb(0%,0%,0%);stroke-opacity:1;stroke-miterlimit:10;\" d=\"M 408.683594 287.53125 L 408.683594 292.28125 \"/>\n",
       "<path style=\"fill:none;stroke-width:0.75;stroke-linecap:round;stroke-linejoin:round;stroke:rgb(0%,0%,0%);stroke-opacity:1;stroke-miterlimit:10;\" d=\"M 467.558594 287.53125 L 467.558594 292.28125 \"/>\n",
       "<g style=\"fill:rgb(0%,0%,0%);fill-opacity:1;\">\n",
       "  <use xlink:href=\"#glyph0-1\" x=\"53.226562\" y=\"304.636719\"/>\n",
       "</g>\n",
       "<g style=\"fill:rgb(0%,0%,0%);fill-opacity:1;\">\n",
       "  <use xlink:href=\"#glyph0-2\" x=\"112.101562\" y=\"304.636719\"/>\n",
       "</g>\n",
       "<g style=\"fill:rgb(0%,0%,0%);fill-opacity:1;\">\n",
       "  <use xlink:href=\"#glyph0-3\" x=\"170.972656\" y=\"304.636719\"/>\n",
       "</g>\n",
       "<g style=\"fill:rgb(0%,0%,0%);fill-opacity:1;\">\n",
       "  <use xlink:href=\"#glyph0-4\" x=\"229.84375\" y=\"304.636719\"/>\n",
       "</g>\n",
       "<g style=\"fill:rgb(0%,0%,0%);fill-opacity:1;\">\n",
       "  <use xlink:href=\"#glyph0-5\" x=\"288.71875\" y=\"304.636719\"/>\n",
       "</g>\n",
       "<g style=\"fill:rgb(0%,0%,0%);fill-opacity:1;\">\n",
       "  <use xlink:href=\"#glyph0-6\" x=\"347.589844\" y=\"304.636719\"/>\n",
       "</g>\n",
       "<g style=\"fill:rgb(0%,0%,0%);fill-opacity:1;\">\n",
       "  <use xlink:href=\"#glyph0-7\" x=\"406.460938\" y=\"304.636719\"/>\n",
       "</g>\n",
       "<g style=\"fill:rgb(0%,0%,0%);fill-opacity:1;\">\n",
       "  <use xlink:href=\"#glyph0-8\" x=\"465.335938\" y=\"304.636719\"/>\n",
       "</g>\n",
       "<path style=\"fill:none;stroke-width:0.75;stroke-linecap:round;stroke-linejoin:round;stroke:rgb(0%,0%,0%);stroke-opacity:1;stroke-miterlimit:10;\" d=\"M 38.964844 273.148438 L 38.964844 207.152344 \"/>\n",
       "<path style=\"fill:none;stroke-width:0.75;stroke-linecap:round;stroke-linejoin:round;stroke:rgb(0%,0%,0%);stroke-opacity:1;stroke-miterlimit:10;\" d=\"M 38.964844 273.148438 L 34.214844 273.148438 \"/>\n",
       "<path style=\"fill:none;stroke-width:0.75;stroke-linecap:round;stroke-linejoin:round;stroke:rgb(0%,0%,0%);stroke-opacity:1;stroke-miterlimit:10;\" d=\"M 38.964844 256.648438 L 34.214844 256.648438 \"/>\n",
       "<path style=\"fill:none;stroke-width:0.75;stroke-linecap:round;stroke-linejoin:round;stroke:rgb(0%,0%,0%);stroke-opacity:1;stroke-miterlimit:10;\" d=\"M 38.964844 240.152344 L 34.214844 240.152344 \"/>\n",
       "<path style=\"fill:none;stroke-width:0.75;stroke-linecap:round;stroke-linejoin:round;stroke:rgb(0%,0%,0%);stroke-opacity:1;stroke-miterlimit:10;\" d=\"M 38.964844 223.652344 L 34.214844 223.652344 \"/>\n",
       "<path style=\"fill:none;stroke-width:0.75;stroke-linecap:round;stroke-linejoin:round;stroke:rgb(0%,0%,0%);stroke-opacity:1;stroke-miterlimit:10;\" d=\"M 38.964844 207.152344 L 34.214844 207.152344 \"/>\n",
       "<g style=\"fill:rgb(0%,0%,0%);fill-opacity:1;\">\n",
       "  <use xlink:href=\"#glyph1-6\" x=\"27.5625\" y=\"281.152344\"/>\n",
       "  <use xlink:href=\"#glyph1-7\" x=\"27.5625\" y=\"278.488373\"/>\n",
       "  <use xlink:href=\"#glyph1-1\" x=\"27.5625\" y=\"274.040436\"/>\n",
       "  <use xlink:href=\"#glyph1-1\" x=\"27.5625\" y=\"269.592499\"/>\n",
       "</g>\n",
       "<g style=\"fill:rgb(0%,0%,0%);fill-opacity:1;\">\n",
       "  <use xlink:href=\"#glyph1-6\" x=\"27.5625\" y=\"248.15625\"/>\n",
       "  <use xlink:href=\"#glyph1-8\" x=\"27.5625\" y=\"245.492279\"/>\n",
       "  <use xlink:href=\"#glyph1-1\" x=\"27.5625\" y=\"241.044342\"/>\n",
       "  <use xlink:href=\"#glyph1-1\" x=\"27.5625\" y=\"236.596405\"/>\n",
       "</g>\n",
       "<g style=\"fill:rgb(0%,0%,0%);fill-opacity:1;\">\n",
       "  <use xlink:href=\"#glyph1-6\" x=\"27.5625\" y=\"215.15625\"/>\n",
       "  <use xlink:href=\"#glyph1-9\" x=\"27.5625\" y=\"212.492279\"/>\n",
       "  <use xlink:href=\"#glyph1-1\" x=\"27.5625\" y=\"208.044342\"/>\n",
       "  <use xlink:href=\"#glyph1-1\" x=\"27.5625\" y=\"203.596405\"/>\n",
       "</g>\n",
       "<path style=\"fill:none;stroke-width:0.75;stroke-linecap:round;stroke-linejoin:round;stroke:rgb(0%,0%,0%);stroke-opacity:1;stroke-miterlimit:10;\" d=\"M 38.964844 287.53125 L 484.042969 287.53125 L 484.042969 206.964844 L 38.964844 206.964844 L 38.964844 287.53125 \"/>\n",
       "<g style=\"fill:rgb(0%,0%,0%);fill-opacity:1;\">\n",
       "  <use xlink:href=\"#glyph0-9\" x=\"223.714844\" y=\"323.644531\"/>\n",
       "  <use xlink:href=\"#glyph0-10\" x=\"228.602783\" y=\"323.644531\"/>\n",
       "  <use xlink:href=\"#glyph0-11\" x=\"233.05072\" y=\"323.644531\"/>\n",
       "  <use xlink:href=\"#glyph0-12\" x=\"237.93866\" y=\"323.644531\"/>\n",
       "  <use xlink:href=\"#glyph0-10\" x=\"240.602631\" y=\"323.644531\"/>\n",
       "  <use xlink:href=\"#glyph0-10\" x=\"245.050568\" y=\"323.644531\"/>\n",
       "  <use xlink:href=\"#glyph0-13\" x=\"249.498505\" y=\"323.644531\"/>\n",
       "  <use xlink:href=\"#glyph0-14\" x=\"251.722473\" y=\"323.644531\"/>\n",
       "  <use xlink:href=\"#glyph0-15\" x=\"256.17041\" y=\"323.644531\"/>\n",
       "  <use xlink:href=\"#glyph0-13\" x=\"258.394379\" y=\"323.644531\"/>\n",
       "  <use xlink:href=\"#glyph0-16\" x=\"260.618347\" y=\"323.644531\"/>\n",
       "  <use xlink:href=\"#glyph0-14\" x=\"265.506287\" y=\"323.644531\"/>\n",
       "  <use xlink:href=\"#glyph0-17\" x=\"269.954224\" y=\"323.644531\"/>\n",
       "  <use xlink:href=\"#glyph0-18\" x=\"271.730194\" y=\"323.644531\"/>\n",
       "  <use xlink:href=\"#glyph0-19\" x=\"275.730148\" y=\"323.644531\"/>\n",
       "  <use xlink:href=\"#glyph0-14\" x=\"280.178085\" y=\"323.644531\"/>\n",
       "  <use xlink:href=\"#glyph0-20\" x=\"284.626022\" y=\"323.644531\"/>\n",
       "  <use xlink:href=\"#glyph0-21\" x=\"291.289932\" y=\"323.644531\"/>\n",
       "  <use xlink:href=\"#glyph0-22\" x=\"293.065903\" y=\"323.644531\"/>\n",
       "  <use xlink:href=\"#glyph0-17\" x=\"297.51384\" y=\"323.644531\"/>\n",
       "</g>\n",
       "<g style=\"fill:rgb(0%,0%,0%);fill-opacity:1;\">\n",
       "  <use xlink:href=\"#glyph1-10\" x=\"8.554688\" y=\"252.800781\"/>\n",
       "  <use xlink:href=\"#glyph1-11\" x=\"8.554688\" y=\"247.912842\"/>\n",
       "  <use xlink:href=\"#glyph1-12\" x=\"8.554688\" y=\"246.136871\"/>\n",
       "</g>\n",
       "<path style=\"fill:none;stroke-width:0.75;stroke-linecap:round;stroke-linejoin:round;stroke:rgb(0%,0%,0%);stroke-opacity:1;stroke-miterlimit:10;\" d=\"M 58.734375 449.109375 L 111.042969 394.328125 \"/>\n",
       "<path style=\"fill:none;stroke-width:0.75;stroke-linecap:round;stroke-linejoin:round;stroke:rgb(0%,0%,0%);stroke-opacity:1;stroke-miterlimit:10;\" d=\"M 118.964844 389.878906 L 168.554688 379.03125 \"/>\n",
       "<path style=\"fill:none;stroke-width:0.75;stroke-linecap:round;stroke-linejoin:round;stroke:rgb(0%,0%,0%);stroke-opacity:1;stroke-miterlimit:10;\" d=\"M 177.949219 378.011719 L 227.316406 377.976562 \"/>\n",
       "<path style=\"fill:none;stroke-width:0.75;stroke-linecap:round;stroke-linejoin:round;stroke:rgb(0%,0%,0%);stroke-opacity:1;stroke-miterlimit:10;\" d=\"M 236.820312 377.972656 L 286.1875 377.960938 \"/>\n",
       "<path style=\"fill:none;stroke-width:0.75;stroke-linecap:round;stroke-linejoin:round;stroke:rgb(0%,0%,0%);stroke-opacity:1;stroke-miterlimit:10;\" d=\"M 295.691406 377.957031 L 345.0625 377.953125 \"/>\n",
       "<path style=\"fill:none;stroke-width:0.75;stroke-linecap:round;stroke-linejoin:round;stroke:rgb(0%,0%,0%);stroke-opacity:1;stroke-miterlimit:10;\" d=\"M 354.566406 377.953125 L 403.933594 377.949219 \"/>\n",
       "<path style=\"fill:none;stroke-width:0.75;stroke-linecap:round;stroke-linejoin:round;stroke:rgb(0%,0%,0%);stroke-opacity:1;stroke-miterlimit:10;\" d=\"M 413.4375 377.949219 L 462.804688 377.949219 \"/>\n",
       "<path style=\"fill:none;stroke-width:0.75;stroke-linecap:round;stroke-linejoin:round;stroke:rgb(0%,0%,0%);stroke-opacity:1;stroke-miterlimit:10;\" d=\"M 57.234375 452.546875 C 57.234375 454.921875 53.667969 454.921875 53.667969 452.546875 C 53.667969 450.167969 57.234375 450.167969 57.234375 452.546875 \"/>\n",
       "<path style=\"fill:none;stroke-width:0.75;stroke-linecap:round;stroke-linejoin:round;stroke:rgb(0%,0%,0%);stroke-opacity:1;stroke-miterlimit:10;\" d=\"M 116.105469 390.894531 C 116.105469 393.269531 112.542969 393.269531 112.542969 390.894531 C 112.542969 388.515625 116.105469 388.515625 116.105469 390.894531 \"/>\n",
       "<path style=\"fill:none;stroke-width:0.75;stroke-linecap:round;stroke-linejoin:round;stroke:rgb(0%,0%,0%);stroke-opacity:1;stroke-miterlimit:10;\" d=\"M 174.976562 378.015625 C 174.976562 380.394531 171.414062 380.394531 171.414062 378.015625 C 171.414062 375.640625 174.976562 375.640625 174.976562 378.015625 \"/>\n",
       "<path style=\"fill:none;stroke-width:0.75;stroke-linecap:round;stroke-linejoin:round;stroke:rgb(0%,0%,0%);stroke-opacity:1;stroke-miterlimit:10;\" d=\"M 233.851562 377.972656 C 233.851562 380.347656 230.285156 380.347656 230.285156 377.972656 C 230.285156 375.597656 233.851562 375.597656 233.851562 377.972656 \"/>\n",
       "<path style=\"fill:none;stroke-width:0.75;stroke-linecap:round;stroke-linejoin:round;stroke:rgb(0%,0%,0%);stroke-opacity:1;stroke-miterlimit:10;\" d=\"M 292.722656 377.957031 C 292.722656 380.335938 289.15625 380.335938 289.15625 377.957031 C 289.15625 375.582031 292.722656 375.582031 292.722656 377.957031 \"/>\n",
       "<path style=\"fill:none;stroke-width:0.75;stroke-linecap:round;stroke-linejoin:round;stroke:rgb(0%,0%,0%);stroke-opacity:1;stroke-miterlimit:10;\" d=\"M 351.59375 377.953125 C 351.59375 380.328125 348.03125 380.328125 348.03125 377.953125 C 348.03125 375.578125 351.59375 375.578125 351.59375 377.953125 \"/>\n",
       "<path style=\"fill:none;stroke-width:0.75;stroke-linecap:round;stroke-linejoin:round;stroke:rgb(0%,0%,0%);stroke-opacity:1;stroke-miterlimit:10;\" d=\"M 410.46875 377.949219 C 410.46875 380.328125 406.902344 380.328125 406.902344 377.949219 C 406.902344 375.574219 410.46875 375.574219 410.46875 377.949219 \"/>\n",
       "<path style=\"fill:none;stroke-width:0.75;stroke-linecap:round;stroke-linejoin:round;stroke:rgb(0%,0%,0%);stroke-opacity:1;stroke-miterlimit:10;\" d=\"M 469.339844 377.949219 C 469.339844 380.328125 465.773438 380.328125 465.773438 377.949219 C 465.773438 375.574219 469.339844 375.574219 469.339844 377.949219 \"/>\n",
       "<path style=\"fill:none;stroke-width:0.75;stroke-linecap:round;stroke-linejoin:round;stroke:rgb(0%,0%,0%);stroke-opacity:1;stroke-miterlimit:10;\" d=\"M 55.449219 455.53125 L 467.558594 455.53125 \"/>\n",
       "<path style=\"fill:none;stroke-width:0.75;stroke-linecap:round;stroke-linejoin:round;stroke:rgb(0%,0%,0%);stroke-opacity:1;stroke-miterlimit:10;\" d=\"M 55.449219 455.53125 L 55.449219 460.28125 \"/>\n",
       "<path style=\"fill:none;stroke-width:0.75;stroke-linecap:round;stroke-linejoin:round;stroke:rgb(0%,0%,0%);stroke-opacity:1;stroke-miterlimit:10;\" d=\"M 114.324219 455.53125 L 114.324219 460.28125 \"/>\n",
       "<path style=\"fill:none;stroke-width:0.75;stroke-linecap:round;stroke-linejoin:round;stroke:rgb(0%,0%,0%);stroke-opacity:1;stroke-miterlimit:10;\" d=\"M 173.195312 455.53125 L 173.195312 460.28125 \"/>\n",
       "<path style=\"fill:none;stroke-width:0.75;stroke-linecap:round;stroke-linejoin:round;stroke:rgb(0%,0%,0%);stroke-opacity:1;stroke-miterlimit:10;\" d=\"M 232.066406 455.53125 L 232.066406 460.28125 \"/>\n",
       "<path style=\"fill:none;stroke-width:0.75;stroke-linecap:round;stroke-linejoin:round;stroke:rgb(0%,0%,0%);stroke-opacity:1;stroke-miterlimit:10;\" d=\"M 290.941406 455.53125 L 290.941406 460.28125 \"/>\n",
       "<path style=\"fill:none;stroke-width:0.75;stroke-linecap:round;stroke-linejoin:round;stroke:rgb(0%,0%,0%);stroke-opacity:1;stroke-miterlimit:10;\" d=\"M 349.8125 455.53125 L 349.8125 460.28125 \"/>\n",
       "<path style=\"fill:none;stroke-width:0.75;stroke-linecap:round;stroke-linejoin:round;stroke:rgb(0%,0%,0%);stroke-opacity:1;stroke-miterlimit:10;\" d=\"M 408.683594 455.53125 L 408.683594 460.28125 \"/>\n",
       "<path style=\"fill:none;stroke-width:0.75;stroke-linecap:round;stroke-linejoin:round;stroke:rgb(0%,0%,0%);stroke-opacity:1;stroke-miterlimit:10;\" d=\"M 467.558594 455.53125 L 467.558594 460.28125 \"/>\n",
       "<g style=\"fill:rgb(0%,0%,0%);fill-opacity:1;\">\n",
       "  <use xlink:href=\"#glyph0-1\" x=\"53.226562\" y=\"472.636719\"/>\n",
       "</g>\n",
       "<g style=\"fill:rgb(0%,0%,0%);fill-opacity:1;\">\n",
       "  <use xlink:href=\"#glyph0-2\" x=\"112.101562\" y=\"472.636719\"/>\n",
       "</g>\n",
       "<g style=\"fill:rgb(0%,0%,0%);fill-opacity:1;\">\n",
       "  <use xlink:href=\"#glyph0-3\" x=\"170.972656\" y=\"472.636719\"/>\n",
       "</g>\n",
       "<g style=\"fill:rgb(0%,0%,0%);fill-opacity:1;\">\n",
       "  <use xlink:href=\"#glyph0-4\" x=\"229.84375\" y=\"472.636719\"/>\n",
       "</g>\n",
       "<g style=\"fill:rgb(0%,0%,0%);fill-opacity:1;\">\n",
       "  <use xlink:href=\"#glyph0-5\" x=\"288.71875\" y=\"472.636719\"/>\n",
       "</g>\n",
       "<g style=\"fill:rgb(0%,0%,0%);fill-opacity:1;\">\n",
       "  <use xlink:href=\"#glyph0-6\" x=\"347.589844\" y=\"472.636719\"/>\n",
       "</g>\n",
       "<g style=\"fill:rgb(0%,0%,0%);fill-opacity:1;\">\n",
       "  <use xlink:href=\"#glyph0-7\" x=\"406.460938\" y=\"472.636719\"/>\n",
       "</g>\n",
       "<g style=\"fill:rgb(0%,0%,0%);fill-opacity:1;\">\n",
       "  <use xlink:href=\"#glyph0-8\" x=\"465.335938\" y=\"472.636719\"/>\n",
       "</g>\n",
       "<path style=\"fill:none;stroke-width:0.75;stroke-linecap:round;stroke-linejoin:round;stroke:rgb(0%,0%,0%);stroke-opacity:1;stroke-miterlimit:10;\" d=\"M 38.964844 443.726562 L 38.964844 377.257812 \"/>\n",
       "<path style=\"fill:none;stroke-width:0.75;stroke-linecap:round;stroke-linejoin:round;stroke:rgb(0%,0%,0%);stroke-opacity:1;stroke-miterlimit:10;\" d=\"M 38.964844 443.726562 L 34.214844 443.726562 \"/>\n",
       "<path style=\"fill:none;stroke-width:0.75;stroke-linecap:round;stroke-linejoin:round;stroke:rgb(0%,0%,0%);stroke-opacity:1;stroke-miterlimit:10;\" d=\"M 38.964844 430.433594 L 34.214844 430.433594 \"/>\n",
       "<path style=\"fill:none;stroke-width:0.75;stroke-linecap:round;stroke-linejoin:round;stroke:rgb(0%,0%,0%);stroke-opacity:1;stroke-miterlimit:10;\" d=\"M 38.964844 417.140625 L 34.214844 417.140625 \"/>\n",
       "<path style=\"fill:none;stroke-width:0.75;stroke-linecap:round;stroke-linejoin:round;stroke:rgb(0%,0%,0%);stroke-opacity:1;stroke-miterlimit:10;\" d=\"M 38.964844 403.847656 L 34.214844 403.847656 \"/>\n",
       "<path style=\"fill:none;stroke-width:0.75;stroke-linecap:round;stroke-linejoin:round;stroke:rgb(0%,0%,0%);stroke-opacity:1;stroke-miterlimit:10;\" d=\"M 38.964844 390.554688 L 34.214844 390.554688 \"/>\n",
       "<path style=\"fill:none;stroke-width:0.75;stroke-linecap:round;stroke-linejoin:round;stroke:rgb(0%,0%,0%);stroke-opacity:1;stroke-miterlimit:10;\" d=\"M 38.964844 377.257812 L 34.214844 377.257812 \"/>\n",
       "<g style=\"fill:rgb(0%,0%,0%);fill-opacity:1;\">\n",
       "  <use xlink:href=\"#glyph1-1\" x=\"27.5625\" y=\"451.511719\"/>\n",
       "  <use xlink:href=\"#glyph1-13\" x=\"27.5625\" y=\"447.063782\"/>\n",
       "  <use xlink:href=\"#glyph1-14\" x=\"27.5625\" y=\"444.839813\"/>\n",
       "  <use xlink:href=\"#glyph1-7\" x=\"27.5625\" y=\"440.391876\"/>\n",
       "</g>\n",
       "<g style=\"fill:rgb(0%,0%,0%);fill-opacity:1;\">\n",
       "  <use xlink:href=\"#glyph1-1\" x=\"27.5625\" y=\"424.925781\"/>\n",
       "  <use xlink:href=\"#glyph1-13\" x=\"27.5625\" y=\"420.477844\"/>\n",
       "  <use xlink:href=\"#glyph1-3\" x=\"27.5625\" y=\"418.253876\"/>\n",
       "  <use xlink:href=\"#glyph1-7\" x=\"27.5625\" y=\"413.805939\"/>\n",
       "</g>\n",
       "<g style=\"fill:rgb(0%,0%,0%);fill-opacity:1;\">\n",
       "  <use xlink:href=\"#glyph1-1\" x=\"27.5625\" y=\"398.339844\"/>\n",
       "  <use xlink:href=\"#glyph1-13\" x=\"27.5625\" y=\"393.891907\"/>\n",
       "  <use xlink:href=\"#glyph1-15\" x=\"27.5625\" y=\"391.667938\"/>\n",
       "  <use xlink:href=\"#glyph1-7\" x=\"27.5625\" y=\"387.220001\"/>\n",
       "</g>\n",
       "<path style=\"fill:none;stroke-width:0.75;stroke-linecap:round;stroke-linejoin:round;stroke:rgb(0%,0%,0%);stroke-opacity:1;stroke-miterlimit:10;\" d=\"M 38.964844 455.53125 L 484.042969 455.53125 L 484.042969 374.964844 L 38.964844 374.964844 L 38.964844 455.53125 \"/>\n",
       "<g style=\"fill:rgb(0%,0%,0%);fill-opacity:1;\">\n",
       "  <use xlink:href=\"#glyph0-9\" x=\"223.714844\" y=\"491.644531\"/>\n",
       "  <use xlink:href=\"#glyph0-10\" x=\"228.602783\" y=\"491.644531\"/>\n",
       "  <use xlink:href=\"#glyph0-11\" x=\"233.05072\" y=\"491.644531\"/>\n",
       "  <use xlink:href=\"#glyph0-12\" x=\"237.93866\" y=\"491.644531\"/>\n",
       "  <use xlink:href=\"#glyph0-10\" x=\"240.602631\" y=\"491.644531\"/>\n",
       "  <use xlink:href=\"#glyph0-10\" x=\"245.050568\" y=\"491.644531\"/>\n",
       "  <use xlink:href=\"#glyph0-13\" x=\"249.498505\" y=\"491.644531\"/>\n",
       "  <use xlink:href=\"#glyph0-14\" x=\"251.722473\" y=\"491.644531\"/>\n",
       "  <use xlink:href=\"#glyph0-15\" x=\"256.17041\" y=\"491.644531\"/>\n",
       "  <use xlink:href=\"#glyph0-13\" x=\"258.394379\" y=\"491.644531\"/>\n",
       "  <use xlink:href=\"#glyph0-16\" x=\"260.618347\" y=\"491.644531\"/>\n",
       "  <use xlink:href=\"#glyph0-14\" x=\"265.506287\" y=\"491.644531\"/>\n",
       "  <use xlink:href=\"#glyph0-17\" x=\"269.954224\" y=\"491.644531\"/>\n",
       "  <use xlink:href=\"#glyph0-18\" x=\"271.730194\" y=\"491.644531\"/>\n",
       "  <use xlink:href=\"#glyph0-19\" x=\"275.730148\" y=\"491.644531\"/>\n",
       "  <use xlink:href=\"#glyph0-14\" x=\"280.178085\" y=\"491.644531\"/>\n",
       "  <use xlink:href=\"#glyph0-20\" x=\"284.626022\" y=\"491.644531\"/>\n",
       "  <use xlink:href=\"#glyph0-21\" x=\"291.289932\" y=\"491.644531\"/>\n",
       "  <use xlink:href=\"#glyph0-22\" x=\"293.065903\" y=\"491.644531\"/>\n",
       "  <use xlink:href=\"#glyph0-17\" x=\"297.51384\" y=\"491.644531\"/>\n",
       "</g>\n",
       "<g style=\"fill:rgb(0%,0%,0%);fill-opacity:1;\">\n",
       "  <use xlink:href=\"#glyph1-16\" x=\"8.554688\" y=\"421.023438\"/>\n",
       "  <use xlink:href=\"#glyph1-17\" x=\"8.554688\" y=\"418.359467\"/>\n",
       "  <use xlink:href=\"#glyph1-18\" x=\"8.554688\" y=\"414.359512\"/>\n",
       "</g>\n",
       "</g>\n",
       "</svg>\n"
      ],
      "text/plain": [
       "plot without title"
      ]
     },
     "metadata": {
      "image/svg+xml": {
       "isolated": true
      }
     },
     "output_type": "display_data"
    }
   ],
   "source": [
    "backward_selection = regsubsets(Y~poly(X, 10), data = XY, method =\"backward\")\n",
    "backward_selection_summary = summary(backward_selection)\n",
    "par(mfrow = c(3,1))\n",
    "plot(backward_selection_summary$cp,type = \"b\", xlab = \"degree of polynomial\" , ylab = \"Cp\")\n",
    "plot(backward_selection_summary$bic,type = \"b\", xlab = \"degree of polynomial\" , ylab = \"bic\")\n",
    "plot(backward_selection_summary$rsq,type = \"b\", xlab = \"degree of polynomial\" , ylab = \"rsq\")"
   ]
  },
  {
   "cell_type": "code",
   "execution_count": 53,
   "metadata": {
    "collapsed": false
   },
   "outputs": [
    {
     "name": "stdout",
     "output_type": "stream",
     "text": [
      "[1] \"Based on Cp, the best model is:\"\n"
     ]
    },
    {
     "data": {
      "text/html": [
       "<dl class=dl-horizontal>\n",
       "\t<dt>(Intercept)</dt>\n",
       "\t\t<dd>4.56470622794346</dd>\n",
       "\t<dt>poly(X, 10)1</dt>\n",
       "\t\t<dd>149.309802114251</dd>\n",
       "\t<dt>poly(X, 10)2</dt>\n",
       "\t\t<dd>38.8087847420602</dd>\n",
       "\t<dt>poly(X, 10)3</dt>\n",
       "\t\t<dd>84.9219405421287</dd>\n",
       "\t<dt>poly(X, 10)4</dt>\n",
       "\t\t<dd>-2.28234848572183</dd>\n",
       "</dl>\n"
      ],
      "text/latex": [
       "\\begin{description*}\n",
       "\\item[(Intercept)] 4.56470622794346\n",
       "\\item[poly(X, 10)1] 149.309802114251\n",
       "\\item[poly(X, 10)2] 38.8087847420602\n",
       "\\item[poly(X, 10)3] 84.9219405421287\n",
       "\\item[poly(X, 10)4] -2.28234848572183\n",
       "\\end{description*}\n"
      ],
      "text/markdown": [
       "(Intercept)\n",
       ":   4.56470622794346poly(X, 10)1\n",
       ":   149.309802114251poly(X, 10)2\n",
       ":   38.8087847420602poly(X, 10)3\n",
       ":   84.9219405421287poly(X, 10)4\n",
       ":   -2.28234848572183\n",
       "\n"
      ],
      "text/plain": [
       " (Intercept) poly(X, 10)1 poly(X, 10)2 poly(X, 10)3 poly(X, 10)4 \n",
       "    4.564706   149.309802    38.808785    84.921941    -2.282348 "
      ]
     },
     "execution_count": 53,
     "metadata": {},
     "output_type": "execute_result"
    },
    {
     "name": "stdout",
     "output_type": "stream",
     "text": [
      "[1] \"Based on BIC, the best model is:\"\n"
     ]
    },
    {
     "data": {
      "text/html": [
       "<dl class=dl-horizontal>\n",
       "\t<dt>(Intercept)</dt>\n",
       "\t\t<dd>4.56470622794346</dd>\n",
       "\t<dt>poly(X, 10)1</dt>\n",
       "\t\t<dd>149.309802114251</dd>\n",
       "\t<dt>poly(X, 10)2</dt>\n",
       "\t\t<dd>38.8087847420602</dd>\n",
       "\t<dt>poly(X, 10)3</dt>\n",
       "\t\t<dd>84.9219405421287</dd>\n",
       "\t<dt>poly(X, 10)4</dt>\n",
       "\t\t<dd>-2.28234848572183</dd>\n",
       "</dl>\n"
      ],
      "text/latex": [
       "\\begin{description*}\n",
       "\\item[(Intercept)] 4.56470622794346\n",
       "\\item[poly(X, 10)1] 149.309802114251\n",
       "\\item[poly(X, 10)2] 38.8087847420602\n",
       "\\item[poly(X, 10)3] 84.9219405421287\n",
       "\\item[poly(X, 10)4] -2.28234848572183\n",
       "\\end{description*}\n"
      ],
      "text/markdown": [
       "(Intercept)\n",
       ":   4.56470622794346poly(X, 10)1\n",
       ":   149.309802114251poly(X, 10)2\n",
       ":   38.8087847420602poly(X, 10)3\n",
       ":   84.9219405421287poly(X, 10)4\n",
       ":   -2.28234848572183\n",
       "\n"
      ],
      "text/plain": [
       " (Intercept) poly(X, 10)1 poly(X, 10)2 poly(X, 10)3 poly(X, 10)4 \n",
       "    4.564706   149.309802    38.808785    84.921941    -2.282348 "
      ]
     },
     "execution_count": 53,
     "metadata": {},
     "output_type": "execute_result"
    },
    {
     "name": "stdout",
     "output_type": "stream",
     "text": [
      "[1] \"Based on R squared, the best model is:\"\n"
     ]
    },
    {
     "data": {
      "text/html": [
       "<dl class=dl-horizontal>\n",
       "\t<dt>(Intercept)</dt>\n",
       "\t\t<dd>4.56470622794346</dd>\n",
       "\t<dt>poly(X, 10)1</dt>\n",
       "\t\t<dd>149.309802114251</dd>\n",
       "\t<dt>poly(X, 10)2</dt>\n",
       "\t\t<dd>38.8087847420602</dd>\n",
       "\t<dt>poly(X, 10)3</dt>\n",
       "\t\t<dd>84.9219405421287</dd>\n",
       "\t<dt>poly(X, 10)4</dt>\n",
       "\t\t<dd>-2.28234848572183</dd>\n",
       "\t<dt>poly(X, 10)5</dt>\n",
       "\t\t<dd>0.457699187806449</dd>\n",
       "\t<dt>poly(X, 10)6</dt>\n",
       "\t\t<dd>1.28566571981932</dd>\n",
       "\t<dt>poly(X, 10)8</dt>\n",
       "\t\t<dd>0.863027733541585</dd>\n",
       "\t<dt>poly(X, 10)10</dt>\n",
       "\t\t<dd>0.149897834460875</dd>\n",
       "</dl>\n"
      ],
      "text/latex": [
       "\\begin{description*}\n",
       "\\item[(Intercept)] 4.56470622794346\n",
       "\\item[poly(X, 10)1] 149.309802114251\n",
       "\\item[poly(X, 10)2] 38.8087847420602\n",
       "\\item[poly(X, 10)3] 84.9219405421287\n",
       "\\item[poly(X, 10)4] -2.28234848572183\n",
       "\\item[poly(X, 10)5] 0.457699187806449\n",
       "\\item[poly(X, 10)6] 1.28566571981932\n",
       "\\item[poly(X, 10)8] 0.863027733541585\n",
       "\\item[poly(X, 10)10] 0.149897834460875\n",
       "\\end{description*}\n"
      ],
      "text/markdown": [
       "(Intercept)\n",
       ":   4.56470622794346poly(X, 10)1\n",
       ":   149.309802114251poly(X, 10)2\n",
       ":   38.8087847420602poly(X, 10)3\n",
       ":   84.9219405421287poly(X, 10)4\n",
       ":   -2.28234848572183poly(X, 10)5\n",
       ":   0.457699187806449poly(X, 10)6\n",
       ":   1.28566571981932poly(X, 10)8\n",
       ":   0.863027733541585poly(X, 10)10\n",
       ":   0.149897834460875\n",
       "\n"
      ],
      "text/plain": [
       "  (Intercept)  poly(X, 10)1  poly(X, 10)2  poly(X, 10)3  poly(X, 10)4 \n",
       "    4.5647062   149.3098021    38.8087847    84.9219405    -2.2823485 \n",
       " poly(X, 10)5  poly(X, 10)6  poly(X, 10)8 poly(X, 10)10 \n",
       "    0.4576992     1.2856657     0.8630277     0.1498978 "
      ]
     },
     "execution_count": 53,
     "metadata": {},
     "output_type": "execute_result"
    }
   ],
   "source": [
    "print(\"Based on Cp, the best model is:\")\n",
    "coef(backward_selection,which.min(backward_selection_summary$cp))\n",
    "print(\"Based on BIC, the best model is:\")\n",
    "\n",
    "coef(backward_selection,which.min(backward_selection_summary$bic))\n",
    "print(\"Based on R squared, the best model is:\")\n",
    "\n",
    "coef(backward_selection,which.max(backward_selection_summary$rsq))"
   ]
  },
  {
   "cell_type": "markdown",
   "metadata": {},
   "source": [
    "All the models based on $R^{2}$, Cp, and BIC seem to conclude the same model types. Both Cp and BIC pick models with a polynomial degree of 4 whereas $R^{2}$ picks a 10th degree polynomial model."
   ]
  }
 ],
 "metadata": {
  "kernelspec": {
   "display_name": "R",
   "language": "R",
   "name": "ir"
  },
  "language_info": {
   "codemirror_mode": "r",
   "file_extension": ".r",
   "mimetype": "text/x-r-source",
   "name": "R",
   "pygments_lexer": "r",
   "version": "3.2.2"
  }
 },
 "nbformat": 4,
 "nbformat_minor": 0
}
